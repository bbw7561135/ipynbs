{
 "cells": [
  {
   "cell_type": "markdown",
   "metadata": {},
   "source": [
    "# Calculate distance and age for G150 using HI velocities"
   ]
  },
  {
   "cell_type": "code",
   "execution_count": 33,
   "metadata": {
    "collapsed": false
   },
   "outputs": [
    {
     "name": "stdout",
     "output_type": "stream",
     "text": [
      "The autoreload extension is already loaded. To reload it, use:\n",
      "  %reload_ext autoreload\n"
     ]
    }
   ],
   "source": [
    "%matplotlib inline\n",
    "import os\n",
    "import matplotlib as mpl\n",
    "import matplotlib.pyplot as plt\n",
    "import numpy as np\n",
    "from pyJam.fermi.SNR_MC.distNsep import *\n",
    "import pyJam.kdistMaster as kd\n",
    "from astropy import units as u\n",
    "from astropy import constants as c\n",
    "from astropy.coordinates import SkyCoord\n",
    "from astropy.coordinates import Angle\n",
    "mpl.style.use('ggplot')\n",
    "from pyJam.utilities.sortNumStrings import atoi, natural_keys\n",
    "\n",
    "%load_ext autoreload\n",
    "%autoreload 2\n",
    "\n",
    "home = os.environ['HOME']\n",
    "desk = os.path.join(home,'Desktop')\n",
    "#os.chdir(os.path.join(home,'Dropbox/CurrentWork/G150/'))"
   ]
  },
  {
   "cell_type": "markdown",
   "metadata": {},
   "source": [
    "## HI, radio, and other properies"
   ]
  },
  {
   "cell_type": "code",
   "execution_count": 6,
   "metadata": {
    "collapsed": true
   },
   "outputs": [],
   "source": [
    "#For Galactic rotation curve, only negative velocities are allowed (why?), so left out 2.9 km/s\n",
    "#Vlsr HI velocties[km/s], all with widths 5 km/s or less, so there is no evidence of line broadening from the SNR shock\n",
    "HIvels = [-44.7, -35.9, -6.9]# left out 2.9] \n",
    "\n",
    "#Radio coords of the SNR\n",
    "lrad = 150.3\n",
    "brad = 4.5\n",
    "\n",
    "#For rotation curve\n",
    "#kidst defaults are r0=8.4e3,v0=2.54e2 from Reid et al., 2009\n",
    "#Reid et al 2014 gives r0=8.34, v0=240\n",
    "R0 = 8.34  # [kpc] distance to center of Galaxy\n",
    "V0 = 240 # [km/s] LSR velocity \n",
    "\n",
    "# 1 GeV-1 TeV fit disk propertie\n",
    "R_gev = 1.40 # My best fit > 1 GeV #1.46 was from ajay's poster #pointlike uniform disk fit radius [deg], +/- 0.03\n",
    "lgev = 150.35\n",
    "bgev = 4.551\n",
    "#Distance Jack listed on the symposium poster\n",
    "jacksDists= [5.5,4,0.6] #kpc\n",
    "jacksSizes = np.array([288, 209,31]) #pc"
   ]
  },
  {
   "cell_type": "markdown",
   "metadata": {},
   "source": [
    "## Use the fit GeV coordinates"
   ]
  },
  {
   "cell_type": "code",
   "execution_count": 34,
   "metadata": {
    "collapsed": false
   },
   "outputs": [
    {
     "name": "stdout",
     "output_type": "stream",
     "text": [
      "HI velocites are [-44.7, -35.9, -6.9] km/s\n",
      "Near distances [ 5.55732525  3.94174137  0.38461266] kpc\n",
      "Far distances [ 5.55732525  3.94174137  0.38461266] kpc \n",
      "\n"
     ]
    }
   ],
   "source": [
    "dist = np.vectorize(kd.kdist) #in kpc\n",
    "dnear = dist(l = lgev, b = bgev, vin = HIvels, near = True,r0 = R0,v0=V0)\n",
    "dfar= dist(l = lgev, b = bgev, vin = HIvels, near = False,r0 = R0,v0=V0)\n",
    "print 'HI velocites are %s km/s' %HIvels\n",
    "print 'Near distances %s kpc' %dnear\n",
    "print 'Far distances %s kpc \\n' %dfar\n"
   ]
  },
  {
   "cell_type": "markdown",
   "metadata": {},
   "source": [
    "## Projected diameter\n",
    "### My numbers are a little different than Jack's. I don't think mine are wrong. If I do it in astropy I get my results"
   ]
  },
  {
   "cell_type": "code",
   "execution_count": 35,
   "metadata": {
    "collapsed": false
   },
   "outputs": [
    {
     "name": "stdout",
     "output_type": "stream",
     "text": [
      "Physical of source in pc: [ 271.58214487  192.62982233   18.79572025]\n",
      "Physical of source (using Jack's dists) in pc : [ 268.78070481  195.47687622   29.32153143]\n",
      "Physical sizes from fermi symp poster in pc: [288 209  31]\n"
     ]
    }
   ],
   "source": [
    "size = np.vectorize(physSep) #diam\n",
    "sizes = size(t=R_gev*2, d=dnear) #t is for theta = angular radius\n",
    "rads = sizes/2.\n",
    "jsizes = size(t=R_gev*2, d=jacksDists) #t is for theta = angular radius, 2* for diameter/size\n",
    "jrads = jsizes/2\n",
    "print 'Physical of source in pc: %s' %sizes\n",
    "print \"Physical of source (using Jack's dists) in pc : %s\" %jsizes\n",
    "print \"Physical sizes from fermi symp poster in pc: %s\" %jacksSizes"
   ]
  },
  {
   "cell_type": "code",
   "execution_count": 9,
   "metadata": {
    "collapsed": false
   },
   "outputs": [
    {
     "data": {
      "text/plain": [
       "0.38461265829770591"
      ]
     },
     "execution_count": 9,
     "metadata": {},
     "output_type": "execute_result"
    }
   ],
   "source": [
    "dFromSizes(18.79572025,R_gev*2)"
   ]
  },
  {
   "cell_type": "markdown",
   "metadata": {},
   "source": [
    "## For SNRs in the LMC, SMC and M33 there is a sharp cutoff in the SNR size distribution above D~60pc, which implies a distance of 1.3 kpc. Use this below"
   ]
  },
  {
   "cell_type": "markdown",
   "metadata": {},
   "source": [
    "## Our closest distances are pretty off and it will make a big difference in the age!"
   ]
  },
  {
   "cell_type": "code",
   "execution_count": 10,
   "metadata": {
    "collapsed": false
   },
   "outputs": [
    {
     "name": "stdout",
     "output_type": "stream",
     "text": [
      "Using 1 GeV fit radius and d = 1.3 kpc, size = 63.5299847726\n",
      "Max distance assuming 60pc diameter and > 1 GeV fit radius (1.4 deg): 1.22776670385 kpc\n",
      "Assuming d=1.22776670385 kpc, and sources seperated by 1.4 deg, diam =  59.9985073858 pc\n"
     ]
    }
   ],
   "source": [
    "dmaxJ = 1.3 #kpc\n",
    "smax = 60 #pc\n",
    "maxSize = physSep(t=R_gev*2, d=1.3)\n",
    "print 'Using 1 GeV fit radius and d = %s kpc, size = %s' %(dmaxJ,maxSize)\n",
    "\n",
    "dmax = dFromSizes(smax,R_gev*2)\n",
    "print 'Max distance assuming 60pc diameter and > 1 GeV fit radius (%s deg): %s kpc' %(R_gev,dmax)\n",
    "\n",
    "#double check my dist calc in astropy\n",
    "#assume dmax, find sep btwn G150 center crds and something at the edge of the fit radius\n",
    "#can I get back 60pc?\n",
    "g150 = SkyCoord(l=150.3*u.degree, b=4.5*u.degree, frame='galactic',distance = dmax*u.kpc)\n",
    "g150_1_4deg = SkyCoord(l=150.3*u.degree, b=5.9*u.degree, frame='galactic',distance = dmax*u.kpc)\n",
    "asep = g150.separation(g150_1_4deg).deg\n",
    "psep = 2*(g150.separation_3d(g150_1_4deg).to(u.pc))\n",
    "\n",
    "print 'Assuming d=%s kpc, and sources seperated by %s deg, diam =  %s' %(dmax,asep,psep)"
   ]
  },
  {
   "cell_type": "markdown",
   "metadata": {},
   "source": [
    "## Use 1.23 as max distance assuming SNR sizes cutoff at 60pc"
   ]
  },
  {
   "cell_type": "markdown",
   "metadata": {},
   "source": [
    "# Sedov-Taylor phase stuff (see section 6 Truelove & McKee 1999)\n",
    "Radius of the expanding shell\n",
    "\n",
    "\\begin{equation} R_{ST} = 0.26 (n_H/cm^{-3})^{-1/5}(t_{ST}/yr)^{2/5} (E_{ST}/4\\times 10^{50} erg)^{1/5} pc = 0.31(E_{51}/n_0)^{1/5}t_{y}^{2/5} pc\\end{equation}\n",
    "\n",
    "In terms of t (this is missing a factor in front)\n",
    "\\begin{equation}t_y = (n_0/E_{51})^{1/2}(R_{ST}/0.31)^{5/2}\\end{equation} \n",
    "\n",
    "Velocity of expanding shell\n",
    "\\begin{equation}v_s = 1.23\\times 10^5(E_{51}/n_0)^{1/5}t_{y}^{2/5} km s^{-1}\\end{equation}\n",
    "\n",
    "Temperature of expanding shell (don't need this right now)\n",
    "\\begin{equation}T_s = 2.09\\times 10^{11} = (E^{51}/n_0)^{2/5}t^{-6/5} K\\end{equation}"
   ]
  },
  {
   "cell_type": "code",
   "execution_count": 11,
   "metadata": {
    "collapsed": true
   },
   "outputs": [],
   "source": [
    "#make this all work with astropy units?\n",
    "def Rst(t,n0=1,E=1e51):\n",
    "    \"\"\"Sedov-Taylor phase SNR radius as \n",
    "       function of time. Is this \n",
    "       Chevalier 1982 or Truelove & McKee 1999? \n",
    "       I think the former? See Reynolds 2008\n",
    "       \n",
    "       n0 = ambient density [ cm^-3]\n",
    "       t = SNR age [yr]\n",
    "       E = SN explosion energy erg\n",
    "       \"\"\"\n",
    "    return 0.314*t**(2/5.)*((E/1.e51)/n0)**(1/5.)\n",
    "\n",
    "def Tst(R,n0=1, E=1e51):\n",
    "    \"\"\"Sedov-Taylor phase SNR \n",
    "        age as function of radius\n",
    "       \n",
    "       n0 = ambient density [ cm^-3]\n",
    "       R = Sedov-Taylor phase SNR radius [pc]. \n",
    "       E = SN explosion energy erg\n",
    "    \"\"\"\n",
    "    return (n0/(E/1e51))**(1/2)*(R/(0.314))**(5/2.)\n"
   ]
  },
  {
   "cell_type": "markdown",
   "metadata": {},
   "source": [
    "## Test Rst and Tst on data for W44 to make sure it's right"
   ]
  },
  {
   "cell_type": "code",
   "execution_count": 12,
   "metadata": {
    "collapsed": false
   },
   "outputs": [
    {
     "name": "stdout",
     "output_type": "stream",
     "text": [
      "Test W44: R = 12.5005651554, T = 9998.86977867\n"
     ]
    }
   ],
   "source": [
    "#This matches Uchiyama 2012 so long as the prefactor is 0.314, bit off if it's just 0.31\n",
    "r_w44 = Rst(t = 1e4, n0 = 2, E = 2e51)\n",
    "t_w44 = Tst(R = 12.5,n0 = 2, E = 2e51)\n",
    "print 'Test W44: R = %s, T = %s' %(r_w44,t_w44)\n"
   ]
  },
  {
   "cell_type": "markdown",
   "metadata": {},
   "source": [
    "## Using physical sizes calucalted above, estimate age if G150 is in ST phase\n",
    "### SN explosion energy = $\\mathrm{10^{51}}$ erg, ambient density  = 1 cm$\\mathrm{^{-3}}$. Any reason they should be different yet?"
   ]
  },
  {
   "cell_type": "code",
   "execution_count": 13,
   "metadata": {
    "collapsed": false
   },
   "outputs": [
    {
     "name": "stdout",
     "output_type": "stream",
     "text": [
      "For n0 = 1 cm^-3, E_0 = 10^51 erg \n",
      "\n",
      "With physical radii in pc [ 135.79107243   96.31491116    9.39786013]\n",
      "Ages in kyr:[ 3889.1431202   1647.81973863     4.90058947]\n",
      "\n",
      "With radii calc'd from Jack's dists in pc [ 134.3903524    97.73843811   14.66076572]\n",
      "Ages in kyr: [ 3789.62390902  1709.38294399    14.89592627]\n",
      "\n",
      "Using radii from poster in pc [ 144.   104.5   15.5]\n",
      "Ages in kyr: [ 4503.831251    2020.53606159    17.1200538 ]\n",
      "\n",
      "Assuming max size of 60 pc (d=1.23kpc), \n",
      "Ages in kyr: 89.223450932\n",
      "\n"
     ]
    }
   ],
   "source": [
    "T = np.vectorize(Tst)\n",
    "R = np.vectorize(Rst)\n",
    "T_g150 = T(R = rads,n0 = 1, E=1e51)\n",
    "jT_g150 = T(R = jrads,n0 = 1, E=1e51)\n",
    "jpostT_g150 = T(R = jacksSizes/2.,n0 = 1, E=1e51)\n",
    "maxD_g150_T = T(R = smax/2.,n0 = 1, E=1e51)\n",
    "print 'For n0 = 1 cm^-3, E_0 = 10^51 erg \\n\\nWith physical radii in pc %s\\nAges in kyr:%s\\n' %(rads,T_g150/1.e3)\n",
    "print \"With radii calc'd from Jack's dists in pc %s\\nAges in kyr: %s\\n\" %(jrads,jT_g150/1.e3)\n",
    "print \"Using radii from poster in pc %s\\nAges in kyr: %s\\n\" %(jacksSizes/2.0,jpostT_g150/1.e3)\n",
    "print \"Assuming max size of 60 pc (d=1.23kpc), \\nAges in kyr: %s\\n\" %(maxD_g150_T/1.e3)"
   ]
  },
  {
   "cell_type": "markdown",
   "metadata": {},
   "source": [
    "## Age of ~5kyr vs. 17kyr makes a big difference!"
   ]
  },
  {
   "cell_type": "markdown",
   "metadata": {},
   "source": [
    "## Assuming typical PSR velocity, about how far offset would a ballastically traveling pulsar be from the center of SNR given estimated age (mine) from above?\n",
    "### Gaensler & Slane  2006: v_psr ~400-500 km/s, but some can have an extreme value of v_psr = 1000 km/s. \n"
   ]
  },
  {
   "cell_type": "code",
   "execution_count": 43,
   "metadata": {
    "collapsed": false
   },
   "outputs": [
    {
     "name": "stdout",
     "output_type": "stream",
     "text": [
      "projected distance of J0426 from the center is 5.63871607642 pc\n",
      "Angular sep of J0426 from a pulsar travelling 1000km/s is 0.014897008266 deg\n"
     ]
    }
   ],
   "source": [
    "# T = np.vectorize(Tst)\n",
    "# T_g150 = T(R = rads,n0 = 1, E=1e51)\n",
    "# angSize\n",
    "# size = np.vectorize(physSep)\n",
    "# jsizes = size(t=R_gev*2, d=jacksDists)\n",
    "print 'Projected distance of J0426 from the center is %s pc' %physSep(0.84,dnear[-1])\n",
    "print 'Angular sep of J0426 from a pulsar travelling 1000km/s is %s deg' %angSize(0.1,dnear[-1])"
   ]
  },
  {
   "cell_type": "code",
   "execution_count": 29,
   "metadata": {
    "collapsed": false
   },
   "outputs": [
    {
     "name": "stdout",
     "output_type": "stream",
     "text": [
      "For v_psr = 1000km/s\n",
      "Projected pulsar distances: [ 3977.47398066  1685.24529251     5.01189246] pc\n",
      "Pulsar angular separation: [ 41.00758226  24.49613856   0.74662203]\n",
      "For ages [ 3889.1431202   1647.81973863     4.90058947] kyr\n",
      "\n",
      "For v_psr = 400km/s\n",
      "Projected pulsar distances: [ 1590.98959227   674.098117       2.00475699] pc\n",
      "Pulsar angular separation: [ 16.4030329    9.79845543   0.29864881]\n",
      "For ages [ 3889.1431202   1647.81973863     4.90058947] kyr\n"
     ]
    }
   ],
   "source": [
    "#psrVs = np.array([400.,500.,1000.])*u.km/u.s\n",
    "psrVs = np.array([1.e3])*u.km/u.s\n",
    "psrDs = psrVs*(T_g150*u.yr)\n",
    "psrDs = psrDs.to(u.pc)\n",
    "angD = np.vectorize(angSize)\n",
    "angDs = angD(s=np.asarray(psrDs),d=dnear)\n",
    "print \"For v_psr = 1000km/s\"\n",
    "print \"Projected pulsar distances: %s\" %psrDs.to(u.pc)\n",
    "print \"Pulsar angular separation: %s\" %angDs\n",
    "print \"For ages %s kyr\\n\" %(T_g150/1e3)\n",
    "\n",
    "psrVs = np.array([400.])*u.km/u.s\n",
    "psrDs = psrVs*(T_g150*u.yr)\n",
    "psrDs = psrDs.to(u.pc)\n",
    "angDs = angD(s=np.asarray(psrDs),d=dnear)\n",
    "print \"For v_psr = 400km/s\"\n",
    "print \"Projected pulsar distances: %s\" %psrDs.to(u.pc)\n",
    "print \"Pulsar angular separation: %s\" %angDs\n",
    "print \"For ages %s kyr\" %(T_g150/1e3)\n"
   ]
  },
  {
   "cell_type": "markdown",
   "metadata": {},
   "source": [
    "## 3FGL J0426 is ~0.84 deg from the center of the SNR. If the PSR was travelling at 1000 km/s, It would be ~0.1 deg away from how far out J0426 is. So it's no impossible that J0426 is the pulsar associated with G150 I guess."
   ]
  }
 ],
 "metadata": {
  "kernelspec": {
   "display_name": "Python 2",
   "language": "python",
   "name": "python2"
  },
  "language_info": {
   "codemirror_mode": {
    "name": "ipython",
    "version": 2
   },
   "file_extension": ".py",
   "mimetype": "text/x-python",
   "name": "python",
   "nbconvert_exporter": "python",
   "pygments_lexer": "ipython2",
   "version": "2.7.11"
  }
 },
 "nbformat": 4,
 "nbformat_minor": 0
}
