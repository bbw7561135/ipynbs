{
 "cells": [
  {
   "cell_type": "markdown",
   "metadata": {},
   "source": [
    "# Calculate distance and age for G150 using HI velocities"
   ]
  },
  {
   "cell_type": "code",
   "execution_count": 1,
   "metadata": {
    "collapsed": false
   },
   "outputs": [],
   "source": [
    "%matplotlib inline\n",
    "import os\n",
    "import matplotlib as mpl\n",
    "import matplotlib.pyplot as plt\n",
    "import numpy as np\n",
    "from pyJam.fermi.SNR_MC.distNsep import *\n",
    "import pyJam.kdistMaster as kd\n",
    "from astropy import units as u\n",
    "from astropy import constants as c\n",
    "from astropy.coordinates import SkyCoord\n",
    "from astropy.coordinates import Angle\n",
    "mpl.style.use('ggplot')\n",
    "from pyJam.utilities.sortNumStrings import atoi, natural_keys\n",
    "from uncertainties import ufloat\n",
    "import uncertainties\n",
    "from uncertainties.umath import *\n",
    "\n",
    "%load_ext autoreload\n",
    "%autoreload 2\n",
    "\n",
    "home = os.environ['HOME']\n",
    "desk = os.path.join(home,'Desktop')\n",
    "#os.chdir(os.path.join(home,'Dropbox/CurrentWork/G150/'))"
   ]
  },
  {
   "cell_type": "markdown",
   "metadata": {},
   "source": [
    "## HI, radio, and other properies"
   ]
  },
  {
   "cell_type": "code",
   "execution_count": 2,
   "metadata": {
    "collapsed": true
   },
   "outputs": [],
   "source": [
    "#For Galactic rotation curve, only negative velocities are allowed (why?), so left out 2.9 km/s\n",
    "#Vlsr HI velocties[km/s], all with widths 5 km/s or less, so there is no evidence of line broadening from the SNR shock\n",
    "HIvels = [-44.7, -35.9, -6.9]# left out 2.9] \n",
    "\n",
    "#Radio coords of the SNR\n",
    "lrad = 150.3\n",
    "brad = 4.5\n",
    "\n",
    "#For rotation curve\n",
    "#kidst defaults are r0=8.4e3,v0=2.54e2 from Reid et al., 2009\n",
    "#Reid et al 2014 gives r0=8.34, v0=240\n",
    "R0 = 8.34  # [kpc] distance to center of Galaxy\n",
    "V0 = 240 # [km/s] LSR velocity \n",
    "\n",
    "# 1 GeV-1 TeV fit disk propertie\n",
    "R_gev = 1.40 # My best fit > 1 GeV #1.46 was from ajay's poster #pointlike uniform disk fit radius [deg], +/- 0.03\n",
    "lgev = 150.35\n",
    "bgev = 4.551\n",
    "#Distance Jack listed on the symposium poster\n",
    "jacksDists= [5.5,4,0.6] #kpc\n",
    "jacksSizes = np.array([288, 209,31]) #pc"
   ]
  },
  {
   "cell_type": "markdown",
   "metadata": {},
   "source": [
    "## Calculate distance\n",
    "### Use the fit GeV coordinates"
   ]
  },
  {
   "cell_type": "code",
   "execution_count": 3,
   "metadata": {
    "collapsed": false
   },
   "outputs": [
    {
     "name": "stdout",
     "output_type": "stream",
     "text": [
      "HI velocites are [-44.7, -35.9, -6.9] km/s\n",
      "Near distances [ 5.55732525  3.94174137  0.38461266] kpc\n",
      "Far distances [ 5.55732525  3.94174137  0.38461266] kpc \n",
      "\n"
     ]
    }
   ],
   "source": [
    "dist = np.vectorize(kd.kdist) #in kpc\n",
    "dnear = dist(l = lgev, b = bgev, vin = HIvels, near = True,r0 = R0,v0=V0)\n",
    "dfar= dist(l = lgev, b = bgev, vin = HIvels, near = False,r0 = R0,v0=V0)\n",
    "print 'HI velocites are %s km/s' %HIvels\n",
    "print 'Near distances %s kpc' %dnear\n",
    "print 'Far distances %s kpc \\n' %dfar\n"
   ]
  },
  {
   "cell_type": "markdown",
   "metadata": {},
   "source": [
    "## Is it possible to use the uncertainties module to propogate uncertainties in kdist?\n",
    "## I think it doesn't work because "
   ]
  },
  {
   "cell_type": "code",
   "execution_count": 5,
   "metadata": {
    "collapsed": false
   },
   "outputs": [],
   "source": [
    "#wrapped_dist = uncertainties.wrap(dist) #can I vectorize this as well?\n",
    "wrapped_dist = uncertainties.wrap(kd.kdist)\n",
    "\n",
    "lgev_unc = ufloat(lgev, 0.03)\n",
    "bgev_unc = ufloat(bgev, 0.03)\n",
    "HIvels_unc = ufloat(HIvels[-1],5) #this was just the width jack mentioned, idk if this will mess things up?\n",
    "R0_unc = ufloat(R0, 0.03)\n",
    "V0_unc = ufloat(V0, 0.03)\n",
    "dist(l = lgev_unc, b = bgev_unc, vin = HIvels_unc, near = False,r0 = R0_unc,v0=V0_unc)\n",
    "\n"
   ]
  },
  {
   "cell_type": "markdown",
   "metadata": {},
   "source": [
    "## Projected diameter\n",
    "### My numbers are a little different than Jack's. I don't think mine are wrong. If I do it in astropy I get my results"
   ]
  },
  {
   "cell_type": "code",
   "execution_count": 9,
   "metadata": {
    "collapsed": false
   },
   "outputs": [
    {
     "name": "stdout",
     "output_type": "stream",
     "text": [
      "Physical diameter of source in pc: [ 271.58214487  192.62982233   18.79572025]\n",
      "Physical diameter of source (using Jack's dists) in pc : [ 268.78070481  195.47687622   29.32153143]\n",
      "Physical sizes from fermi symp poster in pc: [288 209  31]\n"
     ]
    }
   ],
   "source": [
    "size = np.vectorize(physSep) #diam\n",
    "sizes = size(t=R_gev*2, d=dnear) #t is for theta = angular radius\n",
    "rads = sizes/2.\n",
    "jsizes = size(t=R_gev*2, d=jacksDists) #t is for theta = angular radius, 2* for diameter/size\n",
    "jrads = jsizes/2\n",
    "print 'Physical diameter of source in pc: %s' %sizes\n",
    "print \"Physical diameter of source (using Jack's dists) in pc : %s\" %jsizes\n",
    "print \"Physical sizes from fermi symp poster in pc: %s\" %jacksSizes"
   ]
  },
  {
   "cell_type": "code",
   "execution_count": 7,
   "metadata": {
    "collapsed": false
   },
   "outputs": [
    {
     "name": "stdout",
     "output_type": "stream",
     "text": [
      "Perseus radius = 48.8692190558 pc, HII dist. radius = 97.7384381117 pc\n"
     ]
    }
   ],
   "source": [
    "#Perseus cluster is 2 kpc away, HII clouds are at 4kpc\n",
    "#what are the projected radii\n",
    "print 'Perseus radius = %s pc, HII dist. radius = %s pc' %(size(t=R_gev*2, d=2)/2,  size(t=R_gev*2, d=4)/2)"
   ]
  },
  {
   "cell_type": "code",
   "execution_count": 8,
   "metadata": {
    "collapsed": false
   },
   "outputs": [
    {
     "data": {
      "text/plain": [
       "0.38461265829770591"
      ]
     },
     "execution_count": 8,
     "metadata": {},
     "output_type": "execute_result"
    }
   ],
   "source": [
    "#Just double checking I get the same dist for give ang size and phys radius\n",
    "dFromSizes(18.79572025,R_gev*2)"
   ]
  },
  {
   "cell_type": "markdown",
   "metadata": {},
   "source": [
    "## For SNRs in the LMC, SMC and M33 there is a sharp cutoff in the SNR size distribution above D~60pc, which implies a distance of 1.3 kpc. Use this below"
   ]
  },
  {
   "cell_type": "markdown",
   "metadata": {},
   "source": [
    "## Our closest distances are pretty off and it will make a big difference in the age!"
   ]
  },
  {
   "cell_type": "code",
   "execution_count": 10,
   "metadata": {
    "collapsed": false
   },
   "outputs": [
    {
     "name": "stdout",
     "output_type": "stream",
     "text": [
      "Using 1 GeV fit radius and d = 1.3 kpc, size = 63.5299847726\n",
      "Max distance assuming 60pc diameter and > 1 GeV fit radius (1.4 deg): 1.22776670385 kpc\n",
      "Assuming d=1.22776670385 kpc, and sources seperated by 1.4 deg, diam =  59.9985073858 pc\n"
     ]
    }
   ],
   "source": [
    "dmaxJ = 1.3 #kpc, this is the number Jack quoted\n",
    "smax = 60 #pc\n",
    "maxSize = physSep(t=R_gev*2, d=1.3)\n",
    "print 'Using 1 GeV fit radius and d = %s kpc, size = %s' %(dmaxJ,maxSize)\n",
    "\n",
    "dmax = dFromSizes(smax,R_gev*2)\n",
    "print 'Max distance assuming 60pc diameter and > 1 GeV fit radius (%s deg): %s kpc' %(R_gev,dmax)\n",
    "\n",
    "#double check my dist calc in astropy\n",
    "#assume dmax, find sep btwn G150 center crds and something at the edge of the fit radius\n",
    "#can I get back 60pc?\n",
    "g150 = SkyCoord(l=150.3*u.degree, b=4.5*u.degree, frame='galactic',distance = dmax*u.kpc)\n",
    "g150_1_4deg = SkyCoord(l=150.3*u.degree, b=5.9*u.degree, frame='galactic',distance = dmax*u.kpc)\n",
    "asepMax = g150.separation(g150_1_4deg).deg\n",
    "psepMax = 2*(g150.separation_3d(g150_1_4deg).to(u.pc))\n",
    "\n",
    "print 'Assuming d=%s kpc, and sources seperated by %s deg, diam =  %s' %(dmax,asepMax,psepMax)"
   ]
  },
  {
   "cell_type": "markdown",
   "metadata": {},
   "source": [
    "## Use 1.22 as max distance assuming SNR sizes cutoff at 60pc"
   ]
  },
  {
   "cell_type": "markdown",
   "metadata": {},
   "source": [
    "# Sedov-Taylor phase stuff (see section 6 Truelove & McKee 1999)\n",
    "Radius of the expanding shell\n",
    "\n",
    "\\begin{equation} R_{ST} = 0.26 (n_H/cm^{-3})^{-1/5}(t_{ST}/yr)^{2/5} (E_{ST}/4\\times 10^{50} erg)^{1/5} pc = 0.31(E_{51}/n_0)^{1/5}t_{y}^{2/5} pc\\end{equation}\n",
    "\n",
    "In terms of t (this is missing a factor in front)\n",
    "\\begin{equation}t_y = (n_0/E_{51})^{1/2}(R_{ST}/0.31)^{5/2}\\end{equation} \n",
    "\n",
    "Velocity of expanding shell\n",
    "\\begin{equation}v_s = 1.23\\times 10^5(E_{51}/n_0)^{1/5}t_{y}^{2/5} km s^{-1}\\end{equation}\n",
    "\n",
    "Temperature of expanding shell (don't need this right now)\n",
    "\\begin{equation}T_s = 2.09\\times 10^{11} = (E^{51}/n_0)^{2/5}t^{-6/5} K\\end{equation}"
   ]
  },
  {
   "cell_type": "code",
   "execution_count": 11,
   "metadata": {
    "collapsed": true
   },
   "outputs": [],
   "source": [
    "#make this all work with astropy units?\n",
    "def Rst(t,n0=1,E=1e51):\n",
    "    \"\"\"Sedov-Taylor phase SNR radius as \n",
    "       function of time. Is this \n",
    "       Chevalier 1982 or Truelove & McKee 1999? \n",
    "       I think the former? See Reynolds 2008\n",
    "       \n",
    "       n0 = ambient density [ cm^-3]\n",
    "       t = SNR age [yr]\n",
    "       E = SN explosion energy erg\n",
    "       \"\"\"\n",
    "    return 0.314*t**(2/5.)*((E/1.e51)/n0)**(1/5.)\n",
    "\n",
    "def Tst(R,n0=1, E=1e51):\n",
    "    \"\"\"Sedov-Taylor phase SNR \n",
    "        age as function of radius\n",
    "       \n",
    "       n0 = ambient density [ cm^-3]\n",
    "       R = Sedov-Taylor phase SNR radius [pc]. \n",
    "       E = SN explosion energy erg\n",
    "    \"\"\"\n",
    "    return (n0/(E/1e51))**(1/2.)*(R/(0.314))**(5/2.)\n"
   ]
  },
  {
   "cell_type": "code",
   "execution_count": 31,
   "metadata": {
    "collapsed": true
   },
   "outputs": [],
   "source": [
    "# def Ru(t,n0=1,E=1e51):\n",
    "#     \"\"\"test other version to see if I'm missing mu: umd\"\"\"\n",
    "    \n",
    "#     return 12.4*((E/1e51)/n0)**(1/5.)*(t/1e4)**(2/5.) #[pc]\n",
    "\n",
    "# def Rj(t,n0=1,E=1e51):\n",
    "#     \"\"\"test other version to see if I'm missing mu:jack\"\"\"\n",
    "    \n",
    "#     return (2.025*((E/1e51)*t**2.)/n0)**(1/5.) #[pc]"
   ]
  },
  {
   "cell_type": "code",
   "execution_count": 32,
   "metadata": {
    "collapsed": false
   },
   "outputs": [
    {
     "name": "stdout",
     "output_type": "stream",
     "text": [
      "Ru = 12.4, Rj = 45724.0777528\n"
     ]
    }
   ],
   "source": [
    "# ru = Ru(t = 1e4, n0 = 2, E = 2e51)\n",
    "# rj = Rj(t = 1e4*np.pi*1e7, n0 = 2, E = 2e51)\n",
    "# print 'Ru = %s, Rj = %s' %(ru,rj)"
   ]
  },
  {
   "cell_type": "markdown",
   "metadata": {},
   "source": [
    "## Test Rst and Tst on data for W44 to make sure it's right"
   ]
  },
  {
   "cell_type": "code",
   "execution_count": 12,
   "metadata": {
    "collapsed": false
   },
   "outputs": [
    {
     "name": "stdout",
     "output_type": "stream",
     "text": [
      "Test W44: R = 12.5005651554, T = 9998.86977867\n"
     ]
    }
   ],
   "source": [
    "#This matches Uchiyama 2012 so long as the prefactor is 0.314, bit off if it's just 0.31\n",
    "r_w44 = Rst(t = 1e4, n0 = 2., E = 2e51)\n",
    "t_w44 = Tst(R = 12.5,n0 = 2., E = 2e51)\n",
    "print 'Test W44: R = %s, T = %s' %(r_w44,t_w44)\n"
   ]
  },
  {
   "cell_type": "markdown",
   "metadata": {},
   "source": [
    "## This is all from using n = 1/cm^3"
   ]
  },
  {
   "cell_type": "code",
   "execution_count": 13,
   "metadata": {
    "collapsed": false
   },
   "outputs": [
    {
     "name": "stdout",
     "output_type": "stream",
     "text": [
      "For n0 = 1.0 cm^-3, E_0 = 10^51 erg \n",
      "\n",
      "With physical radii in pc [ 135.79107243   96.31491116    9.39786013]\n",
      "Ages in kyr:[ 3889.1431202   1647.81973863     4.90058947]\n",
      "\n",
      "With radii calc'd from Jack's dists in pc [ 134.3903524    97.73843811   14.66076572]\n",
      "Ages in kyr: [ 3789.62390902  1709.38294399    14.89592627]\n",
      "\n",
      "Using radii from poster in pc [ 144.   104.5   15.5]\n",
      "Ages in kyr: [ 4503.831251    2020.53606159    17.1200538 ]\n",
      "\n",
      "Assuming max size of 60 pc (d=1.23kpc), \n",
      "Ages in kyr: 89.223450932\n",
      "\n"
     ]
    }
   ],
   "source": [
    "n = 1.\n",
    "T = np.vectorize(Tst)\n",
    "R = np.vectorize(Rst)\n",
    "T_g150 = T(R = rads,n0 = n, E=1e51)\n",
    "jT_g150 = T(R = jrads,n0 = n, E=1e51)\n",
    "jpostT_g150 = T(R = jacksSizes/2.,n0 = n, E=1e51)\n",
    "maxD_g150_T = T(R = smax/2.,n0 = n, E=1e51)\n",
    "print 'For n0 = %s cm^-3, E_0 = 10^51 erg \\n\\nWith physical radii in pc %s\\nAges in kyr:%s\\n' %(n,rads,T_g150/1.e3)\n",
    "print \"With radii calc'd from Jack's dists in pc %s\\nAges in kyr: %s\\n\" %(jrads,jT_g150/1.e3)\n",
    "print \"Using radii from poster in pc %s\\nAges in kyr: %s\\n\" %(jacksSizes/2.0,jpostT_g150/1.e3)\n",
    "print \"Assuming max size of 60 pc (d=1.23kpc), \\nAges in kyr: %s\\n\" %(maxD_g150_T/1.e3)"
   ]
  },
  {
   "cell_type": "markdown",
   "metadata": {},
   "source": [
    "# Redo the age calc using the upper density limit Dan derived"
   ]
  },
  {
   "cell_type": "markdown",
   "metadata": {},
   "source": [
    "## Using physical sizes calucalted above, estimate age if G150 is in ST phase\n",
    "### SN explosion energy = $\\mathrm{10^{51}}$ erg\n",
    "\n",
    "### ROSAT  thermal X-ray UL on  emitting density: nEmit = 0.02 (d/1kpc)^(-0.5) cm^-3 "
   ]
  },
  {
   "cell_type": "code",
   "execution_count": 15,
   "metadata": {
    "collapsed": true
   },
   "outputs": [],
   "source": [
    "# n scales with distance \n",
    "# should I vectorize n as well?\n",
    "\n",
    "def nEmit(d):\n",
    "    \"\"\"Max X-ray emitting density \n",
    "       d: dist in kpc\n",
    "    \"\"\"\n",
    "    return 0.02*d**(-0.5)\n"
   ]
  },
  {
   "cell_type": "code",
   "execution_count": 19,
   "metadata": {
    "collapsed": true
   },
   "outputs": [],
   "source": [
    "# Get d assuming n\n",
    "def dEmit(n):\n",
    "    return (n/0.02)**-2"
   ]
  },
  {
   "cell_type": "code",
   "execution_count": 24,
   "metadata": {
    "collapsed": false
   },
   "outputs": [
    {
     "data": {
      "text/plain": [
       "0.04"
      ]
     },
     "execution_count": 24,
     "metadata": {},
     "output_type": "execute_result"
    }
   ],
   "source": [
    "dEmit(0.1)"
   ]
  },
  {
   "cell_type": "code",
   "execution_count": 16,
   "metadata": {
    "collapsed": false
   },
   "outputs": [
    {
     "name": "stdout",
     "output_type": "stream",
     "text": [
      "Max nH from maxD:  nEmit = 0.01805, nH = nEmit/4 = 0.00451, for d = 1.22777\n",
      "Max nH from bestD: nEmit = 0.03225, nH = nEmit/4 = 0.00806, for d = 0.38461\n"
     ]
    }
   ],
   "source": [
    "#using just the best and max distance\n",
    "nEbest = nEmit(dnear[-1])*u.cm**(-3)\n",
    "nEmax = nEmit(dmax)*u.cm**(-3)\n",
    "nHmax = nEmax/4.\n",
    "nHbest = nEbest/4.\n",
    "print \"Max nH from maxD:  nEmit = %0.5f, nH = nEmit/4 = %0.5f, for d = %0.5f\" %(nEmax.value,nHmax.value,dmax)\n",
    "print \"Max nH from bestD: nEmit = %0.5f, nH = nEmit/4 = %0.5f, for d = %0.5f\" %(nEbest.value,nHbest.value,dnear[-1])"
   ]
  },
  {
   "cell_type": "markdown",
   "metadata": {},
   "source": [
    "# For nHbest"
   ]
  },
  {
   "cell_type": "code",
   "execution_count": 17,
   "metadata": {
    "collapsed": false
   },
   "outputs": [
    {
     "name": "stdout",
     "output_type": "stream",
     "text": [
      "For max d =1.22kpc (s=60pc),   nH = 0.00451 Ages in kyr: 5.99356\n",
      "\n",
      "For max d =1.22kpc (s=60pc),   Rounded nH = 0.00500 Ages in kyr: 6.30905\n",
      "\n",
      "For best d =0.38kpc (s=19pc),  nH = 0.00806 Ages in kyr: 0.44003\n",
      "\n",
      "For best d =0.38kpc (s=19pc),  Rounded nH = 0.01000 Ages in kyr: 0.49006\n",
      "\n",
      "For typical young SNR density at d = 0.38kpc, nH = 0.10000 Ages in kyr: 1.54970\n",
      "\n",
      "For typical young SNR density at d = 1.22kpc, nH = 0.10000 Ages in kyr: 28.21493\n",
      "\n",
      "For best d =1.22kpc (s=60pc),  nH = 0.00806 Ages in kyr: 8.01139\n",
      "\n"
     ]
    }
   ],
   "source": [
    "#for nHmax, Rst = smax/2., d = dmax\n",
    "T = np.vectorize(Tst)\n",
    "Tmax = T(R = smax/2.,n0 = nHmax.value, E=1e51)\n",
    "\n",
    "#for nHbmax Rounding!, Rst = smax/2., d = dmax\n",
    "nHmaxR = np.round(nHmax.value,3)\n",
    "TmaxR = T(R = smax/2,n0 = nHmaxR, E=1e51)\n",
    "\n",
    "\n",
    "#for nHbest, Rst = rads[-1], d = dnear[-1]\n",
    "Tbest = T(R = rads[-1],n0 = nHbest.value, E=1e51)\n",
    "\n",
    "#for nHbest Rounding!, Rst = rads[-1], d = dnear[-1]\n",
    "nHbestR = np.round(nHbest.value,2)\n",
    "TbestR = T(R = rads[-1],n0 = nHbestR, E=1e51)\n",
    "\n",
    "#if density was typical of younger rems, n = 0.1\n",
    "Tp1 = T(R = rads[-1],n0 = 0.1, E=1e51)\n",
    "Tp1_max = T(R = smax/2,n0 = 0.1, E=1e51)\n",
    "\n",
    "print \"For max d =1.22kpc (s=60pc),   nH = %0.5f Ages in kyr: %0.5f\\n\" %(nHmax.value,Tmax/1.e3)\n",
    "print \"For max d =1.22kpc (s=60pc),   Rounded nH = %0.5f Ages in kyr: %0.5f\\n\" %(nHmaxR,TmaxR/1.e3)\n",
    "print \"For best d =0.38kpc (s=19pc),  nH = %0.5f Ages in kyr: %0.5f\\n\" %(nHbest.value,Tbest/1.e3)\n",
    "print \"For best d =0.38kpc (s=19pc),  Rounded nH = %0.5f Ages in kyr: %0.5f\\n\" %(nHbestR,TbestR/1.e3)\n",
    "print \"For typical young SNR density at d = 0.38kpc, nH = %0.5f Ages in kyr: %0.5f\\n\" %(0.1,Tp1/1.e3)\n",
    "print \"For typical young SNR density at d = 1.22kpc, nH = %0.5f Ages in kyr: %0.5f\\n\" %(0.1,Tp1_max/1.e3)\n",
    "\n",
    "#and if I mix best nHbest with Tmax\n",
    "TmaxMix = T(R = smax/2,n0 = nHbest.value, E=1e51)\n",
    "print \"For best d =1.22kpc (s=60pc),  nH = %0.5f Ages in kyr: %0.5f\\n\" %(nHbest.value,TmaxMix/1.e3)"
   ]
  },
  {
   "cell_type": "markdown",
   "metadata": {},
   "source": [
    "#  Since the X-ray density estimate implies a young Sedove age, I should also calculate the age of ST onset (when the SNR left the free expansion phase\n",
    "\n",
    "## Free Expansion Phase (after explosion, prior to ST)\n",
    "http://astro.berkeley.edu/~ay216/05/NOTES/Lecture11.pdf,  From that ISM book, ISM notes too,  Slane et al 2010, Truelove & McKee 1999\n",
    "\n",
    "\n",
    "ST phase starts when swept up mass = ejecta mass, $R \\propto t$\n",
    "\\begin{equation}M_{su} = 4\\pi /3 R^3 \\rho = 0.145n_0R^3_{pc} M_{\\odot}\\end{equation}\n",
    "\\begin{equation} R_{ST_0} = (3M_{ej}/4\\pi \\rho)^{1/3} = 1.9(M_{ej}/n_0)^{1/3} pc \\end{equation}\n",
    "\n",
    "ISM book says typical SNIa $M_{ej}$ =0.25 M_sol, v = 2e4 km/s, but it also says the ambient density is n = 1 cm^-3. "
   ]
  },
  {
   "cell_type": "code",
   "execution_count": 145,
   "metadata": {
    "collapsed": false
   },
   "outputs": [
    {
     "data": {
      "text/plain": [
       "1.9034610713106543"
      ]
     },
     "execution_count": 145,
     "metadata": {},
     "output_type": "execute_result"
    }
   ],
   "source": [
    "(1/0.145)**(1/3.)"
   ]
  },
  {
   "cell_type": "code",
   "execution_count": 148,
   "metadata": {
    "collapsed": false
   },
   "outputs": [],
   "source": [
    "def t_on(E,n,u):\n",
    "    \"\"\"Age in years of ST onset, when the swept up mass == ejecta mass\n",
    "       E: SN energy in 1e51 erg\n",
    "       n: ambient density in cm^-3\n",
    "       u: shock velocity before ST phase in 1e9 cm/s = 1e4km/s\n",
    "       from Cardillo thesis\n",
    "    \"\"\"\n",
    "    Esn = E/(1e51)\n",
    "    v = u/(1e9)\n",
    "    return 200*(Esn/(n*v**5.))**(1/3.)\n",
    "\n",
    "def R_on(M = 1, n=1):\n",
    "    f = (1/0.145)**(1/3.)\n",
    "    return f*(M/n)**(1/3.)*u.pc\n",
    "\n",
    "def t_s(M,n,v,mu = 1.4):\n",
    "    M = M.to(u.kg)\n",
    "    n = n.to(u.cm**(-3))\n",
    "    v = v.to(u.cm/u.s)\n",
    "    dom = 4*np.pi*v**3*n*mu*c.m_p\n",
    "    return (3*M/dom)**(1/3.)\n",
    "\n",
    "#def rshock(E,):"
   ]
  },
  {
   "cell_type": "code",
   "execution_count": 150,
   "metadata": {
    "collapsed": false
   },
   "outputs": [
    {
     "name": "stdout",
     "output_type": "stream",
     "text": [
      "1.90346107131 pc 10000.0 km / s 186.118942979 yr\n"
     ]
    }
   ],
   "source": [
    "#Check on W44\n",
    "#it's a bit off, paper has 129\n",
    "rw44 = R_on(2,2).to(u.cm)\n",
    "vw44 = 1e4*(u.km/u.s)\n",
    "tw44 = rw44/vw44\n",
    "#print t.to(u.yr)\n",
    "print rw44.to(u.pc), vw44, tw44.to(u.yr)"
   ]
  },
  {
   "cell_type": "code",
   "execution_count": 139,
   "metadata": {
    "collapsed": false,
    "scrolled": true
   },
   "outputs": [
    {
     "name": "stdout",
     "output_type": "stream",
     "text": [
      "186.170175476 yr\n"
     ]
    }
   ],
   "source": [
    "Etst =2e51*u.erg\n",
    "ntst = 1*u.cm**(-3)\n",
    "vtst = 1.e4*u.km/u.s#1e9*u.cm/u.s\n",
    "Mtst=1*u.Msun\n",
    "ttst = t_s(Mtst,ntst,vtst)\n",
    "print ttst.to(u.yr)\n"
   ]
  },
  {
   "cell_type": "code",
   "execution_count": 100,
   "metadata": {
    "collapsed": false
   },
   "outputs": [
    {
     "data": {
      "text/plain": [
       "200.0"
      ]
     },
     "execution_count": 100,
     "metadata": {},
     "output_type": "execute_result"
    }
   ],
   "source": [
    "E =2e51*u.erg\n",
    "n = 2*u.cm**(-3)\n",
    "v = 1e9*u.cm/u.s\n",
    "t_on(E.value,n.value,v.value)\n",
    "#print v.to(u.km/u.s)"
   ]
  },
  {
   "cell_type": "code",
   "execution_count": 143,
   "metadata": {
    "collapsed": false
   },
   "outputs": [
    {
     "name": "stdout",
     "output_type": "stream",
     "text": [
      "309.48251267 yr\n"
     ]
    }
   ],
   "source": [
    "#for small nh\n",
    "tG150 = t_s(Mtst,nHbest,3*vtst)\n",
    "#vG150 = 1e4*(u.km/u.s)\n",
    "\n",
    "print  tG150.to(u.yr)"
   ]
  },
  {
   "cell_type": "code",
   "execution_count": null,
   "metadata": {
    "collapsed": true
   },
   "outputs": [],
   "source": [
    "#what I really want is to calculate vs"
   ]
  },
  {
   "cell_type": "markdown",
   "metadata": {},
   "source": [
    "## Assuming typical PSR velocity, about how far offset would a ballastically traveling pulsar be from the center of SNR given estimated age (mine) from above?\n",
    "### Gaensler & Slane  2006: v_psr ~400-500 km/s, but some can have an extreme value of v_psr = 1000 km/s. \n"
   ]
  },
  {
   "cell_type": "code",
   "execution_count": 33,
   "metadata": {
    "collapsed": false
   },
   "outputs": [
    {
     "name": "stdout",
     "output_type": "stream",
     "text": [
      "Projected distance of J0426 from the center is 5.63871607642 pc\n",
      "Angular sep of J0426 from a pulsar travelling 1000km/s is 0.014897008266 deg\n",
      "The velocity of J0426 if it was traveling ballistically from the center of the SNR is\n",
      " [    1.41766259     3.34593196  1125.06725122] km / s\n"
     ]
    }
   ],
   "source": [
    "# T = np.vectorize(Tst)\n",
    "# T_g150 = T(R = rads,n0 = 1, E=1e51)\n",
    "# angSize\n",
    "# size = np.vectorize(physSep)\n",
    "# jsizes = size(t=R_gev*2, d=jacksDists)\n",
    "J0426_d = physSep(0.84,dnear[-1])*u.pc\n",
    "print 'Projected distance of J0426 from the center is %s' %J0426pc\n",
    "print 'Angular sep of J0426 from a pulsar travelling 1000km/s is %s deg' %angSize(0.1,dnear[-1])\n",
    "\n",
    "J0426_v = J0426pc.to(u.km)/((T_g150*u.yr).to(u.s))\n",
    "print 'The velocity of J0426 if it was traveling ballistically from the center of the SNR is\\n %s' %J0426_v"
   ]
  },
  {
   "cell_type": "code",
   "execution_count": 10,
   "metadata": {
    "collapsed": false
   },
   "outputs": [
    {
     "name": "stdout",
     "output_type": "stream",
     "text": [
      "For v_psr = 1000km/s\n",
      "Projected pulsar distances: [ 3977.47398066  1685.24529251     5.01189246] pc\n",
      "Pulsar angular separation: [ 41.00758226  24.49613856   0.74662203]\n",
      "For ages [ 3889.1431202   1647.81973863     4.90058947] kyr\n",
      "\n",
      "For v_psr = 400km/s\n",
      "Projected pulsar distances: [ 1590.98959227   674.098117       2.00475699] pc\n",
      "Pulsar angular separation: [ 16.4030329    9.79845543   0.29864881]\n",
      "For ages [ 3889.1431202   1647.81973863     4.90058947] kyr\n"
     ]
    }
   ],
   "source": [
    "#psrVs = np.array([400.,500.,1000.])*u.km/u.s\n",
    "psrVs = np.array([1.e3])*u.km/u.s\n",
    "psrDs = psrVs*(T_g150*u.yr)\n",
    "psrDs = psrDs.to(u.pc)\n",
    "angD = np.vectorize(angSize)\n",
    "angDs = angD(s=np.asarray(psrDs),d=dnear)\n",
    "print \"For v_psr = 1000km/s\"\n",
    "print \"Projected pulsar distances: %s\" %psrDs.to(u.pc)\n",
    "print \"Pulsar angular separation: %s\" %angDs\n",
    "print \"For ages %s kyr\\n\" %(T_g150/1e3)\n",
    "\n",
    "psrVs = np.array([400.])*u.km/u.s\n",
    "psrDs = psrVs*(T_g150*u.yr)\n",
    "psrDs = psrDs.to(u.pc)\n",
    "angDs = angD(s=np.asarray(psrDs),d=dnear)\n",
    "print \"For v_psr = 400km/s\"\n",
    "print \"Projected pulsar distances: %s\" %psrDs.to(u.pc)\n",
    "print \"Pulsar angular separation: %s\" %angDs\n",
    "print \"For ages %s kyr\" %(T_g150/1e3)\n"
   ]
  },
  {
   "cell_type": "markdown",
   "metadata": {},
   "source": [
    "## 3FGL J0426 is ~0.84 deg from the center of the SNR. If the PSR was travelling at 1000 km/s, It would be ~0.1 deg away from how far out J0426 is. So it's no impossible that J0426 is the pulsar associated with G150 I guess."
   ]
  }
 ],
 "metadata": {
  "kernelspec": {
   "display_name": "Python 2",
   "language": "python",
   "name": "python2"
  },
  "language_info": {
   "codemirror_mode": {
    "name": "ipython",
    "version": 2
   },
   "file_extension": ".py",
   "mimetype": "text/x-python",
   "name": "python",
   "nbconvert_exporter": "python",
   "pygments_lexer": "ipython2",
   "version": "2.7.11"
  }
 },
 "nbformat": 4,
 "nbformat_minor": 0
}
