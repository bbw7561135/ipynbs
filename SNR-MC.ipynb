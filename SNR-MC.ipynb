{
 "cells": [
  {
   "cell_type": "markdown",
   "metadata": {
    "collapsed": true
   },
   "source": [
    "# Search for GeV illuminated clouds near SNRs"
   ]
  },
  {
   "cell_type": "code",
   "execution_count": 1,
   "metadata": {
    "collapsed": false
   },
   "outputs": [
    {
     "name": "stderr",
     "output_type": "stream",
     "text": [
      "/Users/elunejava/anaconda/lib/python2.7/site-packages/IPython/kernel/__init__.py:13: ShimWarning: The `IPython.kernel` package has been deprecated. You should import from ipykernel or jupyter_client instead.\n",
      "  \"You should import from ipykernel or jupyter_client instead.\", ShimWarning)\n"
     ]
    }
   ],
   "source": [
    "import pyJam.fermi.SNR_MC.coGevOverlap as cogev\n",
    "import pandas as pd\n",
    "from pandas.io.json import json_normalize\n",
    "import os, sys, re\n",
    "import fnmatch\n",
    "from glob import glob\n",
    "import operator\n",
    "import astropy.io.fits as pyfits\n",
    "from astropy import units as u\n",
    "from astropy import constants as c\n",
    "from astropy.coordinates import SkyCoord\n",
    "from astropy import wcs\n",
    "from astropy.table import Table\n",
    "from astropy.io import ascii\n",
    "import numpy as np\n",
    "import yaml\n",
    "from collections import defaultdict, OrderedDict\n",
    "import pyJam.utilities.saveResults as sv\n",
    "from pyJam.fermi.SNR_MC import distNsep as sep\n",
    "#from skymaps import SkyImage,SkyDir #skymaps only works if I run at SLAC, maybe modify findPeak to use astropy instead\n",
    "#from uw.like.roi_analysis import ROIAnalysis #pointlike stuff only works at SLAC. Don't need them if I have the yaml?\n",
    "#from uw.like.roi_state import PointlikeState #pointlike stuff only works at SLAC. Don't need them if I have the yaml?\n",
    "from lande.utilities.tools import tolist\n"
   ]
  },
  {
   "cell_type": "code",
   "execution_count": 10,
   "metadata": {
    "collapsed": true
   },
   "outputs": [],
   "source": [
    "#reload(cogev)\n",
    "%load_ext autoreload\n",
    "#%aimport cg\n",
    "%autoreload 2"
   ]
  },
  {
   "cell_type": "code",
   "execution_count": 287,
   "metadata": {
    "collapsed": true
   },
   "outputs": [],
   "source": [
    "#Should I just make an assocGeVCO object and get the files from there to play with\n",
    "#on my computer\n",
    "#baseNbyDir = '/Users/jmcohen/Desktop/cur/nbyMaps/P7rep5year3FGL_fixedDiff/3fgl/' #where all the nbyMaps are\n",
    "#ptlkBaseDir = '/Users/jmcohen/Desktop/cur/P7rep/3degAdd_fixedDiff/' #where all the pointlike results are\n",
    "baseNbyDir = '/Users/jmcohen/Desktop/cur/nbyMaps/P7rep5year3FGL/3fgl/' #where all the nbyMaps are\n",
    "ptlkBaseDir = '/Users/jmcohen/Desktop/cur/P7rep/' #where all the pointlike results are #maybe this is the non 3deg fixed version?\n",
    "FGLCat = '/Users/jmcohen/Dropbox/Catalogs/3FGL/3FGL-v13r3_v6r7p1_3lacv11p9_v3.fits' #the version of 3FGL I used to determine the candiate 3FGL MCs\n",
    "vel = 5\n",
    "energyDir = '1gevTo316gev'\n",
    "#at SLAC\n",
    "# baseNbyDir = '/afs/slac/g/glast/users/jmcohen/diffusionStudy/nearbySources/P7rep5year3FGL_fixedDiff/3fgl/'\n",
    "# ptlkBaseDir = '/afs/slac/g/glast/users/jmcohen/P7rep/3degAdd_fixedDiff/'\n",
    "# FGLCat = '/afs/slac/g/glast/users/jmcohen/st_files/3FGL/3FGL-v13r3_v6r7p1_3lacv11p9_v3.fits'"
   ]
  },
  {
   "cell_type": "code",
   "execution_count": 288,
   "metadata": {
    "collapsed": false
   },
   "outputs": [],
   "source": [
    "#have to choose a velocity\n",
    "#All the 3FGL stuff in coGeV.py is specific to the internal 3FGL cat\n",
    "#do I need to make changes to it?\n",
    "cg = cogev.assocGeVCO(baseNbyDir = baseNbyDir,\n",
    "                      ptlkBaseDir = ptlkBaseDir,\n",
    "                      FGLCat = FGLCat,\n",
    "                      vel = 5)"
   ]
  },
  {
   "cell_type": "code",
   "execution_count": 289,
   "metadata": {
    "collapsed": false
   },
   "outputs": [
    {
     "data": {
      "text/plain": [
       "['SNR089.0+04.7',\n",
       " 'SNR127.1+00.5',\n",
       " 'SNR027.8+00.6',\n",
       " 'SNR049.2-00.7',\n",
       " 'SNR006.4-00.1',\n",
       " 'SNR189.1+03.0',\n",
       " 'SNR034.7-00.4',\n",
       " 'SNR132.7+01.3',\n",
       " 'SNR073.9+00.9',\n",
       " 'SNR205.5+00.5']"
      ]
     },
     "execution_count": 289,
     "metadata": {},
     "output_type": "execute_result"
    }
   ],
   "source": [
    "cg.nbyInfo.keys()"
   ]
  },
  {
   "cell_type": "markdown",
   "metadata": {},
   "source": [
    "# Get 3FGL\n",
    "### check if the version I use previously is the same as the current version of the catalog"
   ]
  },
  {
   "cell_type": "code",
   "execution_count": 8,
   "metadata": {
    "collapsed": false,
    "scrolled": true
   },
   "outputs": [],
   "source": [
    "#Don't use this to get 3FGL cat\n",
    "#fgl3 = cg.getLAT() #getLAT contains more than just 3FGL, it combines my \n",
    "#fgl3OldDF = pd.DataFrame.from_dict(fgl3)\n",
    "#fgl3OldDF = pd.DataFrame(fgl3) #this does weird things, it only has info for W44 for some reason + the 3FGL info\n"
   ]
  },
  {
   "cell_type": "code",
   "execution_count": 282,
   "metadata": {
    "collapsed": false
   },
   "outputs": [],
   "source": [
    "def getFGL(FGLCat = \"/Users/jmcohen/Dropbox/Catalogs/3FGL/gll_psc_v14.fit\"):\n",
    "    \"\"\"Make pd.DF from 3FGL fits file\"\"\"\n",
    "    fgl3 = pyfits.open(FGLCat)\n",
    "    fgl3d =  fgl3[1].data\n",
    "    poplist = []\n",
    "    fgl3dict = {x:fgl3d.field(x) for x in fgl3d.names}\n",
    "    for i in fgl3dict:\n",
    "        fgl3dict[i] = list(fgl3dict.get(i))\n",
    "    #     if fgl3dict.get(i).ndim > 1:\n",
    "    #         poplist.append(i)\n",
    "\n",
    "    # for i in poplist:\n",
    "    #     fgl3dict.pop(i)\n",
    "    fgl3DF = pd.DataFrame(fgl3dict)\n",
    "    #fgl3DF.columns\n",
    "    if 'gll' in FGLCat:\n",
    "        fgl3DF.set_index('Source_Name',inplace = True)\n",
    "    else: #\n",
    "        fgl3DF.set_index('Source_Name_3FGL',inplace = True)\n",
    "    maxl = len(fgl3DF)\n",
    "    #print maxl\n",
    "    pd.set_option('display.max_columns', maxl)\n",
    "    pd.set_option('display.max_rows', maxl) #I will transpose the frame later\n",
    "    return fgl3DF"
   ]
  },
  {
   "cell_type": "code",
   "execution_count": 283,
   "metadata": {
    "collapsed": false
   },
   "outputs": [],
   "source": [
    "newFglDF = getFGL()\n",
    "newFglDF.replace('',np.nan,inplace=True)\n",
    "oldFglDF = getFGL(FGLCat)\n",
    "oldFglDF.replace('',np.nan,inplace=True)"
   ]
  },
  {
   "cell_type": "code",
   "execution_count": 46,
   "metadata": {
    "collapsed": false
   },
   "outputs": [],
   "source": [
    "#check if 3FGL CLASS are the same in new and old 3FGL fits file\n",
    "sameClass = newFglDF.CLASS1== oldFglDF.CLASS_3FGL #).all(axis=1).astype(int)\n",
    "classDF = pd.DataFrame({'new3FGL':newFglDF.CLASS1[~sameClass],'old3FGL':oldFglDF.CLASS_3FGL[~sameClass]})\n",
    "#classDF = classDF[classDF.new3FGL != 'bcu'] #agu became bcu, remove all\n",
    "#is new 3FGL bcu the same as old agu? These are the majority, so if these are the same, then I should exlcude them\n",
    "#HMBX became HMB in new\n",
    "#newFglDF[newFglDF.CLASS1 == 'agu'] #new 3FGL doesn't have agu\n",
    "#oldFglDF[oldFglDF.CLASS_3FGL == 'bcu'] #old 3FGL doesn't have bcu\n",
    "#what I really want are ones where \n",
    "##newFGL isuppper and was lower before\n",
    "##new 3FGL isupper and was blank before"
   ]
  },
  {
   "cell_type": "code",
   "execution_count": null,
   "metadata": {
    "collapsed": true
   },
   "outputs": [],
   "source": [
    "#don't need this first one\n",
    "#I only want to retain the case when new3FGL is upper and old3FGL is lowe\n",
    "#classDF[(classDF.new3FGL != 'bcu') & (classDF.new3FGL !='BCU') & (classDF.new3FGL != 'HMB')]\n",
    "classDF[(classDF.new3FGL.str.isupper()) & (classDF.old3FGL.str.islower())]"
   ]
  },
  {
   "cell_type": "code",
   "execution_count": 60,
   "metadata": {
    "collapsed": false,
    "scrolled": true
   },
   "outputs": [
    {
     "data": {
      "text/html": [
       "<div>\n",
       "<table border=\"1\" class=\"dataframe\">\n",
       "  <thead>\n",
       "    <tr style=\"text-align: right;\">\n",
       "      <th></th>\n",
       "      <th>new3FGL</th>\n",
       "      <th>old3FGL</th>\n",
       "    </tr>\n",
       "    <tr>\n",
       "      <th>Source_Name</th>\n",
       "      <th></th>\n",
       "      <th></th>\n",
       "    </tr>\n",
       "  </thead>\n",
       "  <tbody>\n",
       "    <tr>\n",
       "      <th>3FGL J0210.7-5101</th>\n",
       "      <td>BCU</td>\n",
       "      <td>AGU</td>\n",
       "    </tr>\n",
       "    <tr>\n",
       "      <th>3FGL J0240.5+6113</th>\n",
       "      <td>HMB</td>\n",
       "      <td>HMXB</td>\n",
       "    </tr>\n",
       "    <tr>\n",
       "      <th>3FGL J0522.9-3628</th>\n",
       "      <td>BCU</td>\n",
       "      <td>AGU</td>\n",
       "    </tr>\n",
       "    <tr>\n",
       "      <th>3FGL J0532.0-4827</th>\n",
       "      <td>BCU</td>\n",
       "      <td>AGU</td>\n",
       "    </tr>\n",
       "    <tr>\n",
       "      <th>3FGL J0621.0+2514</th>\n",
       "      <td>PSR</td>\n",
       "      <td>psr</td>\n",
       "    </tr>\n",
       "    <tr>\n",
       "      <th>3FGL J0622.9+3326</th>\n",
       "      <td>BCU</td>\n",
       "      <td>AGU</td>\n",
       "    </tr>\n",
       "    <tr>\n",
       "      <th>3FGL J0740.8+6621</th>\n",
       "      <td>PSR</td>\n",
       "      <td>psr</td>\n",
       "    </tr>\n",
       "    <tr>\n",
       "      <th>3FGL J0930.9-1904</th>\n",
       "      <td>PSR</td>\n",
       "      <td>psr</td>\n",
       "    </tr>\n",
       "    <tr>\n",
       "      <th>3FGL J1018.9-5856</th>\n",
       "      <td>HMB</td>\n",
       "      <td>HMXB</td>\n",
       "    </tr>\n",
       "    <tr>\n",
       "      <th>3FGL J1418.5+3543</th>\n",
       "      <td>BCU</td>\n",
       "      <td>AGU</td>\n",
       "    </tr>\n",
       "    <tr>\n",
       "      <th>3FGL J1826.2-1450</th>\n",
       "      <td>HMB</td>\n",
       "      <td>HMXB</td>\n",
       "    </tr>\n",
       "    <tr>\n",
       "      <th>3FGL J1903.6-7052</th>\n",
       "      <td>PSR</td>\n",
       "      <td></td>\n",
       "    </tr>\n",
       "    <tr>\n",
       "      <th>3FGL J2042.1+0247</th>\n",
       "      <td>PSR</td>\n",
       "      <td>psr</td>\n",
       "    </tr>\n",
       "    <tr>\n",
       "      <th>3FGL J2234.8+0945</th>\n",
       "      <td>PSR</td>\n",
       "      <td>psr</td>\n",
       "    </tr>\n",
       "  </tbody>\n",
       "</table>\n",
       "</div>"
      ],
      "text/plain": [
       "                  new3FGL old3FGL\n",
       "Source_Name                      \n",
       "3FGL J0210.7-5101     BCU     AGU\n",
       "3FGL J0240.5+6113     HMB    HMXB\n",
       "3FGL J0522.9-3628     BCU     AGU\n",
       "3FGL J0532.0-4827     BCU     AGU\n",
       "3FGL J0621.0+2514     PSR     psr\n",
       "3FGL J0622.9+3326     BCU     AGU\n",
       "3FGL J0740.8+6621     PSR     psr\n",
       "3FGL J0930.9-1904     PSR     psr\n",
       "3FGL J1018.9-5856     HMB    HMXB\n",
       "3FGL J1418.5+3543     BCU     AGU\n",
       "3FGL J1826.2-1450     HMB    HMXB\n",
       "3FGL J1903.6-7052     PSR        \n",
       "3FGL J2042.1+0247     PSR     psr\n",
       "3FGL J2234.8+0945     PSR     psr"
      ]
     },
     "execution_count": 60,
     "metadata": {},
     "output_type": "execute_result"
    }
   ],
   "source": [
    "#For all the ones with differnt CLASS, which are ID'd\n",
    "#only pulsars bumped from assoc to ID\n",
    "classDF[classDF.new3FGL.str.isupper()]"
   ]
  },
  {
   "cell_type": "markdown",
   "metadata": {},
   "source": [
    "# Get nbyInfo and results from pointlike, put into DF\n",
    "## cg.ptlkInfo has all the details of the pointlike runs, nbyInfo took some of this but not all\n",
    "* This is troublesome because it's not trivial to go from nested dict to DF\n",
    "* Is it easier to make it into a panel?\n",
    "* Or keep them as dicts and pull them out when I need them?\n",
    "* make dict and then DF?\n",
    "* LOOK AT WHAT I DID WITH THAT CONFLUENCE TABLE?"
   ]
  },
  {
   "cell_type": "code",
   "execution_count": 18,
   "metadata": {
    "collapsed": true
   },
   "outputs": [],
   "source": [
    "#Not sure this will work ir if I want to use it yet\n",
    "#https://stackoverflow.com/questions/23019119/converting-multilevel-nested-dictionaries-to-pandas-dataframe\n",
    "def flatten(d):\n",
    "    \"\"\"\n",
    "    The flatten function creates a new OrderedDict object--the flatten dictionary\n",
    "    Cycle through each key/value pair\n",
    "    If a value is not a dictionary (OrderDict included), then copy the key/value pair to the result\n",
    "    If the value is a dictionary, including OrderedDict, then call flatten recursively and update the result\n",
    "    I have tested this function with nesting of four levels deep, but cannot guarantee it is bug-free\n",
    "    Once you tested flatten on one OrderedDict, it is straight-forward to apply it to a list of OrderedDict\n",
    "\"\"\"\n",
    "    Flatten an OrderedDict object\n",
    "    '''\n",
    "    result = OrderedDict()\n",
    "    for k, v in d.items():\n",
    "        if isinstance(v, dict):\n",
    "            result.update(flatten(v))\n",
    "        else:\n",
    "            result[k] = v\n",
    "    return result"
   ]
  },
  {
   "cell_type": "code",
   "execution_count": 38,
   "metadata": {
    "collapsed": false
   },
   "outputs": [],
   "source": [
    "# for i in cg.nbyInfo:\n",
    "#     if isinstance(cg.nbyInfo.get(i),dict):\n",
    "#         #print i,'FLAT',flatten(cg.nbyInfo.get(i)),'\\n'\n",
    "#         for j in cg.nbyInfo.get(i):\n",
    "#             if isinstance(cg.nbyInfo.get(i).get(j),dict):\n",
    "#                 print j, cg.nbyInfo.get(i).get(j)\n",
    "#             else: print j\n",
    "#     else:\n",
    "#         pass\n",
    "#         #print i,'not flat',cg.nbyInfo(i),'\\n'\n"
   ]
  },
  {
   "cell_type": "code",
   "execution_count": 36,
   "metadata": {
    "collapsed": true
   },
   "outputs": [],
   "source": [
    "def dict2Multi(dictionary):\n",
    "    \"\"\"try converting the nested dict to a multi-index DF\n",
    "    https://stackoverflow.com/questions/24988131/nested-dictionary-to-multiindex-dataframe-where-dictionary-keys-are-column-label\"\"\"\n",
    "    \n",
    "    reform = {(outerKey, innerKey): values for outerKey, innerDict in dictionary.iteritems() for innerKey, values in innerDict.iteritems()}\n",
    "    return pd.DataFrame(reform)"
   ]
  },
  {
   "cell_type": "code",
   "execution_count": 39,
   "metadata": {
    "collapsed": false
   },
   "outputs": [],
   "source": [
    "#this is close but not quite right\n",
    "#the problem is that some of the values for each SNR have a single value and not a dict\n",
    "#the problem is that i need it to look like\n",
    "#SNR\n",
    "#\n",
    "nbyDF = dict2Multi(cg.nbyInfo)\n",
    "#nbyDF\n"
   ]
  },
  {
   "cell_type": "code",
   "execution_count": 40,
   "metadata": {
    "collapsed": false
   },
   "outputs": [],
   "source": [
    "#nbyInfo has all the results from \n",
    "#print cg.nbyInfo\n",
    "#nby = pd.DataFrame.from_dict(cg.nbyInfo)\n",
    "#json_normalize(pd.DataFrame.from_dict(cg.nbyInfo))\n",
    "#nby"
   ]
  },
  {
   "cell_type": "markdown",
   "metadata": {},
   "source": [
    "### I think the 2 table's I want are\n",
    "* Nby Cand | properties | SNR it's near | For this, I need to rename the PS sources\n",
    "* Just append the SNR RoI maybe## SNR | SNR properties"
   ]
  },
  {
   "cell_type": "code",
   "execution_count": 43,
   "metadata": {
    "collapsed": false,
    "scrolled": true
   },
   "outputs": [],
   "source": [
    "# candsDict = dict()\n",
    "# snrDict = dict()\n",
    "# for snr,v in cg.nbyInfo.items():\n",
    "#     for p in v:\n",
    "#         if p.startswith('PS'):\n",
    "#             #append SNR to PS for now\n",
    "#         elif p.startswith('P7R'):\n",
    "#             #change P7R name to 3FGL name\n",
    "#         else: #if it's not PS or P7R, then it's a property of the SNR\n",
    "#             snrDict[] =  \n",
    "            \n",
    "# {'SNR': snrList,'50pcAngSep': angPCList,'NickName': nickList,'RadioRadius': radList,'RadioRadiusPC': radPCList,'dist': distList,'ext': extList,'extPC': extList,'snrvel': velList}"
   ]
  },
  {
   "cell_type": "code",
   "execution_count": 284,
   "metadata": {
    "collapsed": false
   },
   "outputs": [],
   "source": [
    "snrs = sorted(cg.nbyInfo.keys())\n",
    "#make SNR DF\n",
    "angPCList = [round(cg.nbyInfo[i].get('50pcAngSep'),2) for i in iter(sorted(cg.nbyInfo))]\n",
    "nickList = [cg.nbyInfo[i].get('NickName') for i in iter(sorted(cg.nbyInfo))]\n",
    "radList = [round(cg.nbyInfo[i].get('RadioRadius'),2) for i in iter(sorted(cg.nbyInfo))]\n",
    "radPCList = [round(cg.nbyInfo[i].get('RadioRadiusPC'),0) for i in iter(sorted(cg.nbyInfo))]\n",
    "distList = [round(cg.nbyInfo[i].get('dist'),1) for i in iter(sorted(cg.nbyInfo))]\n",
    "#extList = [round(cg.nbyInfo[i].get('ext'),2) for i in iter(sorted(cg.nbyInfo))]\n",
    "extList = [cg.nbyInfo[i].get('ext',np.nan) for i in iter(sorted(cg.nbyInfo))]\n",
    "#extPCList = [round(cg.nbyInfo[i].get('extPC'),2) for i in iter(sorted(cg.nbyInfo))]\n",
    "extPCList = [cg.nbyInfo[i].get('extPC',np.NaN) for i in iter(sorted(cg.nbyInfo))]\n",
    "velList = [round(cg.nbyInfo[i].get('vel'),2)for i in iter(sorted(cg.nbyInfo))]\n",
    "snrsDF = pd.DataFrame({'50pc Ang Sep': angPCList,'Nick Name': nickList,'Radio  Radius': radList,'Radio Radius PC': radPCList,'Distance': distList,'sigma': extList,'sigma_pc': extPCList,'Velocity': velList},index =  snrs)\n",
    "snrsDF.index.name = 'SNR'\n",
    "snrsDF.replace('Point',np.nan,inplace=True)\n",
    "snrsDF['sigma'] = snrsDF['sigma'].round(2)#.map('{:,.2f}'.format)\n",
    "snrsDF['sigma_pc'] = snrsDF['sigma_pc'].round(0)#.map('{:,.2f}'.format)\n",
    "#why are these the only SNRs?\n",
    "#Is it because pointlike run didn't finish or because nbyMaps?\n",
    "#probably latter, if so, use pointlike instead and just get this infor from the results of getSNRsample\n",
    "#Maybe I should just get this\n",
    "#snrs"
   ]
  },
  {
   "cell_type": "code",
   "execution_count": 285,
   "metadata": {
    "collapsed": false
   },
   "outputs": [
    {
     "data": {
      "text/html": [
       "<div>\n",
       "<table border=\"1\" class=\"dataframe\">\n",
       "  <thead>\n",
       "    <tr style=\"text-align: right;\">\n",
       "      <th></th>\n",
       "      <th>50pc Ang Sep</th>\n",
       "      <th>Distance</th>\n",
       "      <th>Nick Name</th>\n",
       "      <th>Radio  Radius</th>\n",
       "      <th>Radio Radius PC</th>\n",
       "      <th>Velocity</th>\n",
       "      <th>sigma</th>\n",
       "      <th>sigma_pc</th>\n",
       "    </tr>\n",
       "    <tr>\n",
       "      <th>SNR</th>\n",
       "      <th></th>\n",
       "      <th></th>\n",
       "      <th></th>\n",
       "      <th></th>\n",
       "      <th></th>\n",
       "      <th></th>\n",
       "      <th></th>\n",
       "      <th></th>\n",
       "    </tr>\n",
       "  </thead>\n",
       "  <tbody>\n",
       "    <tr>\n",
       "      <th>SNR006.4-00.1</th>\n",
       "      <td>1.51</td>\n",
       "      <td>1.9</td>\n",
       "      <td>W28</td>\n",
       "      <td>0.40</td>\n",
       "      <td>13</td>\n",
       "      <td>10.0</td>\n",
       "      <td>0.38</td>\n",
       "      <td>12</td>\n",
       "    </tr>\n",
       "    <tr>\n",
       "      <th>SNR027.8+00.6</th>\n",
       "      <td>0.95</td>\n",
       "      <td>3.0</td>\n",
       "      <td>None</td>\n",
       "      <td>0.32</td>\n",
       "      <td>17</td>\n",
       "      <td>99.5</td>\n",
       "      <td>NaN</td>\n",
       "      <td>NaN</td>\n",
       "    </tr>\n",
       "    <tr>\n",
       "      <th>SNR034.7-00.4</th>\n",
       "      <td>0.95</td>\n",
       "      <td>3.0</td>\n",
       "      <td>W44</td>\n",
       "      <td>0.26</td>\n",
       "      <td>14</td>\n",
       "      <td>45.0</td>\n",
       "      <td>0.31</td>\n",
       "      <td>16</td>\n",
       "    </tr>\n",
       "    <tr>\n",
       "      <th>SNR049.2-00.7</th>\n",
       "      <td>0.48</td>\n",
       "      <td>6.0</td>\n",
       "      <td>W51c</td>\n",
       "      <td>0.25</td>\n",
       "      <td>26</td>\n",
       "      <td>70.0</td>\n",
       "      <td>0.31</td>\n",
       "      <td>32</td>\n",
       "    </tr>\n",
       "    <tr>\n",
       "      <th>SNR073.9+00.9</th>\n",
       "      <td>0.95</td>\n",
       "      <td>3.0</td>\n",
       "      <td>None</td>\n",
       "      <td>0.23</td>\n",
       "      <td>12</td>\n",
       "      <td>4.0</td>\n",
       "      <td>NaN</td>\n",
       "      <td>NaN</td>\n",
       "    </tr>\n",
       "    <tr>\n",
       "      <th>SNR089.0+04.7</th>\n",
       "      <td>1.69</td>\n",
       "      <td>1.7</td>\n",
       "      <td>HB21</td>\n",
       "      <td>0.87</td>\n",
       "      <td>26</td>\n",
       "      <td>-10.0</td>\n",
       "      <td>0.99</td>\n",
       "      <td>29</td>\n",
       "    </tr>\n",
       "    <tr>\n",
       "      <th>SNR127.1+00.5</th>\n",
       "      <td>2.49</td>\n",
       "      <td>1.1</td>\n",
       "      <td>R5</td>\n",
       "      <td>0.38</td>\n",
       "      <td>8</td>\n",
       "      <td>-14.0</td>\n",
       "      <td>NaN</td>\n",
       "      <td>NaN</td>\n",
       "    </tr>\n",
       "    <tr>\n",
       "      <th>SNR132.7+01.3</th>\n",
       "      <td>1.30</td>\n",
       "      <td>2.2</td>\n",
       "      <td>HB3</td>\n",
       "      <td>0.67</td>\n",
       "      <td>26</td>\n",
       "      <td>-43.0</td>\n",
       "      <td>0.82</td>\n",
       "      <td>31</td>\n",
       "    </tr>\n",
       "    <tr>\n",
       "      <th>SNR189.1+03.0</th>\n",
       "      <td>1.91</td>\n",
       "      <td>1.5</td>\n",
       "      <td>IC443</td>\n",
       "      <td>0.38</td>\n",
       "      <td>10</td>\n",
       "      <td>-6.0</td>\n",
       "      <td>0.32</td>\n",
       "      <td>8</td>\n",
       "    </tr>\n",
       "    <tr>\n",
       "      <th>SNR205.5+00.5</th>\n",
       "      <td>1.91</td>\n",
       "      <td>1.5</td>\n",
       "      <td>Monoceros</td>\n",
       "      <td>1.83</td>\n",
       "      <td>48</td>\n",
       "      <td>11.0</td>\n",
       "      <td>2.29</td>\n",
       "      <td>60</td>\n",
       "    </tr>\n",
       "  </tbody>\n",
       "</table>\n",
       "</div>"
      ],
      "text/plain": [
       "               50pc Ang Sep  Distance  Nick Name  Radio  Radius  \\\n",
       "SNR                                                               \n",
       "SNR006.4-00.1          1.51       1.9        W28           0.40   \n",
       "SNR027.8+00.6          0.95       3.0       None           0.32   \n",
       "SNR034.7-00.4          0.95       3.0        W44           0.26   \n",
       "SNR049.2-00.7          0.48       6.0       W51c           0.25   \n",
       "SNR073.9+00.9          0.95       3.0       None           0.23   \n",
       "SNR089.0+04.7          1.69       1.7       HB21           0.87   \n",
       "SNR127.1+00.5          2.49       1.1         R5           0.38   \n",
       "SNR132.7+01.3          1.30       2.2        HB3           0.67   \n",
       "SNR189.1+03.0          1.91       1.5      IC443           0.38   \n",
       "SNR205.5+00.5          1.91       1.5  Monoceros           1.83   \n",
       "\n",
       "               Radio Radius PC  Velocity  sigma  sigma_pc  \n",
       "SNR                                                        \n",
       "SNR006.4-00.1               13      10.0   0.38        12  \n",
       "SNR027.8+00.6               17      99.5    NaN       NaN  \n",
       "SNR034.7-00.4               14      45.0   0.31        16  \n",
       "SNR049.2-00.7               26      70.0   0.31        32  \n",
       "SNR073.9+00.9               12       4.0    NaN       NaN  \n",
       "SNR089.0+04.7               26     -10.0   0.99        29  \n",
       "SNR127.1+00.5                8     -14.0    NaN       NaN  \n",
       "SNR132.7+01.3               26     -43.0   0.82        31  \n",
       "SNR189.1+03.0               10      -6.0   0.32         8  \n",
       "SNR205.5+00.5               48      11.0   2.29        60  "
      ]
     },
     "execution_count": 285,
     "metadata": {},
     "output_type": "execute_result"
    }
   ],
   "source": [
    "#rename columns?\n",
    "#don't need nickname for paper\n",
    "#how many signif digits?\n",
    "#combine ext/extPC?\n",
    "#footnotes\n",
    "#a- radioRadius, all from Green's cat\n",
    "#b- distance ref\n",
    "#c- vel ref\n",
    "#I think I should just ref the SNR catalog, I got many of those refs for d and v\n",
    "snrsDF\n"
   ]
  },
  {
   "cell_type": "code",
   "execution_count": 286,
   "metadata": {
    "collapsed": false
   },
   "outputs": [
    {
     "data": {
      "text/plain": [
       "['SNR006.4-00.1',\n",
       " 'SNR027.8+00.6',\n",
       " 'SNR034.7-00.4',\n",
       " 'SNR049.2-00.7',\n",
       " 'SNR073.9+00.9',\n",
       " 'SNR089.0+04.7',\n",
       " 'SNR127.1+00.5',\n",
       " 'SNR132.7+01.3',\n",
       " 'SNR189.1+03.0',\n",
       " 'SNR205.5+00.5']"
      ]
     },
     "execution_count": 286,
     "metadata": {},
     "output_type": "execute_result"
    }
   ],
   "source": [
    "snrs"
   ]
  },
  {
   "cell_type": "code",
   "execution_count": 141,
   "metadata": {
    "collapsed": false
   },
   "outputs": [],
   "source": [
    "#make Candidate DF\n",
    "#any that are candidates for >1 SNRs?\n",
    "#yes! but only the PS \n",
    "#I need to \n",
    "nonCandPars = ['50pcAngSep','NickName','RadioRadius','RadioRadiusPC','dist','ext','extPC','vel']\n",
    "#allCands = {j:cg.nbyInfo.get(i).values() for i in snrs for j in cg.nbyInfo.get(i).keys() if not j in nonCandPars}\n",
    "allCands = {j+'_'+i:{:cg.nbyInfo.get(i).get(j).values()} for i in snrs for j in cg.nbyInfo.get(i).keys() if not j in nonCandPars}\n",
    "#candsSNR = [c.split('_SNR')[0] for c in allCands]\n",
    "cands = [c for c in allCands]\n",
    "#cand_CLASS1 = [allCands.get(p)['CLASS1'] for p in cands]\n",
    "# cand_TS = [allCands.get(p)['TS'] for p in cands]\n",
    "# cand_index = [allCands.get(p)['index'] for p in cands]\n",
    "# cand_indexErr = [allCands.get(p)['indexErr'] for p in cands]\n",
    "# cand_srcSep = [allCands.get(p)['srcSep'] for p in cands]\n",
    "# cand_srcSepPC = [allCands.get(p)['srcSepPC'] for p in cands]\n",
    "#LATInd1 = [i.get('index1',np.nan) if isinstance(i,dict)  else np.nan for i in LATSpecp fofr p in ]"
   ]
  },
  {
   "cell_type": "code",
   "execution_count": 241,
   "metadata": {
    "collapsed": false,
    "scrolled": true
   },
   "outputs": [],
   "source": [
    "#nbySrcs = []\n",
    "if 'nbySrcsDF' in locals():\n",
    "    del nbySrcsDF\n",
    "nbySrcsDF = pd.DataFrame()\n",
    "nbySrcsDF = pd.DataFrame(columns=['TS', 'CLASS1', 'srcSepPC', 'srcSep', 'index', 'indexErr'])\n",
    "TS = []\n",
    "class1 = []\n",
    "srcSepPC = []\n",
    "srcSep = []\n",
    "index = []\n",
    "for snr in sorted(snrs): \n",
    "    nbySrc = ''\n",
    "    for src in cg.nbyInfo[snr]:\n",
    "        if src.startswith('PS') or src.startswith('P7'):\n",
    "            # class1.append(nbyInfo[snr][src].get('CLASS1'))\n",
    "            # TS.append(nbyInfo[snr][src].get('TS'))\n",
    "            # srcSepPC.append(nbyInfo[snr][src].get('srcSepPC.append('))\n",
    "            # srcSep.append(nbyInfo[snr][src].get('srcSep'))\n",
    "            TS = int(round(cg.nbyInfo[snr][src].get('TS'),0))\n",
    "#             if not TS >= 16.:\n",
    "#                 continue\n",
    "            class1 = cg.nbyInfo[snr][src].get('CLASS1')\n",
    "            if class1 == '' or not class1:\n",
    "                class1 = None\n",
    "            srcSepPC = round(cg.nbyInfo[snr][src].get('srcSepPC'),2)\n",
    "            srcSep = round(cg.nbyInfo[snr][src].get('srcSep'),2)\n",
    "            index = round(cg.nbyInfo[snr][src].get('index'),2)\n",
    "            indexErr = round(cg.nbyInfo[snr][src].get('indexErr'),2)\n",
    "            #nbySrc = nbySrc + '%s, TS = %s, srcSepDeg = %s, srcSepPC = %s, Index = %s +/- %s , CLASS1 = %s \\\\\\\\ \\\\\\\\ ' %(src, TS, srcSep, srcSepPC, index, indexErr,class1)\n",
    "            nbySrcsDF.loc[src+'_'+snr] = [TS,class1,srcSepPC,srcSep,index,indexErr]\n",
    "nbySrcsDF.rename(columns={'CLASS1':'ASSOC1'},inplace = True) #CLASS1 should all unID'd\n"
   ]
  },
  {
   "cell_type": "code",
   "execution_count": 301,
   "metadata": {
    "collapsed": false
   },
   "outputs": [
    {
     "data": {
      "text/html": [
       "<div>\n",
       "<table border=\"1\" class=\"dataframe\">\n",
       "  <thead>\n",
       "    <tr style=\"text-align: right;\">\n",
       "      <th></th>\n",
       "      <th>TS</th>\n",
       "      <th>ASSOC1</th>\n",
       "      <th>srcSepPC</th>\n",
       "      <th>srcSep</th>\n",
       "      <th>index</th>\n",
       "      <th>indexErr</th>\n",
       "    </tr>\n",
       "  </thead>\n",
       "  <tbody>\n",
       "    <tr>\n",
       "      <th>PS_6_SNR034.7-00.4</th>\n",
       "      <td>60</td>\n",
       "      <td>NaN</td>\n",
       "      <td>46.25</td>\n",
       "      <td>0.88</td>\n",
       "      <td>2.42</td>\n",
       "      <td>0.27</td>\n",
       "    </tr>\n",
       "    <tr>\n",
       "      <th>P7R42958A_SNR034.7-00.4</th>\n",
       "      <td>120</td>\n",
       "      <td>NaN</td>\n",
       "      <td>49.59</td>\n",
       "      <td>0.95</td>\n",
       "      <td>1.96</td>\n",
       "      <td>0.59</td>\n",
       "    </tr>\n",
       "    <tr>\n",
       "      <th>P7R42955_SNR034.7-00.4</th>\n",
       "      <td>320</td>\n",
       "      <td>2FGL J1857.2+0055c</td>\n",
       "      <td>24.88</td>\n",
       "      <td>0.48</td>\n",
       "      <td>1.91</td>\n",
       "      <td>0.11</td>\n",
       "    </tr>\n",
       "    <tr>\n",
       "      <th>PS_4_SNR034.7-00.4</th>\n",
       "      <td>74</td>\n",
       "      <td>NaN</td>\n",
       "      <td>27.78</td>\n",
       "      <td>0.53</td>\n",
       "      <td>2.44</td>\n",
       "      <td>0.09</td>\n",
       "    </tr>\n",
       "    <tr>\n",
       "      <th>P7R42958_SNR034.7-00.4</th>\n",
       "      <td>211</td>\n",
       "      <td>EGRJ1856+0235            2FGL J1857.6+0211    ...</td>\n",
       "      <td>48.39</td>\n",
       "      <td>0.92</td>\n",
       "      <td>2.46</td>\n",
       "      <td>0.24</td>\n",
       "    </tr>\n",
       "    <tr>\n",
       "      <th>PS_2_SNR034.7-00.4</th>\n",
       "      <td>46</td>\n",
       "      <td>NaN</td>\n",
       "      <td>47.56</td>\n",
       "      <td>0.91</td>\n",
       "      <td>2.98</td>\n",
       "      <td>0.26</td>\n",
       "    </tr>\n",
       "    <tr>\n",
       "      <th>P7R42955G_SNR034.7-00.4</th>\n",
       "      <td>6</td>\n",
       "      <td>1AGLJ1857+0137           2FGL J1858.5+0129c</td>\n",
       "      <td>24.11</td>\n",
       "      <td>0.46</td>\n",
       "      <td>2.01</td>\n",
       "      <td>0.24</td>\n",
       "    </tr>\n",
       "    <tr>\n",
       "      <th>PS_3_SNR049.2-00.7</th>\n",
       "      <td>0</td>\n",
       "      <td>NaN</td>\n",
       "      <td>37.23</td>\n",
       "      <td>0.36</td>\n",
       "      <td>3.71</td>\n",
       "      <td>NaN</td>\n",
       "    </tr>\n",
       "    <tr>\n",
       "      <th>P7R43175_SNR073.9+00.9</th>\n",
       "      <td>614</td>\n",
       "      <td>2CG 075+00               2FGL J2018.0+3626</td>\n",
       "      <td>43.59</td>\n",
       "      <td>0.83</td>\n",
       "      <td>2.68</td>\n",
       "      <td>0.17</td>\n",
       "    </tr>\n",
       "    <tr>\n",
       "      <th>PS_1_SNR089.0+04.7</th>\n",
       "      <td>34</td>\n",
       "      <td>NaN</td>\n",
       "      <td>36.27</td>\n",
       "      <td>1.22</td>\n",
       "      <td>2.71</td>\n",
       "      <td>0.20</td>\n",
       "    </tr>\n",
       "    <tr>\n",
       "      <th>P7R40221_SNR127.1+00.5</th>\n",
       "      <td>331</td>\n",
       "      <td>1FGL J0131.2+6121        2FGL J0131.1+6121    ...</td>\n",
       "      <td>37.33</td>\n",
       "      <td>1.86</td>\n",
       "      <td>1.80</td>\n",
       "      <td>0.08</td>\n",
       "    </tr>\n",
       "    <tr>\n",
       "      <th>P7R40346_SNR132.7+01.3</th>\n",
       "      <td>416</td>\n",
       "      <td>2FGL J0224.0+6204</td>\n",
       "      <td>17.29</td>\n",
       "      <td>0.45</td>\n",
       "      <td>2.75</td>\n",
       "      <td>0.19</td>\n",
       "    </tr>\n",
       "    <tr>\n",
       "      <th>P7R40338A_SNR132.7+01.3</th>\n",
       "      <td>31</td>\n",
       "      <td>NaN</td>\n",
       "      <td>49.05</td>\n",
       "      <td>1.28</td>\n",
       "      <td>2.91</td>\n",
       "      <td>0.60</td>\n",
       "    </tr>\n",
       "    <tr>\n",
       "      <th>P7R40352_SNR132.7+01.3</th>\n",
       "      <td>294</td>\n",
       "      <td>J0229+6151               2FGL J0225.9+6154c</td>\n",
       "      <td>29.25</td>\n",
       "      <td>0.76</td>\n",
       "      <td>3.08</td>\n",
       "      <td>0.27</td>\n",
       "    </tr>\n",
       "    <tr>\n",
       "      <th>P7R40357_SNR132.7+01.3</th>\n",
       "      <td>44</td>\n",
       "      <td>1FGL J0218.8+6158c</td>\n",
       "      <td>9.23</td>\n",
       "      <td>0.24</td>\n",
       "      <td>3.27</td>\n",
       "      <td>0.18</td>\n",
       "    </tr>\n",
       "    <tr>\n",
       "      <th>P7R40893_SNR189.1+03.0</th>\n",
       "      <td>89</td>\n",
       "      <td>NaN</td>\n",
       "      <td>14.35</td>\n",
       "      <td>0.55</td>\n",
       "      <td>2.21</td>\n",
       "      <td>0.07</td>\n",
       "    </tr>\n",
       "    <tr>\n",
       "      <th>P7R40925AP_SNR205.5+00.5</th>\n",
       "      <td>12</td>\n",
       "      <td>2FGL J0637.0+0416c</td>\n",
       "      <td>31.10</td>\n",
       "      <td>1.19</td>\n",
       "      <td>2.86</td>\n",
       "      <td>0.93</td>\n",
       "    </tr>\n",
       "    <tr>\n",
       "      <th>PS_3_SNR205.5+00.5</th>\n",
       "      <td>31</td>\n",
       "      <td>NaN</td>\n",
       "      <td>45.61</td>\n",
       "      <td>1.74</td>\n",
       "      <td>2.53</td>\n",
       "      <td>0.23</td>\n",
       "    </tr>\n",
       "    <tr>\n",
       "      <th>PS_1_SNR205.5+00.5</th>\n",
       "      <td>35</td>\n",
       "      <td>NaN</td>\n",
       "      <td>49.75</td>\n",
       "      <td>1.90</td>\n",
       "      <td>2.92</td>\n",
       "      <td>0.21</td>\n",
       "    </tr>\n",
       "  </tbody>\n",
       "</table>\n",
       "</div>"
      ],
      "text/plain": [
       "                           TS  \\\n",
       "PS_6_SNR034.7-00.4         60   \n",
       "P7R42958A_SNR034.7-00.4   120   \n",
       "P7R42955_SNR034.7-00.4    320   \n",
       "PS_4_SNR034.7-00.4         74   \n",
       "P7R42958_SNR034.7-00.4    211   \n",
       "PS_2_SNR034.7-00.4         46   \n",
       "P7R42955G_SNR034.7-00.4     6   \n",
       "PS_3_SNR049.2-00.7          0   \n",
       "P7R43175_SNR073.9+00.9    614   \n",
       "PS_1_SNR089.0+04.7         34   \n",
       "P7R40221_SNR127.1+00.5    331   \n",
       "P7R40346_SNR132.7+01.3    416   \n",
       "P7R40338A_SNR132.7+01.3    31   \n",
       "P7R40352_SNR132.7+01.3    294   \n",
       "P7R40357_SNR132.7+01.3     44   \n",
       "P7R40893_SNR189.1+03.0     89   \n",
       "P7R40925AP_SNR205.5+00.5   12   \n",
       "PS_3_SNR205.5+00.5         31   \n",
       "PS_1_SNR205.5+00.5         35   \n",
       "\n",
       "                                                                     ASSOC1  \\\n",
       "PS_6_SNR034.7-00.4                                                      NaN   \n",
       "P7R42958A_SNR034.7-00.4                                                 NaN   \n",
       "P7R42955_SNR034.7-00.4                                   2FGL J1857.2+0055c   \n",
       "PS_4_SNR034.7-00.4                                                      NaN   \n",
       "P7R42958_SNR034.7-00.4    EGRJ1856+0235            2FGL J1857.6+0211    ...   \n",
       "PS_2_SNR034.7-00.4                                                      NaN   \n",
       "P7R42955G_SNR034.7-00.4         1AGLJ1857+0137           2FGL J1858.5+0129c   \n",
       "PS_3_SNR049.2-00.7                                                      NaN   \n",
       "P7R43175_SNR073.9+00.9           2CG 075+00               2FGL J2018.0+3626   \n",
       "PS_1_SNR089.0+04.7                                                      NaN   \n",
       "P7R40221_SNR127.1+00.5    1FGL J0131.2+6121        2FGL J0131.1+6121    ...   \n",
       "P7R40346_SNR132.7+01.3                                    2FGL J0224.0+6204   \n",
       "P7R40338A_SNR132.7+01.3                                                 NaN   \n",
       "P7R40352_SNR132.7+01.3          J0229+6151               2FGL J0225.9+6154c   \n",
       "P7R40357_SNR132.7+01.3                                   1FGL J0218.8+6158c   \n",
       "P7R40893_SNR189.1+03.0                                                  NaN   \n",
       "P7R40925AP_SNR205.5+00.5                                 2FGL J0637.0+0416c   \n",
       "PS_3_SNR205.5+00.5                                                      NaN   \n",
       "PS_1_SNR205.5+00.5                                                      NaN   \n",
       "\n",
       "                          srcSepPC  srcSep  index  indexErr  \n",
       "PS_6_SNR034.7-00.4           46.25    0.88   2.42      0.27  \n",
       "P7R42958A_SNR034.7-00.4      49.59    0.95   1.96      0.59  \n",
       "P7R42955_SNR034.7-00.4       24.88    0.48   1.91      0.11  \n",
       "PS_4_SNR034.7-00.4           27.78    0.53   2.44      0.09  \n",
       "P7R42958_SNR034.7-00.4       48.39    0.92   2.46      0.24  \n",
       "PS_2_SNR034.7-00.4           47.56    0.91   2.98      0.26  \n",
       "P7R42955G_SNR034.7-00.4      24.11    0.46   2.01      0.24  \n",
       "PS_3_SNR049.2-00.7           37.23    0.36   3.71       NaN  \n",
       "P7R43175_SNR073.9+00.9       43.59    0.83   2.68      0.17  \n",
       "PS_1_SNR089.0+04.7           36.27    1.22   2.71      0.20  \n",
       "P7R40221_SNR127.1+00.5       37.33    1.86   1.80      0.08  \n",
       "P7R40346_SNR132.7+01.3       17.29    0.45   2.75      0.19  \n",
       "P7R40338A_SNR132.7+01.3      49.05    1.28   2.91      0.60  \n",
       "P7R40352_SNR132.7+01.3       29.25    0.76   3.08      0.27  \n",
       "P7R40357_SNR132.7+01.3        9.23    0.24   3.27      0.18  \n",
       "P7R40893_SNR189.1+03.0       14.35    0.55   2.21      0.07  \n",
       "P7R40925AP_SNR205.5+00.5     31.10    1.19   2.86      0.93  \n",
       "PS_3_SNR205.5+00.5           45.61    1.74   2.53      0.23  \n",
       "PS_1_SNR205.5+00.5           49.75    1.90   2.92      0.21  "
      ]
     },
     "execution_count": 301,
     "metadata": {},
     "output_type": "execute_result"
    }
   ],
   "source": [
    "nbySrcsDF"
   ]
  },
  {
   "cell_type": "code",
   "execution_count": 257,
   "metadata": {
    "collapsed": false
   },
   "outputs": [
    {
     "name": "stdout",
     "output_type": "stream",
     "text": [
      "\\begin{deluxetable}{cccccccc}\n",
      "\\tablehead{\\colhead{col0} & \\colhead{col1} & \\colhead{col2} & \\colhead{col3} & \\colhead{col4} & \\colhead{col5} & \\colhead{col6} & \\colhead{col7}}\n",
      "\\startdata\n",
      "0.95 & 3.0 & W44 & 0.26 & 14.0 & 45.0 & 0.31 & 16.0 \\\\\n",
      "0.48 & 6.0 & W51c & 0.25 & 26.0 & 70.0 & 0.3 & 31.0 \\\\\n",
      "0.95 & 3.0 & None & 0.23 & 12.0 & 4.0 & nan & nan \\\\\n",
      "1.69 & 1.7 & HB21 & 0.87 & 26.0 & -10.0 & 0.94 & 28.0 \\\\\n",
      "2.49 & 1.1 & R5 & 0.38 & 8.0 & -14.0 & nan & nan \\\\\n",
      "1.3 & 2.2 & HB3 & 0.67 & 26.0 & -43.0 & 0.81 & 31.0 \\\\\n",
      "1.91 & 1.5 & IC443 & 0.38 & 10.0 & -6.0 & 0.32 & 8.0 \\\\\n",
      "1.91 & 1.5 & Monoceros & 1.83 & 48.0 & 11.0 & 2.78 & 73.0 \\\\\n",
      "\\enddata\n",
      "\\end{deluxetable}\n"
     ]
    }
   ],
   "source": [
    "snrTab = Table(np.array(snrsDF))\n",
    "ascii.write(snrTab, Writer=ascii.AASTex)#,\n",
    "                 #latexdict = {'units': {'mass': 'kg', 'speed': 'km/h'}})\n",
    "#\n",
    "#class is wrong, this is really assoc1 \n",
    "#This is all determined from an old version of 3FGL, I have a newer version\n",
    "#replace? the classes should all be unID'd though anyway, so just drop this, or change name to ASSOC1\n",
    "#add l/b since PS sources are new\n",
    "#what are the high TS PS sources?\n",
    "#did I remove things and then readd them?"
   ]
  },
  {
   "cell_type": "markdown",
   "metadata": {},
   "source": [
    "## ptlkInfo only has info for single SNR, write something to combine all the yamls\n",
    "## each yaml has info for every source in the RoI, but I only want the ones that are nby sources\n",
    "## look at nbyMaps to see what I did there\n",
    "### in nbyMaps, I actually loaded in the pointlike saved dat and then calculated the distance from there to determine which were nby\n",
    "### I tried looping over all the ptlk result yamls, but this gives info on all sources in RoI(MC cand and non-cands)\n",
    "## Why didn't I want to use the results_allNbyInfo.yaml?\n",
    "### Oh right, because not all of the runs finished for results_allNbyInfo.yaml in each velocity\n",
    "### I want info on 18 SNRs"
   ]
  },
  {
   "cell_type": "code",
   "execution_count": 117,
   "metadata": {
    "collapsed": false,
    "scrolled": true
   },
   "outputs": [],
   "source": [
    "#ptlkInfo only has info for single SNR\n",
    "#write something to combine all the yamls\n",
    "#analysis for 18 SNRs\n",
    "os.chdir(ptlkBaseDir)\n",
    "#ptlkYamlList = [os.path.join(dirpath, f) for dirpath, dirnames, files in os.walk(ptlkBaseDir) if '1gevTo316gev' in dirpath for f in fnmatch.filter(files, 'results_SNR*.yaml' %locals()) if not 'moved' in f]\n",
    "#here's another way to do this using glb instead of all this walking and fnmatch, much easier I think\n",
    "ptlkYamlDict = {os.path.split(os.path.split(x)[0])[0]:os.path.join(ptlkBaseDir,x) for x in glob('SNR*/%s/results_SNR*.yaml' %(energyDir)) if not 'moved' in x}\n"
   ]
  },
  {
   "cell_type": "code",
   "execution_count": 119,
   "metadata": {
    "collapsed": false
   },
   "outputs": [],
   "source": [
    "#make a dict with SNR name and contents of each yaml\n",
    "ptlkAllDict = dict()\n",
    "for snr in ptlkYamlDict:\n",
    "    ptlkYamlDict[snr] = \n",
    "    "
   ]
  },
  {
   "cell_type": "code",
   "execution_count": 271,
   "metadata": {
    "collapsed": false
   },
   "outputs": [
    {
     "name": "stdout",
     "output_type": "stream",
     "text": [
      "vel 3 11 ['SNR006.4-00.1', 'SNR027.8+00.6', 'SNR034.7-00.4', 'SNR049.2-00.7', 'SNR073.9+00.9', 'SNR089.0+04.7', 'SNR127.1+00.5', 'SNR132.7+01.3', 'SNR189.1+03.0', 'SNR205.5+00.5', 'SNR347.3-00.5']\n",
      "vel 5 10 ['SNR006.4-00.1', 'SNR027.8+00.6', 'SNR034.7-00.4', 'SNR049.2-00.7', 'SNR073.9+00.9', 'SNR089.0+04.7', 'SNR127.1+00.5', 'SNR132.7+01.3', 'SNR189.1+03.0', 'SNR205.5+00.5']\n",
      "vel 10 10 ['SNR006.4-00.1', 'SNR027.8+00.6', 'SNR034.7-00.4', 'SNR049.2-00.7', 'SNR073.9+00.9', 'SNR089.0+04.7', 'SNR127.1+00.5', 'SNR132.7+01.3', 'SNR189.1+03.0', 'SNR205.5+00.5']\n",
      "vel 15 11 ['SNR006.4-00.1', 'SNR027.8+00.6', 'SNR034.7-00.4', 'SNR049.2-00.7', 'SNR073.9+00.9', 'SNR089.0+04.7', 'SNR127.1+00.5', 'SNR132.7+01.3', 'SNR189.1+03.0', 'SNR205.5+00.5', 'SNR347.3-00.5']\n"
     ]
    }
   ],
   "source": [
    "#check if any of the results_allNbyInfo yamls for each vel has all the SNRs\n",
    "#what other extraneous info is in here? maybe none?\n",
    "#bdir = baseNbyDir\n",
    "bdir = \"/Users/jmcohen/Desktop/cur/nbyMaps/P7rep5year3FGL/3fgl\"\n",
    "#bdir = \"/Users/jmcohen/Desktop/cur/nbyMaps/chkFixedDiff/P7rep5year3FGL_fixedDiff/3fgl/\"\n",
    "vels = [3,5,10,15]\n",
    "#vels = [3,15]\n",
    "for v in vels:\n",
    "    cg = cogev.assocGeVCO(baseNbyDir = bdir,\n",
    "                      ptlkBaseDir = ptlkBaseDir,\n",
    "                      FGLCat = FGLCat,\n",
    "                      vel = v)\n",
    "    print 'vel', v, len(sorted(cg.nbyInfo.keys())), sorted(cg.nbyInfo.keys())\n",
    "#Still some missing :(\n",
    "#which?\n",
    "\n"
   ]
  },
  {
   "cell_type": "markdown",
   "metadata": {},
   "source": [
    "### how many pointlike runs completed?"
   ]
  },
  {
   "cell_type": "code",
   "execution_count": 296,
   "metadata": {
    "collapsed": false
   },
   "outputs": [
    {
     "name": "stdout",
     "output_type": "stream",
     "text": [
      "/Users/jmcohen/Desktop/cur/P7rep\r\n"
     ]
    }
   ],
   "source": [
    "#!cd \"/Users/jmcohen/Desktop/cur/P7rep\"\n",
    "os.chdir(ptlkBaseDir)\n",
    "!pwd"
   ]
  },
  {
   "cell_type": "code",
   "execution_count": 298,
   "metadata": {
    "collapsed": false
   },
   "outputs": [
    {
     "data": {
      "text/plain": [
       "{'SNR049.2-00.7': '/Users/jmcohen/Desktop/cur/P7rep/SNR049.2-00.7/1gevTo316gev/SNR049.2-00.7.dat',\n",
       " 'SNR089.0+04.7': '/Users/jmcohen/Desktop/cur/P7rep/SNR089.0+04.7/1gevTo316gev/SNR089.0+04.7.dat',\n",
       " 'SNR127.1+00.5': '/Users/jmcohen/Desktop/cur/P7rep/SNR127.1+00.5/1gevTo316gev/SNR127.1+00.5_SBPL.dat',\n",
       " 'SNR132.7+01.3': '/Users/jmcohen/Desktop/cur/P7rep/SNR132.7+01.3/1gevTo316gev/SNR132.7+01.3.dat',\n",
       " 'SNR189.1+03.0': '/Users/jmcohen/Desktop/cur/P7rep/SNR189.1+03.0/1gevTo316gev/SNR189.1+03.0_SBPL.dat',\n",
       " 'SNR205.5+00.5': '/Users/jmcohen/Desktop/cur/P7rep/SNR205.5+00.5/1gevTo316gev/SNR205.5+00.5.dat'}"
      ]
     },
     "execution_count": 298,
     "metadata": {},
     "output_type": "execute_result"
    }
   ],
   "source": [
    "{os.path.split(os.path.split(x)[0])[0]:os.path.join(ptlkBaseDir,x) for x in glob('SNR*/%s/SNR*.dat' %(energyDir)) if not 'moved' in x}\n",
    "#glob('SNR*/')#%s/SNR*.dat' %(energyDir))"
   ]
  },
  {
   "cell_type": "code",
   "execution_count": 300,
   "metadata": {
    "collapsed": false
   },
   "outputs": [
    {
     "data": {
      "text/plain": [
       "{'SNR015.4+00.1': '/Users/jmcohen/Desktop/cur/P7rep/3degAdd_fixedDiff/SNR015.4+00.1/1gevTo316gev/SNR015.4+00.1_bu.dat',\n",
       " 'SNR027.8+00.6': '/Users/jmcohen/Desktop/cur/P7rep/3degAdd_fixedDiff/SNR027.8+00.6/1gevTo316gev/SNR027.8+00.6.dat',\n",
       " 'SNR028.8+01.5': '/Users/jmcohen/Desktop/cur/P7rep/3degAdd_fixedDiff/SNR028.8+01.5/1gevTo316gev/SNR028.8+01.5.dat',\n",
       " 'SNR034.7-00.4': '/Users/jmcohen/Desktop/cur/P7rep/3degAdd_fixedDiff/SNR034.7-00.4/1gevTo316gev/SNR034.7-00.4.dat',\n",
       " 'SNR049.2-00.7': '/Users/jmcohen/Desktop/cur/P7rep/3degAdd_fixedDiff/SNR049.2-00.7/1gevTo316gev/SNR049.2-00.7.dat',\n",
       " 'SNR073.9+00.9': '/Users/jmcohen/Desktop/cur/P7rep/3degAdd_fixedDiff/SNR073.9+00.9/1gevTo316gev/SNR073.9+00.9.dat',\n",
       " 'SNR074.0-08.5': '/Users/jmcohen/Desktop/cur/P7rep/3degAdd_fixedDiff/SNR074.0-08.5/1gevTo316gev/SNR074.0-08.5.dat',\n",
       " 'SNR089.0+04.7': '/Users/jmcohen/Desktop/cur/P7rep/3degAdd_fixedDiff/SNR089.0+04.7/1gevTo316gev/SNR089.0+04.7.dat',\n",
       " 'SNR127.1+00.5': '/Users/jmcohen/Desktop/cur/P7rep/3degAdd_fixedDiff/SNR127.1+00.5/1gevTo316gev/SNR127.1+00.5.dat',\n",
       " 'SNR132.7+01.3': '/Users/jmcohen/Desktop/cur/P7rep/3degAdd_fixedDiff/SNR132.7+01.3/1gevTo316gev/SNR132.7+01.3.dat',\n",
       " 'SNR179.0+02.6': '/Users/jmcohen/Desktop/cur/P7rep/3degAdd_fixedDiff/SNR179.0+02.6/1gevTo316gev/SNR179.0+02.6.dat',\n",
       " 'SNR189.1+03.0': '/Users/jmcohen/Desktop/cur/P7rep/3degAdd_fixedDiff/SNR189.1+03.0/1gevTo316gev/SNR189.1+03.0.dat',\n",
       " 'SNR205.5+00.5': '/Users/jmcohen/Desktop/cur/P7rep/3degAdd_fixedDiff/SNR205.5+00.5/1gevTo316gev/SNR205.5+00.5.dat',\n",
       " 'SNR260.4-03.4': '/Users/jmcohen/Desktop/cur/P7rep/3degAdd_fixedDiff/SNR260.4-03.4/1gevTo316gev/SNR260.4-03.4.dat',\n",
       " 'SNR347.3-00.5': '/Users/jmcohen/Desktop/cur/P7rep/3degAdd_fixedDiff/SNR347.3-00.5/1gevTo316gev/SNR347.3-00.5.dat'}"
      ]
     },
     "execution_count": 300,
     "metadata": {},
     "output_type": "execute_result"
    }
   ],
   "source": [
    "os.chdir('/Users/jmcohen/Desktop/cur/P7rep/3degAdd_fixedDiff')\n",
    "{os.path.split(os.path.split(x)[0])[0]:os.path.join('/Users/jmcohen/Desktop/cur/P7rep/3degAdd_fixedDiff',x) for x in glob('SNR*/%s/SNR*.dat' %(energyDir)) if not 'moved' in x}"
   ]
  },
  {
   "cell_type": "markdown",
   "metadata": {},
   "source": [
    "# Which of the 55 SNRs are in 3FGL/2FHL/elsewhere?"
   ]
  },
  {
   "cell_type": "code",
   "execution_count": 318,
   "metadata": {
    "collapsed": false,
    "scrolled": false
   },
   "outputs": [
    {
     "data": {
      "text/plain": [
       "Source_Name\n",
       "3FGL J0059.0-7242e                SMC\n",
       "3FGL J0526.6-6825e                LMC\n",
       "3FGL J0540.3+2756e              S 147\n",
       "3FGL J0617.2+2234e              IC443\n",
       "3FGL J0822.6-4250e           Puppis A\n",
       "3FGL J0833.1-4511e             Vela X\n",
       "3FGL J0852.7-4631e            Vela Jr\n",
       "3FGL J1303.0-6312e     HESS J1303-631\n",
       "3FGL J1324.0-4330e         CenA Lobes\n",
       "3FGL J1514.0-5915e          MSH 15-52\n",
       "3FGL J1615.3-5146e     HESS J1614-518\n",
       "3FGL J1616.2-5054e     HESS J1616-508\n",
       "3FGL J1633.0-4746e     HESS J1632-478\n",
       "3FGL J1713.5-3945e    RX J1713.7-3946\n",
       "3FGL J1801.3-2326e                W28\n",
       "3FGL J1805.6-2136e                W30\n",
       "3FGL J1824.5-1351e     HESS J1825-137\n",
       "3FGL J1836.5-0655e     HESS J1837-069\n",
       "3FGL J1840.9-0532e     HESS J1841-055\n",
       "3FGL J1855.9+0121e                W44\n",
       "3FGL J1923.2+1408e               W51C\n",
       "3FGL J2021.0+4031e        gamma Cygni\n",
       "3FGL J2028.6+4110e      Cygnus Cocoon\n",
       "3FGL J2045.2+5026e              HB 21\n",
       "3FGL J2051.0+3040e        Cygnus Loop\n",
       "Name: Extended_Source_Name, dtype: object"
      ]
     },
     "execution_count": 318,
     "metadata": {},
     "output_type": "execute_result"
    }
   ],
   "source": [
    "fgl3ES = newFglDF[newFglDF.Extended_Source_Name.notnull()]\n",
    "fgl3ES.Extended_Source_Name #These are not all SNRs"
   ]
  },
  {
   "cell_type": "markdown",
   "metadata": {},
   "source": [
    "### The new 2FHL ES are W41, kookaburra, HESS J1356, NGC xxxx, and RCW 86\n",
    "### there was also the source near kookaburra (not associated with an SNR?) and Helene's SNR\n",
    "### what about the other SNRs waiting to be published CTB 109, HESS J1731−347 (SNR G353.6-0.7), SN 1006 ( both young!), G326.31.8 (fabio's new composite source) , CTB 109, PKS 1209-51/52, CTB 37A\n"
   ]
  }
 ],
 "metadata": {
  "kernelspec": {
   "display_name": "Python 2",
   "language": "python",
   "name": "python2"
  },
  "language_info": {
   "codemirror_mode": {
    "name": "ipython",
    "version": 2
   },
   "file_extension": ".py",
   "mimetype": "text/x-python",
   "name": "python",
   "nbconvert_exporter": "python",
   "pygments_lexer": "ipython2",
   "version": "2.7.10"
  }
 },
 "nbformat": 4,
 "nbformat_minor": 0
}
