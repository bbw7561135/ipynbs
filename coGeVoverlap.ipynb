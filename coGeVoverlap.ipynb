{
 "cells": [
  {
   "cell_type": "markdown",
   "metadata": {
    "collapsed": true
   },
   "source": [
    "# Testing coGeVoverlap.py"
   ]
  },
  {
   "cell_type": "code",
   "execution_count": 65,
   "metadata": {
    "collapsed": false
   },
   "outputs": [],
   "source": [
    "import pyJam.fermi.SNR_MC.coGevOverlap as cogev\n",
    "import pandas as pd\n",
    "import aplpy\n",
    "import astropy.io.fits as pyfits\n",
    "from astropy import constants as c\n",
    "from astropy import units as u\n",
    "from astropy import wcs\n",
    "from astropy import table\n",
    "from astropy.coordinates import Angle, SkyCoord\n",
    "import numpy as np\n",
    "from spectral_cube import SpectralCube\n",
    "import os, sys\n",
    "import getpass\n",
    "home= os.environ['HOME'] \n",
    "us = getpass.getuser()\n",
    "if us == 'elunejava':\n",
    "    vol = \"/Volumes/BurgerTime/Backups.backupdb/gs66-tunabelt/Latest/ASD Lion System/Users/jmcohen/Desktop\"\n",
    "elif us == 'jmcohen':\n",
    "    vol = '/Users/jmcohen/Desktop/'\n",
    "\n",
    "#bu =  #backup dir use instead of desktop somehow"
   ]
  },
  {
   "cell_type": "code",
   "execution_count": 66,
   "metadata": {
    "collapsed": false
   },
   "outputs": [],
   "source": [
    "import warnings\n",
    "warnings.filterwarnings('ignore')"
   ]
  },
  {
   "cell_type": "code",
   "execution_count": 67,
   "metadata": {
    "collapsed": false
   },
   "outputs": [
    {
     "name": "stdout",
     "output_type": "stream",
     "text": [
      "The autoreload extension is already loaded. To reload it, use:\n",
      "  %reload_ext autoreload\n"
     ]
    }
   ],
   "source": [
    "#reload(cogev)\n",
    "%load_ext autoreload\n",
    "#%aimport cg\n",
    "%autoreload 2"
   ]
  },
  {
   "cell_type": "code",
   "execution_count": 74,
   "metadata": {
    "collapsed": false
   },
   "outputs": [
    {
     "ename": "IOError",
     "evalue": "[Errno 2] No such file or directory: '/Volumes/BurgerTime/Backups.backupdb/gs66-tunabelt/Latest/ASD Lion System/Users/jmcohen/Desktop/cur/nbyMaps/P7rep5year3FGL_fixedDiff/3fgl/vel5/results_allNbyInfo.yaml'",
     "output_type": "error",
     "traceback": [
      "\u001b[0;31m---------------------------------------------------------------------------\u001b[0m",
      "\u001b[0;31mIOError\u001b[0m                                   Traceback (most recent call last)",
      "\u001b[0;32m<ipython-input-74-9e2be6622fb2>\u001b[0m in \u001b[0;36m<module>\u001b[0;34m()\u001b[0m\n\u001b[1;32m      7\u001b[0m                       \u001b[0mptlkBaseDir\u001b[0m \u001b[0;34m=\u001b[0m \u001b[0mptlkBaseDir\u001b[0m\u001b[0;34m,\u001b[0m\u001b[0;34m\u001b[0m\u001b[0m\n\u001b[1;32m      8\u001b[0m                       \u001b[0mFGLCat\u001b[0m \u001b[0;34m=\u001b[0m \u001b[0mFGLCat\u001b[0m\u001b[0;34m,\u001b[0m\u001b[0;34m\u001b[0m\u001b[0m\n\u001b[0;32m----> 9\u001b[0;31m                       vel = 5,)\n\u001b[0m",
      "\u001b[0;32m/Users/elunejava/Dropbox/python_files/pyJam/fermi/SNR_MC/coGevOverlap.py\u001b[0m in \u001b[0;36m__init__\u001b[0;34m(self, snr, baseNbyDir, ptlkBaseDir, FGLCat, vel, energyDir)\u001b[0m\n\u001b[1;32m     57\u001b[0m \u001b[0;34m\u001b[0m\u001b[0m\n\u001b[1;32m     58\u001b[0m             \u001b[0;31m#nbyMaps results. allNby has all the same info that the individual yamls have\u001b[0m\u001b[0;34m\u001b[0m\u001b[0;34m\u001b[0m\u001b[0m\n\u001b[0;32m---> 59\u001b[0;31m             \u001b[0mself\u001b[0m\u001b[0;34m.\u001b[0m\u001b[0mnbyInfo\u001b[0m \u001b[0;34m=\u001b[0m \u001b[0myaml\u001b[0m\u001b[0;34m.\u001b[0m\u001b[0mload\u001b[0m\u001b[0;34m(\u001b[0m\u001b[0mopen\u001b[0m\u001b[0;34m(\u001b[0m\u001b[0mos\u001b[0m\u001b[0;34m.\u001b[0m\u001b[0mpath\u001b[0m\u001b[0;34m.\u001b[0m\u001b[0mjoin\u001b[0m\u001b[0;34m(\u001b[0m\u001b[0mself\u001b[0m\u001b[0;34m.\u001b[0m\u001b[0mvelDir\u001b[0m\u001b[0;34m,\u001b[0m\u001b[0;34m'results_allNbyInfo.yaml'\u001b[0m\u001b[0;34m)\u001b[0m\u001b[0;34m)\u001b[0m\u001b[0;34m)\u001b[0m\u001b[0;34m\u001b[0m\u001b[0m\n\u001b[0m\u001b[1;32m     60\u001b[0m \u001b[0;34m\u001b[0m\u001b[0m\n\u001b[1;32m     61\u001b[0m             \u001b[0;31m#Get info from runptlk results\u001b[0m\u001b[0;34m\u001b[0m\u001b[0;34m\u001b[0m\u001b[0m\n",
      "\u001b[0;31mIOError\u001b[0m: [Errno 2] No such file or directory: '/Volumes/BurgerTime/Backups.backupdb/gs66-tunabelt/Latest/ASD Lion System/Users/jmcohen/Desktop/cur/nbyMaps/P7rep5year3FGL_fixedDiff/3fgl/vel5/results_allNbyInfo.yaml'"
     ]
    }
   ],
   "source": [
    "#I should get the final 3FGL for this\n",
    "baseNbyDir = os.path.join(vol,'cur/nbyMaps/P7rep5year3FGL_fixedDiff/3fgl/')\n",
    "ptlkBaseDir = os.path.join(vol,'cur/P7rep/3degAdd_fixedDiff/') #change P7rep dir when the data is done processing\n",
    "#FGLCat = os.path.join(home,'Dropbox/Catalogs/3FGL/3FGL-v13r3_v6r7p1_3lacv11p9_v3.fits') #I need to change this to read in the new 3FGL\n",
    "FGLCat = os.path.join(home,'Dropbox/Catalogs/3FGL/gll_psc_v16.fit') #I need to change this to read in the new 3FGL\n",
    "cg = cogev.assocGeVCO(baseNbyDir = baseNbyDir,\n",
    "                      ptlkBaseDir = ptlkBaseDir,\n",
    "                      FGLCat = FGLCat,\n",
    "                      vel = 5,)"
   ]
  },
  {
   "cell_type": "code",
   "execution_count": 68,
   "metadata": {
    "collapsed": false,
    "scrolled": true
   },
   "outputs": [
    {
     "data": {
      "text/plain": [
       "{'50pcAngSep': 0.9549296583333333,\n",
       " 'NickName': 'W44',\n",
       " 'P7R42955': {'CLASS1': 'Missing',\n",
       "  'Conf_95_PosAng': 'Missing',\n",
       "  'Conf_95_SemiMajor': 'Missing',\n",
       "  'Conf_95_SemiMinor': 'Missing',\n",
       "  'E_break': 3092.3727234174844,\n",
       "  'E_breakError': 0.0,\n",
       "  'Flags': 'Missing',\n",
       "  'Flux': 7.3425951629230534e-09,\n",
       "  'FluxError': 5.504177659847811e-10,\n",
       "  'GLAT': 'i',\n",
       "  'GLON': 'M',\n",
       "  'Index': 1.913099402860026,\n",
       "  'IndexError': 0.11485042409739167,\n",
       "  'Norm': 1.271504769202721e-12,\n",
       "  'NormError': 5.765376335838232e-14,\n",
       "  'TS': 314.60349519061856,\n",
       "  'b': -0.8407431721247447,\n",
       "  'beta': 0.9165018445774785,\n",
       "  'betaError': 0.19228014724357265,\n",
       "  'dist': 0.4925138937657719,\n",
       "  'eFlux': 3.4132047865997396e-11,\n",
       "  'eFluxError': 2.323973625822441e-12,\n",
       "  'index': 1.913099402860026,\n",
       "  'indexErr': 0.11485042409739167,\n",
       "  'l': 34.471492375547335,\n",
       "  'srcSep': 0.47508553901454237,\n",
       "  'srcSepPC': 24.875420658927016},\n",
       " 'P7R42955G': {'CLASS1': 'Missing',\n",
       "  'Conf_95_PosAng': 'Missing',\n",
       "  'Conf_95_SemiMajor': 'Missing',\n",
       "  'Conf_95_SemiMinor': 'Missing',\n",
       "  'Flags': 'Missing',\n",
       "  'Flux': 4.890243249280152e-10,\n",
       "  'FluxError': 8.35796201408623e-12,\n",
       "  'GLAT': 'i',\n",
       "  'GLON': 'M',\n",
       "  'Index': 2.013201877460622,\n",
       "  'IndexError': 0.2413837673458049,\n",
       "  'Int_Flux': 4.858464835878904e-10,\n",
       "  'Int_FluxError': 9.509776505656296e-12,\n",
       "  'TS': 6.153171692974865,\n",
       "  'b': -0.7510987718806184,\n",
       "  'dist': 0.48945633726328314,\n",
       "  'eFlux': 4.41337050234756e-12,\n",
       "  'eFluxError': 1.9786225073308726e-12,\n",
       "  'index': 2.013201877460622,\n",
       "  'indexErr': 0.2413837673458049,\n",
       "  'l': 35.00043361091201,\n",
       "  'srcSep': 0.460528329691482,\n",
       "  'srcSepPC': 24.113206960984726},\n",
       " 'P7R42958': {'CLASS1': 'Missing',\n",
       "  'Conf_95_PosAng': 'Missing',\n",
       "  'Conf_95_SemiMajor': 'Missing',\n",
       "  'Conf_95_SemiMinor': 'Missing',\n",
       "  'E_break': 1917.4767316388761,\n",
       "  'E_breakError': 0.0,\n",
       "  'Flags': 'Missing',\n",
       "  'Flux': 6.946337029973543e-09,\n",
       "  'FluxError': 6.327762035941415e-10,\n",
       "  'GLAT': 'i',\n",
       "  'GLON': 'M',\n",
       "  'Index': 2.4570484140848006,\n",
       "  'IndexError': 0.2383757950499891,\n",
       "  'Norm': 2.343701104496858e-12,\n",
       "  'NormError': 2.3805468723837986e-13,\n",
       "  'TS': 175.87011464859825,\n",
       "  'b': -0.46090893319491993,\n",
       "  'beta': 0.4356551497778216,\n",
       "  'betaError': 0.2533723998055975,\n",
       "  'dist': 0.9401963437172934,\n",
       "  'eFlux': 2.2861803720149544e-11,\n",
       "  'eFluxError': 2.005311768169158e-12,\n",
       "  'index': 2.4570484140848006,\n",
       "  'indexErr': 0.2383757950499891,\n",
       "  'l': 35.607544488098824,\n",
       "  'srcSep': 0.9241526803540859,\n",
       "  'srcSepPC': 48.38852120097708},\n",
       " 'P7R42958A': {'CLASS1': 'Missing',\n",
       "  'Conf_95_PosAng': 'Missing',\n",
       "  'Conf_95_SemiMajor': 'Missing',\n",
       "  'Conf_95_SemiMinor': 'Missing',\n",
       "  'E_break': 1869.0708195620086,\n",
       "  'E_breakError': 0.0,\n",
       "  'Flags': 'Missing',\n",
       "  'Flux': 2.657115674260857e-09,\n",
       "  'FluxError': 7.013050061628707e-10,\n",
       "  'GLAT': 'i',\n",
       "  'GLON': 'M',\n",
       "  'Index': 1.9618272287448901,\n",
       "  'IndexError': 0.5921199272374926,\n",
       "  'Norm': 1.043011691975036e-12,\n",
       "  'NormError': 2.6526786455354046e-13,\n",
       "  'TS': 44.44390434853267,\n",
       "  'b': -1.3571420651143962,\n",
       "  'beta': 0.7761161036925661,\n",
       "  'betaError': 0.5594490362625563,\n",
       "  'dist': 0.9747642426655934,\n",
       "  'eFlux': 9.294787942583829e-12,\n",
       "  'eFluxError': 2.0698560181014962e-12,\n",
       "  'index': 1.9618272287448901,\n",
       "  'indexErr': 0.5921199272374926,\n",
       "  'l': 34.79167722785411,\n",
       "  'srcSep': 0.9471732425762449,\n",
       "  'srcSepPC': 49.59387502056298},\n",
       " 'PS_2': {'CLASS1': None,\n",
       "  'Flux': 3.3416301975934795e-09,\n",
       "  'FluxError': 5.286321090840554e-10,\n",
       "  'Index': 2.9771590577144105,\n",
       "  'IndexError': 0.25521383098914435,\n",
       "  'Norm': 6.60700976676612e-12,\n",
       "  'NormError': 1.4674201349368521e-12,\n",
       "  'TS': 30.665237474720925,\n",
       "  'a': 0.08873421755733968,\n",
       "  'ang': 10.507683425350455,\n",
       "  'b': 0.05759044020923177,\n",
       "  'dec': 0.836762362112227,\n",
       "  'dist': 0.8838589383054861,\n",
       "  'eFlux': 1.079398525192951e-11,\n",
       "  'eFluxError': 1.978354690326039e-12,\n",
       "  'index': 2.9771590577144105,\n",
       "  'indexErr': 0.25521383098914435,\n",
       "  'l': 33.87469070301891,\n",
       "  'lsigma': 0.07146614222142209,\n",
       "  'qual': 5.761520210774159,\n",
       "  'ra': 283.2928757624237,\n",
       "  'srcSep': 0.9083932627683371,\n",
       "  'srcSepPC': 47.56336002558463},\n",
       " 'PS_4': {'CLASS1': None,\n",
       "  'Flux': 4.320717285179279e-09,\n",
       "  'FluxError': 4.3545909645656576e-10,\n",
       "  'Index': 2.4435675442897007,\n",
       "  'IndexError': 0.09069709754835423,\n",
       "  'Norm': 6.2387824959360415e-12,\n",
       "  'NormError': 8.662402508679919e-13,\n",
       "  'TS': 64.38777134020347,\n",
       "  'a': 0.025942125081190256,\n",
       "  'ang': 87.00680955104566,\n",
       "  'b': 0.01933220097415525,\n",
       "  'dec': 1.7482866630332872,\n",
       "  'dist': 0.510909709388063,\n",
       "  'eFlux': 2.0781072239327113e-11,\n",
       "  'eFluxError': 2.239858550993246e-12,\n",
       "  'index': 2.4435675442897007,\n",
       "  'indexErr': 0.09069709754835423,\n",
       "  'l': 34.851893696366616,\n",
       "  'lsigma': 0.02259192214952584,\n",
       "  'qual': 1.4308162838983385,\n",
       "  'ra': 283.6569490453705,\n",
       "  'srcSep': 0.5306018666311442,\n",
       "  'srcSepPC': 27.782248776167407},\n",
       " 'PS_6': {'CLASS1': None,\n",
       "  'Flux': 1.393454861550612e-09,\n",
       "  'FluxError': 6.310501834307246e-10,\n",
       "  'Index': 2.4165002188839932,\n",
       "  'IndexError': 0.2667568133420812,\n",
       "  'Norm': 1.9743969007943248e-12,\n",
       "  'NormError': 1.1580217010943706e-12,\n",
       "  'TS': 17.106708096456714,\n",
       "  'a': 0.047654452043521416,\n",
       "  'ang': -66.89131286691848,\n",
       "  'b': 0.04176546762690071,\n",
       "  'dec': 0.7686872665173117,\n",
       "  'dist': 0.9047749649974364,\n",
       "  'eFlux': 6.904363447450977e-12,\n",
       "  'eFluxError': 2.4854502996371943e-12,\n",
       "  'index': 2.4165002188839932,\n",
       "  'indexErr': 0.2667568133420812,\n",
       "  'l': 34.44526484677203,\n",
       "  'lsigma': 0.04453883213079836,\n",
       "  'qual': 1.5686398655890192,\n",
       "  'ra': 284.6763476025216,\n",
       "  'srcSep': 0.8833619060843632,\n",
       "  'srcSepPC': 46.252721254156064},\n",
       " 'RadioRadius': 0.26,\n",
       " 'RadioRadiusPC': 13.61356816866415,\n",
       " 'SNR034.7-00.4_Fit': {'DEC': [1.3695816410076693],\n",
       "  'DECError': [0.007108625868312207],\n",
       "  'Flux': 6.903105408330704e-08,\n",
       "  'FluxError': 1.7122430748149405e-09,\n",
       "  'Index': [2.6960927900126026],\n",
       "  'IndexError': [0.032239673602717706],\n",
       "  'Norm': [1.170898073263642e-10],\n",
       "  'NormError': [4.1144577418552e-12],\n",
       "  'RA': [284.0287334638275],\n",
       "  'RAError': [0.006953900570424776],\n",
       "  'Sigma': [0.30825145179523916],\n",
       "  'SigmaError': [0.01007714413093817],\n",
       "  'TS': 7198.657114693313,\n",
       "  'TSext': 450.71403090725653,\n",
       "  'b': -0.4160558256232897,\n",
       "  'dist': 0.029796132564417172,\n",
       "  'eFlux': 2.646012646293595e-10,\n",
       "  'eFluxError': 7.761367154705482e-12,\n",
       "  'l': 34.6844538509491},\n",
       " 'dist': 3.0,\n",
       " 'ext': 0.30825145179523916,\n",
       " 'extPC': 16.14000827732377,\n",
       " 'vel': 45.0}"
      ]
     },
     "execution_count": 68,
     "metadata": {},
     "output_type": "execute_result"
    }
   ],
   "source": [
    "#should I put things into a pd.dataFrame object? too messy for now\n",
    "#this doesn't work right for 3FGL + old nby results because it used the P7 instead of 3FGL name\n",
    "gevInfo = cg.getLAT()\n",
    "gevInfo"
   ]
  },
  {
   "cell_type": "markdown",
   "metadata": {},
   "source": [
    "# Some of the values below are from http://www.aanda.org/articles/aa/pdf/2004/40/aa1327.pdf"
   ]
  },
  {
   "cell_type": "markdown",
   "metadata": {},
   "source": [
    "# What's wroing with my CO calculation?\n",
    "## leaving out solid angle correction (factor of like 3000 I think) , and pixel size ^2"
   ]
  },
  {
   "cell_type": "code",
   "execution_count": 47,
   "metadata": {
    "collapsed": false
   },
   "outputs": [
    {
     "name": "stdout",
     "output_type": "stream",
     "text": [
      "Area = 2.84648055797e-08\n",
      "Xco= 2.7e+20 WCO= 50.9 area= 0.084100000058 arcmin2 dist= 22.4 theta= 0.5800000002 arcmin numPixs 0\n",
      "3144.81 solMass 3276.59\n"
     ]
    }
   ],
   "source": [
    "#m,malt = cogev.WCO2Mass(WCO=50.9, d=22.4*u.kpc, theta=0.58, numPixs=0, Xco = 2.7e20, alt = True) #here, theta is in arcmin\n",
    "m,malt = cogev.WCO2Mass(WCO=50.9, d=22.4*u.kpc, theta=0.00966666667, numPixs=0, Xco = 2.7e20, alt = True) #theta = 0.58 arcmin to deg\n",
    "print format(m,'g'), format(malt,'g')"
   ]
  },
  {
   "cell_type": "code",
   "execution_count": 69,
   "metadata": {
    "collapsed": false
   },
   "outputs": [
    {
     "name": "stdout",
     "output_type": "stream",
     "text": [
      "9.93911958764e-10 1 / (cm2 s)\n"
     ]
    }
   ],
   "source": [
    "F = cogev.GeVpi0Flux_q(1*u.kpc,1e3*u.solMass)\n",
    "print F"
   ]
  },
  {
   "cell_type": "code",
   "execution_count": 8,
   "metadata": {
    "collapsed": false
   },
   "outputs": [
    {
     "name": "stdout",
     "output_type": "stream",
     "text": [
      "Xco= 2e+20 WCO= 339.579925537 area= 14.0625001006 arcmin2 dist= 3.0 theta= 7.50000002682 arcmin numPixs 21\n",
      "MaxR =  0.323827226022 physSep =  16.9555539089\n",
      "For SNR034.7-00.4, PS_6 Flux < BKG, but TS > 16, INTERESTING NON SNR-MC??: F_actual = 1.39345486155e-09 ph/cm^2/s, F_bkg = 2.27008585723e-06 ph/cm^2/s. F_actual/F_bkg = 0.000613833550442, TS = 17.1067080965, W(CO) = 339.58, M = 2.05559e+07 solMass \n",
      "\n",
      "Xco= 2e+20 WCO= 376.123504639 area= 14.0625001006 arcmin2 dist= 3.0 theta= 7.50000002682 arcmin numPixs 41\n",
      "MaxR =  0.453500005603 physSep =  23.7452047722\n",
      "For SNR034.7-00.4, P7R42958A Flux < BKG, but TS > 16, INTERESTING NON SNR-MC??: F_actual = 2.65711567426e-09 ph/cm^2/s, F_bkg = 9.58428837314e-06 ph/cm^2/s. F_actual/F_bkg = 0.000277236615888, TS = 44.4439043485, W(CO) = 376.124, M = 8.6787e+07 solMass \n",
      "\n",
      "Xco= 2e+20 WCO= 585.703735352 area= 14.0625001006 arcmin2 dist= 3.0 theta= 7.50000002682 arcmin numPixs 24\n",
      "MaxR =  0.342399998754 physSep =  17.9280220154\n",
      "For SNR034.7-00.4, P7R42955 Flux < BKG, but TS > 16, INTERESTING NON SNR-MC??: F_actual = 7.34259516292e-09 ph/cm^2/s, F_bkg = 5.11401693646e-06 ph/cm^2/s. F_actual/F_bkg = 0.00143577842118, TS = 314.603495191, W(CO) = 585.704, M = 4.63081e+07 solMass \n",
      "\n",
      "Xco= 2e+20 WCO= 114.833106995 area= 14.0625001006 arcmin2 dist= 3.0 theta= 7.50000002682 arcmin numPixs 19\n",
      "MaxR =  0.312971062541 physSep =  16.3871265181\n",
      "For SNR034.7-00.4, PS_4 Flux < BKG, but TS > 16, INTERESTING NON SNR-MC??: F_actual = 4.32071728518e-09 ph/cm^2/s, F_bkg = 6.28399748004e-07 ph/cm^2/s. F_actual/F_bkg = 0.0068757463683, TS = 64.3877713402, W(CO) = 114.833, M = 5.69024e+06 solMass \n",
      "\n",
      "Xco= 2e+20 WCO= 743.239257812 area= 14.0625001006 arcmin2 dist= 3.0 theta= 7.50000002682 arcmin numPixs 27\n",
      "MaxR =  0.360100000352 physSep =  18.854791932\n",
      "For SNR034.7-00.4, P7R42958 Flux < BKG, but TS > 16, INTERESTING NON SNR-MC??: F_actual = 6.94633702997e-09 ph/cm^2/s, F_bkg = 8.2133031747e-06 ph/cm^2/s. F_actual/F_bkg = 0.000845742191932, TS = 175.870114649, W(CO) = 743.239, M = 7.43725e+07 solMass \n",
      "\n",
      "Xco= 2e+20 WCO= 165.209182739 area= 14.0625001006 arcmin2 dist= 3.0 theta= 7.50000002682 arcmin numPixs 24\n",
      "MaxR =  0.344367108779 physSep =  18.0310196554\n",
      "For SNR034.7-00.4, PS_2 Flux < BKG, but TS > 16, INTERESTING NON SNR-MC??: F_actual = 3.34163019759e-09 ph/cm^2/s, F_bkg = 1.44250840074e-06 ph/cm^2/s. F_actual/F_bkg = 0.00231654123878, TS = 30.6652374747, W(CO) = 165.209, M = 1.30621e+07 solMass \n",
      "\n",
      "Xco= 2e+20 WCO= 869.485351562 area= 14.0625001006 arcmin2 dist= 3.0 theta= 7.50000002682 arcmin numPixs 34\n",
      "MaxR =  0.406899999082 physSep =  21.3052341359\n",
      "For SNR034.7-00.4, flux of P7R42955G is below BKG estimate and TS < 16, NO GOOD.F_actual = 4.89024324928e-10 ph/cm^2/s, F_bkg = 1.52363797558e-05 ph/cm^2/s. F_actual/F_bkg = 3.20958346251e-05, TS = 6.15317169297, W(CO) = 869.485, M = 1.37967e+08 solMass \n",
      "\n"
     ]
    }
   ],
   "source": [
    "info = cg.overlap()"
   ]
  },
  {
   "cell_type": "markdown",
   "metadata": {},
   "source": [
    "## Trying to match the 1e-7 in that aharonian paper for Flux from passive cloud"
   ]
  },
  {
   "cell_type": "code",
   "execution_count": 20,
   "metadata": {
    "collapsed": false
   },
   "outputs": [],
   "source": [
    "M = 1.e-5*u.solMass\n",
    "q = 1.e25/u.s\n",
    "d = 1.*u.kpc"
   ]
  },
  {
   "cell_type": "code",
   "execution_count": 27,
   "metadata": {
    "collapsed": false
   },
   "outputs": [
    {
     "name": "stdout",
     "output_type": "stream",
     "text": [
      "3.16709e+09\n"
     ]
    }
   ],
   "source": [
    "m = format(3167092754.9912753,'g')\n",
    "print m\n"
   ]
  },
  {
   "cell_type": "code",
   "execution_count": 76,
   "metadata": {
    "collapsed": false
   },
   "outputs": [],
   "source": [
    "def F(m,d,q):\n",
    "    \"\"\"m: Cloud mass[1e5 u.solMass]\n",
    "       d: 1*u.kpc\n",
    "       q: 1e-25/u.sec\n",
    "    \"\"\"\n",
    "    m = m*1.e5\n",
    "    q = q*1.e-25\n",
    "    return 1.e7*(m/c.m_p.to(u.solMass))*q/((d.to(u.cm))**2*np.pi*4)"
   ]
  },
  {
   "cell_type": "code",
   "execution_count": 78,
   "metadata": {
    "collapsed": false
   },
   "outputs": [
    {
     "data": {
      "text/latex": [
       "$0.993912 \\; \\mathrm{\\frac{1}{s\\,cm^{2}}}$"
      ],
      "text/plain": [
       "<Quantity 0.9939119587638586 1 / (cm2 s)>"
      ]
     },
     "execution_count": 78,
     "metadata": {},
     "output_type": "execute_result"
    }
   ],
   "source": [
    "F(1*u.solMass,1*u.kpc,1/u.s)"
   ]
  },
  {
   "cell_type": "markdown",
   "metadata": {},
   "source": [
    "## Not sure why it's not working, try again without putting in the factors beforehand"
   ]
  },
  {
   "cell_type": "code",
   "execution_count": 72,
   "metadata": {
    "collapsed": false
   },
   "outputs": [
    {
     "data": {
      "text/latex": [
       "$9.93912\\times 10^{-08} \\; \\mathrm{\\frac{1}{s\\,cm^{2}}}$"
      ],
      "text/plain": [
       "<Quantity 9.939119587638587e-08 1 / (cm2 s)>"
      ]
     },
     "execution_count": 72,
     "metadata": {},
     "output_type": "execute_result"
    }
   ],
   "source": [
    "M = 1.e5*u.solMass\n",
    "q = 1.e-25/u.s # maybe this emissivity is not the right value? see http://arxiv.org/pdf/1506.00047v1.pdf\n",
    "d = 1.*u.kpc\n",
    "#these work with the F above\n",
    "F(M,d,q)"
   ]
  },
  {
   "cell_type": "code",
   "execution_count": 82,
   "metadata": {
    "collapsed": false
   },
   "outputs": [],
   "source": [
    "def F_noUconv(m,d,q=1.e-25*u.s):\n",
    "    return (m/c.m_p)*q/(d**2*np.pi*4)"
   ]
  },
  {
   "cell_type": "code",
   "execution_count": 83,
   "metadata": {
    "collapsed": false
   },
   "outputs": [],
   "source": [
    "flux = F_noUconv(M.to(u.kg),d.to(u.cm))"
   ]
  },
  {
   "cell_type": "code",
   "execution_count": 114,
   "metadata": {
    "collapsed": false
   },
   "outputs": [
    {
     "data": {
      "text/latex": [
       "$9.93912\\times 10^{-08} \\; \\mathrm{\\frac{s}{cm^{2}}}$"
      ],
      "text/plain": [
       "<Quantity 9.939119587638587e-08 s / cm2>"
      ]
     },
     "execution_count": 114,
     "metadata": {},
     "output_type": "execute_result"
    }
   ],
   "source": [
    "flux"
   ]
  },
  {
   "cell_type": "code",
   "execution_count": 115,
   "metadata": {
    "collapsed": false
   },
   "outputs": [],
   "source": [
    "snr = 'SNR034.'\n",
    "cand = 'PS_8'\n",
    "fluxCand = 3.4e-8\n",
    "fluxBkg = flux"
   ]
  },
  {
   "cell_type": "code",
   "execution_count": 117,
   "metadata": {
    "collapsed": false
   },
   "outputs": [
    {
     "name": "stdout",
     "output_type": "stream",
     "text": [
      "For SNR034., PS_8 Flux > BKG: F_actual = 3.4e-08 ph/cm^2/s, F_bkg = 9.93911958764e-08 s / cm2 ph/cm^2/s. F_actual/F_bkg = 0.342082613054 cm2 / s\n"
     ]
    }
   ],
   "source": [
    "print 'For %s, %s Flux > BKG: F_actual = %s ph/cm^2/s, F_bkg = %s ph/cm^2/s. F_actual/F_bkg = %s' %(snr,cand,fluxCand,fluxBkg,fluxCand/fluxBkg)"
   ]
  },
  {
   "cell_type": "code",
   "execution_count": 2,
   "metadata": {
    "collapsed": false
   },
   "outputs": [],
   "source": [
    "from astropy import units as u\n",
    "from astropy import constants as c"
   ]
  },
  {
   "cell_type": "code",
   "execution_count": 34,
   "metadata": {
    "collapsed": false
   },
   "outputs": [
    {
     "data": {
      "text/latex": [
       "$4.47 \\times 10^{-7} \\; \\mathrm{\\frac{1}{s\\,cm^{2}}}$"
      ],
      "text/plain": [
       "<Quantity 4.47e-07 1 / (cm2 s)>"
      ]
     },
     "execution_count": 34,
     "metadata": {},
     "output_type": "execute_result"
    }
   ],
   "source": [
    "#Test version with Esn and density\n",
    "cogev.GeVpi0Flux_n(d = 1*u.kpc, Esn = 1e51*u.erg, n = 1*u.cm**-3)\n",
    "cogev.GeVpi0Flux_n(d = 1, Esn = 1, n = 1)\n",
    "#type(1*u.kpc)"
   ]
  },
  {
   "cell_type": "code",
   "execution_count": 10,
   "metadata": {
    "collapsed": false
   },
   "outputs": [
    {
     "data": {
      "text/latex": [
       "$7.5714881 \\times 10^{-7} \\; \\mathrm{\\frac{1}{s\\,cm^{2}}}$"
      ],
      "text/plain": [
       "<Quantity 7.571488133762317e-07 1 / (cm2 s)>"
      ]
     },
     "execution_count": 10,
     "metadata": {},
     "output_type": "execute_result"
    }
   ],
   "source": [
    "#Test version with E**-1.7 and Mass\n",
    "#doesn't give exactly the same answer as the above for 100MeV, off by ~1.5\n",
    "#is it because I'm not useing the precise prefactor?\n",
    "#using the 1.2e-13 suggested in Casanova et al 2012 makes it worse, factor of ~1.7\n",
    "cogev.GeVpi0Flux_m(d = 1*u.kpc, Egam = 100*u.MeV, M = 1e5*u.M_sun) \n",
    "#cogev.GeVpi0Flux_m(d = 1, Egam = 0.0001, M = 1) \n"
   ]
  },
  {
   "cell_type": "markdown",
   "metadata": {},
   "source": [
    "# Estimate background flux pi_0 from passive (sea of) CRs (ignorse contribution from bremss and IC)"
   ]
  },
  {
   "cell_type": "code",
   "execution_count": 1,
   "metadata": {
    "collapsed": true
   },
   "outputs": [],
   "source": [
    "#what ranges of n and M for given d?\n",
    "#back these numbers up! Gabici 2009? Bolatto?\n",
    "#n_ISM: ~1-10\n",
    "#n_cloud:1e3-1e4\n",
    "#M_cloud:1e3-1e6\n",
    "#d 0.2-6kpc"
   ]
  },
  {
   "cell_type": "code",
   "execution_count": 31,
   "metadata": {
    "collapsed": false
   },
   "outputs": [
    {
     "name": "stdout",
     "output_type": "stream",
     "text": [
      "1.67856721573e-09 1 / (cm2 s) 1.67856721573e-06 1 / (cm2 s) 4.19641803931e-12 1 / (cm2 s) 4.19641803931e-09 1 / (cm2 s)\n"
     ]
    }
   ],
   "source": [
    "#Integral flux > 1 GeV\n",
    "me3d03 = cogev.GeVpi0Flux_m(d = 0.3*u.kpc, Egam = 1000.*u.MeV, M = 1e3*u.M_sun) \n",
    "me6d03 = cogev.GeVpi0Flux_m(d = 0.3*u.kpc, Egam = 1000.*u.MeV, M = 1e6*u.M_sun) \n",
    "me3d6 = cogev.GeVpi0Flux_m(d = 6*u.kpc, Egam = 1000.*u.MeV, M = 1e3*u.M_sun) \n",
    "me6d6 = cogev.GeVpi0Flux_m(d = 6*u.kpc, Egam = 1000.*u.MeV, M = 1e6*u.M_sun) \n",
    "print me3d03 ,me6d03 ,me3d6, me6d6"
   ]
  },
  {
   "cell_type": "code",
   "execution_count": 24,
   "metadata": {
    "collapsed": false
   },
   "outputs": [
    {
     "data": {
      "text/html": [
       "<div>\n",
       "<table border=\"1\" class=\"dataframe\">\n",
       "  <thead>\n",
       "    <tr style=\"text-align: right;\">\n",
       "      <th></th>\n",
       "      <th>Cloud_Mass</th>\n",
       "      <th>Distance</th>\n",
       "    </tr>\n",
       "  </thead>\n",
       "  <tbody>\n",
       "    <tr>\n",
       "      <th>0</th>\n",
       "      <td>1000.0 solMass</td>\n",
       "      <td>0.3 kpc</td>\n",
       "    </tr>\n",
       "    <tr>\n",
       "      <th>1</th>\n",
       "      <td>1000000.0 solMass</td>\n",
       "      <td>6.0 kpc</td>\n",
       "    </tr>\n",
       "    <tr>\n",
       "      <th>2</th>\n",
       "      <td>1000.0 solMass</td>\n",
       "      <td>6.0 kpc</td>\n",
       "    </tr>\n",
       "    <tr>\n",
       "      <th>3</th>\n",
       "      <td>1000000.0 solMass</td>\n",
       "      <td>0.3 kpc</td>\n",
       "    </tr>\n",
       "  </tbody>\n",
       "</table>\n",
       "</div>"
      ],
      "text/plain": [
       "          Cloud_Mass Distance\n",
       "0     1000.0 solMass  0.3 kpc\n",
       "1  1000000.0 solMass  6.0 kpc\n",
       "2     1000.0 solMass  6.0 kpc\n",
       "3  1000000.0 solMass  0.3 kpc"
      ]
     },
     "execution_count": 24,
     "metadata": {},
     "output_type": "execute_result"
    }
   ],
   "source": [
    "m = [1e3*u.M_sun,1e6*u.M_sun,1e3*u.M_sun,1e6*u.M_sun]\n",
    "d = [0.3*u.kpc,6.*u.kpc,6.*u.kpc,0.3*u.kpc]\n",
    "mdDF = pd.DataFrame({'Cloud_Mass':m,\"Distance\":d})\n",
    "mdDF"
   ]
  },
  {
   "cell_type": "code",
   "execution_count": 32,
   "metadata": {
    "collapsed": false
   },
   "outputs": [],
   "source": [
    "#Not sure why this doesn't work\n",
    "#mdDF['pi0_Flux'] = np.vectorize(cogev.GeVpi0Flux_m)(mdDF['Distance'],mdDF['Cloud_Mass'])\n",
    "mdDF['pi0_Flux'] = mdDF.apply(lambda x: cogev.GeVpi0Flux_m(x['Distance'], x['Cloud_Mass']), axis=1)"
   ]
  },
  {
   "cell_type": "code",
   "execution_count": 34,
   "metadata": {
    "collapsed": false
   },
   "outputs": [
    {
     "data": {
      "text/html": [
       "<div>\n",
       "<table border=\"1\" class=\"dataframe\">\n",
       "  <thead>\n",
       "    <tr style=\"text-align: right;\">\n",
       "      <th></th>\n",
       "      <th>Cloud_Mass</th>\n",
       "      <th>Distance</th>\n",
       "      <th>pi0_Flux</th>\n",
       "    </tr>\n",
       "  </thead>\n",
       "  <tbody>\n",
       "    <tr>\n",
       "      <th>0</th>\n",
       "      <td>1000.0 solMass</td>\n",
       "      <td>0.3 kpc</td>\n",
       "      <td>1.67856721573e-09 1 / (cm2 s)</td>\n",
       "    </tr>\n",
       "    <tr>\n",
       "      <th>1</th>\n",
       "      <td>1000000.0 solMass</td>\n",
       "      <td>6.0 kpc</td>\n",
       "      <td>4.19641803931e-09 1 / (cm2 s)</td>\n",
       "    </tr>\n",
       "    <tr>\n",
       "      <th>2</th>\n",
       "      <td>1000.0 solMass</td>\n",
       "      <td>6.0 kpc</td>\n",
       "      <td>4.19641803931e-12 1 / (cm2 s)</td>\n",
       "    </tr>\n",
       "    <tr>\n",
       "      <th>3</th>\n",
       "      <td>1000000.0 solMass</td>\n",
       "      <td>0.3 kpc</td>\n",
       "      <td>1.67856721573e-06 1 / (cm2 s)</td>\n",
       "    </tr>\n",
       "  </tbody>\n",
       "</table>\n",
       "</div>"
      ],
      "text/plain": [
       "          Cloud_Mass Distance                       pi0_Flux\n",
       "0     1000.0 solMass  0.3 kpc  1.67856721573e-09 1 / (cm2 s)\n",
       "1  1000000.0 solMass  6.0 kpc  4.19641803931e-09 1 / (cm2 s)\n",
       "2     1000.0 solMass  6.0 kpc  4.19641803931e-12 1 / (cm2 s)\n",
       "3  1000000.0 solMass  0.3 kpc  1.67856721573e-06 1 / (cm2 s)"
      ]
     },
     "execution_count": 34,
     "metadata": {},
     "output_type": "execute_result"
    }
   ],
   "source": [
    "mdDF"
   ]
  },
  {
   "cell_type": "code",
   "execution_count": 62,
   "metadata": {
    "collapsed": false
   },
   "outputs": [],
   "source": [
    "mdTab = table.Table()\n",
    "mdTab['Cloud_Mass']= [1e3,1e6,1e3,1e6]\n",
    "mdTab['Cloud_Mass'].format = '.0e'\n",
    "mdTab['Cloud_Mass'].unit = u.M_sun\n",
    "mdTab['Distance']= [0.3,6,6,0.3]\n",
    "mdTab['Distance'].unit = u.kpc\n",
    "mdTab['pi_0_Flux']= [1.7e-09,4.27e-09,4.27e-12,1.7e-06]\n",
    "mdTab['pi_0_Flux'].unit = u.photon* u.cm**-2 *u.s**-1"
   ]
  },
  {
   "cell_type": "code",
   "execution_count": 63,
   "metadata": {
    "collapsed": false
   },
   "outputs": [
    {
     "name": "stdout",
     "output_type": "stream",
     "text": [
      "Cloud_Mass Distance  pi_0_Flux  \n",
      " solMass     kpc    ph / (cm2 s)\n",
      "---------- -------- ------------\n",
      "     1e+03      0.3      1.7e-09\n",
      "     1e+06      6.0     4.27e-09\n",
      "     1e+03      6.0     4.27e-12\n",
      "     1e+06      0.3      1.7e-06\n"
     ]
    }
   ],
   "source": [
    "print mdTab"
   ]
  },
  {
   "cell_type": "markdown",
   "metadata": {
    "collapsed": false
   },
   "source": [
    "# Test if spectral_cube gives same results as coCube (it does now!)"
   ]
  },
  {
   "cell_type": "code",
   "execution_count": 69,
   "metadata": {
    "collapsed": false
   },
   "outputs": [
    {
     "name": "stdout",
     "output_type": "stream",
     "text": [
      "SpectralCube with shape=(493, 81, 2881) and unit=K:\n",
      " n_x:   2881  type_x: GLON      unit_x: deg    range:  -180.000000 deg:  180.000001 deg\n",
      " n_y:     81  type_y: GLAT      unit_y: deg    range:    -5.000000 deg:    5.000000 deg\n",
      " n_s:    493  type_s: VOPT      unit_s: m / s  range:     -319.800 m / s:     319.800 m / s\n"
     ]
    }
   ],
   "source": [
    "cogal = \"/Users/elunejava/Desktop/COGAL_deep_mom_vlsr.fits\"\n",
    "cogalOrig = \"/Users/elunejava/Desktop/origCogal/COGAL_deep_mom_vlsr.fits\"\n",
    "#spectral_cube thinks the units v are m/s, but they're km/s\n",
    "#I couldn't get set to work from within the cube object\n",
    "#so instead, I read the header in add pass that to SpectralCube\n",
    "# my subcubes are messed up when I set the header like this\n",
    "# cogalHD  = pyfits.getheader(cogal)\n",
    "# cogalHD.set('CUNIT3','km/s',after = 'CTYPE3')\n",
    "#cube = SpectralCube.read(cogal,header = cogalHD)\n",
    "\n",
    "#spec cube doesn't know what to do with the GLON/GLAT-CEA coords so I need to use the other file\n",
    "cube = SpectralCube.read(cogalOrig)\n",
    "cube = cube.with_fill_value(0.) \n",
    "print cube\n",
    "#cube.header"
   ]
  },
  {
   "cell_type": "code",
   "execution_count": 5,
   "metadata": {
    "collapsed": true
   },
   "outputs": [],
   "source": [
    "#If I want to take a slab of the cube and mask below some Temp\n",
    "#slab = cube.spectral_slab(98 * u.GHz, 100 * u.GHz) #use m/s or km /s\n",
    "###I can just use subcube to cut on l,b,v\n",
    "# Tmask = 4 #temp to mask below\n",
    "# masked_slab = slab.with_mask(slab > Tmask) #isthere a LazyMask slab method I should be using?"
   ]
  },
  {
   "cell_type": "code",
   "execution_count": 236,
   "metadata": {
    "collapsed": false
   },
   "outputs": [
    {
     "name": "stdout",
     "output_type": "stream",
     "text": [
      "Min Temp = -0.817652583122 K, Max temp = 19.6626358032 K\n"
     ]
    }
   ],
   "source": [
    "print 'Min Temp = %s, Max temp = %s' %(cube.min(), cube.max())"
   ]
  },
  {
   "cell_type": "code",
   "execution_count": null,
   "metadata": {
    "collapsed": true
   },
   "outputs": [],
   "source": [
    "#moment maps and write\n",
    "# m1 = masked_slab.moment(order=1) # if I'm using the mask\n",
    "# m1.write('moment_1.fits')"
   ]
  },
  {
   "cell_type": "code",
   "execution_count": 101,
   "metadata": {
    "collapsed": false
   },
   "outputs": [],
   "source": [
    "#cube.spectral_axis #gives all steps in the spectral axis\n",
    "#velo, dec, ra = icSub.world[:]   #don't do this on the full Dame cube, it's too big\n",
    "#print velo\n",
    "\n",
    "#If I want to change the units of the cube from m/s to km/s\n",
    "# cube2 = cube.with_spectral_unit(u.km / u.s)  \n",
    "# cube2.spectral_axis "
   ]
  },
  {
   "cell_type": "code",
   "execution_count": 114,
   "metadata": {
    "collapsed": false
   },
   "outputs": [
    {
     "data": {
      "text/latex": [
       "$0.59999932 \\; \\mathrm{\\frac{m}{s}}$"
      ],
      "text/plain": [
       "<Quantity 0.5999993176200178 m / s>"
      ]
     },
     "execution_count": 114,
     "metadata": {},
     "output_type": "execute_result"
    }
   ],
   "source": [
    "#what I should be doing my my code is finding the closest step and using that\n",
    "value =11*u.m/u.s\n",
    "np.argmin(np.abs(cube.spectral_axis - value))# ah, this is clever to find which pixel corresponds to the value desire, spectral_cube finds the difference of each step in vel with the desired value and then finds the min and gets that index\n"
   ]
  },
  {
   "cell_type": "code",
   "execution_count": 8,
   "metadata": {
    "collapsed": false
   },
   "outputs": [
    {
     "data": {
      "text/plain": [
       "SpectralCube with shape=(8, 37, 40) and unit=K:\n",
       " n_x:     40  type_x: GLON-CEA  unit_x: deg    range:   186.651614 deg:  191.530000 deg\n",
       " n_y:     37  type_y: GLAT-CEA  unit_y: deg    range:     0.478264 deg:    4.984639 deg\n",
       " n_s:      8  type_s: VOPT      unit_s: m / s  range:      -11.000 m / s:      -1.900 m / s"
      ]
     },
     "execution_count": 8,
     "metadata": {},
     "output_type": "execute_result"
    }
   ],
   "source": [
    "#read in the cut IC443 cube from nbyMaps results for comparisin\n",
    "ic443 = \"/Users/elunejava/Dropbox/tunabelt/SNR189.1+03.0/SNR189.1+03.0_COGAL_deep_mom_vlsr_sliced.fits\"\n",
    "icCube = SpectralCube.read(ic443)\n",
    "icCube"
   ]
  },
  {
   "cell_type": "code",
   "execution_count": 9,
   "metadata": {
    "collapsed": false
   },
   "outputs": [],
   "source": [
    "#use the values from icCube to try making a similar cube from scratch\n",
    "#this gives problems because the l range of Cogal is -180, 180, so use Angle and wrap for l\n",
    "#note the flip of lhi and llo\n",
    "lhi = Angle(icCube.longitude_extrema[0]).wrap_at('180d')\n",
    "llo = Angle(icCube.longitude_extrema[1]).wrap_at('180d')\n",
    "blo = icCube.latitude_extrema[0]\n",
    "bhi = icCube.latitude_extrema[1]\n",
    "vlo = icCube.spectral_extrema[0]\n",
    "vhi = icCube.spectral_extrema[1]\n",
    "icSub = cube.subcube(xlo=llo, xhi=lhi, ylo=blo, yhi=bhi, zlo=vlo, zhi=vhi)\n",
    "icSub.with_fill_value(0.) #just fills in nan with 0\n",
    "icSub.write('/Users/elunejava/Desktop/compIC443.fits',overwrite = True)#.closest_spectral_channel(11*u.m/u.s)"
   ]
  },
  {
   "cell_type": "code",
   "execution_count": 49,
   "metadata": {
    "collapsed": false
   },
   "outputs": [],
   "source": [
    "m1 = icSub.moment(order=0)\n",
    "m1_ax2 = icSub.moment(order = 0, axis = 2)\n",
    "m1.write('/Users/elunejava/Desktop/moment_0.fits',overwrite=True)\n",
    "m1_ax2.write('/Users/elunejava/Desktop/moment_0_ax2.fits',overwrite=True)"
   ]
  },
  {
   "cell_type": "code",
   "execution_count": 154,
   "metadata": {
    "collapsed": false
   },
   "outputs": [
    {
     "name": "stdout",
     "output_type": "stream",
     "text": [
      "246\n",
      "-10.3999993891 km / s -1.29999935785 km / s\n"
     ]
    }
   ],
   "source": [
    "print cube.closest_spectral_channel(-1*u.m/u.s)\n",
    "print cube.spectral_axis[238], cube.spectral_axis[245] #steps of 1.3"
   ]
  },
  {
   "cell_type": "code",
   "execution_count": 3,
   "metadata": {
    "collapsed": false
   },
   "outputs": [
    {
     "name": "stderr",
     "output_type": "stream",
     "text": [
      "WARNING: VerifyWarning: Invalid 'BLANK' keyword in header.  The 'BLANK' keyword is only applicable to integer data, and will be ignored in this HDU. [astropy.io.fits.hdu.image]\n",
      "WARNING:astropy:VerifyWarning: Invalid 'BLANK' keyword in header.  The 'BLANK' keyword is only applicable to integer data, and will be ignored in this HDU.\n"
     ]
    }
   ],
   "source": [
    "import pyJam.fermi.SNR_MC.coCube as cocube\n",
    "cogal = \"/Users/elunejava/Desktop/COGAL_deep_mom_vlsr.fits\"\n",
    "testCO = cocube.COline(cogal)"
   ]
  },
  {
   "cell_type": "code",
   "execution_count": 54,
   "metadata": {
    "collapsed": false
   },
   "outputs": [
    {
     "name": "stdout",
     "output_type": "stream",
     "text": [
      "axis  0 (-168.47, -173.34838625211063) -168.47 -173.348386252 data shape (493, 81, 2881)\n",
      "\tnmin / nmax: 2788.0 2827.0\n",
      "\t closest pixel value: -168.500000054\n",
      "axis  1 (0.4782635459078941, 4.984639282574961) 0.478263545908 4.98463928257 data shape (493, 81, 2881)\n",
      "\tnmin / nmax: 44.0 80.0\n",
      "\t closest pixel value: 0.500000001788\n",
      "axis  2 (-11, -1) -11 -1 data shape (493, 81, 2881)\n",
      "\tnmin / nmax: 238.0 245.0\n",
      "\t closest pixel value: -10.3999993891\n",
      "nmin: {1: 2788.0, 2: 44.0, 3: 238.0} nmax: {1: 2827.0, 2: 80.0, 3: 245.0}\n",
      "indiv 238.0 245.0 44.0 80.0 2788.0 2827.0\n",
      "testCube_COGAL_deep_mom_vlsr_sliced.fits already exists, delete and create it anew \n",
      "Save 3-D sliced Cube\n",
      "testCube_COGAL_deep_mom_vlsr_vb.fits already exists, delete and create it anew \n",
      "testCube_COGAL_deep_mom_vlsr_lv.fits already exists, delete and create it anew \n",
      "testCube_COGAL_deep_mom_vlsr_lb.fits already exists, delete and create it anew \n"
     ]
    }
   ],
   "source": [
    "#new, with extra pixel, I think the values in the header will still be wrong though, the first value needs to start at the value of the pixel being chosen\n",
    "os.chdir('/Users/elunejava/Desktop/testCube/')\n",
    "testCO.lvbSum(axis = 'all', pmin = [llo.value,blo.value,-11], pmax = [lhi.value,bhi.value,-1])"
   ]
  },
  {
   "cell_type": "markdown",
   "metadata": {},
   "source": [
    "# Calc W(CO)"
   ]
  },
  {
   "cell_type": "code",
   "execution_count": 214,
   "metadata": {
    "collapsed": false
   },
   "outputs": [],
   "source": [
    "#which functions do I need\n",
    "#integrateMapCirc: I should be careful about what this is doing\n",
    "# is W(CO) the single pixel intensity?\n",
    "del cocube"
   ]
  },
  {
   "cell_type": "markdown",
   "metadata": {},
   "source": [
    "### First try to calc W(CO). This is the same as way above"
   ]
  },
  {
   "cell_type": "code",
   "execution_count": 72,
   "metadata": {
    "collapsed": false
   },
   "outputs": [
    {
     "data": {
      "text/plain": [
       "(<Quantity 3033.4988524235055 solMass>, 3160.613433953331)"
      ]
     },
     "execution_count": 72,
     "metadata": {},
     "output_type": "execute_result"
    }
   ],
   "source": [
    "#maybe idk need this right nowintegrateMapCirc\n",
    "#Both my version of the formula and there's (where they've taken account of units) give the same results essentially, \n",
    "#butthe values I get are about 3x too low\n",
    "cogev.WCO2Mass(WCO = 50.9, d = 22., theta = 0.009666667, numPixs=0, Xco = 2.7e20, alt = True) #theta is diam in degree\n",
    "\n",
    "#0.59 arcmin = 0.009833333 deg"
   ]
  },
  {
   "cell_type": "markdown",
   "metadata": {},
   "source": [
    "### Make a cube to try integrating with coGevOverlap.integrateMapCirc"
   ]
  },
  {
   "cell_type": "code",
   "execution_count": 4,
   "metadata": {
    "collapsed": true
   },
   "outputs": [],
   "source": [
    "!cd /Users/elunejava/Desktop/"
   ]
  },
  {
   "cell_type": "code",
   "execution_count": 15,
   "metadata": {
    "collapsed": false
   },
   "outputs": [
    {
     "name": "stdout",
     "output_type": "stream",
     "text": [
      "Sep between superfile and paper peak: 0.986666666667\n",
      "Sep between superfile and paper center: 0.0102777777778\n",
      "Sep between and paper center and peak: 0.996944444444\n"
     ]
    }
   ],
   "source": [
    "#Try for the same paper as above since they give values for the mass and W(CO) and I think the extraction region as well\n",
    "# G349.7+0.2.\n",
    "gal=[Angle(349.73*u.deg).wrap_at('180d').value*u.deg, 0.18*u.deg]\n",
    "#print gal\n",
    "#gal =[349.73*u.deg,0.18*u.deg]\n",
    "#gal\n",
    "#First check if I get the same mass given the same input params using WCO2Mass\n",
    "#then see if I can get the same vaule of W(CO)\n",
    "\n",
    "#print gal[0]-1.5, gal[0]+1.5, gal[1]-2,gal[1]+2\n",
    "#from superfile centered on the SNR\n",
    "cel = [259.5, -37.43]\n",
    "g349Cel = SkyCoord(cel[0]*u.degree,cel[1]*u.degree, frame='icrs')\n",
    "g349Cel.to_string('hmsdms')\n",
    "\n",
    "#from \n",
    "#centered on \n",
    "celPap_cen = ['17h18m00s','-37d26m25s']\n",
    "g349Pap_cen = SkyCoord(celPap_cen[0],celPap_cen[1], frame='icrs')\n",
    "g349Pap_cen.to_string('hmsdms')\n",
    "#the distances are close \n",
    "#g349Cel.separation(g349Pap) #37\"\n",
    "\n",
    "#CO J= 1-0 peak\n",
    "celPap_peak = ['17h18m00s','-36d26m36s']\n",
    "g349Pap_peak = SkyCoord(celPap_peak[0],celPap_peak[1], frame='icrs')\n",
    "g349Pap_peak.to_string('hmsdms')\n",
    "print 'Sep between superfile and paper peak: %s' %(g349Cel.separation(g349Pap_peak).degree) #37\"\n",
    "print 'Sep between superfile and paper center: %s' %(g349Cel.separation(g349Pap_cen).degree) #37\"\n",
    "print 'Sep between and paper center and peak: %s' %(g349Pap_cen.separation(g349Pap_peak).degree) #\n"
   ]
  },
  {
   "cell_type": "code",
   "execution_count": 241,
   "metadata": {
    "collapsed": false
   },
   "outputs": [],
   "source": [
    "#Try to get 50.9 for W(CO)\n",
    "#first make a map around the SNR\n",
    "g349map = cube.subcube(xhi=gal[0]-2*u.deg, xlo=gal[0]+2*u.deg, ylo=gal[1]-2*u.deg, yhi=gal[1]+2*u.deg, zlo=11*u.m/u.s, zhi=20.4*u.m/u.s)\n",
    "#g349map = cube.subcube(xlo=gal[0]-2*u.deg, xhi=gal[0]+2*u.deg, ylo=gal[1]-2*u.deg, yhi=gal[1]+2*u.deg, zlo=11*u.km/u.s, zhi=20.4*u.km/u.s)\n",
    "\n",
    "g349map.with_fill_value(0.) #just fills in nan with 0\n",
    "g349map.write('/Users/elunejava/Desktop/g349.fits',overwrite = True)#.closest_spectral_channel(11*u.m/u.s)\n",
    "g349Mom0 = g349map.moment()\n",
    "g349Mom0.write('/Users/elunejava/Desktop/g349_mom0.fits',overwrite=True)\n"
   ]
  },
  {
   "cell_type": "code",
   "execution_count": 207,
   "metadata": {
    "collapsed": false
   },
   "outputs": [
    {
     "name": "stdout",
     "output_type": "stream",
     "text": [
      "axis  0 (-8.269999999999982, -12.269999999999982) -8.27 -12.27 data shape (493, 81, 2881)\n",
      "\tnmin / nmax: 1506.0 1538.0\n",
      "\t closest pixel value: -8.31250002973\n",
      "axis  1 (-1.82, 2.18) -1.82 2.18 data shape (493, 81, 2881)\n",
      "\tnmin / nmax: 25.0 57.0\n",
      "\t closest pixel value: -1.87500000671\n",
      "axis  2 (11, 20.41) 11 20.41 data shape (493, 81, 2881)\n",
      "\tnmin / nmax: 254.0 262.0\n",
      "\t closest pixel value: 10.4000006824\n",
      "nmin: {1: 1506.0, 2: 25.0, 3: 254.0} nmax: {1: 1538.0, 2: 57.0, 3: 262.0}\n",
      "indiv 254.0 262.0 25.0 57.0 1506.0 1538.0\n",
      "g349Test_COGAL_deep_mom_vlsr_sliced.fits already exists, delete and create it anew \n",
      "Save 3-D sliced Cube\n",
      "g349Test_COGAL_deep_mom_vlsr_vb.fits already exists, delete and create it anew \n",
      "g349Test_COGAL_deep_mom_vlsr_lv.fits already exists, delete and create it anew \n",
      "g349Test_COGAL_deep_mom_vlsr_lb.fits already exists, delete and create it anew \n"
     ]
    }
   ],
   "source": [
    "#make it with coCube too\n",
    "os.chdir(\"/Users/elunejava/Desktop/g349Test/\")\n",
    "gal=[Angle(349.73*u.deg).wrap_at('180d').value*u.deg, 0.18*u.deg]\n",
    "testCO.lvbSum(axis = 'all', pmin = [gal[0].value+2,gal[1].value-2,11], pmax = [gal[0].value-2,gal[1].value+2,20.41])"
   ]
  },
  {
   "cell_type": "code",
   "execution_count": null,
   "metadata": {
    "collapsed": true
   },
   "outputs": [],
   "source": [
    "### Use this slab to get W(CO)\n",
    "#the problem with comparing with this paper is that they use a much finer resolution than Dame et al\n",
    "#such that their integration region for getting W(CO) is smaller than a single pixel\n",
    "#try get W(CO) using a single pixel?\n",
    "#is W(CO) just the straight sum, or do I need to mult by something like pix size^2\n",
    "pix =9.50402\n",
    "Wco_pap = 50.9\n",
    "wco_pix_ratio = Wco_pap/pix\n",
    "pixSizeCogal = 0.125\n"
   ]
  },
  {
   "cell_type": "code",
   "execution_count": null,
   "metadata": {
    "collapsed": true
   },
   "outputs": [],
   "source": [
    "maxR = 0.009666667/2 #this is teen y tiny, way smaller than a single pixel even, what maps did they use?\n",
    "integrateMapCirc(fitsImg = '/Users/elunejava/Desktop/g349Test/g349Test_COGAL_deep_mom_vlsr_lb.fits' , center, minR = , maxR, thresh = 0., outMap = '')"
   ]
  },
  {
   "cell_type": "markdown",
   "metadata": {},
   "source": [
    "# Try it all again, but for W28\n",
    "### See \"Modeling of the HE/VHe emission in the surroundings of W28\" note from Diego Torres"
   ]
  },
  {
   "cell_type": "code",
   "execution_count": 31,
   "metadata": {
    "collapsed": false
   },
   "outputs": [],
   "source": [
    "#cloud A params\n",
    "#w28Acrds = [6.15,-0.6]\n",
    "w28crds = [6.44, -0.08]\n",
    "w28cloudcrds= {'A':[6.15,-0.6], 'B':[5.9,-0.4],'C':[5.73,-0.09], 'W':[6.07,0.2]}\n",
    "vel = [3,27]#km/s\n",
    "radA = 0.2 #deg\n",
    "rad = {'A':0.2, 'B':0.2, 'C':0.13, 'W':0.2}\n",
    "#papMass = {'A':2.2e4, 'B':2.5e4, 'C':0.65e4, 'W':0.65e4}\n",
    "papMassL = np.asarray([2.2e4,2.5e4,0.65e4,0.65e4])*u.solMass\n",
    "dist = 2 #kpc\n",
    "XCO = 1.5e20 #cm−2(K km/s)−1"
   ]
  },
  {
   "cell_type": "code",
   "execution_count": 5,
   "metadata": {
    "collapsed": false
   },
   "outputs": [
    {
     "name": "stdout",
     "output_type": "stream",
     "text": [
      "axis  0 (8.440000000000001, 4.44) 8.44 4.44 data shape (493, 81, 2881)\n",
      "\tnmin / nmax: 1372.0 1404.0\n",
      "\t closest pixel value: 8.43750003017\n",
      "axis  1 (-2.08, 1.92) -2.08 1.92 data shape (493, 81, 2881)\n",
      "\tnmin / nmax: 23.0 55.0\n",
      "\t closest pixel value: -2.1250000076\n",
      "axis  2 (3, 27) 3 27 data shape (493, 81, 2881)\n",
      "\tnmin / nmax: 248.0 267.0\n",
      "\t closest pixel value: 2.60000065556\n",
      "nmin: {1: 1372.0, 2: 23.0, 3: 248.0} nmax: {1: 1404.0, 2: 55.0, 3: 267.0}\n",
      "indiv 248.0 267.0 23.0 55.0 1372.0 1404.0\n",
      "Save 3-D sliced Cube\n"
     ]
    }
   ],
   "source": [
    "#make CO slab and integrated over v map\n",
    "os.chdir(\"/Users/elunejava/Desktop/w28Test\")\n",
    "testCO.lvbSum(axis = 'all', pmin = [w28crds[0]+2,w28crds[1]-2,vel[0]], pmax = [w28crds[0]-2,w28crds[1]+2,vel[1]])"
   ]
  },
  {
   "cell_type": "code",
   "execution_count": 73,
   "metadata": {
    "collapsed": false
   },
   "outputs": [
    {
     "name": "stdout",
     "output_type": "stream",
     "text": [
      "axis  0 (8.440000000000001, 4.44) 8.44 4.44 data shape (493, 81, 2881)\n",
      "\tnmin / nmax: 1372.0 1404.0\n",
      "\t closest pixel value: 8.43750003017\n",
      "axis  1 (-2.08, 1.92) -2.08 1.92 data shape (493, 81, 2881)\n",
      "\tnmin / nmax: 23.0 55.0\n",
      "\t closest pixel value: -2.1250000076\n",
      "axis  2 (3, 27) 3 27 data shape (493, 81, 2881)\n",
      "\tnmin / nmax: 248.0 267.0\n",
      "\t closest pixel value: 2.60000065556\n",
      "nmin: {1: 1372.0, 2: 23.0, 3: 248.0} nmax: {1: 1404.0, 2: 55.0, 3: 267.0}\n",
      "indiv 248.0 267.0 23.0 55.0 1372.0 1404.0\n",
      "Save 3-D sliced Cube\n"
     ]
    }
   ],
   "source": [
    "#make CO slab and integrated over v map\n",
    "os.chdir(\"/Users/elunejava/Desktop/w28Test/wrapTest/\")\n",
    "testCO.lvbSum(axis = 'all', pmin = [w28crds[0]+2,w28crds[1]-2,vel[0]], pmax = [w28crds[0]-2,w28crds[1]+2,vel[1]])"
   ]
  },
  {
   "cell_type": "code",
   "execution_count": 55,
   "metadata": {
    "collapsed": false,
    "scrolled": true
   },
   "outputs": [
    {
     "name": "stdout",
     "output_type": "stream",
     "text": [
      "#################\n",
      "My mass estimate:\n",
      "#################\n",
      "M = 2.89222585897 solMass e4\n",
      "M = 3.59189409627 solMass e4\n",
      "M = 0.579080434752 solMass e4\n",
      "M = 1.03035971056 solMass e4\n",
      "#################\n",
      "Torres mass estimate:\n",
      "#################\n"
     ]
    },
    {
     "data": {
      "text/latex": [
       "$[22000,~25000,~6500,~6500] \\; \\mathrm{M_{\\odot}}$"
      ],
      "text/plain": [
       "<Quantity [ 22000., 25000.,  6500.,  6500.] solMass>"
      ]
     },
     "execution_count": 55,
     "metadata": {},
     "output_type": "execute_result"
    }
   ],
   "source": [
    "#Not sure I really need to save these, but just in case\n",
    "print '#################'\n",
    "print 'My mass estimate:'\n",
    "print '#################'\n",
    "Ml = []\n",
    "if not WCOl:\n",
    "    WCOl = []\n",
    "    pixl = []\n",
    "    binszl = []\n",
    "for ind, its in enumerate(sorted(w28cloudcrds.items())):\n",
    "    src, crd = its\n",
    "    cent = SkyCoord(l= crd[0], b = crd[1], frame = 'galactic', unit=(u.degree, u.degree))\n",
    "    if not WCOl:\n",
    "        WCO, pix, binsz = cogev.integrateMapCirc(fitsImg = '/Users/elunejava/Desktop/w28Test/w28Test_COGAL_deep_mom_vlsr_lb.fits' , center=cent, minR = 0, maxR = rad.get(src), outMap = 'w28%s_circIntWCO.fits' %(src))\n",
    "        print 'For W28%s W(CO) = %s, number of pixels summed over = %s, pixel bin size = %s' %(src, WCO, pix, binsz)\n",
    "        WCOl.append(WCO)\n",
    "        pixl.append(pix)\n",
    "        binszl.append(binsz)\n",
    "        M, Malt= cogev.WCO2Mass(WCO, d = dist ,theta = binsz, numPixs = pix, Xco = XCO) #in solar masses already\n",
    "        Ml.append(M)\n",
    "    else:\n",
    "        M, Malt= cogev.WCO2Mass(WCOl[ind], d = dist ,theta = binszl[ind], numPixs = pixl[ind], Xco = XCO) #in solar masses already\n",
    "        Ml.append(M.value)\n",
    "#     print 'M = %s e4, Malt = %s e4' %(M/1e4,Malt/1e4)\n",
    "        print 'M = %s e4' %(M/1e4)\n",
    "Ml = np.asarray(Ml)*u.solMass\n",
    "print '#################'\n",
    "print 'Torres mass estimate:'\n",
    "print '#################'\n",
    "papMassL"
   ]
  },
  {
   "cell_type": "code",
   "execution_count": 52,
   "metadata": {
    "collapsed": false
   },
   "outputs": [
    {
     "name": "stdout",
     "output_type": "stream",
     "text": [
      "[ 1.31464812  1.43675764  0.89089298  1.58516879]\n"
     ]
    }
   ],
   "source": [
    "print Ml/papMassL"
   ]
  },
  {
   "cell_type": "markdown",
   "metadata": {},
   "source": [
    "# Things that could be different\n"
   ]
  },
  {
   "cell_type": "markdown",
   "metadata": {},
   "source": [
    "* mH: I don't think it could be that different and if this was the culprit, each estimate would be off by the same factor\n",
    "* W(CO): Looking into the maps we have. His map looks very similar, maybe the pixels aren't exactly the same?\n",
    " * Try making the map in aplpy see if that makes a difference\n",
    " * Try with spectral_cube as well, I think this will give the same results though\n",
    " * My integration over V is slightly different since I use the nearest pixel to my desired value, \n",
    "  * 2.6 km/s -  27.3\n",
    "   * This can only lead to an increase in W(CO) though since it's a broader v range"
   ]
  },
  {
   "cell_type": "code",
   "execution_count": 64,
   "metadata": {
    "collapsed": false
   },
   "outputs": [
    {
     "name": "stderr",
     "output_type": "stream",
     "text": [
      "INFO:astropy:Auto-setting vmin to -1.273e+01\n",
      "INFO:astropy:Auto-setting vmax to  1.413e+02\n"
     ]
    },
    {
     "name": "stdout",
     "output_type": "stream",
     "text": [
      "INFO: Auto-setting vmin to -1.273e+01 [aplpy.core]\n",
      "INFO: Auto-setting vmax to  1.413e+02 [aplpy.core]\n"
     ]
    }
   ],
   "source": [
    "n = '/Users/elunejava/Desktop/w28Test/w28Test_COGAL_deep_mom_vlsr_lb.fits'\n",
    "cocube.plotSlice(fitsFile = n, figTitle = 'W28 CO J= 1-0: W(CO) for v=2.6-27.3 km/s', cbarTitle = 'K km/s', cont = None, reg = None,  zoom = False , circ = None, levels= 9, smooth = 1, colors = ['k'], outText = 'TestW28aplpy_interp.pdf') #once without labels in 50pc"
   ]
  }
 ],
 "metadata": {
  "kernelspec": {
   "display_name": "Python 2",
   "language": "python",
   "name": "python2"
  },
  "language_info": {
   "codemirror_mode": {
    "name": "ipython",
    "version": 2
   },
   "file_extension": ".py",
   "mimetype": "text/x-python",
   "name": "python",
   "nbconvert_exporter": "python",
   "pygments_lexer": "ipython2",
   "version": "2.7.10"
  }
 },
 "nbformat": 4,
 "nbformat_minor": 0
}
