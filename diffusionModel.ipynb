{
 "cells": [
  {
   "cell_type": "markdown",
   "metadata": {},
   "source": [
    "# Diffusion Modeling!"
   ]
  },
  {
   "cell_type": "markdown",
   "metadata": {},
   "source": [
    "There are a few things I want to do:\n",
    "\n",
    "1. Calculate the diffusion distance $R_D$ for runaway CRs. I think the big thing I need to do this is and an estimate of the surrounding cloud mass. Is tha right?\n",
    "\n",
    "2. Estimate of the background γ-ray flux so I can determine if I can detect the sources I'm trying to detect. Reading some Gabici papers for this, like (Gabici 2009). Estimate the flux level of CRs as a function of distance to verify its above the CR background. So this is different than just estimating the passive background flux from the sea of CRs. Can I still just use that Aharonian&#x2F; Gabicic eqution? Maybe one of those Casanova papers says how to get the flux? \n",
    "\n",
    "3. Other CO things. Setting threshold for W(CO). Determing more appropriate integration range for each SNR\n"
   ]
  },
  {
   "cell_type": "code",
   "execution_count": 1,
   "metadata": {
    "collapsed": false
   },
   "outputs": [],
   "source": [
    "#none of this works work without dev version (3?) of ipython?\n",
    "%reload_ext ipyBibtex\n",
    "%etal 3 \n",
    "%bibFile /Users/jmcohen/Dropbox/CurrentWork/SNR_MC/modeling/diffusionModeling.bib\n"
   ]
  },
  {
   "cell_type": "markdown",
   "metadata": {},
   "source": [
    "## 0. Relevant papers"
   ]
  },
  {
   "cell_type": "markdown",
   "metadata": {},
   "source": [
    "###I found an ipynb extension to allow bitext citation, but I think it only works with ipython-dev right now\n",
    "\n",
    "Aharnonian & Atoyan 1996: emissivity of π0 near accelertor http://adsabs.harvard.edu/cgi-bin/nph-data_query?bibcode=1996A%26A...309..917A&link_type=ABSTRACT\n",
    "\n",
    "Baring et al: Radio to Gamma-Ray Emission from Shell-Type Supernova Remnants: Predictions from Nonlinear Shock Acceleration Models\n",
    "http://adsabs.harvard.edu/cgi-bin/nph-data_query?bibcode=1999ApJ...513..311B&link_type=ABSTRACT\n",
    "\n",
    "\n",
    "Bolatto, Wolfire, Leroy: The CO-to-H2 Conversion Factor http://adsabs.harvard.edu/cgi-bin/nph-data_query?bibcode=2013ARA%26A..51..207B&link_type=ABSTRACT\n",
    "\n",
    "Chevalier 1999: Supernova Remnants in Molecular Clouds\n",
    "http://adsabs.harvard.edu/cgi-bin/nph-data_query?bibcode=1999ApJ...511..798C&link_type=ABSTRACT\n",
    "\n",
    "Drury, Aharonian, Voelk 1994: γ-ray viisbility of SNRs http://adsabs.harvard.edu/cgi-bin/nph-data_query?bibcode=1994A%26A...287..959D&link_type=ABSTRACT\n",
    "\n",
    "Dermer 1986: Secondary production of neutral pi-mesons and the diffuse galactic gamma radiation\n",
    "http://adsabs.harvard.edu/cgi-bin/nph-data_query?bibcode=1986A%26A...157..223D&link_type=ABSTRACT\n",
    "\n",
    "Dermer & Powale: Gamma Rays from Cosmic Rays in Supernova Remnants\n",
    "http://arxiv.org/abs/1210.8071v2\n",
    "\n",
    "Finke & Dermer: Cosmic Ray Electron Evolution in the Supernova Remnant RX J1713.7-3946 (info on leptonic emission scenarios)\n",
    "http://adsabs.harvard.edu/cgi-bin/nph-data_query?bibcode=2012arXiv1203.4242F&link_type=ABSTRACT\n",
    "\n",
    "Gabici et al 2009: http://adsabs.harvard.edu/cgi-bin/nph-data_query?bibcode=2009MNRAS.396.1629G&link_type=ABSTRACT\n",
    "\n",
    "Gaisser, T.~K. 1990, Cambridge and New York, Cambridge University Press, 1990, 292 p.,\n",
    "\n",
    "Gaisser et al. 1999: Gamma-Ray Production in Supernova Remnants\n",
    "http://adsabs.harvard.edu/cgi-bin/nph-data_query?bibcode=1998ApJ...492..219G&link_type=ABSTRACT\n",
    "\n",
    "Ginzburg, V.~L., & Syrovatskii, S.~I. 1964, The Origin of Cosmic Rays, New York: Macmillan, 1964, \n",
    "\n",
    "Houck & Allen 2006: MODELS FOR NONTHERMAL PHOTON SPECTRA\n",
    "http://adsabs.harvard.edu/cgi-bin/nph-data_query?bibcode=2006ApJS..167...26H&link_type=ABSTRACT\n",
    "\n",
    "Kamae et al: parameterization of π0 for photons and neutrinos http://adsabs.harvard.edu/cgi-bin/nph-data_query?bibcode=2006ApJ...647..692K&link_type=ABSTRACT & erratum\n",
    "\n",
    "Kelner et al 2006: energy spectra of $\\gamma$-rays from p-p interactions\n",
    "http://adsabs.harvard.edu/cgi-bin/nph-data_query?bibcode=2006PhRvD..74c4018K&link_type=ABSTRACT\n",
    "\n",
    "Lande et al 2012:\n",
    "http://adsabs.harvard.edu/cgi-bin/nph-data_query?bibcode=2014arXiv1401.6718L&link_type=ABSTRACT: ,also see Houck & Allen.\n",
    "\n",
    "Trulelove & McKee 1999: Evolution of Nonradiative Supernova Remnants\n",
    "http://iopscience.iop.org/0067-0049/120/2/299/"
   ]
  },
  {
   "cell_type": "code",
   "execution_count": 108,
   "metadata": {
    "collapsed": false
   },
   "outputs": [
    {
     "data": {
      "text/html": [
       "<p>This doesnt work right now <strong>\\citet{Abdo09-diffGammas}</strong></p>"
      ],
      "text/plain": [
       " This doesnt work right now __\\citet{Abdo09-diffGammas}__"
      ]
     },
     "metadata": {},
     "output_type": "display_data"
    }
   ],
   "source": [
    "%%cite\n",
    "\n",
    "This doesnt work right now __\\citet{Abdo09-diffGammas}__"
   ]
  },
  {
   "cell_type": "markdown",
   "metadata": {},
   "source": [
    "## 0. Preliminaries"
   ]
  },
  {
   "cell_type": "markdown",
   "metadata": {},
   "source": [
    "##Diffusion eq'n for spherically symmetric impulsive source"
   ]
  },
  {
   "cell_type": "markdown",
   "metadata": {},
   "source": [
    "From http://adsabs.harvard.edu/cgi-bin/nph-data_query?bibcode=1996A%26A...309..917A , http://adsabs.harvard.edu/cgi-bin/nph-data_query?bibcode=1995PhRvD..52.3265A&link_type=ABSTRACT\n",
    "\n",
    "Particle distribution function, sometimes also called energy distribution function (does it mean the same thing? does energy imply E in $dx^3dp^3$, particle meanes # in  $dx^3dp^3$? \n",
    "\n",
    "\\begin{equation} \\frac{\\partial f}{\\partial t} = \\frac{D}{R^2} \\frac{\\partial}{\\partial R}R^2 \\frac{\\partial f}{\\partial R} + \\frac{\\partial }{\\partial E} (Pf) +Q \\end{equation}\n",
    "\n",
    "with,\n",
    "\n",
    "* $f \\equiv f ( E,R,t )$: Distribution function for particles of energy E, at instance t, a distance R from the source\n",
    "* $P = -dE/dt$: continuous energy loss rate. Energy losses of protons are due to ionization and and nuclear interaction, $P (E) = P_{ion} + P_{nucl}$. Above 1 GeV, nuclear energy loss domimates. $P_{nucl} = E/\\tau_{pp}$, with $\\tau_{pp} = (nc\\kappa \\sigma)^{-1} \\approx 6\\times 10^7 (n/1cm^{-3}$) yr. Typical ambient density is 1-100$cm^{-3}$, in dense clouds could be 10$^2$ - 10$^4$ cm$^{-3}$, so energy loss scale becomes comparable to lifetime of accelerators as well as CR propagation times\n",
    "* $Q \\equiv Q ( E,R,t )$: source function. Sometimes called energy/momentum distribution function, units (for energy distribution [$cm^{-3} GeV^{-1}$], for momentum distribution [$cm^{-3} GeV^{-1} c$], so I think the is just the phase space density integrated over momentum space? \n",
    "* $D \\equiv D (E)$: diffusion coefficient (assumed indendent of R,t)\n",
    "* Standard diffusion approximation neglects convection,\n",
    "Green functions solution for arbitray accelerated particle injection spectrum $f_{inj} (E), Q ( E,R,t ) = N_{0} f_{inj}\\delta {\\bf R} \\delta t$, and power law injection and Diffusion, $f_{inj} = E^{-\\alpha}, D(E) \\propto E^{\\delta}$, given in (http://adsabs.harvard.edu/cgi-bin/nph-data_query?bibcode=1995PhRvD..52.3265A&link_type=ABSTRACT) and Aharnonian & Atoyan 1996, and Gabici et al. 2009.\n",
    "\n",
    "Add different versions of f for powelaw E/D"
   ]
  },
  {
   "cell_type": "markdown",
   "metadata": {},
   "source": [
    "## 2. $\\gamma$-ray Flux From Passive Molecular Clouds <sup><sub>(http://adsabs.harvard.edu/cgi-bin/nph-data_query?bibcode=1996A%26A...309..917A&link_type=ABSTRACT </sub></sup>"
   ]
  },
  {
   "cell_type": "markdown",
   "metadata": {},
   "source": [
    "\n",
    "Higher $\\gamma$-ray emissivity near accelerators than on larger scales in the ISM\n",
    "\\begin{equation} \\frac{F_{\\gamma} =\\int_{V_{0}} n({\\bf r}) q_{\\gamma}({\\bf r})d^3r}{4\\pi d^2} \\end{equation}\n",
    "\n",
    "\n",
    "Neglecting gradient of CR density in the cloud (i.e. assuming the emissivity, $q_{\\gamma}$ is the same throughout the cloud)\n",
    "\\begin{equation} F_{\\gamma} = \\frac{M_{cl}}{m_p} \\frac{q_{\\gamma}}{4\\pi d^2} \\end{equation}\n",
    "$\\gamma$-ray emissivity > 100 MeV determined by LAT in (http://adsabs.harvard.edu/cgi-bin/nph-data_query?bibcode=2009ApJ...703.1249A&link_type=ABSTRACT). Most of what's below is from (http://arxiv.org/abs/1304.1172v1)\n",
    "\\begin{equation} q_{\\gamma}^0 (> 100 MeV)/4\\pi =  1.6 \\times 10^{-4} \\left(\\frac{N_H}{10^{22} cm^{-2}}\\right) ph/s/sr/H atom \\end{equation}\n",
    "I think $q_{\\gamma}^0 \\approx q_{\\gamma}(l)$ if the emissivity is the same throughout the cloud. Integrating the emissivity times gas density along the line of site gives the intensity. Integrating the emissivity times gas density over the volume (divide by distance$^2$) gives the flux. What about particle distribution function to intensity?\n",
    "\n",
    "For $M_5 = 10^5M_{\\odot}$ and distance in kpc:\n",
    "\\begin{equation}F_{\\gamma}(>100 MeV) \\approx 2\\times 10^{-7}\\frac{M_{5}}{d_{kpc}^2} ph/cm^{-2}/s \\end{equation}\n",
    "How to get the emissivity > 1 GeV? Look at Abdo paper. Is there another estimate of $q_{\\gamma}^0$ somewhere?\n",
    "\n",
    "So this is all just telling me what the diffuse emission from the cloud would be if there was no accelerator nearby. I can use this to set the intensity threshold for W(CO) for association of MCs with candidate GeV sources if I know the cloud mass.\n",
    "\n",
    "Next I need to estimate the Flux from a cloud with a nearby accelerator. \n"
   ]
  },
  {
   "cell_type": "markdown",
   "metadata": {},
   "source": [
    "## 3. $\\gamma$-ray Flux From Cloud Near Accelerator"
   ]
  },
  {
   "cell_type": "markdown",
   "metadata": {},
   "source": [
    "$\\gamma$-ray's above 100 MeV are produced by particles of energy above about 1 GeV per nucleon\n",
    "\n",
    "Where to put this\n",
    "\n",
    "Need to include contribution from $\\pi_0$, IC, and bremsstrahlung. See Blumenthal & Gould, appendix B of Drury 1994\n",
    "\n",
    "Hanabata et al. 2014 \"gamma rays above 2GeV are produced by particles above 10 GeV/c\""
   ]
  },
  {
   "cell_type": "markdown",
   "metadata": {},
   "source": [
    "## 4. Diffusion Distance/Radius"
   ]
  },
  {
   "cell_type": "markdown",
   "metadata": {},
   "source": [
    "Radius of the sphere up to which particles of energy E effecitvely propogate to during the time, t, after their injection into the ISM (meaning after the time at which they escape the SNR shock), Aharnonian & Atoyan 1996.\n",
    "\n",
    "Some different ways of writing the diffusion coefficient:\n",
    "\n",
    "####Aharnonian & Atoyan 1996:\n",
    "\\begin{equation} R_{diff} \\equiv R_{diff} (E,t) = 2\\sqrt{D(E)t \\frac{exp(t\\delta/\\tau_{pp}-1)}{t\\delta/\\tau_{pp}}} \\end{equation}\n",
    "\n",
    "$\\delta$ is power-law exponent of energy.\n",
    "\n",
    "for t\n",
    "\n",
    "####Gabici et al 2009\n",
    "\\begin{equation} R_{d} (E) = \\sqrt{4D(E) (t-\\chi (E))} \\end{equation}\n",
    "w/ $\\chi(E) = t_{sedov}\\big (E/E_{max} \\big)^{-1/\\delta}$\n",
    "\n",
    "$D(E) = 10^{28} (E/ 10 ~GeV )^s$, he uses s = 0.5\n",
    "\n",
    "For avg Galacitc value: $D_{ISM}(E) \\propto E^{−s}$, with $D_{ISM} ≈ 10^{28} cm^2 s^{−1}$ at E ≈ 10 GeV and s ≈ 0.3–0.7, (Berezinskii V. S., Bulanov S. V., Dogiel V. A., Ginzburg V. L., Ptuskin)\n",
    "\n",
    "$t_{sedov}$ defined in [$\\S 6$](#6.-Sedov-Taylor-SNR-Evolution) \n",
    "\n",
    "\n",
    "####Ohira et al \n",
    "\n",
    "####Uchiyama et al 2012\n",
    "\\begin{equation}R_d (p,t) \\equiv 2\\sqrt{D_{ISM}(p)(t-t_{esc}(p))} \\end{equation}\n",
    "w/ $D_{ISM} = 10^{28} D_{28} \\big (p/ 10 ~GeV~c^{-1} \\big)^{\\delta}$, for $D_{28} =1$,\n",
    "\n",
    "$\\delta = 0.6$, Ptuskin, V. S., & Zirakashvili, V. N. 2005, A&A, 429, 755 gives $\\delta$: this $\\delta$ is s in Gabici 2009.\n",
    "\n",
    "CRs with a momentum p can escape from the surface of an SNR at time $t = t_{esc}(p)$ when the SNR radius becomes $R_{esc}(p)$\n",
    "\n",
    "$t_{esc}(p) =t_{ST}(p/p_{max})^{-1/\\chi}$ (this $\\chi$ is NOT the same as Gabici 2009!!!).\n",
    "Using t as the current age of the SNR we can get the momentum p of particles currenntly escaping the SNR, what does this matter?\n",
    "\n",
    "$p_{max} = 10^{15} eV c^{−1}$ and $\\chi$ = 3\n",
    "\n",
    "Sedov solution gives\n",
    "\n",
    "$R_{esc}(p) = r_{ST}(p/p_{max})^{−2/5\\chi}$\n",
    "\n",
    "$t_{ST}$ defined in [$\\S 6$](#6.-Sedov-Taylor-SNR-Evolution) \n",
    "\n",
    "###Practically, what do I need to calculate $R_D$ for any SNR?\n",
    "The diffusion distance is the distance particles of a given momentum, at time t after escape, will have travelled. So there's a continum of diffusion distances for particles of momentum p\n",
    "\n",
    "If I use t as the current age of the remnant, I can get the momentum, p, of particles currently escaping, which will be the lowest energy particles escaping, but what does this say about  but what I want to know is something like a max diffusion distance? or a max diffusion distance for the particles that give rise to GeV emission? \n",
    "\n",
    "I also have to assume something about the diffusion coefficient (galactic or not)\n",
    "What enery protons give GeV photons?\n",
    "\n",
    "From the W44 paper, $R_{CR}(p) = R_d (p, t_{age}) + R_{esc}(p)$, is the size of the CR halo expected for escaped CRs. They know that radius of W44 is R =12.5 pc, and say that $R_{CR}(100 GeV c^{−1}) \\simeq 2R$. I think the 2R is just from looking at the  actual size of the GeV halo, and then saying  $2R = R_d (p, t_{age}) + R_{esc}(p)$, and then do they just assume that $p = 100~GeV~c^{−1}$. Maybe I can solve for p for an assumed $t_{age}$ and $D_{28}$?.\n",
    "\n",
    "If the latter is true, then I can find p for given age and distance to candidate source, the question then becomes can particles of that p give $\\gamma$'s at GeV energy? Sure! Can I use sympy to solve for p?\n",
    "##$R_D$ can only tell me the distance that protons with momentum p are at, by time t. If I know the separation between a candidate source and SNR edge, I can \n",
    "\n"
   ]
  },
  {
   "cell_type": "code",
   "execution_count": null,
   "metadata": {
    "collapsed": false
   },
   "outputs": [],
   "source": [
    "%matplotlib inline\n",
    "import matplotlib as mpl\n",
    "import matplotlib.pyplot as plt\n",
    "from IPython.html.widgets import interact, interactive\n",
    "from IPython.display import clear_output, display, HTML\n",
    "import numpy as np\n",
    "import pandas as pd\n",
    "#from scipy import integrate\n",
    "from astropy import units as u\n",
    "import astropy.io.fits as pyfits\n",
    "from astropy import constants as const\n",
    "from matplotlib import pyplot as plt\n",
    "#from mpl_toolkits.mplot3d import Axes3D\n",
    "from matplotlib.colors import cnames\n",
    "from matplotlib import animation\n",
    "from sympy import init_printing\n",
    "from sympy import Symbol, Eq\n",
    "from ipywidgets import StaticInteract, RangeWidget\n",
    "import sys\n",
    "import os\n",
    "from lande.utilities.tools import tolist #for saving yaml\n",
    "#for playing with diffuse cube\n",
    "import aplpy\n",
    "# import yt\n",
    "# from yt.frontends.fits.misc import PlotWindowWCS\n",
    "# from wcsaxes import datasets, WCS\n",
    "# from spectral_cube import SpectralCube\n",
    "# from pvextractor.gui import PVSlicer\n",
    "# from pvextractor import extract_pv_slice\n",
    "# from pvextractor.geometry import Path\n",
    "# from yt.frontends.stream.api import load_uniform_grid\n",
    "import pyJam.fermi.SNR_MC.coCube as cocube\n",
    "#from yt.imods import OffAxisProjectionPlot\n",
    "#from astropy.io import fits #this is deprecated\n",
    "#import plotly"
   ]
  },
  {
   "cell_type": "code",
   "execution_count": 2,
   "metadata": {
    "collapsed": false
   },
   "outputs": [],
   "source": [
    "###I should pull all of the plotting stuff out of this function and use a decorator (is that what they're used for?), or separate plottoing function \n",
    "def diffCoef(p=100.,D28=1,tage=1e4,tst=129,delta=0.6,pmax=1.e6,chi = 3., vs = 'D28'):\n",
    "    \"\"\"Diffusion coefficient as function of p\n",
    "       D28: diffusion coefficient. D28 = 1 is Galactic value [cm^2 s^-1]\n",
    "       tage: age of remnant [yr], enter in years convert to seconds\n",
    "       tst: time of onset of sedov evolution, enter in years convert to seconds\n",
    "       delta: diff coeff scale as power law, delta, in momentum\n",
    "       pmax: maximim momentum [GeV c^-1], defualt is 1e15 eV c^-1 = 1e6 GeV c^-1\n",
    "       chi: momentum power law index for escape time\n",
    "    \"\"\"\n",
    "    %matplotlib inline\n",
    "    if vs == 'p':\n",
    "        p = np.linspace(1.,100.,100) #[eV c^-1]\n",
    "        factor = 1.e9\n",
    "        xscale = 'linear'\n",
    "        xlab = 'p [GeV $c^{-1}$]'\n",
    "        ttl = 'Diffusion Distance: $D_{28}$=%(D28)s $cm^2 s^{-1}$, $t_{age}$=%(tage).2e yr' %locals()\n",
    "    elif vs == 'D28':\n",
    "        D28 = np.linspace(0.01,3.,100)\n",
    "        factor = 1\n",
    "        xscale = 'linear'\n",
    "        xlab = '$D_{28}$ [$cm^2 s^{-1}$]'\n",
    "        ttl = 'Diffusion Distance: p=%(p)s $GeV~c^{-1]$, $t_{age}$=%(tage)s yr' %locals()\n",
    "    elif vs == 'tage':\n",
    "        tesc = tst*(p/pmax)**(-1./chi)\n",
    "        tage = np.linspace(tesc,5.e4,100)\n",
    "        factor = 1\n",
    "        xscale = 'log'\n",
    "        xlab = '$t_{age} [yr]$'\n",
    "        ttl = 'Diffusion Distance: $D_{28}$=%(D28)s $cm^2 s^{-1}$, p=%(p)s $GeV~c^{-1]$' %locals()\n",
    "    #p = p*u.eV*1e9/const.c.cgs #[eV c^-1], from GeV to eV\n",
    "    p = p*u.eV*1e9 #[eV c^-1], from GeV to eV\n",
    "    D28 = D28*u.cm**2/ u.s\n",
    "    #Dism = 1.e28*D28*(p/(1e10*u.eV/const.c.cgs))**delta #[cm^2 s^-1], p in eV c^-1\n",
    "    Dism = 1.e28*D28*(p/(1e10*u.eV))**delta #[cm^2 s^-1], p in eV c^-1\n",
    "    tage = tage*u.yr #kept this just for putting in the title of the plot\n",
    "    tageSec = tage.to(u.s)#[s], yr to s\n",
    "    #pmax = pmax*u.eV*1e9/const.c.cgs\n",
    "    pmax = pmax*u.eV*1e9 #[eV c^-1]\n",
    "    tst = tst*u.yr\n",
    "    tst = tst.to(u.s)\n",
    "    tesc = tst*(p/pmax)**(-1./chi) #convery tst to sec\n",
    "    Rd = 2.*np.sqrt(Dism*(tageSec-tesc)) \n",
    "    Rd = Rd.to(u.pc)\n",
    "#     print 'p',p,'\\n'\n",
    "#     print 'D28',D28,'\\n'\n",
    "#     print 'Dism',Dism,'\\n'\n",
    "#     print 'tage',tage,'\\n'\n",
    "#     print 'pmax',pmax,'\\n'\n",
    "#     print 'tesc',tesc,'\\n'\n",
    "#     print 'Rd',Rd,'\\n'\n",
    "    #matplotlib currently has issues just plotting astropy quantity arrays, convert to plain np arrays\n",
    "    #plt.plot(np.asarray(p*const.c.cgs/1.e9),np.asarray(Rd))\n",
    "    #plt.plot(np.asarray(p/1.e9),np.asarray(Rd))\n",
    "    #layout = {\"yaxis\":{\"title\": \"Rd [pc]\"},\"xaxis\":{\"title\":xlab}} # optional\n",
    "    #x = np.asarray(vars()[vs])/factor\n",
    "    #y = np.asarray(Rd)         \n",
    "    #ply.iplot([{'x':x , 'y':y }],layout=layout)\n",
    "    plt.plot(np.asarray(vars()[vs]/factor),np.asarray(Rd))\n",
    "    plt.xscale(xscale)\n",
    "    plt.xlabel(xlab)\n",
    "    plt.ylabel('Rd [pc]')\n",
    "    plt.title(ttl)\n",
    "    return Rd\n",
    "###add something to calculate tst"
   ]
  },
  {
   "cell_type": "code",
   "execution_count": 3,
   "metadata": {
    "collapsed": false
   },
   "outputs": [
    {
     "data": {
      "image/png": "[encoded data removed]",
      "text/plain": [
       "<matplotlib.figure.Figure at 0x10bc90810>"
      ]
     },
     "metadata": {},
     "output_type": "display_data"
    }
   ],
   "source": [
    "#rd = diffCoef(p=100.,D28 = 0.1, tage = 2.e4,tst = 129.,delta = 0.6)\n",
    "#print rd\n",
    "w = interactive(diffCoef,p = (1.,100.), D28=(0.01,3), tage=(0.0,5e4), tst=(0.0,1000.))\n",
    "display(w)"
   ]
  },
  {
   "cell_type": "code",
   "execution_count": 34,
   "metadata": {
    "collapsed": false
   },
   "outputs": [
    {
     "data": {
      "text/latex": [
       "$157.869 \\; \\mathrm{pc}$"
      ],
      "text/plain": [
       "<Quantity 157.86941832928898 pc>"
      ]
     },
     "execution_count": 34,
     "metadata": {},
     "output_type": "execute_result"
    }
   ],
   "source": [
    "a = w.result #this is Rd for whatever values the slider is set to \n",
    "w.kwargs\n",
    "a[-1]"
   ]
  },
  {
   "cell_type": "markdown",
   "metadata": {},
   "source": [
    "## 5. Hadronic Photon Emissivity/Intensity/Luminosity/Flux (also proton emissivity mixed in)"
   ]
  },
  {
   "cell_type": "markdown",
   "metadata": {},
   "source": [
    "Emissivity of $\\pi_0$ decay photons created via p-p interactions: $\\gamma$-ray emissivity is the # of photons produced per H atom. \n",
    "\n",
    "**Dermer 86**: Integrated (over energy) galactic $\\gamma$-ray emissivity due to secondary $\\pi_0$: $q_\\gamma (\\geq 100 MeV) = 1.53\\times 10^{-25} (s-H~ atom)^{-1} $ # of photons /sec/H-atom (meaning per collision, or does is it double for collision with two H atoms?), in the paper it says this is in the ISM, away from sources. This is # is from fits to the locally observed CR proton spectrum\n",
    "\n",
    "**Drury 94**: \n",
    "\n",
    "$\\gamma$-ray production rate per volume\n",
    "\\begin{equation} Q_\\gamma = \\mathcal{E}_{\\gamma} n = q_{\\gamma}nE_c~[(s-H~ atom)^{-1} cm^{-3}] \\end{equation}n is # density of gas [$cm^{-3}]$, $E_c$ is CR energy density $[erg/cm^3]$, $q_{\\gamma} = \\mathcal{E}_{\\gamma}/E_c$ is the $\\gamma$-ray emissivity normalized to the CR energy density. \n",
    "\n",
    "**Drury** says $\\mathcal{E}_{\\gamma} (\\geq 100 MeV) \\approx (1-1.5)\\times 10^{-25} (s-H~ atom)^{-1}$, so **Drury's** $\\mathcal{E}_{\\gamma}$ is  **Dermer's** $q_{\\gamma}$, **Drury's** $q_{\\gamma}$ is emissivity normalized by energy density, with $E_c \\approx 10^{-12} erg/cm^3$, and  $q_{\\gamma} (\\geq 100 MeV) \\approx 10^{-13} [cm^3/erg/sec/H-atom]$\n",
    "\n",
    "$\\mathcal{E}_{\\gamma}(E) = \\frac{2}{(\\alpha + 1)} \\langle mx \\rangle ^{\\alpha}_{\\pi_0} \\sigma_{pp}cN_{p}(E)$, with $N_p(E) = N_0E^{-\\alpha +1}$, and $\\langle mx \\rangle ^{\\alpha}_{\\pi_0} = \\int_{0}^{1}x^{\\alpha}g(x)dx$ is the spectrum weighted moment of the inclusive cross secion (table A1 in Drury). **I have no clue how this Q turns out to be the same as the first equation above** ok, some clue: $dN/dp = A(p/p_0)^{-\\alpha}$, $d\\sigma/dE$ must be $\\sigma_{pp}$ plus the other factors I don't get, but they're just #'s\n",
    "**See http://arxiv.org/pdf/1506.00047v1.pdf for the LAT derived emissivity. Idk if they give the integrated, but they do give the differential/sr**\n",
    "Total $\\gamma$-ray luminosity: $L_{\\gamma} = \\int q_{\\gamma} n E_c d^3r$ in [ph/s]  = $q_{\\gamma} (M_1+M_2)\\frac{3\\theta E_{SN}}{4\\pi R^3}$ (this doesn't make sense to me, $\\rho$ missing? $\\rho$ for protons?) $\\approx \\theta q_{\\gamma} E_{SN}n$.\n",
    "\n",
    "$L_{\\gamma} =10^{38}\\theta (E_{SN}/10^{51} erg)(n/cm^{-3}) ph/s$\n",
    "\n",
    "So flux at Earth is (using the value of $q_{\\gamma}$ above,\n",
    "\n",
    "\\begin{equation} F_{\\gamma}(\\geq 100 MeV) \\approx 4.4 \\times 10^{-7} \\theta (E_{SN}/10^{51} erg)(n/1 cm^{-3})(d/ 1kpc)^{-2} ~ph/cm^2/s \\end{equation}\n",
    "\n",
    "n is the pre-shock, ambient density. In Slane 2007, they plot $F_{\\gamma}$ vs age for different densities using $\\theta$ which is a slow function of age, but they don't give $\\theta$. I'm not sure how they get this as a function of age, or what they use for theta. Slane also says it's the expected pion decay flux from an SNR. **IS it the same for an SNR and for passive cloud? Yes because it depends on density, no because it's a function of $E_{SN}$, which maybe doesn't apply for escape?** Markiewicz et al 1990 has more on $\\theta$ and injection models (likeltsomething newer newer around too). In Drury 1994, they have plots of L and surface  brightness vs age, do they use $\\theta$ or  say the density is #/vol ~ 1/$R^3$, and then use ST evolution to go from R --> age? Seems not ok to do this if n is the pre-shock/ambient( i.e. outside the shock, not yet shocked/ upstream in shock frame) density no? I think it's that the energy density on either side of the shock is the same (they give reasons why, which I stated above), so energy denisty is E/vol, then go from vol to age I guess. I still think there's a $\\rho$ missing in the equation that involve mass.\n",
    "\n",
    "\n",
    "Both apply during free expansion and ST phase, w/ \\theta << 1 for free expansion (the shock is what transfers energy kintetic energy from the SN explosion to the particles by accelerating them, during free expansion, almost all the energy is in the form of KE of the ejecta. \\theta parameterizes the lack of understanding of exactly how injection occurs. \\theta is nearly constant througout the ST phase. Similar to $q{\\gamma}$, $L_{\\gamma}$ has and energy dependent form VHE photons.\n",
    " \n",
    "\n",
    "I was going to write the emissivity here $\\mathcal{E}_{\\gamma} (E_{SN}/10^{51} erg)(n/1cm^{-3}$\n",
    "\n",
    "$q_{\\gamma} (\\geq 100 MeV) \\approx 0.5 \\times 10^{-13} [cm^3/erg/sec/H-atom]$, this neglects cooling but **Drury** claims it's ok since the CR energy density is uniformly distirubuted inside the remnant (because of efficient diffusion), and that gas clumping due to cooling is not likely to significantly change the results. This form also and doesn't not apply to energies $E >> 100~MeV$\n",
    "\n",
    "**Aharonian  & Atoyan 1996**:\n",
    "green funciton solution to diffusion equation for power law source injection spectrum\n",
    "\\begin{equation} f(E,R,t) \\approx \\frac{N_0 E^{-\\alpha}}{\\pi^{3/2}R_{diff}^{3}} exp \\bigg (-\\frac{(\\alpha-1)t}{\\tau_{pp}}- \\frac{R^2}{R_{diff}^2} \\bigg ) \\end{equation}\n",
    "\n",
    "Are the units of f #/vol, or #/vol/energy? If $J = (c/4\\pi)f$, and J is differential (per energy) then f must be too right (unless this version of J is a simplified one? I don't understand where the $W_p$ or $L_p$ comes from in eq'n 6, 10. If eq'6 is $W_p$, I understand why eq'n 10 would be $L_p$, since we integrate Q(t)dt to get the erf. Does it mean that $N_0$ has units of energy for eq'n 6? OH! is it that the protons spectrum is $dN/dE \\propto E^{-\\alpha}$, and maybe what they call Q is this per vol, so the Total momentum spectrum just integrates over the volume. So the $N_0$ is #/GeV.\n",
    "\n",
    "Where the part with $\\tau$ drops out for $t << \\tau_{pp}$.\n",
    "\n",
    "Letting $\\zeta = R/R_{diff}$, we can rewrite this as,\n",
    "\\begin{equation} f(E,R,t) \\approx \\frac{g(\\zeta) N_0 E^{-\\alpha}}{\\pi^{3/2}R^{3}} \\end{equation}\n",
    "\n",
    "with $g(\\zeta) = \\zeta ^3 e^{ \\zeta^2}$. Can consider maximum flux of particles since g is max when $\\zeta = \\sqrt 1.5$. g is the factor the modifies the input spectrum\n",
    "\n",
    "\n",
    "\n",
    "If f is the phase space density, then I'd think the units of are #$/cm^{-3}/(cm/s)^{-3}$, but maybe that's not right?\n",
    "\n",
    "###I'm confused about whether we use the continuous or impulsive (sometimes called burstlike) versions of the particle distribution function. Initially I thought continuous, what's written right below this makes me think impulsive? But then it looks like everyone uses the continuous equation. So continuous it is?\n",
    "Particle acceleration occurs during the ST phase and is considered a \"continuous\" accelerator (which sounds counterintuitive to me at first, they consider briefly pulsars as an accelerator, which at first thought is a continuous source (pulsar can pump energy in, as opposed to the SNR blast), but the shock accelerating particles over long time scales (wrt to the age of the accelerator) is why the SNR is considered a \"continuous\" accelerator, whereas for a pulsar, the bulk of CRs are thought to occur at. I'm confused about when this applies :(\n",
    "\n",
    "###Differential flux of protons (NOT PHOTONS!):\n",
    "$J(E,R,t) = (c/4\\pi)f$, unit:$[cm^{-2} s^{-1}sr^{-1}GeV^{-1}]$. So then f has units $[cm^{-3} sr^{-1} GeV^{-1}]$, and is the differential particle distribution function?\n",
    "\n",
    "Single source, constant acceleration rate: $Q(E,t) = Q_0E^{-\\alpha} q(t)$, with q(t < 0) = 0 & $q(t\\geq 0)$ = const.\n",
    "\n",
    "\n",
    "For a power-law proton spectrum: $J_p = KE^{-\\alpha}$, where E is the total energy of the proton. The differential $\\gamma$-ray emissivity is (this assumes that the spectrum of nuclei is the same as that of the protons, which is not necessarily true).\n",
    "\n",
    "\\begin{equation} q(E_{\\gamma}) = 4\\pi \\sigma_{pp} \\frac{2Z^{(\\alpha)}_{p\\rightarrow \\pi^{0}}}{\\alpha} \\times J_p(E_{\\gamma})\\eta_A\\end{equation}\n",
    "\n",
    "Where $\\eta_A$ is  factor that takes into account the contribution of nuclei and is $\\sim$ 1.4-1.5, and corresponds to the fraction of kinetic energy,$E_{Kin} = E - m_pc^2$, of the parent population transferred to secondary $\\pi_0$, $f_\\pi \\approx 0.17$. I think $\\eta$ =1 for protons.\n",
    "\n",
    "Z is the spectrum weighted moments (I think I mention this below as well).\n",
    "\n",
    "For a delta function approximation of the differential cross section of $\\pi_0$ produciton and a value for Z, the (differential?) $\\gamma$-ray emissivity for an arbitrary spectrum of primary protons is,\n",
    "\\begin{equation} q_{\\gamma}(E_{\\gamma}) = 2 \\int_{E_{min}}^{\\infty} \\frac{q_{\\pi}(E_{\\pi})}{\\sqrt{E_{\\pi}^{2}-m^2_{\\pi}c^4}}dE_{\\pi}\\end{equation}\n",
    "\n",
    "where\n",
    "\n",
    "\\begin{equation} q_{\\pi}(E_{\\pi}) = \\int \\delta (E_{\\pi} - f_{\\pi}E_{Kin}) \\sigma_{pp}J_p(E) dE = \\frac{1}{f_{\\pi}} \\sigma \\Big ( m_pc^2+\\frac{E_{\\pi}}{f_{\\pi}} \\Big ) J_p  \\Big ( m_pc^2+\\frac{E_{\\pi}}{f_{\\pi}} \\Big )\\end{equation} \n",
    "\n",
    "and $E_{min} = E_{\\gamma} +m^2_{\\pi}c^4/4E_{\\gamma}$\n",
    "these parantheses aren't times, that's the energy to evauate $\\sigma$ and J at.\n",
    "\n",
    "###Look at the LAT emissivity paper to see if they talk about going from #\\gamma# flux to emissivity\n",
    "$\\gamma$-ray fluxes combined with measurements of the hydrogen column density allow measurement of $\\gamma$-ray emissivity. Estimated emissivity is in agreement with expected emissivity calculated for locally measured CR flux so the localy measured CR flux is a good indicator of the average level of the \"sea\" of Galactic CRs\n",
    "\n",
    "###Lande et al. 12, also see Houck & Allen 06.\n",
    "\n",
    "$\\gamma$-ray emission from neutral pion decay:\n",
    "\\begin{equation} \\frac{dN}{dtdE} = n_H \\int dE\\nu_p N_p(E)\\frac{d\\sigma_{pp}}{dE}\\end{equation}\n",
    "\n",
    "$N_p(E)$ is the differential proton distribution (#/E? #/vol/E?), $\\frac{d\\sigma_{pp}}{dE}$ is the $\\gamma$-ray cross section from proton-proton interactions. \n",
    "\n",
    "Not sure where this came from (Longair 1992 book?)\n",
    "\n",
    "**Gaisser et all 1998:**\n",
    "\n",
    "Gaisser's definitions seems different from what's above :(\n",
    "By distribution function, I think I mean the phase space density, units of #$ /cm^3/(momentumVolume)^3$, if differential, then divide by energy. Then then the particle distribution function, or momentum/energy distribution (This is Q I think typicall?) the phase space density integrated over $p^2 dp$,units of #$/cm^3$, if differential, divide by energy. And then the total particle spectrum is obtained by integrating the momentum/energy distribution over the volume of the source, units of #, or #/energy.\n",
    "\n",
    "Sometimes momentum spectrum means #/energy, sometimes #/vol/energy\n",
    "\n",
    "**Baring et al 1999:**\n",
    "General emissivity for electrons/protons\n",
    "For a shock-accelerated distribution of electrons or ions, $(dJ/dE)_{e,i}$ the number density per unit kinetic energy is $(4\\pi/ \\nu_{e,i})(dJ/dE)_{e,i}$ and the number of photons emitted per unit volume per second in therange $\\epsilon_{\\gamma}$ to $\\epsilon_{\\gamma}+d\\epsilon_{\\gamma}$ (where $\\epsilon$ is the $\\gamma$-ray energy in units of $m_ec^2$), takes the form:\n",
    "\n",
    "\\begin{equation}\\frac{dn_{\\gamma}(\\epsilon_{\\gamma})}{dt} = \\int _0^\\infty \\frac{dn_{\\gamma}(E_{e,i},\\epsilon_{\\gamma})}{dt} \\bigg [\\bigg (\\frac{4\\pi}{\\nu_{e,i}}\\bigg ) \\bigg(\\frac{dJ}{dE} \\bigg )_{e,i}  \\bigg ] dE_{e,i}\\end{equation}\n",
    "\n",
    "where $dn_{\\gamma}(\\epsilon_{\\gamma})/dt$ is the emissivity of a single particle, either an electron or an ion, of kinetic energy $E_{e,i}. \n",
    "\n",
    "If a source is at a distance $d_{SNR}$ , with an emission volume $V_{SNR}$ , the number of photons per unit area per second per unit photon energy arriving at Earth is $F_{\\gamma} = [dn_{\\gamma}(\\epsilon_{\\gamma})/dt] V_{SNR}/(4\\pi d^2)$\n",
    "\n",
    "$\\epsilon_{\\gamma}$ is a photon energy, $E_{e,i}$ is an electron or proton energy\n",
    "\n",
    "what is $\\nu$?, fequency?\n",
    "\n",
    "**Shu book**:\n",
    "Intensity has units [$erg/cm^2/s/sr$] (per Hz for specific intensity\n",
    "\n",
    "Photon distribution function: $F({\\bf x,p},t)dx^3dp^3$, # of photons at time t, in $dx^3$, centered on x, and $dp^3$ centered on p(ignoring spin). The energy incontained in this volume of phase space is, $dE = h\\nu F({\\bf x,p},t)dx^3dp^3$ (again, ingoring spin stare would have to sum over them). \n",
    "\n",
    "*Angular moments of Intensity (specifc)*: $cE_{\\nu} = \\oint I_{\\nu} d\\Omega$, $J_{\\nu} = cE_{\\nu}/4\\pi$, or $J_{\\nu} = I_{\\nu}$, for an isotropic source? $E_{\\nu}$ is the monochromatic energy density, unit[$erg/cm^3/Hz$]\n",
    "\n",
    "from aharonian 1996, if $J= (c/4\\pi)f$, then ahar's J (for protons, # not energy) is similar to shu's $E_{\\nu}$?, except $E_{\\nu}$ is energy instead of # (mult # by $h\\nu$ to  get energy). \n",
    "\n",
    "\n",
    "\n",
    "\n",
    "###From Micaela's talk, where exactly does this come from?)\n",
    "\\begin{equation} Q_{\\gamma}(E_{\\gamma}) = \\frac{4\\pi}{\\beta c} n_H \\int \\frac{dN}{dp}\\frac{d\\sigma (E_{\\gamma})}{dE_{\\gamma}}dp,\\end{equation}\n",
    "With dN/dp the proton injection spectrum, and d$\\sigma$/dE is the $\\pi_0$ cross section to scattering (see Kamae et al.)\n",
    "\n",
    "This Q is the same as in Drury above.\n",
    "\n",
    "Photon Flux from emissivity:\n",
    "\\begin{equation} F_{\\gamma} (E_{\\gamma}) = \\frac{Q_{\\gamma}(E_{\\gamma})V}{4\\pi d^2} \\end{equation}\n",
    "\n",
    "Emissivity:  q the emissivity, and $Q_\\gamma$ the production rate of $\\gamma$'s per volume, emissivity per volume(sometimes)\n",
    "\n",
    "\n",
    "**Distribution function to flux/emissivity/intensity**"
   ]
  },
  {
   "cell_type": "markdown",
   "metadata": {},
   "source": [
    "# 6. Sedov-Taylor SNR Evolution\n",
    "## some paper I was looking at talked about exact vs not solutions\n",
    "## which are these?\n",
    "## which paper was that?"
   ]
  },
  {
   "cell_type": "markdown",
   "metadata": {},
   "source": [
    "### Free Expansion Phase (after explision, prior to ST)\n",
    "http://astro.berkeley.edu/~ay216/05/NOTES/Lecture11.pdf,  From that ISM book, look at my ISM notes! equations below are same as Slane et al 2010. Truelove & McKee 1999\n",
    "\n",
    "\n",
    "ST phase starts when swept up mass = ejecta mass, $R \\propto t$\n",
    "\\begin{equation}M_{su} = 4\\pi /3 R^3 \\rho = 0.145n_0R^3_{pc} M_{\\odot}\\end{equation}\n",
    "\\begin{equation} R_{ST_0} = (3M_{ej}/4\\pi \\rho)^{1/3} = 1.9(M_{ej}/n_0)^{1/3} pc \\end{equation}\n",
    "\n",
    "### ST Phase\n",
    "* Strong shock: Mach # M >> 1\n",
    "* Non-radiative: The total energy in the bubble of hot gas equal to the energy  injected by the supernova (neglect radiative losses)\n",
    "Radius of the expanding shell\n",
    "\\begin{equation} R_{ST} = 0.26 (n_H/cm^{-3})^{-1/5}(t_{ST}/yr)^{2/5} (E_{ST}/4\\times 10^{50} erg)^{1/5} pc? = 0.314(E_{51}/n_0)^{1/5}t_{y}^{2/5} pc\\end{equation}\n",
    "In terms of t (missing a factor in front)\n",
    "\\begin{equation}t_y = (n_0/E_{51})^2(R_{ST}/n_0)^{5/2}\\end{equation}\n",
    "Velocity of expanding shell\n",
    "\\begin{equation}v_s = 1.23\\times 10^5(E_{51}/n_0)^{1/5}t_{y}^{2/5} km s^{-1}\\end{equation}\n",
    "Temperature of expanding shell\n",
    "\\begin{equation}T_s = 2.09\\times 10^{11} = (E^{51}/n_0)^{2/5}t^{-6/5} K\\end{equation}\n",
    "\n",
    "\n",
    "### Radiative (snow plough) Phase\n",
    "The Sedov-Taylor phase terminates when radiative losses behind the outward moving blast wave start to become important, i.e. cooling timescale of the shocked plasma at the blast wave is shorter than the dynamical expansion time"
   ]
  },
  {
   "cell_type": "markdown",
   "metadata": {},
   "source": [
    "# 7. Estimating Cloud Mass from CO line emission"
   ]
  },
  {
   "cell_type": "markdown",
   "metadata": {},
   "source": [
    "So far, most info from http://adsabs.harvard.edu/cgi-bin/nph-data_query?bibcode=2013ARA%26A..51..207B&link_type=ABSTRACT\n",
    "See also:\n",
    "http://arxiv.org/pdf/1011.2019v2.pdf\n",
    "http://www.aanda.org/articles/aa/pdf/2004/40/aa1327.pdf\n",
    "W28_diffusion_MC.pdf\n",
    "H2 is most abundant molecule. It's diatomic with the same nuclei so has no dipole moment, and thus no dipolar rotational transitions. Hard to exicite vibrationally, quadrapole transitions are weak and require T >~ 100K . So H2 is mostly invisible in the ISM.\n",
    "\n",
    "He is monatomic, so suffers the same issues as H2. O and C are the next most abundant, which combine to CO under conditions present in MCs. Has weak permanent dipole moment, and lower energy rotational excitation energy (easily exicted in MCs). For  J=(1-0) transition, $\\lambda$ = 2.6mm, $\\nu$ = 115 GHz. Lies in transparent atmospheric window.\n",
    "\n",
    "Use CO to measure molecular gas masses!\n",
    "\n",
    "Simple relationship between CO line intensity and column density:\n",
    "\n",
    "\\begin{equation}N(H_2)=X_{CO}W(^{12}C^{16}O ~J=1-0) \\end{equation}\n",
    "where:\n",
    "* $N(H_2$): column density [cm$^{-2}$]\n",
    "* $W(CO)$: integrated line intensity [ K km/s]\n",
    "* $X_{CO} = 2\\times 10^{20} \\mathrm{cm^{−2} (K~km~s^{-1})^{−1}}\\pm 0.6$ for  inner disk ($1kpc \\lesssim R \\lesssim 9 kpc$), $0.5\\times 10^{20} \\mathrm{cm^{−2} (K~km~s^{-1})^{−1}} \\pm $ factor of 2 for $R \\lesssim 500 pc$\n",
    " * Is this R distance from Gal center?\n",
    " * for outer milkyway, Bolatto et al. 2013 doesn't give a value for $X_{CO}$, just say it will be higher, but they do mention some other papers that measure it.\n",
    " * Other caveats:\n",
    "   * \"It is important to recognize that these are average numbers, strictly valid for GMCs on scales of tens of parsecs. The validity of invoking anything like a constant XCO on a line-of-sight by line-of- sight basis is considerably less defined. Both theoretically and observationally, we have shown that considerable variation can exist on small scales, reflecting local chemistry and physical conditions.\"\n",
    "\n",
    "Am I overthinking things? If I have W(CO), and some value for $X_{CO}$, I get column density, which is #of molecules ($H_2$?) per area, so if I scale out the distance^2 and multiply by mass of $H_2$ (not CO right?), and factor in soild angle too (4$\\pi$, don't need this right?) I get mass?\n",
    "\n",
    "W28_diffusion_MC says\n",
    "\\begin{equation}M_{CO}=\\mu m_H D^2 X_{CO}\\sum_{px}\\Omega_{px}W_{CO}\\end{equation}\n",
    "\n",
    "* $\\mu$: Is this mean molecular weight? Like if I assume that the cloud is only some percent H I need this?\n",
    "\n",
    "* $m_H$: hydrogen mass (H$^2$ and not just H right?)\n",
    "\n",
    "* D: distance\n",
    "\n",
    "* $\\Omega$: Solid angle. If I know deg/pix and # of pix, it will give me the area subtended by the object (when summing over pixels). \n",
    "\n",
    "http://www.aanda.org/articles/aa/pdf/2004/40/aa1327.pdf\n",
    "\\begin{equation}W_{CO} = \\int T_B dv\\end{equation}\n",
    "* $T_B$: Brightness temp\n",
    "* $dv$: integrated over velocity\n",
    "\n",
    "\\begin{equation}M({M_{\\odot}})=5.65 \\times 10^{-21}XW_{CO}\\theta_{arcmin}^2 D_{kpc}^2 \\end{equation}\n",
    "* $\\theta$ is angular radius in arcmin\n",
    "\n",
    "Alsoi see http://arxiv.org/pdf/1410.7639v1.pdf equation 3. Similar result (first part at least)"
   ]
  },
  {
   "cell_type": "code",
   "execution_count": 18,
   "metadata": {
    "collapsed": false
   },
   "outputs": [
    {
     "name": "stdout",
     "output_type": "stream",
     "text": [
      "2.7e+20 s / (cm2 K km)\n"
     ]
    }
   ],
   "source": [
    "X = 2.7e20/u.cm**2/ (u.K* u.km/u.s)\n",
    "print X\n",
    "# d = 22.4*u.kpc\n",
    "# WCO = 50.9*u.K*u.km/u.s\n",
    "# WCO.to(u.kpc*u.K/u.s )\n",
    "# theta = 0.58*u.arcmin/2.\n",
    "# M = 5.65e-21*X*WCO*theta**2*(d**2)\n",
    "# print format(M,'g')\n",
    "\n"
   ]
  },
  {
   "cell_type": "markdown",
   "metadata": {},
   "source": [
    "\n",
    "** Dame et al. 2001 notes:**\n",
    "\n",
    "GMC: M = 1e4-1e6 Msol, size= 50-200pc\n",
    "\n",
    "37 individual surveys take from \n",
    "\n",
    "Resolution of COGAL_deep_mom_vlsr: 0.125deg x 0.125deg x 1.3 km/s (l:-180 -- +180, b:-5 -- +5 ,v: -319.8 -- +308.1 km/s\n",
    "SO WHEN I'M DOING THINGS, DO I NEED TO SMOOTH THIS MAP TO 0.2-0.3 deg? 1deg if E >1gev?"
   ]
  },
  {
   "cell_type": "markdown",
   "metadata": {},
   "source": [
    "# 7a. tried this to clip CO map"
   ]
  },
  {
   "cell_type": "markdown",
   "metadata": {},
   "source": [
    "I think this is not right because maybe I need to take the mean/std in some subsection of the map where there are no sources, peaks?"
   ]
  },
  {
   "cell_type": "code",
   "execution_count": 1,
   "metadata": {
    "collapsed": false
   },
   "outputs": [],
   "source": [
    "# import pyfits\n",
    "# ls\n",
    "# ls *.fits\n",
    "# import astropy.io.fits as pyfits\n",
    "# data = pyfits.getdata('SNR189.1+03.0_COGAL_deep_mom_vlsr_lb.fits')\n",
    "# data\n",
    "# data.mean\n",
    "# data.mean()\n",
    "# data.std\n",
    "# data.std()\n",
    "# data.max()\n",
    "# data.min()\n",
    "# dataMasked = np.where(data > 3*data.std())\n",
    "# import numpy as np\n",
    "# dataMasked = np.where(data > 3*data.std())\n",
    "# dataMasked = data[np.where(data > 3*data.std())]\n",
    "# data\n",
    "# dataMasked\n",
    "# data[data < data.std()] = 0\n",
    "# data\n",
    "# type(data)\n",
    "# data = pyfits.getdata('SNR189.1+03.0_COGAL_deep_mom_vlsr_lb.fits')\n",
    "# type(data)\n",
    "# data = pyfits.open('SNR189.1+03.0_COGAL_deep_mom_vlsr_lb.fits')\n",
    "# f = pyfits.open('SNR189.1+03.0_COGAL_deep_mom_vlsr_lb.fits')\n",
    "# g\n",
    "# f\n",
    "# type(f)\n",
    "# data = f.data\n",
    "# f\n",
    "# f[0]\n",
    "# f[1]\n",
    "# a = f[0]\n",
    "# a.data\n",
    "# type(a)\n",
    "# d\n",
    "# a = f[1]\n",
    "# a\n",
    "# a[a < a.std()] = 0\n",
    "# a\n",
    "# a.data[a.data < a.data.std()] = 0\n",
    "# a.writeto('/Users/jmcohen/Desktop/testClip.fits')\n",
    "# pwd\n",
    "# a.data.std()\n",
    "# a = f[1]\n",
    "# a = f[0]\n",
    "# a\n",
    "# a.data\n",
    "# f = pyfits.open('SNR189.1+03.0_COGAL_deep_mom_vlsr_lb.fits')\n",
    "# a = f[0]\n",
    "# a.data\n",
    "# a.data[a.data < 3*a.data.std()] = 0\n",
    "# a.writeto('/Users/jmcohen/Desktop/test3sigClip.fits')\n",
    "# figure(1)"
   ]
  },
  {
   "cell_type": "markdown",
   "metadata": {},
   "source": [
    "# 8. Playing with Galactic diffuse file"
   ]
  },
  {
   "cell_type": "markdown",
   "metadata": {},
   "source": [
    "* See what the emission looks like overall (averaged over energies), at energy slices (specifically > 50 GeV)\n",
    " * do this with yt HAVING TROUBLE GETTING YT TO PLOT THE DIFFUSE CUBE BECAUSE THERE'S NO NAME FOR THE Z AXIS. I think the CO cubes I have have BUNIT as K, so YT knows it's temperature\n",
    " \n"
   ]
  },
  {
   "cell_type": "code",
   "execution_count": 29,
   "metadata": {
    "collapsed": false
   },
   "outputs": [],
   "source": [
    "#fitsFile = '/Users/jmcohen/Desktop/template_4years_P8_V2_scaled.fits'\n",
    "fitsFile = '/Users/jmcohen/Desktop/template_4years_P8_V2_scaled_velo.fits'"
   ]
  },
  {
   "cell_type": "code",
   "execution_count": 33,
   "metadata": {
    "collapsed": false
   },
   "outputs": [
    {
     "name": "stderr",
     "output_type": "stream",
     "text": [
      "yt : [WARNING  ] 2015-04-02 10:39:11,732 Cannot find time\n",
      "yt : [INFO     ] 2015-04-02 10:39:11,828 Detected these axes: GLON-CAR GLAT-CAR VELO-LSR \n",
      "yt : [WARNING  ] 2015-04-02 10:39:12,133 No length conversion provided. Assuming 1 = 1 cm.\n",
      "yt : [INFO     ] 2015-04-02 10:39:12,237 Parameters: current_time              = 0.0\n",
      "yt : [INFO     ] 2015-04-02 10:39:12,238 Parameters: domain_dimensions         = [2880 1441   30]\n",
      "yt : [INFO     ] 2015-04-02 10:39:12,346 Parameters: domain_left_edge          = [ 0.5  0.5  0.5]\n",
      "yt : [INFO     ] 2015-04-02 10:39:12,347 Parameters: domain_right_edge         = [ 2880.5  1441.5    30.5]\n",
      "yt : [INFO     ] 2015-04-02 10:39:12,349 Parameters: cosmological_simulation   = 0.0\n"
     ]
    }
   ],
   "source": [
    "ds = yt.load(fitsFile, nan_mask=0.0) # z_axis_decomp=True) not sure what that does"
   ]
  },
  {
   "cell_type": "code",
   "execution_count": 38,
   "metadata": {
    "collapsed": false
   },
   "outputs": [
    {
     "name": "stdout",
     "output_type": "stream",
     "text": [
      "(4.81129967251e-17 K, 9.52388177211e-08 K)\n"
     ]
    }
   ],
   "source": [
    "# dd = ds.all_data() # A region containing the entire dataset\n",
    "# extrema = dd.quantities.extrema(\"image_0\") #for when I use the default gal dif file\n",
    "extrema = dd.quantities.extrema(\"intensity\") #for I hacked the gal dif file and change the keyword from energy to VELO-LSR\n",
    "print extrema\n",
    "#ds.h.field_list # gives the names of fields(fits,image_0) "
   ]
  },
  {
   "cell_type": "code",
   "execution_count": 39,
   "metadata": {
    "collapsed": false
   },
   "outputs": [
    {
     "name": "stderr",
     "output_type": "stream",
     "text": [
      "yt : [INFO     ] 2015-04-02 10:45:27,075 xlim = 0.500000 2880.500000\n",
      "yt : [INFO     ] 2015-04-02 10:45:27,075 ylim = 0.500000 1441.500000\n",
      "yt : [INFO     ] 2015-04-02 10:45:27,076 Making a fixed resolution buffer of (('fits', 'intensity')) 800 by 800\n",
      "yt : [INFO     ] 2015-04-02 10:45:28,481 xlim = 0.500000 2880.500000\n",
      "yt : [INFO     ] 2015-04-02 10:45:28,482 ylim = 0.500000 1441.500000\n",
      "yt : [INFO     ] 2015-04-02 10:45:28,484 Making a fixed resolution buffer of (('fits', 'intensity')) 800 by 800\n",
      "yt : [INFO     ] 2015-04-02 10:45:28,649 Making a fixed resolution buffer of (('fits', 'intensity')) 800 by 800\n"
     ]
    },
    {
     "data": {
      "text/html": [
       "<img src=\"data:image/png;base64,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\"><br>"
      ],
      "text/plain": [
       "<yt.visualization.plot_window.AxisAlignedSlicePlot at 0x136015c10>"
      ]
     },
     "metadata": {},
     "output_type": "display_data"
    }
   ],
   "source": [
    "slc = yt.SlicePlot(ds, \"z\", [\"intensity\"],origin = 'native') #This works for hacked galDiff, but gives K on the colorbar, change manually?\n",
    "slc.show()\n",
    "#this is still only useful if I can use the SpectralCube, and I don't know if that finds the right filed"
   ]
  },
  {
   "cell_type": "code",
   "execution_count": 40,
   "metadata": {
    "collapsed": false
   },
   "outputs": [
    {
     "data": {
      "text/plain": [
       "(30, 1441, 2880)"
      ]
     },
     "execution_count": 40,
     "metadata": {},
     "output_type": "execute_result"
    }
   ],
   "source": [
    "#Try using the SpectralCube package instead of yt\n",
    "#I think it fails for the same reason as yt\n",
    "#CAN I ADD IN A DSS KEYWORD TO GIVE THE HEADER UNITS?\n",
    "cube = SpectralCube.read(fitsFile,hdu = 'Primary')\n",
    "cube.shape\n"
   ]
  },
  {
   "cell_type": "code",
   "execution_count": 41,
   "metadata": {
    "collapsed": false
   },
   "outputs": [
    {
     "name": "stderr",
     "output_type": "stream",
     "text": [
      "INFO:astropy:Auto-setting vmin to -4.809e-15\n",
      "INFO:astropy:Auto-setting vmax to  5.449e-14\n"
     ]
    },
    {
     "name": "stdout",
     "output_type": "stream",
     "text": [
      "INFO: Auto-setting vmin to -4.809e-15 [aplpy.core]\n",
      "INFO: Auto-setting vmax to  5.449e-14 [aplpy.core]\n"
     ]
    },
    {
     "data": {
      "image/png": "[encoded data removed]",
      "text/plain": [
       "<matplotlib.figure.Figure at 0x170d1da90>"
      ]
     },
     "metadata": {},
     "output_type": "display_data"
    }
   ],
   "source": [
    "cube[28,:,:].quicklook() "
   ]
  },
  {
   "cell_type": "code",
   "execution_count": 45,
   "metadata": {
    "collapsed": false
   },
   "outputs": [],
   "source": [
    "#this doesn't work for default gal dif\n",
    "#works for hacked version, but doesn't give the right slab, I think it's be cause the scale is logscale\n",
    "slab = cube.spectral_slab(5000. * u.km/u.s, 50000 * u.km/u.s)\n",
    "m1 = slab.moment(order=0) #moment doesn't work for some reason, no spectral axis, it doesn't know how to handle energy\n",
    "#I can cheat and call energy something else to get it to make slabs, but, why not just do this with my code? I think it does things right, except near edges?\n",
    "#print m1\n",
    "m1.write('/Users/jmcohen/Desktop/galDiff_50GeV_500GeV.fits')\n",
    "#cube.to_pvextractor() #this either, but maybe it's because moment doesn't, know it doesn't seem to work even when moment does"
   ]
  },
  {
   "cell_type": "code",
   "execution_count": 54,
   "metadata": {
    "collapsed": false
   },
   "outputs": [],
   "source": [
    "# #try pvextractor since SpectralCube doesn't work\n",
    "# pv = PVSlicer(fitsFile)\n",
    "# pv.show() #this doesn't work either"
   ]
  },
  {
   "cell_type": "code",
   "execution_count": 51,
   "metadata": {
    "collapsed": false
   },
   "outputs": [
    {
     "name": "stderr",
     "output_type": "stream",
     "text": [
      "yt : [INFO     ] 2015-04-02 11:16:00,718 Parameters: current_time              = 0.0\n",
      "yt : [INFO     ] 2015-04-02 11:16:00,719 Parameters: domain_dimensions         = [  30 1441 2880]\n",
      "yt : [INFO     ] 2015-04-02 11:16:00,742 Parameters: domain_left_edge          = [ 0.  0.  0.]\n",
      "yt : [INFO     ] 2015-04-02 11:16:00,743 Parameters: domain_right_edge         = [ 1.  1.  1.]\n",
      "yt : [INFO     ] 2015-04-02 11:16:00,744 Parameters: cosmological_simulation   = 0.0\n"
     ]
    }
   ],
   "source": [
    "#try yt one more time in a different way\n",
    "cube = pyfits.getdata(fitsFile)\n",
    "data = dict(Density = cube)\n",
    "pf = load_uniform_grid(data, cube.shape)"
   ]
  },
  {
   "cell_type": "code",
   "execution_count": 53,
   "metadata": {
    "collapsed": false
   },
   "outputs": [
    {
     "ename": "SyntaxError",
     "evalue": "invalid syntax (<ipython-input-53-7c735380dd91>, line 6)",
     "output_type": "error",
     "traceback": [
      "\u001b[0;36m  File \u001b[0;32m\"<ipython-input-53-7c735380dd91>\"\u001b[0;36m, line \u001b[0;32m6\u001b[0m\n\u001b[0;31m    L = [28:29, 0, 0]\u001b[0m\n\u001b[0m           ^\u001b[0m\n\u001b[0;31mSyntaxError\u001b[0m\u001b[0;31m:\u001b[0m invalid syntax\n"
     ]
    }
   ],
   "source": [
    "from yt.mods import OffAxisProjectionPlot\n",
    "#this kind of works, but can't I just do this in aplpy?\n",
    "#it has pixel units instead of wcs, I said density, so it used that word\n",
    "#takes a lot of mem to do\n",
    "# The vector normal to the slicing plane\n",
    "L = [29, 0, 0]\n",
    "\n",
    "# The command to generate the off axis projection plot\n",
    "p = OffAxisProjectionPlot(pf, L, 'Density')\n",
    "\n",
    "# Applying a grey colormap to all data\n",
    "p.set_cmap(field='all', cmap='Greys')\n",
    "\n",
    "# Saving the image\n"
   ]
  },
  {
   "cell_type": "code",
   "execution_count": 4,
   "metadata": {
    "collapsed": false
   },
   "outputs": [],
   "source": [
    "#one last time following http://spectral-cube.readthedocs.org/en/latest/yt_example.html\n",
    "from yt.mods import ColorTransferFunction, write_bitmap\n",
    "cube = SpectralCube.read(fitsFile, format='fits')\n",
    "\n",
    "# Extract the yt object from the SpectralCube instance\n",
    "ytcube = cube.to_yt(spectral_factor=0.75)\n",
    "ds = ytcube.dataset\n",
    "\n",
    "# Set the number of levels, the minimum and maximum level and the width\n",
    "# of the isocontours\n",
    "n_v = 10\n",
    "vmin = 0.05\n",
    "vmax = 4.0\n",
    "dv = 0.02\n",
    "\n",
    "# Set up color transfer function\n",
    "transfer = ColorTransferFunction((vmin, vmax))\n",
    "transfer.add_layers(n_v, dv, colormap='RdBu_r')\n",
    "\n",
    "# Set up the camera parameters\n",
    "\n",
    "# Derive the pixel coordinate of the desired center\n",
    "# from the corresponding world coordinate\n",
    "##jamie added cube.shape = (30, 1441, 2880)\n",
    "# center = ytcube.world2yt([51.424522,\n",
    "#                           30.723611,\n",
    "#                           5205.18071])\n",
    "center = ytcube.world2yt([29,\n",
    "                          720.5,\n",
    "                          1440])\n",
    "\n",
    "direction = np.array([1.0, 0.0, 0.0])\n",
    "width = 100.  # pixels\n",
    "size = 1024\n",
    "\n",
    "camera = ds.h.camera(center, direction, width, size, transfer,\n",
    "                     fields=['flux'])\n",
    "\n",
    "# Take a snapshot and save to a file\n",
    "snapshot = camera.snapshot()\n",
    "write_bitmap(snapshot, '~/Desktop/cube_rendering.png', transpose=True)"
   ]
  },
  {
   "cell_type": "code",
   "execution_count": 54,
   "metadata": {
    "collapsed": false
   },
   "outputs": [
    {
     "data": {
      "text/plain": [
       "yt.data_objects.image_array.ImageArray"
      ]
     },
     "execution_count": 54,
     "metadata": {},
     "output_type": "execute_result"
    }
   ],
   "source": [
    "type(snapshot)"
   ]
  },
  {
   "cell_type": "code",
   "execution_count": 29,
   "metadata": {
    "collapsed": false
   },
   "outputs": [
    {
     "name": "stderr",
     "output_type": "stream",
     "text": [
      "INFO:astropy:Auto-setting vmax to  2.678e-13\n"
     ]
    },
    {
     "name": "stdout",
     "output_type": "stream",
     "text": [
      "INFO: Auto-setting vmax to  2.678e-13 [aplpy.core]\n"
     ]
    },
    {
     "data": {
      "image/png": "[encoded data removed]",
      "text/plain": [
       "<matplotlib.figure.Figure at 0x13d072f10>"
      ]
     },
     "metadata": {},
     "output_type": "display_data"
    }
   ],
   "source": [
    "#Trouble with yt and Spectral-Cube that both want a spectral type/unit for the pixels\n",
    "#Try aplpy instead\n",
    "cbarTitle = 'Intensity' #individual slices are photons/s/cm^2/sr/MeV, if I sum over energies it's photons/s/cm^2/sr/MeV, mult by 4pi to get rid of the sr? or do I need to multpy by the fraction of 4pi of the sky im looking at??? \n",
    "figTitle = 'Energy ' #can I get the energy value?\n",
    "f = aplpy.FITSFigure(fitsFile,slices=[29])\n",
    "f.show_colorscale(vmin =0.0, pmax =100., cmap = 'hot', smooth = None) #do I need to playt with the pmin/max? values?\n",
    "f.tick_labels.set_xformat('ddd.dd')\n",
    "f.tick_labels.set_yformat('ddd.dd')\n",
    "f.frame.set_color('black')\n",
    "f.frame.set_linewidth(2)\n",
    "f.add_colorbar()\n",
    "f.axis_labels.set_font(size='large',weight='bold')\n",
    "f.tick_labels.set_font(weight = 'bold')\n",
    "f.add_label(0.5, 1.1, text = figTitle, relative = True, weight = 'medium', size='large')\n",
    "f.colorbar.set_axis_label_text(cbarTitle)  \n",
    "f.colorbar.set_font(size='large',weight = 'bold')\n",
    "f.colorbar.set_axis_label_font(size='large',weight='bold')\n",
    "#f.colorbar.set_ticks(ticks = plt.MaxNLocator(integer = True))\n",
    "\n",
    "# for r in regFiles:\n",
    "#     f.show_regions(r)\n",
    "# for r in regFiles:\n",
    "#     f.show_regions(r)\n",
    "# for r in regFiles:\n",
    "#     f.show_regions(r)\n",
    "# if zoom:\n",
    "l,b,zoom = 0,0,5\n",
    "#center = reg.strip('Region_l').replace('b','').split('_') #b is always 0, but get it anyway in case I do runs with different b\n",
    "#center = SkyCoord(l= float(center[0]), b = float(center[1]), frame = 'galactic', unit=(u.degree, u.degree))\n",
    "f.recenter(l, b, zoom)\n",
    "f.show_grid()\n",
    "#sv = reg+maps.replace(' ','')+'_2FHLaddSrcsOverlay_zoom.png'\n",
    "#     f.save(sv)\n",
    "# else:\n",
    "#     sv = reg+maps.replace(' ','')+'_2FHLaddSrcsOverlay.png'\n",
    "#     f.save(sv)\n",
    "#plt.savefig(sv,dpi = 100)\n",
    "# f.close()\n",
    "# del f\n"
   ]
  },
  {
   "cell_type": "markdown",
   "metadata": {},
   "source": [
    "## Use coCube.py to integrate the diffuse > 50GeV"
   ]
  },
  {
   "cell_type": "code",
   "execution_count": 2,
   "metadata": {
    "collapsed": false
   },
   "outputs": [],
   "source": [
    "# first just try for one, then do for all 2FHL regions using the code for making maps\n",
    "diffDir = '/Users/jmcohen/Desktop/2FHLgalDiffTest'\n",
    "if not os.path.exists(diffDir):\n",
    "    os.mkdir(diffDir)\n",
    "os.chdir(diffDir)"
   ]
  },
  {
   "cell_type": "code",
   "execution_count": 28,
   "metadata": {
    "collapsed": false
   },
   "outputs": [
    {
     "name": "stdout",
     "output_type": "stream",
     "text": [
      "axis  0 (205.13447255666668, 207.04433187333333) 205.134472557 207.044331873 data shape (30, 1441, 2880)\n",
      "\tnmin / nmax: 2880 2880\n",
      "axis  1 (-1.9341646273873332, -0.024305310720666662) -1.93416462739 -0.0243053107207 data shape (30, 1441, 2880)\n",
      "\tnmin / nmax: 705.0 720.0\n",
      "axis  2 (50000.0, 500000.0) 50000.0 500000.0 data shape (30, 1441, 2880)\n",
      "\tnmin / nmax: 22.0 29.0\n",
      "nmin: {1: 2880, 2: 705.0, 3: 22.0} nmax: {1: 2880, 2: 720.0, 3: 29.0}\n",
      "indiv 22.0 29.0 705.0 720.0 2880 2880\n",
      "2FHLgalDiffTest_template_4years_P8_V2_scaled_sliced.fits already exists, delete and create it anew \n",
      "Save 3-D sliced Cube\n",
      "2FHLgalDiffTest_template_4years_P8_V2_scaled_vb.fits already exists, delete and create it anew \n",
      "2FHLgalDiffTest_template_4years_P8_V2_scaled_lv.fits already exists, delete and create it anew \n",
      "2FHLgalDiffTest_template_4years_P8_V2_scaled_lb.fits already exists, delete and create it anew \n"
     ]
    }
   ],
   "source": [
    "#set up for the slices\n",
    "#try for gamma Cygni\n",
    "b = -0.979234969054\n",
    "l = 206.089402215\n",
    "s = 1.9098593166666666 #I think this will make a 14x14 box\n",
    "coVmin = 5.e4 # 50 GeV\n",
    "coVmax = 5.e5 #500 GeV\n",
    "#don't need these yet\n",
    "# fitsMap    = \n",
    "#contsz     = 5,\n",
    "# regFile    = None,\n",
    "# contFits   = None,\n",
    "# coords     = 'gal',\n",
    "# fTitle     = '',\n",
    "# contLevels = 9,\n",
    "# smooth     = 1,\n",
    "lmin, lmax, bmin, bmax = cocube.getMapSize(l,b,s)\n",
    "co = cocube.COline(COfile = '/Users/jmcohen/Desktop/template_4years_P8_V2_scaled.fits')\n",
    "co.lvbSum(axis = 'all', pmin = [lmin,bmin,coVmin], pmax = [lmax,bmax,coVmax]) #for diffuse, group all lmin/lmax together?"
   ]
  },
  {
   "cell_type": "code",
   "execution_count": 35,
   "metadata": {
    "collapsed": false
   },
   "outputs": [
    {
     "name": "stdout",
     "output_type": "stream",
     "text": [
      "73.0 87.0 -7.0 7.0\n"
     ]
    }
   ],
   "source": [
    "#doesn't seem to be working for gal diff\n",
    "#It looks like it's only getting the last E slice\n",
    "#oooo, I think it's because CDELT3 is log10 steps\n",
    "#maybe this doesn't explain why it's just getting the last energy slice though (30)?\n",
    "#I think I need to add something to coCube to handle log10 steps\n",
    "#f(x) = 10^(log(Span)/n*x) + fStart\n",
    " = 10**(CDELT3/(bin*CRPIX3)) + CRVAL3\n",
    "    10**((bin*CRPIX3)/CDELT3) + CRVAL3\n",
    "print lmin, lmax, bmin, bmax"
   ]
  },
  {
   "cell_type": "markdown",
   "metadata": {},
   "source": [
    "# 9. Estimate Galactic diffuse intensity, flux from P8 diffuse file"
   ]
  },
  {
   "cell_type": "markdown",
   "metadata": {},
   "source": [
    "See http://fermi.gsfc.nasa.gov/ssc/data/access/lat/Model_details/FSSC_model_diffus_reprocessed_v12.pdf"
   ]
  },
  {
   "cell_type": "markdown",
   "metadata": {},
   "source": [
    "\"The MapCube comprises 30 logarithmically-spaced energies between 50 MeV and 500 GeV (really 58.4731330871582 MeV to 513056.15625 MeV)\n",
    "It gives the Galactic differential intensity in ${\\rm photons~sr^{-1}~\n",
    "s^{−1}~cm^{−2}~MeV^{−1}}$\""
   ]
  },
  {
   "cell_type": "markdown",
   "metadata": {},
   "source": [
    "So to get photon flux is it just a matter of integrating the cube over E (summing the energy slices) and multiplying by 4$\\pi$ (to get rid of the solid anlge)?, then multiplying by ${\\rm E^2}$ for energy flux?\n",
    "\n",
    "If I fit the diffuse with just a power law, then I just scale the intensity in the fits file with the Norm and energy index right?\n",
    "\n",
    "Do the following calculate this (likely in the entire RoI?)\n",
    "* Science Tools (pylike)\n",
    "* Pointlike\n",
    "* Gardian\n",
    " * Probably don't want to learn gardian just for this?"
   ]
  },
  {
   "cell_type": "code",
   "execution_count": 22,
   "metadata": {
    "collapsed": false
   },
   "outputs": [
    {
     "name": "stdout",
     "output_type": "stream",
     "text": [
      "[   0.   90. -180. -179. -110.    0. -170.   -1.  160.    0.]\n"
     ]
    }
   ],
   "source": [
    "#quick test wrapping angle\n",
    "from astropy.coordinates import Angle\n",
    "l=[0,90, 180, 181, 250,360, -170, -1, -200, 0]\n",
    "l = Angle(l, u.degree)\n",
    "#l.wrap_at(360 * u.degree, inplace =True)\n",
    "l.wrap_at('180d', inplace =True)\n",
    "\n",
    "print l.degree\n",
    "#Idk if this does what I want,\n",
    "# I have coords from -179-180, if I put in 181, I get nothing back out"
   ]
  },
  {
   "cell_type": "markdown",
   "metadata": {},
   "source": [
    "### For now, don't worry about integrating the cube (I will need to though I think, unless I can figure out how to do this with gtlike/pointlike).   "
   ]
  },
  {
   "cell_type": "markdown",
   "metadata": {},
   "source": [
    "Instead, just use a single slice of the diffuse for overlaying with 2FHL TS maps\n",
    "\n",
    "I think I should just use the TS maps for each source, overlay the addSrcs TS >25 regions, and then overlay contours of gal diff. \n",
    "\n",
    "Can aplpy just take a slice of cube to make contours or do I have to make a slice on my own first?"
   ]
  },
  {
   "cell_type": "markdown",
   "metadata": {},
   "source": [
    "Do this in 2FHL Galactic Plane ipynb since all the input is there already"
   ]
  },
  {
   "cell_type": "markdown",
   "metadata": {},
   "source": [
    "## More playing with diffuse to estimate bkg 8/19/15\n",
    "### IS there a better tool for reading the diffuse file in and calculating the bkg"
   ]
  },
  {
   "cell_type": "code",
   "execution_count": 10,
   "metadata": {
    "collapsed": false
   },
   "outputs": [],
   "source": [
    "#read in the diffuse file to pyfits\n",
    "fitsFile_full = '/Users/jmcohen/Desktop/cur/template_4years_P8_V2_scaled.fits'\n",
    "#fitsFile = '/Users/jmcohen/Desktop/cur/2FHLgalDiffTest/template_4years_P8_V2_scaled_velo.fits' #maybe this is the same file but I changed the name of the axis to VELO so I could read it into yt\n",
    "diffD = pyfits.getdata(fitsFile_full)\n",
    "diffH = pyfits.getheader(fitsFile_full)\n",
    "#units of each pixel in each slice is ph/MeV/cm^2/s/ ?"
   ]
  },
  {
   "cell_type": "code",
   "execution_count": 16,
   "metadata": {
    "collapsed": false
   },
   "outputs": [
    {
     "data": {
      "text/plain": [
       "3.9588947"
      ]
     },
     "execution_count": 16,
     "metadata": {},
     "output_type": "execute_result"
    }
   ],
   "source": [
    "diffD.sum(axis = 0).sum()\n"
   ]
  },
  {
   "cell_type": "code",
   "execution_count": 14,
   "metadata": {
    "collapsed": false
   },
   "outputs": [
    {
     "data": {
      "text/plain": [
       "SIMPLE  =                    T / Written by IDL:  Thu May 22 10:58:05 2014      \n",
       "BITPIX  =                  -32 / number of bits per data pixel                  \n",
       "NAXIS   =                    3 / number of data axes                            \n",
       "NAXIS1  =                 2880 / length of data axis 1                          \n",
       "NAXIS2  =                 1441 / length of data axis 2                          \n",
       "NAXIS3  =                   30 / length of data axis 3                          \n",
       "EXTEND  =                    T / FITS dataset may contain extensions            \n",
       "COMMENT   FITS (Flexible Image Transport System) format is defined in 'Astronomy\n",
       "COMMENT   and Astrophysics', volume 376, page 359; bibcode: 2001A&A...376..359H \n",
       "CRVAL1  =                   0. / Value of longitude in pixel CRPIX1             \n",
       "CDELT1  =                0.125 / Step size in longitude                         \n",
       "CRPIX1  =               1440.5 / Pixel that has value CRVAL1                    \n",
       "CTYPE1  = 'GLON-CAR'           / The type of parameter 1 (Galactic longitude in \n",
       "CUNIT1  = 'deg     '           / The unit of parameter 1                        \n",
       "CRVAL2  =                   0. / Value of latitude in pixel CRPIX2              \n",
       "CDELT2  =                0.125 / Step size in latitude                          \n",
       "CRPIX2  =                 721. / Pixel that has value CRVAL2                    \n",
       "CTYPE2  = 'GLAT-CAR'           / The type of parameter 2 (Galactic latitude in C\n",
       "CUNIT2  = 'deg     '           / The unit of parameter 2                        \n",
       "CRVAL3  =     58.4731330871582 / Energy of pixel CRPIX3                         \n",
       "CDELT3  =    0.135972685320041 / log10 of step size in energy (if it is logarith\n",
       "CRPIX3  =                   1. / Pixel that has value CRVAL3                    \n",
       "CTYPE3  = 'Energy  '           / Axis 3 is the spectra                          \n",
       "CUNIT3  = 'MeV     '           / The unit of axis 3                             \n",
       "CREATOR = 'chimgtyp 1.5'       /  s/w task that wrote this dataset              \n",
       "HISTORY                                                                         \n",
       "HISTORY ---------------------------------------------------------               \n",
       "HISTORY input file \"model7_renorm_HE_lb_512_nobug.fits\"                         \n",
       "HISTORY Initially input image format was  \"DOUBLE\"                              \n",
       "HISTORY Requested output image format is  \"FLOAT\"                               \n",
       "HISTORY Any undefined pixel values (if applicable) are set to -1.00e+37         \n",
       "HISTORY ---------------------------------------------------------               \n",
       "HISTORY                                                                         \n",
       "DATE    = '2013-12-29T12:34:51' / file creation date (YYYY-MM-DDThh:mm:ss UT)   \n",
       "HISTORY Scaled for V15 CLEAN IRFs by ratio of 4-year exposures for V10 IRFs     \n",
       "HISTORY Scaled for P8V2 Source by apply_scale.pro                               "
      ]
     },
     "execution_count": 14,
     "metadata": {},
     "output_type": "execute_result"
    }
   ],
   "source": [
    "diffH"
   ]
  },
  {
   "cell_type": "markdown",
   "metadata": {},
   "source": [
    "###I was initially trying to do to much and actually calculate"
   ]
  }
 ],
 "metadata": {
  "kernelspec": {
   "display_name": "Python 2",
   "language": "python",
   "name": "python2"
  },
  "language_info": {
   "codemirror_mode": {
    "name": "ipython",
    "version": 2
   },
   "file_extension": ".py",
   "mimetype": "text/x-python",
   "name": "python",
   "nbconvert_exporter": "python",
   "pygments_lexer": "ipython2",
   "version": "2.7.10"
  }
 },
 "nbformat": 4,
 "nbformat_minor": 0
}
