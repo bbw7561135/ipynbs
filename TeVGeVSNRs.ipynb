{
 "metadata": {
  "name": "",
  "signature": "sha256:019e49f430fc169ee428417acb4428417d8a7e7903ce23088b1876dff7f5c7d4"
 },
 "nbformat": 3,
 "nbformat_minor": 0,
 "worksheets": [
  {
   "cells": [
    {
     "cell_type": "heading",
     "level": 1,
     "metadata": {},
     "source": [
      "Exploring the TeV/GeV SNRs"
     ]
    },
    {
     "cell_type": "heading",
     "level": 3,
     "metadata": {},
     "source": [
      "Tev SNRs from http://www.physics.umanitoba.ca/snr/SNRcat/ (Manitoba), TeVCat, Romains list on confluence, and the TeV LAT PWN paper"
     ]
    },
    {
     "cell_type": "heading",
     "level": 3,
     "metadata": {},
     "source": [
      "x-check these lists to get my final TeV list (I think the manitoba has the most TeV SNRs, and would assume it encompasses all?)"
     ]
    },
    {
     "cell_type": "code",
     "collapsed": false,
     "input": [
      "#Inlcuded all SNRs with a VERITAS,HESS, MAGIC or MILAGRO detection on the Manitoba page\n",
      "#To get these, I selected all the text on the mantioba webapge for the TeV selection, copy pasted here, selected all text, then comd+shift+L to get each line, then went line by line and deleted each line that didn't start with g, seems to have worked replaced G w/ SNR\n",
      "tevMan = set(['SNR000.0+00.0',\n",
      "'SNR000.9+00.1',\n",
      "'SNR005.7-00.1',\n",
      "'SNR006.4-00.1',\n",
      "'SNR006.5-00.4',\n",
      "'SNR008.7-00.1',\n",
      "'SNR011.1+00.1',\n",
      "'SNR011.2-00.3',\n",
      "'SNR012.8-00.0',\n",
      "'SNR015.4+00.1',\n",
      "'SNR018.0-00.7',\n",
      "'SNR021.5-00.9',\n",
      "'SNR022.7-00.2',\n",
      "'SNR023.3-00.3',\n",
      "'SNR025.5+00.0',\n",
      "'SNR029.4+00.1',\n",
      "'SNR029.7-00.3',\n",
      "'SNR032.8-00.1',\n",
      "'SNR035.6-00.4',\n",
      "'SNR040.5-00.5',\n",
      "'SNR043.3-00.2',\n",
      "'SNR049.2-00.7',\n",
      "'SNR054.1+00.3',\n",
      "'SNR065.1+00.6',\n",
      "'SNR074.9+01.2',\n",
      "'SNR075.2+00.1',\n",
      "'SNR078.2+02.1',\n",
      "'SNR080.2+01.0',\n",
      "'SNR106.3+02.7',\n",
      "'SNR111.7-02.1',\n",
      "'SNR119.5+10.2',\n",
      "'SNR120.1+01.4',\n",
      "'SNR130.7+03.1',\n",
      "'SNR184.6-05.8',\n",
      "'SNR189.1+03.0',\n",
      "'SNR195.1+04.3',\n",
      "'SNR205.5+00.5',\n",
      "'SNR263.9-03.3',\n",
      "'SNR266.2-01.2',\n",
      "'SNR284.0-01.8',\n",
      "'SNR284.3-01.8',\n",
      "'SNR292.2-00.5',\n",
      "'SNR304.1-00.2',\n",
      "'SNR309.8-02.6',\n",
      "'SNR313.3+00.1',\n",
      "'SNR313.5+00.3',\n",
      "'SNR315.4-02.3',\n",
      "'SNR318.2+00.1',\n",
      "'SNR320.4-01.2',\n",
      "'SNR327.1-01.1',\n",
      "'SNR327.6+14.6',\n",
      "'SNR332.5-00.3',\n",
      "'SNR335.2+00.1',\n",
      "'SNR336.4+00.2',\n",
      "'SNR337.2+00.1',\n",
      "'SNR338.3-00.0',\n",
      "'SNR338.5+00.1',\n",
      "'SNR343.1-02.3',\n",
      "'SNR344.7+00.1',\n",
      "'SNR344.7-00.1',\n",
      "'SNR345.7-00.2',\n",
      "'SNR347.3-00.5',\n",
      "'SNR348.5+00.1',\n",
      "'SNR348.7+00.3',\n",
      "'SNR348.9-00.4',\n",
      "'SNR349.7+00.2',\n",
      "'SNR353.6-00.7',\n",
      "'SNR359.1-00.5'])\n",
      "print 'Number of SNRs with HESS,VERITAS, MAGIC, or MILAGRO detection on Manitoba:', len(tevMan)"
     ],
     "language": "python",
     "metadata": {},
     "outputs": [
      {
       "output_type": "stream",
       "stream": "stdout",
       "text": [
        "Number of SNRs with HESS,VERITAS, MAGIC, or MILAGRO detection on Manitoba: 68\n"
       ]
      }
     ],
     "prompt_number": 94
    },
    {
     "cell_type": "code",
     "collapsed": false,
     "input": [
      "#SNR from Romain's table here http://glast-ground.slac.stanford.edu/Decorator/exp/Fermi/Decorate/users/rousseau/TeV_sources/compare_pos_snr_tev/distance_0.00_0.60.txt\n",
      "#of all SNRs within 0.6 deg of a TeV source\n",
      "tevRomTab = set(['SNR000.3+00.0',\n",
      "'SNR006.4-00.1',\n",
      "'SNR006.5-00.4',\n",
      "'SNR006.5-00.4',\n",
      "'SNR008.3-00.0',\n",
      "'SNR008.7-00.1',\n",
      "'SNR011.1+00.1',\n",
      "'SNR011.2-00.3',\n",
      "'SNR011.4-00.1',\n",
      "'SNR012.5+00.2',\n",
      "'SNR012.7-00.0',\n",
      "'SNR021.5-00.1',\n",
      "'SNR021.5-00.9',\n",
      "'SNR023.3-00.3',\n",
      "'SNR029.6+00.1',\n",
      "'SNR029.6+00.1',\n",
      "'SNR029.7-00.3',\n",
      "'SNR031.9+00.0',\n",
      "'SNR043.3-00.2',\n",
      "'SNR043.3-00.2',\n",
      "'SNR049.2-00.7',\n",
      "'SNR065.1+00.6',\n",
      "'SNR074.9+01.2',\n",
      "'SNR078.2+02.1',\n",
      "'SNR106.3+02.7',\n",
      "'SNR106.3+02.7',\n",
      "'SNR111.7-02.1',\n",
      "'SNR119.5+10.2',\n",
      "'SNR120.1+01.4',\n",
      "'SNR189.1+03.0',\n",
      "'SNR266.2-01.2',\n",
      "'SNR284.3-01.8',\n",
      "'SNR292.2-00.5',\n",
      "'SNR320.4-01.2',\n",
      "'SNR320.6-01.6',\n",
      "'SNR332.0+00.2',\n",
      "'SNR332.4+00.1',\n",
      "'SNR332.4-00.4',\n",
      "'SNR335.2+00.1',\n",
      "'SNR336.7+00.5',\n",
      "'SNR336.7+00.5',\n",
      "'SNR337.0-00.1',\n",
      "'SNR337.2+00.1',\n",
      "'SNR337.8-00.1',\n",
      "'SNR338.3-00.0',\n",
      "'SNR338.5+00.1',\n",
      "'SNR343.1-02.3',\n",
      "'SNR348.5+00.1',\n",
      "'SNR348.5+00.1',\n",
      "'SNR358.5-00.9',\n",
      "'SNR359.0-00.9'])\n",
      "print 'Number of SNRs with a TeV source within 0.6deg in Romain\\'s table:', len(tevRomTab)"
     ],
     "language": "python",
     "metadata": {},
     "outputs": [
      {
       "output_type": "stream",
       "stream": "stdout",
       "text": [
        "Number of SNRs with a TeV source within 0.6deg in Romain's table: 45\n"
       ]
      }
     ],
     "prompt_number": 125
    },
    {
     "cell_type": "code",
     "collapsed": false,
     "input": [
      "#this is the list of all SNR on manitoba. Don't think I need it now, but here it is anyway\n",
      "#Got it by taking all the html of the page (body from javascript consonle in chrome?) and selecting the sources. replaced G w/ SNR\n",
      "allMan = set(['SNR000.0+00.0',\n",
      "'SNR000.1-00.1',\n",
      "'SNR000.3+00.0',\n",
      "'SNR000.9+00.1',\n",
      "'SNR001.0-00.1',\n",
      "'SNR001.4-00.1',\n",
      "'SNR001.9+00.3',\n",
      "'SNR003.7-00.2',\n",
      "'SNR003.8+00.3',\n",
      "'SNR004.2-03.5',\n",
      "'SNR004.5+06.8',\n",
      "'SNR004.8+06.2',\n",
      "'SNR005.2-02.6',\n",
      "'SNR005.4-01.2',\n",
      "'SNR005.5+00.3',\n",
      "'SNR005.7-00.1',\n",
      "'SNR005.9+03.1',\n",
      "'SNR006.1+00.5',\n",
      "'SNR006.1+01.2',\n",
      "'SNR006.4+04.0',\n",
      "'SNR006.4-00.1',\n",
      "'SNR006.5-00.4',\n",
      "'SNR007.0-00.1',\n",
      "'SNR007.2+00.2',\n",
      "'SNR007.5-01.7',\n",
      "'SNR007.7-03.7',\n",
      "'SNR008.3-00.0',\n",
      "'SNR008.7-00.1',\n",
      "'SNR008.7-05.0',\n",
      "'SNR008.9+00.4',\n",
      "'SNR009.7-00.0',\n",
      "'SNR009.8+00.6',\n",
      "'SNR009.9-00.8',\n",
      "'SNR010.5-00.0',\n",
      "'SNR010.9-45.4',\n",
      "'SNR011.0-00.0',\n",
      "'SNR011.1+00.1',\n",
      "'SNR011.1-00.7',\n",
      "'SNR011.1-01.0',\n",
      "'SNR011.2-00.3',\n",
      "'SNR011.4-00.1',\n",
      "'SNR011.8-00.2',\n",
      "'SNR012.0-00.1',\n",
      "'SNR012.2+00.3',\n",
      "'SNR012.5+00.2',\n",
      "'SNR012.7-00.0',\n",
      "'SNR012.8-00.0',\n",
      "'SNR013.3-01.3',\n",
      "'SNR013.5+00.2',\n",
      "'SNR014.1-00.1',\n",
      "'SNR014.3+00.1',\n",
      "'SNR015.1-01.6',\n",
      "'SNR015.4+00.1',\n",
      "'SNR015.9+00.2',\n",
      "'SNR016.0-00.5',\n",
      "'SNR016.2-02.7',\n",
      "'SNR016.4-00.5',\n",
      "'SNR016.7+00.1',\n",
      "'SNR016.8-01.1',\n",
      "'SNR017.0-00.0',\n",
      "'SNR017.4-00.1',\n",
      "'SNR017.4-02.3',\n",
      "'SNR017.8-02.6',\n",
      "'SNR018.0-00.7',\n",
      "'SNR018.1-00.1',\n",
      "'SNR018.5-00.4',\n",
      "'SNR018.6-00.2',\n",
      "'SNR018.8+00.3',\n",
      "'SNR018.9-01.1',\n",
      "'SNR019.1+00.2',\n",
      "'SNR020.0-00.2',\n",
      "'SNR020.4+00.1',\n",
      "'SNR021.0-00.4',\n",
      "'SNR021.5-00.1',\n",
      "'SNR021.5-00.9',\n",
      "'SNR021.8-00.6',\n",
      "'SNR022.7-00.2',\n",
      "'SNR023.3-00.3',\n",
      "'SNR023.6+00.3',\n",
      "'SNR024.7+00.6',\n",
      "'SNR024.7-00.6',\n",
      "'SNR025.1-02.3',\n",
      "'SNR025.5+00.0',\n",
      "'SNR027.4+00.0',\n",
      "'SNR027.8+00.6',\n",
      "'SNR028.6-00.1',\n",
      "'SNR028.8+01.5',\n",
      "'SNR029.4+00.1',\n",
      "'SNR029.6+00.1',\n",
      "'SNR029.7-00.3',\n",
      "'SNR030.7+01.0',\n",
      "'SNR030.7-02.0',\n",
      "'SNR031.5-00.6',\n",
      "'SNR031.9+00.0',\n",
      "'SNR032.0-04.9',\n",
      "'SNR032.1-00.9',\n",
      "'SNR032.4+00.1',\n",
      "'SNR032.8-00.1',\n",
      "'SNR033.2-00.6',\n",
      "'SNR033.6+00.1',\n",
      "'SNR034.0+20.3',\n",
      "'SNR034.7-00.4',\n",
      "'SNR035.6-00.4',\n",
      "'SNR036.6+02.6',\n",
      "'SNR036.6-00.7',\n",
      "'SNR038.7-01.3',\n",
      "'SNR039.2-00.3',\n",
      "'SNR039.7-02.0',\n",
      "'SNR040.5-00.5',\n",
      "'SNR041.1-00.3',\n",
      "'SNR042.8+00.6',\n",
      "'SNR043.3-00.2',\n",
      "'SNR043.9+01.6',\n",
      "'SNR045.7-00.4',\n",
      "'SNR046.8-00.3',\n",
      "'SNR047.4-03.9',\n",
      "'SNR049.2-00.7',\n",
      "'SNR053.6-02.2',\n",
      "'SNR054.1+00.3',\n",
      "'SNR054.4-00.3',\n",
      "'SNR055.0+00.3',\n",
      "'SNR055.7+03.4',\n",
      "'SNR057.2+00.8',\n",
      "'SNR059.2-04.7',\n",
      "'SNR059.5+00.1',\n",
      "'SNR059.8+01.2',\n",
      "'SNR063.7+01.1',\n",
      "'SNR064.5+00.9',\n",
      "'SNR065.1+00.6',\n",
      "'SNR065.3+05.7',\n",
      "'SNR065.7+01.2',\n",
      "'SNR067.7+01.8',\n",
      "'SNR068.6-01.2',\n",
      "'SNR069.0+02.7',\n",
      "'SNR069.7+01.0',\n",
      "'SNR073.9+00.9',\n",
      "'SNR074.0-08.5',\n",
      "'SNR074.9+01.2',\n",
      "'SNR075.2+00.1',\n",
      "'SNR076.9+01.0',\n",
      "'SNR078.2+02.1',\n",
      "'SNR080.2+01.0',\n",
      "'SNR082.2+05.3',\n",
      "'SNR083.0-00.3',\n",
      "'SNR084.2-00.8',\n",
      "'SNR085.4+00.7',\n",
      "'SNR085.9-00.6',\n",
      "'SNR089.0+04.7',\n",
      "'SNR093.3+06.9',\n",
      "'SNR093.7-00.2',\n",
      "'SNR094.0+01.0',\n",
      "'SNR096.0+02.0',\n",
      "'SNR106.3+02.7',\n",
      "'SNR107.5-01.5',\n",
      "'SNR108.2-00.6',\n",
      "'SNR108.6+06.8',\n",
      "'SNR109.1-01.0',\n",
      "'SNR111.7-02.1',\n",
      "'SNR113.0+00.2',\n",
      "'SNR114.3+00.3',\n",
      "'SNR116.5+01.1',\n",
      "'SNR116.9+00.2',\n",
      "'SNR119.5+10.2',\n",
      "'SNR120.1+01.4',\n",
      "'SNR126.2+01.6',\n",
      "'SNR127.1+00.5',\n",
      "'SNR130.7+03.1',\n",
      "'SNR132.7+01.3',\n",
      "'SNR141.2+05.0',\n",
      "'SNR148.1+00.8',\n",
      "'SNR152.4-02.1',\n",
      "'SNR156.2+05.7',\n",
      "'SNR160.9+02.6',\n",
      "'SNR162.8-16.0',\n",
      "'SNR166.0+04.3',\n",
      "'SNR178.2-04.2',\n",
      "'SNR179.0+02.6',\n",
      "'SNR180.0-01.7',\n",
      "'SNR182.4+04.3',\n",
      "'SNR184.6-05.8',\n",
      "'SNR189.1+03.0',\n",
      "'SNR189.6+03.3',\n",
      "'SNR190.9-02.2',\n",
      "'SNR192.8-01.1',\n",
      "'SNR195.1+04.3',\n",
      "'SNR205.5+00.5',\n",
      "'SNR206.9+02.3',\n",
      "'SNR230.4-01.4',\n",
      "'SNR260.4-03.4',\n",
      "'SNR261.9+05.5',\n",
      "'SNR263.9-03.3',\n",
      "'SNR266.2-01.2',\n",
      "'SNR267.0-01.0',\n",
      "'SNR272.2-03.2',\n",
      "'SNR276.5+19.0',\n",
      "'SNR279.0+01.1',\n",
      "'SNR284.0-01.8',\n",
      "'SNR284.3-01.8',\n",
      "'SNR286.5-01.2',\n",
      "'SNR287.4+00.6',\n",
      "'SNR289.7-00.3',\n",
      "'SNR290.1-00.8',\n",
      "'SNR291.0-00.1',\n",
      "'SNR292.0+01.8',\n",
      "'SNR292.2-00.5',\n",
      "'SNR293.8+00.6',\n",
      "'SNR294.1-00.0',\n",
      "'SNR296.1-00.5',\n",
      "'SNR296.5+10.0',\n",
      "'SNR296.7-00.9',\n",
      "'SNR296.8-00.3',\n",
      "'SNR298.5-00.3',\n",
      "'SNR298.6-00.0',\n",
      "'SNR299.2-02.9',\n",
      "'SNR299.6-00.5',\n",
      "'SNR301.4-01.0',\n",
      "'SNR302.3+00.7',\n",
      "'SNR304.1-00.2',\n",
      "'SNR304.6+00.1',\n",
      "'SNR306.3-00.9',\n",
      "'SNR308.1-00.7',\n",
      "'SNR308.4-01.4',\n",
      "'SNR308.8-00.1',\n",
      "'SNR309.2-00.6',\n",
      "'SNR309.8+00.0',\n",
      "'SNR309.8-02.6',\n",
      "'SNR310.6-00.3',\n",
      "'SNR310.6-01.6',\n",
      "'SNR310.8-00.4',\n",
      "'SNR311.5-00.3',\n",
      "'SNR312.4-00.4',\n",
      "'SNR312.5-03.0',\n",
      "'SNR313.3+00.1',\n",
      "'SNR313.5+00.3',\n",
      "'SNR315.1+02.7',\n",
      "'SNR315.4-00.3',\n",
      "'SNR315.4-02.3',\n",
      "'SNR315.9-00.0',\n",
      "'SNR316.3-00.0',\n",
      "'SNR317.3-00.2',\n",
      "'SNR318.2+00.1',\n",
      "'SNR318.9+00.4',\n",
      "'SNR319.9-00.7',\n",
      "'SNR320.4-01.2',\n",
      "'SNR320.6-01.6',\n",
      "'SNR321.9-00.3',\n",
      "'SNR321.9-01.1',\n",
      "'SNR322.1+00.0',\n",
      "'SNR322.5-00.1',\n",
      "'SNR323.5+00.1',\n",
      "'SNR326.3-01.8',\n",
      "'SNR327.1-01.1',\n",
      "'SNR327.2-00.1',\n",
      "'SNR327.4+00.4',\n",
      "'SNR327.4+01.0',\n",
      "'SNR327.6+14.6',\n",
      "'SNR328.4+00.2',\n",
      "'SNR329.7+00.4',\n",
      "'SNR330.0+15.0',\n",
      "'SNR330.2+01.0',\n",
      "'SNR332.0+00.2',\n",
      "'SNR332.4+00.1',\n",
      "'SNR332.4-00.4',\n",
      "'SNR332.5-00.3',\n",
      "'SNR332.5-05.6',\n",
      "'SNR335.2+00.1',\n",
      "'SNR336.4+00.2',\n",
      "'SNR336.7+00.5',\n",
      "'SNR337.0-00.1',\n",
      "'SNR337.2+00.1',\n",
      "'SNR337.2-00.7',\n",
      "'SNR337.3+01.0',\n",
      "'SNR337.8-00.1',\n",
      "'SNR338.1+00.4',\n",
      "'SNR338.3-00.0',\n",
      "'SNR338.5+00.1',\n",
      "'SNR340.4+00.4',\n",
      "'SNR340.6+00.3',\n",
      "'SNR341.2+00.9',\n",
      "'SNR341.9-00.3',\n",
      "'SNR342.0-00.2',\n",
      "'SNR342.1+00.9',\n",
      "'SNR343.0-06.0',\n",
      "'SNR343.1-00.7',\n",
      "'SNR343.1-02.3',\n",
      "'SNR344.7+00.1',\n",
      "'SNR344.7-00.1',\n",
      "'SNR345.7-00.2',\n",
      "'SNR346.6-00.2',\n",
      "'SNR347.3-00.5',\n",
      "'SNR348.5+00.1',\n",
      "'SNR348.5-00.0',\n",
      "'SNR348.7+00.3',\n",
      "'SNR348.9-00.4',\n",
      "'SNR349.2-00.1',\n",
      "'SNR349.7+00.2',\n",
      "'SNR350.0-02.0',\n",
      "'SNR350.1-00.3',\n",
      "'SNR351.2+00.1',\n",
      "'SNR351.7+00.8',\n",
      "'SNR351.9-00.9',\n",
      "'SNR352.7-00.1',\n",
      "'SNR353.6-00.7',\n",
      "'SNR353.9-02.0',\n",
      "'SNR354.1+00.1',\n",
      "'SNR354.8-00.8',\n",
      "'SNR355.4+00.7',\n",
      "'SNR355.6-00.0',\n",
      "'SNR355.9-02.5',\n",
      "'SNR356.2+04.5',\n",
      "'SNR356.3-00.3',\n",
      "'SNR356.3-01.5',\n",
      "'SNR357.7+00.3',\n",
      "'SNR357.7-00.1',\n",
      "'SNR358.0+03.8',\n",
      "'SNR358.1+00.1',\n",
      "'SNR358.5-00.9',\n",
      "'SNR359.0-00.9',\n",
      "'SNR359.1+00.9',\n",
      "'SNR359.1-00.5',\n",
      "'SNR359.2-00.8'])"
     ],
     "language": "python",
     "metadata": {},
     "outputs": [],
     "prompt_number": 97
    },
    {
     "cell_type": "code",
     "collapsed": false,
     "input": [
      "#TeVCat results are in region files\n",
      "#ugh, forget this, I don't know how to get the selected list of sources in TeVCat to output as a region file\n",
      "# import pyregion as pr\n",
      "# tevDir = \"/Users/jmcohen/Desktop/tevSNRs/\"\n",
      "# #reg files have TeV name (not SNR or HESS name), and coords\n",
      "# tcatComp = pr.open(tevDir + \"tevcat_compositeSNR.reg\")\n",
      "# tcatShell = pr.open(tevDir + \"tevcat_shell.reg\")\n",
      "# tcatSNRs_MCs = pr.open(tevDir +\"tevcat_SNRMC.reg\" )\n",
      "# #tcatUnid = pr.open(tevDir + \"tevcat_unid.reg\") #not sure I really need these for anything\n",
      "\n",
      "# #list of list of coords\n",
      "# #not sure I really need these coords right now\n",
      "# tcatComp_crds= [r.coord_list for r in tcatComp if r.name =='point'] \n",
      "# tcatShell_crds= [r.coord_list for r in tcatShell if r.name =='point'] \n",
      "# tcatSNRs_MCs_crds= [r.coord_list for r in tcatSNRs_MCs if r.name =='point'] \n",
      "# #tcatUnid_crds= [r.coord_list for r in tcatUnid if r.name =='point'] \n",
      "\n",
      "# #list of sources in region\n",
      "# tcatComp_src = set([r.comment.strip('point=cross text{}') for r in tcatComp if r.name =='point'])\n",
      "# tcatShell_src = set([r.comment.strip('point=cross text{}') for r in tcatShell if r.name =='point'])\n",
      "# tcatSNRs_MCs_src = set([r.comment.strip('point=cross text{}') for r in tcatSNRs_MCs if r.name =='point'])\n",
      "# #tcatUnid_src = set([r.comment.strip('point=cross text{}') for r in tcatUnid if r.name =='point'])\n",
      "\n",
      "# #if I want to make a list of src,crd, or make it a defaultdict with SNR name\n",
      "# #fgl2InRoiDell = dict(zip(src,crds)) # I think this needs to be included in a defaultdict with SNR as key\n",
      "# #b4delDict[snr] = fgl2InRoiDell\n"
     ],
     "language": "python",
     "metadata": {},
     "outputs": [],
     "prompt_number": 14
    },
    {
     "cell_type": "code",
     "collapsed": false,
     "input": [
      "#TeVCat sources labeled as shell, composite or SNR - MC (does the latter specifically mean cloud?)\n",
      "tevcatShell = set(['SNR120.1+01.4',\n",
      "'SNR189.1+03.0',\n",
      "'SNR266.2-01.2',\n",
      "'SNR315.4-02.3',\n",
      "'SNR327.6+14.6',\n",
      "'SNR327.6+14.6',\n",
      "'SNR327.6+14.6',\n",
      "'SNR347.3-00.5',\n",
      "'SNR348.7+00.3',\n",
      "'SNR353.6-00.7',\n",
      "'SNR065.1+00.6',\n",
      "'SNR106.3+02.7',\n",
      "'SNR111.7-02.1'])\n",
      "\n",
      "tevcatSNRMC = set(['SNR318.2+00.1',\n",
      "'SNR348.5+00.1',\n",
      "'SNR349.7+00.2',\n",
      "'SNR359.1-00.5',\n",
      "'SNR005.7-00.0',\n",
      "'SNR006.4-00.1',\n",
      "'SNR043.3-00.2',\n",
      "'SNR049.2-00.7'])\n",
      "\n",
      "tevcatComp = set(['SNR015.4+00.1'])\n",
      "\n",
      "tevcat = tevcatShell.union(tevcatSNRMC)\n",
      "tevcat = tevcat.union(tevcatComp)\n",
      "\n",
      "print 'Number of TeVCat sources labeled \\nShell:', len(tevcatShell),'\\nSNR-MC', len(tevcatSNRMC),'\\nComposite',len(tevcatComp), '\\nTotal:', len(tevcat)"
     ],
     "language": "python",
     "metadata": {},
     "outputs": [
      {
       "output_type": "stream",
       "stream": "stdout",
       "text": [
        "Number of TeVCat sources labeled \n",
        "Shell: 11 \n",
        "SNR-MC 8 \n",
        "Composite 1 \n",
        "Total: 20\n"
       ]
      }
     ],
     "prompt_number": 98
    },
    {
     "cell_type": "code",
     "collapsed": false,
     "input": [
      "#tevMan tevRomTab tevcatComp tevCatSNRMC tevcatComp\n",
      "#differences\n",
      "tevcatNotRom = tevRomTab.difference(tevcat)\n",
      "tevcatNotTevMan = tevRomTab.difference(tevMan)\n",
      "romNotTevcat = tevcat.difference(tevRomTab)\n",
      "romNotTevMan = tevcat.difference(tevMan)\n",
      "tevmanNotTevcat = tevMan.difference(tevcat)\n",
      "tevmanNotRom = tevMan.difference(tevRomTab)\n",
      "tevRomAndTevcat = tevRomTab.union(tevcat)\n",
      "tevmanNotOthers = tevMan.difference(tevRomAndTevcat)\n",
      "otherNotTevman = tevRomAndTevcat.difference(tevMan)\n",
      "#Union (Notsure why a.union(b).union(c) doesn't work)\n",
      "allTeV = tevMan.union(tevcat)\n",
      "allTeV = allTeV.union(tevRomTab)\n",
      "\n",
      "#print 'tevcatNotRom:', tevcatNotRom, '\\ntevcatNotTevMan:',tevcatNotTevMan, '\\nromNotTevcat:', romNotTevcat, '\\nromNotTevMan:', romNotTevMan, '\\ntevmanNotTevcat:',tevmanNotTevcat, '\\ntevmanNotRom:', tevmanNotRom\n",
      "print 'Number in one catalog and not the others:'\n",
      "print 'tevcatNotRom:', len(tevcatNotRom), '\\ntevcatNotTevMan:',len(tevcatNotTevMan), '\\nromNotTevcat:', len(romNotTevcat), '\\nromNotTevMan:', len(romNotTevMan), '\\ntevmanNotTevcat:',len(tevmanNotTevcat), '\\ntevmanNotRom:', len(tevmanNotRom)\n",
      "print '\\nNumber in Manitoba not in TevCat and Rom', len(tevmanNotOthers)\n",
      "print '\\nNumber in TevCat and Rom not in Manitoba', len(otherNotTevman)\n",
      "print '\\nTotal number of SNRs w/ TeV detection listed in TeVCat, Manitoba, and Romain\\'s list:', len(allTeV)\n",
      "\n",
      "\n",
      "print 'THE SOURCES NOT IN MANITOBA SHOULD BE CHECKED!!!!'"
     ],
     "language": "python",
     "metadata": {},
     "outputs": [
      {
       "output_type": "stream",
       "stream": "stdout",
       "text": [
        "Number in one catalog and not the others:\n",
        "tevcatNotRom: 35 \n",
        "tevcatNotTevMan: 17 \n",
        "romNotTevcat: 10 \n",
        "romNotTevMan: 1 \n",
        "tevmanNotTevcat: 49 \n",
        "tevmanNotRom: 40\n",
        "\n",
        "Number in Manitoba not in TevCat and Rom 31\n",
        "\n",
        "Number in TevCat and Rom not in Manitoba 18\n",
        "\n",
        "Total number of SNRs w/ TeV detection listed in TeVCat, Manitoba, and Romain's list: 86\n",
        "THE SOURCES NOT IN MANITOBA SHOULD BE CHECKED!!!!\n"
       ]
      }
     ],
     "prompt_number": 127
    },
    {
     "cell_type": "heading",
     "level": 3,
     "metadata": {},
     "source": [
      "GeV starting with results from SNR catalog (v4_0515), using makePlots.py"
     ]
    },
    {
     "cell_type": "code",
     "collapsed": false,
     "input": [
      "%cd ~/Desktop/cur/snrcat1/trunk/code/\n",
      "%run makePlots --printClasses\n",
      "#running this will have put all the snr classes listed below in the namespace\n",
      "#failclass: I think fail class means the SNRs postion/extension were deemed to different than the radio\n",
      "#newsnrs: newly extended SNRs\n",
      "#idsnrs: previously id'd SNRs\n",
      "#extsnrs: extended SNRs\n",
      "#badsnrs: SNRs detected, but flagged as BAD are (what qualifies as BAD?)\n",
      "#ptsnrs: pointlike candidate SNRs are\n",
      "#notsnrs: sources identified as *NOT* SNRs are (what qualifies and how certain)\n",
      "#interacting_snrs: SNRs known to be interacting (based on)\n",
      "#young_snrs: young SNRs, see https://confluence.slac.stanford.edu/download/attachments/125471845/13aug_interacting_and_young.pdf?api=v2\n",
      "#notassoc: sources need to be looked at and given an association. ***This is never defined anywhere I think"
     ],
     "language": "python",
     "metadata": {},
     "outputs": [
      {
       "output_type": "stream",
       "stream": "stdout",
       "text": [
        "/Users/jmcohen/Desktop/cur/snrcat1/trunk/code\n",
        "Using version: v4_0516"
       ]
      },
      {
       "output_type": "stream",
       "stream": "stdout",
       "text": [
        "\n",
        "Writing files to: /Users/jmcohen/Desktop/cur/snrcat1/trunk//figures/v4_0516/"
       ]
      },
      {
       "output_type": "stream",
       "stream": "stdout",
       "text": [
        "\n",
        "  The following SNRs are not in the pipeline!\n",
        "SNR070.5+01.9\n",
        "SNR107.5-01.5\n",
        "SNR152.4-02.1\n",
        "SNR190.9-02.2\n",
        "SNR310.6-01.6\n",
        "SNR351.0-05.4\n",
        "  The following SNRs are not in the superfile!\n",
        "\n"
       ]
      },
      {
       "output_type": "stream",
       "stream": "stdout",
       "text": [
        "\n",
        "Total classified SNRs:  33\n",
        "Pointlike SNRs:  17\n",
        "Extended SNRs:  16\n",
        "\n",
        "previously identified SNRs:  16\n",
        "newly identified SNRs:  3\n",
        "\n",
        "Sources that failed classification:  13\n",
        "Sources that were something other than an SNR:  4\n",
        "SNR005.4-01.2\n",
        "SNR184.6-05.8\n",
        "SNR284.3-01.8\n",
        "SNR320.4-01.2\n",
        "\n",
        "SNR names in various classes: \n",
        "The newly extended SNRs are:\n",
        "SNR024.7+00.6 None\n",
        "SNR205.5+00.5 None\n",
        "SNR326.3-01.8 None\n",
        "\n",
        "The previously identified SNRs are:\n",
        "SNR006.4-00.1"
       ]
      },
      {
       "output_type": "stream",
       "stream": "stdout",
       "text": [
        " W28\n",
        "SNR008.7-00.1"
       ]
      },
      {
       "output_type": "stream",
       "stream": "stdout",
       "text": [
        " W30\n",
        "SNR023.3-00.3"
       ]
      },
      {
       "output_type": "stream",
       "stream": "stdout",
       "text": [
        " W41\n",
        "SNR034.7-00.4"
       ]
      },
      {
       "output_type": "stream",
       "stream": "stdout",
       "text": [
        " W44\n",
        "SNR043.3-00.2"
       ]
      },
      {
       "output_type": "stream",
       "stream": "stdout",
       "text": [
        " W49B\n",
        "SNR049.2-00.7"
       ]
      },
      {
       "output_type": "stream",
       "stream": "stdout",
       "text": [
        " W51c\n",
        "SNR074.0-08.5"
       ]
      },
      {
       "output_type": "stream",
       "stream": "stdout",
       "text": [
        " Cygnus Loop\n",
        "SNR078.2+02.1"
       ]
      },
      {
       "output_type": "stream",
       "stream": "stdout",
       "text": [
        " gamma Cygni\n",
        "SNR089.0+04.7"
       ]
      },
      {
       "output_type": "stream",
       "stream": "stdout",
       "text": [
        " HB21\n",
        "SNR111.7-02.1"
       ]
      },
      {
       "output_type": "stream",
       "stream": "stdout",
       "text": [
        " Cassiopeia A\n",
        "SNR180.0-01.7"
       ]
      },
      {
       "output_type": "stream",
       "stream": "stdout",
       "text": [
        " S147\n",
        "SNR189.1+03.0"
       ]
      },
      {
       "output_type": "stream",
       "stream": "stdout",
       "text": [
        " IC443\n",
        "SNR260.4-03.4"
       ]
      },
      {
       "output_type": "stream",
       "stream": "stdout",
       "text": [
        " Puppis A\n",
        "SNR266.2-01.2"
       ]
      },
      {
       "output_type": "stream",
       "stream": "stdout",
       "text": [
        " RX J0852.0-4622\n",
        "SNR347.3-00.5"
       ]
      },
      {
       "output_type": "stream",
       "stream": "stdout",
       "text": [
        " RX J1713.7-3946\n",
        "SNR348.5+00.1"
       ]
      },
      {
       "output_type": "stream",
       "stream": "stdout",
       "text": [
        " CTB37A\n",
        "\n",
        "The extended SNRs are:\n",
        "snr,type,ext?,TSext\n",
        "SNR006.4-00.1"
       ]
      },
      {
       "output_type": "stream",
       "stream": "stdout",
       "text": [
        " SNR neardisk 170.548624639 168.486201468 W28\n",
        "SNR008.7-00.1"
       ]
      },
      {
       "output_type": "stream",
       "stream": "stdout",
       "text": [
        " SNR neardisk 156.197502177 122.580150441 W30\n",
        "SNR023.3-00.3"
       ]
      },
      {
       "output_type": "stream",
       "stream": "stdout",
       "text": [
        " SNR neardisk 22.9504864456 25.0002678112 W41\n",
        "SNR024.7+00.6"
       ]
      },
      {
       "output_type": "stream",
       "stream": "stdout",
       "text": [
        " None disk 19.9772448381 24.8935584719 None\n",
        "SNR034.7-00.4"
       ]
      },
      {
       "output_type": "stream",
       "stream": "stdout",
       "text": [
        " SNR neardisk 124.062967405 60.8775621034 W44\n",
        "SNR049.2-00.7"
       ]
      },
      {
       "output_type": "stream",
       "stream": "stdout",
       "text": [
        " SNR neardisk 104.731001835 73.6634287898 W51c\n",
        "SNR074.0-08.5"
       ]
      },
      {
       "output_type": "stream",
       "stream": "stdout",
       "text": [
        " SNR neardisk 351.853286224 312.759886447 Cygnus Loop\n",
        "SNR078.2+02.1"
       ]
      },
      {
       "output_type": "stream",
       "stream": "stdout",
       "text": [
        " SNR neardisk 158.98339404 85.5853825909 gamma Cygni\n",
        "SNR089.0+04.7"
       ]
      },
      {
       "output_type": "stream",
       "stream": "stdout",
       "text": [
        " SNR neardisk 85.4941396631 57.5836584745 HB21\n",
        "SNR180.0-01.7"
       ]
      },
      {
       "output_type": "stream",
       "stream": "stdout",
       "text": [
        " SNR neardisk 47.6717903449 37.1252713145 S147\n",
        "SNR189.1+03.0"
       ]
      },
      {
       "output_type": "stream",
       "stream": "stdout",
       "text": [
        " SNR neardisk 526.604395378 5806.54201588 IC443\n",
        "SNR205.5+00.5"
       ]
      },
      {
       "output_type": "stream",
       "stream": "stdout",
       "text": [
        " snr neardisk 90.6441997489 88.7884799043 Monoceros\n",
        "SNR260.4-03.4"
       ]
      },
      {
       "output_type": "stream",
       "stream": "stdout",
       "text": [
        " SNR neardisk 57.6023146225 49.5025217645 Puppis A\n",
        "SNR266.2-01.2"
       ]
      },
      {
       "output_type": "stream",
       "stream": "stdout",
       "text": [
        " SNR neardisk 378.014049886 316.364245101 RX J0852.0-4622\n",
        "SNR326.3-01.8"
       ]
      },
      {
       "output_type": "stream",
       "stream": "stdout",
       "text": [
        " snr neardisk 27.9502452961 18.846344294 MSH 15-56\n",
        "SNR347.3-00.5"
       ]
      },
      {
       "output_type": "stream",
       "stream": "stdout",
       "text": [
        " SNR neardisk 71.7103635782 80.8425929651 RX J1713.7-3946\n",
        "\n",
        "The pointlike candidate SNRs are:\n",
        "snr,type,ext?,TSext\n",
        "SNR006.5-00.4"
       ]
      },
      {
       "output_type": "stream",
       "stream": "stdout",
       "text": [
        " psr point False 4.78577354795 point None\n",
        "SNR020.0-00.2"
       ]
      },
      {
       "output_type": "stream",
       "stream": "stdout",
       "text": [
        " snr point False -3.92681373714 point None\n",
        "SNR032.4+00.1"
       ]
      },
      {
       "output_type": "stream",
       "stream": "stdout",
       "text": [
        " snr point False -1.47482848517 point None\n",
        "SNR043.3-00.2"
       ]
      },
      {
       "output_type": "stream",
       "stream": "stdout",
       "text": [
        " SNR point False -0.0350586603163 point W49B\n",
        "SNR045.7-00.4"
       ]
      },
      {
       "output_type": "stream",
       "stream": "stdout",
       "text": [
        " snr point False -0.0899496824713 point None\n",
        "SNR073.9+00.9"
       ]
      },
      {
       "output_type": "stream",
       "stream": "stdout",
       "text": [
        " psr point False -1.85058521829 point None\n",
        "SNR109.1-01.0"
       ]
      },
      {
       "output_type": "stream",
       "stream": "stdout",
       "text": [
        " psr point False 5.33598378126 point CTB 109\n",
        "SNR111.7-02.1"
       ]
      },
      {
       "output_type": "stream",
       "stream": "stdout",
       "text": [
        " SNR point False -0.0563528393395 point Cassiopeia A\n",
        "SNR291.0-00.1"
       ]
      },
      {
       "output_type": "stream",
       "stream": "stdout",
       "text": [
        " snr point False 18.0971115946 point MSH 11-62\n",
        "SNR292.0+01.8"
       ]
      },
      {
       "output_type": "stream",
       "stream": "stdout",
       "text": [
        "  point False -0.0801846269751 point MSH11-54\n",
        "SNR292.2-00.5"
       ]
      },
      {
       "output_type": "stream",
       "stream": "stdout",
       "text": [
        "  extended nearby False 9.08828149515 neardisk None\n",
        "SNR298.6-00.0"
       ]
      },
      {
       "output_type": "stream",
       "stream": "stdout",
       "text": [
        " snr point False 4.85248945851 point None\n",
        "SNR321.9-00.3"
       ]
      },
      {
       "output_type": "stream",
       "stream": "stdout",
       "text": [
        " snr point False -0.198080611764 point None\n",
        "SNR348.5+00.1"
       ]
      },
      {
       "output_type": "stream",
       "stream": "stdout",
       "text": [
        " SNR point False -1.08531835454 point CTB37A\n",
        "SNR349.7+00.2"
       ]
      },
      {
       "output_type": "stream",
       "stream": "stdout",
       "text": [
        " snr point False -0.0387304659234 point None\n",
        "SNR355.4+00.7"
       ]
      },
      {
       "output_type": "stream",
       "stream": "stdout",
       "text": [
        " snr point False -0.0638470173581 point None\n",
        "SNR357.7-00.1"
       ]
      },
      {
       "output_type": "stream",
       "stream": "stdout",
       "text": [
        " psr point False 3.87909598835 point MSH17-39\n",
        "\n",
        "The SNRs detected, but flagged as BAD are:\n",
        "SNR005.4-01.2 None\n",
        "SNR184.6-05.8 None\n",
        "SNR284.3-01.8 None\n",
        "SNR320.4-01.2 None\n",
        "\n",
        "The SNRs with 0.4 > frac_loc & frac_ext > 0.1 are:\n",
        "SNR011.4-00.1"
       ]
      },
      {
       "output_type": "stream",
       "stream": "stdout",
       "text": [
        " False None\n",
        "SNR012.8-00.0"
       ]
      },
      {
       "output_type": "stream",
       "stream": "stdout",
       "text": [
        " False None\n",
        "SNR017.4-00.1"
       ]
      },
      {
       "output_type": "stream",
       "stream": "stdout",
       "text": [
        " False None\n",
        "SNR018.9-01.1"
       ]
      },
      {
       "output_type": "stream",
       "stream": "stdout",
       "text": [
        " False None\n",
        "SNR074.9+01.2"
       ]
      },
      {
       "output_type": "stream",
       "stream": "stdout",
       "text": [
        " False CTB 87\n",
        "SNR132.7+01.3"
       ]
      },
      {
       "output_type": "stream",
       "stream": "stdout",
       "text": [
        " True HB3\n",
        "SNR179.0+02.6"
       ]
      },
      {
       "output_type": "stream",
       "stream": "stdout",
       "text": [
        " False OA 184\n",
        "SNR304.6+00.1"
       ]
      },
      {
       "output_type": "stream",
       "stream": "stdout",
       "text": [
        " False Kes 17\n",
        "SNR316.3-00.0"
       ]
      },
      {
       "output_type": "stream",
       "stream": "stdout",
       "text": [
        " False MSH 14-57\n",
        "SNR328.4+00.2"
       ]
      },
      {
       "output_type": "stream",
       "stream": "stdout",
       "text": [
        " False MSH 15-57\n",
        "SNR332.0+00.2"
       ]
      },
      {
       "output_type": "stream",
       "stream": "stdout",
       "text": [
        " False None\n",
        "SNR337.8-00.1"
       ]
      },
      {
       "output_type": "stream",
       "stream": "stdout",
       "text": [
        " False Kes 41\n",
        "SNR356.3-00.3"
       ]
      },
      {
       "output_type": "stream",
       "stream": "stdout",
       "text": [
        " False None\n",
        "\n",
        "The sources identified as *NOT* SNRs are:\n",
        "SNR000.0+00.0"
       ]
      },
      {
       "output_type": "stream",
       "stream": "stdout",
       "text": [
        " None extended nearby SgrA East\n",
        "SNR000.3+00.0"
       ]
      },
      {
       "output_type": "stream",
       "stream": "stdout",
       "text": [
        " None point None\n",
        "SNR000.9+00.1"
       ]
      },
      {
       "output_type": "stream",
       "stream": "stdout",
       "text": [
        " None point None\n",
        "SNR001.0-00.1"
       ]
      },
      {
       "output_type": "stream",
       "stream": "stdout",
       "text": [
        " None point None\n",
        "SNR001.4-00.1"
       ]
      },
      {
       "output_type": "stream",
       "stream": "stdout",
       "text": [
        "  point None\n",
        "SNR001.9+00.3"
       ]
      },
      {
       "output_type": "stream",
       "stream": "stdout",
       "text": [
        "  point None\n",
        "SNR003.7-00.2"
       ]
      },
      {
       "output_type": "stream",
       "stream": "stdout",
       "text": [
        "  point None\n",
        "SNR003.8+00.3"
       ]
      },
      {
       "output_type": "stream",
       "stream": "stdout",
       "text": [
        "  extended nearby None\n",
        "SNR004.2-03.5"
       ]
      },
      {
       "output_type": "stream",
       "stream": "stdout",
       "text": [
        "  point None\n",
        "SNR004.5+06.8"
       ]
      },
      {
       "output_type": "stream",
       "stream": "stdout",
       "text": [
        "  extended nearby Kepler, SN1604, 3C358\n",
        "SNR004.8+06.2"
       ]
      },
      {
       "output_type": "stream",
       "stream": "stdout",
       "text": [
        "  point None\n",
        "SNR005.2-02.6"
       ]
      },
      {
       "output_type": "stream",
       "stream": "stdout",
       "text": [
        "  point None\n",
        "SNR005.4-01.2"
       ]
      },
      {
       "output_type": "stream",
       "stream": "stdout",
       "text": [
        " PSR point Milne 56\n",
        "SNR005.5+00.3"
       ]
      },
      {
       "output_type": "stream",
       "stream": "stdout",
       "text": [
        "  point None\n",
        "SNR005.7-00.0"
       ]
      },
      {
       "output_type": "stream",
       "stream": "stdout",
       "text": [
        "  point None\n",
        "SNR005.9+03.1"
       ]
      },
      {
       "output_type": "stream",
       "stream": "stdout",
       "text": [
        "  point None\n",
        "SNR006.1+00.5"
       ]
      },
      {
       "output_type": "stream",
       "stream": "stdout",
       "text": [
        "  extended nearby None\n",
        "SNR006.1+01.2"
       ]
      },
      {
       "output_type": "stream",
       "stream": "stdout",
       "text": [
        "  point None\n",
        "SNR006.4+04.0"
       ]
      },
      {
       "output_type": "stream",
       "stream": "stdout",
       "text": [
        "  point None\n",
        "SNR007.0-00.1"
       ]
      },
      {
       "output_type": "stream",
       "stream": "stdout",
       "text": [
        "  point None\n",
        "SNR007.2+00.2"
       ]
      },
      {
       "output_type": "stream",
       "stream": "stdout",
       "text": [
        " snr point None\n",
        "SNR007.7-03.7"
       ]
      },
      {
       "output_type": "stream",
       "stream": "stdout",
       "text": [
        "  point 1814-24\n",
        "SNR008.3-00.0"
       ]
      },
      {
       "output_type": "stream",
       "stream": "stdout",
       "text": [
        " snr extended nearby None\n",
        "SNR008.7-05.0"
       ]
      },
      {
       "output_type": "stream",
       "stream": "stdout",
       "text": [
        "  point None\n",
        "SNR008.9+00.4"
       ]
      },
      {
       "output_type": "stream",
       "stream": "stdout",
       "text": [
        " None point None\n",
        "SNR009.7-00.0"
       ]
      },
      {
       "output_type": "stream",
       "stream": "stdout",
       "text": [
        " None point None\n",
        "SNR009.8+00.6"
       ]
      },
      {
       "output_type": "stream",
       "stream": "stdout",
       "text": [
        "  point None\n",
        "SNR009.9-00.8"
       ]
      },
      {
       "output_type": "stream",
       "stream": "stdout",
       "text": [
        "  extended nearby None\n",
        "SNR010.5-00.0"
       ]
      },
      {
       "output_type": "stream",
       "stream": "stdout",
       "text": [
        "  point None\n",
        "SNR011.0-00.0"
       ]
      },
      {
       "output_type": "stream",
       "stream": "stdout",
       "text": [
        "  point None\n",
        "SNR011.1+00.1"
       ]
      },
      {
       "output_type": "stream",
       "stream": "stdout",
       "text": [
        " None point None\n",
        "SNR011.1-00.7"
       ]
      },
      {
       "output_type": "stream",
       "stream": "stdout",
       "text": [
        "  point None\n",
        "SNR011.1-01.0"
       ]
      },
      {
       "output_type": "stream",
       "stream": "stdout",
       "text": [
        "  point None\n",
        "SNR011.2-00.3"
       ]
      },
      {
       "output_type": "stream",
       "stream": "stdout",
       "text": [
        " None point None\n",
        "SNR011.4-00.1"
       ]
      },
      {
       "output_type": "stream",
       "stream": "stdout",
       "text": [
        " snr point None\n",
        "SNR011.8-00.2"
       ]
      },
      {
       "output_type": "stream",
       "stream": "stdout",
       "text": [
        "  point None\n",
        "SNR012.0-00.1"
       ]
      },
      {
       "output_type": "stream",
       "stream": "stdout",
       "text": [
        " snr point None\n",
        "SNR012.2+00.3"
       ]
      },
      {
       "output_type": "stream",
       "stream": "stdout",
       "text": [
        " None point None\n",
        "SNR012.5+00.2"
       ]
      },
      {
       "output_type": "stream",
       "stream": "stdout",
       "text": [
        "  extended nearby None\n",
        "SNR012.7-00.0"
       ]
      },
      {
       "output_type": "stream",
       "stream": "stdout",
       "text": [
        " psr point None\n",
        "SNR012.8-00.0"
       ]
      },
      {
       "output_type": "stream",
       "stream": "stdout",
       "text": [
        "  extended nearby None\n",
        "SNR013.3-01.3"
       ]
      },
      {
       "output_type": "stream",
       "stream": "stdout",
       "text": [
        "  extended nearby None\n",
        "SNR013.5+00.2"
       ]
      },
      {
       "output_type": "stream",
       "stream": "stdout",
       "text": [
        "  point None\n",
        "SNR014.1-00.1"
       ]
      },
      {
       "output_type": "stream",
       "stream": "stdout",
       "text": [
        "  point None\n",
        "SNR014.3+00.1"
       ]
      },
      {
       "output_type": "stream",
       "stream": "stdout",
       "text": [
        "  point None\n",
        "SNR015.1-01.6"
       ]
      },
      {
       "output_type": "stream",
       "stream": "stdout",
       "text": [
        "  point None\n",
        "SNR015.4+00.1"
       ]
      },
      {
       "output_type": "stream",
       "stream": "stdout",
       "text": [
        "  extended nearby None\n",
        "SNR015.9+00.2"
       ]
      },
      {
       "output_type": "stream",
       "stream": "stdout",
       "text": [
        "  point None\n",
        "SNR016.0-00.5"
       ]
      },
      {
       "output_type": "stream",
       "stream": "stdout",
       "text": [
        " None point None\n",
        "SNR016.2-02.7"
       ]
      },
      {
       "output_type": "stream",
       "stream": "stdout",
       "text": [
        " None point None\n",
        "SNR016.4-00.5"
       ]
      },
      {
       "output_type": "stream",
       "stream": "stdout",
       "text": [
        "  extended nearby None\n",
        "SNR016.7+00.1"
       ]
      },
      {
       "output_type": "stream",
       "stream": "stdout",
       "text": [
        " psr extended nearby None\n",
        "SNR016.8-01.1"
       ]
      },
      {
       "output_type": "stream",
       "stream": "stdout",
       "text": [
        " HMB point None\n",
        "SNR017.0-00.0"
       ]
      },
      {
       "output_type": "stream",
       "stream": "stdout",
       "text": [
        " None extended nearby None\n",
        "SNR017.4-00.1"
       ]
      },
      {
       "output_type": "stream",
       "stream": "stdout",
       "text": [
        " None point None\n",
        "SNR017.4-02.3"
       ]
      },
      {
       "output_type": "stream",
       "stream": "stdout",
       "text": [
        " None point None\n",
        "SNR017.8-02.6"
       ]
      },
      {
       "output_type": "stream",
       "stream": "stdout",
       "text": [
        " None extended nearby None\n",
        "SNR018.1-00.1"
       ]
      },
      {
       "output_type": "stream",
       "stream": "stdout",
       "text": [
        "  extended nearby None\n",
        "SNR018.6-00.2"
       ]
      },
      {
       "output_type": "stream",
       "stream": "stdout",
       "text": [
        "  point None\n",
        "SNR018.8+00.3"
       ]
      },
      {
       "output_type": "stream",
       "stream": "stdout",
       "text": [
        "  point Kes 67\n",
        "SNR018.9-01.1"
       ]
      },
      {
       "output_type": "stream",
       "stream": "stdout",
       "text": [
        " snr point None\n",
        "SNR019.1+00.2"
       ]
      },
      {
       "output_type": "stream",
       "stream": "stdout",
       "text": [
        "  point None\n",
        "SNR020.4+00.1"
       ]
      },
      {
       "output_type": "stream",
       "stream": "stdout",
       "text": [
        "  point None\n",
        "SNR021.0-00.4"
       ]
      },
      {
       "output_type": "stream",
       "stream": "stdout",
       "text": [
        "  point None\n",
        "SNR021.5-00.1"
       ]
      },
      {
       "output_type": "stream",
       "stream": "stdout",
       "text": [
        "  point None\n",
        "SNR021.5-00.9"
       ]
      },
      {
       "output_type": "stream",
       "stream": "stdout",
       "text": [
        " psr point None\n",
        "SNR021.8-00.6"
       ]
      },
      {
       "output_type": "stream",
       "stream": "stdout",
       "text": [
        "  extended nearby Kes 69\n",
        "SNR022.7-00.2"
       ]
      },
      {
       "output_type": "stream",
       "stream": "stdout",
       "text": [
        "  extended nearby None\n",
        "SNR023.6+00.3"
       ]
      },
      {
       "output_type": "stream",
       "stream": "stdout",
       "text": [
        "  extended nearby None\n",
        "SNR024.7-00.6"
       ]
      },
      {
       "output_type": "stream",
       "stream": "stdout",
       "text": [
        "  extended nearby None\n",
        "SNR027.4+00.0"
       ]
      },
      {
       "output_type": "stream",
       "stream": "stdout",
       "text": [
        " None extended nearby Kes 73\n",
        "SNR027.8+00.6"
       ]
      },
      {
       "output_type": "stream",
       "stream": "stdout",
       "text": [
        " snr extended nearby None\n",
        "SNR028.6-00.1"
       ]
      },
      {
       "output_type": "stream",
       "stream": "stdout",
       "text": [
        " snr point None\n",
        "SNR028.8+01.5"
       ]
      },
      {
       "output_type": "stream",
       "stream": "stdout",
       "text": [
        " None extended nearby None\n",
        "SNR029.6+00.1"
       ]
      },
      {
       "output_type": "stream",
       "stream": "stdout",
       "text": [
        " psr extended nearby None\n",
        "SNR029.7-00.3"
       ]
      },
      {
       "output_type": "stream",
       "stream": "stdout",
       "text": [
        " psr point Kes 75\n",
        "SNR030.7+01.0"
       ]
      },
      {
       "output_type": "stream",
       "stream": "stdout",
       "text": [
        "  extended nearby None\n",
        "SNR030.7-02.0"
       ]
      },
      {
       "output_type": "stream",
       "stream": "stdout",
       "text": [
        "  point None\n",
        "SNR031.5-00.6"
       ]
      },
      {
       "output_type": "stream",
       "stream": "stdout",
       "text": [
        "  point None\n",
        "SNR031.9+00.0"
       ]
      },
      {
       "output_type": "stream",
       "stream": "stdout",
       "text": [
        " snr extended nearby 3C391\n",
        "SNR032.0-04.9"
       ]
      },
      {
       "output_type": "stream",
       "stream": "stdout",
       "text": [
        "  point 3C396.1\n",
        "SNR032.1-00.9"
       ]
      },
      {
       "output_type": "stream",
       "stream": "stdout",
       "text": [
        "  point None\n",
        "SNR032.8-00.1"
       ]
      },
      {
       "output_type": "stream",
       "stream": "stdout",
       "text": [
        " None point Kes 78\n",
        "SNR033.2-00.6"
       ]
      },
      {
       "output_type": "stream",
       "stream": "stdout",
       "text": [
        "  extended nearby None\n",
        "SNR033.6+00.1"
       ]
      },
      {
       "output_type": "stream",
       "stream": "stdout",
       "text": [
        " None point Kes 79\n",
        "SNR035.6-00.4"
       ]
      },
      {
       "output_type": "stream",
       "stream": "stdout",
       "text": [
        " snr point None\n",
        "SNR036.6+02.6"
       ]
      },
      {
       "output_type": "stream",
       "stream": "stdout",
       "text": [
        "  point None\n",
        "SNR036.6-00.7"
       ]
      },
      {
       "output_type": "stream",
       "stream": "stdout",
       "text": [
        "  extended nearby None\n",
        "SNR039.2-00.3"
       ]
      },
      {
       "output_type": "stream",
       "stream": "stdout",
       "text": [
        "  point 3C396\n",
        "SNR039.7-02.0"
       ]
      },
      {
       "output_type": "stream",
       "stream": "stdout",
       "text": [
        "  point W50\n",
        "SNR040.5-00.5"
       ]
      },
      {
       "output_type": "stream",
       "stream": "stdout",
       "text": [
        "  point None\n",
        "SNR041.1-00.3"
       ]
      },
      {
       "output_type": "stream",
       "stream": "stdout",
       "text": [
        " snr point 3C397\n",
        "SNR042.8+00.6"
       ]
      },
      {
       "output_type": "stream",
       "stream": "stdout",
       "text": [
        "  point None\n",
        "SNR043.9+01.6"
       ]
      },
      {
       "output_type": "stream",
       "stream": "stdout",
       "text": [
        "  point None\n",
        "SNR046.8-00.3"
       ]
      },
      {
       "output_type": "stream",
       "stream": "stdout",
       "text": [
        "  point (HC30)\n",
        "SNR053.6-02.2"
       ]
      },
      {
       "output_type": "stream",
       "stream": "stdout",
       "text": [
        "  point 3C400.2, NRAO\n",
        "SNR054.1+00.3"
       ]
      },
      {
       "output_type": "stream",
       "stream": "stdout",
       "text": [
        " None point None\n",
        "SNR054.4-00.3"
       ]
      },
      {
       "output_type": "stream",
       "stream": "stdout",
       "text": [
        " psr point HC40\n",
        "SNR055.0+00.3"
       ]
      },
      {
       "output_type": "stream",
       "stream": "stdout",
       "text": [
        "  extended nearby None\n",
        "SNR055.7+03.4"
       ]
      },
      {
       "output_type": "stream",
       "stream": "stdout",
       "text": [
        "  point None\n",
        "SNR057.2+00.8"
       ]
      },
      {
       "output_type": "stream",
       "stream": "stdout",
       "text": [
        "  point 4C21.53\n",
        "SNR059.5+00.1"
       ]
      },
      {
       "output_type": "stream",
       "stream": "stdout",
       "text": [
        "  point None\n",
        "SNR059.8+01.2"
       ]
      },
      {
       "output_type": "stream",
       "stream": "stdout",
       "text": [
        "  point None\n",
        "SNR063.7+01.1"
       ]
      },
      {
       "output_type": "stream",
       "stream": "stdout",
       "text": [
        "  point None\n",
        "SNR065.1+00.6"
       ]
      },
      {
       "output_type": "stream",
       "stream": "stdout",
       "text": [
        " None point None\n",
        "SNR065.3+05.7"
       ]
      },
      {
       "output_type": "stream",
       "stream": "stdout",
       "text": [
        "  point None\n",
        "SNR065.7+01.2"
       ]
      },
      {
       "output_type": "stream",
       "stream": "stdout",
       "text": [
        " None point DA495\n",
        "SNR067.7+01.8"
       ]
      },
      {
       "output_type": "stream",
       "stream": "stdout",
       "text": [
        "  point None\n",
        "SNR068.6-01.2"
       ]
      },
      {
       "output_type": "stream",
       "stream": "stdout",
       "text": [
        "  point None\n",
        "SNR069.0+02.7"
       ]
      },
      {
       "output_type": "stream",
       "stream": "stdout",
       "text": [
        " PSR point CTB 80\n",
        "SNR069.7+01.0"
       ]
      },
      {
       "output_type": "stream",
       "stream": "stdout",
       "text": [
        "  point None\n",
        "SNR074.9+01.2"
       ]
      },
      {
       "output_type": "stream",
       "stream": "stdout",
       "text": [
        " AGN point CTB 87\n",
        "SNR076.9+01.0"
       ]
      },
      {
       "output_type": "stream",
       "stream": "stdout",
       "text": [
        " None point None\n",
        "SNR082.2+05.3"
       ]
      },
      {
       "output_type": "stream",
       "stream": "stdout",
       "text": [
        "  point W63\n",
        "SNR083.0-00.3"
       ]
      },
      {
       "output_type": "stream",
       "stream": "stdout",
       "text": [
        "  extended nearby None\n",
        "SNR084.2-00.8"
       ]
      },
      {
       "output_type": "stream",
       "stream": "stdout",
       "text": [
        "  point None\n",
        "SNR085.4+00.7"
       ]
      },
      {
       "output_type": "stream",
       "stream": "stdout",
       "text": [
        "  point None\n",
        "SNR085.9-00.6"
       ]
      },
      {
       "output_type": "stream",
       "stream": "stdout",
       "text": [
        "  point None\n",
        "SNR093.3+06.9"
       ]
      },
      {
       "output_type": "stream",
       "stream": "stdout",
       "text": [
        "  point DA530\n",
        "SNR093.7-00.2"
       ]
      },
      {
       "output_type": "stream",
       "stream": "stdout",
       "text": [
        "  point CTB104A\n",
        "SNR094.0+01.0"
       ]
      },
      {
       "output_type": "stream",
       "stream": "stdout",
       "text": [
        "  point 3C434.1\n",
        "SNR096.0+02.0"
       ]
      },
      {
       "output_type": "stream",
       "stream": "stdout",
       "text": [
        "  point None\n",
        "SNR106.3+02.7"
       ]
      },
      {
       "output_type": "stream",
       "stream": "stdout",
       "text": [
        " None point None\n",
        "SNR108.2-00.6"
       ]
      },
      {
       "output_type": "stream",
       "stream": "stdout",
       "text": [
        "  point None\n",
        "SNR113.0+00.2"
       ]
      },
      {
       "output_type": "stream",
       "stream": "stdout",
       "text": [
        "  point None\n",
        "SNR114.3+00.3"
       ]
      },
      {
       "output_type": "stream",
       "stream": "stdout",
       "text": [
        " None point None\n",
        "SNR116.5+01.1"
       ]
      },
      {
       "output_type": "stream",
       "stream": "stdout",
       "text": [
        " None point None\n",
        "SNR116.9+00.2"
       ]
      },
      {
       "output_type": "stream",
       "stream": "stdout",
       "text": [
        "  point CTB1\n",
        "SNR119.5+10.2"
       ]
      },
      {
       "output_type": "stream",
       "stream": "stdout",
       "text": [
        " PSR point CTA 1\n",
        "SNR120.1+01.4"
       ]
      },
      {
       "output_type": "stream",
       "stream": "stdout",
       "text": [
        " SNR point Tycho\n",
        "SNR126.2+01.6"
       ]
      },
      {
       "output_type": "stream",
       "stream": "stdout",
       "text": [
        "  point None\n",
        "SNR127.1+00.5"
       ]
      },
      {
       "output_type": "stream",
       "stream": "stdout",
       "text": [
        " psr point R5\n",
        "SNR130.7+03.1"
       ]
      },
      {
       "output_type": "stream",
       "stream": "stdout",
       "text": [
        " PSR point 3C58,SN1181\n",
        "SNR132.7+01.3"
       ]
      },
      {
       "output_type": "stream",
       "stream": "stdout",
       "text": [
        " snr extended nearby HB3\n",
        "SNR156.2+05.7"
       ]
      },
      {
       "output_type": "stream",
       "stream": "stdout",
       "text": [
        " None point None\n",
        "SNR160.9+02.6"
       ]
      },
      {
       "output_type": "stream",
       "stream": "stdout",
       "text": [
        " None point HB9\n",
        "SNR166.0+04.3"
       ]
      },
      {
       "output_type": "stream",
       "stream": "stdout",
       "text": [
        " psr point VRO42.05.01\n",
        "SNR179.0+02.6"
       ]
      },
      {
       "output_type": "stream",
       "stream": "stdout",
       "text": [
        " psr point OA 184\n",
        "SNR182.4+04.3"
       ]
      },
      {
       "output_type": "stream",
       "stream": "stdout",
       "text": [
        "  point None\n",
        "SNR184.6-05.8"
       ]
      },
      {
       "output_type": "stream",
       "stream": "stdout",
       "text": [
        " PWN point Crab\n",
        "SNR192.8-01.1"
       ]
      },
      {
       "output_type": "stream",
       "stream": "stdout",
       "text": [
        "  point PKS0607+17\n",
        "SNR206.9+02.3"
       ]
      },
      {
       "output_type": "stream",
       "stream": "stdout",
       "text": [
        "  point PKS0646+06\n",
        "SNR213.3-00.4"
       ]
      },
      {
       "output_type": "stream",
       "stream": "stdout",
       "text": [
        " None point None\n",
        "SNR261.9+05.5"
       ]
      },
      {
       "output_type": "stream",
       "stream": "stdout",
       "text": [
        "  point None\n",
        "SNR263.9-03.3"
       ]
      },
      {
       "output_type": "stream",
       "stream": "stdout",
       "text": [
        " PSR point Vela(XYZ)\n",
        "SNR272.2-03.2"
       ]
      },
      {
       "output_type": "stream",
       "stream": "stdout",
       "text": [
        "  point None\n",
        "SNR279.0+01.1"
       ]
      },
      {
       "output_type": "stream",
       "stream": "stdout",
       "text": [
        " None extended nearby None\n",
        "SNR284.3-01.8"
       ]
      },
      {
       "output_type": "stream",
       "stream": "stdout",
       "text": [
        " HMB point MSH 10-53\n",
        "SNR286.5-01.2"
       ]
      },
      {
       "output_type": "stream",
       "stream": "stdout",
       "text": [
        "  extended nearby None\n",
        "SNR289.7-00.3"
       ]
      },
      {
       "output_type": "stream",
       "stream": "stdout",
       "text": [
        "  point None\n",
        "SNR290.1-00.8"
       ]
      },
      {
       "output_type": "stream",
       "stream": "stdout",
       "text": [
        " snr point MSH 11-61A\n",
        "SNR293.8+00.6"
       ]
      },
      {
       "output_type": "stream",
       "stream": "stdout",
       "text": [
        "  extended nearby None\n",
        "SNR294.1-00.0"
       ]
      },
      {
       "output_type": "stream",
       "stream": "stdout",
       "text": [
        "  extended nearby None\n",
        "SNR296.1-00.5"
       ]
      },
      {
       "output_type": "stream",
       "stream": "stdout",
       "text": [
        "  point None\n",
        "SNR296.5+10.0"
       ]
      },
      {
       "output_type": "stream",
       "stream": "stdout",
       "text": [
        "  extended nearby PKS1209-51/5\n",
        "SNR296.8-00.3"
       ]
      },
      {
       "output_type": "stream",
       "stream": "stdout",
       "text": [
        "  point 1156-62\n",
        "SNR298.5-00.3"
       ]
      },
      {
       "output_type": "stream",
       "stream": "stdout",
       "text": [
        "  point None\n",
        "SNR299.2-02.9"
       ]
      },
      {
       "output_type": "stream",
       "stream": "stdout",
       "text": [
        "  point None\n",
        "SNR299.6-00.5"
       ]
      },
      {
       "output_type": "stream",
       "stream": "stdout",
       "text": [
        "  extended nearby None\n",
        "SNR301.4-01.0"
       ]
      },
      {
       "output_type": "stream",
       "stream": "stdout",
       "text": [
        "  point None\n",
        "SNR302.3+00.7"
       ]
      },
      {
       "output_type": "stream",
       "stream": "stdout",
       "text": [
        "  point None\n",
        "SNR304.6+00.1"
       ]
      },
      {
       "output_type": "stream",
       "stream": "stdout",
       "text": [
        " snr point Kes 17\n",
        "SNR306.3-00.8"
       ]
      },
      {
       "output_type": "stream",
       "stream": "stdout",
       "text": [
        "  extended nearby Swift J132150.9-633350\n",
        "SNR308.1-00.7"
       ]
      },
      {
       "output_type": "stream",
       "stream": "stdout",
       "text": [
        "  point None\n",
        "SNR308.4-01.4"
       ]
      },
      {
       "output_type": "stream",
       "stream": "stdout",
       "text": [
        "  point None\n",
        "SNR308.8-00.1"
       ]
      },
      {
       "output_type": "stream",
       "stream": "stdout",
       "text": [
        " snr point None\n",
        "SNR309.2-00.6"
       ]
      },
      {
       "output_type": "stream",
       "stream": "stdout",
       "text": [
        "  point None\n",
        "SNR309.8+00.0"
       ]
      },
      {
       "output_type": "stream",
       "stream": "stdout",
       "text": [
        "  point None\n",
        "SNR310.6-00.3"
       ]
      },
      {
       "output_type": "stream",
       "stream": "stdout",
       "text": [
        "  point Kes 20B\n",
        "SNR310.8-00.4"
       ]
      },
      {
       "output_type": "stream",
       "stream": "stdout",
       "text": [
        "  extended nearby Kes 20A\n",
        "SNR311.5-00.3"
       ]
      },
      {
       "output_type": "stream",
       "stream": "stdout",
       "text": [
        "  extended nearby None\n",
        "SNR312.4-00.4"
       ]
      },
      {
       "output_type": "stream",
       "stream": "stdout",
       "text": [
        "  point None\n",
        "SNR312.5-03.0"
       ]
      },
      {
       "output_type": "stream",
       "stream": "stdout",
       "text": [
        "  point None\n",
        "SNR315.1+02.7"
       ]
      },
      {
       "output_type": "stream",
       "stream": "stdout",
       "text": [
        " None point None\n",
        "SNR315.4-00.3"
       ]
      },
      {
       "output_type": "stream",
       "stream": "stdout",
       "text": [
        "  point None\n",
        "SNR315.4-02.3"
       ]
      },
      {
       "output_type": "stream",
       "stream": "stdout",
       "text": [
        "  point RCW 86\n",
        "SNR315.9-00.0"
       ]
      },
      {
       "output_type": "stream",
       "stream": "stdout",
       "text": [
        "  point None\n",
        "SNR316.3-00.0"
       ]
      },
      {
       "output_type": "stream",
       "stream": "stdout",
       "text": [
        " snr point MSH 14-57\n",
        "SNR317.3-00.2"
       ]
      },
      {
       "output_type": "stream",
       "stream": "stdout",
       "text": [
        " psr point None\n",
        "SNR318.2+00.1"
       ]
      },
      {
       "output_type": "stream",
       "stream": "stdout",
       "text": [
        "  point None\n",
        "SNR318.9+00.4"
       ]
      },
      {
       "output_type": "stream",
       "stream": "stdout",
       "text": [
        "  point None\n",
        "SNR320.4-01.2"
       ]
      },
      {
       "output_type": "stream",
       "stream": "stdout",
       "text": [
        " PWN point MSH 15-52\n",
        "SNR320.6-01.6"
       ]
      },
      {
       "output_type": "stream",
       "stream": "stdout",
       "text": [
        " None extended nearby None\n",
        "SNR321.9-01.1"
       ]
      },
      {
       "output_type": "stream",
       "stream": "stdout",
       "text": [
        "  point None\n",
        "SNR322.5-00.1"
       ]
      },
      {
       "output_type": "stream",
       "stream": "stdout",
       "text": [
        "  point None\n",
        "SNR323.5+00.1"
       ]
      },
      {
       "output_type": "stream",
       "stream": "stdout",
       "text": [
        "  point None\n",
        "SNR327.1-01.1"
       ]
      },
      {
       "output_type": "stream",
       "stream": "stdout",
       "text": [
        "  point None\n",
        "SNR327.2-00.1"
       ]
      },
      {
       "output_type": "stream",
       "stream": "stdout",
       "text": [
        "  point None\n",
        "SNR327.4+00.4"
       ]
      },
      {
       "output_type": "stream",
       "stream": "stdout",
       "text": [
        "  point Kes 27\n",
        "SNR327.4+01.0"
       ]
      },
      {
       "output_type": "stream",
       "stream": "stdout",
       "text": [
        "  point None\n",
        "SNR327.6+14.6"
       ]
      },
      {
       "output_type": "stream",
       "stream": "stdout",
       "text": [
        "  point SN 1006\n",
        "SNR328.4+00.2"
       ]
      },
      {
       "output_type": "stream",
       "stream": "stdout",
       "text": [
        " psr extended nearby MSH 15-57\n",
        "SNR329.7+00.4"
       ]
      },
      {
       "output_type": "stream",
       "stream": "stdout",
       "text": [
        "  point None\n",
        "SNR330.0+15.0"
       ]
      },
      {
       "output_type": "stream",
       "stream": "stdout",
       "text": [
        "  point LupusLoop\n",
        "SNR330.2+01.0"
       ]
      },
      {
       "output_type": "stream",
       "stream": "stdout",
       "text": [
        "  point None\n",
        "SNR332.0+00.2"
       ]
      },
      {
       "output_type": "stream",
       "stream": "stdout",
       "text": [
        " snr point None\n",
        "SNR332.4+00.1"
       ]
      },
      {
       "output_type": "stream",
       "stream": "stdout",
       "text": [
        " snr point MSH 16-51\n",
        "SNR332.4-00.4"
       ]
      },
      {
       "output_type": "stream",
       "stream": "stdout",
       "text": [
        "  extended nearby RCW 103\n",
        "SNR332.5-05.6"
       ]
      },
      {
       "output_type": "stream",
       "stream": "stdout",
       "text": [
        " None point None\n",
        "SNR335.2+00.1"
       ]
      },
      {
       "output_type": "stream",
       "stream": "stdout",
       "text": [
        " None point None\n",
        "SNR336.7+00.5"
       ]
      },
      {
       "output_type": "stream",
       "stream": "stdout",
       "text": [
        " snr extended nearby None\n",
        "SNR337.0-00.1"
       ]
      },
      {
       "output_type": "stream",
       "stream": "stdout",
       "text": [
        " None extended nearby CTB33\n",
        "SNR337.2+00.1"
       ]
      },
      {
       "output_type": "stream",
       "stream": "stdout",
       "text": [
        " psr extended None\n",
        "SNR337.2-00.7"
       ]
      },
      {
       "output_type": "stream",
       "stream": "stdout",
       "text": [
        "  extended nearby None\n",
        "SNR337.3+01.0"
       ]
      },
      {
       "output_type": "stream",
       "stream": "stdout",
       "text": [
        "  extended nearby Kes 40\n",
        "SNR337.8-00.1"
       ]
      },
      {
       "output_type": "stream",
       "stream": "stdout",
       "text": [
        " snr point Kes 41\n",
        "SNR338.1+00.4"
       ]
      },
      {
       "output_type": "stream",
       "stream": "stdout",
       "text": [
        " None point None\n",
        "SNR338.3-00.0"
       ]
      },
      {
       "output_type": "stream",
       "stream": "stdout",
       "text": [
        " None extended nearby None\n",
        "SNR338.5+00.1"
       ]
      },
      {
       "output_type": "stream",
       "stream": "stdout",
       "text": [
        " snr point None\n",
        "SNR340.4+00.4"
       ]
      },
      {
       "output_type": "stream",
       "stream": "stdout",
       "text": [
        " None point None\n",
        "SNR340.6+00.3"
       ]
      },
      {
       "output_type": "stream",
       "stream": "stdout",
       "text": [
        " None point None\n",
        "SNR341.2+00.9"
       ]
      },
      {
       "output_type": "stream",
       "stream": "stdout",
       "text": [
        "  point None\n",
        "SNR341.9-00.3"
       ]
      },
      {
       "output_type": "stream",
       "stream": "stdout",
       "text": [
        "  point None\n",
        "SNR342.0-00.2"
       ]
      },
      {
       "output_type": "stream",
       "stream": "stdout",
       "text": [
        "  point None\n",
        "SNR342.1+00.9"
       ]
      },
      {
       "output_type": "stream",
       "stream": "stdout",
       "text": [
        "  point None\n",
        "SNR343.0-06.0"
       ]
      },
      {
       "output_type": "stream",
       "stream": "stdout",
       "text": [
        " None point RCW 114\n",
        "SNR343.1-00.7"
       ]
      },
      {
       "output_type": "stream",
       "stream": "stdout",
       "text": [
        "  point None\n",
        "SNR343.1-02.3"
       ]
      },
      {
       "output_type": "stream",
       "stream": "stdout",
       "text": [
        " PSR point None\n",
        "SNR344.7-00.1"
       ]
      },
      {
       "output_type": "stream",
       "stream": "stdout",
       "text": [
        "  point None\n",
        "SNR345.7-00.2"
       ]
      },
      {
       "output_type": "stream",
       "stream": "stdout",
       "text": [
        "  extended nearby None\n",
        "SNR346.6-00.2"
       ]
      },
      {
       "output_type": "stream",
       "stream": "stdout",
       "text": [
        "  point None\n",
        "SNR348.5-00.0"
       ]
      },
      {
       "output_type": "stream",
       "stream": "stdout",
       "text": [
        " None point None\n",
        "SNR348.7+00.3"
       ]
      },
      {
       "output_type": "stream",
       "stream": "stdout",
       "text": [
        "  point CTB37B\n",
        "SNR349.2-00.1"
       ]
      },
      {
       "output_type": "stream",
       "stream": "stdout",
       "text": [
        "  point None\n",
        "SNR350.0-02.0"
       ]
      },
      {
       "output_type": "stream",
       "stream": "stdout",
       "text": [
        "  point None\n",
        "SNR350.1-00.3"
       ]
      },
      {
       "output_type": "stream",
       "stream": "stdout",
       "text": [
        " None point None\n",
        "SNR351.2+00.1"
       ]
      },
      {
       "output_type": "stream",
       "stream": "stdout",
       "text": [
        "  extended nearby None\n",
        "SNR351.7+00.8"
       ]
      },
      {
       "output_type": "stream",
       "stream": "stdout",
       "text": [
        "  point None\n",
        "SNR351.9-00.9"
       ]
      },
      {
       "output_type": "stream",
       "stream": "stdout",
       "text": [
        "  point None\n",
        "SNR352.7-00.1"
       ]
      },
      {
       "output_type": "stream",
       "stream": "stdout",
       "text": [
        "  extended nearby None\n",
        "SNR353.6-00.7"
       ]
      },
      {
       "output_type": "stream",
       "stream": "stdout",
       "text": [
        "  point HESS J1731-347\n",
        "SNR353.9-02.0"
       ]
      },
      {
       "output_type": "stream",
       "stream": "stdout",
       "text": [
        "  point None\n",
        "SNR354.1+00.1"
       ]
      },
      {
       "output_type": "stream",
       "stream": "stdout",
       "text": [
        "  extended nearby None\n",
        "SNR354.8-00.8"
       ]
      },
      {
       "output_type": "stream",
       "stream": "stdout",
       "text": [
        "  point None\n",
        "SNR355.6-00.0"
       ]
      },
      {
       "output_type": "stream",
       "stream": "stdout",
       "text": [
        "  point None\n",
        "SNR355.9-02.5"
       ]
      },
      {
       "output_type": "stream",
       "stream": "stdout",
       "text": [
        "  extended nearby None\n",
        "SNR356.2+04.5"
       ]
      },
      {
       "output_type": "stream",
       "stream": "stdout",
       "text": [
        "  point None\n",
        "SNR356.3-00.3"
       ]
      },
      {
       "output_type": "stream",
       "stream": "stdout",
       "text": [
        " None point None\n",
        "SNR356.3-01.5"
       ]
      },
      {
       "output_type": "stream",
       "stream": "stdout",
       "text": [
        " None point None\n",
        "SNR357.7+00.3"
       ]
      },
      {
       "output_type": "stream",
       "stream": "stdout",
       "text": [
        " None extended nearby Square\n",
        "SNR358.0+03.8"
       ]
      },
      {
       "output_type": "stream",
       "stream": "stdout",
       "text": [
        "  point None\n",
        "SNR358.1+00.1"
       ]
      },
      {
       "output_type": "stream",
       "stream": "stdout",
       "text": [
        " None extended nearby None\n",
        "SNR358.5-00.9"
       ]
      },
      {
       "output_type": "stream",
       "stream": "stdout",
       "text": [
        " None extended nearby None\n",
        "SNR359.0-00.9"
       ]
      },
      {
       "output_type": "stream",
       "stream": "stdout",
       "text": [
        " None extended nearby None\n",
        "SNR359.1+00.9"
       ]
      },
      {
       "output_type": "stream",
       "stream": "stdout",
       "text": [
        " None point None\n",
        "SNR359.1-00.5"
       ]
      },
      {
       "output_type": "stream",
       "stream": "stdout",
       "text": [
        " None extended nearby None\n",
        "\n",
        "These SNRs are interacting:\n",
        "Classified SNRs:\n",
        "SNR006.4-00.1"
       ]
      },
      {
       "output_type": "stream",
       "stream": "stdout",
       "text": [
        " W28 45000.0\n",
        "SNR008.7-00.1"
       ]
      },
      {
       "output_type": "stream",
       "stream": "stdout",
       "text": [
        " W30 30000.0\n",
        "SNR023.3-00.3"
       ]
      },
      {
       "output_type": "stream",
       "stream": "stdout",
       "text": [
        " W41 100000.0\n",
        "SNR034.7-00.4"
       ]
      },
      {
       "output_type": "stream",
       "stream": "stdout",
       "text": [
        " W44 20000.0\n",
        "SNR043.3-00.2"
       ]
      },
      {
       "output_type": "stream",
       "stream": "stdout",
       "text": [
        " W49B 4000.0\n",
        "SNR049.2-00.7"
       ]
      },
      {
       "output_type": "stream",
       "stream": "stdout",
       "text": [
        " W51c 20000.0\n",
        "SNR089.0+04.7"
       ]
      },
      {
       "output_type": "stream",
       "stream": "stdout",
       "text": [
        " HB21 12000.0\n",
        "SNR189.1+03.0"
       ]
      },
      {
       "output_type": "stream",
       "stream": "stdout",
       "text": [
        " IC443 20000.0\n",
        "SNR348.5+00.1"
       ]
      },
      {
       "output_type": "stream",
       "stream": "stdout",
       "text": [
        " CTB37A 5000.0\n",
        "SNR349.7+00.2"
       ]
      },
      {
       "output_type": "stream",
       "stream": "stdout",
       "text": [
        " None 3000\n",
        "SNR357.7-00.1"
       ]
      },
      {
       "output_type": "stream",
       "stream": "stdout",
       "text": [
        " MSH17-39 None\n",
        "Detected, but failed classification:\n",
        "SNR304.6+00.1"
       ]
      },
      {
       "output_type": "stream",
       "stream": "stdout",
       "text": [
        " Kes 17 50000.0\n",
        "SNR337.8-00.1"
       ]
      },
      {
       "output_type": "stream",
       "stream": "stdout",
       "text": [
        " Kes 41 None\n",
        "Were not detected:"
       ]
      },
      {
       "output_type": "stream",
       "stream": "stdout",
       "text": [
        "\n",
        "SNR000.0+00.0"
       ]
      },
      {
       "output_type": "stream",
       "stream": "stdout",
       "text": [
        " SgrA East 8000.0\n",
        "SNR001.0-00.1"
       ]
      },
      {
       "output_type": "stream",
       "stream": "stdout",
       "text": [
        " None None\n",
        "SNR001.4-00.1"
       ]
      },
      {
       "output_type": "stream",
       "stream": "stdout",
       "text": [
        " None None\n",
        "SNR005.4-01.2"
       ]
      },
      {
       "output_type": "stream",
       "stream": "stdout",
       "text": [
        " Milne 56 None\n",
        "SNR005.7-00.0"
       ]
      },
      {
       "output_type": "stream",
       "stream": "stdout",
       "text": [
        " None None\n",
        "SNR009.7-00.0"
       ]
      },
      {
       "output_type": "stream",
       "stream": "stdout",
       "text": [
        " None None\n",
        "SNR016.7+00.1"
       ]
      },
      {
       "output_type": "stream",
       "stream": "stdout",
       "text": [
        " None 10000\n",
        "SNR018.8+00.3"
       ]
      },
      {
       "output_type": "stream",
       "stream": "stdout",
       "text": [
        " Kes 67 None\n",
        "SNR021.8-00.6"
       ]
      },
      {
       "output_type": "stream",
       "stream": "stdout",
       "text": [
        " Kes 69 None\n",
        "SNR029.7-00.3"
       ]
      },
      {
       "output_type": "stream",
       "stream": "stdout",
       "text": [
        " Kes 75 750.0\n",
        "SNR031.9+00.0"
       ]
      },
      {
       "output_type": "stream",
       "stream": "stdout",
       "text": [
        " 3C391 7000.0\n",
        "SNR032.8-00.1"
       ]
      },
      {
       "output_type": "stream",
       "stream": "stdout",
       "text": [
        " Kes 78 None\n",
        "SNR039.2-00.3"
       ]
      },
      {
       "output_type": "stream",
       "stream": "stdout",
       "text": [
        " 3C396 None\n",
        "SNR041.1-00.3"
       ]
      },
      {
       "output_type": "stream",
       "stream": "stdout",
       "text": [
        " 3C397 2000\n",
        "SNR054.4-00.3"
       ]
      },
      {
       "output_type": "stream",
       "stream": "stdout",
       "text": [
        " HC40 None\n",
        "SNR332.4-00.4"
       ]
      },
      {
       "output_type": "stream",
       "stream": "stdout",
       "text": [
        " RCW 103 2000.0,\n",
        "SNR337.0-00.1"
       ]
      },
      {
       "output_type": "stream",
       "stream": "stdout",
       "text": [
        " CTB33 None\n",
        "SNR346.6-00.2"
       ]
      },
      {
       "output_type": "stream",
       "stream": "stdout",
       "text": [
        " None None\n",
        "SNR348.5-00.0"
       ]
      },
      {
       "output_type": "stream",
       "stream": "stdout",
       "text": [
        " None None\n",
        "SNR357.7+00.3"
       ]
      },
      {
       "output_type": "stream",
       "stream": "stdout",
       "text": [
        " Square None\n",
        "SNR359.1+00.9"
       ]
      },
      {
       "output_type": "stream",
       "stream": "stdout",
       "text": [
        " None None\n",
        "SNR359.1-00.5"
       ]
      },
      {
       "output_type": "stream",
       "stream": "stdout",
       "text": [
        " None 35000.0\n",
        "\n",
        "These SNRs are young as identified by nonthermal X-rays:\n",
        "Classified SNRs:\n",
        "SNR111.7-02.1"
       ]
      },
      {
       "output_type": "stream",
       "stream": "stdout",
       "text": [
        " Cassiopeia A SNR 332.0\n",
        "SNR266.2-01.2"
       ]
      },
      {
       "output_type": "stream",
       "stream": "stdout",
       "text": [
        " RX J0852.0-4622 SNR 2000.0\n",
        "SNR347.3-00.5"
       ]
      },
      {
       "output_type": "stream",
       "stream": "stdout",
       "text": [
        " RX J1713.7-3946 SNR 1618.0\n",
        "Detected, but failed classification:\n",
        "Were not detected:"
       ]
      },
      {
       "output_type": "stream",
       "stream": "stdout",
       "text": [
        "\n",
        "SNR001.9+00.3"
       ]
      },
      {
       "output_type": "stream",
       "stream": "stdout",
       "text": [
        " None  110\n",
        "SNR004.5+06.8"
       ]
      },
      {
       "output_type": "stream",
       "stream": "stdout",
       "text": [
        " Kepler, SN1604, 3C358  408.0\n",
        "SNR021.5-00.9"
       ]
      },
      {
       "output_type": "stream",
       "stream": "stdout",
       "text": [
        " None psr 870\n",
        "SNR028.6-00.1"
       ]
      },
      {
       "output_type": "stream",
       "stream": "stdout",
       "text": [
        " None snr None\n",
        "SNR120.1+01.4"
       ]
      },
      {
       "output_type": "stream",
       "stream": "stdout",
       "text": [
        " Tycho SNR 437.0\n",
        "SNR315.4-02.3"
       ]
      },
      {
       "output_type": "stream",
       "stream": "stdout",
       "text": [
        " RCW 86  1825.0\n",
        "SNR327.6+14.6"
       ]
      },
      {
       "output_type": "stream",
       "stream": "stdout",
       "text": [
        " SN 1006  1004.0\n",
        "SNR330.2+01.0"
       ]
      },
      {
       "output_type": "stream",
       "stream": "stdout",
       "text": [
        " None  None\n",
        "SNR353.6-00.7"
       ]
      },
      {
       "output_type": "stream",
       "stream": "stdout",
       "text": [
        " HESS J1731-347  27000.0\n"
       ]
      },
      {
       "output_type": "stream",
       "stream": "stdout",
       "text": [
        "\n",
        "\n",
        "Creating the following plots: \n"
       ]
      }
     ],
     "prompt_number": 6
    },
    {
     "cell_type": "code",
     "collapsed": false,
     "input": [
      "#detected means union of point candidate + extended+ already ID'd + new detected (point cand + extended includes all I thionk though)\n",
      "newsnrs = set(newsnrs)\n",
      "extsnrs = set(extsnrs)\n",
      "ptsnrs = set(ptsnrs)\n",
      "idsnrs = set(idsnrs)\n",
      "failclass = set(failclass)\n",
      "badsnrs = set(badsnrs) #I'm including bad, but I need to double check what's wrong with these and whether to def include them or not\n",
      "#question about the not SNRs: are they identified to not be SNRs because the RoI model didn't include all the known sources in the model i.e. can't disentagle overlapping emissions?\n",
      "gevSNRS_wbad = newsnrs.union(extsnrs).union(ptsnrs).union(idsnrs).union(badsnrs)\n",
      "gevSNRS_wobad = newsnrs.union(extsnrs).union(ptsnrs).union(idsnrs)\n",
      "print 'gevSNRS: \\nwbad:',len(gevSNRS_wbad),'\\nwobad',len(gevSNRS_wobad)\n",
      "#print len(gevSNRS_wobad.difference(ptsnrs.union(extsnrs)))\n",
      "#does extended not include extended candidates? is there no such thing?\n",
      "#all new snrs included in extended\n",
      "#what about the ones that failed classification for some reason or another? If these are really just ones that aren't overlapping the SNR enough, these could be of interest to me, depending on how off they are, e.g. Can they be just a section of the SNR lit up, or some nearby source?\n",
      "#is there a difference between failed classification and not detected?\n"
     ],
     "language": "python",
     "metadata": {},
     "outputs": [
      {
       "output_type": "stream",
       "stream": "stdout",
       "text": [
        "gevSNRS: \n",
        "wbad: 37 \n",
        "wobad 33\n"
       ]
      }
     ],
     "prompt_number": 100
    },
    {
     "cell_type": "code",
     "collapsed": false,
     "input": [
      "#x-check the allTeV list with the detected SNR list\n",
      "gevTev = allTeV.intersection(gevSNRS_wbad)\n",
      "failedGevTev = allTeV.intersection(failclass)\n",
      "print 'SNRs with TeV detection and detected by SNR cat',len(gevTev) \n",
      "print 'SNRs with TeV detection and failed SNR cat classification', len(failedGevTev)\n"
     ],
     "language": "python",
     "metadata": {},
     "outputs": [
      {
       "output_type": "stream",
       "stream": "stdout",
       "text": [
        "SNRs with TeV detection and detected by SNR cat 18\n",
        "SNRs with TeV detection and failed SNR cat classification 5\n"
       ]
      }
     ],
     "prompt_number": 101
    },
    {
     "cell_type": "code",
     "collapsed": false,
     "input": [
      "#List of gevTeV\n",
      "gevTev"
     ],
     "language": "python",
     "metadata": {},
     "outputs": [
      {
       "metadata": {},
       "output_type": "pyout",
       "prompt_number": 102,
       "text": [
        "{'SNR006.4-00.1',\n",
        " 'SNR006.5-00.4',\n",
        " 'SNR008.7-00.1',\n",
        " 'SNR023.3-00.3',\n",
        " 'SNR043.3-00.2',\n",
        " 'SNR049.2-00.7',\n",
        " 'SNR078.2+02.1',\n",
        " 'SNR111.7-02.1',\n",
        " 'SNR184.6-05.8',\n",
        " 'SNR189.1+03.0',\n",
        " 'SNR205.5+00.5',\n",
        " 'SNR266.2-01.2',\n",
        " 'SNR284.3-01.8',\n",
        " 'SNR292.2-00.5',\n",
        " 'SNR320.4-01.2',\n",
        " 'SNR347.3-00.5',\n",
        " 'SNR348.5+00.1',\n",
        " 'SNR349.7+00.2'}"
       ]
      }
     ],
     "prompt_number": 102
    },
    {
     "cell_type": "code",
     "collapsed": false,
     "input": [
      "#list of TeV failed SNR cat\n",
      "failedGevTev\n",
      "#TeV with no GeV + failed?"
     ],
     "language": "python",
     "metadata": {},
     "outputs": [
      {
       "metadata": {},
       "output_type": "pyout",
       "prompt_number": 103,
       "text": [
        "{'SNR011.4-00.1',\n",
        " 'SNR012.8-00.0',\n",
        " 'SNR074.9+01.2',\n",
        " 'SNR332.0+00.2',\n",
        " 'SNR337.8-00.1'}"
       ]
      }
     ],
     "prompt_number": 103
    },
    {
     "cell_type": "code",
     "collapsed": false,
     "input": [
      "#TeV detected SNRs that are in my nearby candidate list\n",
      "#This nby list is for uw28(29?) 3FGL and a previous version of the SNR cat (v4_0216 I think)\n",
      "#redo for v4_05_16 and current 3FGL\n",
      "nbyYaml = yaml.load(open('/Users/jmcohen/Dropbox/CurrentWork/SNR_MC/PrelimNearby/3FGLNearby/results_nearbyFinalwID.yaml'))\n",
      "name = set([i for i in iter(sorted(nbyYaml))])\n",
      "print 'Number of SNRs with nearby unid 3FGL sources:',len(nbyYaml)\n"
     ],
     "language": "python",
     "metadata": {},
     "outputs": [
      {
       "output_type": "stream",
       "stream": "stdout",
       "text": [
        "Number of SNRs with nearby unid 3FGL sources: 39\n"
       ]
      }
     ],
     "prompt_number": 104
    },
    {
     "cell_type": "code",
     "collapsed": false,
     "input": [
      "\n",
      "#there are some others in my spread sheet not in here, which were SNR cat detections with no nby source\n",
      "#I think nby is what I care about for this anyway, and I should have all the Tev detections for snrcat sources above\n",
      "nbywTev = allTeV.intersection(name)\n",
      "print 'nby candidate with TeV detection:', len(nbywTev)\n",
      "nbywTev\n"
     ],
     "language": "python",
     "metadata": {},
     "outputs": [
      {
       "output_type": "stream",
       "stream": "stdout",
       "text": [
        "nby candidate with TeV detection: 15\n"
       ]
      },
      {
       "metadata": {},
       "output_type": "pyout",
       "prompt_number": 128,
       "text": [
        "{'SNR006.4-00.1',\n",
        " 'SNR011.2-00.3',\n",
        " 'SNR015.4+00.1',\n",
        " 'SNR078.2+02.1',\n",
        " 'SNR106.3+02.7',\n",
        " 'SNR189.1+03.0',\n",
        " 'SNR205.5+00.5',\n",
        " 'SNR263.9-03.3',\n",
        " 'SNR266.2-01.2',\n",
        " 'SNR284.3-01.8',\n",
        " 'SNR332.4-00.4',\n",
        " 'SNR335.2+00.1',\n",
        " 'SNR347.3-00.5',\n",
        " 'SNR353.6-00.7',\n",
        " 'SNR359.1-00.5'}"
       ]
      }
     ],
     "prompt_number": 128
    },
    {
     "cell_type": "heading",
     "level": 3,
     "metadata": {},
     "source": [
      "X-check with 2PC pulsars"
     ]
    },
    {
     "cell_type": "code",
     "collapsed": false,
     "input": [
      "#Check if 2PC pulsars are near SNRs\n",
      "import astropy.io.fits as fits\n",
      "from astropy import units as u\n",
      "from astropy.coordinates import Angle\n",
      "from astropy import coordinates as coord\n",
      "import pyJam.fermi.SNR_MC.distNsep as dist\n",
      "psrs2pc = fits.getdata('/Users/jmcohen/Dropbox/Catalogs/2PC_auxiliary_files_v04/2PC_catalog_v04.fits')"
     ],
     "language": "python",
     "metadata": {},
     "outputs": [],
     "prompt_number": 36
    },
    {
     "cell_type": "code",
     "collapsed": false,
     "input": [
      "names2pc = psrs2pc.field('PSR_Name')\n",
      "ra2pc = psrs2pc.field('RAJ2000')\n",
      "dec2pc = psrs2pc.field('DEJ2000')\n",
      "psrCoords = coord.ICRS(ra= ra2pc, dec = dec2pc, unit=(u.degree, u.degree))\n",
      "#psrCOords should still be in the right order so  attachign the name to it here doesn't really matter since I have an ordrered list of the names in a seperate list\n"
     ],
     "language": "python",
     "metadata": {},
     "outputs": [
      {
       "metadata": {},
       "output_type": "pyout",
       "prompt_number": 44,
       "text": [
        "chararray(['J0007+7303', 'J0023+0923', 'J0030+0451', 'J0034-0534',\n",
        "       'J0101-6422', 'J0102+4839', 'J0106+4855', 'J0205+6449',\n",
        "       'J0218+4232', 'J0248+6021', 'J0340+4130', 'J0357+3205',\n",
        "       'J0437-4715', 'J0534+2200', 'J0610-2100', 'J0613-0200',\n",
        "       'J0614-3329', 'J0622+3749', 'J0631+1036', 'J0633+0632',\n",
        "       'J0633+1746', 'J0659+1414', 'J0729-1448', 'J0734-1559',\n",
        "       'J0742-2822', 'J0751+1807', 'J0835-4510', 'J0908-4913',\n",
        "       'J0940-5428', 'J1016-5857', 'J1019-5749', 'J1023-5746',\n",
        "       'J1024-0719', 'J1028-5819', 'J1044-5737', 'J1048-5832',\n",
        "       'J1057-5226', 'J1105-6107', 'J1112-6103', 'J1119-6127',\n",
        "       'J1124-3653', 'J1124-5916', 'J1125-5825', 'J1135-6055',\n",
        "       'J1231-1411', 'J1357-6429', 'J1410-6132', 'J1413-6205',\n",
        "       'J1418-6058', 'J1420-6048', 'J1429-5911', 'J1446-4701',\n",
        "       'J1459-6053', 'J1509-5850', 'J1513-5908', 'J1514-4946',\n",
        "       'J1531-5610', 'J1600-3053', 'J1614-2230', 'J1620-4927',\n",
        "       'J1648-4611', 'J1658-5324', 'J1702-4128', 'J1709-4429',\n",
        "       'J1713+0747', 'J1718-3825', 'J1730-3350', 'J1732-3131',\n",
        "       'J1741-2054', 'J1741+1351', 'J1744-1134', 'J1746-3239',\n",
        "       'J1747-2958', 'J1747-4036', 'J1801-2451', 'J1803-2149',\n",
        "       'J1809-2332', 'J1810+1744', 'J1813-1246', 'J1823-3021A',\n",
        "       'J1826-1256', 'J1833-1034', 'J1835-1106', 'J1836+5925',\n",
        "       'J1838-0537', 'J1846+0919', 'J1858-2216', 'J1902-5105',\n",
        "       'J1907+0602', 'J1939+2134', 'J1952+3252', 'J1954+2836',\n",
        "       'J1957+5033', 'J1958+2846', 'J1959+2048', 'J2017+0603',\n",
        "       'J2021+3651', 'J2021+4026', 'J2028+3332', 'J2030+3641',\n",
        "       'J2030+4415', 'J2032+4127', 'J2043+1711', 'J2043+2740',\n",
        "       'J2047+1053', 'J2051-0827', 'J2055+2539', 'J2111+4606',\n",
        "       'J2124-3358', 'J2139+4716', 'J2214+3000', 'J2215+5135',\n",
        "       'J2229+6114', 'J2238+5903', 'J2240+5832', 'J2241-5236', 'J2302+4442'], \n",
        "      dtype='|S11')"
       ]
      }
     ],
     "prompt_number": 44
    },
    {
     "cell_type": "code",
     "collapsed": false,
     "input": [
      "#load superfile yaml for SNR coords\n",
      "superFileYaml = '/Users/jmcohen/Desktop/cur/snrcat1/trunk/superfile/snrdata.yaml'\n",
      "snrSuperData   = yaml.load(open(superFileYaml))\n",
      "#for all SNRs in my list\n",
      "raSnrs = [snrSuperData.get(x).get('cel')[0] for x in sorted(snrSuperData.keys())]\n",
      "decSnrs = [snrSuperData.get(x).get('cel')[1] for x in sorted(snrSuperData.keys())]\n",
      "snrNames = sorted(snrSuperData.keys())\n",
      "snrNicks = [snrSuperData.get(x).get('nickname') for x in sorted(snrSuperData.keys())]\n",
      "snrcatCoords = coord.ICRS(ra= raSnrs, dec = decSnrs, unit=(u.degree, u.degree))"
     ],
     "language": "python",
     "metadata": {},
     "outputs": [],
     "prompt_number": 68
    },
    {
     "cell_type": "code",
     "collapsed": false,
     "input": [
      "#if I wanted to combine pandas and astropy, I could make a dataFrame with index = SNR_name, col0 = coord.ICRS object, or col0 = l, col1 = b\n",
      "#but there's no good way to just have a single coords.ICRS object with a list of RA/DEC and name of source?\n",
      "#a = snrcatCoords.separation(psrCoords) I don't think this works unless I looped over all the SNRs\n",
      "#This is just finding the single closest match, dooesn't check if there are multiple nearby PSRs\n",
      "#The ordered elements of indSep correspond to each ordered SNR in the snrcat. The value of each corresponds to the index of the closest PSR from the ordered 2PC\n",
      "#sep is the actual seperation for each SNR and it's nearest PSR\n",
      "minSep = 0.2 #is 0.2 deg enough ?\n",
      "indSep,sep,_ = snrcatCoords.match_to_catalog_sky(psrCoords,nthneighbor=1) #indSep is an array with indices for closest neighbor, indSep[1] = 138 means source 1's closest neighbor is source 138 (and vive versa)\n",
      "indMin = np.where(sep.degree < minSep) #indMin is the index of indSep for which a PSR is < 0.2 deg from the SNR. So it gives SNRs with a pulsar within 0.2deg\n",
      "indPSR = indSep[indMin]\n",
      "\n"
     ],
     "language": "python",
     "metadata": {},
     "outputs": [],
     "prompt_number": 70
    },
    {
     "cell_type": "code",
     "collapsed": false,
     "input": [
      "snrNames =np.asarray(snrNames)\n",
      "snrNicks =np.asarray(snrNicks)\n",
      "snrNameNick = dict(zip(snrNames,snrNicks))\n",
      "snrWpsr = snrNames[indMin]\n",
      "snrNicksWpsr = snrNicks[indMin]\n",
      "psr0_2FromSNR = names2pc[indPSR]\n",
      "print '\\nName of SNR with a pulsar withing 0.2 deg',snrWpsr\n",
      "print '\\nNick Name of SNR with a pulsar withing 0.2 deg', snrNicksWpsr\n",
      "print '\\nName of pulsar within 0.2 deg of a SNR', psr0_2FromSNR"
     ],
     "language": "python",
     "metadata": {},
     "outputs": [
      {
       "output_type": "stream",
       "stream": "stdout",
       "text": [
        "\n",
        "Name of SNR with a pulsar withing 0.2 deg ['SNR018.6-00.2' 'SNR021.5-00.9' 'SNR065.1+00.6' 'SNR069.0+02.7'\n",
        " 'SNR078.2+02.1' 'SNR130.7+03.1' 'SNR184.6-05.8' 'SNR292.0+01.8'\n",
        " 'SNR292.2-00.5' 'SNR293.8+00.6' 'SNR320.4-01.2' 'SNR354.1+00.1']\n",
        "\n",
        "Nick Name of SNR with a pulsar withing 0.2 deg [None None None 'CTB 80' 'gamma Cygni' '3C58,SN1181' 'Crab' 'MSH11-54' None\n",
        " None 'MSH 15-52' None]\n",
        "\n",
        "Name of pulsar within 0.2 deg of a SNR ['J1826-1256' 'J1833-1034' 'J1954+2836' 'J1952+3252' 'J2021+4026'\n",
        " 'J0205+6449' 'J0534+2200' 'J1124-5916' 'J1119-6127' 'J1135-6055'\n",
        " 'J1513-5908' 'J1730-3350']\n"
       ]
      }
     ],
     "prompt_number": 83
    },
    {
     "cell_type": "code",
     "collapsed": false,
     "input": [
      "#which of the SNRs with PSRs within 0.2 deg also have a TeV detection of the SNR\n",
      "tevWpsr = tevMan.intersection(set(snrWpsr))\n",
      "tevNickWpsr = [snrNameNick[x] for x in tevWpsr]\n",
      "print 'TeV SNR w pulsar withing 0.2deg\\n:',tevWpsr, tevNickWpsr\n",
      "tevWpsrWnby = tevWpsr.intersection(nbywTev)\n",
      "print '\\nTeV SNR w pulsar within 0.2deg and on nearby candidates list:\\n',tevWpsrWnby\n",
      "tevWpsrWsnrcat =  tevWpsr.intersection(gevTev)#gevSNRS_wbad)\n",
      "print '\\nTeV SNR w pulsar within 0.2deg and SNR cat detected:\\n',tevWpsrWsnrcat\n"
     ],
     "language": "python",
     "metadata": {},
     "outputs": [
      {
       "output_type": "stream",
       "stream": "stdout",
       "text": [
        "TeV SNR w pulsar withing 0.2deg\n",
        ": set(['SNR130.7+03.1', 'SNR184.6-05.8', 'SNR078.2+02.1', 'SNR065.1+00.6', 'SNR021.5-00.9', 'SNR292.2-00.5', 'SNR320.4-01.2']) ['3C58,SN1181', 'Crab', 'gamma Cygni', None, None, None, 'MSH 15-52']\n",
        "\n",
        "TeV SNR w pulsar within 0.2deg and on nearby candidates list:\n",
        "set(['SNR078.2+02.1'])\n",
        "\n",
        "TeV SNR w pulsar within 0.2deg and SNR cat detected:\n",
        "set(['SNR078.2+02.1', 'SNR292.2-00.5', 'SNR320.4-01.2', 'SNR184.6-05.8'])\n"
       ]
      }
     ],
     "prompt_number": 123
    },
    {
     "cell_type": "code",
     "collapsed": false,
     "input": [
      "#is everything better off as a dataFrame or Series object?\n"
     ],
     "language": "python",
     "metadata": {},
     "outputs": [],
     "prompt_number": 118
    }
   ],
   "metadata": {}
  }
 ]
}