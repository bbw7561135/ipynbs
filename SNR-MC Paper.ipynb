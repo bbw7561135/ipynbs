{
 "cells": [
  {
   "cell_type": "markdown",
   "metadata": {},
   "source": [
    "## I'm a Paper (outline) About the Search for GeV Illuminated Molecular Cloud"
   ]
  },
  {
   "cell_type": "markdown",
   "metadata": {},
   "source": [
    "##     0. Abstract"
   ]
  },
  {
   "cell_type": "markdown",
   "metadata": {},
   "source": [
    "Search for GeV illuminated clouds near SNRs. We only detect the ones already known/ about to be published. What implications does not finding more mean? What's unique about these 4?\n"
   ]
  },
  {
   "cell_type": "markdown",
   "metadata": {},
   "source": [
    "## 1. Introduction"
   ]
  },
  {
   "cell_type": "markdown",
   "metadata": {},
   "source": [
    "Some intro stuff about SNR-MC (see GI prop, and other work since then where I've introduced the topic). Also see diffusionModel.ipynb which has a bit of background material"
   ]
  },
  {
   "cell_type": "markdown",
   "metadata": {},
   "source": [
    "## 2. GeV SNR-MC Candidates"
   ]
  },
  {
   "cell_type": "markdown",
   "metadata": {},
   "source": [
    "* Description of how I determine my sample of SNRs to search for nearby MCs\n",
    "* Maybe don't call them candidates until I've check for overlap with CO emission?"
   ]
  },
  {
   "cell_type": "markdown",
   "metadata": {},
   "source": [
    "## 2.1 Refinement of SNR Sample"
   ]
  },
  {
   "cell_type": "markdown",
   "metadata": {},
   "source": [
    "* Only search for illuminated clouds around best SNR candidates for detection with the LAT \n",
    "* Since W44 is one of the few GeV SNR-MC (what to say about W28 and IC443) use it to\n",
    " 1. limit the sample of SNRs to look at (how far away to still detect above LAT threshold)\n",
    " 2. assess whether the population of LAT SNR-MC are W44-like\n",
    "* How far can we put W44 and still detect it above LAT detection threshold?\n",
    "    * ~6kpc\n",
    "* How far out to resolve SNR from MC\n",
    "    * also ~6kpc\n",
    "* \\# of SNRs that have a distance estimate: ~125\n",
    " * And within 6 kpc: ~80\n",
    "* Age > few thousand years (not sure best # for this, 4-5?)\n",
    " * I did actually search around these sources as well, but should exclude them from the paper\n",
    "* Only consider sources that have been ID'd: 3FGL + SNR cat (\n",
    " * From an early iteration of the SNR cat, I should double check which sources made it didn't\n",
    " * This leaves 15 SNRs\n",
    " * But really, I did analysis on all sources, even if they didn't have an SNR cat ID \n",
    "\n",
    "####Questions, things to do still\n",
    "* After the fact, Should I limit further?\n",
    "* Jack suggested that \"interacting\" sources show flatter radio indices (is just just for shock cloud interaction though?).\n",
    "* What about looking only in dense regions of the Galaxy? \n",
    "* Are there other SNRs I should be looking at that aren't in the SNR cat? \n",
    " * I include ones in the super file (285), that are not in the pre-2014 SNR cat(278), Green 2014 lists 294\n",
    "\n",
    "* Say something about W28 as well?\n",
    " * Make the same estimate for a W28-like system?\n",
    " * Is W28 like W44? \n",
    "44\n",
    "   * Similar age, evolution phase, environment, surrounding cloud mass/overdensity, progenitor explosion, symmetry/asymmetry"
   ]
  },
  {
   "cell_type": "markdown",
   "metadata": {},
   "source": [
    "## 2.2 Candidate Illuminated Clouds"
   ]
  },
  {
   "cell_type": "markdown",
   "metadata": {},
   "source": [
    "* Describe how I get my list of candidate GeV illuminated MCs\n",
    "* Start with 3FGL unid'd \n",
    " * Looking for candidate sources offsett from remnant, not overlapping SNR, i.e. not shock overtaking cloud\n",
    "* Describe how close to look near SNR\n",
    " * 50pc, based on Gabcic 2009, and which other Gabici paper (and some other TeV SNR-MC paper?)\n",
    "  * \\#\\#\\#Find the appropriate figure(s) sections in those papers!\n",
    "  * \\#\\#\\#What about spectral features like double hump?\n",
    "* Determine which of the SNRs within 6kpc have a 3FGL source that is:\n",
    " * Unid'd\n",
    "   * assoc prob < 0.8 (in the final 3FGL, is there just an assoc flag as in 2FGL?\n",
    "   * assoc but not ID'd with agn,psr is accepted at this point\n",
    "\n",
    " * Within 50 pc of edge of radio SNR\n",
    " * Outside radio SNR \n",
    "   * Want sources offset from the remnant\n",
    "   * Ideally, not considering sources that might be shock/cloud interaction. Not 100% sure I can distinguish between crushed cloud and illuminated offset clouds for all detected SNRs\n",
    "   * Trying not to at least. Could be contamination of these sources in my sample?\n",
    " * Resolvable from SNR, i.e. angular sep between SNR edge and source > PSF (I used at 10 GeV, 0.2 deg)\n",
    "* Gives me a list of SNRs with candidate illuminated clouds. \n",
    "\n",
    "\n",
    "####Questions, things to do still\n",
    "* Double check / redo list of SNRs w/ 3FGL unid (I got the list of candidate MCs from a non final version of 3FGL\n",
    " * Might be different than my previous list since there has been work on 3FGL source ID'd/assoc\n",
    "  * Ran getNbySample.py, (**This is old, have I redone this already?**)\n",
    "   * 4 sources dropped out do to modification of distances, one source dropped out because the 3FGL unid'd source was missing between uw29, uw30 (so this must have been a source affected by the missing CO in a ring? I can't find any specific mention of the source on confluence though\n",
    "   * 8 New sources popped in, need to check out why still\n",
    "* For 3FGL, I didn't initially take TS of the source into account since that info wasn't tabulated when I started this work. Should have? Although, since I do a LAT analysis of all the SNRs, I determine at a later step whether or not a source is signif or not\n",
    "* Is there anything I can do with Schinzel's 2FGL list at this point, or other studies of unID'd? \n",
    " * Does 2FHL have an updated (compared to 3FGL) unID--> ID'd list? \n",
    " * Other paper?\n",
    " * All this will do is limit the number of MCs"
   ]
  },
  {
   "cell_type": "markdown",
   "metadata": {},
   "source": [
    "## 3. LAT & Multiwavelength Analysis (LAT is multiwavelength :P )"
   ]
  },
  {
   "cell_type": "markdown",
   "metadata": {},
   "source": [
    "* LAT analysis is important for the SNRs that I think have good candidate MCs\n",
    " * My energy range and data set are different from 3FGL/SNRcat, so analysis of the regions will give me a better understanding of the signicance/spectral parameters of the MC candidates\n",
    "* LAT alone is not enough to say that an unId'd source is a MC. \n",
    "* Coincidence of the LAT source and a CO line emission (common tracer of molecular material in the ISM) gives more credence to the association of the source with a MC"
   ]
  },
  {
   "cell_type": "markdown",
   "metadata": {},
   "source": [
    "## 3.1 LAT description + Observation/Data description"
   ]
  },
  {
   "cell_type": "markdown",
   "metadata": {},
   "source": [
    "* Brief description of instrument, capabilities and why it's well suited for this study\n",
    "* LAT data set, data prep\n",
    " * $>$ 1 GeV is best for searching for sources, < diffuse/source confusion in the plane\n",
    "  * Currently about 5 years\n",
    "   * should it really be > 2-3 GeV? Look at LAT performance plots\n"
   ]
  },
  {
   "cell_type": "markdown",
   "metadata": {},
   "source": [
    "## 3.2 LAT Analysis: Method & Systematics"
   ]
  },
  {
   "cell_type": "markdown",
   "metadata": {},
   "source": [
    "* My goals with the LAT analysis are to:\n",
    " * Find significant unID'd sources. At E > 1GeV, TS and spectral/spatial params can be different than 3FGL\n",
    " * Get localization errors for candidate sources for comparison with CO emission\n",
    " * Assess Spectral properties of candidates\n",
    "   * Flux for comparing to diffuse CR background estimates & for later spectral work/diffusion coefficient calc\n",
    " * Determine spectral/spatial properties of central SNR\n",
    "   * Why not just use SNR cat SNRs, or 3FGL extended as is? Why refit? I likely can't do better than the dedicated analyses right?\n",
    "     * Is it only worth trying to fit extended for sources where there is not dedicated LAT analysis?\n",
    "   * Radial profile (do I make these already?) \n",
    "   * Different results than SNR cat (biggest difference will be time 5 vs. 3 years, what else?)?\n",
    "* pointlike + gtlike analysis\n",
    " * I haven't done any gtlike stuff yet, I need this more for source spectral analysis, final estimate of spectral parameters\n",
    "  * Source extension and localization all done in pointlike\n",
    "* Pointlike analysis\n",
    " * Start with 3FGL (Includes 2PC pulsar with TS > = 25, is this true? should TS be lower?)\n",
    " * Run addSrcs to find residual point sources\n",
    " * Remove sources inside radio remnant, reaplace with source of extension = radio radius, fit extension, go with point or extened based on TS_ext >= 16\n",
    "   * I don't go back and re-run addSrcs after adding in the extended source, how much would this make a difference? Should be quick to do if there really aren't any more sources to find right?\n",
    "\n",
    "* LAT results\n",
    " * List of SNRs w/ significant candidates (still significant after this reanalysis)\n",
    " * I have spectral/spatial info for all sources in RoI, residual maps (TS, counts)\n",
    " * Relevant source params table?\n",
    "   * Flux: excess above passive bkg flux\n",
    "   * Index: Idk what index I expect, I think around ~2.5, see Torres et al, 2008\n",
    "   * What use is there in this info for candidate MCs that will not make the cut because they don't overlap with significant CO emission?\n",
    "* **What to say about Systematics? Give it its own section?**\n",
    "* Systematics on measuring extension (from LAT TeV PWN paper)\n",
    "   * On extension:\n",
    "    * uncertainties in diffuse model\n",
    "    * uncertainties in knowledge of PSF\n",
    "   * On flux estimate of extended source:\n",
    "    * uncertainties in diffuse model\n",
    "    * uncertainties in effective area\n",
    "    * uncertainties of source morphology\n",
    "\n",
    "* Use method similar to SNR cat for diffuse systematics?\n",
    "    * this was geared specifically for P7, not P7REP, not Pass8. Why is it not directly translatable?\n",
    "    \n",
    "####Questions, things to do still  \n",
    "* How quickly could I do a Pass 8 analysis?\n",
    " * I could use Jean's all sky 6 year data set\n",
    " * Have the machinery set up essentially (maybe some changes to nbyMaps.py?) since I did a P8 analysis for 2FHL, >10gev\n",
    " * Should I try search for ES on top of 3FGL? \n",
    "   * I already do PS which is probably enough for now\n",
    " * If I do P8, use PSF3 to help with sepatation of candidate MCs from SNR?\n",
    " * More reason to redo the analysis if I'm using P8 (on top of different energy range, longer data sey)\n",
    "* I already did some LAT analysis for the dozen-ish (how many was it?) sources I presented at Spring CM\n",
    " * what info do I have for them?\n",
    " * source positions/TS/flux/etc for all sources in RoI (including any addSrcs sources)\n",
    "\n",
    "* Is my LAT analysis too simple? What is the benefit to doing any extended source fit, when I do it so simple, I can't really do better than the dedicated analysis it such a general fashion.\n",
    "* **Somethings I don't do**:\n",
    " * Template fitting, I might want to for the most promissing?\n",
    "   * wavelengths?\n",
    " * Relocalize 3FGL sources. I do localize new addSrcs sources and the SNR (point or extended).\n",
    "   * Should I be relocalizing the 3FGL candidates, or is it ok to stick with the 3FGL error localization?\n",
    " * Fit clusters of sources (e.g. HB3 nby cands) w/ single extended source, or  cloud template.\n",
    "   * Not sure how easy the latter is (how readily available a map of the region is. what wavelength?)\n",
    "* Is it possible that the sources I'm looking for are already included in the diffuse emission?\n",
    "* idk, I'm looking for enhancements on top of the diffuse gamma-ray flux from the sea of passive CRs. If the (pi0 contribution of the)diffuse is made using CO to get mass, then using mass to estimate flux, then the excess shouldn't be included right?"
   ]
  },
  {
   "cell_type": "markdown",
   "metadata": {},
   "source": [
    "## 3.3 LAT & CO Line Data: Analysis and Results"
   ]
  },
  {
   "cell_type": "markdown",
   "metadata": {},
   "source": [
    "* CO J=(1-0) line is a typical tracer of matter in the ISM. Standard conversion between CO/H2 ($\\mathrm{X_{CO}}$ to get total cloud mass).\n",
    " * See http://arxiv.org/pdf/1301.3498.pdf\n",
    "* Use Dame et al. 2001 ppv cubes, sum velocity over values centered on v_lsr of SNR\n",
    "   * I think the resolution of the maps is 0.2 deg? Double check, I thought it was close to the LAT PSF at 10 GeV \n",
    "* I have LAT residual maps with contours overlaid for v integration range (+/- 3,5,10,15 km/s)\n",
    "   * +/- 15 km/s is very broad range, but it was used for LAT W44 paper because this is the range of velocities for the GMC W44 is embedded in\n",
    "* Table of GeV sources with overlapping CO (what to call these sources? Candidate SNR-MC)\n",
    " * What info?\n",
    "   * Spectral\n",
    "   * Spatial\n",
    "   * mass contained within? surrounding?\n",
    "   * What else? \n",
    "\n",
    "\n",
    "####Questions, things to do still\n",
    "* Update on $\\mathrm{X_{CO}}$? See LAT Local HI emissivity paper http://arxiv.org/pdf/1506.00047v1.pdf\n",
    "* Dame 2001 cubes only go from -5 deg < b < 5 deg , few SNRs left out (Cygnus Loop, which others?). \n",
    " * Better maps to use? Plank? Is is Plank too detailed? Would have to downsample?\n",
    "   * For Cygnus loop, I had convinced myself that there were no promising sources, go back and check why I thought this\n",
    " * Issue with sources near 180 deg (e.g. S147), with stitching together opposite sides of the fits maps for making contours. Which other sources affected by this?\n",
    "   * What to do about these?\n",
    "   * For S147 ( at least) I convinced myself that there were no good sources, regardless of the issue with cutting. Remind myself why\n",
    "   * Maybe this isn't a problem if it's only S147 then?\n",
    "   * Does Aplpy, Montage, or Swarm have the means to help with this?\n",
    "* Still need to set threshold for W(CO) (ppv cubes integrated over velocity gives units K km/s), below which I don't consider coincidence with GeV source\n",
    "   * Simple (**GO WITH THIS, BUT MAYBE NEED THE FLUX ESTIMATE FOR OTHER WORk**\n",
    "      * Set a threshold in W(CO), if LAT source coincident with any \"lit\" pixels, claim coincidence? What value to use, justification. I have notes somewhere with a few values I saw in papers (4 K km/s?), idk if they gave a justification\n",
    "      * Just try cutting on a few values to see what the results are\n",
    "   * Complex **(see ipynb notes on trying things and coGeVOverlap.py)**\n",
    "     * Use velocity integrated CO line emission maps to calculate mass of clouds contained in LAT source error circle. \n",
    "       * Does the # of pixels providing the mass matter?\n",
    "       * How much can mass outside LAT error circle influence this?\n",
    "       * Is it more appropriate to just estimate the total surrounding mass within (50?) pc of the SNR. This is what was done for W44 (mass within annulus?)\n",
    "       * Is it easiest to just take the integrated fits maps and make a mass map, and use that?\n",
    "         * Figure out what needs to go into this\n",
    "     * Use that mass to estimate $\\gamma$-ray flux the LAT would observe that resulted from this mass being illuminated by passive (i.e. background, not from the nearby accelerator) CRs\n",
    "     * Compare this background estimate flux with the actual detected GeV flux from the source \n",
    "* Can I just set some semi-arbitrary threshold in W(CO), or use some formula to sum the emission in the region and calculate the mass in those pixels and figure out if the flux is above what the diffuse would be?\n",
    " * What about group properties of the MC candidates?\n",
    "* For SNRs between about 15 deg < b < 55 deg, there's public FCRAO 13CO data, and a table of identified clouds that can easily be xchecked with LAT MC candidates\n",
    " * Only problem is there are only 5 or 6 SNRs with candidate GeV MCs in this range, I think only 1-2 with an SNR cat detection, so maybe there's nothing worthiwhile to pursue here now?\n",
    "* Should I be making channel maps for all velocities?\n",
    "* Should I be scanning through other velocities for structure coincident with SNR\n",
    " * For both scanning and channel maps, maybe only for SNRs where I don't have a velocity?\n",
    "* What about the few SNRs that don't have velocities?\n",
    " * Is it ok to go from distance to vel? Have code for this and already made a table, see ipynb\n",
    " * What about SNRs whose distances determined from velocities given in papers don't match wht I calculated\n",
    " * Update all distances using more recent distance model / Galactic rotation models (i.e. Reid et al 2009, 2014?)?\n",
    "* cross check candidiate MCs with other source lists, or do I rely on 3FGL having done this?\n",
    "* What about xchecking addSrcs non-3fgl residual sources for multiwavelength counterparts?\n",
    " * How many, if any, addSrcs sources are coincident with CO, and fit nby cand criteria?\n",
    "* Add something to nby.py to suggest whether or not a source is a good candiate?\n",
    " * Define what good means\n",
    "* Check that I only really find W44, W28, HB 3, IC443\n",
    " * Doing Pass 8 add anything to any of these?\n",
    " * W44: Leonardo is doing an update analysis\n",
    " * W28: No Pass 8 current work\n",
    " * HB3 paper is P7REP, any benefit to P8?\n",
    " * IC443: Jack,Liz VERITAS work\n",
    "* How to use the GeV flux? \n",
    " * Want to know if there's flux in excess of background (i.e. sea of passive CRs, simple hadronic estimate)"
   ]
  },
  {
   "cell_type": "markdown",
   "metadata": {},
   "source": [
    "## 4. Chance Coincidence"
   ]
  },
  {
   "cell_type": "markdown",
   "metadata": {},
   "source": [
    "* Determine the chance probability of finding unidentified GeV sources near SNRs, and coincident with molecular clouds. Monte Carlo simulations to generate \"mock-catalogs\" and test how often the fake sources lie within the range of interest for a SNR.\n",
    "* The question(s) I want to answer is: How likely is it for an unidentified GeV source (MC candidate) to: \n",
    "    1. Lie within in 50pc of the edge of an snr (this is really just a 1st step for testing things out, I think the next question is the important one)\n",
    "    2. Coincide spatially with a peak in CO emission from a molecular cloud (peak is not the right way to think of this I think. Do I want to retain the CO emission that was contained within the error ellipse of the candidates (only the ones with enough mass to give GeV flux above bkg), and see how many mock sources coincide with that emission, or do I just see how many of the fake sources wind up having enough CO emission contained within their errors such that GeV cand is above the bkg (preserve error ellipse/flux of real source when randomizing positions)?\n",
    "* If I'm only detecting the known/published sources, is this useful?"
   ]
  },
  {
   "cell_type": "markdown",
   "metadata": {},
   "source": [
    "## 4.1 Monte Carlo Simulations"
   ]
  },
  {
   "cell_type": "markdown",
   "metadata": {},
   "source": [
    "* Keep the positions of the SNRs/CO emission (sources?) fixed\n",
    "* Generate \"mock\" 3FGL catalogs by doing a monte carlo simulation which randomizes the positions of all 3FGL source\n",
    "* See where the mock sources lie wrt to 1. SNRs, 2. CO emission\n",
    " * So far, I've tried searching for sources within 50pc with out considering whether a sources classification (i.e. whether or not it's ID'd or not), and another run preserving ID of the original source\n",
    "  * When I randomize postions of 3FGL sources, do I also want to randomize a sources ID classification?\n",
    "   * Can randomize ID by drawing from binomial distribution with prob of ID/notID of actual 3FGL sources\n",
    "* More details of setting up the simulations in MonteCarlo.ipynb\n",
    "* \\#\\#\\#What about addSrcs sources? should I be adding these sources to the 3FGL and randomizing them too?\n",
    "* \\#\\#\\#What about sources that aren't significant above 1 GeV? So I really have less 3FGL sources in my RoIs than the total 3FGL in the catalog"
   ]
  },
  {
   "cell_type": "markdown",
   "metadata": {},
   "source": [
    "## 4.2 Results of Simulations (not sure this needs to be its own subsection)"
   ]
  },
  {
   "cell_type": "markdown",
   "metadata": {},
   "source": [
    "* What kind of statistical analysis do I want to apply to my simulations?\n",
    "* What stats techniques apply?\n",
    "* Hopefully we don't find lots of chance coincidences!\n",
    "* How will it differ SNR to SNR?\n",
    "* I currently have results for 1. mentioned in section 4.0 above\n",
    " * Some work on fitting gaussians to the distribution of fake sources within 50pc for each individual SNR for the 1500 realizations\n",
    "   * At least 1 thing I want in genral (have for 1 in section 4.0) is to determine the mean # of mock coincidences (+ std) across all realization and to compare this to the actual # of coincidences (+ probality of coincidence occuring at what siginifiance level)\n",
    "* What about global properties?\n",
    "* I have a lot of info about the individual SNRs and mock sources, what global properties and conclusions can I come to on false detection based on my results?\n",
    "* Need to determine how to go about chance coincidence for overlap with CO emission"
   ]
  },
  {
   "cell_type": "markdown",
   "metadata": {},
   "source": [
    "## 5. Discussion"
   ]
  },
  {
   "cell_type": "markdown",
   "metadata": {},
   "source": [
    "SNRs W44, W28, HB3 and probably IC443 are the 4 SNRs that clearly stand out as SNR-MC systems. There might be a (small) few others, but I'd need to be more careful in my analysis to pick them out. My initial estimate for the number of SNR-MC detectable by the LAT was much higher than the number being detected. See snr3.ipynb for details on W44 and W28\n",
    "\n",
    "* What is unique about these systems that we only detect them?\n",
    "* Is surrounding mass the main (only?) culprit?\n",
    "* Ideal environment\n",
    " * Massive enough M\n",
    " * Close enough to remnant\n",
    " * With low bkg emission\n",
    "     * Not sure about this one. Low background to detect emission clearly, but need massive clouds which means large background no?\n",
    "     * Hard to detect if SNR emission dominates too much over MC emission\n",
    "* Group properties?\n",
    " * Flux, index, age, surrounding mass/density\n",
    " * How similar are these 4?\n",
    "* W44 & W28:\n",
    " * GeV/radio bright, well studied, middle-aged, mixed morphology, similar radio shell morphology\n",
    "* W44:\n",
    "   * GeV: Correlates w/ radio shell. Spectral break Γ~3 above. MC offset \n",
    "   * TeV: No shell or MC\n",
    "   * CO: SNR embedded in single GMC Large avg shell density n ~ 10$^2$ cm$^{-3}$\n",
    "   * T=1-8x10$^4$ yr\n",
    "     * GeV producing particles in shell still, TeV escaped, below LAT flux threshold?\n",
    "     * Why no TeV clouds then? CR penetration depth/losses?\n",
    "* W28:\n",
    "  * GeV: Correlates w/ northern hotspot and MCs offset in south.\n",
    "  * TeV: Smaller northern hotspot + MC sources in south\n",
    "  * CO: 1 MC near shell hot spot + 1 outside southern shell.\n",
    "  * Small avg shell density n ~ 5 cm$^{-3}$ \n",
    "  * T=3.5-15 x 10$^4$ yr\n",
    "   * No GeV/TeV shell emission because particles escaped already?\n",
    "   * GeV and TeV see similar sources outside the remenant\n",
    "* How many others SNRs do we think should be like W44?\n",
    "* GeV flux from passive CRs\n",
    "* What (if anything) can be said regarding diffuion coefficient, parameter constraints?\n",
    "* Anything about asymmetric diffusion\n",
    "* What about SNRs with no GeV detection but possible cloud detection?\n",
    " * Don't know how likely this is"
   ]
  },
  {
   "cell_type": "markdown",
   "metadata": {},
   "source": [
    "## 6. Conclusions"
   ]
  },
  {
   "cell_type": "markdown",
   "metadata": {},
   "source": [
    "Rehash"
   ]
  }
 ],
 "metadata": {
  "kernelspec": {
   "display_name": "Python 2",
   "language": "python",
   "name": "python2"
  },
  "language_info": {
   "codemirror_mode": {
    "name": "ipython",
    "version": 2
   },
   "file_extension": ".py",
   "mimetype": "text/x-python",
   "name": "python",
   "nbconvert_exporter": "python",
   "pygments_lexer": "ipython2",
   "version": "2.7.10"
  }
 },
 "nbformat": 4,
 "nbformat_minor": 0
}
