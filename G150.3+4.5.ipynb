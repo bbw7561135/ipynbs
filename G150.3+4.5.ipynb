{
 "cells": [
  {
   "cell_type": "markdown",
   "metadata": {},
   "source": [
    "# G150 paper"
   ]
  },
  {
   "cell_type": "markdown",
   "metadata": {},
   "source": [
    "##  2FHL  found unassociated 1.5 deg extended source. Jack noted that it is coincident with G150.3+4.5. Below is some work looking into the source"
   ]
  },
  {
   "cell_type": "code",
   "execution_count": 61,
   "metadata": {
    "collapsed": false
   },
   "outputs": [
    {
     "name": "stdout",
     "output_type": "stream",
     "text": [
      "The autoreload extension is already loaded. To reload it, use:\n",
      "  %reload_ext autoreload\n"
     ]
    }
   ],
   "source": [
    "%matplotlib inline\n",
    "import matplotlib as mpl\n",
    "import matplotlib.pyplot as plt\n",
    "import sys\n",
    "import os\n",
    "import yaml\n",
    "import aplpy\n",
    "import numpy as np\n",
    "import pyJam.fermi.SNR_MC.coCube as cocube\n",
    "from pyJam.fermi.SNR_MC.distNsep import *\n",
    "from lande.utilities.tools import tolist #for saving yaml\n",
    "import pyJam.kdistMaster as kd\n",
    "\n",
    "%load_ext autoreload\n",
    "%autoreload 2\n",
    "\n",
    "home = os.environ['HOME']\n",
    "os.chdir(os.path.join(home,'Dropbox/CurrentWork/G150/'))"
   ]
  },
  {
   "cell_type": "markdown",
   "metadata": {},
   "source": [
    "### 2FHL values (are these from an early iteration of addSrcs or the official values?"
   ]
  },
  {
   "cell_type": "code",
   "execution_count": 10,
   "metadata": {
    "collapsed": false
   },
   "outputs": [],
   "source": [
    "\n",
    "#use Dame et al. CO cube to make \n",
    "#add 3FGL source and circle for fit SNR at > 50 geV\n",
    "b = 5.221292 #150.57 where did I get these from?\n",
    "l = 150.3818\n",
    "snrRad = 1.27\n",
    "s = 10\n",
    "#this is just the entire velocity range, I should add different vals for the different HI vels\n",
    "coVmin = -319\n",
    "coVmax = 319\n",
    "\n",
    "# fitsMap    = \n",
    "#contsz     = 5,\n",
    "# regFile    = None,\n",
    "# contFits   = None,\n",
    "# coords     = 'gal',\n",
    "# fTitle     = '',\n",
    "# contLevels = 9,\n",
    "# smooth     = 1,"
   ]
  },
  {
   "cell_type": "code",
   "execution_count": null,
   "metadata": {
    "collapsed": false
   },
   "outputs": [],
   "source": [
    "#can I use aplpy for anything\n",
    "#I know I can make slices at single vel, what else?\n",
    "f = aplpy.FITSFigure(fitsFile) #f = aplpy.FITSFigure(fitsFile, figure = plt.figure(1),**kwargs)"
   ]
  },
  {
   "cell_type": "code",
   "execution_count": 12,
   "metadata": {
    "collapsed": false
   },
   "outputs": [
    {
     "name": "stdout",
     "output_type": "stream",
     "text": [
      "0 (155.3818, 145.3818) 155.3818 145.3818 d (493, 81, 2881)\n",
      "nmin/ nmax: 197.0 277.0\n",
      "1 (0.22129200000000004, 10.221292) 0.221292 10.221292 d (493, 81, 2881)\n",
      "nmin/ nmax: 42.0 81\n",
      "2 (-319, 319) -319 319 d (493, 81, 2881)\n",
      "nmin/ nmax: 1.0 492.0\n",
      "nmin: {1: 197.0, 2: 42.0, 3: 1.0} nmax: {1: 277.0, 2: 81, 3: 492.0}\n",
      "indiv 1.0 492.0 42.0 81 197.0 277.0\n",
      "G150_COGAL_deep_mom_vlsr_sliced.fits already exists, delete and create it anew \n",
      "Save 3-D sliced Cube\n",
      "G150_COGAL_deep_mom_vlsr_vb.fits already exists, delete and create it anew \n",
      "G150_COGAL_deep_mom_vlsr_lv.fits already exists, delete and create it anew \n",
      "G150_COGAL_deep_mom_vlsr_lb.fits already exists, delete and create it anew \n"
     ]
    }
   ],
   "source": [
    "### Modify this\n",
    "lmin, lmax, bmin, bmax = cocube.getMapSize(l,b,s)\n",
    "co = cocube.COline(COfile = '/Users/jmcohen/Desktop/cur/fitsFiles/COGAL_deep_mom_vlsr.fits') #change this to use different CO file\n",
    "co.lvbSum(axis = 'all', pmin = [lmax,bmin,coVmin], pmax = [lmin,bmax,coVmax]) #I think this will just make the sliced cubes right?\n",
    "# mapType = {'tsmap':'TS', 'cmap':'Counts: Data - Model','signifFT': '(Data - Model)/sqrt(Model)'}\n",
    "\n",
    "# maps = ['',''] #add path to initial residual tsmap and cmap\n",
    "# for m in mapType:\n",
    "#             mName  = [self.snrName + '_nby_%s_zero.fits' %(m), self.snrName + '_nby_%s_zeroSNR.fits' %(m)]\n",
    "#             for n in mName:\n",
    "#     plotSlice(fitsFile = m, figTitle = fTitle, cbarTitle = mapType[m], cont = contFits, reg = regFile[0::2],  zoom = zoom , circ = circ, levels= contLevels, smooth = smooth, colors = ['k'], outText = '_vel' + self.vel) #one with labled in 50pc"
   ]
  },
  {
   "cell_type": "markdown",
   "metadata": {},
   "source": [
    "## Right now all values below are From fermiSymp15 poster. Are they all pointlike and not gtlike results? Poster says E > 5 GeV, why didn't they go lower again?"
   ]
  },
  {
   "cell_type": "markdown",
   "metadata": {},
   "source": [
    "## GeV extended source properties"
   ]
  },
  {
   "cell_type": "code",
   "execution_count": 9,
   "metadata": {
    "collapsed": true
   },
   "outputs": [],
   "source": [
    "R_gev = 1.46 #pointlike uniform disk fit radius [deg], +/- 0.03\n",
    "index_gev = -1.88 # Power law index +/- 0.06"
   ]
  },
  {
   "cell_type": "markdown",
   "metadata": {},
   "source": [
    "## Radio, CO, HI, and other propteries"
   ]
  },
  {
   "cell_type": "code",
   "execution_count": 179,
   "metadata": {
    "collapsed": false
   },
   "outputs": [],
   "source": [
    "#For Galactic rotation curve, only negative velocities are allowed (why?), so left out 2.9 km/s\n",
    "HIvels = [-44.7, -35.9, -6.9]# left out 2.9] #Vlsr HI velocties[km/s], all with widths 5 km/s or less, so there is no evidence of line broadening from the SNR shock\n",
    "lrad = 150.3\n",
    "brad = 4.5\n",
    "R0 = 8.3  # [kpc] distance to center of Galaxy\n",
    "V0 = 239 # [km/s] LSR velocity "
   ]
  },
  {
   "cell_type": "markdown",
   "metadata": {},
   "source": [
    "## Remake the CO map from above since I fixed somethings in coCube\n",
    "## Just use aplpy to overlay the contours on a counts map (only have > 10 GeV right now)\n",
    "## HAVEN'T DONE THIS YET"
   ]
  },
  {
   "cell_type": "code",
   "execution_count": null,
   "metadata": {
    "collapsed": true
   },
   "outputs": [],
   "source": [
    "lmin, lmax, bmin, bmax = cocube.getMapSize(l,b,s)\n",
    "co = cocube.COline(COfile = '/Users/jmcohen/Desktop/cur/fitsFiles/COGAL_deep_mom_vlsr.fits') #change this to use different CO file\n",
    "co.lvbSum(axis = 'all', pmin = [lmax,bmin,coVmin], pmax = [lmin,bmax,coVmax]) #I think this will just make the sliced cubes right?"
   ]
  },
  {
   "cell_type": "markdown",
   "metadata": {},
   "source": [
    "# GeV extended source properties"
   ]
  },
  {
   "cell_type": "markdown",
   "metadata": {},
   "source": [
    "### From fermiSymp15 poster. All pointlike and not gtlike results?\n",
    "### Poster says E > 5 GeV, why didn't they go lower again?"
   ]
  },
  {
   "cell_type": "code",
   "execution_count": 55,
   "metadata": {
    "collapsed": true
   },
   "outputs": [],
   "source": [
    "R_gev = 1.46 #pointlike uniform disk fit radius [deg], +/- 0.03\n",
    "index_gev = -1.88 # Power law index +/- 0.06\n",
    "alpha_rad = -0.6  #Gao & Han 2014\n",
    "jacksDists= [5.5,4,0.6]"
   ]
  },
  {
   "cell_type": "markdown",
   "metadata": {},
   "source": [
    "# Estimate Distance from Galactic Rotation curve\n",
    "### I found some code at some point that calculates distance, can I use that? Check if It gives same dist as Jack was finding. Looks like the two far distance are the same as Jack's, but not the one that corresponds to -6.9 km/s, not sure why"
   ]
  },
  {
   "cell_type": "code",
   "execution_count": 205,
   "metadata": {
    "collapsed": false,
    "scrolled": true
   },
   "outputs": [
    {
     "name": "stdout",
     "output_type": "stream",
     "text": [
      "HI velocites are [-44.7, -35.9, -6.9]\n",
      "Near distances [ 5.55560684  3.93866347  0.38365575]\n",
      "Far distances [ 5.55560684  3.93866347  0.38365575]\n"
     ]
    }
   ],
   "source": [
    "dist = np.vectorize(kd.kdist)\n",
    "dnear = dist(l = lrad, b = brad, vin = HIvels, near = True,r0 = R0,v0=V0)\n",
    "dfar = dnear = dist(l = lrad, b = brad, vin = HIvels, near = False,r0 = R0,v0=V0)\n",
    "print 'HI velocites are %s' %HIvels\n",
    "print 'Near distances %s' %dnear\n",
    "print 'Far distances %s' %dfar"
   ]
  },
  {
   "cell_type": "markdown",
   "metadata": {},
   "source": [
    "## physical size \n",
    "### My numbers are a little different than Jack's, I think mine are right, if I do it in astropy I get my results"
   ]
  },
  {
   "cell_type": "code",
   "execution_count": 197,
   "metadata": {
    "collapsed": false
   },
   "outputs": [
    {
     "name": "stdout",
     "output_type": "stream",
     "text": [
      "Physical radius of sources in pc: [ 283.13380341  200.72852533   19.55248362]\n",
      "Physical radius of sources (using Jack's dists) in pc : [ 280.29987787  203.85445663   30.57816849]\n"
     ]
    }
   ],
   "source": [
    "size = np.vectorize(physSep)\n",
    "sizes = size(t=R_gev*2, d=dnear) #t is for theta = angular radius, 2* for diameter/size\n",
    "rads = sizes/2.\n",
    "jsizes = size(t=R_gev*2, d=jacksDists) #t is for theta = angular radius, 2* for diameter/size\n",
    "jrads = jsizes/2\n",
    "print 'Physical radius of sources in pc: %s' %sizes\n",
    "print \"Physical radius of sources (using Jack's dists) in pc : %s\" %jsizes"
   ]
  },
  {
   "cell_type": "markdown",
   "metadata": {},
   "source": [
    "# Sedov-Taylor phase stuff (see section 6 Truelove & McKee 1999)\n",
    "Radius of the expanding shell (I think these 2 versions are equal?)\n",
    "\\begin{equation} R_{ST} = 0.26 (n_H/cm^{-3})^{-1/5}(t_{ST}/yr)^{2/5} (E_{ST}/4\\times 10^{50} erg)^{1/5} pc = 0.31(E_{51}/n_0)^{1/5}t_{y}^{2/5} pc\\end{equation}\n",
    "In terms of t (this is missing a factor in front\n",
    "\\begin{equation}t_y = (n_0/E_{51})^{1/2}(R_{ST}/0.31)^{5/2}\\end{equation} \n",
    "Velocity of expanding shell\n",
    "\\begin{equation}v_s = 1.23\\times 10^5(E_{51}/n_0)^{1/5}t_{y}^{2/5} km s^{-1}\\end{equation}\n",
    "Temperature of expanding shell\n",
    "\\begin{equation}T_s = 2.09\\times 10^{11} = (E^{51}/n_0)^{2/5}t^{-6/5} K\\end{equation}"
   ]
  },
  {
   "cell_type": "code",
   "execution_count": 198,
   "metadata": {
    "collapsed": false
   },
   "outputs": [],
   "source": [
    "#make this allwork with astropy units?\n",
    "def Rst(t,n0=1,E=1e51):\n",
    "    \"\"\"Sedov-Taylor phase SNR radius as \n",
    "       function of time. Is this Chevalier 1982 or Truelove & McKee 1999? I think the former? See Reynolds 2008\n",
    "       \n",
    "       n0 = ambient density [ cm^-3]\n",
    "       t = SNR age [yr]\n",
    "       E = SN explosion energy erg\n",
    "       \"\"\"\n",
    "    return 0.314*t**(2/5.)*((E/1.e51)/n0)**(1/5.)\n",
    "\n",
    "def Tst(R,n0=1, E=1e51):\n",
    "    \"\"\"Sedov-Taylor phase SNR age as\n",
    "       function of\n",
    "       \n",
    "       n0 = ambient density [ cm^-3]\n",
    "       R = Sedov-Taylor phase SNR radius [pc]. \n",
    "       E = SN explosion energy erg\n",
    "    \"\"\"\n",
    "    return (n0/(E/1e51))**(1/2)*(R/(0.314))**(5/2.)\n"
   ]
  },
  {
   "cell_type": "code",
   "execution_count": 201,
   "metadata": {
    "collapsed": false
   },
   "outputs": [
    {
     "name": "stdout",
     "output_type": "stream",
     "text": [
      "Test W44: R = 12.5005651554, T = 9998.86977867\n"
     ]
    }
   ],
   "source": [
    "#This matches Uchiyama 2012 so long as the prefactor is 0.314, bit off if it's just 0.31\n",
    "# r_w44 = Rst(t = 1e4, n0 = 2, E = 2e51)\n",
    "# t_w44 = Tst(R = 12.5,n0 = 2, E=2e51)\n",
    "# print 'Test W44: R = %s, T = %s' %(r_w44,t_w44)\n"
   ]
  },
  {
   "cell_type": "markdown",
   "metadata": {},
   "source": [
    "# Using physical sizes calucalted above, estimate age if in ST phase"
   ]
  },
  {
   "cell_type": "code",
   "execution_count": 203,
   "metadata": {
    "collapsed": false
   },
   "outputs": [
    {
     "name": "stdout",
     "output_type": "stream",
     "text": [
      "For n0 = 1 cm^-3, E_51 = 1\n",
      "With physical radii [ 141.5669017   100.36426267    9.77624181]\n",
      "Ages in kyr:[ 4315.98769774  1826.51660903     5.40885972]\n",
      "\n",
      "Same but with Jack's distances, and physical radii [ 140.14993894  101.92722832   15.28908425]\n",
      "Ages in kyr: [ 4208.79877118  1898.45984902    16.5435826 ]\n",
      "\n"
     ]
    }
   ],
   "source": [
    "T = np.vectorize(Tst)\n",
    "R = np.vectorize(Rst)\n",
    "T_g150 = T(R = rads,n0 = 1, E=1e51) #what should E and n0 be? \n",
    "jT_g150 = T(R = jrads,n0 = 1, E=1e51) #what should E and n0 be? \n",
    "print 'For n0 = 1 cm^-3, E_51 = 1\\nWith physical radii %s\\nAges in kyr:%s\\n' %(rads,T_g150/1.e3)\n",
    "print \"Same but with Jack's distances, and physical radii %s\\nAges in kyr: %s\\n\" %(jrads,jT_g150/1.e3)"
   ]
  },
  {
   "cell_type": "markdown",
   "metadata": {},
   "source": [
    "# Can I make assumptions about PWN/PSR asusming the GeV extended source is the PWN? \n",
    "## Rpwn depends on Edot and M_ejecta. If I know typical M_ejecta I can estimae Edot. Eq'n 9 in Gaensler & Slane 2006 gives "
   ]
  },
  {
   "cell_type": "code",
   "execution_count": null,
   "metadata": {
    "collapsed": true
   },
   "outputs": [],
   "source": []
  },
  {
   "cell_type": "markdown",
   "metadata": {},
   "source": [
    "## Assuming typical PSR velocity, about how far offset would it be given estimated age from above?\n",
    "### Gaensler & Slane  2006: v_psr ~400-500 km/s, but I think some have extreme at 1000 km/s. Travels ballistically. was it this paper that they also give the time for the PSr to reach the forward shock of the SNR\n",
    "\n",
    "## For 400 km/s and nearest dist:   sep = 2.2 pc , 0.3 deg\n",
    "## For 1000 km/s and nearest dist: sep = 5.5 pc, 0.8 deg\n",
    "## Where are the 3 3FGL sources wrt to this?"
   ]
  },
  {
   "cell_type": "code",
   "execution_count": 218,
   "metadata": {
    "collapsed": false
   },
   "outputs": [
    {
     "name": "stdout",
     "output_type": "stream",
     "text": [
      "Projected pulsar distances: [ 4414.0131227   1868.00075573     5.53170663] pc\n",
      "For ages [ 4315.98769774  1826.51660903     5.40885972] kyr\n"
     ]
    }
   ],
   "source": [
    "#lets just look at the far distance\n",
    "#psrVs = np.array([400.,500.,1000.])*u.km/u.s\n",
    "psrVs = np.array([1.e3])*u.km/u.s\n",
    "psrDs = psrVs*(T_g150*u.yr)\n",
    "psrDs = psrDs.to(u.pc)\n",
    "angD = np.vectorize(angSize)\n",
    "print \"Projected pulsar distances: %s\" %psrDs.to(u.pc)\n",
    "print \"For ages %s kyr\" %(T_g150/1e3)\n",
    "\n",
    "\n"
   ]
  },
  {
   "cell_type": "code",
   "execution_count": 220,
   "metadata": {
    "collapsed": false
   },
   "outputs": [
    {
     "name": "stdout",
     "output_type": "stream",
     "text": [
      "PSR angular offset = 45.5223578501 deg for 4414.0131227 pc sep, dist = 5.55560684002 kpc\n",
      "PSR angular offset = 27.1738269275 deg for 1868.00075573 pc sep, dist = 3.93866346894 kpc\n",
      "PSR angular offset = 0.826114148527 deg for 5.53170663045 pc sep, dist = 0.38365575023 kpc\n"
     ]
    }
   ],
   "source": [
    "psrSep_Dist = zip(psrDs.value,dnear)\n",
    "for i in psrSep_Dist:\n",
    "    print \"PSR angular offset = %s deg for %s pc sep, dist = %s kpc\" %(angSize(i[0],i[1]),i[0],i[1])\n",
    "#d_ang = angD(psrDs,dnear)"
   ]
  },
  {
   "cell_type": "markdown",
   "metadata": {},
   "source": [
    "# Anything to do with  van der swallow 2001 (see also HESS kookaburra paper, and some dejeager 2008 paper?) that says Rpwn/Rsnr ~0.25 (after reverse shock interaction?). If it was the PWN we were seeing then my age estimates are wrong, but I can estimate Rsnr and get age from that?"
   ]
  }
 ],
 "metadata": {
  "kernelspec": {
   "display_name": "Python 2",
   "language": "python",
   "name": "python2"
  },
  "language_info": {
   "codemirror_mode": {
    "name": "ipython",
    "version": 2
   },
   "file_extension": ".py",
   "mimetype": "text/x-python",
   "name": "python",
   "nbconvert_exporter": "python",
   "pygments_lexer": "ipython2",
   "version": "2.7.10"
  }
 },
 "nbformat": 4,
 "nbformat_minor": 0
}
