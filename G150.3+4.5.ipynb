{
 "cells": [
  {
   "cell_type": "markdown",
   "metadata": {
    "collapsed": true
   },
   "source": [
    "# G150 paper"
   ]
  },
  {
   "cell_type": "markdown",
   "metadata": {},
   "source": [
    "##  2FHL  found unassociated 1.5 deg extended source. Jack noted that it is coincident with G150.3+4.5. Below is some work looking into the source"
   ]
  },
  {
   "cell_type": "code",
   "execution_count": 2,
   "metadata": {
    "collapsed": false
   },
   "outputs": [],
   "source": [
    "%matplotlib inline\n",
    "import matplotlib as mpl\n",
    "import matplotlib.pyplot as plt\n",
    "import sys\n",
    "import os\n",
    "import yaml\n",
    "import aplpy\n",
    "import numpy as np\n",
    "import pyJam.fermi.SNR_MC.coCube as cocube\n",
    "from pyJam.fermi.SNR_MC.distNsep import *\n",
    "from lande.utilities.tools import tolist #for saving yaml\n",
    "import pyJam.kdistMaster as kd\n",
    "from IPython.core.display import Image \n",
    "import astropy.io.fits as pf\n",
    "import pandas as pd\n",
    "\n",
    "%load_ext autoreload\n",
    "%autoreload 2\n",
    "\n",
    "home = os.environ['HOME']\n",
    "os.chdir(os.path.join(home,'Dropbox/CurrentWork/G150/'))"
   ]
  },
  {
   "cell_type": "markdown",
   "metadata": {},
   "source": [
    "### 2FHL values (double check if these are the values in 2FHL or an early iteration of my analysis pipeline)"
   ]
  },
  {
   "cell_type": "code",
   "execution_count": 10,
   "metadata": {
    "collapsed": false
   },
   "outputs": [],
   "source": [
    "\n",
    "#use Dame et al. CO cube to make \n",
    "#add 3FGL source and circle for fit SNR at > 50 geV\n",
    "b = 5.221292 #150.57 where did I get these from?\n",
    "l = 150.3818\n",
    "snrRad = 1.27\n",
    "s = 10\n",
    "#this is just the entire velocity range, I should add different vals for the different HI vels\n",
    "coVmin = -319\n",
    "coVmax = 319\n",
    "\n",
    "# fitsMap    = \n",
    "#contsz     = 5,\n",
    "# regFile    = None,\n",
    "# contFits   = None,\n",
    "# coords     = 'gal',\n",
    "# fTitle     = '',\n",
    "# contLevels = 9,\n",
    "# smooth     = 1,"
   ]
  },
  {
   "cell_type": "code",
   "execution_count": null,
   "metadata": {
    "collapsed": false
   },
   "outputs": [],
   "source": [
    "#can I use aplpy for anything\n",
    "#I know I can make slices at single vel, what else?\n",
    "f = aplpy.FITSFigure(fitsFile) #f = aplpy.FITSFigure(fitsFile, figure = plt.figure(1),**kwargs)"
   ]
  },
  {
   "cell_type": "code",
   "execution_count": 12,
   "metadata": {
    "collapsed": false
   },
   "outputs": [
    {
     "name": "stdout",
     "output_type": "stream",
     "text": [
      "0 (155.3818, 145.3818) 155.3818 145.3818 d (493, 81, 2881)\n",
      "nmin/ nmax: 197.0 277.0\n",
      "1 (0.22129200000000004, 10.221292) 0.221292 10.221292 d (493, 81, 2881)\n",
      "nmin/ nmax: 42.0 81\n",
      "2 (-319, 319) -319 319 d (493, 81, 2881)\n",
      "nmin/ nmax: 1.0 492.0\n",
      "nmin: {1: 197.0, 2: 42.0, 3: 1.0} nmax: {1: 277.0, 2: 81, 3: 492.0}\n",
      "indiv 1.0 492.0 42.0 81 197.0 277.0\n",
      "G150_COGAL_deep_mom_vlsr_sliced.fits already exists, delete and create it anew \n",
      "Save 3-D sliced Cube\n",
      "G150_COGAL_deep_mom_vlsr_vb.fits already exists, delete and create it anew \n",
      "G150_COGAL_deep_mom_vlsr_lv.fits already exists, delete and create it anew \n",
      "G150_COGAL_deep_mom_vlsr_lb.fits already exists, delete and create it anew \n"
     ]
    }
   ],
   "source": [
    "### Modify this\n",
    "lmin, lmax, bmin, bmax = cocube.getMapSize(l,b,s)\n",
    "co = cocube.COline(COfile = '/Users/jmcohen/Desktop/cur/fitsFiles/COGAL_deep_mom_vlsr.fits') #change this to use different CO file\n",
    "co.lvbSum(axis = 'all', pmin = [lmax,bmin,coVmin], pmax = [lmin,bmax,coVmax]) #I think this will just make the sliced cubes right?\n",
    "# mapType = {'tsmap':'TS', 'cmap':'Counts: Data - Model','signifFT': '(Data - Model)/sqrt(Model)'}\n",
    "\n",
    "# maps = ['',''] #add path to initial residual tsmap and cmap\n",
    "# for m in mapType:\n",
    "#             mName  = [self.snrName + '_nby_%s_zero.fits' %(m), self.snrName + '_nby_%s_zeroSNR.fits' %(m)]\n",
    "#             for n in mName:\n",
    "#     plotSlice(fitsFile = m, figTitle = fTitle, cbarTitle = mapType[m], cont = contFits, reg = regFile[0::2],  zoom = zoom , circ = circ, levels= contLevels, smooth = smooth, colors = ['k'], outText = '_vel' + self.vel) #one with labled in 50pc"
   ]
  },
  {
   "cell_type": "markdown",
   "metadata": {},
   "source": [
    "## Right now all values below are From fermiSymp15 poster. Are they all pointlike and not gtlike results? Poster says E > 5 GeV."
   ]
  },
  {
   "cell_type": "markdown",
   "metadata": {},
   "source": [
    "## Radio, CO, HI, and other propteries"
   ]
  },
  {
   "cell_type": "code",
   "execution_count": 179,
   "metadata": {
    "collapsed": false
   },
   "outputs": [],
   "source": [
    "#For Galactic rotation curve, only negative velocities are allowed (why?), so left out 2.9 km/s\n",
    "HIvels = [-44.7, -35.9, -6.9]# left out 2.9] #Vlsr HI velocties[km/s], all with widths 5 km/s or less, so there is no evidence of line broadening from the SNR shock\n",
    "lrad = 150.3\n",
    "brad = 4.5\n",
    "R0 = 8.3  # [kpc] distance to center of Galaxy\n",
    "V0 = 239 # [km/s] LSR velocity "
   ]
  },
  {
   "cell_type": "markdown",
   "metadata": {},
   "source": [
    "## Remake the CO map from above since I fixed somethings in coCube\n",
    "## HAVEN'T DONE THIS YET"
   ]
  },
  {
   "cell_type": "code",
   "execution_count": null,
   "metadata": {
    "collapsed": true
   },
   "outputs": [],
   "source": [
    "lmin, lmax, bmin, bmax = cocube.getMapSize(l,b,s)\n",
    "co = cocube.COline(COfile = '/Users/jmcohen/Desktop/cur/fitsFiles/COGAL_deep_mom_vlsr.fits') #change this to use different CO file\n",
    "co.lvbSum(axis = 'all', pmin = [lmax,bmin,coVmin], pmax = [lmin,bmax,coVmax]) #I think this will just make the sliced cubes right?"
   ]
  },
  {
   "cell_type": "markdown",
   "metadata": {},
   "source": [
    "# GeV extended source properties"
   ]
  },
  {
   "cell_type": "markdown",
   "metadata": {},
   "source": [
    "### From fermiSymp15 poster. All pointlike and not gtlike results?\n",
    "### Poster says E > 5 GeV"
   ]
  },
  {
   "cell_type": "code",
   "execution_count": 55,
   "metadata": {
    "collapsed": true
   },
   "outputs": [],
   "source": [
    "R_gev = 1.46 #pointlike uniform disk fit radius [deg], +/- 0.03\n",
    "index_gev = -1.88 # Power law index +/- 0.06\n",
    "alpha_rad = -0.6  #Gao & Han 2014\n",
    "jacksDists= [5.5,4,0.6]"
   ]
  },
  {
   "cell_type": "markdown",
   "metadata": {},
   "source": [
    "# Estimate Distance from Galactic Rotation curve\n",
    "## Looks like the two far distance are the same as Jack's, but not the one that corresponds to -6.9 km/s, not sure why"
   ]
  },
  {
   "cell_type": "code",
   "execution_count": 205,
   "metadata": {
    "collapsed": false,
    "scrolled": true
   },
   "outputs": [
    {
     "name": "stdout",
     "output_type": "stream",
     "text": [
      "HI velocites are [-44.7, -35.9, -6.9]\n",
      "Near distances [ 5.55560684  3.93866347  0.38365575]\n",
      "Far distances [ 5.55560684  3.93866347  0.38365575]\n"
     ]
    }
   ],
   "source": [
    "dist = np.vectorize(kd.kdist)\n",
    "dnear = dist(l = lrad, b = brad, vin = HIvels, near = True,r0 = R0,v0=V0)\n",
    "dfar = dnear = dist(l = lrad, b = brad, vin = HIvels, near = False,r0 = R0,v0=V0)\n",
    "print 'HI velocites are %s' %HIvels\n",
    "print 'Near distances %s' %dnear\n",
    "print 'Far distances %s' %dfar"
   ]
  },
  {
   "cell_type": "markdown",
   "metadata": {},
   "source": [
    "## Physical size \n",
    "### My numbers are a little different than Jack's, I think mine are right, if I do it in astropy I get my results"
   ]
  },
  {
   "cell_type": "code",
   "execution_count": 197,
   "metadata": {
    "collapsed": false
   },
   "outputs": [
    {
     "name": "stdout",
     "output_type": "stream",
     "text": [
      "Physical radius of sources in pc: [ 283.13380341  200.72852533   19.55248362]\n",
      "Physical radius of sources (using Jack's dists) in pc : [ 280.29987787  203.85445663   30.57816849]\n"
     ]
    }
   ],
   "source": [
    "size = np.vectorize(physSep)\n",
    "sizes = size(t=R_gev*2, d=dnear) #t is for theta = angular radius, 2* for diameter/size\n",
    "rads = sizes/2.\n",
    "jsizes = size(t=R_gev*2, d=jacksDists) #t is for theta = angular radius, 2* for diameter/size\n",
    "jrads = jsizes/2\n",
    "print 'Physical radius of sources in pc: %s' %sizes\n",
    "print \"Physical radius of sources (using Jack's dists) in pc : %s\" %jsizes"
   ]
  },
  {
   "cell_type": "markdown",
   "metadata": {},
   "source": [
    "# Sedov-Taylor phase stuff (see section 6 Truelove & McKee 1999)\n",
    "Radius of the expanding shell (I think these 2 versions are equal?)\n",
    "\\begin{equation} R_{ST} = 0.26 (n_H/cm^{-3})^{-1/5}(t_{ST}/yr)^{2/5} (E_{ST}/4\\times 10^{50} erg)^{1/5} pc = 0.31(E_{51}/n_0)^{1/5}t_{y}^{2/5} pc\\end{equation}\n",
    "In terms of t (this is missing a factor in front\n",
    "\\begin{equation}t_y = (n_0/E_{51})^{1/2}(R_{ST}/0.31)^{5/2}\\end{equation} \n",
    "Velocity of expanding shell\n",
    "\\begin{equation}v_s = 1.23\\times 10^5(E_{51}/n_0)^{1/5}t_{y}^{2/5} km s^{-1}\\end{equation}\n",
    "Temperature of expanding shell\n",
    "\\begin{equation}T_s = 2.09\\times 10^{11} = (E^{51}/n_0)^{2/5}t^{-6/5} K\\end{equation}"
   ]
  },
  {
   "cell_type": "code",
   "execution_count": 198,
   "metadata": {
    "collapsed": false
   },
   "outputs": [],
   "source": [
    "#make this allwork with astropy units?\n",
    "def Rst(t,n0=1,E=1e51):\n",
    "    \"\"\"Sedov-Taylor phase SNR radius as \n",
    "       function of time. Is this Chevalier 1982 or Truelove & McKee 1999? I think the former? See Reynolds 2008\n",
    "       \n",
    "       n0 = ambient density [ cm^-3]\n",
    "       t = SNR age [yr]\n",
    "       E = SN explosion energy erg\n",
    "       \"\"\"\n",
    "    return 0.314*t**(2/5.)*((E/1.e51)/n0)**(1/5.)\n",
    "\n",
    "def Tst(R,n0=1, E=1e51):\n",
    "    \"\"\"Sedov-Taylor phase SNR age as\n",
    "       function of\n",
    "       \n",
    "       n0 = ambient density [ cm^-3]\n",
    "       R = Sedov-Taylor phase SNR radius [pc]. \n",
    "       E = SN explosion energy erg\n",
    "    \"\"\"\n",
    "    return (n0/(E/1e51))**(1/2)*(R/(0.314))**(5/2.)\n"
   ]
  },
  {
   "cell_type": "markdown",
   "metadata": {},
   "source": [
    "## Test Rst and Tst on data for W44"
   ]
  },
  {
   "cell_type": "code",
   "execution_count": 201,
   "metadata": {
    "collapsed": false
   },
   "outputs": [
    {
     "name": "stdout",
     "output_type": "stream",
     "text": [
      "Test W44: R = 12.5005651554, T = 9998.86977867\n"
     ]
    }
   ],
   "source": [
    "#This matches Uchiyama 2012 so long as the prefactor is 0.314, bit off if it's just 0.31\n",
    "# r_w44 = Rst(t = 1e4, n0 = 2, E = 2e51)\n",
    "# t_w44 = Tst(R = 12.5,n0 = 2, E=2e51)\n",
    "# print 'Test W44: R = %s, T = %s' %(r_w44,t_w44)\n"
   ]
  },
  {
   "cell_type": "markdown",
   "metadata": {},
   "source": [
    "# Using physical sizes calucalted above, estimate age if in ST phase"
   ]
  },
  {
   "cell_type": "code",
   "execution_count": 203,
   "metadata": {
    "collapsed": false
   },
   "outputs": [
    {
     "name": "stdout",
     "output_type": "stream",
     "text": [
      "For n0 = 1 cm^-3, E_51 = 1\n",
      "With physical radii [ 141.5669017   100.36426267    9.77624181]\n",
      "Ages in kyr:[ 4315.98769774  1826.51660903     5.40885972]\n",
      "\n",
      "Same but with Jack's distances, and physical radii [ 140.14993894  101.92722832   15.28908425]\n",
      "Ages in kyr: [ 4208.79877118  1898.45984902    16.5435826 ]\n",
      "\n"
     ]
    }
   ],
   "source": [
    "T = np.vectorize(Tst)\n",
    "R = np.vectorize(Rst)\n",
    "T_g150 = T(R = rads,n0 = 1, E=1e51) #what should E and n0 be? \n",
    "jT_g150 = T(R = jrads,n0 = 1, E=1e51) #what should E and n0 be? \n",
    "print 'For n0 = 1 cm^-3, E_51 = 1\\nWith physical radii %s\\nAges in kyr:%s\\n' %(rads,T_g150/1.e3)\n",
    "print \"Same but with Jack's distances, and physical radii %s\\nAges in kyr: %s\\n\" %(jrads,jT_g150/1.e3)"
   ]
  },
  {
   "cell_type": "markdown",
   "metadata": {},
   "source": [
    "# Can I make assumptions about PWN/PSR asusming the GeV extended source is the PWN?\n",
    "\n",
    "## Are the main arguments for it being an **old** PWN that it's large and the spectrum looks PWN-like? \n",
    "\n",
    "## Rpwn depends on Edot and M_ejecta. If I know typical M_ejecta I can estimae Edot. Eq'n 9 in Gaensler & Slane 2006 gives ... After estimating (guessing) Edot, how does Lgam / Edot compare to other\n",
    "\n",
    "## Slane et al 2010, HESS J1640, Chevalier 1977, Gelfand et al 2009 (eqn B7). If t << tau then E ~ Edot\n",
    "### Maybe this isn't so useful?\n",
    "\n",
    "$\\mathrm{R_{PWN} \\sim 1.1 \\dot{E}^{1/5}_{E_{0,38}} E^{3/10}_{51} M^{-1/2}_{10} t^{6/5}_3 pc}$ \n",
    "\n",
    "$\\dot{E}_{E_{0,38}}$ is the initial spin down power, \n",
    "\n",
    "$M_{10}$ is the ejecta mass in units of 10 Msol\n",
    "\n",
    "## also from this Slane paper, they estimate the current spin down power of the pulsar with the emprical relationship for Edot/Lx in Possenti 2002. Can we use the fact that we see no significant x-ray emission to put an uppper limit on x-ray flux --> xray lum (assuming distance) and an upper limit on Edot?"
   ]
  },
  {
   "cell_type": "code",
   "execution_count": null,
   "metadata": {
    "collapsed": true
   },
   "outputs": [],
   "source": [
    "\n",
    "#Evolution of PWN radius through SNR ejecta\n",
    "#I think this is neglecting encounter with reverse shock of the SNR though?\n",
    "\n",
    "Rpwn =  1.1 "
   ]
  },
  {
   "cell_type": "markdown",
   "metadata": {},
   "source": [
    "## Assuming typical PSR velocity, about how far offset would it be given estimated age from above?\n",
    "### Gaensler & Slane  2006: v_psr ~400-500 km/s, but I think some have extreme at 1000 km/s. Travels ballistically. was it this paper that they also give the time for the PSr to reach the forward shock of the SNR\n",
    "\n",
    "## For 400 km/s and nearest dist:   sep = 2.2 pc , 0.3 deg\n",
    "## For 1000 km/s and nearest dist: sep = 5.5 pc, 0.8 deg\n",
    "## Where are the 3 3FGL sources wrt to this? I can also go the other way around and estimate the PSR velocity given it's offset from the center and assumed distance"
   ]
  },
  {
   "cell_type": "code",
   "execution_count": 218,
   "metadata": {
    "collapsed": false
   },
   "outputs": [
    {
     "name": "stdout",
     "output_type": "stream",
     "text": [
      "Projected pulsar distances: [ 4414.0131227   1868.00075573     5.53170663] pc\n",
      "For ages [ 4315.98769774  1826.51660903     5.40885972] kyr\n"
     ]
    }
   ],
   "source": [
    "#lets just look at the far distance\n",
    "#psrVs = np.array([400.,500.,1000.])*u.km/u.s\n",
    "psrVs = np.array([1.e3])*u.km/u.s\n",
    "psrDs = psrVs*(T_g150*u.yr)\n",
    "psrDs = psrDs.to(u.pc)\n",
    "angD = np.vectorize(angSize)\n",
    "print \"Projected pulsar distances: %s\" %psrDs.to(u.pc)\n",
    "print \"For ages %s kyr\" %(T_g150/1e3)\n",
    "\n",
    "\n"
   ]
  },
  {
   "cell_type": "code",
   "execution_count": 220,
   "metadata": {
    "collapsed": false
   },
   "outputs": [
    {
     "name": "stdout",
     "output_type": "stream",
     "text": [
      "PSR angular offset = 45.5223578501 deg for 4414.0131227 pc sep, dist = 5.55560684002 kpc\n",
      "PSR angular offset = 27.1738269275 deg for 1868.00075573 pc sep, dist = 3.93866346894 kpc\n",
      "PSR angular offset = 0.826114148527 deg for 5.53170663045 pc sep, dist = 0.38365575023 kpc\n"
     ]
    }
   ],
   "source": [
    "psrSep_Dist = zip(psrDs.value,dnear)\n",
    "for i in psrSep_Dist:\n",
    "    print \"PSR angular offset = %s deg for %s pc sep, dist = %s kpc\" %(angSize(i[0],i[1]),i[0],i[1])\n",
    "#d_ang = angD(psrDs,dnear)"
   ]
  },
  {
   "cell_type": "code",
   "execution_count": 6,
   "metadata": {
    "collapsed": false
   },
   "outputs": [
    {
     "data": {
      "image/png": "[encoded data removed]",
      "text/plain": [
       "<IPython.core.display.Image object>"
      ]
     },
     "execution_count": 6,
     "metadata": {
      "image/png": {
       "height": 800,
       "width": 800
      }
     },
     "output_type": "execute_result"
    }
   ],
   "source": [
    "Image(filename= os.path.join(home,'Dropbox/CurrentWork/G150/G150_smoothResidCmap_PSRdists.png'), height = 800, width = 800)"
   ]
  },
  {
   "cell_type": "markdown",
   "metadata": {},
   "source": [
    "# Anything to do with  van der swallow 2001 (see also HESS kookaburra paper, and some dejeager 2008 paper?) that says Rpwn/Rsnr ~0.25 (after reverse shock interaction?). If it is the PWN we're seeing then my age estimates are wrong, but I can estimate Rsnr and get age from that?"
   ]
  },
  {
   "cell_type": "markdown",
   "metadata": {},
   "source": [
    "## Edot from LAT TeV PWN (idk if I need these)"
   ]
  },
  {
   "cell_type": "code",
   "execution_count": 10,
   "metadata": {
    "collapsed": true
   },
   "outputs": [],
   "source": [
    "tevPSR_Edot = np.asarray([4.5e+35, 4.6e+38, 1.7e+35, 3.2e+34, 6.9e+36, 2.6e+36, 1.1e+37, 8.4e+35, 2.3e+36, 1.7e+36, 3.1e+36, 4.9e+36, 1.0e+37, 9.1e+35, 1.7e+37, 1.6e+37, 3.0e+36, 4.0e+36, 2.1e+35, 3.4e+35, 3.4e+36, 1.3e+36, 2.2e+36, 1.8e+36, 6.8e+37, 2.3e+33, 2.8e+36, 1.1e+36, 3.4e+37, 5.5e+36, 5.9e+36, 8.1e+36, 9.8e+36, 4.6e+36, 2.8e+36, 2.9e+36, 1.2e+37, 3.4e+35, 1.6e+35, 3.4e+36, 2.2e+37])\n",
    "tevPSRdist =  np.asarray([1.4, 2.0, 1.0, 0.2, 0.29, 2.9, 2.8, 2.3, 8.4, 6.7, 2.5, 1.6, 5.6, 4, 4.2, 7.8, 6.8, 3.0, 5.0, 4.8, 2.3, 3.6, 3.8, 3.5, 4.7, 7.8, 3.9, 4.0, 4.7, 6.6, 1.3, 5.1, 6, 7, 9.0, 3.2, 4.8, 9, 2.5, 10, 0.8])\n",
    "tevPWNSigmaGauss = np.asarray([1.30, 0.18, 0.14, 0.05, 0.16, 0.20, 0.08, 0.06, 0.04, 0.17, 0.26, 0.15, 0.11, 0.23, 0.14, 0.07, 0.21, 0.11, 0.04, 0.35, 0.25, 0.30, 0.29, 0.15, 0.14, 0.16, 0.53, 0.04, 0.14, 0.13, 0.15, 0.09, 0.12, 0.41, 0.32, 0.11, 0.08, 0.34, 0.26, 0.55, 1.50, 0.10])"
   ]
  },
  {
   "cell_type": "code",
   "execution_count": 16,
   "metadata": {
    "collapsed": false
   },
   "outputs": [
    {
     "name": "stdout",
     "output_type": "stream",
     "text": [
      "Edot:: Mean:  1.79891292683e+37 Max: 4.6e+38 Min:  2.3e+33\n",
      "PSR dist:: Mean:  4.3143902439 Max:  10.0 Min : 0.2\n",
      "PWN Sigma Gauss:: Mean:  0.243095238095 Max:  1.5 Min:  0.04\n"
     ]
    }
   ],
   "source": [
    "print 'Edot:: Mean: ', tevPSR_Edot.mean(), 'Max:',tevPSR_Edot.max(), 'Min: ',tevPSR_Edot.min()\n",
    "print 'PSR dist:: Mean: ', tevPSRdist.mean(), 'Max: ',tevPSRdist.max(), 'Min :', tevPSRdist.min()\n",
    "print 'PWN Sigma Gauss:: Mean: ', tevPWNSigmaGauss.mean(), 'Max: ',tevPWNSigmaGauss.max(), 'Min: ',tevPWNSigmaGauss.min()"
   ]
  },
  {
   "cell_type": "markdown",
   "metadata": {},
   "source": [
    "# Yes SNR args:\n",
    "* Spectrally, spatially similar to PKS 1209-51/52\n",
    "    * Large diameter SNR towards outer Galaxy (can’t be too far away)\n",
    "\t\t* Low GeV/Radio surface brightness\n",
    "\t\t* Hard GeV spectral index (1.6? 1.8?)\n",
    "* BIG DIFFERENCE: No prominent X-ray emission\n",
    "* If Γ~1.6, then fits well with IC scenario (radio α = -0.6)\n",
    "* If Γ~2, better fits with Brems, Pizero, or IC cutoff\n",
    "    * => Need better GeV spectrum (>1 GeV)\n",
    "* Good agreement between > 5gev disk fit and radio shell"
   ]
  },
  {
   "cell_type": "markdown",
   "metadata": {},
   "source": [
    "# Info on the 3 3FGL sources"
   ]
  },
  {
   "cell_type": "code",
   "execution_count": 3,
   "metadata": {
    "collapsed": false
   },
   "outputs": [],
   "source": [
    "fglSources = [\"3FGL J0425.8+5600\",\"3FGL J0426.7+5437\",\"3FGL J0423.5+5442\"]\n",
    "fglPath = os.path.join(home,\"Dropbox/Catalogs/3FGL/gll_psc_v16.fit\")\n",
    "fgl3d = pf.getdata(fglPath)\n",
    "poplist = []\n",
    "fgl3dict = {x:fgl3d.field(x) for x in fgl3d.names}\n",
    "for i in fgl3dict:\n",
    "    fgl3dict[i] = list(fgl3dict.get(i))\n",
    "#     if fgl3dict.get(i).ndim > 1:\n",
    "#         poplist.append(i)\n",
    "\n",
    "# for i in poplist:\n",
    "#     fgl3dict.pop(i)\n",
    "fgl3DF = pd.DataFrame(fgl3dict)\n",
    "fgl3DF.set_index('Source_Name',inplace = True)\n",
    "maxl = len(fgl3DF)\n",
    "pd.set_option('display.max_columns', maxl)\n",
    "pd.set_option('display.max_rows', maxl) #I will transpose the frame later\n"
   ]
  },
  {
   "cell_type": "code",
   "execution_count": 40,
   "metadata": {
    "collapsed": false
   },
   "outputs": [
    {
     "data": {
      "text/plain": [
       "Source_Name\n",
       "3FGL J0425.8+5600    2.347609\n",
       "3FGL J0426.7+5437    2.478879\n",
       "3FGL J0423.5+5442    2.625293\n",
       "Name: PowerLaw_Index, dtype: float64"
      ]
     },
     "execution_count": 40,
     "metadata": {},
     "output_type": "execute_result"
    }
   ],
   "source": [
    "just3.PowerLaw_Index"
   ]
  },
  {
   "cell_type": "code",
   "execution_count": 4,
   "metadata": {
    "collapsed": false
   },
   "outputs": [
    {
     "name": "stdout",
     "output_type": "stream",
     "text": [
      "TS summed over 1-100GeV bands Source_Name\n",
      "3FGL J0425.8+5600     25.542609\n",
      "3FGL J0426.7+5437    137.203870\n",
      "3FGL J0423.5+5442     14.265376\n",
      "dtype: float64\n",
      "Avg TS over all bands Source_Name\n",
      "3FGL J0425.8+5600     40.145917\n",
      "3FGL J0426.7+5437    201.473487\n",
      "3FGL J0423.5+5442     19.748591\n",
      "Name: Signif_Avg, dtype: float64\n"
     ]
    }
   ],
   "source": [
    "just3 = fgl3DF.loc[fglSources]\n",
    "just3_TS1_300 = just3.Sqrt_TS1000_3000**2 + just3.Sqrt_TS3000_10000**2 + just3.Sqrt_TS10000_100000**2 \n",
    "print \"TS summed over 1-100GeV bands %s\\nAvg TS over all bands %s\" %(just3_TS1_300,just3.Signif_Avg**2)"
   ]
  },
  {
   "cell_type": "code",
   "execution_count": 6,
   "metadata": {
    "collapsed": false
   },
   "outputs": [
    {
     "data": {
      "text/html": [
       "<div>\n",
       "<table border=\"1\" class=\"dataframe\">\n",
       "  <thead>\n",
       "    <tr style=\"text-align: right;\">\n",
       "      <th></th>\n",
       "      <th>0FGL_Name</th>\n",
       "      <th>1FGL_Name</th>\n",
       "      <th>1FHL_Name</th>\n",
       "      <th>2FGL_Name</th>\n",
       "      <th>ASSOC1</th>\n",
       "      <th>ASSOC2</th>\n",
       "      <th>ASSOC_GAM1</th>\n",
       "      <th>ASSOC_GAM2</th>\n",
       "      <th>ASSOC_GAM3</th>\n",
       "      <th>ASSOC_TEV</th>\n",
       "      <th>CLASS1</th>\n",
       "      <th>Conf_68_PosAng</th>\n",
       "      <th>Conf_68_SemiMajor</th>\n",
       "      <th>Conf_68_SemiMinor</th>\n",
       "      <th>Conf_95_PosAng</th>\n",
       "      <th>Conf_95_SemiMajor</th>\n",
       "      <th>Conf_95_SemiMinor</th>\n",
       "      <th>Cutoff</th>\n",
       "      <th>DEJ2000</th>\n",
       "      <th>Energy_Flux100</th>\n",
       "      <th>Exp_Index</th>\n",
       "      <th>Extended_Source_Name</th>\n",
       "      <th>Flags</th>\n",
       "      <th>Flux1000</th>\n",
       "      <th>Flux10000_100000</th>\n",
       "      <th>Flux1000_3000</th>\n",
       "      <th>Flux100_300</th>\n",
       "      <th>Flux3000_10000</th>\n",
       "      <th>Flux300_1000</th>\n",
       "      <th>Flux30_100</th>\n",
       "      <th>Flux_Density</th>\n",
       "      <th>Flux_History</th>\n",
       "      <th>Flux_Peak</th>\n",
       "      <th>GLAT</th>\n",
       "      <th>GLON</th>\n",
       "      <th>Peak_Interval</th>\n",
       "      <th>Pivot_Energy</th>\n",
       "      <th>PowerLaw_Index</th>\n",
       "      <th>RAJ2000</th>\n",
       "      <th>ROI_num</th>\n",
       "      <th>Signif_Avg</th>\n",
       "      <th>Signif_Curve</th>\n",
       "      <th>Signif_Peak</th>\n",
       "      <th>Spectral_Index</th>\n",
       "      <th>SpectrumType</th>\n",
       "      <th>Sqrt_TS10000_100000</th>\n",
       "      <th>Sqrt_TS1000_3000</th>\n",
       "      <th>Sqrt_TS100_300</th>\n",
       "      <th>Sqrt_TS3000_10000</th>\n",
       "      <th>Sqrt_TS300_1000</th>\n",
       "      <th>Sqrt_TS30_100</th>\n",
       "      <th>TEVCAT_FLAG</th>\n",
       "      <th>Time_Peak</th>\n",
       "      <th>Unc_Cutoff</th>\n",
       "      <th>Unc_Energy_Flux100</th>\n",
       "      <th>Unc_Exp_Index</th>\n",
       "      <th>Unc_Flux1000</th>\n",
       "      <th>Unc_Flux10000_100000</th>\n",
       "      <th>Unc_Flux1000_3000</th>\n",
       "      <th>Unc_Flux100_300</th>\n",
       "      <th>Unc_Flux3000_10000</th>\n",
       "      <th>Unc_Flux300_1000</th>\n",
       "      <th>Unc_Flux30_100</th>\n",
       "      <th>Unc_Flux_Density</th>\n",
       "      <th>Unc_Flux_History</th>\n",
       "      <th>Unc_Flux_Peak</th>\n",
       "      <th>Unc_Spectral_Index</th>\n",
       "      <th>Unc_beta</th>\n",
       "      <th>Variability_Index</th>\n",
       "      <th>beta</th>\n",
       "      <th>nuFnu10000_100000</th>\n",
       "      <th>nuFnu1000_3000</th>\n",
       "      <th>nuFnu100_300</th>\n",
       "      <th>nuFnu3000_10000</th>\n",
       "      <th>nuFnu300_1000</th>\n",
       "      <th>nuFnu30_100</th>\n",
       "    </tr>\n",
       "    <tr>\n",
       "      <th>Source_Name</th>\n",
       "      <th></th>\n",
       "      <th></th>\n",
       "      <th></th>\n",
       "      <th></th>\n",
       "      <th></th>\n",
       "      <th></th>\n",
       "      <th></th>\n",
       "      <th></th>\n",
       "      <th></th>\n",
       "      <th></th>\n",
       "      <th></th>\n",
       "      <th></th>\n",
       "      <th></th>\n",
       "      <th></th>\n",
       "      <th></th>\n",
       "      <th></th>\n",
       "      <th></th>\n",
       "      <th></th>\n",
       "      <th></th>\n",
       "      <th></th>\n",
       "      <th></th>\n",
       "      <th></th>\n",
       "      <th></th>\n",
       "      <th></th>\n",
       "      <th></th>\n",
       "      <th></th>\n",
       "      <th></th>\n",
       "      <th></th>\n",
       "      <th></th>\n",
       "      <th></th>\n",
       "      <th></th>\n",
       "      <th></th>\n",
       "      <th></th>\n",
       "      <th></th>\n",
       "      <th></th>\n",
       "      <th></th>\n",
       "      <th></th>\n",
       "      <th></th>\n",
       "      <th></th>\n",
       "      <th></th>\n",
       "      <th></th>\n",
       "      <th></th>\n",
       "      <th></th>\n",
       "      <th></th>\n",
       "      <th></th>\n",
       "      <th></th>\n",
       "      <th></th>\n",
       "      <th></th>\n",
       "      <th></th>\n",
       "      <th></th>\n",
       "      <th></th>\n",
       "      <th></th>\n",
       "      <th></th>\n",
       "      <th></th>\n",
       "      <th></th>\n",
       "      <th></th>\n",
       "      <th></th>\n",
       "      <th></th>\n",
       "      <th></th>\n",
       "      <th></th>\n",
       "      <th></th>\n",
       "      <th></th>\n",
       "      <th></th>\n",
       "      <th></th>\n",
       "      <th></th>\n",
       "      <th></th>\n",
       "      <th></th>\n",
       "      <th></th>\n",
       "      <th></th>\n",
       "      <th></th>\n",
       "      <th></th>\n",
       "      <th></th>\n",
       "      <th></th>\n",
       "      <th></th>\n",
       "      <th></th>\n",
       "      <th></th>\n",
       "    </tr>\n",
       "  </thead>\n",
       "  <tbody>\n",
       "    <tr>\n",
       "      <th>3FGL J0425.8+5600</th>\n",
       "      <td></td>\n",
       "      <td></td>\n",
       "      <td>1FHL J0425.4+5601</td>\n",
       "      <td></td>\n",
       "      <td></td>\n",
       "      <td></td>\n",
       "      <td></td>\n",
       "      <td></td>\n",
       "      <td></td>\n",
       "      <td></td>\n",
       "      <td></td>\n",
       "      <td>-60.130001</td>\n",
       "      <td>0.038607</td>\n",
       "      <td>0.031946</td>\n",
       "      <td>-60.130001</td>\n",
       "      <td>0.0626</td>\n",
       "      <td>0.0518</td>\n",
       "      <td>-inf</td>\n",
       "      <td>56.014000</td>\n",
       "      <td>8.321129e-12</td>\n",
       "      <td>-inf</td>\n",
       "      <td></td>\n",
       "      <td>4</td>\n",
       "      <td>6.605890e-10</td>\n",
       "      <td>4.340072e-11</td>\n",
       "      <td>3.138084e-10</td>\n",
       "      <td>2.078169e-08</td>\n",
       "      <td>6.243402e-11</td>\n",
       "      <td>2.975179e-09</td>\n",
       "      <td>NaN</td>\n",
       "      <td>1.985992e-13</td>\n",
       "      <td>[2.10069e-08, 0.0, 4.20274e-09, 0.0, 1.62416e-...</td>\n",
       "      <td>-inf</td>\n",
       "      <td>4.750383</td>\n",
       "      <td>149.768005</td>\n",
       "      <td>-inf</td>\n",
       "      <td>1895.994263</td>\n",
       "      <td>2.347609</td>\n",
       "      <td>66.451599</td>\n",
       "      <td>121</td>\n",
       "      <td>6.336081</td>\n",
       "      <td>0.105451</td>\n",
       "      <td>-inf</td>\n",
       "      <td>2.347609</td>\n",
       "      <td>PowerLaw</td>\n",
       "      <td>4.136577</td>\n",
       "      <td>2.136711</td>\n",
       "      <td>3.544490</td>\n",
       "      <td>1.966166</td>\n",
       "      <td>3.415236</td>\n",
       "      <td>NaN</td>\n",
       "      <td>N</td>\n",
       "      <td>-inf</td>\n",
       "      <td>-inf</td>\n",
       "      <td>1.803004e-12</td>\n",
       "      <td>-inf</td>\n",
       "      <td>1.173928e-10</td>\n",
       "      <td>[-1.7196e-11, 2.21295e-11]</td>\n",
       "      <td>[-1.52066e-10, 1.61211e-10]</td>\n",
       "      <td>[-5.90011e-09, 5.94908e-09]</td>\n",
       "      <td>[-3.55209e-11, 4.23566e-11]</td>\n",
       "      <td>[-8.91388e-10, 9.04291e-10]</td>\n",
       "      <td>NaN</td>\n",
       "      <td>3.517155e-14</td>\n",
       "      <td>[[-1.38949e-08, 1.88575e-08], [nan, 1.64684e-0...</td>\n",
       "      <td>-inf</td>\n",
       "      <td>0.165640</td>\n",
       "      <td>-inf</td>\n",
       "      <td>51.673359</td>\n",
       "      <td>-inf</td>\n",
       "      <td>6.751109e-13</td>\n",
       "      <td>7.289679e-13</td>\n",
       "      <td>4.827527e-12</td>\n",
       "      <td>4.116718e-13</td>\n",
       "      <td>1.961747e-12</td>\n",
       "      <td>NaN</td>\n",
       "    </tr>\n",
       "    <tr>\n",
       "      <th>3FGL J0426.7+5437</th>\n",
       "      <td></td>\n",
       "      <td>1FGL J0426.5+5437</td>\n",
       "      <td></td>\n",
       "      <td>2FGL J0426.7+5434</td>\n",
       "      <td></td>\n",
       "      <td></td>\n",
       "      <td></td>\n",
       "      <td></td>\n",
       "      <td></td>\n",
       "      <td></td>\n",
       "      <td></td>\n",
       "      <td>35.450001</td>\n",
       "      <td>0.043788</td>\n",
       "      <td>0.041691</td>\n",
       "      <td>35.450001</td>\n",
       "      <td>0.0710</td>\n",
       "      <td>0.0676</td>\n",
       "      <td>-inf</td>\n",
       "      <td>54.616798</td>\n",
       "      <td>2.128958e-11</td>\n",
       "      <td>-inf</td>\n",
       "      <td></td>\n",
       "      <td>0</td>\n",
       "      <td>2.295638e-09</td>\n",
       "      <td>3.259613e-15</td>\n",
       "      <td>2.690153e-09</td>\n",
       "      <td>1.657099e-08</td>\n",
       "      <td>1.384689e-10</td>\n",
       "      <td>1.061097e-08</td>\n",
       "      <td>NaN</td>\n",
       "      <td>7.263759e-12</td>\n",
       "      <td>[5.48841e-08, 1.87712e-08, 2.98574e-08, 3.1262...</td>\n",
       "      <td>-inf</td>\n",
       "      <td>3.873888</td>\n",
       "      <td>150.867020</td>\n",
       "      <td>-inf</td>\n",
       "      <td>852.094971</td>\n",
       "      <td>2.478879</td>\n",
       "      <td>66.681297</td>\n",
       "      <td>121</td>\n",
       "      <td>14.194136</td>\n",
       "      <td>7.685437</td>\n",
       "      <td>-inf</td>\n",
       "      <td>2.467036</td>\n",
       "      <td>LogParabola</td>\n",
       "      <td>0.000000</td>\n",
       "      <td>11.326524</td>\n",
       "      <td>3.159402</td>\n",
       "      <td>2.985587</td>\n",
       "      <td>7.313225</td>\n",
       "      <td>NaN</td>\n",
       "      <td>N</td>\n",
       "      <td>-inf</td>\n",
       "      <td>-inf</td>\n",
       "      <td>2.688777e-12</td>\n",
       "      <td>-inf</td>\n",
       "      <td>2.180972e-10</td>\n",
       "      <td>[nan, 1.59648e-11]</td>\n",
       "      <td>[-2.7555e-10, 2.85162e-10]</td>\n",
       "      <td>[-5.1779e-09, 5.39212e-09]</td>\n",
       "      <td>[-5.28429e-11, 5.96814e-11]</td>\n",
       "      <td>[-1.53674e-09, 1.53674e-09]</td>\n",
       "      <td>NaN</td>\n",
       "      <td>5.895361e-13</td>\n",
       "      <td>[[-1.5109e-08, 1.62485e-08], [-1.31111e-08, 1....</td>\n",
       "      <td>-inf</td>\n",
       "      <td>0.119907</td>\n",
       "      <td>0.126830</td>\n",
       "      <td>51.832188</td>\n",
       "      <td>0.561026</td>\n",
       "      <td>3.020115e-17</td>\n",
       "      <td>5.752318e-12</td>\n",
       "      <td>4.538752e-12</td>\n",
       "      <td>7.438427e-13</td>\n",
       "      <td>7.309950e-12</td>\n",
       "      <td>NaN</td>\n",
       "    </tr>\n",
       "    <tr>\n",
       "      <th>3FGL J0423.5+5442</th>\n",
       "      <td></td>\n",
       "      <td></td>\n",
       "      <td></td>\n",
       "      <td></td>\n",
       "      <td></td>\n",
       "      <td></td>\n",
       "      <td></td>\n",
       "      <td></td>\n",
       "      <td></td>\n",
       "      <td></td>\n",
       "      <td></td>\n",
       "      <td>80.150002</td>\n",
       "      <td>0.092447</td>\n",
       "      <td>0.068888</td>\n",
       "      <td>80.150002</td>\n",
       "      <td>0.1499</td>\n",
       "      <td>0.1117</td>\n",
       "      <td>-inf</td>\n",
       "      <td>54.705799</td>\n",
       "      <td>1.293986e-11</td>\n",
       "      <td>-inf</td>\n",
       "      <td></td>\n",
       "      <td>0</td>\n",
       "      <td>7.461712e-10</td>\n",
       "      <td>1.527913e-11</td>\n",
       "      <td>2.587464e-10</td>\n",
       "      <td>2.164329e-08</td>\n",
       "      <td>1.490207e-10</td>\n",
       "      <td>5.135374e-09</td>\n",
       "      <td>NaN</td>\n",
       "      <td>1.069312e-12</td>\n",
       "      <td>[0.0, 3.08672e-08, 0.0, 0.0, 5.42339e-08, 2.62...</td>\n",
       "      <td>-inf</td>\n",
       "      <td>3.612116</td>\n",
       "      <td>150.486969</td>\n",
       "      <td>-inf</td>\n",
       "      <td>1049.148315</td>\n",
       "      <td>2.625293</td>\n",
       "      <td>65.899597</td>\n",
       "      <td>121</td>\n",
       "      <td>4.443939</td>\n",
       "      <td>0.935096</td>\n",
       "      <td>-inf</td>\n",
       "      <td>2.625293</td>\n",
       "      <td>PowerLaw</td>\n",
       "      <td>1.152993</td>\n",
       "      <td>1.197572</td>\n",
       "      <td>2.345848</td>\n",
       "      <td>3.391431</td>\n",
       "      <td>3.097338</td>\n",
       "      <td>NaN</td>\n",
       "      <td>N</td>\n",
       "      <td>-inf</td>\n",
       "      <td>-inf</td>\n",
       "      <td>3.064332e-12</td>\n",
       "      <td>-inf</td>\n",
       "      <td>1.617157e-10</td>\n",
       "      <td>[-1.36454e-11, 1.87304e-11]</td>\n",
       "      <td>[-2.17509e-10, 2.26957e-10]</td>\n",
       "      <td>[-9.24804e-09, 9.27347e-09]</td>\n",
       "      <td>[-5.14642e-11, 5.78599e-11]</td>\n",
       "      <td>[-1.65906e-09, 1.70818e-09]</td>\n",
       "      <td>NaN</td>\n",
       "      <td>2.129744e-13</td>\n",
       "      <td>[[nan, 3.62721e-08], [nan, 3.00776e-08], [nan,...</td>\n",
       "      <td>-inf</td>\n",
       "      <td>0.151782</td>\n",
       "      <td>-inf</td>\n",
       "      <td>61.846989</td>\n",
       "      <td>-inf</td>\n",
       "      <td>2.159248e-13</td>\n",
       "      <td>5.854846e-13</td>\n",
       "      <td>4.897386e-12</td>\n",
       "      <td>9.524551e-13</td>\n",
       "      <td>3.282238e-12</td>\n",
       "      <td>NaN</td>\n",
       "    </tr>\n",
       "  </tbody>\n",
       "</table>\n",
       "</div>"
      ],
      "text/plain": [
       "                  0FGL_Name          1FGL_Name          1FHL_Name  \\\n",
       "Source_Name                                                         \n",
       "3FGL J0425.8+5600                               1FHL J0425.4+5601   \n",
       "3FGL J0426.7+5437            1FGL J0426.5+5437                      \n",
       "3FGL J0423.5+5442                                                   \n",
       "\n",
       "                           2FGL_Name ASSOC1 ASSOC2 ASSOC_GAM1 ASSOC_GAM2  \\\n",
       "Source_Name                                                                \n",
       "3FGL J0425.8+5600                                                          \n",
       "3FGL J0426.7+5437  2FGL J0426.7+5434                                       \n",
       "3FGL J0423.5+5442                                                          \n",
       "\n",
       "                  ASSOC_GAM3 ASSOC_TEV CLASS1  Conf_68_PosAng  \\\n",
       "Source_Name                                                     \n",
       "3FGL J0425.8+5600                                  -60.130001   \n",
       "3FGL J0426.7+5437                                   35.450001   \n",
       "3FGL J0423.5+5442                                   80.150002   \n",
       "\n",
       "                   Conf_68_SemiMajor  Conf_68_SemiMinor  Conf_95_PosAng  \\\n",
       "Source_Name                                                               \n",
       "3FGL J0425.8+5600           0.038607           0.031946      -60.130001   \n",
       "3FGL J0426.7+5437           0.043788           0.041691       35.450001   \n",
       "3FGL J0423.5+5442           0.092447           0.068888       80.150002   \n",
       "\n",
       "                   Conf_95_SemiMajor  Conf_95_SemiMinor  Cutoff    DEJ2000  \\\n",
       "Source_Name                                                                  \n",
       "3FGL J0425.8+5600             0.0626             0.0518    -inf  56.014000   \n",
       "3FGL J0426.7+5437             0.0710             0.0676    -inf  54.616798   \n",
       "3FGL J0423.5+5442             0.1499             0.1117    -inf  54.705799   \n",
       "\n",
       "                   Energy_Flux100  Exp_Index Extended_Source_Name  Flags  \\\n",
       "Source_Name                                                                \n",
       "3FGL J0425.8+5600    8.321129e-12       -inf                           4   \n",
       "3FGL J0426.7+5437    2.128958e-11       -inf                           0   \n",
       "3FGL J0423.5+5442    1.293986e-11       -inf                           0   \n",
       "\n",
       "                       Flux1000  Flux10000_100000  Flux1000_3000  \\\n",
       "Source_Name                                                        \n",
       "3FGL J0425.8+5600  6.605890e-10      4.340072e-11   3.138084e-10   \n",
       "3FGL J0426.7+5437  2.295638e-09      3.259613e-15   2.690153e-09   \n",
       "3FGL J0423.5+5442  7.461712e-10      1.527913e-11   2.587464e-10   \n",
       "\n",
       "                    Flux100_300  Flux3000_10000  Flux300_1000  Flux30_100  \\\n",
       "Source_Name                                                                 \n",
       "3FGL J0425.8+5600  2.078169e-08    6.243402e-11  2.975179e-09         NaN   \n",
       "3FGL J0426.7+5437  1.657099e-08    1.384689e-10  1.061097e-08         NaN   \n",
       "3FGL J0423.5+5442  2.164329e-08    1.490207e-10  5.135374e-09         NaN   \n",
       "\n",
       "                   Flux_Density  \\\n",
       "Source_Name                       \n",
       "3FGL J0425.8+5600  1.985992e-13   \n",
       "3FGL J0426.7+5437  7.263759e-12   \n",
       "3FGL J0423.5+5442  1.069312e-12   \n",
       "\n",
       "                                                        Flux_History  \\\n",
       "Source_Name                                                            \n",
       "3FGL J0425.8+5600  [2.10069e-08, 0.0, 4.20274e-09, 0.0, 1.62416e-...   \n",
       "3FGL J0426.7+5437  [5.48841e-08, 1.87712e-08, 2.98574e-08, 3.1262...   \n",
       "3FGL J0423.5+5442  [0.0, 3.08672e-08, 0.0, 0.0, 5.42339e-08, 2.62...   \n",
       "\n",
       "                   Flux_Peak      GLAT        GLON  Peak_Interval  \\\n",
       "Source_Name                                                         \n",
       "3FGL J0425.8+5600       -inf  4.750383  149.768005           -inf   \n",
       "3FGL J0426.7+5437       -inf  3.873888  150.867020           -inf   \n",
       "3FGL J0423.5+5442       -inf  3.612116  150.486969           -inf   \n",
       "\n",
       "                   Pivot_Energy  PowerLaw_Index    RAJ2000  ROI_num  \\\n",
       "Source_Name                                                           \n",
       "3FGL J0425.8+5600   1895.994263        2.347609  66.451599      121   \n",
       "3FGL J0426.7+5437    852.094971        2.478879  66.681297      121   \n",
       "3FGL J0423.5+5442   1049.148315        2.625293  65.899597      121   \n",
       "\n",
       "                   Signif_Avg  Signif_Curve  Signif_Peak  Spectral_Index  \\\n",
       "Source_Name                                                                \n",
       "3FGL J0425.8+5600    6.336081      0.105451         -inf        2.347609   \n",
       "3FGL J0426.7+5437   14.194136      7.685437         -inf        2.467036   \n",
       "3FGL J0423.5+5442    4.443939      0.935096         -inf        2.625293   \n",
       "\n",
       "                  SpectrumType  Sqrt_TS10000_100000  Sqrt_TS1000_3000  \\\n",
       "Source_Name                                                             \n",
       "3FGL J0425.8+5600     PowerLaw             4.136577          2.136711   \n",
       "3FGL J0426.7+5437  LogParabola             0.000000         11.326524   \n",
       "3FGL J0423.5+5442     PowerLaw             1.152993          1.197572   \n",
       "\n",
       "                   Sqrt_TS100_300  Sqrt_TS3000_10000  Sqrt_TS300_1000  \\\n",
       "Source_Name                                                             \n",
       "3FGL J0425.8+5600        3.544490           1.966166         3.415236   \n",
       "3FGL J0426.7+5437        3.159402           2.985587         7.313225   \n",
       "3FGL J0423.5+5442        2.345848           3.391431         3.097338   \n",
       "\n",
       "                   Sqrt_TS30_100 TEVCAT_FLAG  Time_Peak  Unc_Cutoff  \\\n",
       "Source_Name                                                           \n",
       "3FGL J0425.8+5600            NaN           N       -inf        -inf   \n",
       "3FGL J0426.7+5437            NaN           N       -inf        -inf   \n",
       "3FGL J0423.5+5442            NaN           N       -inf        -inf   \n",
       "\n",
       "                   Unc_Energy_Flux100  Unc_Exp_Index  Unc_Flux1000  \\\n",
       "Source_Name                                                          \n",
       "3FGL J0425.8+5600        1.803004e-12           -inf  1.173928e-10   \n",
       "3FGL J0426.7+5437        2.688777e-12           -inf  2.180972e-10   \n",
       "3FGL J0423.5+5442        3.064332e-12           -inf  1.617157e-10   \n",
       "\n",
       "                          Unc_Flux10000_100000            Unc_Flux1000_3000  \\\n",
       "Source_Name                                                                   \n",
       "3FGL J0425.8+5600   [-1.7196e-11, 2.21295e-11]  [-1.52066e-10, 1.61211e-10]   \n",
       "3FGL J0426.7+5437           [nan, 1.59648e-11]   [-2.7555e-10, 2.85162e-10]   \n",
       "3FGL J0423.5+5442  [-1.36454e-11, 1.87304e-11]  [-2.17509e-10, 2.26957e-10]   \n",
       "\n",
       "                               Unc_Flux100_300           Unc_Flux3000_10000  \\\n",
       "Source_Name                                                                   \n",
       "3FGL J0425.8+5600  [-5.90011e-09, 5.94908e-09]  [-3.55209e-11, 4.23566e-11]   \n",
       "3FGL J0426.7+5437   [-5.1779e-09, 5.39212e-09]  [-5.28429e-11, 5.96814e-11]   \n",
       "3FGL J0423.5+5442  [-9.24804e-09, 9.27347e-09]  [-5.14642e-11, 5.78599e-11]   \n",
       "\n",
       "                              Unc_Flux300_1000  Unc_Flux30_100  \\\n",
       "Source_Name                                                      \n",
       "3FGL J0425.8+5600  [-8.91388e-10, 9.04291e-10]             NaN   \n",
       "3FGL J0426.7+5437  [-1.53674e-09, 1.53674e-09]             NaN   \n",
       "3FGL J0423.5+5442  [-1.65906e-09, 1.70818e-09]             NaN   \n",
       "\n",
       "                   Unc_Flux_Density  \\\n",
       "Source_Name                           \n",
       "3FGL J0425.8+5600      3.517155e-14   \n",
       "3FGL J0426.7+5437      5.895361e-13   \n",
       "3FGL J0423.5+5442      2.129744e-13   \n",
       "\n",
       "                                                    Unc_Flux_History  \\\n",
       "Source_Name                                                            \n",
       "3FGL J0425.8+5600  [[-1.38949e-08, 1.88575e-08], [nan, 1.64684e-0...   \n",
       "3FGL J0426.7+5437  [[-1.5109e-08, 1.62485e-08], [-1.31111e-08, 1....   \n",
       "3FGL J0423.5+5442  [[nan, 3.62721e-08], [nan, 3.00776e-08], [nan,...   \n",
       "\n",
       "                   Unc_Flux_Peak  Unc_Spectral_Index  Unc_beta  \\\n",
       "Source_Name                                                      \n",
       "3FGL J0425.8+5600           -inf            0.165640      -inf   \n",
       "3FGL J0426.7+5437           -inf            0.119907  0.126830   \n",
       "3FGL J0423.5+5442           -inf            0.151782      -inf   \n",
       "\n",
       "                   Variability_Index      beta  nuFnu10000_100000  \\\n",
       "Source_Name                                                         \n",
       "3FGL J0425.8+5600          51.673359      -inf       6.751109e-13   \n",
       "3FGL J0426.7+5437          51.832188  0.561026       3.020115e-17   \n",
       "3FGL J0423.5+5442          61.846989      -inf       2.159248e-13   \n",
       "\n",
       "                   nuFnu1000_3000  nuFnu100_300  nuFnu3000_10000  \\\n",
       "Source_Name                                                        \n",
       "3FGL J0425.8+5600    7.289679e-13  4.827527e-12     4.116718e-13   \n",
       "3FGL J0426.7+5437    5.752318e-12  4.538752e-12     7.438427e-13   \n",
       "3FGL J0423.5+5442    5.854846e-13  4.897386e-12     9.524551e-13   \n",
       "\n",
       "                   nuFnu300_1000  nuFnu30_100  \n",
       "Source_Name                                    \n",
       "3FGL J0425.8+5600   1.961747e-12          NaN  \n",
       "3FGL J0426.7+5437   7.309950e-12          NaN  \n",
       "3FGL J0423.5+5442   3.282238e-12          NaN  "
      ]
     },
     "execution_count": 6,
     "metadata": {},
     "output_type": "execute_result"
    }
   ],
   "source": [
    "just3"
   ]
  },
  {
   "cell_type": "markdown",
   "metadata": {
    "collapsed": true
   },
   "source": [
    "# J0426 is the pulsar-like source"
   ]
  }
 ],
 "metadata": {
  "kernelspec": {
   "display_name": "Python 2",
   "language": "python",
   "name": "python2"
  },
  "language_info": {
   "codemirror_mode": {
    "name": "ipython",
    "version": 2
   },
   "file_extension": ".py",
   "mimetype": "text/x-python",
   "name": "python",
   "nbconvert_exporter": "python",
   "pygments_lexer": "ipython2",
   "version": "2.7.11"
  }
 },
 "nbformat": 4,
 "nbformat_minor": 0
}
