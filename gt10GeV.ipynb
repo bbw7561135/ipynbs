{
 "cells": [
  {
   "cell_type": "markdown",
   "metadata": {},
   "source": [
    "# > 10 GeV Analysis"
   ]
  },
  {
   "cell_type": "code",
   "execution_count": 206,
   "metadata": {
    "collapsed": false
   },
   "outputs": [],
   "source": [
    "%matplotlib inline\n",
    "import astropy.io.fits as pyfits\n",
    "import pywcs\n",
    "from math import degrees\n",
    "from astropy import units as u\n",
    "from astropy import constants as c\n",
    "from astropy.coordinates import SkyCoord\n",
    "from astropy.coordinates import Angle\n",
    "from astropy.table import Table\n",
    "import yaml\n",
    "import pandas as pd\n",
    "from pandas.tools.plotting import scatter_matrix\n",
    "pd.options.display.mpl_style = 'default'\n",
    "import numpy as np\n",
    "import matplotlib as mpl\n",
    "from mpl_toolkits.axes_grid1 import make_axes_locatable\n",
    "import matplotlib.pyplot as plt\n",
    "import os, sys, re\n",
    "from collections import defaultdict\n",
    "import cPickle as pickle\n",
    "import fnmatch\n",
    "import aplpy\n",
    "import pyregion as pyr\n",
    "from collections import defaultdict\n",
    "from pyJam.utilities.sortNumStrings import *\n",
    "from scipy.spatial.distance import pdist,cdist,squareform\n",
    "import pyJam.utilities.diskGauss_68_99 as dgr68\n",
    "from pyJam.utilities.shiftCmap import * \n",
    "import prettyplotlib as ppl\n",
    "#from PIL import Image as pimage #this doens't work right on OS X?\n",
    "from prettyplotlib import brewer2mpl\n",
    "from IPython.display import display, Image\n",
    "from glob import glob\n",
    "home = os.environ['HOME']\n",
    "desk = os.path.join(home,'Desktop')\n"
   ]
  },
  {
   "cell_type": "code",
   "execution_count": 51,
   "metadata": {
    "collapsed": true
   },
   "outputs": [],
   "source": [
    "def chkSep(cat1,cat2,minSep = 0.2,n = 1):\n",
    "    \"\"\"Don't want any sources too close to each other\n",
    "       astropy.coordinates.match_coordinates_sky employs a kd_tree to check for neareast neighbor in 2 catalogs\n",
    "       cat1/2: must be astopy SkyCorr\n",
    "       minSep: min allowable separation between any two sources\n",
    "       n: nth neighbor. 1 for different catalogs, 2 for comparing the same catalog\n",
    "       return: indMin: index array of # of sources that are overlapping still\n",
    "    \"\"\"\n",
    "\n",
    "    indSep,sep,_ = cat1 .match_to_catalog_sky(cat2,nthneighbor=n) #2 to not check source against itself. indSep is an array with indices for closest neighbor, indSep[1] = 138 means source 1's closest neighbor is source 138 (and vive versa)\n",
    "    indMin = np.where(sep.degree < minSep)\n",
    "\n",
    "    return indMin, indSep, sep"
   ]
  },
  {
   "cell_type": "code",
   "execution_count": 52,
   "metadata": {
    "collapsed": true
   },
   "outputs": [],
   "source": [
    "#write reg file\n",
    "def writeReg(DF,outdir):\n",
    "    \"\"\"\n",
    "    DF: data frame with l,b, sigma columns\n",
    "    \"\"\"\n",
    "    f = open(outdir,'w')\n",
    "    f.write(\"# Region file format: DS9 version 4.0 global \\n\")\n",
    "    #f.write(\"GALACTIC  \\n\")\n",
    "    for name in DF.index:\n",
    "        if 'GLON' in DF.columns or 'l' in DF.columns:\n",
    "            crdsys = 'GALACTIC'\n",
    "            try:\n",
    "                l = DF.loc[name].l\n",
    "                b = DF.loc[name].b\n",
    "            except Exception, e:\n",
    "                l = DF.loc[name].GLON\n",
    "                b = DF.loc[name].GLAT\n",
    "        elif 'RA' in DF.columns or 'ra' in DF.columns:\n",
    "            crdsys = 'fk5'\n",
    "            try:\n",
    "                #Use l,b name even though it's RA/DEC\n",
    "                l = DF.loc[name].RA\n",
    "                b = DF.loc[name].Dec\n",
    "            except Exception, e:\n",
    "                l = DF.loc[name].ra\n",
    "                b = DF.loc[name].dec\n",
    "        try:\n",
    "            sigma = DF.loc[name].Sigma\n",
    "        except Exception, e:\n",
    "            sigma = np.nan\n",
    "        #sigma = DF.loc[name].Sigma\n",
    "        if np.isnan(sigma): #or isinstance(sigma,float):\n",
    "            #f.write( \"galactic; point(\"+str(l)+\",\"+str(b)+\") # point=cross text={\"+name+\"} color=green \\n\")\n",
    "            f.write(crdsys+\"; point(\"+str(l)+\",\"+str(b)+\") # point=cross text={\"+name+\"} color=green \\n\")\n",
    "        elif isinstance(sigma,float):\n",
    "            f.write(crdsys+\";circle(\"+str(l)+\",\"+str(b)+\",\"+str(sigma)+\")  # text={\"+name+\"} color=green \\n\")\n",
    "        else:\n",
    "            f.write(crdsys+\"; circle(\"+str(l)+\",\"+str(b)+\",\"+str(sigma[0])+\")  # text={\"+name+\"} color=green \\n\") #what was this for? when does it get here?\n",
    "    f.close()\n",
    "    return\n",
    "\n",
    "#write reg file for primary (regarding NN plots)\n",
    "def writeRegPrim(DF,outdir):\n",
    "    \"\"\"\n",
    "    DF: data frame with l,b, sigma columns\n",
    "    \"\"\"\n",
    "    f = open(outdir,'w')\n",
    "    f.write(\"# Region file format: DS9 version 4.0 global \\n\")\n",
    "    #f.write(\"GALACTIC  \\n\")\n",
    "    for name in DF.index:\n",
    "        l = DF.loc[name].Primary_l\n",
    "        b = DF.loc[name].Primary_b\n",
    "        sigma = DF.loc[name].Primary_Sigma\n",
    "        if np.isnan(sigma):\n",
    "            #f.write( \"galactic; point(\"+str(l)+\",\"+str(b)+\") # point=cross text={\"+name+\"} color=green \\n\")\n",
    "            f.write(\"GALACTIC; point(\"+str(l)+\",\"+str(b)+\") # point=cross text={\"+name+\"} color=green \\n\")\n",
    "        elif isinstance(sigma,float):\n",
    "            f.write(\"GALACTIC;circle(\"+str(l)+\",\"+str(b)+\",\"+str(sigma)+\")  # text={\"+name+\"} color=green \\n\")\n",
    "        else:\n",
    "            f.write(\"GALACTIC;circle(\"+str(l)+\",\"+str(b)+\",\"+str(sigma[0])+\")  # text={\"+name+\"} color=green \\n\")\n",
    "    f.close()\n",
    "    return"
   ]
  },
  {
   "cell_type": "markdown",
   "metadata": {},
   "source": [
    "## Read in/parse the >10gev yamls"
   ]
  },
  {
   "cell_type": "code",
   "execution_count": 56,
   "metadata": {
    "collapsed": false
   },
   "outputs": [],
   "source": [
    "#galPlaneDir = \"/Users/jmcohen/Desktop/cur/gt10gevRuns/10gev/\"\n",
    "#galPlaneDir = os.path.join(desk,'gt10gev/free_galInd_iso') \n",
    "#use old for now just because it has all the regions\n",
    "galPlaneDir = os.path.join(desk,'gt10gev/old_free_galInd_iso')\n",
    "os.chdir(galPlaneDir)\n",
    "regResDictsFin = {[p for p in os.path.abspath(dirpath).split('/') if p.startswith('Region')][0]:os.path.join(dirpath, f) for dirpath, dirnames, files in os.walk(galPlaneDir) for f in fnmatch.filter(files, 'results_TSgt16_.yaml' %locals())} #this only works if I'm in 2FHL dir\n",
    "regResDictsAll = {[p for p in os.path.abspath(dirpath).split('/') if p.startswith('Region')][0]:os.path.join(dirpath, f) for dirpath, dirnames, files in os.walk(galPlaneDir) for f in fnmatch.filter(files, 'results_.yaml' %locals())} #this only works if I'm in 2FHL dir"
   ]
  },
  {
   "cell_type": "code",
   "execution_count": 57,
   "metadata": {
    "collapsed": false
   },
   "outputs": [
    {
     "data": {
      "text/plain": [
       "{'Region_l0.0_b0.0', 'Region_l30.0_b0.0'}"
      ]
     },
     "execution_count": 57,
     "metadata": {},
     "output_type": "execute_result"
    }
   ],
   "source": [
    "#these are the regions that don't have a final yaml file\n",
    "#Only 2 regions didn't complere for 10gev galInd_isoFree, not sure what happened with l30\n",
    "set(regResDictsAll.keys()).difference(set(regResDictsFin.keys()))\n"
   ]
  },
  {
   "cell_type": "code",
   "execution_count": 58,
   "metadata": {
    "collapsed": false
   },
   "outputs": [],
   "source": [
    "#make a pandas dataPanel with all the yaml info for easy access  \n",
    "#How to merge the final TSgt16 yaml and the resultsYaml? do I really need to? Just make two separate ones?\n",
    "#Just make TSgt16 panel for now\n",
    "\n",
    "#dict with old name in roi and new name\n",
    "oldNewDict = {} #this doesn't get set if I'm loading in pickled file, I should maybe save out \n",
    "\n",
    "if 'resPan' in locals():\n",
    "    del resPan\n",
    "if os.path.exists('./galPlane2FHLResPanelFin.dat'):\n",
    "    print 'addSrcs panel already exists, load pickled file'\n",
    "    resPan = pd.io.pickle.read_pickle('./galPlane2FHLResPanelFin.dat')\n",
    "else:\n",
    "    for reg, yam in regResDictsFin.items():\n",
    "        resYaml = yaml.load(open(yam))\n",
    "        PSind = 1\n",
    "        ESind = 1\n",
    "        glon,glat = os.path.basename(reg).strip('Region_l').replace('b','').split('_')\n",
    "        regStr = 'l%s_b%s_' %(str(int(float(glon))), str(int(float(glat))))\n",
    "        for i,j in resYaml.items():\n",
    "            if type(j) is list:\n",
    "                idx = ['it'+str(x) for x,_ in enumerate(j)]\n",
    "                resYaml[i] = pd.Series(j,name = i,index = idx)\n",
    "            if i.startswith('ES') and j.has_key('Sigma'):#resYaml.get(k).has_key('Sigma'):\n",
    "                resYaml[regStr+'ES_'+str(ESind)] = resYaml.pop(i)\n",
    "                oldNewDict[regStr+'ES_'+str(ESind)] = i\n",
    "                ESind = ESind + 1\n",
    "            elif i.startswith('ES') and not j.has_key('Sigma'):\n",
    "                resYaml[regStr+'PS_'+str(PSind)] = resYaml.pop(i)\n",
    "                oldNewDict[regStr+'PS_'+str(PSind)] = i\n",
    "                PSind = PSind + 1\n",
    "        df = pd.DataFrame(resYaml)\n",
    "        #for the first source, I make a new panel, for every other, I concat the previous panel with the new\n",
    "        #I need a name for the pane\n",
    "        #print df\n",
    "        if not 'resPan' in locals():\n",
    "            resPan = pd.Panel.from_dict({reg: df})\n",
    "        else:\n",
    "            resPan = pd.concat([resPan,pd.Panel.from_dict({reg: df})]) #does this mean concat the resPan in memoery with the file? #if I want to save the panel so I don't have to re make it everything time \n",
    "\n",
    "    #print resPan\n",
    "    resPan.to_pickle('./galPlane2FHLResPanelFin.dat') #save the panel in case I want to use it again.\n",
    "\n",
    "    \n",
    "#####add this above\n",
    "#loop up here too\n",
    "# PSind = 1\n",
    "# ESind = 1\n",
    "# reg,yam = regResDictsFin.items()[18]\n",
    "# l,b = os.path.basename(reg).strip('Region_l').replace('b','').split('_')\n",
    "# regStr = 'l%s_b%s_' %(str(int(float(l))), str(int(float(b))))\n",
    "# resYaml = yaml.load(open(yam))\n",
    "# for i,j in resYaml.items():\n",
    "#     if i.startswith('ES') and j.has_key('Sigma'):#resYaml.get(k).has_key('Sigma'):\n",
    "#         resYaml[regStr+'ES_'+str(PSind)] = resYaml.pop(i)\n",
    "#         ESind = ESind + 1\n",
    "#     elif i.startswith('ES') and not j.has_key('Sigma'):\n",
    "#         resYaml[regStr+'PS_'+str(PSind)] = resYaml.pop(i)\n",
    "#         PSind = PSind + 1\n",
    "# print resYaml.get('l5_b0_ES_1')"
   ]
  },
  {
   "cell_type": "code",
   "execution_count": 59,
   "metadata": {
    "collapsed": false,
    "scrolled": true
   },
   "outputs": [
    {
     "name": "stdout",
     "output_type": "stream",
     "text": [
      "787\n"
     ]
    }
   ],
   "source": [
    "numAllSrcs = len(oldNewDict)\n",
    "print numAllSrcs"
   ]
  },
  {
   "cell_type": "code",
   "execution_count": 60,
   "metadata": {
    "collapsed": false
   },
   "outputs": [
    {
     "data": {
      "text/plain": [
       "70"
      ]
     },
     "execution_count": 60,
     "metadata": {},
     "output_type": "execute_result"
    }
   ],
   "source": [
    "#change number rows displayed in notebook \n",
    "#print pd.options.display.max_rows, pd.options.display.max_columns\n",
    "# find the max dimension between major, minor and itemsand use the max\n",
    "maxl = max([len(resPan.items),len(resPan.major_axis),len(resPan.minor_axis)])\n",
    "#print maxl\n",
    "\n",
    "pd.set_option('display.max_columns', maxl)\n",
    "pd.set_option('display.max_rows', maxl) #I will transpose the frame later\n",
    "# print resPan.describe, '\\n'\n",
    "# print resPan.major_axis, '\\n'\n",
    "# print resPan.minor_axis, '\\n'\n",
    "# print resPan.items, '\\n'\n",
    "len(resPan)"
   ]
  },
  {
   "cell_type": "code",
   "execution_count": null,
   "metadata": {
    "collapsed": false
   },
   "outputs": [],
   "source": [
    "resPan.major_axis"
   ]
  },
  {
   "cell_type": "code",
   "execution_count": 61,
   "metadata": {
    "collapsed": true
   },
   "outputs": [],
   "source": [
    "#I want to make a single DF with all the ES/PS sources and (why not) all their source params (really just want postion, pos err, sigma, sigma  err)\n",
    "#Do I want a single DF or keep as panel?\n",
    "dropList = [s for s in resPan.minor_axis if not s.startswith('l')]\n",
    "keepList = [s for s in resPan.minor_axis if s.startswith('l')]\n",
    "paramList = ['DEC','DECError','RA','RAError','Sigma','SigmaError','Index','IndexError','l','b','TS','TS_ext','Flux','ModCts'] #I don't need index if I have l,b\n",
    "srcPan = resPan.ix[:, paramList,keepList]#.ix[:,:-3,:] #this only works be cause I know the order of the sources and because they're consecutive \n",
    "\n",
    "if 'srcDF' in locals():\n",
    "    del srcDF\n",
    "for f in srcPan.items:\n",
    "    if not 'srcDF' in locals():\n",
    "        srcDF = srcPan[f].transpose().dropna(how = 'all')\n",
    "    else:\n",
    "        srcDF = pd.concat([srcDF,srcPan[f].transpose().dropna(how = 'all')])\n",
    "        \n"
   ]
  },
  {
   "cell_type": "code",
   "execution_count": 62,
   "metadata": {
    "collapsed": false
   },
   "outputs": [],
   "source": [
    "###make a new DF with the pruned sources\n",
    "#crds = SkyCoord(l= l, b = b, frame = 'galactic', unit=(u.degree, u.degree)) #preserves order in sorted(snrSuperData)\n",
    "srcDF_pruned = pd.DataFrame()\n",
    "for i in sorted(srcDF.index):    \n",
    "    #center = i.strip('Region_l').replace('b','').split('_') \n",
    "    #center = SkyCoord(l= float(center[0]), b = float(center[1]), frame = 'galactic', unit=(u.degree, u.degree))\n",
    "    #crds = SkyCoord(l= srcDF.loc[i].l, b = srcDF.loc[i].b, frame = 'galactic', unit=(u.degree, u.degree))\n",
    "    #dist = crds.separation(center).degree\n",
    "    #I don't care about actual distance, just whether it's in the strip of glon\n",
    "    lroi = float(i.strip('Region_l').replace('b','').split('_')[0])\n",
    "    lsrc = srcDF.loc[i].l\n",
    "    dist = np.abs(lroi-lsrc)\n",
    "    if dist < 2.5:\n",
    "        #print \"%s added to pruned, dist = %s \" %(i,dist)\n",
    "        #srcDF_pruned[i].append(srcDF.loc[i])\n",
    "        srcDF_pruned[i] = srcDF.loc[i]\n",
    "    elif dist == 2.5:\n",
    "        #what to do with these? add to pruned but flag somehow\n",
    "        #print \"%s added to pruned, but not sure which overlapping source to keep, dist = %s \" %(i,dist)\n",
    "        srcDF_pruned[i+'_f'] = srcDF.loc[i]\n",
    "        #srcDF_pruned[i + 'f'].append(srcDF.loc[i])\n",
    "        \n",
    "#     else:\n",
    "#         #print \"%s not added to pruned, dist = %s \" %(i,dist)\n",
    "         \n",
    "srcDF_pruned = srcDF_pruned.T\n",
    "oldNewSer = pd.Series(oldNewDict)\n",
    "#add col with name of original ES/PS source\n",
    "#oldNewDict\n",
    "#df['D'] = df['U'].map(d)\n",
    "srcDF_pruned['oldName'] = oldNewSer"
   ]
  },
  {
   "cell_type": "markdown",
   "metadata": {},
   "source": [
    "## Add column with src type to srcDF_pruned. THESE TYPES WERE FOR AN OLD ITERATION AND MAY NOT TYPICALLY APPLY!!!"
   ]
  },
  {
   "cell_type": "code",
   "execution_count": 90,
   "metadata": {
    "collapsed": false
   },
   "outputs": [],
   "source": [
    "srcTypes = {\n",
    "    'l150_b0_ES_1':'SNR',\n",
    "    'l80_b0_ES_1':'SFR',\n",
    "    'l110_b0_ES_1':'SNR',\n",
    "    'l80_b0_ES_2':'SNR',\n",
    "    'l80_b0_ES_3':'PWN',\n",
    "    'l75_b0_PS_8':'SNR',\n",
    "    'l50_b0_ES_1':'SNR',\n",
    "    'l35_b0_ES_1':'PWN',\n",
    "    'l35_b0_ES_2':'SNR',\n",
    "    'l25_b0_ES_5':'PWN',\n",
    "    'l25_b0_ES_4':'SNR',\n",
    "    'l25_b0_ES_2':'UNK',\n",
    "    'l25_b0_ES_3':'COM',\n",
    "    'l20_b0_ES_6':'PWN',\n",
    "    'l15_b0_ES_1':'UNK',\n",
    "    'l10_b0_ES_2':'SNR',\n",
    "    'l5_b0_ES_2':'SNR',\n",
    "    'l355_b0_ES_2':'UNK',\n",
    "    'l5_b0_ES_1':'SNR',\n",
    "    'l350_b0_ES_2':'SNR',\n",
    "    'l345_b0_ES_2':'SNR',\n",
    "    'l340_b0_ES_3':'UNK',\n",
    "    'l340_b0_ES_1':'UNK',\n",
    "    'l340_b0_ES_4':'SNR',\n",
    "    'l335_b0_ES_3':'PWN',\n",
    "    'l335_b0_ES_7':'UNK',\n",
    "    'l330_b0_ES_5':'PWN',\n",
    "    'l335_b0_ES_2':'PWN',\n",
    "    'l330_b0_ES_2':'UNK',\n",
    "    'l325_b0_ES_4':'COM',\n",
    "    'l320_b0_ES_5':'PWN',\n",
    "    'l320_b0_ES_2':'PWN',\n",
    "    'l315_b0_ES_6':'SNR',\n",
    "    'l315_b0_ES_1':'PWN',\n",
    "    'l310_b0_ES_5':'UNK',\n",
    "    'l310_b0_ES_1':'PWN',\n",
    "    'l305_b0_ES_2':'PWN',\n",
    "    'l300_b0_ES_1':'UNK',\n",
    "    'l290_b0_ES_1':'COM',\n",
    "    'l285_b0_ES_3':'UNK',\n",
    "    'l285_b0_ES_4':'UNK',\n",
    "    'l285_b0_ES_2':'UNK',\n",
    "    'l265_b0_ES_4':'SNR',\n",
    "    'l265_b0_ES_1':'UNK',\n",
    "    'l265_b0_ES_2':'PWN',\n",
    "    'l260_b0_ES_4':'SNR',\n",
    "    'l190_b0_ES_2':'SNR',\n",
    "    'l190_b0_ES_3':'UNK',\n",
    "    'l185_b0_ES_1':'UNK'\n",
    "}\n",
    "\n",
    "srcTypeSer = pd.Series(srcTypes)\n",
    "srcDF_pruned['srcType'] = srcTypeSer\n"
   ]
  },
  {
   "cell_type": "code",
   "execution_count": null,
   "metadata": {
    "collapsed": false,
    "scrolled": true
   },
   "outputs": [],
   "source": [
    "#This was just for looking at the sources near S147\n",
    "# s147Srcs = ['l180_b0_PS_10','l180_b0_PS_6','l180_b0_PS_11','l180_b0_PS_3']\n",
    "# srcDF_pruned.loc[s147Srcs]"
   ]
  },
  {
   "cell_type": "code",
   "execution_count": 64,
   "metadata": {
    "collapsed": false,
    "scrolled": true
   },
   "outputs": [
    {
     "name": "stdout",
     "output_type": "stream",
     "text": [
      "Total number of TS  >= 16 sources after pruning: 280\n",
      "Total number of TS  >= 16 extended sources after pruning: 38\n",
      "Total number of TS  >= 16 point sources after pruning: 242\n"
     ]
    }
   ],
   "source": [
    "print \"Total number of TS  >= 16 sources after pruning:\",len(srcDF_pruned)\n",
    "print \"Total number of TS  >= 16 extended sources after pruning:\",len(srcDF_pruned.Sigma.dropna())\n",
    "print \"Total number of TS  >= 16 point sources after pruning:\",len(srcDF_pruned[srcDF_pruned.Sigma.isnull()]) #should be safe to assume that total minu\n",
    "#srcDF_pruned\n"
   ]
  },
  {
   "cell_type": "code",
   "execution_count": 65,
   "metadata": {
    "collapsed": false
   },
   "outputs": [
    {
     "data": {
      "text/plain": [
       "38"
      ]
     },
     "execution_count": 65,
     "metadata": {},
     "output_type": "execute_result"
    }
   ],
   "source": [
    "len(srcDF_pruned.Sigma.dropna()) #is this lower because I'm missing l30 + I lost some ES on top of PSRs? were there really that many?"
   ]
  },
  {
   "cell_type": "markdown",
   "metadata": {},
   "source": [
    "# Make some hists for all TS > 25 sources"
   ]
  },
  {
   "cell_type": "code",
   "execution_count": 92,
   "metadata": {
    "collapsed": false,
    "scrolled": true
   },
   "outputs": [],
   "source": [
    "srcDF_pruned_ts25 = srcDF_pruned[srcDF_pruned.TS >= 25]\n",
    "srcDF_pruned_ts25[srcDF_pruned_ts25.Sigma.notnull()].sort('Sigma')"
   ]
  },
  {
   "cell_type": "code",
   "execution_count": 93,
   "metadata": {
    "collapsed": false,
    "scrolled": true
   },
   "outputs": [
    {
     "name": "stdout",
     "output_type": "stream",
     "text": [
      "Total number of TS  >= 25 sources after pruning: 173\n",
      "Total number of TS  >= 25 extended sources after pruning: 38\n",
      "Total number of TS  >= 25 point sources after pruning: 135\n"
     ]
    }
   ],
   "source": [
    "print \"Total number of TS  >= 25 sources after pruning:\",len(srcDF_pruned_ts25)\n",
    "print \"Total number of TS  >= 25 extended sources after pruning:\",len(srcDF_pruned_ts25.Sigma.dropna())\n",
    "print \"Total number of TS  >= 25 point sources after pruning:\",len(srcDF_pruned_ts25[srcDF_pruned_ts25.Sigma.isnull()]) #should be safe to assume that total minu\n",
    "#srcDF_pruned_ts25"
   ]
  },
  {
   "cell_type": "code",
   "execution_count": 86,
   "metadata": {
    "collapsed": false,
    "scrolled": false
   },
   "outputs": [
    {
     "name": "stdout",
     "output_type": "stream",
     "text": [
      "/Users/elunejava/Desktop/gt10gev/old_free_galInd_iso\n"
     ]
    }
   ],
   "source": [
    "#same but get rid of TS < 16\n",
    "#len(srcDF_pruned[srcDF_pruned.TS >= 25])\n",
    "os.chdir(galPlaneDir)\n",
    "print os.getcwd()\n",
    "outdir = os.path.join(galPlaneDir,'prunedTSlt25Srcs.reg')\n",
    "writeReg(srcDF_pruned[srcDF_pruned.TS >= 25],outdir) "
   ]
  },
  {
   "cell_type": "code",
   "execution_count": null,
   "metadata": {
    "collapsed": false
   },
   "outputs": [],
   "source": [
    "srcDF_pruned.columns"
   ]
  },
  {
   "cell_type": "code",
   "execution_count": 94,
   "metadata": {
    "collapsed": false
   },
   "outputs": [
    {
     "data": {
      "text/plain": [
       "<matplotlib.text.Text at 0x11a8f4590>"
      ]
     },
     "execution_count": 94,
     "metadata": {},
     "output_type": "execute_result"
    },
    {
     "data": {
      "image/png": "[encoded data removed]",
      "text/plain": [
       "<matplotlib.figure.Figure at 0x11c1a1350>"
      ]
     },
     "metadata": {},
     "output_type": "display_data"
    }
   ],
   "source": [
    "#Index for all TS >= 25 sources\n",
    "srcDF_pruned_ts25.Index = srcDF_pruned_ts25.Index.apply((lambda x: x[0])) #the x[0] is just because I might have a list and not just a value\n",
    "srcDF_pruned_ts25.hist('Index',figsize=[10,8])\n",
    "plt.title('All Sources: TS > 25')"
   ]
  },
  {
   "cell_type": "markdown",
   "metadata": {},
   "source": [
    "# Make DF for just ES"
   ]
  },
  {
   "cell_type": "code",
   "execution_count": 95,
   "metadata": {
    "collapsed": true
   },
   "outputs": [],
   "source": [
    "srcDF_pruned_ts25_ES = srcDF_pruned_ts25[srcDF_pruned_ts25.Sigma.notnull()]"
   ]
  },
  {
   "cell_type": "code",
   "execution_count": 96,
   "metadata": {
    "collapsed": false,
    "scrolled": true
   },
   "outputs": [
    {
     "data": {
      "text/html": [
       "<div>\n",
       "<table border=\"1\" class=\"dataframe\">\n",
       "  <thead>\n",
       "    <tr style=\"text-align: right;\">\n",
       "      <th></th>\n",
       "      <th>DEC</th>\n",
       "      <th>DECError</th>\n",
       "      <th>RA</th>\n",
       "      <th>RAError</th>\n",
       "      <th>Sigma</th>\n",
       "      <th>SigmaError</th>\n",
       "      <th>Index</th>\n",
       "      <th>IndexError</th>\n",
       "      <th>l</th>\n",
       "      <th>b</th>\n",
       "      <th>TS</th>\n",
       "      <th>TS_ext</th>\n",
       "      <th>Flux</th>\n",
       "      <th>ModCts</th>\n",
       "      <th>oldName</th>\n",
       "      <th>srcType</th>\n",
       "    </tr>\n",
       "  </thead>\n",
       "  <tbody>\n",
       "    <tr>\n",
       "      <th>l340_b0_ES_4</th>\n",
       "      <td>[-46.5706060357]</td>\n",
       "      <td>[0.00864668757853]</td>\n",
       "      <td>[250.164957561]</td>\n",
       "      <td>[0.00906573653303]</td>\n",
       "      <td>[0.0691547350759]</td>\n",
       "      <td>[0.0119669687163]</td>\n",
       "      <td>1.947668</td>\n",
       "      <td>[0.129785986925]</td>\n",
       "      <td>338.2803</td>\n",
       "      <td>-0.03792805</td>\n",
       "      <td>167.4304</td>\n",
       "      <td>16.14982</td>\n",
       "      <td>3.520254e-10</td>\n",
       "      <td>115.3864</td>\n",
       "      <td>ES_2_Region_l340.0_b0.0</td>\n",
       "      <td>SNR</td>\n",
       "    </tr>\n",
       "    <tr>\n",
       "      <th>l335_b0_ES_2</th>\n",
       "      <td>[-48.0060652661]</td>\n",
       "      <td>[0.0189754550787]</td>\n",
       "      <td>[247.990778844]</td>\n",
       "      <td>[0.0245925022992]</td>\n",
       "      <td>[0.181199071482]</td>\n",
       "      <td>[0.0175917873024]</td>\n",
       "      <td>1.637522</td>\n",
       "      <td>[0.16381895191]</td>\n",
       "      <td>336.2263</td>\n",
       "      <td>0.08703445</td>\n",
       "      <td>35.93993</td>\n",
       "      <td>17.58692</td>\n",
       "      <td>2.307711e-10</td>\n",
       "      <td>76.32544</td>\n",
       "      <td>ES_20_Region_l335.0_b0.0</td>\n",
       "      <td>PWN</td>\n",
       "    </tr>\n",
       "    <tr>\n",
       "      <th>l335_b0_ES_4</th>\n",
       "      <td>[-47.0872272031]</td>\n",
       "      <td>[0.0764817282049]</td>\n",
       "      <td>[249.102902569]</td>\n",
       "      <td>[0.123490969335]</td>\n",
       "      <td>[0.575983971111]</td>\n",
       "      <td>[0.0687432802336]</td>\n",
       "      <td>2.713738</td>\n",
       "      <td>[0.241762881184]</td>\n",
       "      <td>337.4106</td>\n",
       "      <td>0.1581343</td>\n",
       "      <td>50.98066</td>\n",
       "      <td>24.7938</td>\n",
       "      <td>5.92939e-10</td>\n",
       "      <td>193.666</td>\n",
       "      <td>ES_14_Region_l335.0_b0.0</td>\n",
       "      <td>NaN</td>\n",
       "    </tr>\n",
       "    <tr>\n",
       "      <th>l320_b0_ES_5</th>\n",
       "      <td>[-62.467107459]</td>\n",
       "      <td>[0.0245090298939]</td>\n",
       "      <td>[226.975212889]</td>\n",
       "      <td>[0.0311563430255]</td>\n",
       "      <td>[0.360158205921]</td>\n",
       "      <td>[0.0209698161493]</td>\n",
       "      <td>1.963104</td>\n",
       "      <td>[0.160115598815]</td>\n",
       "      <td>317.9901</td>\n",
       "      <td>-3.654492</td>\n",
       "      <td>101.3863</td>\n",
       "      <td>36.37666</td>\n",
       "      <td>1.85696e-10</td>\n",
       "      <td>65.32718</td>\n",
       "      <td>ES_5_Region_l320.0_b0.0</td>\n",
       "      <td>PWN</td>\n",
       "    </tr>\n",
       "    <tr>\n",
       "      <th>l350_b0_ES_2</th>\n",
       "      <td>[-38.3932832437]</td>\n",
       "      <td>[0.017301402631]</td>\n",
       "      <td>[258.569989388]</td>\n",
       "      <td>[0.0210495492556]</td>\n",
       "      <td>[0.257685914762]</td>\n",
       "      <td>[0.0167831524999]</td>\n",
       "      <td>2.365413</td>\n",
       "      <td>[0.158210021274]</td>\n",
       "      <td>348.5257</td>\n",
       "      <td>0.2141185</td>\n",
       "      <td>139.2472</td>\n",
       "      <td>37.53249</td>\n",
       "      <td>4.749195e-10</td>\n",
       "      <td>151.7422</td>\n",
       "      <td>ES_2_Region_l350.0_b0.0</td>\n",
       "      <td>SNR</td>\n",
       "    </tr>\n",
       "    <tr>\n",
       "      <th>l35_b0_ES_1</th>\n",
       "      <td>[2.78535711133]</td>\n",
       "      <td>[0.0364265513562]</td>\n",
       "      <td>[284.414374281]</td>\n",
       "      <td>[0.0394344869635]</td>\n",
       "      <td>[0.483061916042]</td>\n",
       "      <td>[0.0279558733466]</td>\n",
       "      <td>1.843526</td>\n",
       "      <td>[0.0]</td>\n",
       "      <td>36.12006</td>\n",
       "      <td>-0.1127015</td>\n",
       "      <td>61.76684</td>\n",
       "      <td>38.63192</td>\n",
       "      <td>4.288029e-10</td>\n",
       "      <td>125.5085</td>\n",
       "      <td>ES_6_Region_l35.0_b0.0</td>\n",
       "      <td>PWN</td>\n",
       "    </tr>\n",
       "    <tr>\n",
       "      <th>l310_b0_ES_2</th>\n",
       "      <td>[-64.3459012554]</td>\n",
       "      <td>[0.0247068450884]</td>\n",
       "      <td>[208.806478114]</td>\n",
       "      <td>[0.0268727574207]</td>\n",
       "      <td>[0.409326885364]</td>\n",
       "      <td>[0.0211316852342]</td>\n",
       "      <td>1.331025</td>\n",
       "      <td>[0.138125140052]</td>\n",
       "      <td>309.7694</td>\n",
       "      <td>-2.324294</td>\n",
       "      <td>89.92603</td>\n",
       "      <td>40.4061</td>\n",
       "      <td>1.47502e-10</td>\n",
       "      <td>51.41075</td>\n",
       "      <td>ES_10_Region_l310.0_b0.0</td>\n",
       "      <td>NaN</td>\n",
       "    </tr>\n",
       "    <tr>\n",
       "      <th>l305_b0_ES_3</th>\n",
       "      <td>[-63.2219050278]</td>\n",
       "      <td>[0.0247523242688]</td>\n",
       "      <td>[195.876811778]</td>\n",
       "      <td>[0.0216255167599]</td>\n",
       "      <td>[0.327939211608]</td>\n",
       "      <td>[0.0193332086216]</td>\n",
       "      <td>1.798869</td>\n",
       "      <td>[0.125507919256]</td>\n",
       "      <td>304.2913</td>\n",
       "      <td>-0.3820614</td>\n",
       "      <td>95.18192</td>\n",
       "      <td>41.32028</td>\n",
       "      <td>2.962351e-10</td>\n",
       "      <td>102.2553</td>\n",
       "      <td>ES_5_Region_l305.0_b0.0</td>\n",
       "      <td>NaN</td>\n",
       "    </tr>\n",
       "    <tr>\n",
       "      <th>l25_b0_ES_2</th>\n",
       "      <td>[-8.79830804694]</td>\n",
       "      <td>[0.0230253760307]</td>\n",
       "      <td>[278.697949134]</td>\n",
       "      <td>[0.0215611008837]</td>\n",
       "      <td>[0.285938411697]</td>\n",
       "      <td>[0.0189365771786]</td>\n",
       "      <td>1.920302</td>\n",
       "      <td>[0.0]</td>\n",
       "      <td>23.21238</td>\n",
       "      <td>-0.3394797</td>\n",
       "      <td>81.91075</td>\n",
       "      <td>41.59791</td>\n",
       "      <td>4.381188e-10</td>\n",
       "      <td>128.6954</td>\n",
       "      <td>ES_4_Region_l25.0_b0.0</td>\n",
       "      <td>UNK</td>\n",
       "    </tr>\n",
       "    <tr>\n",
       "      <th>l190_b0_ES_2</th>\n",
       "      <td>[22.0734626858]</td>\n",
       "      <td>[0.0357439469317]</td>\n",
       "      <td>[94.6677242912]</td>\n",
       "      <td>[0.04776165325]</td>\n",
       "      <td>[0.803893925071]</td>\n",
       "      <td>[0.0305515615055]</td>\n",
       "      <td>1.813881</td>\n",
       "      <td>[0.168025432293]</td>\n",
       "      <td>189.6517</td>\n",
       "      <td>3.08655</td>\n",
       "      <td>50.63501</td>\n",
       "      <td>48.78717</td>\n",
       "      <td>2.299711e-10</td>\n",
       "      <td>65.55793</td>\n",
       "      <td>ES_9_Region_l190.0_b0.0</td>\n",
       "      <td>SNR</td>\n",
       "    </tr>\n",
       "    <tr>\n",
       "      <th>l25_b0_ES_3</th>\n",
       "      <td>[-7.05142850805]</td>\n",
       "      <td>[0.0297209243102]</td>\n",
       "      <td>[279.740261372]</td>\n",
       "      <td>[0.0239298940213]</td>\n",
       "      <td>[0.524217788722]</td>\n",
       "      <td>[0.0208748968375]</td>\n",
       "      <td>1.860567</td>\n",
       "      <td>[0.100751873505]</td>\n",
       "      <td>25.23831</td>\n",
       "      <td>-0.4537752</td>\n",
       "      <td>118.1783</td>\n",
       "      <td>55.03411</td>\n",
       "      <td>7.278795e-10</td>\n",
       "      <td>212.9882</td>\n",
       "      <td>ES_5_Region_l25.0_b0.0</td>\n",
       "      <td>COM</td>\n",
       "    </tr>\n",
       "    <tr>\n",
       "      <th>l315_b0_ES_1</th>\n",
       "      <td>[-62.459771591]</td>\n",
       "      <td>[0.0235958763496]</td>\n",
       "      <td>[220.795325972]</td>\n",
       "      <td>[0.0263274911846]</td>\n",
       "      <td>[0.365399633104]</td>\n",
       "      <td>[0.0205544169516]</td>\n",
       "      <td>1.698919</td>\n",
       "      <td>[0.125054482978]</td>\n",
       "      <td>315.4531</td>\n",
       "      <td>-2.336197</td>\n",
       "      <td>133.2969</td>\n",
       "      <td>79.25172</td>\n",
       "      <td>2.164249e-10</td>\n",
       "      <td>75.82496</td>\n",
       "      <td>ES_8_Region_l315.0_b0.0</td>\n",
       "      <td>PWN</td>\n",
       "    </tr>\n",
       "    <tr>\n",
       "      <th>l15_b0_ES_3</th>\n",
       "      <td>[-14.7314325148]</td>\n",
       "      <td>[0.0370868640814]</td>\n",
       "      <td>[277.372272876]</td>\n",
       "      <td>[0.0624224494169]</td>\n",
       "      <td>[1.11550185193]</td>\n",
       "      <td>[0.0384835780442]</td>\n",
       "      <td>1.803777</td>\n",
       "      <td>[0.112688315823]</td>\n",
       "      <td>17.34929</td>\n",
       "      <td>-1.928344</td>\n",
       "      <td>104.9211</td>\n",
       "      <td>84.24376</td>\n",
       "      <td>6.161312e-10</td>\n",
       "      <td>183.7488</td>\n",
       "      <td>ES_10_Region_l15.0_b0.0</td>\n",
       "      <td>NaN</td>\n",
       "    </tr>\n",
       "    <tr>\n",
       "      <th>l20_b0_ES_2</th>\n",
       "      <td>[-13.7057329605]</td>\n",
       "      <td>[0.245656294043]</td>\n",
       "      <td>[275.821038432]</td>\n",
       "      <td>[0.393967612195]</td>\n",
       "      <td>[0.899191551115]</td>\n",
       "      <td>[0.0188210951824]</td>\n",
       "      <td>1.914368</td>\n",
       "      <td>[0.0767925273695]</td>\n",
       "      <td>17.5563</td>\n",
       "      <td>-0.1199481</td>\n",
       "      <td>126.8525</td>\n",
       "      <td>86.46086</td>\n",
       "      <td>1.505347e-09</td>\n",
       "      <td>448.8692</td>\n",
       "      <td>ES_2_Region_l20.0_b0.0</td>\n",
       "      <td>NaN</td>\n",
       "    </tr>\n",
       "    <tr>\n",
       "      <th>l330_b0_ES_6</th>\n",
       "      <td>[-53.4273256469]</td>\n",
       "      <td>[0.0276843478261]</td>\n",
       "      <td>[238.449316271]</td>\n",
       "      <td>[0.0244142844344]</td>\n",
       "      <td>[0.517923200889]</td>\n",
       "      <td>[0.0194774635855]</td>\n",
       "      <td>2.511011</td>\n",
       "      <td>[0.155968955901]</td>\n",
       "      <td>328.1238</td>\n",
       "      <td>0.280133</td>\n",
       "      <td>127.0457</td>\n",
       "      <td>92.14767</td>\n",
       "      <td>7.826014e-10</td>\n",
       "      <td>265.706</td>\n",
       "      <td>ES_11_Region_l330.0_b0.0</td>\n",
       "      <td>NaN</td>\n",
       "    </tr>\n",
       "    <tr>\n",
       "      <th>l285_b0_ES_2</th>\n",
       "      <td>[-59.4020699272]</td>\n",
       "      <td>[0.0310325094858]</td>\n",
       "      <td>[160.124575499]</td>\n",
       "      <td>[0.0914251859319]</td>\n",
       "      <td>[4.39088750798]</td>\n",
       "      <td>[0.0175318528003]</td>\n",
       "      <td>2.003127</td>\n",
       "      <td>[0.0844666892163]</td>\n",
       "      <td>286.9545</td>\n",
       "      <td>-0.6546853</td>\n",
       "      <td>173.1454</td>\n",
       "      <td>121.3371</td>\n",
       "      <td>2.039388e-09</td>\n",
       "      <td>679.0628</td>\n",
       "      <td>ES_19_Region_l285.0_b0.0</td>\n",
       "      <td>UNK</td>\n",
       "    </tr>\n",
       "    <tr>\n",
       "      <th>l25_b0_ES_4</th>\n",
       "      <td>[-5.51773811038]</td>\n",
       "      <td>[0.0251505932459]</td>\n",
       "      <td>[280.143380866]</td>\n",
       "      <td>[0.0257482212925]</td>\n",
       "      <td>[0.721996543058]</td>\n",
       "      <td>[0.0216204052551]</td>\n",
       "      <td>1.947512</td>\n",
       "      <td>[0.0]</td>\n",
       "      <td>26.78514</td>\n",
       "      <td>-0.1071708</td>\n",
       "      <td>163.8871</td>\n",
       "      <td>125.1994</td>\n",
       "      <td>1.149206e-09</td>\n",
       "      <td>335.8923</td>\n",
       "      <td>ES_3_Region_l25.0_b0.0</td>\n",
       "      <td>SNR</td>\n",
       "    </tr>\n",
       "    <tr>\n",
       "      <th>l275_b0_ES_1</th>\n",
       "      <td>[-57.5878973028]</td>\n",
       "      <td>[0.0132620993743]</td>\n",
       "      <td>[136.212890464]</td>\n",
       "      <td>[0.0144360518493]</td>\n",
       "      <td>[0.0652961058343]</td>\n",
       "      <td>[0.00962742438062]</td>\n",
       "      <td>2.492917</td>\n",
       "      <td>[0.288766468937]</td>\n",
       "      <td>276.1161</td>\n",
       "      <td>-7.046258</td>\n",
       "      <td>144.4994</td>\n",
       "      <td>141.7788</td>\n",
       "      <td>1.057117e-10</td>\n",
       "      <td>34.85968</td>\n",
       "      <td>ES_1_Region_l275.0_b0.0</td>\n",
       "      <td>NaN</td>\n",
       "    </tr>\n",
       "    <tr>\n",
       "      <th>l265_b0_ES_1</th>\n",
       "      <td>[-45.6145351945]</td>\n",
       "      <td>[0.0611634200204]</td>\n",
       "      <td>[128.826740173]</td>\n",
       "      <td>[0.0440771839896]</td>\n",
       "      <td>[2.36504990068]</td>\n",
       "      <td>[0.00969248340282]</td>\n",
       "      <td>2.047221</td>\n",
       "      <td>[0.0902909826995]</td>\n",
       "      <td>263.8999</td>\n",
       "      <td>-3.054572</td>\n",
       "      <td>174.6367</td>\n",
       "      <td>141.9629</td>\n",
       "      <td>1.299285e-09</td>\n",
       "      <td>390.2191</td>\n",
       "      <td>ES_4_Region_l265.0_b0.0</td>\n",
       "      <td>UNK</td>\n",
       "    </tr>\n",
       "    <tr>\n",
       "      <th>l330_b0_ES_3</th>\n",
       "      <td>[-50.9149878383]</td>\n",
       "      <td>[0.0212152096321]</td>\n",
       "      <td>[244.33096972]</td>\n",
       "      <td>[0.023572350694]</td>\n",
       "      <td>[0.467021756134]</td>\n",
       "      <td>[0.0164969736204]</td>\n",
       "      <td>1.996393</td>\n",
       "      <td>[0.0846286752596]</td>\n",
       "      <td>332.485</td>\n",
       "      <td>-0.2534201</td>\n",
       "      <td>249.9725</td>\n",
       "      <td>144.428</td>\n",
       "      <td>1.036496e-09</td>\n",
       "      <td>349.1878</td>\n",
       "      <td>ES_7_Region_l330.0_b0.0</td>\n",
       "      <td>NaN</td>\n",
       "    </tr>\n",
       "    <tr>\n",
       "      <th>l150_b0_ES_1</th>\n",
       "      <td>[55.5554841861]</td>\n",
       "      <td>[0.0488721176337]</td>\n",
       "      <td>[66.8159157048]</td>\n",
       "      <td>[0.0404450148979]</td>\n",
       "      <td>[1.50964301734]</td>\n",
       "      <td>[0.0313905784976]</td>\n",
       "      <td>1.864786</td>\n",
       "      <td>[0.0909019399864]</td>\n",
       "      <td>150.2419</td>\n",
       "      <td>4.579911</td>\n",
       "      <td>206.6012</td>\n",
       "      <td>158.7904</td>\n",
       "      <td>5.520578e-10</td>\n",
       "      <td>210.0308</td>\n",
       "      <td>ES_4_Region_l150.0_b0.0</td>\n",
       "      <td>SNR</td>\n",
       "    </tr>\n",
       "    <tr>\n",
       "      <th>l345_b0_ES_2</th>\n",
       "      <td>[-39.9015322453]</td>\n",
       "      <td>[0.0439280635229]</td>\n",
       "      <td>[258.595614351]</td>\n",
       "      <td>[0.0934484992134]</td>\n",
       "      <td>[0.633722040361]</td>\n",
       "      <td>[0.0176641210545]</td>\n",
       "      <td>1.815334</td>\n",
       "      <td>[0.0771612233278]</td>\n",
       "      <td>347.3137</td>\n",
       "      <td>-0.683764</td>\n",
       "      <td>231.8613</td>\n",
       "      <td>167.4564</td>\n",
       "      <td>8.846267e-10</td>\n",
       "      <td>283.9192</td>\n",
       "      <td>ES_4_Region_l345.0_b0.0</td>\n",
       "      <td>SNR</td>\n",
       "    </tr>\n",
       "    <tr>\n",
       "      <th>l340_b0_ES_3</th>\n",
       "      <td>[-46.6459702373]</td>\n",
       "      <td>[0.0409690584764]</td>\n",
       "      <td>[253.320000457]</td>\n",
       "      <td>[0.0303828462679]</td>\n",
       "      <td>[0.897525998969]</td>\n",
       "      <td>[0.0226687961186]</td>\n",
       "      <td>2.142382</td>\n",
       "      <td>[0.0969880481835]</td>\n",
       "      <td>339.6266</td>\n",
       "      <td>-1.738231</td>\n",
       "      <td>234.4399</td>\n",
       "      <td>170.1476</td>\n",
       "      <td>1.086108e-09</td>\n",
       "      <td>355.9131</td>\n",
       "      <td>ES_6_Region_l340.0_b0.0</td>\n",
       "      <td>UNK</td>\n",
       "    </tr>\n",
       "    <tr>\n",
       "      <th>l50_b0_ES_1</th>\n",
       "      <td>[14.1473758337]</td>\n",
       "      <td>[0.0110891337074]</td>\n",
       "      <td>[290.808642599]</td>\n",
       "      <td>[0.0112244748622]</td>\n",
       "      <td>[0.26554971689]</td>\n",
       "      <td>[0.0107679226519]</td>\n",
       "      <td>2.578076</td>\n",
       "      <td>[0.100968881398]</td>\n",
       "      <td>49.11406</td>\n",
       "      <td>-0.4527086</td>\n",
       "      <td>551.0873</td>\n",
       "      <td>290.7295</td>\n",
       "      <td>1.217349e-09</td>\n",
       "      <td>362.4421</td>\n",
       "      <td>ES_4_Region_l50.0_b0.0</td>\n",
       "      <td>SNR</td>\n",
       "    </tr>\n",
       "    <tr>\n",
       "      <th>l285_b0_ES_1</th>\n",
       "      <td>[-58.612390809]</td>\n",
       "      <td>[0.00855636323058]</td>\n",
       "      <td>[157.814435432]</td>\n",
       "      <td>[0.00302901058849]</td>\n",
       "      <td>[2.0427466696]</td>\n",
       "      <td>[0.00813649707572]</td>\n",
       "      <td>1.996678</td>\n",
       "      <td>[0.0594166447178]</td>\n",
       "      <td>285.5299</td>\n",
       "      <td>-0.5595242</td>\n",
       "      <td>382.6121</td>\n",
       "      <td>378.1846</td>\n",
       "      <td>2.229589e-09</td>\n",
       "      <td>739.8323</td>\n",
       "      <td>ES_7_Region_l285.0_b0.0</td>\n",
       "      <td>NaN</td>\n",
       "    </tr>\n",
       "    <tr>\n",
       "      <th>l335_b0_ES_6</th>\n",
       "      <td>[-47.730327519]</td>\n",
       "      <td>[0.0199734975717]</td>\n",
       "      <td>[248.369522476]</td>\n",
       "      <td>[0.0241935886424]</td>\n",
       "      <td>[0.641302423741]</td>\n",
       "      <td>[0.0264253459734]</td>\n",
       "      <td>2.139363</td>\n",
       "      <td>[0.0654085596149]</td>\n",
       "      <td>336.6012</td>\n",
       "      <td>0.08897627</td>\n",
       "      <td>411.6425</td>\n",
       "      <td>418.4795</td>\n",
       "      <td>2.118224e-09</td>\n",
       "      <td>699.6834</td>\n",
       "      <td>ES_5_Region_l335.0_b0.0</td>\n",
       "      <td>NaN</td>\n",
       "    </tr>\n",
       "    <tr>\n",
       "      <th>l5_b0_ES_1</th>\n",
       "      <td>[-23.7133632964]</td>\n",
       "      <td>[0.0183004348124]</td>\n",
       "      <td>[270.139966106]</td>\n",
       "      <td>[0.0186476043859]</td>\n",
       "      <td>[0.623011751747]</td>\n",
       "      <td>[0.0132514405136]</td>\n",
       "      <td>2.481882</td>\n",
       "      <td>[0.0824387382736]</td>\n",
       "      <td>6.198729</td>\n",
       "      <td>-0.2275761</td>\n",
       "      <td>654.9383</td>\n",
       "      <td>465.4036</td>\n",
       "      <td>2.003466e-09</td>\n",
       "      <td>617.9777</td>\n",
       "      <td>ES_4_Region_l5.0_b0.0</td>\n",
       "      <td>SNR</td>\n",
       "    </tr>\n",
       "    <tr>\n",
       "      <th>l190_b0_ES_1</th>\n",
       "      <td>[22.5838018325]</td>\n",
       "      <td>[0.00702383298504]</td>\n",
       "      <td>[94.3034005085]</td>\n",
       "      <td>[0.00705503402477]</td>\n",
       "      <td>[0.327530072884]</td>\n",
       "      <td>[0.00651575951193]</td>\n",
       "      <td>2.557896</td>\n",
       "      <td>[0.0618091478873]</td>\n",
       "      <td>189.0419</td>\n",
       "      <td>3.030126</td>\n",
       "      <td>1875.537</td>\n",
       "      <td>1074.161</td>\n",
       "      <td>2.717483e-09</td>\n",
       "      <td>772.7134</td>\n",
       "      <td>ES_2_Region_l190.0_b0.0</td>\n",
       "      <td>NaN</td>\n",
       "    </tr>\n",
       "    <tr>\n",
       "      <th>l110_b0_ES_1</th>\n",
       "      <td>[58.9209323239]</td>\n",
       "      <td>[0.0225780733651]</td>\n",
       "      <td>[345.495313816]</td>\n",
       "      <td>[0.0256791695877]</td>\n",
       "      <td>[0.247584462774]</td>\n",
       "      <td>[0.0193696817966]</td>\n",
       "      <td>1.878735</td>\n",
       "      <td>[0.189986222768]</td>\n",
       "      <td>109.2043</td>\n",
       "      <td>-1.00224</td>\n",
       "      <td>53.82301</td>\n",
       "      <td>[24.2497545738, 24.4194431134, 24.391548814]</td>\n",
       "      <td>1.019735e-10</td>\n",
       "      <td>39.04891</td>\n",
       "      <td>ES_5_Region_l110.0_b0.0</td>\n",
       "      <td>SNR</td>\n",
       "    </tr>\n",
       "    <tr>\n",
       "      <th>l300_b0_ES_1</th>\n",
       "      <td>[-62.6624296139]</td>\n",
       "      <td>[0.025072247067]</td>\n",
       "      <td>[183.324910294]</td>\n",
       "      <td>[0.0468200922591]</td>\n",
       "      <td>[0.307215645037]</td>\n",
       "      <td>[0.0245928871414]</td>\n",
       "      <td>2.603792</td>\n",
       "      <td>[0.219077202993]</td>\n",
       "      <td>298.5697</td>\n",
       "      <td>-0.1142031</td>\n",
       "      <td>95.5657</td>\n",
       "      <td>[50.661903388, 51.4713936943]</td>\n",
       "      <td>2.733533e-10</td>\n",
       "      <td>92.91211</td>\n",
       "      <td>ES_5_Region_l300.0_b0.0</td>\n",
       "      <td>UNK</td>\n",
       "    </tr>\n",
       "    <tr>\n",
       "      <th>l325_b0_ES_2</th>\n",
       "      <td>[-56.1676557092]</td>\n",
       "      <td>[0.015166869606]</td>\n",
       "      <td>[238.217676817]</td>\n",
       "      <td>[0.0142978590509]</td>\n",
       "      <td>[0.253336305978]</td>\n",
       "      <td>[0.0143590939433]</td>\n",
       "      <td>2.375875</td>\n",
       "      <td>[0.124919358224]</td>\n",
       "      <td>326.2814</td>\n",
       "      <td>-1.752997</td>\n",
       "      <td>391.0748</td>\n",
       "      <td>[108.102706589, 110.305160099, 111.77534734, 1...</td>\n",
       "      <td>4.728985e-10</td>\n",
       "      <td>162.4696</td>\n",
       "      <td>ES_2_Region_l325.0_b0.0</td>\n",
       "      <td>NaN</td>\n",
       "    </tr>\n",
       "    <tr>\n",
       "      <th>l35_b0_ES_2</th>\n",
       "      <td>[1.38517403715]</td>\n",
       "      <td>[0.0191405653705]</td>\n",
       "      <td>[284.048840894]</td>\n",
       "      <td>[0.0229561251138]</td>\n",
       "      <td>[0.353631368344]</td>\n",
       "      <td>[0.0184182556918]</td>\n",
       "      <td>3.190779</td>\n",
       "      <td>[0.0]</td>\n",
       "      <td>34.7075</td>\n",
       "      <td>-0.4268278</td>\n",
       "      <td>210.5472</td>\n",
       "      <td>[136.52100326, 131.627744938, 131.801114456]</td>\n",
       "      <td>7.746543e-10</td>\n",
       "      <td>224.6433</td>\n",
       "      <td>ES_1_Region_l35.0_b0.0</td>\n",
       "      <td>SNR</td>\n",
       "    </tr>\n",
       "    <tr>\n",
       "      <th>l330_b0_ES_4</th>\n",
       "      <td>[-51.8828716015]</td>\n",
       "      <td>[0.0247209367447]</td>\n",
       "      <td>[243.850354246]</td>\n",
       "      <td>[0.0196957055195]</td>\n",
       "      <td>[0.404456417874]</td>\n",
       "      <td>[0.0163454352426]</td>\n",
       "      <td>1.980973</td>\n",
       "      <td>[0.0899678702674]</td>\n",
       "      <td>331.5974</td>\n",
       "      <td>-0.7422539</td>\n",
       "      <td>256.6803</td>\n",
       "      <td>[162.741884376, 160.673530394, 167.327776578, ...</td>\n",
       "      <td>7.52456e-10</td>\n",
       "      <td>254.6741</td>\n",
       "      <td>ES_6_Region_l330.0_b0.0</td>\n",
       "      <td>NaN</td>\n",
       "    </tr>\n",
       "    <tr>\n",
       "      <th>l310_b0_ES_1</th>\n",
       "      <td>[-61.350523173]</td>\n",
       "      <td>[0.0207914693241]</td>\n",
       "      <td>[212.2983051]</td>\n",
       "      <td>[0.0195949808064]</td>\n",
       "      <td>[0.732836456385]</td>\n",
       "      <td>[0.0173272138033]</td>\n",
       "      <td>2.377643</td>\n",
       "      <td>[0.0996038633537]</td>\n",
       "      <td>312.1138</td>\n",
       "      <td>0.1273371</td>\n",
       "      <td>243.6454</td>\n",
       "      <td>[162.92251631, 166.910654945, 177.219041459, 1...</td>\n",
       "      <td>1.39217e-09</td>\n",
       "      <td>482.0378</td>\n",
       "      <td>ES_3_Region_l310.0_b0.0</td>\n",
       "      <td>PWN</td>\n",
       "    </tr>\n",
       "    <tr>\n",
       "      <th>l260_b0_ES_2</th>\n",
       "      <td>[-42.888542247]</td>\n",
       "      <td>[0.0187658090864]</td>\n",
       "      <td>[125.544857679]</td>\n",
       "      <td>[0.0156429968213]</td>\n",
       "      <td>[0.442070563574]</td>\n",
       "      <td>[0.0143585522283]</td>\n",
       "      <td>2.376512</td>\n",
       "      <td>[0.125188334423]</td>\n",
       "      <td>260.3095</td>\n",
       "      <td>-3.373358</td>\n",
       "      <td>384.1608</td>\n",
       "      <td>[175.708606047, 195.35260416]</td>\n",
       "      <td>5.684666e-10</td>\n",
       "      <td>167.0489</td>\n",
       "      <td>ES_2_Region_l260.0_b0.0</td>\n",
       "      <td>NaN</td>\n",
       "    </tr>\n",
       "    <tr>\n",
       "      <th>l10_b0_ES_2</th>\n",
       "      <td>[-21.7352463271]</td>\n",
       "      <td>[0.0147574058839]</td>\n",
       "      <td>[271.18881192]</td>\n",
       "      <td>[0.0161740047456]</td>\n",
       "      <td>[0.365033750794]</td>\n",
       "      <td>[0.0123030407008]</td>\n",
       "      <td>1.978256</td>\n",
       "      <td>[0.0727341376493]</td>\n",
       "      <td>8.396629</td>\n",
       "      <td>-0.09343388</td>\n",
       "      <td>429.3901</td>\n",
       "      <td>[277.840033469, 296.539028977, 300.88229617, 3...</td>\n",
       "      <td>1.147469e-09</td>\n",
       "      <td>350.9916</td>\n",
       "      <td>ES_3_Region_l10.0_b0.0</td>\n",
       "      <td>SNR</td>\n",
       "    </tr>\n",
       "    <tr>\n",
       "      <th>l25_b0_ES_1</th>\n",
       "      <td>[-6.92922650299]</td>\n",
       "      <td>[0.0179679916707]</td>\n",
       "      <td>[278.985585381]</td>\n",
       "      <td>[0.0184469656465]</td>\n",
       "      <td>[0.585593606985]</td>\n",
       "      <td>[0.0158975738539]</td>\n",
       "      <td>2.151828</td>\n",
       "      <td>[0.0814706656301]</td>\n",
       "      <td>25.00289</td>\n",
       "      <td>0.2677595</td>\n",
       "      <td>337.4072</td>\n",
       "      <td>[361.099801799, 375.17571475, 380.859806732, 2...</td>\n",
       "      <td>1.632513e-09</td>\n",
       "      <td>477.0006</td>\n",
       "      <td>ES_1_Region_l25.0_b0.0</td>\n",
       "      <td>NaN</td>\n",
       "    </tr>\n",
       "    <tr>\n",
       "      <th>l265_b0_ES_3</th>\n",
       "      <td>[-46.3451106034]</td>\n",
       "      <td>[0.0173725324505]</td>\n",
       "      <td>[132.992350323]</td>\n",
       "      <td>[0.0214092981013]</td>\n",
       "      <td>[0.969156212011]</td>\n",
       "      <td>[0.0117599881945]</td>\n",
       "      <td>1.807624</td>\n",
       "      <td>[0.0544780393245]</td>\n",
       "      <td>266.2653</td>\n",
       "      <td>-1.231331</td>\n",
       "      <td>853.11</td>\n",
       "      <td>[748.947429775, 723.039670867]</td>\n",
       "      <td>1.433753e-09</td>\n",
       "      <td>432.3256</td>\n",
       "      <td>ES_2_Region_l265.0_b0.0</td>\n",
       "      <td>NaN</td>\n",
       "    </tr>\n",
       "  </tbody>\n",
       "</table>\n",
       "</div>"
      ],
      "text/plain": [
       "                           DEC            DECError               RA  \\\n",
       "l340_b0_ES_4  [-46.5706060357]  [0.00864668757853]  [250.164957561]   \n",
       "l335_b0_ES_2  [-48.0060652661]   [0.0189754550787]  [247.990778844]   \n",
       "l335_b0_ES_4  [-47.0872272031]   [0.0764817282049]  [249.102902569]   \n",
       "l320_b0_ES_5   [-62.467107459]   [0.0245090298939]  [226.975212889]   \n",
       "l350_b0_ES_2  [-38.3932832437]    [0.017301402631]  [258.569989388]   \n",
       "l35_b0_ES_1    [2.78535711133]   [0.0364265513562]  [284.414374281]   \n",
       "l310_b0_ES_2  [-64.3459012554]   [0.0247068450884]  [208.806478114]   \n",
       "l305_b0_ES_3  [-63.2219050278]   [0.0247523242688]  [195.876811778]   \n",
       "l25_b0_ES_2   [-8.79830804694]   [0.0230253760307]  [278.697949134]   \n",
       "l190_b0_ES_2   [22.0734626858]   [0.0357439469317]  [94.6677242912]   \n",
       "l25_b0_ES_3   [-7.05142850805]   [0.0297209243102]  [279.740261372]   \n",
       "l315_b0_ES_1   [-62.459771591]   [0.0235958763496]  [220.795325972]   \n",
       "l15_b0_ES_3   [-14.7314325148]   [0.0370868640814]  [277.372272876]   \n",
       "l20_b0_ES_2   [-13.7057329605]    [0.245656294043]  [275.821038432]   \n",
       "l330_b0_ES_6  [-53.4273256469]   [0.0276843478261]  [238.449316271]   \n",
       "l285_b0_ES_2  [-59.4020699272]   [0.0310325094858]  [160.124575499]   \n",
       "l25_b0_ES_4   [-5.51773811038]   [0.0251505932459]  [280.143380866]   \n",
       "l275_b0_ES_1  [-57.5878973028]   [0.0132620993743]  [136.212890464]   \n",
       "l265_b0_ES_1  [-45.6145351945]   [0.0611634200204]  [128.826740173]   \n",
       "l330_b0_ES_3  [-50.9149878383]   [0.0212152096321]   [244.33096972]   \n",
       "l150_b0_ES_1   [55.5554841861]   [0.0488721176337]  [66.8159157048]   \n",
       "l345_b0_ES_2  [-39.9015322453]   [0.0439280635229]  [258.595614351]   \n",
       "l340_b0_ES_3  [-46.6459702373]   [0.0409690584764]  [253.320000457]   \n",
       "l50_b0_ES_1    [14.1473758337]   [0.0110891337074]  [290.808642599]   \n",
       "l285_b0_ES_1   [-58.612390809]  [0.00855636323058]  [157.814435432]   \n",
       "l335_b0_ES_6   [-47.730327519]   [0.0199734975717]  [248.369522476]   \n",
       "l5_b0_ES_1    [-23.7133632964]   [0.0183004348124]  [270.139966106]   \n",
       "l190_b0_ES_1   [22.5838018325]  [0.00702383298504]  [94.3034005085]   \n",
       "l110_b0_ES_1   [58.9209323239]   [0.0225780733651]  [345.495313816]   \n",
       "l300_b0_ES_1  [-62.6624296139]    [0.025072247067]  [183.324910294]   \n",
       "l325_b0_ES_2  [-56.1676557092]    [0.015166869606]  [238.217676817]   \n",
       "l35_b0_ES_2    [1.38517403715]   [0.0191405653705]  [284.048840894]   \n",
       "l330_b0_ES_4  [-51.8828716015]   [0.0247209367447]  [243.850354246]   \n",
       "l310_b0_ES_1   [-61.350523173]   [0.0207914693241]    [212.2983051]   \n",
       "l260_b0_ES_2   [-42.888542247]   [0.0187658090864]  [125.544857679]   \n",
       "l10_b0_ES_2   [-21.7352463271]   [0.0147574058839]   [271.18881192]   \n",
       "l25_b0_ES_1   [-6.92922650299]   [0.0179679916707]  [278.985585381]   \n",
       "l265_b0_ES_3  [-46.3451106034]   [0.0173725324505]  [132.992350323]   \n",
       "\n",
       "                         RAError              Sigma          SigmaError  \\\n",
       "l340_b0_ES_4  [0.00906573653303]  [0.0691547350759]   [0.0119669687163]   \n",
       "l335_b0_ES_2   [0.0245925022992]   [0.181199071482]   [0.0175917873024]   \n",
       "l335_b0_ES_4    [0.123490969335]   [0.575983971111]   [0.0687432802336]   \n",
       "l320_b0_ES_5   [0.0311563430255]   [0.360158205921]   [0.0209698161493]   \n",
       "l350_b0_ES_2   [0.0210495492556]   [0.257685914762]   [0.0167831524999]   \n",
       "l35_b0_ES_1    [0.0394344869635]   [0.483061916042]   [0.0279558733466]   \n",
       "l310_b0_ES_2   [0.0268727574207]   [0.409326885364]   [0.0211316852342]   \n",
       "l305_b0_ES_3   [0.0216255167599]   [0.327939211608]   [0.0193332086216]   \n",
       "l25_b0_ES_2    [0.0215611008837]   [0.285938411697]   [0.0189365771786]   \n",
       "l190_b0_ES_2     [0.04776165325]   [0.803893925071]   [0.0305515615055]   \n",
       "l25_b0_ES_3    [0.0239298940213]   [0.524217788722]   [0.0208748968375]   \n",
       "l315_b0_ES_1   [0.0263274911846]   [0.365399633104]   [0.0205544169516]   \n",
       "l15_b0_ES_3    [0.0624224494169]    [1.11550185193]   [0.0384835780442]   \n",
       "l20_b0_ES_2     [0.393967612195]   [0.899191551115]   [0.0188210951824]   \n",
       "l330_b0_ES_6   [0.0244142844344]   [0.517923200889]   [0.0194774635855]   \n",
       "l285_b0_ES_2   [0.0914251859319]    [4.39088750798]   [0.0175318528003]   \n",
       "l25_b0_ES_4    [0.0257482212925]   [0.721996543058]   [0.0216204052551]   \n",
       "l275_b0_ES_1   [0.0144360518493]  [0.0652961058343]  [0.00962742438062]   \n",
       "l265_b0_ES_1   [0.0440771839896]    [2.36504990068]  [0.00969248340282]   \n",
       "l330_b0_ES_3    [0.023572350694]   [0.467021756134]   [0.0164969736204]   \n",
       "l150_b0_ES_1   [0.0404450148979]    [1.50964301734]   [0.0313905784976]   \n",
       "l345_b0_ES_2   [0.0934484992134]   [0.633722040361]   [0.0176641210545]   \n",
       "l340_b0_ES_3   [0.0303828462679]   [0.897525998969]   [0.0226687961186]   \n",
       "l50_b0_ES_1    [0.0112244748622]    [0.26554971689]   [0.0107679226519]   \n",
       "l285_b0_ES_1  [0.00302901058849]     [2.0427466696]  [0.00813649707572]   \n",
       "l335_b0_ES_6   [0.0241935886424]   [0.641302423741]   [0.0264253459734]   \n",
       "l5_b0_ES_1     [0.0186476043859]   [0.623011751747]   [0.0132514405136]   \n",
       "l190_b0_ES_1  [0.00705503402477]   [0.327530072884]  [0.00651575951193]   \n",
       "l110_b0_ES_1   [0.0256791695877]   [0.247584462774]   [0.0193696817966]   \n",
       "l300_b0_ES_1   [0.0468200922591]   [0.307215645037]   [0.0245928871414]   \n",
       "l325_b0_ES_2   [0.0142978590509]   [0.253336305978]   [0.0143590939433]   \n",
       "l35_b0_ES_2    [0.0229561251138]   [0.353631368344]   [0.0184182556918]   \n",
       "l330_b0_ES_4   [0.0196957055195]   [0.404456417874]   [0.0163454352426]   \n",
       "l310_b0_ES_1   [0.0195949808064]   [0.732836456385]   [0.0173272138033]   \n",
       "l260_b0_ES_2   [0.0156429968213]   [0.442070563574]   [0.0143585522283]   \n",
       "l10_b0_ES_2    [0.0161740047456]   [0.365033750794]   [0.0123030407008]   \n",
       "l25_b0_ES_1    [0.0184469656465]   [0.585593606985]   [0.0158975738539]   \n",
       "l265_b0_ES_3   [0.0214092981013]   [0.969156212011]   [0.0117599881945]   \n",
       "\n",
       "                 Index         IndexError         l           b        TS  \\\n",
       "l340_b0_ES_4  1.947668   [0.129785986925]  338.2803 -0.03792805  167.4304   \n",
       "l335_b0_ES_2  1.637522    [0.16381895191]  336.2263  0.08703445  35.93993   \n",
       "l335_b0_ES_4  2.713738   [0.241762881184]  337.4106   0.1581343  50.98066   \n",
       "l320_b0_ES_5  1.963104   [0.160115598815]  317.9901   -3.654492  101.3863   \n",
       "l350_b0_ES_2  2.365413   [0.158210021274]  348.5257   0.2141185  139.2472   \n",
       "l35_b0_ES_1   1.843526              [0.0]  36.12006  -0.1127015  61.76684   \n",
       "l310_b0_ES_2  1.331025   [0.138125140052]  309.7694   -2.324294  89.92603   \n",
       "l305_b0_ES_3  1.798869   [0.125507919256]  304.2913  -0.3820614  95.18192   \n",
       "l25_b0_ES_2   1.920302              [0.0]  23.21238  -0.3394797  81.91075   \n",
       "l190_b0_ES_2  1.813881   [0.168025432293]  189.6517     3.08655  50.63501   \n",
       "l25_b0_ES_3   1.860567   [0.100751873505]  25.23831  -0.4537752  118.1783   \n",
       "l315_b0_ES_1  1.698919   [0.125054482978]  315.4531   -2.336197  133.2969   \n",
       "l15_b0_ES_3   1.803777   [0.112688315823]  17.34929   -1.928344  104.9211   \n",
       "l20_b0_ES_2   1.914368  [0.0767925273695]   17.5563  -0.1199481  126.8525   \n",
       "l330_b0_ES_6  2.511011   [0.155968955901]  328.1238    0.280133  127.0457   \n",
       "l285_b0_ES_2  2.003127  [0.0844666892163]  286.9545  -0.6546853  173.1454   \n",
       "l25_b0_ES_4   1.947512              [0.0]  26.78514  -0.1071708  163.8871   \n",
       "l275_b0_ES_1  2.492917   [0.288766468937]  276.1161   -7.046258  144.4994   \n",
       "l265_b0_ES_1  2.047221  [0.0902909826995]  263.8999   -3.054572  174.6367   \n",
       "l330_b0_ES_3  1.996393  [0.0846286752596]   332.485  -0.2534201  249.9725   \n",
       "l150_b0_ES_1  1.864786  [0.0909019399864]  150.2419    4.579911  206.6012   \n",
       "l345_b0_ES_2  1.815334  [0.0771612233278]  347.3137   -0.683764  231.8613   \n",
       "l340_b0_ES_3  2.142382  [0.0969880481835]  339.6266   -1.738231  234.4399   \n",
       "l50_b0_ES_1   2.578076   [0.100968881398]  49.11406  -0.4527086  551.0873   \n",
       "l285_b0_ES_1  1.996678  [0.0594166447178]  285.5299  -0.5595242  382.6121   \n",
       "l335_b0_ES_6  2.139363  [0.0654085596149]  336.6012  0.08897627  411.6425   \n",
       "l5_b0_ES_1    2.481882  [0.0824387382736]  6.198729  -0.2275761  654.9383   \n",
       "l190_b0_ES_1  2.557896  [0.0618091478873]  189.0419    3.030126  1875.537   \n",
       "l110_b0_ES_1  1.878735   [0.189986222768]  109.2043    -1.00224  53.82301   \n",
       "l300_b0_ES_1  2.603792   [0.219077202993]  298.5697  -0.1142031   95.5657   \n",
       "l325_b0_ES_2  2.375875   [0.124919358224]  326.2814   -1.752997  391.0748   \n",
       "l35_b0_ES_2   3.190779              [0.0]   34.7075  -0.4268278  210.5472   \n",
       "l330_b0_ES_4  1.980973  [0.0899678702674]  331.5974  -0.7422539  256.6803   \n",
       "l310_b0_ES_1  2.377643  [0.0996038633537]  312.1138   0.1273371  243.6454   \n",
       "l260_b0_ES_2  2.376512   [0.125188334423]  260.3095   -3.373358  384.1608   \n",
       "l10_b0_ES_2   1.978256  [0.0727341376493]  8.396629 -0.09343388  429.3901   \n",
       "l25_b0_ES_1   2.151828  [0.0814706656301]  25.00289   0.2677595  337.4072   \n",
       "l265_b0_ES_3  1.807624  [0.0544780393245]  266.2653   -1.231331    853.11   \n",
       "\n",
       "                                                         TS_ext          Flux  \\\n",
       "l340_b0_ES_4                                           16.14982  3.520254e-10   \n",
       "l335_b0_ES_2                                           17.58692  2.307711e-10   \n",
       "l335_b0_ES_4                                            24.7938   5.92939e-10   \n",
       "l320_b0_ES_5                                           36.37666   1.85696e-10   \n",
       "l350_b0_ES_2                                           37.53249  4.749195e-10   \n",
       "l35_b0_ES_1                                            38.63192  4.288029e-10   \n",
       "l310_b0_ES_2                                            40.4061   1.47502e-10   \n",
       "l305_b0_ES_3                                           41.32028  2.962351e-10   \n",
       "l25_b0_ES_2                                            41.59791  4.381188e-10   \n",
       "l190_b0_ES_2                                           48.78717  2.299711e-10   \n",
       "l25_b0_ES_3                                            55.03411  7.278795e-10   \n",
       "l315_b0_ES_1                                           79.25172  2.164249e-10   \n",
       "l15_b0_ES_3                                            84.24376  6.161312e-10   \n",
       "l20_b0_ES_2                                            86.46086  1.505347e-09   \n",
       "l330_b0_ES_6                                           92.14767  7.826014e-10   \n",
       "l285_b0_ES_2                                           121.3371  2.039388e-09   \n",
       "l25_b0_ES_4                                            125.1994  1.149206e-09   \n",
       "l275_b0_ES_1                                           141.7788  1.057117e-10   \n",
       "l265_b0_ES_1                                           141.9629  1.299285e-09   \n",
       "l330_b0_ES_3                                            144.428  1.036496e-09   \n",
       "l150_b0_ES_1                                           158.7904  5.520578e-10   \n",
       "l345_b0_ES_2                                           167.4564  8.846267e-10   \n",
       "l340_b0_ES_3                                           170.1476  1.086108e-09   \n",
       "l50_b0_ES_1                                            290.7295  1.217349e-09   \n",
       "l285_b0_ES_1                                           378.1846  2.229589e-09   \n",
       "l335_b0_ES_6                                           418.4795  2.118224e-09   \n",
       "l5_b0_ES_1                                             465.4036  2.003466e-09   \n",
       "l190_b0_ES_1                                           1074.161  2.717483e-09   \n",
       "l110_b0_ES_1       [24.2497545738, 24.4194431134, 24.391548814]  1.019735e-10   \n",
       "l300_b0_ES_1                      [50.661903388, 51.4713936943]  2.733533e-10   \n",
       "l325_b0_ES_2  [108.102706589, 110.305160099, 111.77534734, 1...  4.728985e-10   \n",
       "l35_b0_ES_2        [136.52100326, 131.627744938, 131.801114456]  7.746543e-10   \n",
       "l330_b0_ES_4  [162.741884376, 160.673530394, 167.327776578, ...   7.52456e-10   \n",
       "l310_b0_ES_1  [162.92251631, 166.910654945, 177.219041459, 1...   1.39217e-09   \n",
       "l260_b0_ES_2                      [175.708606047, 195.35260416]  5.684666e-10   \n",
       "l10_b0_ES_2   [277.840033469, 296.539028977, 300.88229617, 3...  1.147469e-09   \n",
       "l25_b0_ES_1   [361.099801799, 375.17571475, 380.859806732, 2...  1.632513e-09   \n",
       "l265_b0_ES_3                     [748.947429775, 723.039670867]  1.433753e-09   \n",
       "\n",
       "                ModCts                   oldName srcType  \n",
       "l340_b0_ES_4  115.3864   ES_2_Region_l340.0_b0.0     SNR  \n",
       "l335_b0_ES_2  76.32544  ES_20_Region_l335.0_b0.0     PWN  \n",
       "l335_b0_ES_4   193.666  ES_14_Region_l335.0_b0.0     NaN  \n",
       "l320_b0_ES_5  65.32718   ES_5_Region_l320.0_b0.0     PWN  \n",
       "l350_b0_ES_2  151.7422   ES_2_Region_l350.0_b0.0     SNR  \n",
       "l35_b0_ES_1   125.5085    ES_6_Region_l35.0_b0.0     PWN  \n",
       "l310_b0_ES_2  51.41075  ES_10_Region_l310.0_b0.0     NaN  \n",
       "l305_b0_ES_3  102.2553   ES_5_Region_l305.0_b0.0     NaN  \n",
       "l25_b0_ES_2   128.6954    ES_4_Region_l25.0_b0.0     UNK  \n",
       "l190_b0_ES_2  65.55793   ES_9_Region_l190.0_b0.0     SNR  \n",
       "l25_b0_ES_3   212.9882    ES_5_Region_l25.0_b0.0     COM  \n",
       "l315_b0_ES_1  75.82496   ES_8_Region_l315.0_b0.0     PWN  \n",
       "l15_b0_ES_3   183.7488   ES_10_Region_l15.0_b0.0     NaN  \n",
       "l20_b0_ES_2   448.8692    ES_2_Region_l20.0_b0.0     NaN  \n",
       "l330_b0_ES_6   265.706  ES_11_Region_l330.0_b0.0     NaN  \n",
       "l285_b0_ES_2  679.0628  ES_19_Region_l285.0_b0.0     UNK  \n",
       "l25_b0_ES_4   335.8923    ES_3_Region_l25.0_b0.0     SNR  \n",
       "l275_b0_ES_1  34.85968   ES_1_Region_l275.0_b0.0     NaN  \n",
       "l265_b0_ES_1  390.2191   ES_4_Region_l265.0_b0.0     UNK  \n",
       "l330_b0_ES_3  349.1878   ES_7_Region_l330.0_b0.0     NaN  \n",
       "l150_b0_ES_1  210.0308   ES_4_Region_l150.0_b0.0     SNR  \n",
       "l345_b0_ES_2  283.9192   ES_4_Region_l345.0_b0.0     SNR  \n",
       "l340_b0_ES_3  355.9131   ES_6_Region_l340.0_b0.0     UNK  \n",
       "l50_b0_ES_1   362.4421    ES_4_Region_l50.0_b0.0     SNR  \n",
       "l285_b0_ES_1  739.8323   ES_7_Region_l285.0_b0.0     NaN  \n",
       "l335_b0_ES_6  699.6834   ES_5_Region_l335.0_b0.0     NaN  \n",
       "l5_b0_ES_1    617.9777     ES_4_Region_l5.0_b0.0     SNR  \n",
       "l190_b0_ES_1  772.7134   ES_2_Region_l190.0_b0.0     NaN  \n",
       "l110_b0_ES_1  39.04891   ES_5_Region_l110.0_b0.0     SNR  \n",
       "l300_b0_ES_1  92.91211   ES_5_Region_l300.0_b0.0     UNK  \n",
       "l325_b0_ES_2  162.4696   ES_2_Region_l325.0_b0.0     NaN  \n",
       "l35_b0_ES_2   224.6433    ES_1_Region_l35.0_b0.0     SNR  \n",
       "l330_b0_ES_4  254.6741   ES_6_Region_l330.0_b0.0     NaN  \n",
       "l310_b0_ES_1  482.0378   ES_3_Region_l310.0_b0.0     PWN  \n",
       "l260_b0_ES_2  167.0489   ES_2_Region_l260.0_b0.0     NaN  \n",
       "l10_b0_ES_2   350.9916    ES_3_Region_l10.0_b0.0     SNR  \n",
       "l25_b0_ES_1   477.0006    ES_1_Region_l25.0_b0.0     NaN  \n",
       "l265_b0_ES_3  432.3256   ES_2_Region_l265.0_b0.0     NaN  "
      ]
     },
     "execution_count": 96,
     "metadata": {},
     "output_type": "execute_result"
    }
   ],
   "source": [
    "srcDF_pruned_ts25_ES.sort('TS_ext')"
   ]
  },
  {
   "cell_type": "code",
   "execution_count": 74,
   "metadata": {
    "collapsed": false
   },
   "outputs": [
    {
     "data": {
      "text/plain": [
       "<matplotlib.text.Text at 0x11a602b50>"
      ]
     },
     "execution_count": 74,
     "metadata": {},
     "output_type": "execute_result"
    },
    {
     "data": {
      "image/png": "[encoded data removed]",
      "text/plain": [
       "<matplotlib.figure.Figure at 0x11bf7dd10>"
      ]
     },
     "metadata": {},
     "output_type": "display_data"
    }
   ],
   "source": [
    "#Index for TS >= 25 ES\n",
    "#I only need the next line the first time because index is list sometimes\n",
    "#srcDF_pruned_ts25_ES.Index = srcDF_pruned_ts25_ES.Index.apply((lambda x: x[0])) #the x[0] is just because I might have a list and not just a value\n",
    "srcDF_pruned_ts25_ES.hist('Index',figsize=[10,8])\n",
    "plt.title('All Extended Sources')\n",
    "plt.xlabel('Index')"
   ]
  },
  {
   "cell_type": "code",
   "execution_count": 75,
   "metadata": {
    "collapsed": false
   },
   "outputs": [
    {
     "data": {
      "text/plain": [
       "<matplotlib.text.Text at 0x11a2cbd10>"
      ]
     },
     "execution_count": 75,
     "metadata": {},
     "output_type": "execute_result"
    },
    {
     "data": {
      "image/png": "[encoded data removed]",
      "text/plain": [
       "<matplotlib.figure.Figure at 0x11c3b1490>"
      ]
     },
     "metadata": {},
     "output_type": "display_data"
    }
   ],
   "source": [
    "srcDF_pruned_ts25_ES.Sigma.dropna().apply((lambda x: x[0])).hist(bins  = 18,figsize=[10,8]) #do I know that the sigma I'm keeping is the best, should be if it's the last?\n",
    "plt.title('All Extended Sources: What is that huge one?')\n",
    "plt.xlabel('Disk Radius')\n",
    "#plt.xlim(0,2.6)\n",
    "#rebin this cause so many btwn 0-0.5\n",
    "#srcDF_pruned.Sigma.dropna()"
   ]
  },
  {
   "cell_type": "code",
   "execution_count": 97,
   "metadata": {
    "collapsed": false
   },
   "outputs": [
    {
     "name": "stderr",
     "output_type": "stream",
     "text": [
      "/Users/elunejava/anaconda/lib/python2.7/site-packages/ipykernel/__main__.py:3: SettingWithCopyWarning: \n",
      "A value is trying to be set on a copy of a slice from a DataFrame.\n",
      "Try using .loc[row_indexer,col_indexer] = value instead\n",
      "\n",
      "See the the caveats in the documentation: http://pandas.pydata.org/pandas-docs/stable/indexing.html#indexing-view-versus-copy\n",
      "  app.launch_new_instance()\n"
     ]
    },
    {
     "data": {
      "text/plain": [
       "<matplotlib.text.Text at 0x11a6e4a90>"
      ]
     },
     "execution_count": 97,
     "metadata": {},
     "output_type": "execute_result"
    },
    {
     "data": {
      "image/png": "[encoded data removed]",
      "text/plain": [
       "<matplotlib.figure.Figure at 0x11c3b9a50>"
      ]
     },
     "metadata": {},
     "output_type": "display_data"
    }
   ],
   "source": [
    "srcDF_pruned_ts25_ES.Flux# = srcDF_pruned.Flux.apply((lambda x: x[0])) \n",
    "#srcDF_pruned.hist(np.log10(srcDF_pruned.Flux))\n",
    "srcDF_pruned_ts25_ES['log10Flux'] = srcDF_pruned.Flux.apply((lambda x: np.log10(x))) #makes a new col with log10 of the flux\n",
    "srcDF_pruned_ts25_ES.log10Flux.hist(figsize=[10,8])\n",
    "plt.title('All Extended Sources: Is this weird because all the reference energies are different??')\n",
    "plt.xlabel('log(Flux)')"
   ]
  },
  {
   "cell_type": "code",
   "execution_count": 45,
   "metadata": {
    "collapsed": false
   },
   "outputs": [
    {
     "data": {
      "text/plain": [
       "<matplotlib.axes._subplots.AxesSubplot at 0x11a692f90>"
      ]
     },
     "execution_count": 45,
     "metadata": {},
     "output_type": "execute_result"
    },
    {
     "data": {
      "image/png": "[encoded data removed]",
      "text/plain": [
       "<matplotlib.figure.Figure at 0x11a899d10>"
      ]
     },
     "metadata": {},
     "output_type": "display_data"
    }
   ],
   "source": [
    "srcDF_pruned_ts25_ES.plot(kind = 'scatter',x = \"log10Flux\", y = 'Index',figsize=[10,8], figure = 1)\n",
    "#scatter_matrix(srcDF_pruned_ts25_ES, alpha=0.2, figsize=(6, 6), diagonal='kde')\n",
    "#srcDF_pruned.Flux.apply((lambda x: np.log10(x)))"
   ]
  },
  {
   "cell_type": "code",
   "execution_count": 46,
   "metadata": {
    "collapsed": false
   },
   "outputs": [
    {
     "data": {
      "text/plain": [
       "<matplotlib.axes._subplots.AxesSubplot at 0x11bb395d0>"
      ]
     },
     "execution_count": 46,
     "metadata": {},
     "output_type": "execute_result"
    },
    {
     "data": {
      "image/png": "[encoded data removed]",
      "text/plain": [
       "<matplotlib.figure.Figure at 0x11bb39110>"
      ]
     },
     "metadata": {},
     "output_type": "display_data"
    }
   ],
   "source": [
    "import seaborn as sns\n",
    "sns.kdeplot(srcDF_pruned_ts25_ES.log10Flux, srcDF_pruned_ts25_ES.Index)"
   ]
  },
  {
   "cell_type": "code",
   "execution_count": 47,
   "metadata": {
    "collapsed": false
   },
   "outputs": [
    {
     "data": {
      "text/plain": [
       "<seaborn.axisgrid.JointGrid at 0x11bbd7e10>"
      ]
     },
     "execution_count": 47,
     "metadata": {},
     "output_type": "execute_result"
    },
    {
     "data": {
      "image/png": "[encoded data removed]",
      "text/plain": [
       "<matplotlib.figure.Figure at 0x11a917990>"
      ]
     },
     "metadata": {},
     "output_type": "display_data"
    }
   ],
   "source": [
    "sns.jointplot(x=\"log10Flux\", y=\"Index\", data=srcDF_pruned_ts25_ES,kind = 'kde')"
   ]
  },
  {
   "cell_type": "code",
   "execution_count": 48,
   "metadata": {
    "collapsed": false
   },
   "outputs": [
    {
     "data": {
      "image/png": "[encoded data removed]",
      "text/plain": [
       "<matplotlib.figure.Figure at 0x11a97cad0>"
      ]
     },
     "metadata": {},
     "output_type": "display_data"
    }
   ],
   "source": [
    "g = sns.jointplot(x=\"log10Flux\", y=\"Index\", data=srcDF_pruned_ts25_ES, kind = 'kde')\n",
    "#g.plot_joint(x=\"log10Flux\", y=\"Index\", data=srcDF_pruned)\n",
    "g.plot_joint(plt.scatter, s=30, linewidth=1, marker=\"+\",color = 'DarkOrange')\n",
    "g.ax_joint.collections[0].set_alpha(0)\n",
    "#do this plot with energy flux insead?"
   ]
  },
  {
   "cell_type": "code",
   "execution_count": 89,
   "metadata": {
    "collapsed": false
   },
   "outputs": [
    {
     "data": {
      "text/plain": [
       "array(['SNR', nan, 'UNK', 'COM', 'PWN', 'SNR?', 'PWN?'], dtype=object)"
      ]
     },
     "execution_count": 89,
     "metadata": {},
     "output_type": "execute_result"
    }
   ],
   "source": [
    "srcDF_pruned_ts25_ES.srcType.unique()"
   ]
  },
  {
   "cell_type": "markdown",
   "metadata": {},
   "source": [
    "## Scatter plot/hist for flux/index, but with srcTypes highlighted"
   ]
  },
  {
   "cell_type": "code",
   "execution_count": 120,
   "metadata": {
    "collapsed": false,
    "scrolled": true
   },
   "outputs": [
    {
     "data": {
      "text/plain": [
       "<seaborn.axisgrid.FacetGrid at 0x114886710>"
      ]
     },
     "execution_count": 120,
     "metadata": {},
     "output_type": "execute_result"
    },
    {
     "data": {
      "image/png": "[encoded data removed]",
      "text/plain": [
       "<matplotlib.figure.Figure at 0x115429bd0>"
      ]
     },
     "metadata": {},
     "output_type": "display_data"
    }
   ],
   "source": [
    "#not sure I need this, it's for plotting same y, 2 diff x axes with types side by side\n",
    "#sns.pairplot(tips, x_vars=[\"total_bill\", \"size\"], y_vars=[\"tip\"],\n",
    "#             hue=\"smoker\", size=5, aspect=.8, kind=\"reg\");\n",
    "\n",
    "sns.lmplot(x=\"log10Flux\", y=\"Index\", hue=\"srcType\", data=srcDF_pruned_ts25_ES, palette=sns.color_palette(\"muted\"),fit_reg =False,size = 8,scatter_kws={\"s\": 100})\n",
    "           #markers=[\"o\", \"x\"], palette=\"Set1\", fit_reg= False,figsize=[10,8]);\n",
    "#sns.color_palette(\"husl\", 8)\n",
    "#sns.palplot(sns.color_palette(\"Set1\", n_colors=8, desat=.5))\n",
    "#sns.palplot(sns.color_palette(\"muted\"))\n"
   ]
  },
  {
   "cell_type": "code",
   "execution_count": 126,
   "metadata": {
    "collapsed": false
   },
   "outputs": [
    {
     "data": {
      "image/png": "[encoded data removed]",
      "text/plain": [
       "<matplotlib.figure.Figure at 0x11e4bd8d0>"
      ]
     },
     "metadata": {},
     "output_type": "display_data"
    }
   ],
   "source": [
    "#IS this the same?\n",
    "#g = sns.FacetGrid(rcDF_pruned_ts25_ES, hue=\"srcType\", palette=\"Set1\", size=5, hue_kws={\"marker\": [\"^\", \"v\"]})\n",
    "g = sns.FacetGrid(srcDF_pruned_ts25_ES, hue=\"srcType\", palette=\"Set1\", size=8)\n",
    "g.map(plt.scatter, \"log10Flux\", \"Index\", s=100, linewidth=.5, edgecolor=\"white\")\n",
    "g.add_legend();"
   ]
  },
  {
   "cell_type": "code",
   "execution_count": 204,
   "metadata": {
    "collapsed": false
   },
   "outputs": [
    {
     "data": {
      "text/plain": [
       "<matplotlib.text.Text at 0x129760b10>"
      ]
     },
     "execution_count": 204,
     "metadata": {},
     "output_type": "execute_result"
    },
    {
     "data": {
      "image/png": "[encoded data removed]",
      "text/plain": [
       "<matplotlib.figure.Figure at 0x129271490>"
      ]
     },
     "metadata": {},
     "output_type": "display_data"
    }
   ],
   "source": [
    "###If I had all indices as sep cols I think I could plot it easy, but that's strange, there's probably a way to groupby then plot right?\n",
    "#still need to fix the binning\n",
    "\n",
    "ax = srcDF_pruned_ts25_ES.Index[srcDF_pruned_ts25_ES.srcType =='SNR'].plot(kind='hist', alpha=0.5,label = 'SNR',figsize = [10,8])#,histtype = 'step')\n",
    "srcDF_pruned_ts25_ES.Index[srcDF_pruned_ts25_ES.srcType =='UNK'].plot(kind='hist', alpha=0.5,ax =ax,label = 'UNK')\n",
    "srcDF_pruned_ts25_ES.Index[srcDF_pruned_ts25_ES.srcType =='COM'].plot(kind='hist', alpha=0.5,ax =ax,label = 'COM')\n",
    "srcDF_pruned_ts25_ES.Index[srcDF_pruned_ts25_ES.srcType =='PWN'].plot(kind='hist', alpha=0.5,ax =ax,label = 'PWN')\n",
    "plt.legend(loc = 'best')\n",
    "plt.xlabel('Index')\n",
    "plt.ylabel('#')\n",
    "#plt.savefig('/Users/jmcohen/Desktop/gt.png')"
   ]
  },
  {
   "cell_type": "code",
   "execution_count": 205,
   "metadata": {
    "collapsed": false
   },
   "outputs": [
    {
     "data": {
      "text/plain": [
       "<matplotlib.text.Text at 0x129668590>"
      ]
     },
     "execution_count": 205,
     "metadata": {},
     "output_type": "execute_result"
    },
    {
     "data": {
      "image/png": "[encoded data removed]",
      "text/plain": [
       "<matplotlib.figure.Figure at 0x1297d92d0>"
      ]
     },
     "metadata": {},
     "output_type": "display_data"
    }
   ],
   "source": [
    "#same but try hist instead of plot to get bins right\n",
    "bins = np.linspace(1,3.5,10)\n",
    "ax = srcDF_pruned_ts25_ES.Index[srcDF_pruned_ts25_ES.srcType =='SNR'].hist(alpha=0.5,label = 'SNR',figsize = [10,8],bins  =bins)\n",
    "srcDF_pruned_ts25_ES.Index[srcDF_pruned_ts25_ES.srcType =='UNK'].hist(alpha=0.5,ax =ax,label = 'UNK',bins = bins)\n",
    "srcDF_pruned_ts25_ES.Index[srcDF_pruned_ts25_ES.srcType =='COM'].hist(alpha=0.5,ax =ax,label = 'COM',bins = bins)\n",
    "srcDF_pruned_ts25_ES.Index[srcDF_pruned_ts25_ES.srcType =='PWN'].hist(alpha=0.5,ax =ax,label = 'PWN',bins = bins)\n",
    "plt.legend(loc = 'best')\n",
    "plt.xlabel('Index')\n",
    "plt.ylabel('#')\n",
    "\n",
    "#ax=srcDF_pruned_ts25_ES[srcDF_pruned_ts25_ES.srcType == 'SNR'].Index.hist(bins=bins)\n",
    "#srcDF_pruned_ts25_ES[srcDF_pruned_ts25_ES.srcType == 'PWN'].Index.hist(ax=ax,bins =bins)"
   ]
  },
  {
   "cell_type": "code",
   "execution_count": 203,
   "metadata": {
    "collapsed": false
   },
   "outputs": [
    {
     "data": {
      "image/png": "[encoded data removed]",
      "text/plain": [
       "<matplotlib.figure.Figure at 0x1294bb8d0>"
      ]
     },
     "metadata": {},
     "output_type": "display_data"
    }
   ],
   "source": [
    "#Oooooo!\n",
    "#why doesn't this show the the other 2?\n",
    "#how to change colors? add labels\n",
    "srcDF_pruned_ts25_ES.groupby('srcType',sort = False).Index.hist(alpha=0.4, bins = bins)\n",
    "plt.legend(loc = 'best')\n",
    "plt.xlabel('Index')\n",
    "plt.ylabel('#')\n",
    "plt.legend()"
   ]
  },
  {
   "cell_type": "code",
   "execution_count": 198,
   "metadata": {
    "collapsed": false
   },
   "outputs": [
    {
     "data": {
      "text/plain": [
       "<matplotlib.legend.Legend at 0x129127e90>"
      ]
     },
     "execution_count": 198,
     "metadata": {},
     "output_type": "execute_result"
    },
    {
     "data": {
      "image/png": "[encoded data removed]",
      "text/plain": [
       "<matplotlib.figure.Figure at 0x12903be10>"
      ]
     },
     "metadata": {},
     "output_type": "display_data"
    }
   ],
   "source": [
    "#idk why the bins are all different, or how to change the order. alpah not working is a bug I think\n",
    "bins = np.linspace(1,3.5,10)\n",
    "srcDF_pruned_ts25_ES.groupby('srcType',sort = False).Index.plot(kind=\"hist\", alpha=0.5,bins = bins)\n",
    "plt.legend()"
   ]
  },
  {
   "cell_type": "code",
   "execution_count": 197,
   "metadata": {
    "collapsed": false
   },
   "outputs": [
    {
     "data": {
      "image/png": "[encoded data removed]",
      "text/plain": [
       "<matplotlib.figure.Figure at 0x128b40610>"
      ]
     },
     "metadata": {},
     "output_type": "display_data"
    }
   ],
   "source": [
    "gr = srcDF_pruned_ts25_ES.groupby('srcType',sort = False).Index\n",
    "for k, v in gr:\n",
    "    v.plot(kind='hist', alpha=.5, label=k)"
   ]
  },
  {
   "cell_type": "code",
   "execution_count": 196,
   "metadata": {
    "collapsed": false
   },
   "outputs": [
    {
     "data": {
      "text/plain": [
       "<matplotlib.text.Text at 0x128d3c850>"
      ]
     },
     "execution_count": 196,
     "metadata": {},
     "output_type": "execute_result"
    },
    {
     "data": {
      "image/png": "[encoded data removed]",
      "text/plain": [
       "<matplotlib.figure.Figure at 0x128a80190>"
      ]
     },
     "metadata": {},
     "output_type": "display_data"
    }
   ],
   "source": [
    "#how to change the order\n",
    "gr = srcDF_pruned_ts25_ES.groupby('srcType',sort = False).Index\n",
    "for k, v in gr:\n",
    "    v.plot(kind='hist', alpha=.5, label=k,bins = bins)\n",
    "plt.legend()\n",
    "plt.xlabel('Index')\n",
    "plt.ylabel('#')"
   ]
  },
  {
   "cell_type": "markdown",
   "metadata": {},
   "source": [
    "# Try getting observed counts"
   ]
  },
  {
   "cell_type": "code",
   "execution_count": null,
   "metadata": {
    "collapsed": true
   },
   "outputs": [],
   "source": [
    "#get total observed counts in all RoI for comparing with 2FHL\n",
    "#This is not really the total because the RoI are not unique\n",
    "#Trye modeled instead\n",
    "dropList = [s for s in resPan.minor_axis if not s.startswith('TotalObsCts')]\n",
    "keepList = [s for s in resPan.minor_axis if s.startswith('TotalObsCts')]\n",
    "paramList = ['Flux']\n",
    "srcPan = resPan.ix[:, paramList,keepList]#.ix[:,:-3,:] #this only works be cause I know the order of the sources and because they're consecutive \n",
    "\n",
    "if 'ctsDF' in locals():\n",
    "    del ctsDF\n",
    "for f in srcPan.items:\n",
    "    if not 'ctsDF' in locals():\n",
    "        ctsDF = srcPan[f].transpose().dropna(how = 'all')\n",
    "        #galDF.set_index(f)\n",
    "    else:\n",
    "        ctsDF = pd.concat([ctsDF,srcPan[f].transpose().dropna(how = 'all')])\n",
    "        #galDF.set_index(f)        \n",
    "ctsDF.set_index(srcPan.items,inplace = True) #I think this sets the index right\n",
    "ctsDF.to_pickle('cts.dat')\n",
    "ctsDF.columns = ['TotalObsCts']"
   ]
  },
  {
   "cell_type": "code",
   "execution_count": null,
   "metadata": {
    "collapsed": false
   },
   "outputs": [],
   "source": [
    "ctsDF.TotalObsCts.sum()"
   ]
  },
  {
   "cell_type": "code",
   "execution_count": null,
   "metadata": {
    "collapsed": true
   },
   "outputs": [],
   "source": [
    "#read in the 2FHL and 10gev cmap\n",
    "cmap10 = pyfits.getdata(\"/Users/jmcohen/Desktop/allSky_10gev_74m_noRockCut_all_cmap.fits\")\n",
    "cmap50 = pyfits.getdata(\"/Users/jmcohen/Desktop/ft1-50GeV_p8_NOrockCut_allskyCmap.fits\")"
   ]
  },
  {
   "cell_type": "code",
   "execution_count": null,
   "metadata": {
    "collapsed": false
   },
   "outputs": [],
   "source": [
    "print '50/10 gev counts', cmap10.sum()/float(cmap50.sum())\n",
    "print '50 gev counts',cmap50.sum()\n",
    "print '10 gev counts',cmap10.sum()"
   ]
  },
  {
   "cell_type": "code",
   "execution_count": null,
   "metadata": {
    "collapsed": false
   },
   "outputs": [],
   "source": [
    "#NOT SURE HOW TO MASK, don't worrk for now!\n",
    "#If I wanted to try masking just in the plane, I would msk based on b <\n",
    "import pyfits as pf\n",
    "fitsImg = \"/Users/jmcohen/Desktop/allSky_10gev_74m_noRockCut_all_cmap.fits\"\n",
    "Img = pf.open(fitsImg)\n",
    "ImgData = Img[0].data\n",
    "Img.close()\n",
    "binsz = Img[0].header.get('CDELT2') #good for tsmaps, use b pixel size\n",
    "#use pywcs to convert center, in GAL coords, to pixels\n",
    "wcs = pywcs.WCS(Img[0].header)\n",
    "centerPixels = wcs.wcs_sky2pix([[0,0]], 0).ravel()\n",
    "#ImgData = np.ma.array(ImgData, mask = False)"
   ]
  },
  {
   "cell_type": "code",
   "execution_count": null,
   "metadata": {
    "collapsed": false
   },
   "outputs": [],
   "source": [
    "#GLATpixel = \n",
    "print wcs.wcs_pix2sky([[1800,1800]], 0).ravel()\n",
    "print wcs.wcs_sky2pix([[359,0]], 0).ravel()\n",
    "# print wcs.wcs_sky2pix([[90,10]], 0).ravel()\n",
    "# print wcs.wcs_sky2pix([[0,-10]], 0).ravel()\n",
    "# print wcs.wcs_sky2pix([[20,-10]], 0).ravel()\n",
    "# print wcs.wcs_sky2pix([[180,10]], 0).ravel()\n",
    "\n",
    "skyImg = wcs.all_pix2sky(np.asarray(ImgData),0)"
   ]
  },
  {
   "cell_type": "code",
   "execution_count": null,
   "metadata": {
    "collapsed": false
   },
   "outputs": [],
   "source": [
    "len(np.isnan(skyImg)[0])\n",
    "#ImgData"
   ]
  },
  {
   "cell_type": "code",
   "execution_count": null,
   "metadata": {
    "collapsed": false
   },
   "outputs": [],
   "source": [
    "#Img[0].header"
   ]
  },
  {
   "cell_type": "code",
   "execution_count": null,
   "metadata": {
    "collapsed": false
   },
   "outputs": [],
   "source": [
    "for x,row in enumerate(ImgData):\n",
    "    for y in enumerate(row):\n",
    "        if (np.abs(wcs.wcs_pix2sky(x,y[0]).ravel()[0]) > 10):\n",
    "        #if (distance(centerPixels[0],centerPixels[1],x,y[0]) <= pixelMinR) or (distance(centerPixels[0],centerPixels[1],x,y[0]) >= pixelMaxR):\n",
    "            ImgData.mask[y[0]][x] = True"
   ]
  },
  {
   "cell_type": "markdown",
   "metadata": {},
   "source": [
    "# Get diffuse\n"
   ]
  },
  {
   "cell_type": "code",
   "execution_count": null,
   "metadata": {
    "collapsed": true
   },
   "outputs": [],
   "source": [
    "#I want to make a single DF with all the ES/PS sources and (why not) all their source params (really just want postion, pos err, sigma, sigma  err)\n",
    "#Do I want a single DF or keep as panel?\n",
    "dropList = [s for s in resPan.minor_axis if not s.startswith('Galactic')]\n",
    "keepList = [s for s in resPan.minor_axis if s.startswith('Galactic')]\n",
    "paramList = ['Index','IndexError','ModCts','Norm','NormError']\n",
    "srcPan = resPan.ix[:, paramList,keepList]#.ix[:,:-3,:] #this only works be cause I know the order of the sources and because they're consecutive \n",
    "\n",
    "if 'galDF' in locals():\n",
    "    del galDF\n",
    "for f in srcPan.items:\n",
    "    if not 'galDF' in locals():\n",
    "        galDF = srcPan[f].transpose().dropna(how = 'all')\n",
    "        #galDF.set_index(f)\n",
    "    else:\n",
    "        galDF = pd.concat([galDF,srcPan[f].transpose().dropna(how = 'all')])\n",
    "        #galDF.set_index(f)        \n",
    "galDF.set_index(srcPan.items,inplace = True) #I think this sets the index right\n",
    "galDF.to_pickle('galDiff.dat')\n",
    "galDF['Norm'] = galDF.Norm.apply((lambda x: x[0])) ###all the values are lists, this makes them floats\n",
    "galDF['numIndex'] = [float(i.strip('Region_l').replace('b','').split('_')[0]) for i in galDF.index] #can't think of a better way to sort string index naturally\n"
   ]
  },
  {
   "cell_type": "code",
   "execution_count": null,
   "metadata": {
    "collapsed": false,
    "scrolled": true
   },
   "outputs": [],
   "source": [
    "galDF.Norm"
   ]
  },
  {
   "cell_type": "code",
   "execution_count": null,
   "metadata": {
    "collapsed": false
   },
   "outputs": [],
   "source": [
    "os.chdir('/Users/jmcohen/Desktop/cur/gt10gevRuns/10gev/')\n",
    "galDF.sort('numIndex').plot(y='Norm',kind = 'bar',fontsize=50,figsize = [60,20],figure = 1)\n",
    "plt.ylabel('Galactic Normalization',fontsize = 65)\n",
    "plt.axhline(galDF.Norm.mean(), lw = 4, ls = '--',color = 'DarkOrange',label = 'Mean = %.4s' %(galDF.Norm.mean()))\n",
    "#plt.axhline(galDF.Norm.median(), lw = 3, ls = '--',color = 'maroon',label = 'Median')\n",
    "plt.ylim(0,1.6)\n",
    "plt.legend(loc='best', fontsize = 40)\n",
    "plt.gcf().tight_layout()\n",
    "plt.savefig('gt10gev_galNorms.png')"
   ]
  },
  {
   "cell_type": "code",
   "execution_count": null,
   "metadata": {
    "collapsed": false
   },
   "outputs": [],
   "source": [
    "print galDF.Norm.min(), galDF.Norm.max()"
   ]
  },
  {
   "cell_type": "markdown",
   "metadata": {},
   "source": [
    "#Overlay all  10gev sources with sources of central RoI green and others in magenta"
   ]
  },
  {
   "cell_type": "code",
   "execution_count": null,
   "metadata": {
    "collapsed": false
   },
   "outputs": [],
   "source": [
    "mapsDir = os.path.join(galPlaneDir,'mapOverlays_neighbors')\n",
    "if not os.path.exists(mapsDir) and not os.path.basename(os.getcwd()) == 'mapOverlays_neighbors': \n",
    "    os.mkdir(mapsDir)\n",
    "os.chdir(mapsDir)\n",
    "print os.getcwd()"
   ]
  },
  {
   "cell_type": "code",
   "execution_count": null,
   "metadata": {
    "collapsed": false,
    "scrolled": true
   },
   "outputs": [],
   "source": [
    "#added sqrt scale\n",
    "singleReg = False\n",
    "# allSrcs = '/Users/jmcohen/Desktop/cur/2FHLRuns/galPlane_lowNorm/2FHL_addSrcs_TSgt25.reg'\n",
    "if singleReg:\n",
    "    regFiles = [allSrcs]\n",
    "else:\n",
    "    regFiles = [os.path.join(os.path.dirname(regDir), 'TSgt16_gtlike.reg') for  regDir in regResDictsFin.values()] #all regions files as a list\n",
    "for reg, regDir in regResDictsFin.items():\n",
    "    print 'Working on %s' %(reg)\n",
    "    galPlaneReg = os.path.join(os.path.dirname(regDir), 'TSgt16_gtlike.reg') #us the last .reg, but initial resid TS map\n",
    "    regR = galPlaneReg\n",
    "    if os.path.exists(regR): #for noGrad run, there are 2 missing reg files\n",
    "        pyRegR = pyr.open(regR)\n",
    "        for i in pyRegR: #make the sources in this specific region white\n",
    "            i.attr[1]['color'] = 'white'\n",
    "    for maps in ['Resdiual TS Map']:\n",
    "        try:\n",
    "            if maps == 'Resdiual TS Map':\n",
    "                if os.path.exists(os.path.join(os.path.dirname(os.path.dirname(regDir)),'Initial_fit_' +reg+ '_tsmap.fits')):\n",
    "                    mapPath = os.path.join(os.path.dirname(os.path.dirname(regDir)),'Initial_fit_' +reg+ '_tsmap.fits')\n",
    "                else:\n",
    "                    mapPath = os.path.join(os.path.dirname(os.path.dirname(regDir)),'Initial_fit_aftDelTSlt9_' +reg+ '_tsmap.fits')\n",
    "                cbarTitle = 'TS'\n",
    "            elif maps == 'Counts Maps':\n",
    "                cmap = reg + '_cmap.fits'\n",
    "                mapPath = os.path.join(galPlaneDir,reg,'10gevTo1000gev', cmap)\n",
    "                cbarTitle = 'Counts'\n",
    "        except Exception, e:\n",
    "            print \"%s for %s doesn't exist. Err: %s\" %(maps,reg,str(e))\n",
    "            continue\n",
    "        if not os.path.exists(reg+maps.replace(' ','')+'Neighbors_addSrcsOverlay.png'):\n",
    "            plt.clf()\n",
    "            figTitle = reg + ' ' + maps\n",
    "            f = aplpy.FITSFigure(mapPath)\n",
    "            f.show_colorscale(vmin =0.0, pmax =100., cmap = 'hot', smooth = None, stretch = 'sqrt') #do I need to playt with the pmin/max? values?\n",
    "            f.show_grid()\n",
    "            f.tick_labels.set_xformat('ddd.dd')\n",
    "            f.tick_labels.set_yformat('ddd.dd')\n",
    "            f.frame.set_color('black')\n",
    "            f.frame.set_linewidth(2)\n",
    "            f.add_colorbar()\n",
    "            f.axis_labels.set_font(size='large',weight='bold')\n",
    "            f.tick_labels.set_font(weight = 'bold')\n",
    "            f.add_label(0.5, 1.1, text = figTitle, relative = True, weight = 'medium', size='large')\n",
    "            f.colorbar.set_axis_label_text(cbarTitle)\n",
    "            f.colorbar.set_font(size='large',weight = 'bold')\n",
    "            f.colorbar.set_axis_label_font(size='large',weight='bold')\n",
    "            f.colorbar.set_ticks(ticks = plt.MaxNLocator(integer = True))\n",
    "            center = reg.strip('Region_l').replace('b','').split('_') #b is always 0, but get it anyway in case I do runs with different b\n",
    "            center = SkyCoord(l= float(center[0]), b = float(center[1]), frame = 'galactic', unit=(u.degree, u.degree))        \n",
    "            for r in regFiles:\n",
    "                if os.path.exists(r):\n",
    "                    f.show_regions(r)\n",
    "            if 'pyRegR' in locals():\n",
    "                f.show_regions(pyRegR)\n",
    "            sv = reg+maps.replace(' ','')+'Neighbors_addSrcsOverlay.png'\n",
    "            f.save(sv)\n",
    "            f.close()\n",
    "            del f\n",
    "        else:\n",
    "            print '%s map already exists' %(reg)"
   ]
  },
  {
   "cell_type": "markdown",
   "metadata": {},
   "source": [
    "# Overlay Mars sources with mine"
   ]
  },
  {
   "cell_type": "code",
   "execution_count": null,
   "metadata": {
    "collapsed": false
   },
   "outputs": [],
   "source": [
    "mapsDir = os.path.join(galPlaneDir,'mapOverlays_wMar')\n",
    "if not os.path.exists(mapsDir) and not os.path.basename(os.getcwd()) == 'mapOverlays_wMar': \n",
    "    os.mkdir(mapsDir)\n",
    "os.chdir(mapsDir)\n",
    "print os.getcwd()"
   ]
  },
  {
   "cell_type": "code",
   "execution_count": null,
   "metadata": {
    "collapsed": false,
    "scrolled": true
   },
   "outputs": [],
   "source": [
    "#loop over the 2FHL dir with the fits files\n",
    "#not sure how to get all the maps to show when doing them like this\n",
    "#CHANGED THIS TO USE THE PRUNED FILE FOR 2FHL freeGalNorm\n",
    "singleReg = True\n",
    "allSrcs = '/Users/jmcohen/Desktop/cur/gt10gevRuns/10gev/gt10gev_pruned_TS25.reg'\n",
    "zoom = False #2.5\n",
    "pgwReg = '/Users/jmcohen/Desktop/cur/gt10gevRuns/10gev/finalregion3b_10gev_10000.0_3500000.0_filtered_090715.reg'\n",
    "for reg, regDir in regResDictsFin.items():\n",
    "    print 'Working on %s' %(reg)\n",
    "    galPlaneReg = os.path.join(os.path.dirname(regDir), 'TSgt16.reg') #use the last .reg, but initial resid TS map\n",
    "    if singleReg:\n",
    "        regFiles = [pgwReg, allSrcs]\n",
    "    else:\n",
    "        regFiles = [pgwReg, galPlaneReg]\n",
    "    for maps in ['Resdiual TS Map']:#,'Counts Maps']:\n",
    "        try:\n",
    "            if maps == 'Resdiual TS Map':\n",
    "                if os.path.exists(os.path.join(os.path.dirname(os.path.dirname(regDir)),'Initial_fit_' +reg+ '_tsmap.fits')):\n",
    "                    mapPath = os.path.join(os.path.dirname(os.path.dirname(regDir)),'Initial_fit_' +reg+ '_tsmap.fits')\n",
    "                else:\n",
    "                    mapPath = os.path.join(os.path.dirname(os.path.dirname(regDir)),'Initial_fit_aftDelTSlt9_' +reg+ '_tsmap.fits')\n",
    "                cbarTitle = 'TS'\n",
    "            elif maps == 'Counts Maps':\n",
    "                cmap = reg + '_cmap.fits'\n",
    "                mapPath = os.path.join(galPlaneDir,reg,'50gevTo3500gev', cmap)\n",
    "                cbarTitle = 'Counts'\n",
    "        except Exception, e:\n",
    "            print \"%s for %s doesn't exist. Err: %s\" %(maps,reg,str(e))\n",
    "            continue\n",
    "        plt.clf()\n",
    "        figTitle = reg + ' ' + maps\n",
    "        f = aplpy.FITSFigure(mapPath)\n",
    "        f.show_colorscale(vmin =0.0, pmax =100., cmap = 'hot', smooth = None,stretch = 'sqrt') #do I need to playt with the pmin/max? values?\n",
    "        f.show_grid()\n",
    "        f.tick_labels.set_xformat('ddd.dd')\n",
    "        f.tick_labels.set_yformat('ddd.dd')\n",
    "        f.frame.set_color('black')\n",
    "        f.frame.set_linewidth(2)\n",
    "        f.add_colorbar()\n",
    "        f.axis_labels.set_font(size='large',weight='bold')\n",
    "        f.tick_labels.set_font(weight = 'bold')\n",
    "        f.add_label(0.5, 1.1, text = figTitle, relative = True, weight = 'medium', size='large')\n",
    "        f.colorbar.set_axis_label_text(cbarTitle)\n",
    "        f.colorbar.set_font(size='large',weight = 'bold')\n",
    "        f.colorbar.set_axis_label_font(size='large',weight='bold')\n",
    "        f.colorbar.set_ticks(ticks = plt.MaxNLocator(integer = True))\n",
    "        for r in regFiles:\n",
    "            if os.path.exists(r):\n",
    "                f.show_regions(r)\n",
    "            else: print \"%s doesn't exist\" %(r)\n",
    "        for r in regFiles:\n",
    "            if os.path.exists(r):\n",
    "                f.show_regions(r)\n",
    "            else: print \"%s doesn't exist\" %(r)\n",
    "        for r in regFiles:\n",
    "            if os.path.exists(r):\n",
    "                f.show_regions(r)\n",
    "            else: print \"%s doesn't exist\" %(r)\n",
    "        if zoom:\n",
    "            center = reg.strip('Region_l').replace('b','').split('_') #b is always 0, but get it anyway in case I do runs with different b\n",
    "            center = SkyCoord(l= float(center[0]), b = float(center[1]), frame = 'galactic', unit=(u.degree, u.degree))\n",
    "            f.recenter(center.l.degree, center.b.degree, zoom)\n",
    "            sv = reg+maps.replace(' ','')+'_Mar_10gevOverlay_zoom.png'\n",
    "            f.save(sv)\n",
    "        else:\n",
    "            sv = reg+maps.replace(' ','')+'_Mar_10gevOverlay.png'\n",
    "            f.save(sv)\n",
    "        f.close()\n",
    "        del f"
   ]
  },
  {
   "cell_type": "markdown",
   "metadata": {},
   "source": [
    "# Parse TeVCat file"
   ]
  },
  {
   "cell_type": "code",
   "execution_count": null,
   "metadata": {
    "collapsed": false,
    "scrolled": true
   },
   "outputs": [],
   "source": [
    "#i separated the names from params to make it easier to read in\n",
    "\n",
    "tevcatNames = os.path(home,'Dropbox/CurrentWork/SNR_MC/tevSNRs/tevcatNames.txt')\n",
    "tevcatParams = os.path(home,'Dropbox/CurrentWork/SNR_MC/tevSNRs/tevcatParams.txt')\n",
    "tevNamesSer =  pd.Series.from_csv(tevcatNames,index_col=False, header=0)\n",
    "#tevcatDF = pd.DataFrame.from_csv(tevcatParams,parse_dates=False,infer_datetime_format=False,na_values = ['----'])\n",
    "tevcatDF = pd.read_csv(tevcatParams,parse_dates=False,infer_datetime_format=False,na_values = ['----'])\n",
    "#tevcatDF.reset_index(inplace= True) #idk why it always tries to take RA is index, ooops this loses RA\n",
    "tevcatDF.set_index(tevNamesSer,inplace = True)\n",
    "#tevcatDF.index.name = 'TeVName'\n",
    "tevcatDF.sort('TeV')\n",
    "#rename radius col to Sigma\n",
    "tevcatDF.rename(columns = {'Radius':'Sigma'},inplace = True)\n",
    "#tevcatDF.index.str.rstrip()\n",
    "#tevcatDF.rename(index=lambda x: x.rstrip())\n",
    "tevcatDF"
   ]
  },
  {
   "cell_type": "code",
   "execution_count": null,
   "metadata": {
    "collapsed": false,
    "scrolled": true
   },
   "outputs": [],
   "source": [
    "outdir = \"/Users/jmcohen/Desktop/tevcatDF.reg\"\n",
    "writeReg(tevcatDF,outdir)"
   ]
  },
  {
   "cell_type": "code",
   "execution_count": null,
   "metadata": {
    "collapsed": false,
    "scrolled": true
   },
   "outputs": [],
   "source": [
    "#TeV extended SNRs\n",
    "len(tevcatDF[tevcatDF.Radius.notnull()]) #66 total extended!\n",
    "#only 18 in SNR cat, how many are SNRs though\n",
    "tevcatSNRS = tevcatDF[tevcatDF['TeV'].isin(['Shell','S-M', 'cSN','S-MC'])]\n",
    "tevcatExtSNRs = tevcatSNRS[tevcatSNRS.Radius.notnull()]\n",
    "\n",
    "#tevcatExt[tevcatExt['TeV'] == 'Shell' or tevcatExt['TeV'] == 'S-M' or tevcatExt['TeV'] == 'cSN']\n",
    "tevcatSNRS"
   ]
  },
  {
   "cell_type": "code",
   "execution_count": null,
   "metadata": {
    "collapsed": false
   },
   "outputs": [],
   "source": [
    "#tevcatDF['GLON','GLAT'].apply(lambda ra,dec:  SkyCoord(ra=ra,dec=dec ,frame='icrs', unit = (u.hourangle,u.degree))\n",
    "#tevcatDF['GLON']\n",
    "#glat = SkyCoord(ra=tevcatDF.RA,dec=tevcatDF.Dec ,frame='icrs', unit = (u.hourangle,u.degree)).galactic"
   ]
  },
  {
   "cell_type": "code",
   "execution_count": null,
   "metadata": {
    "collapsed": false
   },
   "outputs": [],
   "source": [
    "# for i in glat:\n",
    "#     print i.b.degree\n",
    "# l,b = [crds.l.degree,crds.b.degree for crds in glat]"
   ]
  },
  {
   "cell_type": "code",
   "execution_count": null,
   "metadata": {
    "collapsed": false
   },
   "outputs": [],
   "source": [
    "# snr15 = SkyCoord(ra='18:18:04.8',dec='-15:28:01' ,frame='icrs', unit = (u.hourangle,u.degree))\n",
    "# snr15.galactic"
   ]
  },
  {
   "cell_type": "markdown",
   "metadata": {},
   "source": [
    "# Add Manitoba SNRs list, just names, get coords from the name. Can I get rad too?"
   ]
  },
  {
   "cell_type": "code",
   "execution_count": null,
   "metadata": {
    "collapsed": true
   },
   "outputs": [],
   "source": [
    "#Manitoba SNRs List. Just names, get coords from name\n",
    "manSNRs= ['G000.0+00.0', 'G000.1-00.1', 'G000.3+00.0', 'G000.9+00.1', 'G001.0-00.1', 'G001.4-00.1', 'G001.9+00.3', 'G003.7-00.2', 'G003.8+00.3', 'G004.2-03.5', 'G004.5+06.8', 'G004.8+06.2', 'G005.2-02.6', 'G005.4-01.2', 'G005.5+00.3', 'G005.7-00.1', 'G005.9+03.1', 'G006.1+00.5', 'G006.1+01.2', 'G006.4+04.0', 'G006.4+04.9', 'G006.4-00.1', 'G006.5-00.4', 'G007.0-00.1', 'G007.2+00.2', 'G007.5-01.7', 'G007.7-03.7', 'G008.3-00.0', 'G008.7-00.1', 'G008.7-05.0', 'G008.9+00.4', 'G009.7-00.0', 'G009.8+00.6', 'G009.9-00.8', 'G010.5-00.0', 'G010.9-45.4', 'G011.0-00.0', 'G011.1+00.1', 'G011.1-00.7', 'G011.1-01.0', 'G011.2-00.3', 'G011.4-00.1', 'G011.8-00.2', 'G012.0-00.1', 'G012.2+00.3', 'G012.5+00.2', 'G012.7-00.0', 'G012.8-00.0', 'G013.3-01.3', 'G013.5+00.2', 'G014.1-00.1', 'G014.3+00.1', 'G015.1-01.6', 'G015.4+00.1', 'G015.9+00.2', 'G016.0-00.5', 'G016.2-02.7', 'G016.4-00.5', 'G016.7+00.1', 'G017.0-00.0', 'G017.4-00.1', 'G017.4-02.3', 'G017.8-02.6', 'G018.0-00.7', 'G018.1-00.1', 'G018.5-00.4', 'G018.6-00.2', 'G018.8+00.3', 'G018.9-01.1', 'G019.1+00.2', 'G020.0-00.2', 'G020.4+00.1', 'G021.0-00.4', 'G021.5-00.1', 'G021.5-00.9', 'G021.6-00.8', 'G021.8-00.6', 'G021.9-00.1', 'G022.7-00.2', 'G023.3-00.3', 'G023.5+00.1', 'G023.6+00.3', 'G024.7+00.6', 'G024.7-00.6', 'G025.1-02.3', 'G025.2+00.3', 'G026.6-00.1', 'G027.4+00.0', 'G027.8+00.6', 'G028.6-00.1', 'G028.8+01.5', 'G029.4+00.1', 'G029.6+00.1', 'G029.7-00.3', 'G030.7+01.0', 'G030.7-02.0', 'G031.5-00.6', 'G031.9+00.0', 'G032.0-04.9', 'G032.1-00.9', 'G032.4+00.1', 'G032.6+00.5', 'G032.8-00.1', 'G033.2-00.6', 'G033.6+00.1', 'G034.0+20.3', 'G034.7-00.4', 'G035.6-00.4', 'G036.0+00.1', 'G036.6+02.6', 'G036.6-00.7', 'G038.7-01.3', 'G039.2-00.3', 'G039.7-02.0', 'G040.5-00.5', 'G041.1-00.3', 'G041.5+00.4', 'G042.0-00.1', 'G042.8+00.6', 'G043.3-00.2', 'G043.9+01.6', 'G044.5-00.2', 'G045.7-00.4', 'G046.8-00.3', 'G047.4-03.9', 'G049.2-00.7', 'G053.6-02.2', 'G054.1+00.3', 'G054.4-00.3', 'G055.0+00.3', 'G055.7+03.4', 'G057.2+00.8', 'G059.2-04.7', 'G059.5+00.1', 'G059.8+01.2', 'G063.7+01.1', 'G064.5+00.9', 'G065.1+00.6', 'G065.3+05.7', 'G065.7+01.2', 'G065.8-00.5', 'G066.0-00.0', 'G067.6+00.9', 'G067.7+01.8', 'G067.8+00.5', 'G068.6-01.2', 'G069.0+02.7', 'G069.7+01.0', 'G073.9+00.9', 'G074.0-08.5', 'G074.9+01.2', 'G075.2+00.1', 'G076.9+01.0', 'G078.2+02.1', 'G080.2+01.0', 'G082.2+05.3', 'G083.0-00.3', 'G084.2-00.8', 'G085.4+00.7', 'G085.9-00.6', 'G089.0+04.7', 'G093.3+06.9', 'G093.7-00.2', 'G094.0+01.0', 'G096.0+02.0', 'G106.3+02.7', 'G107.5-01.5', 'G108.2-00.6', 'G108.5+11.0', 'G108.6+06.8', 'G109.1-01.0', 'G111.7-02.1', 'G113.0+00.2', 'G114.3+00.3', 'G116.5+01.1', 'G116.9+00.2', 'G119.5+10.2', 'G120.1+01.4', 'G126.2+01.6', 'G127.1+00.5', 'G128.5+02.6', 'G130.7+03.1', 'G132.7+01.3', 'G141.2+05.0', 'G148.1+00.8', 'G149.5+03.2', 'G150.3+04.5', 'G150.8+03.8', 'G151.2+02.9', 'G152.4-02.1', 'G156.2+05.7', 'G159.6+07.3', 'G160.1-01.1', 'G160.9+02.6', 'G162.8-16.0', 'G166.0+04.3', 'G172.8+01.5', 'G178.2-04.2', 'G179.0+02.6', 'G180.0-01.7', 'G182.4+04.3', 'G184.6-05.8', 'G189.1+03.0', 'G189.6+03.3', 'G190.2+01.1', 'G190.9-02.2', 'G192.8-01.1', 'G195.1+04.3', 'G205.5+00.5', 'G206.9+02.3', 'G213.0-00.6', 'G230.4-01.4', 'G260.4-03.4', 'G261.9+05.5', 'G263.9-03.3', 'G266.2-01.2', 'G267.0-01.0', 'G269.7+00.0', 'G272.2-03.2', 'G276.5+19.0', 'G279.0+01.1', 'G284.0-01.8', 'G284.2-00.4', 'G284.3-01.8', 'G285.1-00.5', 'G286.5-01.2', 'G287.4+00.6', 'G289.7-00.3', 'G290.1-00.8', 'G291.0+00.1', 'G291.0-00.1', 'G292.0+01.8', 'G292.2-00.5', 'G293.8+00.6', 'G294.1-00.0', 'G296.1-00.5', 'G296.5+10.0', 'G296.6-00.4', 'G296.7-00.9', 'G296.8-00.3', 'G298.5-00.3', 'G298.6-00.0', 'G299.2-02.9', 'G299.3-01.5', 'G299.6-00.5', 'G301.4-01.0', 'G302.3+00.7', 'G304.1-00.2', 'G304.6+00.1', 'G306.3-00.9', 'G308.1-00.7', 'G308.4-01.4', 'G308.8-00.1', 'G309.2-00.6', 'G309.8+00.0', 'G309.8-02.6', 'G310.6-00.3', 'G310.6-01.6', 'G310.7-05.4', 'G310.8-00.4', 'G310.9-00.3', 'G311.5-00.3', 'G312.4-00.4', 'G312.5-03.0', 'G313.3+00.1', 'G313.6+00.3', 'G315.1+02.7', 'G315.4-00.3', 'G315.4-02.3', 'G315.9-00.0', 'G316.3-00.0', 'G317.3-00.2', 'G317.9-01.8', 'G318.2+00.1', 'G318.9+00.4', 'G319.9-00.7', 'G320.4-01.2', 'G320.6-01.6', 'G321.3-03.9', 'G321.9-00.3', 'G321.9-01.1', 'G322.1+00.0', 'G322.5-00.1', 'G322.7+00.1', 'G322.9-00.0', 'G323.5+00.1', 'G323.7-01.0', 'G323.9+00.0', 'G324.1+00.0', 'G325.0-00.3', 'G326.3-01.8', 'G327.1-01.1', 'G327.2-00.1', 'G327.4+00.4', 'G327.4+01.0', 'G327.6+14.6', 'G328.4+00.2', 'G329.7+00.4', 'G330.0+15.0', 'G330.2+01.0', 'G330.7+00.1', 'G332.0+00.2', 'G332.4+00.1', 'G332.4-00.4', 'G332.5-00.3', 'G332.5-05.6', 'G333.9+00.0', 'G334.0-00.8', 'G335.2+00.1', 'G336.4+00.2', 'G336.7+00.5', 'G336.7-00.3', 'G336.9-00.5', 'G337.0-00.1', 'G337.2+00.1', 'G337.2-00.7', 'G337.3+01.0', 'G337.5-00.1', 'G337.8-00.1', 'G338.1+00.4', 'G338.3-00.0', 'G338.5+00.1', 'G340.4+00.4', 'G340.6+00.3', 'G341.2+00.9', 'G341.9-00.3', 'G342.0-00.2', 'G342.1+00.9', 'G343.0-06.0', 'G343.1-00.7', 'G343.1-02.3', 'G344.7+00.1', 'G344.7-00.1', 'G345.1-00.2', 'G345.2+00.2', 'G345.7-00.2', 'G346.2-01.0', 'G346.6-00.2', 'G347.3-00.5', 'G348.5+00.1', 'G348.5-00.0', 'G348.7+00.3', 'G348.9+01.1', 'G348.9-00.4', 'G349.2-00.1', 'G349.7+00.2', 'G350.0-02.0', 'G350.1-00.3', 'G350.2-00.8', 'G351.0-05.4', 'G351.2+00.1', 'G351.7+00.8', 'G351.9-00.9', 'G352.7-00.1', 'G353.6-00.7', 'G353.9-02.0', 'G354.1+00.1', 'G354.1+00.3', 'G354.4+00.0', 'G354.8-00.8', 'G355.4+00.7', 'G355.6-00.0', 'G355.9-02.5', 'G356.2+04.5', 'G356.3-00.3', 'G356.3-01.5', 'G357.7+00.3', 'G357.7-00.1', 'G358.0+03.8', 'G358.1+00.1', 'G358.3+00.2', 'G358.5-00.9', 'G358.6-01.0', 'G359.0-00.9', 'G359.1+00.9', 'G359.1-00.5', 'G359.2-00.8', 'G359.9-00.0']\n",
    " "
   ]
  },
  {
   "cell_type": "code",
   "execution_count": null,
   "metadata": {
    "collapsed": false,
    "scrolled": true
   },
   "outputs": [],
   "source": [
    "crdsMan = [[float(i.strip('G')[:5]),float(i.strip('G')[5:])]  for i in manSNRs]\n",
    "l,b = zip(*crdsMan)\n",
    "crdsManDict = dict(zip(manSNRs,crdsMan))\n",
    "manSNRsDF = pd.DataFrame.from_dict(orient ='index', data = crdsManDict)\n",
    "manSNRsDF.columns=['l','b']\n",
    "manSNRsDF"
   ]
  },
  {
   "cell_type": "code",
   "execution_count": null,
   "metadata": {
    "collapsed": false
   },
   "outputs": [],
   "source": [
    "manReg = \"/Users/jmcohen/Desktop/manSNRs.reg\"\n",
    "writeReg(manSNRsDF,manReg)"
   ]
  },
  {
   "cell_type": "markdown",
   "metadata": {},
   "source": [
    "# Read in Green's Cat"
   ]
  },
  {
   "cell_type": "code",
   "execution_count": null,
   "metadata": {
    "collapsed": false
   },
   "outputs": [],
   "source": [
    "greensCat = \"/Users/jmcohen/Desktop/cur/gt10gevRuns/10gev/greensCat.txt\"\n",
    "greensDF = pd.read_csv(greensCat,header = 0,index_col = 0, na_values=[' ','  ','   ','    ','     '])#DataFrame.from_csv(greensCat)"
   ]
  },
  {
   "cell_type": "code",
   "execution_count": null,
   "metadata": {
    "collapsed": false,
    "scrolled": true
   },
   "outputs": [],
   "source": [
    "greensDF"
   ]
  },
  {
   "cell_type": "markdown",
   "metadata": {},
   "source": [
    "# Read in 2FHL"
   ]
  },
  {
   "cell_type": "code",
   "execution_count": null,
   "metadata": {
    "collapsed": true
   },
   "outputs": [],
   "source": [
    "pg = pyfits.open('/Users/jmcohen/Dropbox/CurrentWork/2FHL/2FHL_catalog_v5.21.fits')\n",
    "pgd = pg[1].data\n",
    "pgdExt = pg[2].data\n",
    "#get an error just trying to read the pyfits object into pandas\n",
    "#convert to dict of lists and then read that in\n",
    "\n",
    "#This is for the 2FHL_catalog_v0.fits version of the catalog\n",
    "pgdict = {x:pgd.field(x) for x in pgd.names}\n",
    "for i in pgdict:\n",
    "    #if pgdict.get(i).dtype is 'S10':\n",
    "    pgdict[i] = list(pgdict.get(i))\n",
    "        \n",
    "pgw = pd.DataFrame(pgdict)\n",
    "pgw.set_index('Source_Name',inplace = True)\n",
    "#pgwdExt\n",
    "pgdictExt = {x:pgdExt.field(x) for x in pgdExt.names}\n",
    "for i in pgdictExt:\n",
    "    #if pgdict.get(i).dtype is 'S10':\n",
    "    pgdictExt[i] = list(pgdictExt.get(i))\n",
    "        \n",
    "pgwExt = pd.DataFrame(pgdictExt)\n",
    "pgwExt.set_index('Source_Name',inplace = True)\n",
    "\n",
    "# pgw.columns\n",
    "# pgwExt.columns"
   ]
  },
  {
   "cell_type": "code",
   "execution_count": null,
   "metadata": {
    "collapsed": false,
    "scrolled": true
   },
   "outputs": [],
   "source": [
    "pgw"
   ]
  },
  {
   "cell_type": "code",
   "execution_count": null,
   "metadata": {
    "collapsed": true
   },
   "outputs": [],
   "source": [
    "os.chdir('/Users/jmcohen/Desktop/')\n",
    "writeReg(pgw,'2FHL_catalog_v5.21.reg') #makes circles now?"
   ]
  },
  {
   "cell_type": "markdown",
   "metadata": {},
   "source": [
    "# Read in 3FGL"
   ]
  },
  {
   "cell_type": "code",
   "execution_count": null,
   "metadata": {
    "collapsed": true
   },
   "outputs": [],
   "source": [
    "#Read in 3FGL to DataFrame\n",
    "#removes the uncertainties for nowsince the are 2D\n",
    "#should just add a dict for upper and lower\n",
    "\n",
    "#if I just want extended read in the extended extension (next cell)\n",
    "fgl3 = pyfits.open('/Users/jmcohen/Dropbox/Catalogs/3FGL/gll_psc_v14.fit')\n",
    "fgl3d =  fgl3[1].data\n",
    "poplist = []\n",
    "fgl3dict = {x:fgl3d.field(x) for x in fgl3d.names}\n",
    "for i in fgl3dict:\n",
    "    fgl3dict[i] = list(fgl3dict.get(i))\n",
    "#     if fgl3dict.get(i).ndim > 1:\n",
    "#         poplist.append(i)\n",
    "\n",
    "# for i in poplist:\n",
    "#     fgl3dict.pop(i)\n",
    "fgl3DF = pd.DataFrame(fgl3dict)\n",
    "fgl3DF.set_index('Source_Name',inplace = True)\n",
    "ext3FGL = [i for i in fgl3DF.index if i.endswith('e')]\n",
    "ext3FGLDF = fgl3DF.loc[ext3FGL]\n",
    "#ext3FGLDF.Extended_Source_Name"
   ]
  },
  {
   "cell_type": "code",
   "execution_count": null,
   "metadata": {
    "collapsed": false,
    "scrolled": true
   },
   "outputs": [],
   "source": [
    "fgl3DF"
   ]
  },
  {
   "cell_type": "markdown",
   "metadata": {},
   "source": [
    "# Read in Mars 10gev results"
   ]
  },
  {
   "cell_type": "code",
   "execution_count": null,
   "metadata": {
    "collapsed": false
   },
   "outputs": [],
   "source": [
    "mars= \"/Users/jmcohen/Desktop/cur/gt10gevRuns/10gev/finalsrcsinroi3b_10gev_10000.0_3500000.0_filtered__090715.dat\"\n",
    "#marsDF = pd.read_csv(mars,sep = ',')\n",
    "marsDF = pd.DataFrame.from_csv(mars, sep = ',')\n",
    "marsDF.set_index('srcName',inplace = True)\n",
    "# marsDFTSgt25 = dfMar[dfMar.TS >= 25]\n",
    "# marsDFTSgt25"
   ]
  },
  {
   "cell_type": "code",
   "execution_count": null,
   "metadata": {
    "collapsed": false,
    "scrolled": true
   },
   "outputs": [],
   "source": [
    "marsDF"
   ]
  },
  {
   "cell_type": "markdown",
   "metadata": {},
   "source": [
    "# Nearest neighor for 10gev with each other cat"
   ]
  },
  {
   "cell_type": "markdown",
   "metadata": {},
   "source": [
    "Be aware of which 3FGL/2FHL/TeV sources use sigma Gauss to measure extent and not disk sigma\n",
    "This will take a day, don't do this now!"
   ]
  },
  {
   "cell_type": "code",
   "execution_count": null,
   "metadata": {
    "collapsed": true
   },
   "outputs": [],
   "source": []
  },
  {
   "cell_type": "code",
   "execution_count": null,
   "metadata": {
    "collapsed": true
   },
   "outputs": [],
   "source": [
    "#Mar\n",
    "crdsMar = SkyCoord(l = marsDF.ra ,b = marsDF.dec, frame = 'fk5', unit = (u.degree, u.degree))\n",
    "if 'marNearDF' in locals():\n",
    "    del marNearDF\n",
    "marNearDF = pd.DataFrame(columns=['NearestNeighbor', 'AngSep', 'Primary_l', 'NN_l', 'Primary_b','NN_b'])#,'Primary_Sigma','NN_Sigma']) #include sigma just to make it easy to cut out ES\n",
    "indMin, indSep, sep = chkSep(crds2FHL_PS, crds2FHL_PS,n = 2) # idk if I need indMin?\n",
    "for i,j in enumerate(indSep): #i is index of crdsAdd with nearest 3FGL ES, that has index j #use indMin or indSep\n",
    "    srci = df2FHL.iloc[i]\n",
    "    srcj = df2FHL.iloc[j]\n",
    "    dfnearPGW.loc[srci.name] = [srcj.name,sep[i].degree, srci.GLON, srcj.GLON, srci.GLAT, srcj.GLAT,srci.Spectral_Index, srcj.Spectral_Index]#,sigi,sigj]"
   ]
  },
  {
   "cell_type": "code",
   "execution_count": null,
   "metadata": {
    "collapsed": true
   },
   "outputs": [],
   "source": [
    "#2FHL"
   ]
  },
  {
   "cell_type": "code",
   "execution_count": null,
   "metadata": {
    "collapsed": true
   },
   "outputs": [],
   "source": [
    "#3FGL"
   ]
  },
  {
   "cell_type": "code",
   "execution_count": null,
   "metadata": {
    "collapsed": true
   },
   "outputs": [],
   "source": [
    "#TeVCat"
   ]
  },
  {
   "cell_type": "code",
   "execution_count": null,
   "metadata": {
    "collapsed": true
   },
   "outputs": [],
   "source": [
    "#manitoba/greens"
   ]
  },
  {
   "cell_type": "markdown",
   "metadata": {},
   "source": [
    "# Maps of all regions"
   ]
  },
  {
   "cell_type": "markdown",
   "metadata": {},
   "source": [
    "## SImilar to the maps I made for 2FHL paper, not sure I can do these as easily for all here since I added specifc details for each SNR\n",
    "\n",
    "### don't show any labels for sources?\n",
    "### make another region file where I remove all the labels\n",
    "### Since we're only look at the regions where we agree, I'll make some maps"
   ]
  },
  {
   "cell_type": "code",
   "execution_count": 207,
   "metadata": {
    "collapsed": false
   },
   "outputs": [
    {
     "name": "stdout",
     "output_type": "stream",
     "text": [
      "/Users/elunejava/Desktop/gt10gev/old_free_galInd_iso/fermiSympPoster\n"
     ]
    }
   ],
   "source": [
    "mapsDir = os.path.join(galPlaneDir,'fermiSympPoster')\n",
    "if not os.path.exists(mapsDir) and not os.path.basename(os.getcwd()) == 'fermiSympPoster': \n",
    "    os.mkdir(mapsDir)\n",
    "os.chdir(mapsDir)\n",
    "print os.getcwd()"
   ]
  },
  {
   "cell_type": "code",
   "execution_count": null,
   "metadata": {
    "collapsed": true
   },
   "outputs": [],
   "source": [
    "###Zoom in of the 6 2FHL sources, fix axis labels to be larger\n",
    "###don't for all sources in RoI, could do for all ES though?\n",
    "#albSrc = {'l145_b0_ES_1':'Region_l150.0_b0.0', 'l290_b0_ES_1':'Region_l290.0_b0.0', 'l315_b0_ES_3':'Region_l315.0_b0.0', 'l30_b0_ES_2':'Region_l25.0_b0.0', 'l315_b0_ES_4':'Region_l315.0_b0.0', 'l315_b0_ES_1':'Region_l315.0_b0.0'}\n",
    "albSrc = {'l145_b0_ES_1':'Region_l150.0_b0.0'}\n",
    "srcFromReg = {'l145_b0_ES_1':'Region_l145.0_b0.0', 'l290_b0_ES_1':'Region_l290.0_b0.0', 'l315_b0_ES_3':'Region_l315.0_b0.0', 'l30_b0_ES_2':'Region_l30.0_b0.0', 'l315_b0_ES_4':'Region_l315.0_b0.0', 'l315_b0_ES_1':'Region_l315.0_b0.0'}\n",
    "#I want to have different params for vmax and zoom for each source\n",
    "#make two dicts with the params to enter by hand\n",
    "vmaxD = {'l145_b0_ES_1':30,'l290_b0_ES_1':40, 'l315_b0_ES_3':55, 'l30_b0_ES_2':40, 'l315_b0_ES_4':65, 'l315_b0_ES_1':45}\n",
    "zoomD = {'l145_b0_ES_1':3, 'l290_b0_ES_1':2.5, 'l315_b0_ES_3':2, 'l30_b0_ES_2':1.5, 'l315_b0_ES_4':2, 'l315_b0_ES_1':2}\n",
    "#zoom = 3.0\n",
    "plt.clf()\n",
    "singleReg = True\n",
    "pgwES = '/Users/jmcohen/Desktop/cur/2FHLRuns/galPlane_lowNorm/2FHL_addSrcs_TSgt25_justES.reg' # cur/2FHLRuns/galPlane_lowNorm/2FHL_addSrcs_TSgt25_justES_2FHL_noLab.reg'\n",
    "#pgw = '/Users/jmcohen/Dropbox/CurrentWork/2FHL/2FHL_v2.3_noLab.reg'\n",
    "pgw = '/Users/jmcohen/Dropbox/CurrentWork/2FHL/2FHL_catalog_v4.0.reg_noLab.reg' #used for G150\n",
    "#regFiles = [pgwES,pgw]\n",
    "regFiles = [pgw] #addSrcs ES are included in the 2FHL reg\n",
    "for srcReg,reg in albSrc.items():\n",
    "    regDir = regResDictsFin.get(reg)\n",
    "#     if not reg in 'Region_l290.0_b0.0':#'Region_l150.0_b0.0': #reg in ['Region_l315.0_b0.0','Region_l150.0_b0.0','Region_l25.0_b0.0','Region_l290.0_b0.0']:\n",
    "#         continue\n",
    "    print 'Working on %s' %(srcReg)\n",
    "    for maps in ['Resdiual TS Map']:\n",
    "        try:\n",
    "            if maps == 'Resdiual TS Map':\n",
    "                mapPath = os.path.join(os.path.dirname(os.path.dirname(regDir)),'Initial_fit_' +reg+ '_tsmap.fits')\n",
    "                cbarTitle = 'TS'\n",
    "            elif maps == 'Counts Maps':\n",
    "                cmap = reg + '_cmap.fits'\n",
    "                mapPath = os.path.join(galPlaneDir,reg,'50gevTo3500gev', cmap)\n",
    "                cbarTitle = 'Counts'\n",
    "        except Exception, e:\n",
    "            print \"%s for %s doesn't exist. Err: %s\" %(maps,reg,str(e))\n",
    "            continue\n",
    "        f = aplpy.FITSFigure(mapPath)\n",
    "        f.show_colorscale(vmin = 0, vmax =vmaxD.get(srcReg),cmap = 'hot', smooth = None,) #do I need to playt with the pmin/max? values?\n",
    "        f.set_tick_color('white')\n",
    "        f.show_grid()\n",
    "        f.add_label(x = 150.4,y=3.3,text = '2FHL J0431.2+5553e',family = 'Helvetica', relative =False, weight = 2, size =28, color = 'cyan')\n",
    "        f.add_label\n",
    "        f.set_system_latex(usetex = False)\n",
    "        # f.set_tick_labels_style('latex')\n",
    "        # f.set_labels_latex(True)\n",
    "        f.tick_labels.set_xformat('ddd.dd')\n",
    "        f.tick_labels.set_yformat('ddd.dd')\n",
    "        ax = plt.gca()\n",
    "        ax.xaxis.label.set_color('k')\n",
    "        ax.yaxis.label.set_color('k')\n",
    "        [i.set_color(\"k\") for i in plt.gca().get_xticklabels()]\n",
    "        [i.set_color(\"k\") for i in plt.gca().get_yticklabels()]\n",
    "        cbar = plt.colorbar\n",
    "        f.frame.set_color('black')\n",
    "        f.frame.set_linewidth(2)\n",
    "        f.add_colorbar()\n",
    "        f.axis_labels.set_font(size='28',weight='bold')\n",
    "        f.tick_labels.set_font(size ='20',weight = 'bold')\n",
    "        f.colorbar.set_axis_label_text(cbarTitle)\n",
    "        ###\n",
    "        c = f.image.colorbar\n",
    "        c.ax.yaxis.label.set_color('k')\n",
    "        [i.set_color(\"k\") for i in c.ax.get_yticklabels()]\n",
    "        #color_bar = plt.colorbar(f.image.colorbar())                            #this one is a little bit\n",
    "        #cbytick_obj = plt.getp(color_bar.ax.axes, 'yticklabels')                #tricky\n",
    "        #plt.setp(cbytick_obj, color='r')\n",
    "        ###\n",
    "        #c.set_tick_color('k')\n",
    "        #f.colorbar.set_color\n",
    "        f.colorbar.set_font(size='20',weight = 'bold')\n",
    "        f.colorbar.set_axis_label_font(size='28',weight='bold')\n",
    "        #f.colorbar.solids.set_edgecolor(\"face\") #not sure this works?\n",
    "        #f.colorbar.set_ticks(ticks = plt.MaxNLocator(integer = True))\n",
    "        #Region_l150.0_b0.0 l145_b0_ES_1\n",
    "        #resPan['Region_l30.0_b0.0'].transpose().dropna(how = 'all').loc['l30_b0_ES_2']\n",
    "        reg = srcFromReg.get(srcReg)\n",
    "        l = resPan[reg].transpose().dropna(how = 'all').loc[srcReg].l\n",
    "        if srcReg in 'l315_b0_ES_1':\n",
    "            l = l + 0.5\n",
    "        b = resPan[reg].transpose().dropna(how = 'all').loc[srcReg].b\n",
    "        if srcReg in 'l145_b0_ES_1':\n",
    "            b = b-1.5\n",
    "        f.recenter(l, b, zoomD.get(srcReg))\n",
    "        for r in regFiles:\n",
    "            f.show_regions(r)\n",
    "#         for r in regFiles:\n",
    "#             f.show_regions(r)\n",
    "#         for r in regFiles:\n",
    "#             f.show_regions(r)\n",
    "        #break\n",
    "        #f.show_regions(allSrcs)\n",
    "        # f.add_grid()\n",
    "        # f.hide_grid()\n",
    "        # aplpy.grid.Grid(f).hide()\n",
    "        #break\n",
    "        sv = srcReg+maps.replace(' ','')+'_residTSmap_2FHL_zoom.eps'\n",
    "        f.save(sv)\n",
    "        #sv = srcReg+maps.replace(' ','')+'_residTSmap_2FHL_zoom.png'\n",
    "        #f.save(sv)\n",
    "        f.close()\n",
    "        del f\n",
    "    #break"
   ]
  },
  {
   "cell_type": "markdown",
   "metadata": {},
   "source": [
    "# sigma 10gev vs. GeV vs. TeV vs. radio\n",
    "## to do this , I need to add cols to the DF assinging a TeV/oldGeV/radio name to each ES\n",
    "## I don't want to do this until more runs have finished though?\n",
    "## or maybe I just have to use the all runs rois and not final.dat?"
   ]
  },
  {
   "cell_type": "markdown",
   "metadata": {},
   "source": [
    "# For Fermi symp 15 poster\n",
    "### No lables for now"
   ]
  },
  {
   "cell_type": "code",
   "execution_count": 333,
   "metadata": {
    "collapsed": false
   },
   "outputs": [
    {
     "name": "stdout",
     "output_type": "stream",
     "text": [
      "Working on l150_b0_ES_1\n"
     ]
    },
    {
     "data": {
      "text/plain": [
       "<matplotlib.figure.Figure at 0x12b30ccd0>"
      ]
     },
     "metadata": {},
     "output_type": "display_data"
    }
   ],
   "source": [
    "###Zoom in of the 6 2FHL sources, fix axis labels to be larger\n",
    "###don't for all sources in RoI, could do for all ES though?\n",
    "#albSrc = {'l145_b0_ES_1':'Region_l150.0_b0.0', 'l290_b0_ES_1':'Region_l290.0_b0.0', 'l315_b0_ES_3':'Region_l315.0_b0.0', 'l30_b0_ES_2':'Region_l25.0_b0.0', 'l315_b0_ES_4':'Region_l315.0_b0.0', 'l315_b0_ES_1':'Region_l315.0_b0.0'}\n",
    "albSrc = {'l150_b0_ES_1':'Region_l150.0_b0.0','l315_b0_ES_1':'Region_l315.0_b0.0','l110_b0_ES_1':'Region_l110.0_b0.0'}\n",
    "srcFromReg = {'l150_b0_ES_1':'Region_l150.0_b0.0','l315_b0_ES_1':'Region_l315.0_b0.0','l110_b0_ES_1':'Region_l110.0_b0.0'}\n",
    "#I want to have different params for vmax and zoom for each source\n",
    "#make two dicts with the params to enter by hand\n",
    "vmaxD = {'l150_b0_ES_1':35,'l315_b0_ES_1':43,'l110_b0_ES_1':25}#,'l290_b0_ES_1':40, 'l315_b0_ES_3':55, 'l30_b0_ES_2':40, 'l315_b0_ES_4':65, 'l315_b0_ES_1':45}\n",
    "zoomD = {'l150_b0_ES_1':3,'l315_b0_ES_1':2,'l110_b0_ES_1':2}# 'l290_b0_ES_1':2.5, 'l315_b0_ES_3':2, 'l30_b0_ES_2':1.5, 'l315_b0_ES_4':2, 'l315_b0_ES_1':2}\n",
    "vmaxCmap  = {'l150_b0_ES_1':1.3,'l315_b0_ES_1':2.4,'l110_b0_ES_1':2}#,'l290_b0_ES_1':40, 'l315_b0_ES_3':55, 'l30_b0_ES_2':40, 'l315_b0_ES_4':65, 'l315_b0_ES_1':45}\n",
    "#zoom = 3.0\n",
    "reg3fgl = \"/Users/elunejava/Dropbox/Catalogs/3FGL/gll_psc_v15_noLab.reg\"\n",
    "plt.clf()\n",
    "singleReg = True\n",
    "#cont = \"/Users/elunejava/Desktop/G150_radioMaps/G150.3+4.5_WENSS_radio325MHz.fits\"\n",
    "#pgwES = '/Users/jmcohen/Desktop/cur/2FHLRuns/galPlane_lowNorm/2FHL_addSrcs_TSgt25_justES.reg' # cur/2FHLRuns/galPlane_lowNorm/2FHL_addSrcs_TSgt25_justES_2FHL_noLab.reg'\n",
    "#pgw = '/Users/jmcohen/Dropbox/CurrentWork/2FHL/2FHL_v2.3_noLab.reg'\n",
    "pgw = os.path.join(home,\"/Users/elunejava/Desktop/gt10gev/gt10gev_pruned_TS25_nolab.reg\") #used for G150\n",
    "#regFiles = [pgwES,pgw]\n",
    "regFiles = [pgw] #addSrcs ES are included in the 2FHL reg\n",
    "for srcReg,reg in albSrc.items():\n",
    "    if not reg.startswith('Region_l150'): continue\n",
    "    regDir = regResDictsFin.get(reg)\n",
    "#     if not reg in 'Region_l290.0_b0.0':#'Region_l150.0_b0.0': #reg in ['Region_l315.0_b0.0','Region_l150.0_b0.0','Region_l25.0_b0.0','Region_l290.0_b0.0']:\n",
    "#         continue\n",
    "    print 'Working on %s' %(srcReg)\n",
    "    for maps in ['Resdiual TS Map','Counts Maps']:\n",
    "        try:\n",
    "            if maps == 'Resdiual TS Map':\n",
    "                #because I have them already\n",
    "                #mapPath = os.path.join(os.path.dirname(os.path.dirname(regDir)),'Initial_fit_aftDelTSlt9_' +reg+ '_tsmap.fits')\n",
    "                mapPath = '/Users/elunejava/Desktop/gt10gev/free_galInd_iso/fixedAddSrcsprobs/Region_l150.0_b0.0/10gevTo1000gev/addSrcs/ES_4_Region_l150.0_b0.0_zero_tsmap.fits'###hacked map math\n",
    "                #mapPath = '/Users/elunejava/Desktop/l315zeroMaps/ES_8_zero_tsmap.fits'\n",
    "                cbarTitle = 'TS'\n",
    "                #continue\n",
    "            elif maps == 'Counts Maps':\n",
    "                cmap = reg + '_cmap_big.fits' #'Region_l315.0_b0.0_cmap.fits'\n",
    "                #mapPath = os.path.join(galPlaneDir,reg,'10gevTo1000gev', cmap)\n",
    "                mapPath = \"/Users/elunejava/Desktop/Regionl150.0_b0_cmap_big.fits\"#os.path.join(galPlaneDir,reg,'10gevTo1000gev', cmap)\n",
    "                cbarTitle = 'Counts'\n",
    "                continue\n",
    "        except Exception, e:\n",
    "            print \"%s for %s doesn't exist. Err: %s\" %(maps,reg,str(e))\n",
    "            continue\n",
    "        f = aplpy.FITSFigure(mapPath)\n",
    "        if maps == 'Counts Maps':\n",
    "            f.show_colorscale(vmin = 0, vmax =vmaxCmap.get(srcReg),cmap = 'gray', smooth = 3) #do I need to playt with the pmin/max? values?\n",
    "        else:\n",
    "            f.show_colorscale(vmin = 0, vmax =vmaxD.get(srcReg),cmap = 'hot', smooth = None,) #do I need to playt with the pmin/max? values?\n",
    "        f.set_tick_color('white')\n",
    "        f.show_grid()\n",
    "        #f.add_label(x = 150.4,y=3.3,text = 'G150.3+4.5',family = 'Helvetica', relative =False, weight = 2, size =28, color = 'cyan')\n",
    "        f.add_label\n",
    "        f.set_system_latex(usetex = False)\n",
    "        # f.set_tick_labels_style('latex')\n",
    "        # f.set_labels_latex(True)\n",
    "        f.tick_labels.set_xformat('ddd.dd')\n",
    "        f.tick_labels.set_yformat('ddd.dd')\n",
    "        ax = plt.gca()\n",
    "        ax.xaxis.label.set_color('k')\n",
    "        ax.yaxis.label.set_color('k')\n",
    "        [i.set_color(\"k\") for i in plt.gca().get_xticklabels()]\n",
    "        [i.set_color(\"k\") for i in plt.gca().get_yticklabels()]\n",
    "        cbar = plt.colorbar\n",
    "        f.frame.set_color('black')\n",
    "        f.frame.set_linewidth(2)\n",
    "        f.add_colorbar()\n",
    "        f.axis_labels.set_font(size='28',weight='bold')\n",
    "        f.tick_labels.set_font(size ='20',weight = 'bold')\n",
    "        f.colorbar.set_axis_label_text(cbarTitle)\n",
    "        ###\n",
    "        c = f.image.colorbar\n",
    "        c.ax.yaxis.label.set_color('k')\n",
    "        [i.set_color(\"k\") for i in c.ax.get_yticklabels()]\n",
    "        #color_bar = plt.colorbar(f.image.colorbar())                            #this one is a little bit\n",
    "        #cbytick_obj = plt.getp(color_bar.ax.axes, 'yticklabels')                #tricky\n",
    "        #plt.setp(cbytick_obj, color='r')\n",
    "        ###\n",
    "        #c.set_tick_color('k')\n",
    "        #f.colorbar.set_color\n",
    "        f.colorbar.set_font(size='20',weight = 'bold')\n",
    "        f.colorbar.set_axis_label_font(size='28',weight='bold')\n",
    "        #f.colorbar.solids.set_edgecolor(\"face\") #not sure this works?\n",
    "        #f.colorbar.set_ticks(ticks = plt.MaxNLocator(integer = True))\n",
    "        #Region_l150.0_b0.0 l145_b0_ES_1\n",
    "        #resPan['Region_l30.0_b0.0'].transpose().dropna(how = 'all').loc['l30_b0_ES_2']\n",
    "        reg = srcFromReg.get(srcReg)\n",
    "        l = resPan[reg].transpose().dropna(how = 'all').loc[srcReg].l\n",
    "        #if srcReg in 'l315_b0_ES_1':\n",
    "        #    l = l + 0.5\n",
    "        b = resPan[reg].transpose().dropna(how = 'all').loc[srcReg].b\n",
    "        if srcReg in 'l150_b0_ES_1':\n",
    "            pass\n",
    "            l=150.3\n",
    "            b = 4.5#b-1. #150.2419 \t4.579911\n",
    "            #f.show_contour(cont, convention='wells', overlap = True, returnlevels = False, colors = 'saddlebrown',levels = [0.0001,0.636425,0.9], filled = False, smooth = 3,lw = 6)\n",
    "        f.recenter(l, b, zoomD.get(srcReg))\n",
    "        if maps == 'Counts Maps':\n",
    "            f.show_regions(reg3fgl)\n",
    "            f.show_regions(r)\n",
    "            f.show_circles(150.384, 5.2,1.27, edgecolor = 'lime', lw = 4,linestyle = ':') \n",
    "        else:\n",
    "            for r in regFiles:\n",
    "                f.show_regions(r)\n",
    "#         for r in regFiles:\n",
    "#             f.show_regions(r)\n",
    "#         for r in regFiles:\n",
    "#             f.show_regions(r)\n",
    "        #break\n",
    "        #f.show_regions(allSrcs)\n",
    "        # f.add_grid()\n",
    "        # f.hide_grid()\n",
    "        # aplpy.grid.Grid(f).hide()\n",
    "        #break\n",
    "        #\n",
    "        if not maps == 'Counts Maps':\n",
    "            f.show_circles(150.3,4.5,1.5, edgecolor = 'white', lw = 2,linestyle = '--')\n",
    "            #f.show_contour(cont, convention='wells', overlap = True, returnlevels = False, colors = 'white',levels = [0.0001,0.636425,0.9], filled = False, smooth = 3,linewidths = 1)#,linestyles='dashed')\n",
    "            f.show_circles(315.42, -2.359999,0.35, edgecolor = 'white', lw = 2,linestyle = '--')\n",
    "            f.show_circles(109.14, -1.02,0.23, edgecolor = 'white', lw = 2,linestyle = '--')\n",
    "            #radio \n",
    "            f.show_circles(150.3,4.5,1.5, edgecolor = 'white', lw = 2,linestyle = '--')\n",
    "            f.show_circles(315.42, -2.359999,0.35, edgecolor = 'white', lw = 2,linestyle = '--')\n",
    "            f.show_circles(109.14, -1.02,0.23, edgecolor = 'white', lw = 2,linestyle = '--')\n",
    "            #2FHL\n",
    "            f.show_circles(315.505, -2.2,0.27, edgecolor = 'lime', lw = 4,linestyle = ':')\n",
    "            f.show_circles(150.384, 5.2,1.27, edgecolor = 'lime', lw = 4,linestyle = ':') \n",
    "        #f.show_ellipses(150.3,4.5,2.5,3., edgecolor = 'white', lw = 2)\n",
    "        sv = srcReg+maps.replace(' ','')+'_10gev_zoom_zero.eps'\n",
    "        f.save(sv,dpi=300)\n",
    "        sv = srcReg+maps.replace(' ','')+'_10gev_zoom_zero.png'\n",
    "        f.save(sv,dpi=300)\n",
    "        sv = srcReg+maps.replace(' ','')+'_10gev_zoom_zero.pdf'\n",
    "        f.save(sv,dpi=300)\n",
    "        #sv = srcReg+maps.replace(' ','')+'_residTSmap_2FHL_zoom.png'\n",
    "        #f.save(sv)\n",
    "        f.close()\n",
    "        del f\n",
    "    #break"
   ]
  }
 ],
 "metadata": {
  "kernelspec": {
   "display_name": "Python 2",
   "language": "python",
   "name": "python2"
  },
  "language_info": {
   "codemirror_mode": {
    "name": "ipython",
    "version": 2
   },
   "file_extension": ".py",
   "mimetype": "text/x-python",
   "name": "python",
   "nbconvert_exporter": "python",
   "pygments_lexer": "ipython2",
   "version": "2.7.10"
  }
 },
 "nbformat": 4,
 "nbformat_minor": 0
}
