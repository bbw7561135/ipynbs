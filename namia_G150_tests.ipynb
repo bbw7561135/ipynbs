{
 "cells": [
  {
   "cell_type": "markdown",
   "metadata": {},
   "source": [
    "# G150  Naima tests\n",
    "* Naima is python package to compute nonthermal emission from a particle population\n",
    "* It employs the emcee MCMC package to fit the radiative models to data\n",
    "\n",
    "Bayes' theorem:\n",
    "$\\mathrm{P(A \\mid B) = \\frac{P(B \\mid A) \\, P(A)}{P(B)}}$\n",
    "\n",
    "with:\n",
    "\n",
    "$\\mathrm{P(A \\mid B)}$ == Posterior probability (think prob of model given data)\n",
    "\n",
    "$\\mathrm{P(A)}$ == prior \n",
    "\n",
    "$\\mathrm{\\frac{P(B \\mid A)} == Likelihood\n",
    "\n",
    "* emcee use an MCMC method to sample from the posterior distribution to find most likely values for the parameters of the model\n",
    "* I think what's done is take log of both sides, the normalization parameter, \\mathrm{P(B)} is independent of the model, and then the likelihood, $\\mathrm{\\frac{P(B \\mid A)}, is maximized assuming some prior (often a flat prior, not sure what would motivate a different prior like a normally distributed one say)\n",
    "* Start with some intial guess for parameters, and the MCMC sampler sets up n random walkers to probe the likelihood space, where the values of the next guess only depend on the previous step, to find the maximum likelihood.\n",
    "* In naiama, we try to find the most likely parameters of some given particle distribution function that give the best fit of the radiative models (which take the particle distibution funcion as input) to our data.\n",
    "* I think I could flip this and fit params of the radiativ models (like ambient density or magnetic field for sync say) and fix the params of the particle distribution. Or mix too, like fix index of particle distribution, fit magneitic field"
   ]
  },
  {
   "cell_type": "code",
   "execution_count": 36,
   "metadata": {
    "collapsed": false
   },
   "outputs": [],
   "source": [
    "%matplotlib inline\n",
    "import matplotlib as mpl\n",
    "import matplotlib.pyplot as plt\n",
    "import numpy as np\n",
    "from astropy.table import Table\n",
    "from astropy.io import ascii\n",
    "from astropy import units as u\n",
    "from astropy import constants as c\n",
    "import pandas as pd\n",
    "mpl.style.use('ggplot')\n",
    "import naima\n",
    "from naima.models import InverseCompton, Synchrotron, ExponentialCutoffPowerLaw, PionDecay, PowerLaw, Bremsstrahlung\n",
    "#from sherpa.astro.ui import *\n",
    "import naima.sherpa_models as smodels\n",
    "import os, sys"
   ]
  },
  {
   "cell_type": "code",
   "execution_count": 2,
   "metadata": {
    "collapsed": false
   },
   "outputs": [],
   "source": [
    "#Setup data\n",
    "tDir = '/Users/elunejava/Desktop/naimaTest/'\n",
    "os.chdir(tDir)\n",
    "G150_data = ascii.read(os.path.join(tDir,'G150_1gev_xgev_yerg_naimaSED.txt'))\n",
    "#add radio here"
   ]
  },
  {
   "cell_type": "markdown",
   "metadata": {
    "collapsed": true
   },
   "source": [
    "## Still not sure what best par are for some functions, try running interactively?\n",
    "## Not sure how well this will work with no x-ray/TeV emission to constrain fits\n",
    "## If I include radio, need to include sync (which I don't below) , but it still won't constrain well without x-ray (since no peak, or data on the othe side of the peak)?\n",
    "## Trying with ECPL, but should I be using PL model for particle distributions since I might don't have info to constrain peaks (need turn overs/breaks in photon data to infer peaks in particle distribution?)?\n"
   ]
  },
  {
   "cell_type": "markdown",
   "metadata": {},
   "source": [
    "## Can I use the the same particle population? for e-/p?\n",
    "## I think what I really want to do is have two particle populations but have the index tied, norm seperate for the two\n",
    "## issues getting bremss to run, don't need it either right now?\n"
   ]
  },
  {
   "cell_type": "markdown",
   "metadata": {},
   "source": [
    "# 1. Just IC"
   ]
  },
  {
   "cell_type": "code",
   "execution_count": 118,
   "metadata": {
    "collapsed": true
   },
   "outputs": [],
   "source": [
    "###why not prior for the cutoff? does it just mean I have no clue what the cutoff is? or that I just don't want to limit it?\n",
    "###do I need to add params?\n",
    "###this was for norm, inde,cutoff, B right?\n",
    "def lnprior(pars):\n",
    "    \"\"\"\n",
    "    Return probability of parameter values according to prior knowledge.\n",
    "    Parameter \n",
    "        \"\"\"\n",
    "    # Limit norm to be > 0\n",
    "    logprob = naima.uniform_prior(pars[0], 0., np.inf) \\\n",
    "                + naima.uniform_prior(pars[1], -1, 5)\n",
    "\n",
    "    return logprob"
   ]
  },
  {
   "cell_type": "code",
   "execution_count": 119,
   "metadata": {
    "collapsed": false
   },
   "outputs": [],
   "source": [
    "def electronIC(pars,data):\n",
    "    \"\"\"Decide between PL or ECPL model based on number\n",
    "         of params in pars. Set up e- IC model\"\"\"\n",
    "    #if this function needs to be passed into the model\n",
    "    #not sure I can have ph fields as a param above\n",
    "    #same for Eemin and dist\n",
    "    \n",
    "    #params not to be fit\n",
    "    sd_ph = ['CMB','FIR','NIR']\n",
    "    ic_eeMin = 1 * u.GeV\n",
    "    dist = 0.39 *u.kpc\n",
    "    \n",
    "    #define units for params to be fit\n",
    "    amplitude = 10**pars[0] / u.eV\n",
    "    alpha = pars[1]\n",
    "    \n",
    "    #Instantiate particle distribution\n",
    "    if len(pars) == 2:\n",
    "        #print 'Particle distribution model is PL'\n",
    "        pMod = PowerLaw(amplitude, 10. * u.TeV, alpha)\n",
    "    elif len(pars) == 3:\n",
    "        #print 'Particle distribution model is ECPL'\n",
    "        e_cutoff = (10**pars[2]) * u.TeV\n",
    "        pMod = ExponentialCutoffPowerLaw(amplitude, 10. * u.TeV, alpha, e_cutoff)\n",
    "    else:\n",
    "        raise Exception('Wrong number of params input for PL or ECPL')\n",
    "    \n",
    "    #instantiate IC models\n",
    "    IC = InverseCompton(pMod,\n",
    "                    seed_photon_fields=sd_ph,\n",
    "                    Eemin=ic_eeMin)\n",
    "\n",
    "\n",
    "    # compute flux at the energies\n",
    "    model = (IC.flux(data,distance=dist))\n",
    "\n",
    "    # Save this realization of the particle distribution function\n",
    "    elec_energy = np.logspace(11, 15, 100) * u.eV\n",
    "    nelec = pMod(elec_energy)\n",
    "\n",
    "    We_IC = IC.compute_We(Eemin= ic_eeMin)#1 * u.TeV)\n",
    "    return model, (elec_energy, nelec), We_IC"
   ]
  },
  {
   "cell_type": "code",
   "execution_count": 120,
   "metadata": {
    "collapsed": false,
    "scrolled": true
   },
   "outputs": [
    {
     "name": "stderr",
     "output_type": "stream",
     "text": [
      "INFO:astropy:Finding Maximum Likelihood parameters through Nelder-Mead fitting...\n",
      "INFO:astropy:   Initial parameters: [ 31.20921431   2.5          1.68124124]\n",
      "INFO:astropy:   Initial lnprob(p0): -638.189\n"
     ]
    },
    {
     "name": "stdout",
     "output_type": "stream",
     "text": [
      "INFO: Finding Maximum Likelihood parameters through Nelder-Mead fitting... [naima.core]\n",
      "INFO:    Initial parameters: [ 31.20921431   2.5          1.68124124] [naima.core]\n",
      "INFO:    Initial lnprob(p0): -638.189 [naima.core]\n",
      "INFO"
     ]
    },
    {
     "name": "stderr",
     "output_type": "stream",
     "text": [
      "INFO:astropy:   New ML parameters : [ 30.19989695   1.63877224   2.13198542]\n",
      "INFO:astropy:   Maximum lnprob(p0): -2.793\n"
     ]
    },
    {
     "name": "stdout",
     "output_type": "stream",
     "text": [
      ":    New ML parameters : [ 30.19989695   1.63877224   2.13198542] [naima.core]\n",
      "INFO:    Maximum lnprob(p0): -2.793 [naima.core]\n",
      "Burning in the 32 walkers with 100 steps...\n",
      "\n",
      "Progress of the run: 0 percent (0 of 100 steps)\n",
      "                           --log10(norm)-- -----index----- -log10(cutoff)-\n",
      "  Last ensemble median :      30.2            1.64            2.13      \n",
      "  Last ensemble std    :      0.138          0.00789         0.0101     \n",
      "  Last ensemble lnprob :  avg: -17.126, max: -2.814\n",
      "\n",
      "Progress of the run: 5 percent (5 of 100 steps)\n",
      "                           --log10(norm)-- -----index----- -log10(cutoff)-\n",
      "  Last ensemble median :      30.2            1.64            2.13      \n",
      "  Last ensemble std    :     0.0912           0.015          0.0192     \n",
      "  Last ensemble lnprob :  avg: -9.186, max: -2.798\n",
      "\n",
      "Progress of the run: 10 percent (10 of 100 steps)\n",
      "                           --log10(norm)-- -----index----- -log10(cutoff)-\n",
      "  Last ensemble median :      30.2            1.64            2.13      \n",
      "  Last ensemble std    :     0.0683          0.0246           0.024     \n",
      "  Last ensemble lnprob :  avg: -5.768, max: -2.828\n",
      "\n",
      "Progress of the run: 15 percent (15 of 100 steps)\n",
      "                           --log10(norm)-- -----index----- -log10(cutoff)-\n",
      "  Last ensemble median :      30.2            1.64            2.14      \n",
      "  Last ensemble std    :     0.0735          0.0515          0.0433     \n",
      "  Last ensemble lnprob :  avg: -4.635, max: -2.809\n",
      "\n",
      "Progress of the run: 20 percent (20 of 100 steps)\n",
      "                           --log10(norm)-- -----index----- -log10(cutoff)-\n",
      "  Last ensemble median :      30.2            1.63            2.14      \n",
      "  Last ensemble std    :     0.0914          0.0766          0.0789     \n",
      "  Last ensemble lnprob :  avg: -4.388, max: -2.799\n",
      "\n",
      "Progress of the run: 25 percent (25 of 100 steps)\n",
      "                           --log10(norm)-- -----index----- -log10(cutoff)-\n",
      "  Last ensemble median :      30.2            1.64            2.16      \n",
      "  Last ensemble std    :     0.0792          0.0696          0.0642     \n",
      "  Last ensemble lnprob :  avg: -4.089, max: -2.679\n",
      "\n",
      "Progress of the run: 30 percent (30 of 100 steps)\n",
      "                           --log10(norm)-- -----index----- -log10(cutoff)-\n",
      "  Last ensemble median :      30.2            1.63            2.17      \n",
      "  Last ensemble std    :     0.0702          0.0889          0.0693     \n",
      "  Last ensemble lnprob :  avg: -4.043, max: -2.650\n",
      "\n",
      "Progress of the run: 35 percent (35 of 100 steps)\n",
      "                           --log10(norm)-- -----index----- -log10(cutoff)-\n",
      "  Last ensemble median :      30.2            1.66            2.21      \n",
      "  Last ensemble std    :      0.083           0.129           0.138     \n",
      "  Last ensemble lnprob :  avg: -4.261, max: -2.493\n",
      "\n",
      "Progress of the run: 40 percent (40 of 100 steps)\n",
      "                           --log10(norm)-- -----index----- -log10(cutoff)-\n",
      "  Last ensemble median :      30.2            1.67            2.22      \n",
      "  Last ensemble std    :     0.0715           0.155           0.183     \n",
      "  Last ensemble lnprob :  avg: -3.742, max: -2.395\n",
      "\n",
      "Progress of the run: 45 percent (45 of 100 steps)\n",
      "                           --log10(norm)-- -----index----- -log10(cutoff)-\n",
      "  Last ensemble median :      30.2            1.69             2.2      \n",
      "  Last ensemble std    :     0.0883           0.221           0.253     \n",
      "  Last ensemble lnprob :  avg: -3.927, max: -2.137\n",
      "\n",
      "Progress of the run: 50 percent (50 of 100 steps)\n",
      "                           --log10(norm)-- -----index----- -log10(cutoff)-\n",
      "  Last ensemble median :      30.2            1.71            2.17      \n",
      "  Last ensemble std    :     0.0915           0.217           0.201     \n",
      "  Last ensemble lnprob :  avg: -3.752, max: -2.234\n",
      "\n",
      "Progress of the run: 55 percent (55 of 100 steps)\n",
      "                           --log10(norm)-- -----index----- -log10(cutoff)-\n",
      "  Last ensemble median :      30.2            1.73            2.24      \n",
      "  Last ensemble std    :     0.0937           0.22            0.234     \n",
      "  Last ensemble lnprob :  avg: -3.983, max: -2.131\n",
      "\n",
      "Progress of the run: 60 percent (60 of 100 steps)\n",
      "                           --log10(norm)-- -----index----- -log10(cutoff)-\n",
      "  Last ensemble median :      30.2            1.69            2.16      \n",
      "  Last ensemble std    :     0.0899           0.206           0.236     \n",
      "  Last ensemble lnprob :  avg: -4.184, max: -2.421\n",
      "\n",
      "Progress of the run: 65 percent (65 of 100 steps)\n",
      "                           --log10(norm)-- -----index----- -log10(cutoff)-\n",
      "  Last ensemble median :      30.2            1.71            2.26      \n",
      "  Last ensemble std    :     0.0834           0.234           0.272     \n",
      "  Last ensemble lnprob :  avg: -4.228, max: -1.923\n",
      "\n",
      "Progress of the run: 70 percent (70 of 100 steps)\n",
      "                           --log10(norm)-- -----index----- -log10(cutoff)-\n",
      "  Last ensemble median :      30.2            1.72            2.31      \n",
      "  Last ensemble std    :     0.0858           0.241           0.31      \n",
      "  Last ensemble lnprob :  avg: -3.863, max: -1.934\n",
      "\n",
      "Progress of the run: 75 percent (75 of 100 steps)\n",
      "                           --log10(norm)-- -----index----- -log10(cutoff)-\n",
      "  Last ensemble median :      30.2            1.75            2.31      \n",
      "  Last ensemble std    :     0.0858           0.288           0.394     \n",
      "  Last ensemble lnprob :  avg: -4.026, max: -2.174\n",
      "\n",
      "Progress of the run: 80 percent (80 of 100 steps)\n",
      "                           --log10(norm)-- -----index----- -log10(cutoff)-\n",
      "  Last ensemble median :      30.2            1.76            2.32      \n",
      "  Last ensemble std    :     0.0872           0.282           0.318     \n",
      "  Last ensemble lnprob :  avg: -3.649, max: -2.021\n",
      "\n",
      "Progress of the run: 85 percent (85 of 100 steps)\n",
      "                           --log10(norm)-- -----index----- -log10(cutoff)-\n",
      "  Last ensemble median :      30.2            1.77            2.38      \n",
      "  Last ensemble std    :     0.0801           0.258           0.315     \n",
      "  Last ensemble lnprob :  avg: -3.757, max: -1.931\n",
      "\n",
      "Progress of the run: 90 percent (90 of 100 steps)\n",
      "                           --log10(norm)-- -----index----- -log10(cutoff)-\n",
      "  Last ensemble median :      30.2            1.78            2.33      \n",
      "  Last ensemble std    :     0.0887           0.26            0.374     \n",
      "  Last ensemble lnprob :  avg: -3.446, max: -1.991\n",
      "\n",
      "Progress of the run: 95 percent (95 of 100 steps)\n",
      "                           --log10(norm)-- -----index----- -log10(cutoff)-\n",
      "  Last ensemble median :      30.2            1.78            2.31      \n",
      "  Last ensemble std    :     0.0759           0.212           0.428     \n",
      "  Last ensemble lnprob :  avg: -3.397, max: -1.923\n",
      "\n",
      "Walker burn in finished, running 20 steps...\n",
      "\n",
      "Progress of the run: 0 percent (0 of 20 steps)\n",
      "                           --log10(norm)-- -----index----- -log10(cutoff)-\n",
      "  Last ensemble median :      30.2            1.77            2.35      \n",
      "  Last ensemble std    :     0.0799           0.257           0.483     \n",
      "  Last ensemble lnprob :  avg: -3.299, max: -1.867\n",
      "\n",
      "Progress of the run: 5 percent (1 of 20 steps)\n",
      "                           --log10(norm)-- -----index----- -log10(cutoff)-\n",
      "  Last ensemble median :      30.2            1.78            2.36      \n",
      "  Last ensemble std    :     0.0825           0.261           0.478     \n",
      "  Last ensemble lnprob :  avg: -3.327, max: -1.874\n",
      "\n",
      "Progress of the run: 10 percent (2 of 20 steps)\n",
      "                           --log10(norm)-- -----index----- -log10(cutoff)-\n",
      "  Last ensemble median :      30.2             1.8            2.45      \n",
      "  Last ensemble std    :     0.0808           0.261            0.5      \n",
      "  Last ensemble lnprob :  avg: -3.296, max: -2.121\n",
      "\n",
      "Progress of the run: 15 percent (3 of 20 steps)\n",
      "                           --log10(norm)-- -----index----- -log10(cutoff)-\n",
      "  Last ensemble median :      30.2            1.81            2.48      \n",
      "  Last ensemble std    :     0.0876           0.302           0.552     \n",
      "  Last ensemble lnprob :  avg: -3.307, max: -2.041\n",
      "\n",
      "Progress of the run: 20 percent (4 of 20 steps)\n",
      "                           --log10(norm)-- -----index----- -log10(cutoff)-\n",
      "  Last ensemble median :      30.2            1.82            2.62      \n",
      "  Last ensemble std    :     0.0858           0.308           0.531     \n",
      "  Last ensemble lnprob :  avg: -3.352, max: -1.783\n",
      "\n",
      "Progress of the run: 25 percent (5 of 20 steps)\n",
      "                           --log10(norm)-- -----index----- -log10(cutoff)-\n",
      "  Last ensemble median :      30.2            1.79            2.46      \n",
      "  Last ensemble std    :     0.0861           0.311           0.57      \n",
      "  Last ensemble lnprob :  avg: -3.344, max: -1.783\n",
      "\n",
      "Progress of the run: 30 percent (6 of 20 steps)\n",
      "                           --log10(norm)-- -----index----- -log10(cutoff)-\n",
      "  Last ensemble median :      30.2            1.78            2.46      \n",
      "  Last ensemble std    :     0.0905           0.343           0.628     \n",
      "  Last ensemble lnprob :  avg: -3.406, max: -1.814\n",
      "\n",
      "Progress of the run: 35 percent (7 of 20 steps)\n",
      "                           --log10(norm)-- -----index----- -log10(cutoff)-\n",
      "  Last ensemble median :      30.2            1.81            2.46      \n",
      "  Last ensemble std    :     0.0982           0.349           0.689     \n",
      "  Last ensemble lnprob :  avg: -3.595, max: -1.894\n",
      "\n",
      "Progress of the run: 40 percent (8 of 20 steps)\n",
      "                           --log10(norm)-- -----index----- -log10(cutoff)-\n",
      "  Last ensemble median :      30.2            1.83            2.38      \n",
      "  Last ensemble std    :      0.104           0.354           0.72      \n",
      "  Last ensemble lnprob :  avg: -3.697, max: -1.848\n",
      "\n",
      "Progress of the run: 45 percent (9 of 20 steps)\n",
      "                           --log10(norm)-- -----index----- -log10(cutoff)-\n",
      "  Last ensemble median :      30.2            1.82            2.41      \n",
      "  Last ensemble std    :      0.106           0.348           0.741     \n",
      "  Last ensemble lnprob :  avg: -3.762, max: -2.040\n",
      "\n",
      "Progress of the run: 50 percent (10 of 20 steps)\n",
      "                           --log10(norm)-- -----index----- -log10(cutoff)-\n",
      "  Last ensemble median :      30.2            1.82            2.44      \n",
      "  Last ensemble std    :      0.111           0.346           0.745     \n",
      "  Last ensemble lnprob :  avg: -3.790, max: -1.934\n",
      "\n",
      "Progress of the run: 55 percent (11 of 20 steps)\n",
      "                           --log10(norm)-- -----index----- -log10(cutoff)-\n",
      "  Last ensemble median :      30.2            1.83            2.48      \n",
      "  Last ensemble std    :     0.0997           0.314           0.763     \n",
      "  Last ensemble lnprob :  avg: -3.609, max: -2.054\n",
      "\n",
      "Progress of the run: 60 percent (12 of 20 steps)\n",
      "                           --log10(norm)-- -----index----- -log10(cutoff)-\n",
      "  Last ensemble median :      30.2            1.81            2.51      \n",
      "  Last ensemble std    :      0.102           0.322           0.771     \n",
      "  Last ensemble lnprob :  avg: -3.660, max: -2.180\n",
      "\n",
      "Progress of the run: 65 percent (13 of 20 steps)\n",
      "                           --log10(norm)-- -----index----- -log10(cutoff)-\n",
      "  Last ensemble median :      30.2            1.81            2.52      \n",
      "  Last ensemble std    :      0.11            0.358           0.774     \n",
      "  Last ensemble lnprob :  avg: -3.840, max: -2.348\n",
      "\n",
      "Progress of the run: 70 percent (14 of 20 steps)\n",
      "                           --log10(norm)-- -----index----- -log10(cutoff)-\n",
      "  Last ensemble median :      30.2            1.81            2.46      \n",
      "  Last ensemble std    :      0.113           0.364           0.773     \n",
      "  Last ensemble lnprob :  avg: -3.921, max: -1.827\n",
      "\n",
      "Progress of the run: 75 percent (15 of 20 steps)\n",
      "                           --log10(norm)-- -----index----- -log10(cutoff)-\n",
      "  Last ensemble median :      30.2            1.78            2.46      \n",
      "  Last ensemble std    :      0.112           0.362           0.794     \n",
      "  Last ensemble lnprob :  avg: -3.823, max: -1.827\n",
      "\n",
      "Progress of the run: 80 percent (16 of 20 steps)\n",
      "                           --log10(norm)-- -----index----- -log10(cutoff)-\n",
      "  Last ensemble median :      30.2            1.86            2.57      \n",
      "  Last ensemble std    :      0.101           0.337           0.752     \n",
      "  Last ensemble lnprob :  avg: -3.531, max: -1.829\n",
      "\n",
      "Progress of the run: 85 percent (17 of 20 steps)\n",
      "                           --log10(norm)-- -----index----- -log10(cutoff)-\n",
      "  Last ensemble median :      30.2             1.9             2.6      \n",
      "  Last ensemble std    :      0.106           0.351           0.734     \n",
      "  Last ensemble lnprob :  avg: -3.647, max: -1.829\n",
      "\n",
      "Progress of the run: 90 percent (18 of 20 steps)\n",
      "                           --log10(norm)-- -----index----- -log10(cutoff)-\n",
      "  Last ensemble median :      30.2             1.9             2.6      \n",
      "  Last ensemble std    :      0.107           0.355           0.743     \n",
      "  Last ensemble lnprob :  avg: -3.649, max: -1.829\n",
      "\n",
      "Progress of the run: 95 percent (19 of 20 steps)"
     ]
    },
    {
     "name": "stderr",
     "output_type": "stream",
     "text": [
      "WARNING: Not writing file because file exists and clobber is False [naima.analysis]\n",
      "WARNING:astropy:Not writing file because file exists and clobber is False\n",
      "INFO:astropy:Plotting chain of parameter log10(norm)...\n"
     ]
    },
    {
     "name": "stdout",
     "output_type": "stream",
     "text": [
      "\n",
      "                           --log10(norm)-- -----index----- -log10(cutoff)-\n",
      "  Last ensemble median :      30.2            1.88            2.62      \n",
      "  Last ensemble std    :      0.107           0.361           0.771     \n",
      "  Last ensemble lnprob :  avg: -3.629, max: -1.868\n",
      "INFO: Plotting chain of parameter log10(norm)... [naima.analysis]\n",
      "INFO"
     ]
    },
    {
     "name": "stderr",
     "output_type": "stream",
     "text": [
      "INFO:astropy:-------------------log10(norm)--------------------\n",
      "          log10(norm) = $30.21 \\pm 0.10$\n",
      "                 norm = $(1.6 \\pm 0.4)\\times10^{30}$\n"
     ]
    },
    {
     "name": "stdout",
     "output_type": "stream",
     "text": [
      ": -------------------log10(norm)--------------------\n",
      "          log10(norm) = $30.21 \\pm 0.10$\n",
      "                 norm = $(1.6 \\pm 0.4)\\times10^{30}$ [naima.plot]\n",
      "INFO"
     ]
    },
    {
     "name": "stderr",
     "output_type": "stream",
     "text": [
      "INFO:astropy:Plotting chain of parameter index...\n"
     ]
    },
    {
     "name": "stdout",
     "output_type": "stream",
     "text": [
      ": Plotting chain of parameter index... [naima.analysis]\n",
      "INFO"
     ]
    },
    {
     "name": "stderr",
     "output_type": "stream",
     "text": [
      "INFO:astropy:----------------------index-----------------------\n",
      "          index = $1.8 \\pm 0.2$\n"
     ]
    },
    {
     "name": "stdout",
     "output_type": "stream",
     "text": [
      ": ----------------------index-----------------------\n",
      "          index = $1.8 \\pm 0.2$ [naima.plot]\n",
      "INFO"
     ]
    },
    {
     "name": "stderr",
     "output_type": "stream",
     "text": [
      "INFO:astropy:Plotting chain of parameter log10(cutoff)...\n"
     ]
    },
    {
     "name": "stdout",
     "output_type": "stream",
     "text": [
      ": Plotting chain of parameter log10(cutoff)... [naima.analysis]\n",
      "INFO"
     ]
    },
    {
     "name": "stderr",
     "output_type": "stream",
     "text": [
      "INFO:astropy:------------------log10(cutoff)-------------------\n",
      "          log10(cutoff) = $2.5^{+1.0}_{-0.4}$\n",
      "                 cutoff = $300^{+3000}_{-170}$\n"
     ]
    },
    {
     "name": "stdout",
     "output_type": "stream",
     "text": [
      ": ------------------log10(cutoff)-------------------\n",
      "          log10(cutoff) = $2.5^{+1.0}_{-0.4}$\n",
      "                 cutoff = $300^{+3000}_{-170}$ [naima.plot]\n",
      "INFO"
     ]
    },
    {
     "name": "stderr",
     "output_type": "stream",
     "text": [
      "INFO:astropy:Plotting corner plot...\n"
     ]
    },
    {
     "name": "stdout",
     "output_type": "stream",
     "text": [
      ": Plotting corner plot... [naima.analysis]\n",
      "INFO"
     ]
    },
    {
     "name": "stderr",
     "output_type": "stream",
     "text": [
      "INFO:astropy:Plotting Electron Spectrum...\n"
     ]
    },
    {
     "name": "stdout",
     "output_type": "stream",
     "text": [
      ": Plotting Electron Spectrum... [naima.analysis]\n",
      "INFO"
     ]
    },
    {
     "name": "stderr",
     "output_type": "stream",
     "text": [
      "INFO:astropy:Plotting Electron Energy Distribution...\n"
     ]
    },
    {
     "name": "stdout",
     "output_type": "stream",
     "text": [
      ": Plotting Electron Energy Distribution... [naima.analysis]\n",
      "INFO"
     ]
    },
    {
     "name": "stderr",
     "output_type": "stream",
     "text": [
      "INFO:astropy:Plotting $W_e (E_e>1\\, \\mathrm{GeV})$...\n"
     ]
    },
    {
     "name": "stdout",
     "output_type": "stream",
     "text": [
      ": Plotting $W_e (E_e>1\\, \\mathrm{GeV})$... [naima.analysis]\n",
      "INFO"
     ]
    },
    {
     "name": "stderr",
     "output_type": "stream",
     "text": [
      "INFO:astropy:Saving results table in G150_IC_results.ecsv\n"
     ]
    },
    {
     "name": "stdout",
     "output_type": "stream",
     "text": [
      ": Saving results table in G150_IC_results.ecsv [naima.analysis]\n"
     ]
    },
    {
     "data": {
      "text/html": [
       "&lt;Table length=6&gt;\n",
       "<table id=\"table4472647312\">\n",
       "<thead><tr><th>label</th><th>median</th><th>unc_lo</th><th>unc_hi</th></tr></thead>\n",
       "<thead><tr><th>str72</th><th>float64</th><th>float64</th><th>float64</th></tr></thead>\n",
       "<tr><td>log10(norm)</td><td>30.2132275785</td><td>0.102456531182</td><td>0.0952745704809</td></tr>\n",
       "<tr><td>norm</td><td>1.63391181404e+30</td><td>3.43373069982e+29</td><td>4.00796553077e+29</td></tr>\n",
       "<tr><td>index</td><td>1.81586872279</td><td>0.230636368018</td><td>0.260351852385</td></tr>\n",
       "<tr><td>log10(cutoff)</td><td>2.47377615149</td><td>0.353122416327</td><td>0.99963806609</td></tr>\n",
       "<tr><td>cutoff</td><td>297.70044217</td><td>165.676184229</td><td>2676.83034252</td></tr>\n",
       "<tr><td>blob2</td><td>2.12992856939e+45</td><td>6.80145667315e+44</td><td>3.01738075373e+45</td></tr>\n",
       "</table>"
      ],
      "text/plain": [
       "<Table length=6>\n",
       "    label           median            unc_lo            unc_hi     \n",
       "    str72          float64           float64           float64     \n",
       "------------- ----------------- ----------------- -----------------\n",
       "  log10(norm)     30.2132275785    0.102456531182   0.0952745704809\n",
       "         norm 1.63391181404e+30 3.43373069982e+29 4.00796553077e+29\n",
       "        index     1.81586872279    0.230636368018    0.260351852385\n",
       "log10(cutoff)     2.47377615149    0.353122416327     0.99963806609\n",
       "       cutoff      297.70044217     165.676184229     2676.83034252\n",
       "        blob2 2.12992856939e+45 6.80145667315e+44 3.01738075373e+45"
      ]
     },
     "execution_count": 120,
     "metadata": {},
     "output_type": "execute_result"
    }
   ],
   "source": [
    "#Define params that will go into model and labels for them\n",
    "p0 = np.array((33, 2.5, np.log10(48.0))) #ECPL for now\n",
    "if len(p0) == 2:\n",
    "    labels = ['log10(norm)', 'index']\n",
    "elif len(p0) ==3:\n",
    "    labels = ['log10(norm)', 'index', 'log10(cutoff)']\n",
    "\n",
    "## Run sampler\n",
    "sampler, pos = naima.run_sampler( data_table=G150_data,\n",
    "                                 p0=p0,\n",
    "                                 labels=labels,\n",
    "                                 model=electronIC,\n",
    "                                 prior=lnprior,\n",
    "                                 nwalkers=32,\n",
    "                                 nburn=100,\n",
    "                                 nrun=20,\n",
    "                                 threads=4,\n",
    "                                 prefit=True)\n",
    "\n",
    "## Save run results to HDF5 file (can be read later with naima.read_run)\n",
    "naima.save_run('G150_IC_run.hdf5', sampler)\n",
    "\n",
    "## Diagnostic plots with labels for the metadata blobs\n",
    "naima.save_diagnostic_plots('G150_IC',\n",
    "                            sampler,\n",
    "                            sed=True,\n",
    "                            last_step=False,\n",
    "                            blob_labels=['Electron Spectrum', 'Electron Energy Distribution',\n",
    "                                         '$W_e (E_e>1\\, \\mathrm{GeV})$'])\n",
    "naima.save_results_table('G150_IC', sampler)"
   ]
  },
  {
   "cell_type": "code",
   "execution_count": 169,
   "metadata": {
    "collapsed": false
   },
   "outputs": [],
   "source": [
    "#my calc of stats\n",
    "#why aren't they the same as above?\n",
    "print 'median', np.median(pos,axis = 0)\n",
    "print 'mean  ', np.mean(pos,axis = 0)\n",
    "# print pos.min(axis = 0)\n",
    "# print np.median(pos,axis = 0)-pos.min(axis = 0)\n"
   ]
  },
  {
   "cell_type": "code",
   "execution_count": 90,
   "metadata": {
    "collapsed": false
   },
   "outputs": [
    {
     "data": {
      "text/plain": [
       "30.258349798800001"
      ]
     },
     "execution_count": 90,
     "metadata": {},
     "output_type": "execute_result"
    }
   ],
   "source": [
    "#[log10(norm),norm,index,log10(cutoff),cutoff,blob2] blob2 is We\n",
    "g150Res['median'][0] #30.2583497988\n",
    "#g150Res['median']"
   ]
  },
  {
   "cell_type": "markdown",
   "metadata": {},
   "source": [
    "# All the SED below show the median value determine by all the walkers"
   ]
  },
  {
   "cell_type": "code",
   "execution_count": 28,
   "metadata": {
    "collapsed": false
   },
   "outputs": [
    {
     "data": {
      "image/png": "[encoded data removed]",
      "text/plain": [
       "<matplotlib.figure.Figure at 0x1126257d0>"
      ]
     },
     "metadata": {},
     "output_type": "display_data"
    }
   ],
   "source": [
    "#plot SED with best fit electron spec and data\n",
    "fig = plt.figure(figsize = [10,8])\n",
    "figure = naima.plot_data(G150_data,figure = fig, e_unit=u.eV)\n",
    "ax = figure.axes[0]\n",
    "\n",
    "#read back in the results\n",
    "#I should be able to get this from pos, but I don't get the same medians for some reaons\n",
    "g150Res = ascii.read(os.path.join(tDir,'G150_IC_results.ecsv'))\n",
    "amplitude = 10**g150Res['median'][0] / u.eV\n",
    "alpha = g150Res['median'][2]\n",
    "e_cutoff = (10**g150Res['median'][3]) * u.TeV\n",
    "We = g150Res['median'][5]\n",
    "ECPL = ExponentialCutoffPowerLaw(amplitude, 10. * u.TeV, alpha, e_cutoff)\n",
    "\n",
    "IC = InverseCompton(ECPL,\n",
    "                    seed_photon_fields=['CMB','FIR','NIR'],\n",
    "                    Eemax=50 * u.PeV, Eemin=1 * u.GeV)\n",
    "\n",
    "# Plot the computed model emission\n",
    "energy = np.logspace(-7, 15, 100) * u.eV\n",
    "ax.loglog(energy, IC.sed(energy, 0.38 * u.kpc),\n",
    "          lw=3, c='k', label='Total IC: $W_e (E_e>1\\, \\mathrm{GeV})$ =%0.2e erg, index_e = %0.2f' %(We,alpha))\n",
    "for i, seed, ls in zip(range(4), ['CMB', 'FIR', 'NIR'], ['--', '-.', ':']):\n",
    "    ax.loglog(energy, IC.sed(energy, 2 * u.kpc, seed=seed),\n",
    "              lw=2, c=naima.plot.color_cycle[i + 1], label=seed, ls=ls)\n",
    "\n",
    "\n",
    "ax.set_ylim(1e-16, 1e-10)\n",
    "ax.set_xlim(1e4)\n",
    "ax.legend(loc='best', frameon=False)\n",
    "figure.tight_layout()\n",
    "#figure.savefig('G150_IC_SED.png')"
   ]
  },
  {
   "cell_type": "markdown",
   "metadata": {},
   "source": [
    "# I should maybe not be using ECPL for the electron distribution since I don't know where the peak in the LAT (or TeV) SED is and have no multiwavelngth data? What do other papers do?"
   ]
  },
  {
   "cell_type": "markdown",
   "metadata": {
    "collapsed": true
   },
   "source": [
    "# 2. Just PP"
   ]
  },
  {
   "cell_type": "code",
   "execution_count": 126,
   "metadata": {
    "collapsed": true
   },
   "outputs": [],
   "source": [
    "def PionDecayMod(pars, data):\n",
    "    \"\"\"Decide between PL or ECPL model based on number\n",
    "       of params in pars. Set up pp Pion Decay model\"\"\"\n",
    "    #params to fit\n",
    "    amplitude = 10**pars[0] / u.TeV\n",
    "    alpha = pars[1]\n",
    "    e_cutoff = 10**pars[2] * u.TeV\n",
    "    \n",
    "    #params not to fit\n",
    "    pp_peMin = 1 * u.GeV\n",
    "    dist = 0.39 *u.kpc\n",
    "    nh = 1*u.cm**-3 #can i not add this to pars and fit for it also? maybe too many params, better to fix and not have to fit if I have a good value?\n",
    "    \n",
    "    #Instantiate particle distribution\n",
    "    if len(pars) == 2:\n",
    "        #print 'Particle distribution model is PL'\n",
    "        pMod = PowerLaw(amplitude, 10. * u.TeV, alpha)\n",
    "    elif len(pars) == 3:\n",
    "        #print 'Particle distribution model is ECPL'\n",
    "        e_cutoff = (10**pars[2]) * u.TeV\n",
    "        pMod = ExponentialCutoffPowerLaw(amplitude, 10. * u.TeV, alpha, e_cutoff)\n",
    "    else:\n",
    "        raise Exception('Wrong number of params input for PL or ECPL')\n",
    "        \n",
    "    #instantiate IC models\n",
    "    PP = PionDecay(pMod, nh=nh)\n",
    "    \n",
    "    #calculate pp flux at energies of data\n",
    "    model = PP.flux(G150_data, distance=dist)\n",
    "    \n",
    "    # Prepare an energy array for saving the particle distribution\n",
    "    proton_energy = np.logspace(-3, 2, 50) * u.TeV\n",
    "    \n",
    "    # Save a realization of the particle distribution to the metadata blob\n",
    "    proton_dist = PP.particle_distribution(proton_energy)\n",
    "    \n",
    "    # Compute the total energy in protons above 1 TeV for this realization\n",
    "    Wp = PP.compute_Wp(Epmin=pp_peMin)\n",
    "\n",
    "    # Return the model, proton distribution and energy in protons to be stored\n",
    "    # in metadata blobs\n",
    "    return model, (proton_energy, proton_dist), Wp\n",
    "\n"
   ]
  },
  {
   "cell_type": "code",
   "execution_count": 127,
   "metadata": {
    "collapsed": false,
    "scrolled": true
   },
   "outputs": [
    {
     "name": "stderr",
     "output_type": "stream",
     "text": [
      "INFO:astropy:Finding Maximum Likelihood parameters through Nelder-Mead fitting...\n",
      "INFO:astropy:   Initial parameters: [ 46.48867502   2.5          1.68124124]\n"
     ]
    },
    {
     "name": "stdout",
     "output_type": "stream",
     "text": [
      "INFO: Finding Maximum Likelihood parameters through Nelder-Mead fitting... [naima.core]\n",
      "INFO:    Initial parameters: [ 46.48867502   2.5          1.68124124] [naima.core]\n",
      "INFO"
     ]
    },
    {
     "name": "stderr",
     "output_type": "stream",
     "text": [
      "INFO:astropy:   Initial lnprob(p0): -2020.528\n"
     ]
    },
    {
     "name": "stdout",
     "output_type": "stream",
     "text": [
      ":    Initial lnprob(p0): -2020.528 [naima.core]\n",
      "INFO"
     ]
    },
    {
     "name": "stderr",
     "output_type": "stream",
     "text": [
      "INFO:astropy:   New ML parameters : [ 44.04700351   0.20528688   2.12238335]\n",
      "INFO:astropy:   Maximum lnprob(p0): -4.872\n"
     ]
    },
    {
     "name": "stdout",
     "output_type": "stream",
     "text": [
      ":    New ML parameters : [ 44.04700351   0.20528688   2.12238335] [naima.core]\n",
      "INFO:    Maximum lnprob(p0): -4.872 [naima.core]\n",
      "Burning in the 32 walkers with 100 steps...\n",
      "\n",
      "Progress of the run: 0 percent (0 of 100 steps)\n",
      "                           --log10(norm)-- -----index----- -log10(cutoff)-\n",
      "  Last ensemble median :       44             0.206           2.13      \n",
      "  Last ensemble std    :      0.176           0.001          0.0117     \n",
      "  Last ensemble lnprob :  avg: -22.903, max: -4.839\n",
      "\n",
      "Progress of the run: 5 percent (5 of 100 steps)\n",
      "                           --log10(norm)-- -----index----- -log10(cutoff)-\n",
      "  Last ensemble median :       44             0.205           2.12      \n",
      "  Last ensemble std    :      0.124          0.00112         0.0358     \n",
      "  Last ensemble lnprob :  avg: -13.119, max: -4.860\n",
      "\n",
      "Progress of the run: 10 percent (10 of 100 steps)\n",
      "                           --log10(norm)-- -----index----- -log10(cutoff)-\n",
      "  Last ensemble median :       44             0.206           2.12      \n",
      "  Last ensemble std    :      0.076          0.0019          0.0324     \n",
      "  Last ensemble lnprob :  avg: -7.447, max: -4.844\n",
      "\n",
      "Progress of the run: 15 percent (15 of 100 steps)\n",
      "                           --log10(norm)-- -----index----- -log10(cutoff)-\n",
      "  Last ensemble median :       44             0.206           2.13      \n",
      "  Last ensemble std    :      0.107          0.00449         0.0628     \n",
      "  Last ensemble lnprob :  avg: -6.156, max: -4.835\n",
      "\n",
      "Progress of the run: 20 percent (20 of 100 steps)\n",
      "                           --log10(norm)-- -----index----- -log10(cutoff)-\n",
      "  Last ensemble median :       44             0.206           2.14      \n",
      "  Last ensemble std    :      0.146          0.0116          0.0913     \n",
      "  Last ensemble lnprob :  avg: -6.201, max: -4.848\n",
      "\n",
      "Progress of the run: 25 percent (25 of 100 steps)\n",
      "                           --log10(norm)-- -----index----- -log10(cutoff)-\n",
      "  Last ensemble median :       44             0.206           2.14      \n",
      "  Last ensemble std    :      0.163          0.0127          0.0997     \n",
      "  Last ensemble lnprob :  avg: -6.147, max: -4.842\n",
      "\n",
      "Progress of the run: 30 percent (30 of 100 steps)\n",
      "                           --log10(norm)-- -----index----- -log10(cutoff)-\n",
      "  Last ensemble median :       44             0.207           2.15      \n",
      "  Last ensemble std    :      0.135          0.0242          0.0868     \n",
      "  Last ensemble lnprob :  avg: -5.869, max: -4.840\n",
      "\n",
      "Progress of the run: 35 percent (35 of 100 steps)\n",
      "                           --log10(norm)-- -----index----- -log10(cutoff)-\n",
      "  Last ensemble median :       44             0.21            2.16      \n",
      "  Last ensemble std    :      0.141          0.0355          0.0951     \n",
      "  Last ensemble lnprob :  avg: -5.772, max: -4.913\n",
      "\n",
      "Progress of the run: 40 percent (40 of 100 steps)\n",
      "                           --log10(norm)-- -----index----- -log10(cutoff)-\n",
      "  Last ensemble median :       44             0.209           2.15      \n",
      "  Last ensemble std    :      0.185          0.0638           0.103     \n",
      "  Last ensemble lnprob :  avg: -6.013, max: -4.854\n",
      "\n",
      "Progress of the run: 45 percent (45 of 100 steps)\n",
      "                           --log10(norm)-- -----index----- -log10(cutoff)-\n",
      "  Last ensemble median :       44             0.227           2.16      \n",
      "  Last ensemble std    :      0.276           0.156           0.138     \n",
      "  Last ensemble lnprob :  avg: -6.435, max: -4.850\n",
      "\n",
      "Progress of the run: 50 percent (50 of 100 steps)\n",
      "                           --log10(norm)-- -----index----- -log10(cutoff)-\n",
      "  Last ensemble median :       44             0.207           2.16      \n",
      "  Last ensemble std    :      0.226           0.203           0.147     \n",
      "  Last ensemble lnprob :  avg: -6.094, max: -4.629\n",
      "\n",
      "Progress of the run: 55 percent (55 of 100 steps)\n",
      "                           --log10(norm)-- -----index----- -log10(cutoff)-\n",
      "  Last ensemble median :      44.1            0.28            2.16      \n",
      "  Last ensemble std    :      0.27            0.252           0.144     \n",
      "  Last ensemble lnprob :  avg: -6.119, max: -4.136\n",
      "\n",
      "Progress of the run: 60 percent (60 of 100 steps)\n",
      "                           --log10(norm)-- -----index----- -log10(cutoff)-\n",
      "  Last ensemble median :      44.1            0.323           2.16      \n",
      "  Last ensemble std    :      0.352           0.37            0.182     \n",
      "  Last ensemble lnprob :  avg: -6.316, max: -4.680\n",
      "\n",
      "Progress of the run: 65 percent (65 of 100 steps)\n",
      "                           --log10(norm)-- -----index----- -log10(cutoff)-\n",
      "  Last ensemble median :      44.1            0.285           2.19      \n",
      "  Last ensemble std    :      0.343           0.368           0.173     \n",
      "  Last ensemble lnprob :  avg: -5.935, max: -4.275\n",
      "\n",
      "Progress of the run: 70 percent (70 of 100 steps)\n",
      "                           --log10(norm)-- -----index----- -log10(cutoff)-\n",
      "  Last ensemble median :      44.2            0.419           2.21      \n",
      "  Last ensemble std    :      0.401           0.429           0.186     \n",
      "  Last ensemble lnprob :  avg: -5.805, max: -3.915\n",
      "\n",
      "Progress of the run: 75 percent (75 of 100 steps)\n",
      "                           --log10(norm)-- -----index----- -log10(cutoff)-\n",
      "  Last ensemble median :      44.1            0.278           2.18      \n",
      "  Last ensemble std    :      0.454           0.507           0.204     \n",
      "  Last ensemble lnprob :  avg: -5.713, max: -3.244\n",
      "\n",
      "Progress of the run: 80 percent (80 of 100 steps)\n",
      "                           --log10(norm)-- -----index----- -log10(cutoff)-\n",
      "  Last ensemble median :      44.2            0.414           2.24      \n",
      "  Last ensemble std    :      0.341           0.392           0.179     \n",
      "  Last ensemble lnprob :  avg: -5.530, max: -3.244\n",
      "\n",
      "Progress of the run: 85 percent (85 of 100 steps)\n",
      "                           --log10(norm)-- -----index----- -log10(cutoff)-\n",
      "  Last ensemble median :      44.2            0.489           2.25      \n",
      "  Last ensemble std    :      0.397           0.436           0.184     \n",
      "  Last ensemble lnprob :  avg: -5.901, max: -3.502\n",
      "\n",
      "Progress of the run: 90 percent (90 of 100 steps)\n",
      "                           --log10(norm)-- -----index----- -log10(cutoff)-\n",
      "  Last ensemble median :      44.2            0.533           2.28      \n",
      "  Last ensemble std    :      0.378           0.483           0.213     \n",
      "  Last ensemble lnprob :  avg: -5.474, max: -3.562\n",
      "\n",
      "Progress of the run: 95 percent (95 of 100 steps)\n",
      "                           --log10(norm)-- -----index----- -log10(cutoff)-\n",
      "  Last ensemble median :      44.2            0.454           2.27      \n",
      "  Last ensemble std    :      0.366           0.424           0.191     \n",
      "  Last ensemble lnprob :  avg: -5.479, max: -3.040\n",
      "\n",
      "Walker burn in finished, running 20 steps...\n",
      "\n",
      "Progress of the run: 0 percent (0 of 20 steps)\n",
      "                           --log10(norm)-- -----index----- -log10(cutoff)-\n",
      "  Last ensemble median :      44.3            0.55            2.27      \n",
      "  Last ensemble std    :      0.381           0.475           0.205     \n",
      "  Last ensemble lnprob :  avg: -5.338, max: -3.122\n",
      "\n",
      "Progress of the run: 5 percent (1 of 20 steps)\n",
      "                           --log10(norm)-- -----index----- -log10(cutoff)-\n",
      "  Last ensemble median :      44.3            0.572           2.28      \n",
      "  Last ensemble std    :      0.34            0.438           0.202     \n",
      "  Last ensemble lnprob :  avg: -5.326, max: -3.155\n",
      "\n",
      "Progress of the run: 10 percent (2 of 20 steps)\n",
      "                           --log10(norm)-- -----index----- -log10(cutoff)-\n",
      "  Last ensemble median :      44.3            0.585           2.31      \n",
      "  Last ensemble std    :      0.345           0.464           0.22      \n",
      "  Last ensemble lnprob :  avg: -5.418, max: -3.155\n",
      "\n",
      "Progress of the run: 15 percent (3 of 20 steps)\n",
      "                           --log10(norm)-- -----index----- -log10(cutoff)-\n",
      "  Last ensemble median :      44.3            0.711           2.33      \n",
      "  Last ensemble std    :      0.368           0.502           0.233     \n",
      "  Last ensemble lnprob :  avg: -5.402, max: -3.155\n",
      "\n",
      "Progress of the run: 20 percent (4 of 20 steps)\n",
      "                           --log10(norm)-- -----index----- -log10(cutoff)-\n",
      "  Last ensemble median :      44.3            0.652           2.36      \n",
      "  Last ensemble std    :      0.362           0.502           0.226     \n",
      "  Last ensemble lnprob :  avg: -5.370, max: -3.155\n",
      "\n",
      "Progress of the run: 25 percent (5 of 20 steps)\n",
      "                           --log10(norm)-- -----index----- -log10(cutoff)-\n",
      "  Last ensemble median :      44.3            0.638           2.36      \n",
      "  Last ensemble std    :      0.356            0.5            0.225     \n",
      "  Last ensemble lnprob :  avg: -5.262, max: -3.155\n",
      "\n",
      "Progress of the run: 30 percent (6 of 20 steps)\n",
      "                           --log10(norm)-- -----index----- -log10(cutoff)-\n",
      "  Last ensemble median :      44.3            0.61            2.33      \n",
      "  Last ensemble std    :      0.328           0.469           0.211     \n",
      "  Last ensemble lnprob :  avg: -5.044, max: -3.224\n",
      "\n",
      "Progress of the run: 35 percent (7 of 20 steps)\n",
      "                           --log10(norm)-- -----index----- -log10(cutoff)-\n",
      "  Last ensemble median :      44.3            0.619           2.34      \n",
      "  Last ensemble std    :      0.359           0.495           0.214     \n",
      "  Last ensemble lnprob :  avg: -5.020, max: -3.224\n",
      "\n",
      "Progress of the run: 40 percent (8 of 20 steps)\n",
      "                           --log10(norm)-- -----index----- -log10(cutoff)-\n",
      "  Last ensemble median :      44.3            0.629           2.31      \n",
      "  Last ensemble std    :      0.35            0.486           0.217     \n",
      "  Last ensemble lnprob :  avg: -4.969, max: -3.224\n",
      "\n",
      "Progress of the run: 45 percent (9 of 20 steps)\n",
      "                           --log10(norm)-- -----index----- -log10(cutoff)-\n",
      "  Last ensemble median :      44.3            0.612           2.32      \n",
      "  Last ensemble std    :      0.342           0.477           0.214     \n",
      "  Last ensemble lnprob :  avg: -4.855, max: -3.224\n",
      "\n",
      "Progress of the run: 50 percent (10 of 20 steps)\n",
      "                           --log10(norm)-- -----index----- -log10(cutoff)-\n",
      "  Last ensemble median :      44.3            0.674           2.28      \n",
      "  Last ensemble std    :      0.327           0.45            0.198     \n",
      "  Last ensemble lnprob :  avg: -4.745, max: -3.224\n",
      "\n",
      "Progress of the run: 55 percent (11 of 20 steps)\n",
      "                           --log10(norm)-- -----index----- -log10(cutoff)-\n",
      "  Last ensemble median :      44.3            0.673           2.28      \n",
      "  Last ensemble std    :      0.353           0.478           0.205     \n",
      "  Last ensemble lnprob :  avg: -4.820, max: -3.224\n",
      "\n",
      "Progress of the run: 60 percent (12 of 20 steps)\n",
      "                           --log10(norm)-- -----index----- -log10(cutoff)-\n",
      "  Last ensemble median :      44.3            0.597           2.29      \n",
      "  Last ensemble std    :      0.341           0.453           0.199     \n",
      "  Last ensemble lnprob :  avg: -4.863, max: -3.411\n",
      "\n",
      "Progress of the run: 65 percent (13 of 20 steps)\n",
      "                           --log10(norm)-- -----index----- -log10(cutoff)-\n",
      "  Last ensemble median :      44.3            0.673            2.3      \n",
      "  Last ensemble std    :      0.339           0.441           0.194     \n",
      "  Last ensemble lnprob :  avg: -4.908, max: -3.411\n",
      "\n",
      "Progress of the run: 70 percent (14 of 20 steps)\n",
      "                           --log10(norm)-- -----index----- -log10(cutoff)-\n",
      "  Last ensemble median :      44.3            0.676            2.3      \n",
      "  Last ensemble std    :      0.337           0.445           0.202     \n",
      "  Last ensemble lnprob :  avg: -4.988, max: -3.418\n",
      "\n",
      "Progress of the run: 75 percent (15 of 20 steps)\n",
      "                           --log10(norm)-- -----index----- -log10(cutoff)-\n",
      "  Last ensemble median :      44.2            0.658            2.3      \n",
      "  Last ensemble std    :      0.361           0.476           0.227     \n",
      "  Last ensemble lnprob :  avg: -5.100, max: -3.139\n",
      "\n",
      "Progress of the run: 80 percent (16 of 20 steps)\n",
      "                           --log10(norm)-- -----index----- -log10(cutoff)-\n",
      "  Last ensemble median :      44.3            0.652           2.29      \n",
      "  Last ensemble std    :      0.386           0.493           0.221     \n",
      "  Last ensemble lnprob :  avg: -5.215, max: -3.139\n",
      "\n",
      "Progress of the run: 85 percent (17 of 20 steps)\n",
      "                           --log10(norm)-- -----index----- -log10(cutoff)-\n",
      "  Last ensemble median :      44.3            0.606           2.33      \n",
      "  Last ensemble std    :      0.352           0.468           0.214     \n",
      "  Last ensemble lnprob :  avg: -5.228, max: -3.243\n",
      "\n",
      "Progress of the run: 90 percent (18 of 20 steps)\n",
      "                           --log10(norm)-- -----index----- -log10(cutoff)-\n",
      "  Last ensemble median :      44.3            0.592           2.31      \n",
      "  Last ensemble std    :      0.346           0.457           0.208     \n",
      "  Last ensemble lnprob :  avg: -5.161, max: -3.254\n",
      "\n",
      "Progress of the run: 95 percent (19 of 20 steps)\n",
      "                           --log10(norm)-- -----index----- -log10(cutoff)-\n",
      "  Last ensemble median :      44.3            0.583           2.33      \n",
      "  Last ensemble std    :      0.375           0.507           0.231     \n",
      "  Last ensemble lnprob :  avg: -5.243, max: -3.254\n",
      "INFO"
     ]
    },
    {
     "name": "stderr",
     "output_type": "stream",
     "text": [
      "INFO:astropy:Plotting chain of parameter log10(norm)...\n"
     ]
    },
    {
     "name": "stdout",
     "output_type": "stream",
     "text": [
      ": Plotting chain of parameter log10(norm)... [naima.analysis]\n",
      "INFO"
     ]
    },
    {
     "name": "stderr",
     "output_type": "stream",
     "text": [
      "INFO:astropy:-------------------log10(norm)--------------------\n",
      "          log10(norm) = $44.3 \\pm 0.4$\n",
      "                 norm = $(2.0^{+3}_{-1.1})\\times10^{44}$\n"
     ]
    },
    {
     "name": "stdout",
     "output_type": "stream",
     "text": [
      ": -------------------log10(norm)--------------------\n",
      "          log10(norm) = $44.3 \\pm 0.4$\n",
      "                 norm = $(2.0^{+3}_{-1.1})\\times10^{44}$ [naima.plot]\n",
      "INFO"
     ]
    },
    {
     "name": "stderr",
     "output_type": "stream",
     "text": [
      "INFO:astropy:Plotting chain of parameter index...\n"
     ]
    },
    {
     "name": "stdout",
     "output_type": "stream",
     "text": [
      ": Plotting chain of parameter index... [naima.analysis]\n",
      "INFO"
     ]
    },
    {
     "name": "stderr",
     "output_type": "stream",
     "text": [
      "INFO:astropy:----------------------index-----------------------\n",
      "          index = $0.6 \\pm 0.5$\n"
     ]
    },
    {
     "name": "stdout",
     "output_type": "stream",
     "text": [
      ": ----------------------index-----------------------\n",
      "          index = $0.6 \\pm 0.5$ [naima.plot]\n",
      "INFO"
     ]
    },
    {
     "name": "stderr",
     "output_type": "stream",
     "text": [
      "INFO:astropy:Plotting chain of parameter log10(cutoff)...\n"
     ]
    },
    {
     "name": "stdout",
     "output_type": "stream",
     "text": [
      ": Plotting chain of parameter log10(cutoff)... [naima.analysis]\n",
      "INFO"
     ]
    },
    {
     "name": "stderr",
     "output_type": "stream",
     "text": [
      "INFO:astropy:------------------log10(cutoff)-------------------\n",
      "          log10(cutoff) = $2.3 \\pm 0.2$\n",
      "                 cutoff = $200^{+130}_{-90}$\n"
     ]
    },
    {
     "name": "stdout",
     "output_type": "stream",
     "text": [
      ": ------------------log10(cutoff)-------------------\n",
      "          log10(cutoff) = $2.3 \\pm 0.2$\n",
      "                 cutoff = $200^{+130}_{-90}$ [naima.plot]\n",
      "INFO"
     ]
    },
    {
     "name": "stderr",
     "output_type": "stream",
     "text": [
      "INFO:astropy:Plotting corner plot...\n"
     ]
    },
    {
     "name": "stdout",
     "output_type": "stream",
     "text": [
      ": Plotting corner plot... [naima.analysis]\n",
      "INFO"
     ]
    },
    {
     "name": "stderr",
     "output_type": "stream",
     "text": [
      "INFO:astropy:Plotting Electron Spectrum...\n"
     ]
    },
    {
     "name": "stdout",
     "output_type": "stream",
     "text": [
      ": Plotting Electron Spectrum... [naima.analysis]\n",
      "INFO"
     ]
    },
    {
     "name": "stderr",
     "output_type": "stream",
     "text": [
      "INFO:astropy:Plotting Electron Energy Distribution...\n"
     ]
    },
    {
     "name": "stdout",
     "output_type": "stream",
     "text": [
      ": Plotting Electron Energy Distribution... [naima.analysis]\n",
      "INFO"
     ]
    },
    {
     "name": "stderr",
     "output_type": "stream",
     "text": [
      "INFO:astropy:Plotting $W_P (E_p>1\\, \\mathrm{GeV})$...\n"
     ]
    },
    {
     "name": "stdout",
     "output_type": "stream",
     "text": [
      ": Plotting $W_P (E_p>1\\, \\mathrm{GeV})$... [naima.analysis]\n",
      "INFO"
     ]
    },
    {
     "name": "stderr",
     "output_type": "stream",
     "text": [
      "INFO:astropy:Saving results table in G150_PP_results.ecsv\n"
     ]
    },
    {
     "name": "stdout",
     "output_type": "stream",
     "text": [
      ": Saving results table in G150_PP_results.ecsv [naima.analysis]\n"
     ]
    },
    {
     "data": {
      "text/html": [
       "&lt;Table length=6&gt;\n",
       "<table id=\"table4497045584\">\n",
       "<thead><tr><th>label</th><th>median</th><th>unc_lo</th><th>unc_hi</th></tr></thead>\n",
       "<thead><tr><th>str72</th><th>float64</th><th>float64</th><th>float64</th></tr></thead>\n",
       "<tr><td>log10(norm)</td><td>44.2987854561</td><td>0.370757396751</td><td>0.415556883584</td></tr>\n",
       "<tr><td>norm</td><td>1.9896901781e+44</td><td>1.14235841073e+44</td><td>3.19046286751e+44</td></tr>\n",
       "<tr><td>index</td><td>0.618333787573</td><td>0.565470477226</td><td>0.50299424816</td></tr>\n",
       "<tr><td>log10(cutoff)</td><td>2.30626821249</td><td>0.246439920886</td><td>0.22121025403</td></tr>\n",
       "<tr><td>cutoff</td><td>202.426894497</td><td>87.6569161081</td><td>134.455639666</td></tr>\n",
       "<tr><td>blob2</td><td>1.80212740357e+48</td><td>1.69214692503e+47</td><td>1.55492288435e+47</td></tr>\n",
       "</table>"
      ],
      "text/plain": [
       "<Table length=6>\n",
       "    label           median            unc_lo            unc_hi     \n",
       "    str72          float64           float64           float64     \n",
       "------------- ----------------- ----------------- -----------------\n",
       "  log10(norm)     44.2987854561    0.370757396751    0.415556883584\n",
       "         norm  1.9896901781e+44 1.14235841073e+44 3.19046286751e+44\n",
       "        index    0.618333787573    0.565470477226     0.50299424816\n",
       "log10(cutoff)     2.30626821249    0.246439920886     0.22121025403\n",
       "       cutoff     202.426894497     87.6569161081     134.455639666\n",
       "        blob2 1.80212740357e+48 1.69214692503e+47 1.55492288435e+47"
      ]
     },
     "execution_count": 127,
     "metadata": {},
     "output_type": "execute_result"
    }
   ],
   "source": [
    "#no reason to not use the same prior as for IC right?\n",
    "#should I use the same p0 values as for IC? try with the IC ones first to see how it goes?\n",
    "#PionDecay_ECPL_p0 = np.array((46, 2.34, np.log10(80.)))\n",
    "PionDecay_ECPL_p0 = p0\n",
    "\n",
    "if len(p0) == 2:\n",
    "    labels = ['log10(norm)', 'index']\n",
    "elif len(p0) ==3:\n",
    "    labels = ['log10(norm)', 'index', 'log10(cutoff)']\n",
    "\n",
    "## Run sampler\n",
    "sampler, pos = naima.run_sampler( data_table=G150_data,\n",
    "                                 p0=PionDecay_ECPL_p0,\n",
    "                                 labels=labels,\n",
    "                                 model=PionDecayMod,\n",
    "                                 prior=lnprior,\n",
    "                                 nwalkers=32,\n",
    "                                 nburn=100,\n",
    "                                 nrun=20,\n",
    "                                 threads=4,\n",
    "                                 prefit=True)\n",
    "\n",
    "## Save run results to HDF5 file (can be read later with naima.read_run)\n",
    "naima.save_run('G150_PP_run.hdf5', sampler)\n",
    "\n",
    "## Diagnostic plots with labels for the metadata blobs\n",
    "naima.save_diagnostic_plots('G150_PP',\n",
    "                            sampler,\n",
    "                            sed=True,\n",
    "                            last_step=False,\n",
    "                            blob_labels=['Proton Spectrum', 'Proton Energy Distribution',\n",
    "                                         '$W_p (E_p>1\\, \\mathrm{GeV})$'])\n",
    "naima.save_results_table('G150_PP', sampler)"
   ]
  },
  {
   "cell_type": "code",
   "execution_count": 131,
   "metadata": {
    "collapsed": false
   },
   "outputs": [
    {
     "data": {
      "text/plain": [
       "array([ 44.8443502 ,   1.29008476,   2.72751836])"
      ]
     },
     "execution_count": 131,
     "metadata": {},
     "output_type": "execute_result"
    }
   ],
   "source": [
    "np.max(pos,axis =0)"
   ]
  },
  {
   "cell_type": "markdown",
   "metadata": {},
   "source": [
    "# These are wrong and unnecessary! I loadeed the IC ECPL results and put those into PionDecay by accident!\n"
   ]
  },
  {
   "cell_type": "code",
   "execution_count": 140,
   "metadata": {
    "collapsed": false
   },
   "outputs": [
    {
     "data": {
      "image/png": "[encoded data removed]",
      "text/plain": [
       "<matplotlib.figure.Figure at 0x10a772d50>"
      ]
     },
     "metadata": {},
     "output_type": "display_data"
    }
   ],
   "source": [
    "\n",
    "# #try plotting PP for other values I supply \n",
    "# #plot SED with best fit electron spec and data\n",
    "\n",
    "# #different norms\n",
    "\n",
    "# fig = plt.figure(figsize = [10,8])\n",
    "# figure = naima.plot_data(G150_data,figure = fig, e_unit=u.eV)\n",
    "# ax = figure.axes[0]\n",
    "\n",
    "\n",
    "# g150Res = ascii.read(os.path.join(tDir,'G150_IC_results.ecsv'))\n",
    "# amplitude = [10**g150Res['median'][0] / u.eV,(100*10**g150Res['median'][0] / u.eV),(1000*10**g150Res['median'][0] / u.eV)]\n",
    "# alpha = g150Res['median'][2]\n",
    "# e_cutoff = (10**g150Res['median'][3]) * u.TeV\n",
    "\n",
    "\n",
    "# ECPL = [ExponentialCutoffPowerLaw(a, 10. * u.TeV, alpha, e_cutoff) for a in amplitude]\n",
    "# PP = [PionDecay(ec, nh=1*u.cm**-3) for ec in ECPL]\n",
    "\n",
    "# energy = np.logspace(-7, 15, 100) * u.eV\n",
    "\n",
    "# for pp,i,l,ls in zip(PP, range(4),['Pion Decay: norm =2e44','Pion Decay: norm =2e46','Pion Decay: norm =2e47'],['--', '-.', ':']):\n",
    "#     ax.loglog(energy, pp.sed(energy, 0.38 * u.kpc),\n",
    "#              lw=3, c=naima.plot.color_cycle[i + 1], label=l, ls=ls)\n",
    "\n",
    "\n",
    "# ax.set_ylim(1e-16, 1e-10)\n",
    "# ax.set_xlim(1e4)\n",
    "# ax.legend(loc='upper right', frameon=False)\n",
    "# figure.tight_layout()\n",
    "# #figure.savefig('G150_PP_SED.png')"
   ]
  },
  {
   "cell_type": "code",
   "execution_count": 138,
   "metadata": {
    "collapsed": false
   },
   "outputs": [
    {
     "data": {
      "image/png": "[encoded data removed]",
      "text/plain": [
       "<matplotlib.figure.Figure at 0x10c612810>"
      ]
     },
     "metadata": {},
     "output_type": "display_data"
    }
   ],
   "source": [
    "#These are wrong and unnecessary!\n",
    "#i loadeed the IC ECPL results and put those into PionDecay by accident!\n",
    "\n",
    "#try plotting PP for other values I supply \n",
    "#plot SED with best fit electron spec and data\n",
    "fig = plt.figure(figsize = [10,8])\n",
    "figure = naima.plot_data(G150_data,figure = fig, e_unit=u.eV)\n",
    "ax = figure.axes[0]\n",
    "\n",
    "\n",
    "g150Res = ascii.read(os.path.join(tDir,'G150_IC_results.ecsv'))\n",
    "amplitude = 10**g150Res['median'][0] / u.eV\n",
    "alpha = g150Res['median'][2]\n",
    "e_cutoff = (10**g150Res['median'][3]) * u.TeV\n",
    "\n",
    "ECPL = ExponentialCutoffPowerLaw(amplitude, 10. * u.TeV, alpha, e_cutoff)\n",
    "\n",
    "PP = [PionDecay(ECPL, nh=1*u.cm**-3),PionDecay(ECPL, nh=100*u.cm**-3),PionDecay(ECPL, nh=1000*u.cm**-3)]\n",
    "# PP1 = PionDecay(ECPL, nh=1*u.cm**-3)\n",
    "# PP100 = PionDecay(ECPL, nh=100*u.cm**-3)\n",
    "# pp1000 = PionDecay(ECPL, nh=1000*u.cm**-3)\n",
    "# Plot the computed model emission\n",
    "\n",
    "energy = np.logspace(-7, 15, 100) * u.eV\n",
    "\n",
    "for pp,i,l,ls in zip(PP, range(4),['Pion Decay: n = 1/cm^3','Pion Decay: n = 100/cm^3','Pion Decay: n = 100/cm^3'],['--', '-.', ':']):\n",
    "    ax.loglog(energy, pp.sed(energy, 0.38 * u.kpc),\n",
    "             lw=3, c=naima.plot.color_cycle[i + 1], label=l, ls=ls)\n",
    "\n",
    "\n",
    "ax.set_ylim(1e-16, 1e-10)\n",
    "ax.set_xlim(1e4)\n",
    "ax.legend(loc='upper right', frameon=False)\n",
    "figure.tight_layout()\n",
    "#figure.savefig('G150_PP_SED.png')"
   ]
  },
  {
   "cell_type": "markdown",
   "metadata": {},
   "source": [
    "# Here are the good results!"
   ]
  },
  {
   "cell_type": "code",
   "execution_count": 32,
   "metadata": {
    "collapsed": false
   },
   "outputs": [
    {
     "data": {
      "image/png": "[encoded data removed]",
      "text/plain": [
       "<matplotlib.figure.Figure at 0x11230b110>"
      ]
     },
     "metadata": {},
     "output_type": "display_data"
    }
   ],
   "source": [
    "#try plotting PP for other values I supply \n",
    "#plot SED with best fit electron spec and data\n",
    "fig = plt.figure(figsize = [10,8])\n",
    "figure = naima.plot_data(G150_data,figure = fig, e_unit=u.eV)\n",
    "ax = figure.axes[0]\n",
    "g150Res = ascii.read(os.path.join(tDir,'G150_PP_results.ecsv'))\n",
    "amplitude = 10**g150Res['median'][0] / u.TeV\n",
    "alpha = g150Res['median'][2]\n",
    "e_cutoff = (10**g150Res['median'][3]) * u.TeV\n",
    "Wp = g150Res['median'][5]\n",
    "ECPL = ExponentialCutoffPowerLaw(amplitude, 10. * u.TeV, alpha, e_cutoff)\n",
    "\n",
    "nh = 1*u.cm**-3\n",
    "PP = PionDecay(ECPL, nh=nh)\n",
    "\n",
    "# Plot the computed model emission\n",
    "energy = np.logspace(-7, 15, 100) * u.eV\n",
    "ax.loglog(energy, PP.sed(energy, 0.38 * u.kpc),\n",
    "          lw=3, c='k', label='Pion Decay: n=1 $\\mathrm{cm}^{-3}$, $W_p (E_p>1\\, \\mathrm{GeV})$ =%0.2e erg, index = %0.2f' %(Wp,alpha))\n",
    "\n",
    "# for pp,i,l,ls in zip(PP, range(4),['Pion Decay: n = 1/cm^3','Pion Decay: n = 100/cm^3','Pion Decay: n = 100/cm^3'],['--', '-.', ':']):\n",
    "#     ax.loglog(energy, pp.sed(energy, 0.38 * u.kpc),\n",
    "#              lw=3, c=naima.plot.color_cycle[i + 1], label=l, ls=ls)\n",
    "\n",
    "ax.set_ylim(1e-16, 1e-10)\n",
    "ax.set_xlim(1e4)\n",
    "ax.legend(loc='best', frameon=False)\n",
    "figure.tight_layout()\n",
    "#figure.savefig('G150_PP_SED.png')"
   ]
  },
  {
   "cell_type": "markdown",
   "metadata": {},
   "source": [
    "## Show best fit separate IC/PP models overlaid"
   ]
  },
  {
   "cell_type": "code",
   "execution_count": 34,
   "metadata": {
    "collapsed": false
   },
   "outputs": [
    {
     "data": {
      "image/png": "[encoded data removed]",
      "text/plain": [
       "<matplotlib.figure.Figure at 0x10e987a10>"
      ]
     },
     "metadata": {},
     "output_type": "display_data"
    }
   ],
   "source": [
    "#try plotting PP for other values I supply \n",
    "#plot SED with best fit electron spec and data\n",
    "fig = plt.figure(figsize = [10,8])\n",
    "figure = naima.plot_data(G150_data,figure = fig, e_unit=u.eV)\n",
    "ax = figure.axes[0]\n",
    "\n",
    "###First PP\n",
    "g150Res = ascii.read(os.path.join(tDir,'G150_PP_results.ecsv'))\n",
    "amplitude = 10**g150Res['median'][0] / u.TeV\n",
    "alpha = alpha = g150Res['median'][2]\n",
    "e_cutoff = (10**g150Res['median'][3]) * u.TeV\n",
    "Wp = g150Res['median'][5]\n",
    "\n",
    "ECPL = ExponentialCutoffPowerLaw(amplitude, 10. * u.TeV, alpha, e_cutoff)\n",
    "\n",
    "nh = 1*u.cm**-3\n",
    "PP = PionDecay(ECPL, nh=nh)\n",
    "\n",
    "# Plot the computed model emission\n",
    "energy = np.logspace(-7, 15, 100) * u.eV\n",
    "ax.loglog(energy, PP.sed(energy, 0.38 * u.kpc),\n",
    "          lw=3, c=naima.plot.color_cycle[2], label='Pion Decay: n=1 $\\mathrm{cm}^{-3}$, $W_p (E_p>1\\, \\mathrm{GeV})$ =%0.2e erg, index_p = %0.2f' %(Wp,alpha))\n",
    "\n",
    "###Now IC\n",
    "g150Res = ascii.read(os.path.join(tDir,'G150_IC_results.ecsv'))\n",
    "amplitude = 10**g150Res['median'][0] / u.eV\n",
    "alpha = g150Res['median'][2]\n",
    "e_cutoff = (10**g150Res['median'][3]) * u.TeV\n",
    "We = g150Res['median'][5]\n",
    "ECPL = ExponentialCutoffPowerLaw(amplitude, 10. * u.TeV, alpha, e_cutoff)\n",
    "\n",
    "IC = InverseCompton(ECPL,\n",
    "                    seed_photon_fields=['CMB','FIR','NIR'],\n",
    "                    Eemax=50 * u.PeV, Eemin=1 * u.GeV)\n",
    "\n",
    "# Plot the computed model emission\n",
    "energy = np.logspace(-7, 15, 100) * u.eV\n",
    "ax.loglog(energy, IC.sed(energy, 0.38 * u.kpc),\n",
    "          lw=3, c=naima.plot.color_cycle[1], label='Total IC: $W_e (E_e>1\\, \\mathrm{GeV})$ =%0.2e erg, index_e = %0.2f' %(We,alpha))\n",
    "# for i, seed, ls in zip(range(4), ['CMB', 'FIR', 'NIR'], ['--', '-.', ':']):\n",
    "#     ax.loglog(energy, IC.sed(energy, 2 * u.kpc, seed=seed),\n",
    "#               lw=2, c=naima.plot.color_cycle[i + 1], label=seed, ls=ls)\n",
    "\n",
    "ax.set_ylim(1e-16, 1e-10)\n",
    "ax.set_xlim(1e4)\n",
    "ax.legend(loc='upper right', frameon=False)\n",
    "figure.tight_layout()\n",
    "#figure.savefig('G150_PP_SED.png')"
   ]
  },
  {
   "cell_type": "markdown",
   "metadata": {},
   "source": [
    "# Are the total energies in We, Wp reasonable?\n",
    "# What about indices for each particle distribution?\n",
    "## I think pp is way too hard?"
   ]
  },
  {
   "cell_type": "markdown",
   "metadata": {},
   "source": [
    "# 3. IC + PP"
   ]
  },
  {
   "cell_type": "code",
   "execution_count": 5,
   "metadata": {
    "collapsed": true
   },
   "outputs": [],
   "source": [
    "#I think i shouldn't be using the same particle distribution for pp and IC\n",
    "#since the normalization (number of e-/p or We/Wp) should be different \n",
    "#But I might expect to have the same index for both\n",
    "#If I do, I don't know that I can tie the indicies for two seperate particle distributions in naima\n",
    "#I likely can with sherpa though\n",
    "\n",
    "#For now, just use two different particle pops with all different params, start with the same p0 for both\n",
    "def IC_PP_Mod(pars, data):\n",
    "    \"\"\"Decide between PL or ECPL model based on number\n",
    "       of params in pars. Set up pp Pion Decay and e- IC models\"\"\"\n",
    "    \n",
    "    #params not to fit\n",
    "    pp_peMin = 1 * u.GeV\n",
    "    ic_eeMin = 1 * u.GeV\n",
    "    dist = 0.39 *u.kpc\n",
    "    nh = 1*u.cm**-3 #can i not add this to pars and fit for it also? maybe too many params, better to fix and not have to fit if I have a good value?\n",
    "    sd_ph = ['CMB','FIR','NIR']\n",
    "    dist = 0.39 *u.kpc\n",
    "    \n",
    "    #params to fit for PP and IC\n",
    "    #p0 = np.arra((norm_ic,norm_pp,index_both,cutoff_ic,cutoff_pp)) ###for ECPL, if PL, remove both cutoffs\n",
    "    amplitude_IC = 10**pars[0] / u.TeV\n",
    "    amplitude_PP = 10**pars[1] / u.TeV\n",
    "    alpha = pars[2] #same index for both\n",
    "\n",
    "    \n",
    "    #Instantiate particle distributions for IC and PP\n",
    "    if len(pars) == 3:\n",
    "        #print 'Particle distribution model is PL'\n",
    "        pMod_IC = PowerLaw_IC(amplitude_IC, 10. * u.TeV, alpha)\n",
    "        pMod_PP = PowerLaw_PP(amplitude_PP, 10. * u.TeV, alpha)\n",
    "        \n",
    "    elif len(pars) == 5:\n",
    "        #print 'Particle distribution model is ECPL'\n",
    "        e_cutoff_IC = (10**pars[3]) * u.TeV\n",
    "        pMod_IC = ExponentialCutoffPowerLaw(amplitude_IC, 10. * u.TeV, alpha, e_cutoff_IC)\n",
    "        e_cutoff_PP = (10**pars[4]) * u.TeV\n",
    "        pMod_PP = ExponentialCutoffPowerLaw(amplitude_PP, 10. * u.TeV, alpha, e_cutoff_PP)\n",
    "    else:\n",
    "        raise Exception('Wrong number of params input for PL or ECPL')\n",
    "        \n",
    "            \n",
    "    #instantiate IC models\n",
    "    PP = PionDecay(pMod_PP, nh=nh)\n",
    "        \n",
    "    #instantiate IC models\n",
    "    IC = InverseCompton(pMod_IC,\n",
    "                        seed_photon_fields=sd_ph,\n",
    "                        Eemin=ic_eeMin)\n",
    "    \n",
    "    #calculate PP + IC flux at energies of data\n",
    "    model = (IC.flux(data,\n",
    "                     distance=dist) + PP.flux(G150_data, distance=dist))\n",
    "    \n",
    "    # Save this realization of the particle distribution function\n",
    "    particle_energy = np.logspace(-3, 2, 50) * u.TeV\n",
    "    nelec = pMod_IC(particle_energy)\n",
    "    proton_dist = PP.particle_distribution(particle_energy) ###is PP.particle_distribution the same as pMod(eneegy?)\n",
    "\n",
    "    # Compute the total energy in protons/electrons above 1 GeVfor this realization\n",
    "    Wp = PP.compute_Wp(Epmin=pp_peMin)\n",
    "    We = IC.compute_We(Eemin=ic_eeMin)#1 * u.TeV)\n",
    "\n",
    "    # Return the model, proton distribution and energy in protons to be stored\n",
    "    # in metadata blobs\n",
    "    return model, (particle_energy, proton_dist), Wp, (particle_energy, nelec), We\n",
    "\n",
    "def lnprior_IC_PP(pars):\n",
    "    \"\"\"\n",
    "    Return probability of parameter values according to prior knowledge.\n",
    "    Parameter. Include norm_IC, norm_PP, index. Not cutoffs\n",
    "        \"\"\"\n",
    "\n",
    "    logprob = naima.uniform_prior(pars[0], 0., np.inf)          \\\n",
    "                    + naima.uniform_prior(pars[1],0., np.inf)      \\\n",
    "                    + naima.uniform_prior(pars[2], -1, 5) \n",
    "\n",
    "    return logprob"
   ]
  },
  {
   "cell_type": "code",
   "execution_count": 6,
   "metadata": {
    "collapsed": false,
    "scrolled": true
   },
   "outputs": [
    {
     "name": "stderr",
     "output_type": "stream",
     "text": [
      "WARNING: More than one label starting with [norm,Norm,ampl,Ampl,We,Wp,log(norm,log(Norm,log(ampl,log(Ampl,log(We,log(Wp,log10(norm,log10(Norm,log10(ampl,log10(Ampl,log10(We,log10(Wp] found: not applying normalization guess. [naima.core]\n",
      "WARNING:astropy:More than one label starting with [norm,Norm,ampl,Ampl,We,Wp,log(norm,log(Norm,log(ampl,log(Ampl,log(We,log(Wp,log10(norm,log10(Norm,log10(ampl,log10(Ampl,log10(We,log10(Wp] found: not applying normalization guess.\n",
      "INFO:astropy:Launching interactive model fitter, close window when finished\n",
      "WARNING: \"cl\" keyword not provided in input data table, upper limits will be assumed to be at 90% confidence level [naima.utils]\n",
      "WARNING:astropy:\"cl\" keyword not provided in input data table, upper limits will be assumed to be at 90% confidence level\n"
     ]
    },
    {
     "name": "stdout",
     "output_type": "stream",
     "text": [
      "INFO: Launching interactive model fitter, close window when finished [naima.core]\n"
     ]
    },
    {
     "data": {
      "image/png": "[encoded data removed]",
      "text/plain": [
       "<matplotlib.figure.Figure at 0x102e1b610>"
      ]
     },
     "metadata": {},
     "output_type": "display_data"
    },
    {
     "name": "stderr",
     "output_type": "stream",
     "text": [
      "INFO:astropy:Finding Maximum Likelihood parameters through Nelder-Mead fitting...\n",
      "INFO:astropy:   Initial parameters: [ 30.          44.           2.           2.47421626   2.30535137]\n"
     ]
    },
    {
     "name": "stdout",
     "output_type": "stream",
     "text": [
      "INFO: Finding Maximum Likelihood parameters through Nelder-Mead fitting... [naima.core]\n",
      "INFO:    Initial parameters: [ 30.          44.           2.           2.47421626   2.30535137] [naima.core]\n",
      "INFO"
     ]
    },
    {
     "name": "stderr",
     "output_type": "stream",
     "text": [
      "INFO:astropy:   Initial lnprob(p0): -109.153\n"
     ]
    },
    {
     "name": "stdout",
     "output_type": "stream",
     "text": [
      ":    Initial lnprob(p0): -109.153 [naima.core]\n",
      "INFO"
     ]
    },
    {
     "name": "stderr",
     "output_type": "stream",
     "text": [
      "INFO:astropy:   New ML parameters : [ 40.61043197  44.85778305   1.47029176   1.55635186   3.057782  ]\n",
      "INFO:astropy:   Maximum lnprob(p0): -2.214\n"
     ]
    },
    {
     "name": "stdout",
     "output_type": "stream",
     "text": [
      ":    New ML parameters : [ 40.61043197  44.85778305   1.47029176   1.55635186   3.057782  ] [naima.core]\n",
      "INFO:    Maximum lnprob(p0): -2.214 [naima.core]\n",
      "Burning in the 32 walkers with 100 steps...\n",
      "\n",
      "Progress of the run: 0 percent (0 of 100 steps)\n",
      "                           log10(norm_IC)- log10(amplitude_PP) -----index----- log10(cutoff_IC) log10(cutoff_PP)\n",
      "  Last ensemble median :      40.6            44.9            1.47            1.56            3.05      \n",
      "  Last ensemble std    :      0.198           0.173          0.00869         0.00832         0.0133     \n",
      "  Last ensemble lnprob :  avg: -35.771, max: -2.312\n",
      "\n",
      "Progress of the run: 5 percent (5 of 100 steps)\n",
      "                           log10(norm_IC)- log10(amplitude_PP) -----index----- log10(cutoff_IC) log10(cutoff_PP)\n",
      "  Last ensemble median :      40.6            44.9            1.47            1.56            3.05      \n",
      "  Last ensemble std    :      0.21            0.118          0.0143          0.0149           0.02      \n",
      "  Last ensemble lnprob :  avg: -16.258, max: -2.308\n",
      "\n",
      "Progress of the run: 10 percent (10 of 100 steps)\n",
      "                           log10(norm_IC)- log10(amplitude_PP) -----index----- log10(cutoff_IC) log10(cutoff_PP)\n",
      "  Last ensemble median :      40.6            44.9            1.47            1.56            3.05      \n",
      "  Last ensemble std    :      0.336          0.0761          0.0223          0.0271          0.0239     \n",
      "  Last ensemble lnprob :  avg: -6.891, max: -2.402\n",
      "\n",
      "Progress of the run: 15 percent (15 of 100 steps)\n",
      "                           log10(norm_IC)- log10(amplitude_PP) -----index----- log10(cutoff_IC) log10(cutoff_PP)\n",
      "  Last ensemble median :      40.8            44.9            1.47            1.56            3.05      \n",
      "  Last ensemble std    :      0.591          0.0836          0.0377          0.0479           0.044     \n",
      "  Last ensemble lnprob :  avg: -5.813, max: -2.217\n",
      "\n",
      "Progress of the run: 20 percent (20 of 100 steps)\n",
      "                           log10(norm_IC)- log10(amplitude_PP) -----index----- log10(cutoff_IC) log10(cutoff_PP)\n",
      "  Last ensemble median :      40.7            44.9            1.48            1.56            3.04      \n",
      "  Last ensemble std    :      1.61            0.116           0.057          0.0931          0.0819     \n",
      "  Last ensemble lnprob :  avg: -5.296, max: -2.252\n",
      "\n",
      "Progress of the run: 25 percent (25 of 100 steps)\n",
      "                           log10(norm_IC)- log10(amplitude_PP) -----index----- log10(cutoff_IC) log10(cutoff_PP)\n",
      "  Last ensemble median :      40.4            44.9            1.48            1.57            3.04      \n",
      "  Last ensemble std    :      2.24            0.14           0.0788           0.123           0.115     \n",
      "  Last ensemble lnprob :  avg: -3.829, max: -2.235\n",
      "\n",
      "Progress of the run: 30 percent (30 of 100 steps)\n",
      "                           log10(norm_IC)- log10(amplitude_PP) -----index----- log10(cutoff_IC) log10(cutoff_PP)\n",
      "  Last ensemble median :      40.3            44.8            1.47            1.54            3.04      \n",
      "  Last ensemble std    :      3.49            0.158           0.102           0.15            0.164     \n",
      "  Last ensemble lnprob :  avg: -3.896, max: -2.206\n",
      "\n",
      "Progress of the run: 35 percent (35 of 100 steps)\n",
      "                           log10(norm_IC)- log10(amplitude_PP) -----index----- log10(cutoff_IC) log10(cutoff_PP)\n",
      "  Last ensemble median :      40.8            44.9            1.48            1.54            3.05      \n",
      "  Last ensemble std    :      3.44            0.155           0.109           0.199           0.227     \n",
      "  Last ensemble lnprob :  avg: -4.113, max: -2.172\n",
      "\n",
      "Progress of the run: 40 percent (40 of 100 steps)\n",
      "                           log10(norm_IC)- log10(amplitude_PP) -----index----- log10(cutoff_IC) log10(cutoff_PP)\n",
      "  Last ensemble median :      40.8            44.8            1.49            1.53            3.08      \n",
      "  Last ensemble std    :      3.68            0.177           0.14            0.223           0.271     \n",
      "  Last ensemble lnprob :  avg: -4.021, max: -2.116\n",
      "\n",
      "Progress of the run: 45 percent (45 of 100 steps)\n",
      "                           log10(norm_IC)- log10(amplitude_PP) -----index----- log10(cutoff_IC) log10(cutoff_PP)\n",
      "  Last ensemble median :      40.8            44.9            1.51            1.49            3.13      \n",
      "  Last ensemble std    :      4.91            0.186           0.15            0.295           0.284     \n",
      "  Last ensemble lnprob :  avg: -3.827, max: -2.028\n",
      "\n",
      "Progress of the run: 50 percent (50 of 100 steps)\n",
      "                           log10(norm_IC)- log10(amplitude_PP) -----index----- log10(cutoff_IC) log10(cutoff_PP)\n",
      "  Last ensemble median :      40.7            44.9            1.52             1.5            3.05      \n",
      "  Last ensemble std    :      5.61            0.252           0.24            0.479           0.408     \n",
      "  Last ensemble lnprob :  avg: -4.152, max: -1.809\n",
      "\n",
      "Progress of the run: 55 percent (55 of 100 steps)\n",
      "                           log10(norm_IC)- log10(amplitude_PP) -----index----- log10(cutoff_IC) log10(cutoff_PP)\n",
      "  Last ensemble median :      40.6            44.9            1.49            1.51            3.08      \n",
      "  Last ensemble std    :      6.23            0.28            0.251           0.575           0.415     \n",
      "  Last ensemble lnprob :  avg: -3.999, max: -1.535\n",
      "\n",
      "Progress of the run: 60 percent (60 of 100 steps)\n",
      "                           log10(norm_IC)- log10(amplitude_PP) -----index----- log10(cutoff_IC) log10(cutoff_PP)\n",
      "  Last ensemble median :       40             44.9            1.52            1.39            3.07      \n",
      "  Last ensemble std    :      5.76            0.296           0.262           0.552           0.431     \n",
      "  Last ensemble lnprob :  avg: -3.546, max: -1.219\n",
      "\n",
      "Progress of the run: 65 percent (65 of 100 steps)\n",
      "                           log10(norm_IC)- log10(amplitude_PP) -----index----- log10(cutoff_IC) log10(cutoff_PP)\n",
      "  Last ensemble median :      39.5            44.9            1.52            1.44            3.07      \n",
      "  Last ensemble std    :      8.74            0.269           0.237           0.608            0.4      \n",
      "  Last ensemble lnprob :  avg: -3.720, max: -1.180\n",
      "\n",
      "Progress of the run: 70 percent (70 of 100 steps)\n",
      "                           log10(norm_IC)- log10(amplitude_PP) -----index----- log10(cutoff_IC) log10(cutoff_PP)\n",
      "  Last ensemble median :      39.3            44.9            1.52            1.49            3.12      \n",
      "  Last ensemble std    :      7.49            0.29            0.268           0.64            0.44      \n",
      "  Last ensemble lnprob :  avg: -3.691, max: -1.182\n",
      "\n",
      "Progress of the run: 75 percent (75 of 100 steps)\n",
      "                           log10(norm_IC)- log10(amplitude_PP) -----index----- log10(cutoff_IC) log10(cutoff_PP)\n",
      "  Last ensemble median :      39.7            44.9            1.51            1.49            3.13      \n",
      "  Last ensemble std    :       6.6            0.325           0.293           0.652           0.456     \n",
      "  Last ensemble lnprob :  avg: -3.319, max: -1.246\n",
      "\n",
      "Progress of the run: 80 percent (80 of 100 steps)\n",
      "                           log10(norm_IC)- log10(amplitude_PP) -----index----- log10(cutoff_IC) log10(cutoff_PP)\n",
      "  Last ensemble median :      39.2            44.9            1.55            1.45            3.15      \n",
      "  Last ensemble std    :      6.66            0.332           0.308           0.654           0.501     \n",
      "  Last ensemble lnprob :  avg: -3.299, max: -1.591\n",
      "\n",
      "Progress of the run: 85 percent (85 of 100 steps)\n",
      "                           log10(norm_IC)- log10(amplitude_PP) -----index----- log10(cutoff_IC) log10(cutoff_PP)\n",
      "  Last ensemble median :      39.2            44.9            1.53            1.43            3.14      \n",
      "  Last ensemble std    :      7.05            0.33            0.302           1.02            0.483     \n",
      "  Last ensemble lnprob :  avg: -3.203, max: -1.591\n",
      "\n",
      "Progress of the run: 90 percent (90 of 100 steps)\n",
      "                           log10(norm_IC)- log10(amplitude_PP) -----index----- log10(cutoff_IC) log10(cutoff_PP)\n",
      "  Last ensemble median :      37.6            44.9            1.56            1.43            3.22      \n",
      "  Last ensemble std    :      8.04            0.311           0.29            1.31            0.496     \n",
      "  Last ensemble lnprob :  avg: -3.090, max: -1.591\n",
      "\n",
      "Progress of the run: 95 percent (95 of 100 steps)\n",
      "                           log10(norm_IC)- log10(amplitude_PP) -----index----- log10(cutoff_IC) log10(cutoff_PP)\n",
      "  Last ensemble median :       37             44.9            1.55            1.52            3.24      \n",
      "  Last ensemble std    :      11.3            0.315           0.299           2.04            0.49      \n",
      "  Last ensemble lnprob :  avg: -3.219, max: -1.662\n",
      "\n",
      "Walker burn in finished, running 20 steps...\n",
      "\n",
      "Progress of the run: 0 percent (0 of 20 steps)\n",
      "                           log10(norm_IC)- log10(amplitude_PP) -----index----- log10(cutoff_IC) log10(cutoff_PP)\n",
      "  Last ensemble median :      39.7            44.9            1.53            1.55            3.22      \n",
      "  Last ensemble std    :      12.9            0.323           0.306           2.07            0.447     \n",
      "  Last ensemble lnprob :  avg: -3.396, max: -1.785\n",
      "\n",
      "Progress of the run: 5 percent (1 of 20 steps)\n",
      "                           log10(norm_IC)- log10(amplitude_PP) -----index----- log10(cutoff_IC) log10(cutoff_PP)\n",
      "  Last ensemble median :       39             44.9            1.53            1.61            3.29      \n",
      "  Last ensemble std    :       12             0.317           0.291           2.39            0.422     \n",
      "  Last ensemble lnprob :  avg: -3.359, max: -1.785\n",
      "\n",
      "Progress of the run: 10 percent (2 of 20 steps)\n",
      "                           log10(norm_IC)- log10(amplitude_PP) -----index----- log10(cutoff_IC) log10(cutoff_PP)\n",
      "  Last ensemble median :      39.3            44.9            1.52            1.39            3.23      \n",
      "  Last ensemble std    :      12.2            0.317           0.295           2.49            0.458     \n",
      "  Last ensemble lnprob :  avg: -3.231, max: -1.785\n",
      "\n",
      "Progress of the run: 15 percent (3 of 20 steps)\n",
      "                           log10(norm_IC)- log10(amplitude_PP) -----index----- log10(cutoff_IC) log10(cutoff_PP)\n",
      "  Last ensemble median :      38.1            44.9            1.52            1.59            3.16      \n",
      "  Last ensemble std    :      13.2            0.323           0.301           2.81            0.484     \n",
      "  Last ensemble lnprob :  avg: -3.442, max: -1.869\n",
      "\n",
      "Progress of the run: 20 percent (4 of 20 steps)\n",
      "                           log10(norm_IC)- log10(amplitude_PP) -----index----- log10(cutoff_IC) log10(cutoff_PP)\n",
      "  Last ensemble median :      38.5            44.9            1.53            1.48            3.16      \n",
      "  Last ensemble std    :      13.6            0.323           0.305           2.84            0.491     \n",
      "  Last ensemble lnprob :  avg: -3.257, max: -1.042\n",
      "\n",
      "Progress of the run: 25 percent (5 of 20 steps)\n",
      "                           log10(norm_IC)- log10(amplitude_PP) -----index----- log10(cutoff_IC) log10(cutoff_PP)\n",
      "  Last ensemble median :      37.4            44.9            1.59            1.21            3.17      \n",
      "  Last ensemble std    :      13.8            0.329           0.313           2.94            0.476     \n",
      "  Last ensemble lnprob :  avg: -3.194, max: -1.042\n",
      "\n",
      "Progress of the run: 30 percent (6 of 20 steps)\n",
      "                           log10(norm_IC)- log10(amplitude_PP) -----index----- log10(cutoff_IC) log10(cutoff_PP)\n",
      "  Last ensemble median :      36.9            44.9            1.59             1.2            3.16      \n",
      "  Last ensemble std    :      18.8            0.327           0.312             4             0.467     \n",
      "  Last ensemble lnprob :  avg: -3.238, max: -1.042\n",
      "\n",
      "Progress of the run: 35 percent (7 of 20 steps)\n",
      "                           log10(norm_IC)- log10(amplitude_PP) -----index----- log10(cutoff_IC) log10(cutoff_PP)\n",
      "  Last ensemble median :      35.6            44.9            1.62            1.35            3.17      \n",
      "  Last ensemble std    :      17.2            0.328           0.309           3.95            0.445     \n",
      "  Last ensemble lnprob :  avg: -3.152, max: -1.042\n",
      "\n",
      "Progress of the run: 40 percent (8 of 20 steps)\n",
      "                           log10(norm_IC)- log10(amplitude_PP) -----index----- log10(cutoff_IC) log10(cutoff_PP)\n",
      "  Last ensemble median :      35.6             45             1.63            1.23            3.17      \n",
      "  Last ensemble std    :       18             0.335           0.314           4.18            0.46      \n",
      "  Last ensemble lnprob :  avg: -3.216, max: -1.042\n",
      "\n",
      "Progress of the run: 45 percent (9 of 20 steps)\n",
      "                           log10(norm_IC)- log10(amplitude_PP) -----index----- log10(cutoff_IC) log10(cutoff_PP)\n",
      "  Last ensemble median :      36.1             45             1.62            1.05            3.25      \n",
      "  Last ensemble std    :      18.7            0.344           0.321           4.58            0.469     \n",
      "  Last ensemble lnprob :  avg: -3.258, max: -1.042\n",
      "\n",
      "Progress of the run: 50 percent (10 of 20 steps)\n",
      "                           log10(norm_IC)- log10(amplitude_PP) -----index----- log10(cutoff_IC) log10(cutoff_PP)\n",
      "  Last ensemble median :      34.9             45             1.62            1.27            3.25      \n",
      "  Last ensemble std    :      20.3            0.348           0.323           4.97            0.457     \n",
      "  Last ensemble lnprob :  avg: -3.283, max: -1.042\n",
      "\n",
      "Progress of the run: 55 percent (11 of 20 steps)\n",
      "                           log10(norm_IC)- log10(amplitude_PP) -----index----- log10(cutoff_IC) log10(cutoff_PP)\n",
      "  Last ensemble median :      34.2            44.9            1.56            1.27            3.26      \n",
      "  Last ensemble std    :      21.2            0.345           0.32            6.23            0.462     \n",
      "  Last ensemble lnprob :  avg: -3.203, max: -1.042\n",
      "\n",
      "Progress of the run: 60 percent (12 of 20 steps)\n",
      "                           log10(norm_IC)- log10(amplitude_PP) -----index----- log10(cutoff_IC) log10(cutoff_PP)\n",
      "  Last ensemble median :      33.6            44.9            1.59            1.05            3.34      \n",
      "  Last ensemble std    :      21.1            0.349           0.343           6.01            0.465     \n",
      "  Last ensemble lnprob :  avg: -3.217, max: -1.038\n",
      "\n",
      "Progress of the run: 65 percent (13 of 20 steps)\n",
      "                           log10(norm_IC)- log10(amplitude_PP) -----index----- log10(cutoff_IC) log10(cutoff_PP)\n",
      "  Last ensemble median :      33.6            44.9            1.56            1.32            3.33      \n",
      "  Last ensemble std    :      21.9            0.336           0.331           6.07            0.461     \n",
      "  Last ensemble lnprob :  avg: -3.140, max: -1.038\n",
      "\n",
      "Progress of the run: 70 percent (14 of 20 steps)\n",
      "                           log10(norm_IC)- log10(amplitude_PP) -----index----- log10(cutoff_IC) log10(cutoff_PP)\n",
      "  Last ensemble median :      32.6            44.9            1.55            1.74            3.31      \n",
      "  Last ensemble std    :      22.4            0.334           0.33            6.09            0.456     \n",
      "  Last ensemble lnprob :  avg: -2.944, max: -1.038\n",
      "\n",
      "Progress of the run: 75 percent (15 of 20 steps)\n",
      "                           log10(norm_IC)- log10(amplitude_PP) -----index----- log10(cutoff_IC) log10(cutoff_PP)\n",
      "  Last ensemble median :      32.5            44.9            1.55            1.74            3.32      \n",
      "  Last ensemble std    :      23.7            0.339           0.335           6.26            0.46      \n",
      "  Last ensemble lnprob :  avg: -3.098, max: -1.038\n",
      "\n",
      "Progress of the run: 80 percent (16 of 20 steps)\n",
      "                           log10(norm_IC)- log10(amplitude_PP) -----index----- log10(cutoff_IC) log10(cutoff_PP)\n",
      "  Last ensemble median :      37.4            44.9            1.59            1.35            3.33      \n",
      "  Last ensemble std    :      27.9            0.341           0.327           7.09            0.45      \n",
      "  Last ensemble lnprob :  avg: -2.970, max: -1.038\n",
      "\n",
      "Progress of the run: 85 percent (17 of 20 steps)\n",
      "                           log10(norm_IC)- log10(amplitude_PP) -----index----- log10(cutoff_IC) log10(cutoff_PP)\n",
      "  Last ensemble median :      35.5            44.9            1.64            1.35            3.36      \n",
      "  Last ensemble std    :       32             0.349           0.331           7.71            0.483     \n",
      "  Last ensemble lnprob :  avg: -3.081, max: -1.038\n",
      "\n",
      "Progress of the run: 90 percent (18 of 20 steps)\n",
      "                           log10(norm_IC)- log10(amplitude_PP) -----index----- log10(cutoff_IC) log10(cutoff_PP)\n",
      "  Last ensemble median :      36.5            44.9            1.64            1.35            3.33      \n",
      "  Last ensemble std    :       35             0.35            0.33            8.47            0.485     \n",
      "  Last ensemble lnprob :  avg: -3.142, max: -1.038\n",
      "\n",
      "Progress of the run: 95 percent (19 of 20 steps)"
     ]
    },
    {
     "name": "stderr",
     "output_type": "stream",
     "text": [
      "WARNING: Not writing file because file exists and clobber is False [naima.analysis]\n",
      "WARNING:astropy:Not writing file because file exists and clobber is False\n",
      "INFO:astropy:Plotting chain of parameter log10(norm_IC)...\n"
     ]
    },
    {
     "name": "stdout",
     "output_type": "stream",
     "text": [
      "\n",
      "                           log10(norm_IC)- log10(amplitude_PP) -----index----- log10(cutoff_IC) log10(cutoff_PP)\n",
      "  Last ensemble median :      36.5             45             1.66            1.35            3.33      \n",
      "  Last ensemble std    :      44.4            0.351           0.339           9.57            0.482     \n",
      "  Last ensemble lnprob :  avg: -3.044, max: -1.038\n",
      "INFO: Plotting chain of parameter log10(norm_IC)... [naima.analysis]\n",
      "INFO"
     ]
    },
    {
     "name": "stderr",
     "output_type": "stream",
     "text": [
      "INFO:astropy:------------------log10(norm_IC)------------------\n",
      "          log10(norm_IC) = $36^{+11}_{-20}$\n",
      "                 norm_IC = $(1.8^{+140000000000}_{-1.8})\\times10^{36}$\n"
     ]
    },
    {
     "name": "stdout",
     "output_type": "stream",
     "text": [
      ": ------------------log10(norm_IC)------------------\n",
      "          log10(norm_IC) = $36^{+11}_{-20}$\n",
      "                 norm_IC = $(1.8^{+140000000000}_{-1.8})\\times10^{36}$ [naima.plot]\n",
      "INFO"
     ]
    },
    {
     "name": "stderr",
     "output_type": "stream",
     "text": [
      "INFO:astropy:Plotting chain of parameter log10(amplitude_PP)...\n"
     ]
    },
    {
     "name": "stdout",
     "output_type": "stream",
     "text": [
      ": Plotting chain of parameter log10(amplitude_PP)... [naima.analysis]\n",
      "INFO"
     ]
    },
    {
     "name": "stderr",
     "output_type": "stream",
     "text": [
      "INFO:astropy:---------------log10(amplitude_PP)----------------\n",
      "          log10(amplitude_PP) = $44.92^{+0.18}_{-0.4}$\n",
      "                 amplitude_PP = $(8 \\pm 5)\\times10^{44}$\n"
     ]
    },
    {
     "name": "stdout",
     "output_type": "stream",
     "text": [
      ": ---------------log10(amplitude_PP)----------------\n",
      "          log10(amplitude_PP) = $44.92^{+0.18}_{-0.4}$\n",
      "                 amplitude_PP = $(8 \\pm 5)\\times10^{44}$ [naima.plot]\n",
      "INFO"
     ]
    },
    {
     "name": "stderr",
     "output_type": "stream",
     "text": [
      "INFO:astropy:Plotting chain of parameter index...\n"
     ]
    },
    {
     "name": "stdout",
     "output_type": "stream",
     "text": [
      ": Plotting chain of parameter index... [naima.analysis]\n",
      "INFO"
     ]
    },
    {
     "name": "stderr",
     "output_type": "stream",
     "text": [
      "INFO:astropy:----------------------index-----------------------\n",
      "          index = $1.55^{+0.20}_{-0.4}$\n"
     ]
    },
    {
     "name": "stdout",
     "output_type": "stream",
     "text": [
      ": ----------------------index-----------------------\n",
      "          index = $1.55^{+0.20}_{-0.4}$ [naima.plot]\n",
      "INFO"
     ]
    },
    {
     "name": "stderr",
     "output_type": "stream",
     "text": [
      "INFO:astropy:Plotting chain of parameter log10(cutoff_IC)...\n"
     ]
    },
    {
     "name": "stdout",
     "output_type": "stream",
     "text": [
      ": Plotting chain of parameter log10(cutoff_IC)... [naima.analysis]\n",
      "INFO"
     ]
    },
    {
     "name": "stderr",
     "output_type": "stream",
     "text": [
      "INFO:astropy:-----------------log10(cutoff_IC)-----------------\n",
      "          log10(cutoff_IC) = $1 \\pm 3$\n",
      "                 cutoff_IC = $20^{+30000}_{-20}$\n"
     ]
    },
    {
     "name": "stdout",
     "output_type": "stream",
     "text": [
      ": -----------------log10(cutoff_IC)-----------------\n",
      "          log10(cutoff_IC) = $1 \\pm 3$\n",
      "                 cutoff_IC = $20^{+30000}_{-20}$ [naima.plot]\n",
      "INFO"
     ]
    },
    {
     "name": "stderr",
     "output_type": "stream",
     "text": [
      "INFO:astropy:Plotting chain of parameter log10(cutoff_PP)...\n"
     ]
    },
    {
     "name": "stdout",
     "output_type": "stream",
     "text": [
      ": Plotting chain of parameter log10(cutoff_PP)... [naima.analysis]\n",
      "INFO"
     ]
    },
    {
     "name": "stderr",
     "output_type": "stream",
     "text": [
      "INFO:astropy:-----------------log10(cutoff_PP)-----------------\n",
      "          log10(cutoff_PP) = $3.3 \\pm 0.5$\n",
      "                 cutoff_PP = $(2.0^{+4}_{-1.3})\\times10^{3}$\n"
     ]
    },
    {
     "name": "stdout",
     "output_type": "stream",
     "text": [
      ": -----------------log10(cutoff_PP)-----------------\n",
      "          log10(cutoff_PP) = $3.3 \\pm 0.5$\n",
      "                 cutoff_PP = $(2.0^{+4}_{-1.3})\\times10^{3}$ [naima.plot]\n",
      "INFO"
     ]
    },
    {
     "name": "stderr",
     "output_type": "stream",
     "text": [
      "INFO:astropy:Plotting corner plot...\n"
     ]
    },
    {
     "name": "stdout",
     "output_type": "stream",
     "text": [
      ": Plotting corner plot... [naima.analysis]\n",
      "INFO"
     ]
    },
    {
     "name": "stderr",
     "output_type": "stream",
     "text": [
      "INFO:astropy:Plotting Proton Spectrum...\n"
     ]
    },
    {
     "name": "stdout",
     "output_type": "stream",
     "text": [
      ": Plotting Proton Spectrum... [naima.analysis]\n",
      "INFO"
     ]
    },
    {
     "name": "stderr",
     "output_type": "stream",
     "text": [
      "INFO:astropy:Plotting Proton Energy Distribution...\n"
     ]
    },
    {
     "name": "stdout",
     "output_type": "stream",
     "text": [
      ": Plotting Proton Energy Distribution... [naima.analysis]\n",
      "INFO"
     ]
    },
    {
     "name": "stderr",
     "output_type": "stream",
     "text": [
      "INFO:astropy:Plotting $W_p (E_p>1\\, \\mathrm{GeV})$...\n"
     ]
    },
    {
     "name": "stdout",
     "output_type": "stream",
     "text": [
      ": Plotting $W_p (E_p>1\\, \\mathrm{GeV})$... [naima.analysis]\n",
      "INFO"
     ]
    },
    {
     "name": "stderr",
     "output_type": "stream",
     "text": [
      "INFO:astropy:Plotting Electron Spectrum...\n",
      "WARNING: plot_blob failed for Electron Spectrum: zero-size array to reduction operation maximum which has no identity [naima.analysis]\n",
      "WARNING:astropy:plot_blob failed for Electron Spectrum: zero-size array to reduction operation maximum which has no identity\n"
     ]
    },
    {
     "name": "stdout",
     "output_type": "stream",
     "text": [
      ": Plotting Electron Spectrum... [naima.analysis]\n",
      "INFO"
     ]
    },
    {
     "name": "stderr",
     "output_type": "stream",
     "text": [
      "INFO:astropy:Plotting Electron Energy Distribution...\n"
     ]
    },
    {
     "name": "stdout",
     "output_type": "stream",
     "text": [
      ": Plotting Electron Energy Distribution... [naima.analysis]\n",
      "INFO"
     ]
    },
    {
     "name": "stderr",
     "output_type": "stream",
     "text": [
      "INFO:astropy:Saving results table in G150_IC_PP_results.ecsv\n"
     ]
    },
    {
     "name": "stdout",
     "output_type": "stream",
     "text": [
      ": Saving results table in G150_IC_PP_results.ecsv [naima.analysis]\n"
     ]
    },
    {
     "data": {
      "text/html": [
       "&lt;Table length=11&gt;\n",
       "<table id=\"table4475630992\">\n",
       "<thead><tr><th>label</th><th>median</th><th>unc_lo</th><th>unc_hi</th></tr></thead>\n",
       "<thead><tr><th>str72</th><th>float64</th><th>float64</th><th>float64</th></tr></thead>\n",
       "<tr><td>log10(norm_IC)</td><td>36.2459770417</td><td>19.5638522225</td><td>10.8396776421</td></tr>\n",
       "<tr><td>norm_IC</td><td>1.76188290492e+36</td><td>1.76188290492e+36</td><td>1.36988450023e+47</td></tr>\n",
       "<tr><td>log10(amplitude_PP)</td><td>44.9201368737</td><td>0.378841484982</td><td>0.177565297246</td></tr>\n",
       "<tr><td>amplitude_PP</td><td>8.32025953896e+44</td><td>4.84141508615e+44</td><td>4.20256140624e+44</td></tr>\n",
       "<tr><td>index</td><td>1.55376055777</td><td>0.372148386601</td><td>0.195380960471</td></tr>\n",
       "<tr><td>log10(cutoff_IC)</td><td>1.36780521872</td><td>2.73013232191</td><td>3.14363287642</td></tr>\n",
       "<tr><td>cutoff_IC</td><td>23.3241173991</td><td>23.2806990909</td><td>32443.3719277</td></tr>\n",
       "<tr><td>log10(cutoff_PP)</td><td>3.29318969328</td><td>0.475196551409</td><td>0.454434838201</td></tr>\n",
       "<tr><td>cutoff_PP</td><td>1964.21803029</td><td>1306.57057821</td><td>3628.98537438</td></tr>\n",
       "<tr><td>blob2</td><td>2.66898468573e+48</td><td>7.76648780555e+47</td><td>5.19145458053e+47</td></tr>\n",
       "<tr><td>blob4</td><td>1.78428240315e+34</td><td>1.78428240315e+34</td><td>5.87952394515e+44</td></tr>\n",
       "</table>"
      ],
      "text/plain": [
       "<Table length=11>\n",
       "       label              median            unc_lo            unc_hi     \n",
       "       str72             float64           float64           float64     \n",
       "------------------- ----------------- ----------------- -----------------\n",
       "     log10(norm_IC)     36.2459770417     19.5638522225     10.8396776421\n",
       "            norm_IC 1.76188290492e+36 1.76188290492e+36 1.36988450023e+47\n",
       "log10(amplitude_PP)     44.9201368737    0.378841484982    0.177565297246\n",
       "       amplitude_PP 8.32025953896e+44 4.84141508615e+44 4.20256140624e+44\n",
       "              index     1.55376055777    0.372148386601    0.195380960471\n",
       "   log10(cutoff_IC)     1.36780521872     2.73013232191     3.14363287642\n",
       "          cutoff_IC     23.3241173991     23.2806990909     32443.3719277\n",
       "   log10(cutoff_PP)     3.29318969328    0.475196551409    0.454434838201\n",
       "          cutoff_PP     1964.21803029     1306.57057821     3628.98537438\n",
       "              blob2 2.66898468573e+48 7.76648780555e+47 5.19145458053e+47\n",
       "              blob4 1.78428240315e+34 1.78428240315e+34 5.87952394515e+44"
      ]
     },
     "execution_count": 6,
     "metadata": {},
     "output_type": "execute_result"
    }
   ],
   "source": [
    "#I think if I only pass in pars for one amp/ind/cutoff it won't fit two different\n",
    "#maybe I can't pass in more labels than pars?\n",
    "#is it possible to use only a single index par/label?\n",
    "###Is there no such thing as a joint fit of elec and prot spec in naima?\n",
    "###or maybe naima is smart and I can like this?\n",
    "\n",
    "\n",
    "#p0 = np.arra((norm_ic,index_both,cutoff_ic,norm_pp,cutoff_pp))\n",
    "p0 = np.array((30, 44, 2., np.log10(298),np.log10(202))) #start with same params for each, not sure this is best to do\n",
    "\n",
    "##try this after running and maybe failing?\n",
    "#p0 = np.array((31.1, 43.9,1.98,np.log10(49),np.log10(49)))\n",
    "if len(p0) == 3:\n",
    "    labels = ['log10(norm_IC)', 'log10(amplitude_PP)', 'index']\n",
    "elif len(p0) ==5:\n",
    "    labels = ['log10(norm_IC)', 'log10(amplitude_PP)', 'index', 'log10(cutoff_IC)','log10(cutoff_PP)']\n",
    "    \n",
    "## Run sampler\n",
    "sampler, pos = naima.run_sampler(data_table=G150_data,\n",
    "                                 p0=p0,\n",
    "                                 labels=labels,\n",
    "                                 model=IC_PP_Mod,\n",
    "                                 prior=lnprior_IC_PP,\n",
    "                                 nwalkers=32,\n",
    "                                 nburn=100,\n",
    "                                 nrun=20,\n",
    "                                 threads=4,\n",
    "                                 prefit=True,\n",
    "                                 interactive = False)\n",
    "\n",
    "## Save run results to HDF5 file (can be read later with naima.read_run)\n",
    "naima.save_run('G150_IC_PP_run.hdf5', sampler)\n",
    "\n",
    "## Diagnostic plots with labels for the metadata blobs\n",
    "naima.save_diagnostic_plots('G150_IC_PP',\n",
    "                            sampler,\n",
    "                            sed=True,\n",
    "                            last_step=False,\n",
    "                            blob_labels=['Proton Spectrum', 'Proton Energy Distribution',\n",
    "                                         '$W_p (E_p>1\\, \\mathrm{GeV})$',\n",
    "                                         'Electron Spectrum', 'Electron Energy Distribution',\n",
    "                                         '$W_e (E_e>1\\, \\mathrm{GeV})$'])\n",
    "naima.save_results_table('G150_IC_PP', sampler)\n"
   ]
  },
  {
   "cell_type": "code",
   "execution_count": 8,
   "metadata": {
    "collapsed": false
   },
   "outputs": [
    {
     "data": {
      "text/html": [
       "&lt;Table length=11&gt;\n",
       "<table id=\"table4588080208\">\n",
       "<thead><tr><th>label</th><th>median</th><th>unc_lo</th><th>unc_hi</th></tr></thead>\n",
       "<thead><tr><th>str19</th><th>float64</th><th>float64</th><th>float64</th></tr></thead>\n",
       "<tr><td>log10(norm_IC)</td><td>36.2459770417</td><td>19.5638522225</td><td>10.8396776421</td></tr>\n",
       "<tr><td>norm_IC</td><td>1.76188290492e+36</td><td>1.76188290492e+36</td><td>1.36988450023e+47</td></tr>\n",
       "<tr><td>log10(amplitude_PP)</td><td>44.9201368737</td><td>0.378841484982</td><td>0.177565297246</td></tr>\n",
       "<tr><td>amplitude_PP</td><td>8.32025953896e+44</td><td>4.84141508615e+44</td><td>4.20256140624e+44</td></tr>\n",
       "<tr><td>index</td><td>1.55376055777</td><td>0.372148386601</td><td>0.195380960471</td></tr>\n",
       "<tr><td>log10(cutoff_IC)</td><td>1.36780521872</td><td>2.73013232191</td><td>3.14363287642</td></tr>\n",
       "<tr><td>cutoff_IC</td><td>23.3241173991</td><td>23.2806990909</td><td>32443.3719277</td></tr>\n",
       "<tr><td>log10(cutoff_PP)</td><td>3.29318969328</td><td>0.475196551409</td><td>0.454434838201</td></tr>\n",
       "<tr><td>cutoff_PP</td><td>1964.21803029</td><td>1306.57057821</td><td>3628.98537438</td></tr>\n",
       "<tr><td>blob2</td><td>2.66898468573e+48</td><td>7.76648780555e+47</td><td>5.19145458053e+47</td></tr>\n",
       "<tr><td>blob4</td><td>1.78428240315e+34</td><td>1.78428240315e+34</td><td>5.87952394515e+44</td></tr>\n",
       "</table>"
      ],
      "text/plain": [
       "<Table length=11>\n",
       "       label              median            unc_lo            unc_hi     \n",
       "       str19             float64           float64           float64     \n",
       "------------------- ----------------- ----------------- -----------------\n",
       "     log10(norm_IC)     36.2459770417     19.5638522225     10.8396776421\n",
       "            norm_IC 1.76188290492e+36 1.76188290492e+36 1.36988450023e+47\n",
       "log10(amplitude_PP)     44.9201368737    0.378841484982    0.177565297246\n",
       "       amplitude_PP 8.32025953896e+44 4.84141508615e+44 4.20256140624e+44\n",
       "              index     1.55376055777    0.372148386601    0.195380960471\n",
       "   log10(cutoff_IC)     1.36780521872     2.73013232191     3.14363287642\n",
       "          cutoff_IC     23.3241173991     23.2806990909     32443.3719277\n",
       "   log10(cutoff_PP)     3.29318969328    0.475196551409    0.454434838201\n",
       "          cutoff_PP     1964.21803029     1306.57057821     3628.98537438\n",
       "              blob2 2.66898468573e+48 7.76648780555e+47 5.19145458053e+47\n",
       "              blob4 1.78428240315e+34 1.78428240315e+34 5.87952394515e+44"
      ]
     },
     "execution_count": 8,
     "metadata": {},
     "output_type": "execute_result"
    }
   ],
   "source": [
    "#Read in data, see what it looks like\n",
    "g150Res_IC_PP = ascii.read(os.path.join(tDir,'G150_IC_PP_results.ecsv'))\n",
    "g150Res_IC_PP"
   ]
  },
  {
   "cell_type": "code",
   "execution_count": 35,
   "metadata": {
    "collapsed": false,
    "scrolled": false
   },
   "outputs": [
    {
     "data": {
      "image/png": "[encoded data removed]",
      "text/plain": [
       "<matplotlib.figure.Figure at 0x110e4aed0>"
      ]
     },
     "metadata": {},
     "output_type": "display_data"
    }
   ],
   "source": [
    "#try plotting PP for other values I supply \n",
    "#plot SED with best fit electron spec and data\n",
    "fig = plt.figure(figsize = [10,8])\n",
    "figure = naima.plot_data(G150_data,figure = fig, e_unit=u.eV)\n",
    "ax = figure.axes[0]\n",
    "\n",
    "###First PP\n",
    "amplitude_PP = 10**g150Res_IC_PP['median'][2] / u.TeV\n",
    "alpha = alpha = g150Res_IC_PP['median'][4]\n",
    "e_cutoff_PP = (10**g150Res_IC_PP['median'][7]) * u.TeV\n",
    "Wp = g150Res_IC_PP['median'][9]\n",
    "\n",
    "ECPL_PP = ExponentialCutoffPowerLaw(amplitude_PP, 10. * u.TeV, alpha, e_cutoff_PP)\n",
    "\n",
    "nh = 1*u.cm**-3\n",
    "PP = PionDecay(ECPL_PP, nh=nh)\n",
    "\n",
    "# Plot the computed model emission\n",
    "energy = np.logspace(-7, 15, 100) * u.eV\n",
    "ax.loglog(energy, PP.sed(energy, 0.38 * u.kpc),\n",
    "          lw=3, c=naima.plot.color_cycle[2], label='Pion Decay: n=1/cm^3, $W_p (E_p>1\\, \\mathrm{GeV})$ =%0.2e erg, index_ep = %0.2f' %(Wp,alpha))\n",
    "\n",
    "###Now IC\n",
    "amplitude_IC = 10**g150Res_IC_PP['median'][0] / u.TeV\n",
    "e_cutoff_IC = (10**g150Res_IC_PP['median'][5]) * u.TeV\n",
    "We = g150Res_IC_PP['median'][10]\n",
    "ECPL_IC = ExponentialCutoffPowerLaw(amplitude_IC, 10. * u.TeV, alpha, e_cutoff_IC)\n",
    "\n",
    "IC = InverseCompton(ECPL_IC,\n",
    "                    seed_photon_fields=['CMB','FIR','NIR'],\n",
    "                    Eemax=50 * u.PeV, Eemin=1 * u.GeV)\n",
    "\n",
    "# Plot the computed model emission\n",
    "energy = np.logspace(-7, 15, 100) * u.eV\n",
    "ax.loglog(energy, IC.sed(energy, 0.38 * u.kpc),\n",
    "          lw=3, c=naima.plot.color_cycle[1], label='Total IC: $W_e (E_e>1\\, \\mathrm{GeV})$ =%0.2e erg, index_ep = %0.2f' %(We,alpha))\n",
    "# for i, seed, ls in zip(range(4), ['CMB', 'FIR', 'NIR'], ['--', '-.', ':']):\n",
    "#     ax.loglog(energy, IC.sed(energy, 2 * u.kpc, seed=seed),\n",
    "#               lw=2, c=naima.plot.color_cycle[i + 1], label=seed, ls=ls)\n",
    "\n",
    "ax.set_ylim(1e-20, 1e-10)\n",
    "ax.set_xlim(1e4)\n",
    "ax.legend(loc='best', frameon=True)\n",
    "figure.tight_layout()\n",
    "#figure.savefig('G150_PP_SED.png')"
   ]
  },
  {
   "cell_type": "markdown",
   "metadata": {},
   "source": [
    "# If I wanted to plot the error just use the low and high vals (which I think are the 16/84th percentiles?\n",
    "\n",
    "# How does the above change if I use different starting values?\n",
    "* Like If I start with a higher norm for IC does it find a different fit where the IC is more dominant?\n",
    "\n",
    "\n",
    "# Do the results just mean that the data doesn't require a mixed model to fit?\n",
    "* Why such different index for the IC/PP model vs just PP?\n",
    "* Having both "
   ]
  },
  {
   "cell_type": "markdown",
   "metadata": {},
   "source": [
    "# Try fitting with different index for PP/IC"
   ]
  },
  {
   "cell_type": "code",
   "execution_count": 40,
   "metadata": {
    "collapsed": true
   },
   "outputs": [],
   "source": [
    "def IC_PP_Mod(pars, data):\n",
    "    \"\"\"Decide between PL or ECPL model based on number\n",
    "       of params in pars. Set up pp Pion Decay and e- IC models\"\"\"\n",
    "    \n",
    "    #params not to fit\n",
    "    pp_peMin = 1 * u.GeV\n",
    "    ic_eeMin = 1 * u.GeV\n",
    "    dist = 0.39 *u.kpc\n",
    "    nh = 1*u.cm**-3 #can i not add this to pars and fit for it also? maybe too many params, better to fix and not have to fit if I have a good value?\n",
    "    sd_ph = ['CMB','FIR','NIR']\n",
    "    dist = 0.39 *u.kpc\n",
    "    \n",
    "    #params to fit for PP and IC\n",
    "    #p0 = np.arra((norm_ic,norm_pp,index_both,cutoff_ic,cutoff_pp)) ###for ECPL, if PL, remove both cutoffs\n",
    "    amplitude_IC = 10**pars[0] / u.TeV\n",
    "    amplitude_PP = 10**pars[1] / u.TeV\n",
    "    alpha_IC = pars[2]\n",
    "    alpha_PP = pars[3]\n",
    "\n",
    "    \n",
    "    #Instantiate particle distributions for IC and PP\n",
    "    if len(pars) == 4:\n",
    "        #print 'Particle distribution model is PL'\n",
    "        pMod_IC = PowerLaw_IC(amplitude_IC, 10. * u.TeV, alpha)\n",
    "        pMod_PP = PowerLaw_PP(amplitude_PP, 10. * u.TeV, alpha)\n",
    "        \n",
    "    elif len(pars) == 6:\n",
    "        #print 'Particle distribution model is ECPL'\n",
    "        e_cutoff_IC = (10**pars[4]) * u.TeV\n",
    "        pMod_IC = ExponentialCutoffPowerLaw(amplitude_IC, 10. * u.TeV, alpha, e_cutoff_IC)\n",
    "        e_cutoff_PP = (10**pars[5]) * u.TeV\n",
    "        pMod_PP = ExponentialCutoffPowerLaw(amplitude_PP, 10. * u.TeV, alpha, e_cutoff_PP)\n",
    "    else:\n",
    "        raise Exception('Wrong number of params input for PL or ECPL')\n",
    "        \n",
    "            \n",
    "    #instantiate IC models\n",
    "    PP = PionDecay(pMod_PP, nh=nh)\n",
    "        \n",
    "    #instantiate IC models\n",
    "    IC = InverseCompton(pMod_IC,\n",
    "                        seed_photon_fields=sd_ph,\n",
    "                        Eemin=ic_eeMin)\n",
    "    \n",
    "    #calculate PP + IC flux at energies of data\n",
    "    model = (IC.flux(data,\n",
    "                     distance=dist) + PP.flux(G150_data, distance=dist))\n",
    "    \n",
    "    # Save this realization of the particle distribution function\n",
    "    particle_energy = np.logspace(-3, 2, 50) * u.TeV\n",
    "    nelec = pMod_IC(particle_energy)\n",
    "    proton_dist = PP.particle_distribution(particle_energy) ###is PP.particle_distribution the same as pMod(eneegy?)\n",
    "\n",
    "    # Compute the total energy in protons/electrons above 1 GeVfor this realization\n",
    "    Wp = PP.compute_Wp(Epmin=pp_peMin)\n",
    "    We = IC.compute_We(Eemin=ic_eeMin)#1 * u.TeV)\n",
    "\n",
    "    # Return the model, proton distribution and energy in protons to be stored\n",
    "    # in metadata blobs\n",
    "    return model, (particle_energy, proton_dist), Wp, (particle_energy, nelec), We\n",
    "\n",
    "def lnprior_IC_PP(pars):\n",
    "    \"\"\"\n",
    "    Return probability of parameter values according to prior knowledge.\n",
    "    Parameter. Include norm_IC, norm_PP, index. Not cutoffs\n",
    "        \"\"\"\n",
    "\n",
    "    logprob = naima.uniform_prior(pars[0], 0., np.inf)       \\\n",
    "                    + naima.uniform_prior(pars[1],0., np.inf) \\\n",
    "                    + naima.uniform_prior(pars[2], -1, 5)     \\\n",
    "                    + naima.uniform_prior(pars[3], -1, 5) \n",
    "\n",
    "    return logprob"
   ]
  },
  {
   "cell_type": "code",
   "execution_count": 41,
   "metadata": {
    "collapsed": false,
    "scrolled": true
   },
   "outputs": [
    {
     "name": "stderr",
     "output_type": "stream",
     "text": [
      "WARNING: More than one label starting with [norm,Norm,ampl,Ampl,We,Wp,log(norm,log(Norm,log(ampl,log(Ampl,log(We,log(Wp,log10(norm,log10(Norm,log10(ampl,log10(Ampl,log10(We,log10(Wp] found: not applying normalization guess. [naima.core]\n",
      "WARNING:astropy:More than one label starting with [norm,Norm,ampl,Ampl,We,Wp,log(norm,log(Norm,log(ampl,log(Ampl,log(We,log(Wp,log10(norm,log10(Norm,log10(ampl,log10(Ampl,log10(We,log10(Wp] found: not applying normalization guess.\n",
      "INFO:astropy:Launching interactive model fitter, close window when finished\n",
      "WARNING: \"cl\" keyword not provided in input data table, upper limits will be assumed to be at 90% confidence level [naima.utils]\n",
      "WARNING:astropy:\"cl\" keyword not provided in input data table, upper limits will be assumed to be at 90% confidence level\n"
     ]
    },
    {
     "name": "stdout",
     "output_type": "stream",
     "text": [
      "INFO: Launching interactive model fitter, close window when finished [naima.core]\n"
     ]
    },
    {
     "data": {
      "image/png": "[encoded data removed]",
      "text/plain": [
       "<matplotlib.figure.Figure at 0x10e806810>"
      ]
     },
     "metadata": {},
     "output_type": "display_data"
    },
    {
     "name": "stderr",
     "output_type": "stream",
     "text": [
      "INFO:astropy:Finding Maximum Likelihood parameters through Nelder-Mead fitting...\n",
      "INFO:astropy:   Initial parameters: [ 30.          44.           2.           2.           2.47421626\n",
      "   2.30535137]\n"
     ]
    },
    {
     "name": "stdout",
     "output_type": "stream",
     "text": [
      "INFO: Finding Maximum Likelihood parameters through Nelder-Mead fitting... [naima.core]\n",
      "INFO:    Initial parameters: [ 30.          44.           2.           2.           2.47421626\n",
      "   2.30535137] [naima.core]\n",
      "INFO"
     ]
    },
    {
     "name": "stderr",
     "output_type": "stream",
     "text": [
      "INFO:astropy:   Initial lnprob(p0): -103.254\n"
     ]
    },
    {
     "name": "stdout",
     "output_type": "stream",
     "text": [
      ":    Initial lnprob(p0): -103.254 [naima.core]\n",
      "INFO"
     ]
    },
    {
     "name": "stderr",
     "output_type": "stream",
     "text": [
      "INFO:astropy:   New ML parameters : [ 23.05128202  44.90382791   1.83126565   1.76769156   2.67949897\n",
      "   3.28515431]\n",
      "INFO:astropy:   Maximum lnprob(p0): -1.956\n"
     ]
    },
    {
     "name": "stdout",
     "output_type": "stream",
     "text": [
      ":    New ML parameters : [ 23.05128202  44.90382791   1.83126565   1.76769156   2.67949897\n",
      "   3.28515431] [naima.core]\n",
      "INFO:    Maximum lnprob(p0): -1.956 [naima.core]\n",
      "Burning in the 32 walkers with 100 steps...\n",
      "\n",
      "Progress of the run: 0 percent (0 of 100 steps)\n",
      "                           log10(norm_IC)- log10(norm_PP)- ---index_IC---- ---index_PP---- log10(cutoff_IC) log10(cutoff_PP)\n",
      "  Last ensemble median :      23.1            44.9            1.83            1.77            2.68            3.28      \n",
      "  Last ensemble std    :      0.105           0.194          0.00888         0.0135          0.0188          0.0215     \n",
      "  Last ensemble lnprob :  avg: -68.304, max: -1.976\n",
      "\n",
      "Progress of the run: 5 percent (5 of 100 steps)\n",
      "                           log10(norm_IC)- log10(norm_PP)- ---index_IC---- ---index_PP---- log10(cutoff_IC) log10(cutoff_PP)\n",
      "  Last ensemble median :      23.1            44.9            1.83            1.77            2.67            3.28      \n",
      "  Last ensemble std    :      0.208           0.135          0.0159          0.0359          0.0397          0.0376     \n",
      "  Last ensemble lnprob :  avg: -25.136, max: -1.998\n",
      "\n",
      "Progress of the run: 10 percent (10 of 100 steps)\n",
      "                           log10(norm_IC)- log10(norm_PP)- ---index_IC---- ---index_PP---- log10(cutoff_IC) log10(cutoff_PP)\n",
      "  Last ensemble median :       23             44.9            1.84            1.75            2.67            3.26      \n",
      "  Last ensemble std    :      0.705          0.0825          0.0304          0.0821          0.0703          0.0639     \n",
      "  Last ensemble lnprob :  avg: -9.725, max: -2.017\n",
      "\n",
      "Progress of the run: 15 percent (15 of 100 steps)\n",
      "                           log10(norm_IC)- log10(norm_PP)- ---index_IC---- ---index_PP---- log10(cutoff_IC) log10(cutoff_PP)\n",
      "  Last ensemble median :      23.2            44.9            1.83            1.75            2.68            3.26      \n",
      "  Last ensemble std    :      1.18           0.0625          0.0507           0.132           0.244          0.0994     \n",
      "  Last ensemble lnprob :  avg: -4.635, max: -1.966\n",
      "\n",
      "Progress of the run: 20 percent (20 of 100 steps)\n",
      "                           log10(norm_IC)- log10(norm_PP)- ---index_IC---- ---index_PP---- log10(cutoff_IC) log10(cutoff_PP)\n",
      "  Last ensemble median :      22.7            44.9            1.85            1.71            2.71            3.21      \n",
      "  Last ensemble std    :      2.22           0.0648          0.0803           0.283           0.342           0.162     \n",
      "  Last ensemble lnprob :  avg: -4.036, max: -2.071\n",
      "\n",
      "Progress of the run: 25 percent (25 of 100 steps)\n",
      "                           log10(norm_IC)- log10(norm_PP)- ---index_IC---- ---index_PP---- log10(cutoff_IC) log10(cutoff_PP)\n",
      "  Last ensemble median :      23.4            44.9            1.83            1.76            2.72            3.26      \n",
      "  Last ensemble std    :       6.1           0.0871           0.142           0.893           0.873           0.222     \n",
      "  Last ensemble lnprob :  avg: -4.261, max: -2.148\n",
      "\n",
      "Progress of the run: 30 percent (30 of 100 steps)\n",
      "                           log10(norm_IC)- log10(norm_PP)- ---index_IC---- ---index_PP---- log10(cutoff_IC) log10(cutoff_PP)\n",
      "  Last ensemble median :      22.9            44.9            1.84            1.72            2.73            3.27      \n",
      "  Last ensemble std    :      8.74           0.0735           0.216           1.14            1.05            0.242     \n",
      "  Last ensemble lnprob :  avg: -3.638, max: -1.945\n",
      "\n",
      "Progress of the run: 35 percent (35 of 100 steps)\n",
      "                           log10(norm_IC)- log10(norm_PP)- ---index_IC---- ---index_PP---- log10(cutoff_IC) log10(cutoff_PP)\n",
      "  Last ensemble median :      22.7            44.9            1.88            1.56            2.61            3.19      \n",
      "  Last ensemble std    :      9.23           0.0781           0.227           1.13            1.58            0.244     \n",
      "  Last ensemble lnprob :  avg: -3.540, max: -1.945\n",
      "\n",
      "Progress of the run: 40 percent (40 of 100 steps)\n",
      "                           log10(norm_IC)- log10(norm_PP)- ---index_IC---- ---index_PP---- log10(cutoff_IC) log10(cutoff_PP)\n",
      "  Last ensemble median :      24.6            44.9            1.85            1.93            2.27            3.24      \n",
      "  Last ensemble std    :      11.1           0.0933           0.497            1.4             2.2            0.288     \n",
      "  Last ensemble lnprob :  avg: -3.895, max: -1.948\n",
      "\n",
      "Progress of the run: 45 percent (45 of 100 steps)\n",
      "                           log10(norm_IC)- log10(norm_PP)- ---index_IC---- ---index_PP---- log10(cutoff_IC) log10(cutoff_PP)\n",
      "  Last ensemble median :      26.2            44.9            1.81             1.9            2.23            3.28      \n",
      "  Last ensemble std    :      11.2           0.0838           0.811           1.43             2.6            0.273     \n",
      "  Last ensemble lnprob :  avg: -3.653, max: -1.943\n",
      "\n",
      "Progress of the run: 50 percent (50 of 100 steps)\n",
      "                           log10(norm_IC)- log10(norm_PP)- ---index_IC---- ---index_PP---- log10(cutoff_IC) log10(cutoff_PP)\n",
      "  Last ensemble median :      25.6            44.9             1.8            2.02            2.17            3.28      \n",
      "  Last ensemble std    :       12            0.0827           0.938           1.41             3.5            0.282     \n",
      "  Last ensemble lnprob :  avg: -3.343, max: -1.958\n",
      "\n",
      "Progress of the run: 55 percent (55 of 100 steps)\n",
      "                           log10(norm_IC)- log10(norm_PP)- ---index_IC---- ---index_PP---- log10(cutoff_IC) log10(cutoff_PP)\n",
      "  Last ensemble median :      25.6            44.9            2.03            1.97            2.68            3.25      \n",
      "  Last ensemble std    :      12.3           0.0837           0.809           1.47            3.66            0.289     \n",
      "  Last ensemble lnprob :  avg: -3.370, max: -1.959\n",
      "\n",
      "Progress of the run: 60 percent (60 of 100 steps)\n",
      "                           log10(norm_IC)- log10(norm_PP)- ---index_IC---- ---index_PP---- log10(cutoff_IC) log10(cutoff_PP)\n",
      "  Last ensemble median :      28.2            44.9            2.04            1.77            2.76            3.23      \n",
      "  Last ensemble std    :       14             0.092           1.12            1.63            4.79            0.311     \n",
      "  Last ensemble lnprob :  avg: -3.752, max: -1.958\n",
      "\n",
      "Progress of the run: 65 percent (65 of 100 steps)\n",
      "                           log10(norm_IC)- log10(norm_PP)- ---index_IC---- ---index_PP---- log10(cutoff_IC) log10(cutoff_PP)\n",
      "  Last ensemble median :      27.1            44.9            2.09            1.62            1.91            3.28      \n",
      "  Last ensemble std    :      17.6            0.102           1.07            1.62            5.72            0.337     \n",
      "  Last ensemble lnprob :  avg: -3.767, max: -2.047\n",
      "\n",
      "Progress of the run: 70 percent (70 of 100 steps)\n",
      "                           log10(norm_IC)- log10(norm_PP)- ---index_IC---- ---index_PP---- log10(cutoff_IC) log10(cutoff_PP)\n",
      "  Last ensemble median :      27.3            44.9             2.1            1.38            1.38            3.31      \n",
      "  Last ensemble std    :      19.9           0.0942           1.19            1.65            7.61            0.318     \n",
      "  Last ensemble lnprob :  avg: -3.607, max: -2.010\n",
      "\n",
      "Progress of the run: 75 percent (75 of 100 steps)\n",
      "                           log10(norm_IC)- log10(norm_PP)- ---index_IC---- ---index_PP---- log10(cutoff_IC) log10(cutoff_PP)\n",
      "  Last ensemble median :      29.2            44.9            1.82            1.83            2.11            3.16      \n",
      "  Last ensemble std    :      16.9            0.104           1.27            1.79            7.58            0.345     \n",
      "  Last ensemble lnprob :  avg: -3.629, max: -2.067\n",
      "\n",
      "Progress of the run: 80 percent (80 of 100 steps)\n",
      "                           log10(norm_IC)- log10(norm_PP)- ---index_IC---- ---index_PP---- log10(cutoff_IC) log10(cutoff_PP)\n",
      "  Last ensemble median :      27.1            44.9            1.87            1.85            1.77             3.2      \n",
      "  Last ensemble std    :      16.5           0.0814           1.19            1.73            7.13            0.277     \n",
      "  Last ensemble lnprob :  avg: -3.145, max: -2.019\n",
      "\n",
      "Progress of the run: 85 percent (85 of 100 steps)\n",
      "                           log10(norm_IC)- log10(norm_PP)- ---index_IC---- ---index_PP---- log10(cutoff_IC) log10(cutoff_PP)\n",
      "  Last ensemble median :      26.9            44.9            1.63            1.82            1.08            3.23      \n",
      "  Last ensemble std    :      17.9           0.0872           1.21            1.71            8.47            0.287     \n",
      "  Last ensemble lnprob :  avg: -3.281, max: -2.019\n",
      "\n",
      "Progress of the run: 90 percent (90 of 100 steps)\n",
      "                           log10(norm_IC)- log10(norm_PP)- ---index_IC---- ---index_PP---- log10(cutoff_IC) log10(cutoff_PP)\n",
      "  Last ensemble median :      25.4            44.9            1.55            1.78           0.0752           3.24      \n",
      "  Last ensemble std    :      24.8           0.0794           1.26            1.84            12.1            0.265     \n",
      "  Last ensemble lnprob :  avg: -2.968, max: -1.997\n",
      "\n",
      "Progress of the run: 95 percent (95 of 100 steps)\n",
      "                           log10(norm_IC)- log10(norm_PP)- ---index_IC---- ---index_PP---- log10(cutoff_IC) log10(cutoff_PP)\n",
      "  Last ensemble median :       31             44.9            1.56            1.72           -0.785           3.27      \n",
      "  Last ensemble std    :      22.1           0.0805           1.29            1.82            11.4            0.265     \n",
      "  Last ensemble lnprob :  avg: -2.859, max: -1.982\n",
      "\n",
      "Walker burn in finished, running 20 steps...\n",
      "\n",
      "Progress of the run: 0 percent (0 of 20 steps)\n",
      "                           log10(norm_IC)- log10(norm_PP)- ---index_IC---- ---index_PP---- log10(cutoff_IC) log10(cutoff_PP)\n",
      "  Last ensemble median :      32.5            44.9            1.79             1.6            -2.09           3.25      \n",
      "  Last ensemble std    :      22.5           0.0785           1.37            1.83            10.4            0.255     \n",
      "  Last ensemble lnprob :  avg: -2.944, max: -2.000\n",
      "\n",
      "Progress of the run: 5 percent (1 of 20 steps)\n",
      "                           log10(norm_IC)- log10(norm_PP)- ---index_IC---- ---index_PP---- log10(cutoff_IC) log10(cutoff_PP)\n",
      "  Last ensemble median :      31.1            44.9            1.79            2.02            -2.09           3.23      \n",
      "  Last ensemble std    :      24.9           0.0769           1.45            1.83            11.5            0.263     \n",
      "  Last ensemble lnprob :  avg: -2.965, max: -2.018\n",
      "\n",
      "Progress of the run: 10 percent (2 of 20 steps)\n",
      "                           log10(norm_IC)- log10(norm_PP)- ---index_IC---- ---index_PP---- log10(cutoff_IC) log10(cutoff_PP)\n",
      "  Last ensemble median :      31.1            44.9            1.61            1.87            -2.09           3.19      \n",
      "  Last ensemble std    :      25.1           0.0779            1.4            1.77            11.8            0.268     \n",
      "  Last ensemble lnprob :  avg: -2.904, max: -2.018\n",
      "\n",
      "Progress of the run: 15 percent (3 of 20 steps)\n",
      "                           log10(norm_IC)- log10(norm_PP)- ---index_IC---- ---index_PP---- log10(cutoff_IC) log10(cutoff_PP)\n",
      "  Last ensemble median :      31.8            44.9            1.74            1.72            -2.47           3.19      \n",
      "  Last ensemble std    :       27            0.0777           1.49             1.8            13.5            0.273     \n",
      "  Last ensemble lnprob :  avg: -2.969, max: -2.018\n",
      "\n",
      "Progress of the run: 20 percent (4 of 20 steps)\n",
      "                           log10(norm_IC)- log10(norm_PP)- ---index_IC---- ---index_PP---- log10(cutoff_IC) log10(cutoff_PP)\n",
      "  Last ensemble median :      31.1            44.9            1.62            1.72            -2.73           3.23      \n",
      "  Last ensemble std    :      27.8           0.0762           1.47            1.82            13.6            0.268     \n",
      "  Last ensemble lnprob :  avg: -2.966, max: -2.015\n",
      "\n",
      "Progress of the run: 25 percent (5 of 20 steps)\n",
      "                           log10(norm_IC)- log10(norm_PP)- ---index_IC---- ---index_PP---- log10(cutoff_IC) log10(cutoff_PP)\n",
      "  Last ensemble median :      31.1            44.9            1.69            1.72            -2.73           3.23      \n",
      "  Last ensemble std    :      28.2           0.0767           1.51            1.81             14             0.268     \n",
      "  Last ensemble lnprob :  avg: -2.981, max: -2.015\n",
      "\n",
      "Progress of the run: 30 percent (6 of 20 steps)\n",
      "                           log10(norm_IC)- log10(norm_PP)- ---index_IC---- ---index_PP---- log10(cutoff_IC) log10(cutoff_PP)\n",
      "  Last ensemble median :      31.2            44.9            2.03            1.95            -2.25           3.27      \n",
      "  Last ensemble std    :      27.4           0.0818           1.51            1.87            14.4            0.278     \n",
      "  Last ensemble lnprob :  avg: -3.053, max: -1.979\n",
      "\n",
      "Progress of the run: 35 percent (7 of 20 steps)\n",
      "                           log10(norm_IC)- log10(norm_PP)- ---index_IC---- ---index_PP---- log10(cutoff_IC) log10(cutoff_PP)\n",
      "  Last ensemble median :      31.5            44.9            2.09             1.8            -2.1            3.26      \n",
      "  Last ensemble std    :      26.4           0.0745           1.51            1.87            12.1            0.266     \n",
      "  Last ensemble lnprob :  avg: -2.919, max: -1.979\n",
      "\n",
      "Progress of the run: 40 percent (8 of 20 steps)\n",
      "                           log10(norm_IC)- log10(norm_PP)- ---index_IC---- ---index_PP---- log10(cutoff_IC) log10(cutoff_PP)\n",
      "  Last ensemble median :      30.5            44.9            1.82            1.73            -1.57           3.27      \n",
      "  Last ensemble std    :      26.5           0.0786           1.48            1.89            12.4            0.287     \n",
      "  Last ensemble lnprob :  avg: -3.063, max: -1.979\n",
      "\n",
      "Progress of the run: 45 percent (9 of 20 steps)\n",
      "                           log10(norm_IC)- log10(norm_PP)- ---index_IC---- ---index_PP---- log10(cutoff_IC) log10(cutoff_PP)\n",
      "  Last ensemble median :       31             44.9            1.71            1.87            -1.57           3.27      \n",
      "  Last ensemble std    :      26.7           0.0826            1.5            1.88            13.1            0.298     \n",
      "  Last ensemble lnprob :  avg: -3.143, max: -1.979\n",
      "\n",
      "Progress of the run: 50 percent (10 of 20 steps)\n",
      "                           log10(norm_IC)- log10(norm_PP)- ---index_IC---- ---index_PP---- log10(cutoff_IC) log10(cutoff_PP)\n",
      "  Last ensemble median :       31             44.9            1.71            1.98            -1.89           3.27      \n",
      "  Last ensemble std    :      27.8           0.0837            1.5             1.9            13.7            0.305     \n",
      "  Last ensemble lnprob :  avg: -3.166, max: -1.979\n",
      "\n",
      "Progress of the run: 55 percent (11 of 20 steps)\n",
      "                           log10(norm_IC)- log10(norm_PP)- ---index_IC---- ---index_PP---- log10(cutoff_IC) log10(cutoff_PP)\n",
      "  Last ensemble median :      31.6            44.9            2.01            1.98            -1.89           3.26      \n",
      "  Last ensemble std    :      31.4           0.0806           1.51            1.92            13.8            0.302     \n",
      "  Last ensemble lnprob :  avg: -3.126, max: -1.979\n",
      "\n",
      "Progress of the run: 60 percent (12 of 20 steps)\n",
      "                           log10(norm_IC)- log10(norm_PP)- ---index_IC---- ---index_PP---- log10(cutoff_IC) log10(cutoff_PP)\n",
      "  Last ensemble median :      29.9            44.9            2.01            1.98            -1.89           3.26      \n",
      "  Last ensemble std    :      31.5           0.0821           1.52            1.93            13.8            0.305     \n",
      "  Last ensemble lnprob :  avg: -3.215, max: -1.979\n",
      "\n",
      "Progress of the run: 65 percent (13 of 20 steps)\n",
      "                           log10(norm_IC)- log10(norm_PP)- ---index_IC---- ---index_PP---- log10(cutoff_IC) log10(cutoff_PP)\n",
      "  Last ensemble median :      29.9            44.9            1.93            1.98            -1.73           3.27      \n",
      "  Last ensemble std    :      32.4           0.0844           1.57            1.98            14.6            0.314     \n",
      "  Last ensemble lnprob :  avg: -3.259, max: -1.979\n",
      "\n",
      "Progress of the run: 70 percent (14 of 20 steps)\n",
      "                           log10(norm_IC)- log10(norm_PP)- ---index_IC---- ---index_PP---- log10(cutoff_IC) log10(cutoff_PP)\n",
      "  Last ensemble median :       30             44.9            1.93            1.98            -1.59           3.27      \n",
      "  Last ensemble std    :      31.7           0.0802           1.57            1.97             14             0.305     \n",
      "  Last ensemble lnprob :  avg: -3.258, max: -1.980\n",
      "\n",
      "Progress of the run: 75 percent (15 of 20 steps)\n",
      "                           log10(norm_IC)- log10(norm_PP)- ---index_IC---- ---index_PP---- log10(cutoff_IC) log10(cutoff_PP)\n",
      "  Last ensemble median :      27.6            44.9            1.91            1.98            -1.4            3.27      \n",
      "  Last ensemble std    :      31.2           0.0778           1.58              2              14             0.292     \n",
      "  Last ensemble lnprob :  avg: -3.199, max: -1.980\n",
      "\n",
      "Progress of the run: 80 percent (16 of 20 steps)\n",
      "                           log10(norm_IC)- log10(norm_PP)- ---index_IC---- ---index_PP---- log10(cutoff_IC) log10(cutoff_PP)\n",
      "  Last ensemble median :      26.8            44.9            1.75            1.99            -1.09           3.27      \n",
      "  Last ensemble std    :      31.2           0.0727           1.55            1.91            13.6            0.279     \n",
      "  Last ensemble lnprob :  avg: -3.098, max: -1.980\n",
      "\n",
      "Progress of the run: 85 percent (17 of 20 steps)\n",
      "                           log10(norm_IC)- log10(norm_PP)- ---index_IC---- ---index_PP---- log10(cutoff_IC) log10(cutoff_PP)\n",
      "  Last ensemble median :      29.2            44.9             1.6            1.99           -0.344           3.27      \n",
      "  Last ensemble std    :      31.3           0.0735           1.53            1.94            13.8            0.281     \n",
      "  Last ensemble lnprob :  avg: -3.072, max: -1.980\n",
      "\n",
      "Progress of the run: 90 percent (18 of 20 steps)\n",
      "                           log10(norm_IC)- log10(norm_PP)- ---index_IC---- ---index_PP---- log10(cutoff_IC) log10(cutoff_PP)\n",
      "  Last ensemble median :      26.8            44.9            1.88            1.99            0.123           3.27      \n",
      "  Last ensemble std    :       32            0.0755           1.56            1.97            14.2            0.291     \n",
      "  Last ensemble lnprob :  avg: -3.145, max: -1.980\n",
      "\n",
      "Progress of the run: 95 percent (19 of 20 steps)"
     ]
    },
    {
     "name": "stderr",
     "output_type": "stream",
     "text": [
      "WARNING: Not writing file because file exists and clobber is False [naima.analysis]\n",
      "WARNING:astropy:Not writing file because file exists and clobber is False\n"
     ]
    },
    {
     "name": "stdout",
     "output_type": "stream",
     "text": [
      "\n",
      "                           log10(norm_IC)- log10(norm_PP)- ---index_IC---- ---index_PP---- log10(cutoff_IC) log10(cutoff_PP)\n",
      "  Last ensemble median :      26.2            44.9            1.79            2.21           -0.644           3.27      \n",
      "  Last ensemble std    :      33.4           0.0804           1.62            2.01            14.9            0.305     \n",
      "  Last ensemble lnprob :  avg: -3.028, max: -1.980\n",
      "INFO"
     ]
    },
    {
     "name": "stderr",
     "output_type": "stream",
     "text": [
      "INFO:astropy:Plotting chain of parameter log10(norm_IC)...\n"
     ]
    },
    {
     "name": "stdout",
     "output_type": "stream",
     "text": [
      ": Plotting chain of parameter log10(norm_IC)... [naima.analysis]\n",
      "INFO"
     ]
    },
    {
     "name": "stderr",
     "output_type": "stream",
     "text": [
      "INFO:astropy:------------------log10(norm_IC)------------------\n",
      "          log10(norm_IC) = $30^{+30}_{-20}$\n",
      "                 norm_IC = $(4^{+19999999999999998911504619740856320}_{-4})\\times10^{30}$\n"
     ]
    },
    {
     "name": "stdout",
     "output_type": "stream",
     "text": [
      ": ------------------log10(norm_IC)------------------\n",
      "          log10(norm_IC) = $30^{+30}_{-20}$\n",
      "                 norm_IC = $(4^{+19999999999999998911504619740856320}_{-4})\\times10^{30}$ [naima.plot]\n",
      "INFO"
     ]
    },
    {
     "name": "stderr",
     "output_type": "stream",
     "text": [
      "INFO:astropy:Plotting chain of parameter log10(norm_PP)...\n"
     ]
    },
    {
     "name": "stdout",
     "output_type": "stream",
     "text": [
      ": Plotting chain of parameter log10(norm_PP)... [naima.analysis]\n",
      "INFO"
     ]
    },
    {
     "name": "stderr",
     "output_type": "stream",
     "text": [
      "INFO:astropy:------------------log10(norm_PP)------------------\n",
      "          log10(norm_PP) = $44.91^{+0.05}_{-0.09}$\n",
      "                 norm_PP = $(8.2^{+1.0}_{-1.5})\\times10^{44}$\n"
     ]
    },
    {
     "name": "stdout",
     "output_type": "stream",
     "text": [
      ": ------------------log10(norm_PP)------------------\n",
      "          log10(norm_PP) = $44.91^{+0.05}_{-0.09}$\n",
      "                 norm_PP = $(8.2^{+1.0}_{-1.5})\\times10^{44}$ [naima.plot]\n",
      "INFO"
     ]
    },
    {
     "name": "stderr",
     "output_type": "stream",
     "text": [
      "INFO:astropy:Plotting chain of parameter index_IC...\n"
     ]
    },
    {
     "name": "stdout",
     "output_type": "stream",
     "text": [
      ": Plotting chain of parameter index_IC... [naima.analysis]\n",
      "INFO"
     ]
    },
    {
     "name": "stderr",
     "output_type": "stream",
     "text": [
      "INFO:astropy:---------------------index_IC---------------------\n",
      "          index_IC = $1.8^{+1.3}_{-2}$\n"
     ]
    },
    {
     "name": "stdout",
     "output_type": "stream",
     "text": [
      ": ---------------------index_IC---------------------\n",
      "          index_IC = $1.8^{+1.3}_{-2}$ [naima.plot]\n",
      "INFO"
     ]
    },
    {
     "name": "stderr",
     "output_type": "stream",
     "text": [
      "INFO:astropy:Plotting chain of parameter index_PP...\n"
     ]
    },
    {
     "name": "stdout",
     "output_type": "stream",
     "text": [
      ": Plotting chain of parameter index_PP... [naima.analysis]\n",
      "INFO"
     ]
    },
    {
     "name": "stderr",
     "output_type": "stream",
     "text": [
      "INFO:astropy:---------------------index_PP---------------------\n",
      "          index_PP = $2 \\pm 2$\n"
     ]
    },
    {
     "name": "stdout",
     "output_type": "stream",
     "text": [
      ": ---------------------index_PP---------------------\n",
      "          index_PP = $2 \\pm 2$ [naima.plot]\n",
      "INFO"
     ]
    },
    {
     "name": "stderr",
     "output_type": "stream",
     "text": [
      "INFO:astropy:Plotting chain of parameter log10(cutoff_IC)...\n"
     ]
    },
    {
     "name": "stdout",
     "output_type": "stream",
     "text": [
      ": Plotting chain of parameter log10(cutoff_IC)... [naima.analysis]\n",
      "INFO"
     ]
    },
    {
     "name": "stderr",
     "output_type": "stream",
     "text": [
      "INFO:astropy:-----------------log10(cutoff_IC)-----------------\n",
      "          log10(cutoff_IC) = $-2^{+9}_{-16}$\n",
      "                 cutoff_IC = $0.02^{+18000000}_{-0.02}$\n"
     ]
    },
    {
     "name": "stdout",
     "output_type": "stream",
     "text": [
      ": -----------------log10(cutoff_IC)-----------------\n",
      "          log10(cutoff_IC) = $-2^{+9}_{-16}$\n",
      "                 cutoff_IC = $0.02^{+18000000}_{-0.02}$ [naima.plot]\n",
      "INFO"
     ]
    },
    {
     "name": "stderr",
     "output_type": "stream",
     "text": [
      "INFO:astropy:Plotting chain of parameter log10(cutoff_PP)...\n"
     ]
    },
    {
     "name": "stdout",
     "output_type": "stream",
     "text": [
      ": Plotting chain of parameter log10(cutoff_PP)... [naima.analysis]\n",
      "INFO"
     ]
    },
    {
     "name": "stderr",
     "output_type": "stream",
     "text": [
      "INFO:astropy:-----------------log10(cutoff_PP)-----------------\n",
      "          log10(cutoff_PP) = $3.3^{+0.4}_{-0.2}$\n",
      "                 cutoff_PP = $(1.8^{+3}_{-0.8})\\times10^{3}$\n"
     ]
    },
    {
     "name": "stdout",
     "output_type": "stream",
     "text": [
      ": -----------------log10(cutoff_PP)-----------------\n",
      "          log10(cutoff_PP) = $3.3^{+0.4}_{-0.2}$\n",
      "                 cutoff_PP = $(1.8^{+3}_{-0.8})\\times10^{3}$ [naima.plot]\n",
      "INFO"
     ]
    },
    {
     "name": "stderr",
     "output_type": "stream",
     "text": [
      "INFO:astropy:Plotting corner plot...\n"
     ]
    },
    {
     "name": "stdout",
     "output_type": "stream",
     "text": [
      ": Plotting corner plot... [naima.analysis]\n",
      "INFO"
     ]
    },
    {
     "name": "stderr",
     "output_type": "stream",
     "text": [
      "INFO:astropy:Plotting Proton Spectrum...\n"
     ]
    },
    {
     "name": "stdout",
     "output_type": "stream",
     "text": [
      ": Plotting Proton Spectrum... [naima.analysis]\n",
      "INFO"
     ]
    },
    {
     "name": "stderr",
     "output_type": "stream",
     "text": [
      "INFO:astropy:Plotting Proton Energy Distribution...\n"
     ]
    },
    {
     "name": "stdout",
     "output_type": "stream",
     "text": [
      ": Plotting Proton Energy Distribution... [naima.analysis]\n",
      "INFO"
     ]
    },
    {
     "name": "stderr",
     "output_type": "stream",
     "text": [
      "INFO:astropy:Plotting $W_p (E_p>1\\, \\mathrm{GeV})$...\n"
     ]
    },
    {
     "name": "stdout",
     "output_type": "stream",
     "text": [
      ": Plotting $W_p (E_p>1\\, \\mathrm{GeV})$... [naima.analysis]\n",
      "INFO"
     ]
    },
    {
     "name": "stderr",
     "output_type": "stream",
     "text": [
      "INFO:astropy:Plotting Electron Spectrum...\n",
      "WARNING: plot_blob failed for Electron Spectrum: Data has no positive values, and therefore can not be log-scaled. [naima.analysis]\n",
      "WARNING:astropy:plot_blob failed for Electron Spectrum: Data has no positive values, and therefore can not be log-scaled.\n"
     ]
    },
    {
     "name": "stdout",
     "output_type": "stream",
     "text": [
      ": Plotting Electron Spectrum... [naima.analysis]\n",
      "INFO"
     ]
    },
    {
     "name": "stderr",
     "output_type": "stream",
     "text": [
      "INFO:astropy:Plotting Electron Energy Distribution...\n"
     ]
    },
    {
     "name": "stdout",
     "output_type": "stream",
     "text": [
      ": Plotting Electron Energy Distribution... [naima.analysis]\n",
      "INFO"
     ]
    },
    {
     "name": "stderr",
     "output_type": "stream",
     "text": [
      "INFO:astropy:Saving results table in G150_IC_PP_difInd_results.ecsv\n"
     ]
    },
    {
     "name": "stdout",
     "output_type": "stream",
     "text": [
      ": Saving results table in G150_IC_PP_difInd_results.ecsv [naima.analysis]\n"
     ]
    },
    {
     "data": {
      "text/html": [
       "&lt;Table length=12&gt;\n",
       "<table id=\"table4548814480\">\n",
       "<thead><tr><th>label</th><th>median</th><th>unc_lo</th><th>unc_hi</th></tr></thead>\n",
       "<thead><tr><th>str72</th><th>float64</th><th>float64</th><th>float64</th></tr></thead>\n",
       "<tr><td>log10(norm_IC)</td><td>30.6291053405</td><td>24.8788166412</td><td>33.7127734548</td></tr>\n",
       "<tr><td>norm_IC</td><td>4.25701656917e+30</td><td>4.25701656917e+30</td><td>2.19724657078e+64</td></tr>\n",
       "<tr><td>log10(norm_PP)</td><td>44.9145692932</td><td>0.0898635669138</td><td>0.0493141732888</td></tr>\n",
       "<tr><td>norm_PP</td><td>8.21428690836e+44</td><td>1.53535230961e+44</td><td>9.87739314277e+43</td></tr>\n",
       "<tr><td>index_IC</td><td>1.82670741205</td><td>2.05430381797</td><td>1.27556020033</td></tr>\n",
       "<tr><td>index_PP</td><td>1.92619424033</td><td>2.39645426393</td><td>2.05711469734</td></tr>\n",
       "<tr><td>log10(cutoff_IC)</td><td>-1.63766836036</td><td>16.2290790118</td><td>8.89168401201</td></tr>\n",
       "<tr><td>cutoff_IC</td><td>0.0230319993515</td><td>0.0230319993515</td><td>17947983.0656</td></tr>\n",
       "<tr><td>log10(cutoff_PP)</td><td>3.25367810199</td><td>0.237254919545</td><td>0.380919254401</td></tr>\n",
       "<tr><td>cutoff_PP</td><td>1793.40587425</td><td>754.865983934</td><td>2517.78604327</td></tr>\n",
       "<tr><td>blob2</td><td>2.62911451854e+48</td><td>3.84406055698e+47</td><td>4.18198756117e+47</td></tr>\n",
       "<tr><td>blob4</td><td>242513198.958</td><td>242513198.958</td><td>3.3940500774e+42</td></tr>\n",
       "</table>"
      ],
      "text/plain": [
       "<Table length=12>\n",
       "     label             median            unc_lo            unc_hi     \n",
       "     str72            float64           float64           float64     \n",
       "---------------- ----------------- ----------------- -----------------\n",
       "  log10(norm_IC)     30.6291053405     24.8788166412     33.7127734548\n",
       "         norm_IC 4.25701656917e+30 4.25701656917e+30 2.19724657078e+64\n",
       "  log10(norm_PP)     44.9145692932   0.0898635669138   0.0493141732888\n",
       "         norm_PP 8.21428690836e+44 1.53535230961e+44 9.87739314277e+43\n",
       "        index_IC     1.82670741205     2.05430381797     1.27556020033\n",
       "        index_PP     1.92619424033     2.39645426393     2.05711469734\n",
       "log10(cutoff_IC)    -1.63766836036     16.2290790118     8.89168401201\n",
       "       cutoff_IC   0.0230319993515   0.0230319993515     17947983.0656\n",
       "log10(cutoff_PP)     3.25367810199    0.237254919545    0.380919254401\n",
       "       cutoff_PP     1793.40587425     754.865983934     2517.78604327\n",
       "           blob2 2.62911451854e+48 3.84406055698e+47 4.18198756117e+47\n",
       "           blob4     242513198.958     242513198.958  3.3940500774e+42"
      ]
     },
     "execution_count": 41,
     "metadata": {},
     "output_type": "execute_result"
    },
    {
     "data": {
      "image/png": "[encoded data removed]",
      "text/plain": [
       "<matplotlib.figure.Figure at 0x110f21d90>"
      ]
     },
     "metadata": {},
     "output_type": "display_data"
    }
   ],
   "source": [
    "#p0 = np.arra((norm_ic,index_both,cutoff_ic,norm_pp,cutoff_pp))\n",
    "p0 = np.array((30, 44, 2.,2, np.log10(298),np.log10(202))) #start with same params for each, not sure this is best to do\n",
    "\n",
    "##try this after running and maybe failing?\n",
    "#p0 = np.array((31.1, 43.9,1.98,np.log10(49),np.log10(49)))\n",
    "if len(p0) == 4:\n",
    "    labels = ['log10(norm_IC)', 'log10(norm_PP)', 'index_IC','index_PP']\n",
    "elif len(p0) ==6:\n",
    "    labels = ['log10(norm_IC)', 'log10(norm_PP)', 'index_IC', 'index_PP', 'log10(cutoff_IC)','log10(cutoff_PP)']\n",
    "    \n",
    "## Run sampler\n",
    "sampler, pos = naima.run_sampler(data_table=G150_data,\n",
    "                                 p0=p0,\n",
    "                                 labels=labels,\n",
    "                                 model=IC_PP_Mod,\n",
    "                                 prior=lnprior_IC_PP,\n",
    "                                 nwalkers=32,\n",
    "                                 nburn=100,\n",
    "                                 nrun=20,\n",
    "                                 threads=4,\n",
    "                                 prefit=True,\n",
    "                                 interactive = False)\n",
    "\n",
    "## Save run results to HDF5 file (can be read later with naima.read_run)\n",
    "naima.save_run('G150_IC_PP_diffInd_run.hdf5', sampler)\n",
    "\n",
    "## Diagnostic plots with labels for the metadata blobs\n",
    "naima.save_diagnostic_plots('G150_IC_PP_difInd',\n",
    "                            sampler,\n",
    "                            sed=True,\n",
    "                            last_step=False,\n",
    "                            blob_labels=['Proton Spectrum', 'Proton Energy Distribution',\n",
    "                                         '$W_p (E_p>1\\, \\mathrm{GeV})$',\n",
    "                                         'Electron Spectrum', 'Electron Energy Distribution',\n",
    "                                         '$W_e (E_e>1\\, \\mathrm{GeV})$'])\n",
    "naima.save_results_table('G150_IC_PP_difInd', sampler)\n"
   ]
  },
  {
   "cell_type": "markdown",
   "metadata": {},
   "source": [
    "# Don't bother plotting the above, the results look strange/bad\n",
    "* Is something wrong with the setup or is there too much degeneracy between the params?"
   ]
  },
  {
   "cell_type": "markdown",
   "metadata": {},
   "source": [
    "\n",
    "# What about using a  PL particle distribution?"
   ]
  },
  {
   "cell_type": "markdown",
   "metadata": {},
   "source": [
    "# What about using the interactive fitter to get the best fit params?\n",
    "* Doesn't work right inside the notebook, even if I use %matplotlib notebook or qt (maybe I have to kill the server and restart it?\n",
    "\n",
    "# Add in radio SED from Gerbrandt et al. 2014?\n",
    "* how do they  get the full and partial?\n",
    "\n",
    "# Include the 2FHL result?\n",
    "* maybe not fair to include since it looks like a different source?\n",
    "\n",
    "# I started runs fixing the size of the source to the  >1 GeV result, and fitting down to 237 MeV (any reason not to? PSF at this energy is larger than the sigma of the extended source, but that shouldn't matter since I fix the extent right?\n",
    "* do these runs look ok?\n",
    "* maybe help to constrain spectra?"
   ]
  }
 ],
 "metadata": {
  "kernelspec": {
   "display_name": "Python 2",
   "language": "python",
   "name": "python2"
  },
  "language_info": {
   "codemirror_mode": {
    "name": "ipython",
    "version": 2
   },
   "file_extension": ".py",
   "mimetype": "text/x-python",
   "name": "python",
   "nbconvert_exporter": "python",
   "pygments_lexer": "ipython2",
   "version": "2.7.11"
  }
 },
 "nbformat": 4,
 "nbformat_minor": 0
}
