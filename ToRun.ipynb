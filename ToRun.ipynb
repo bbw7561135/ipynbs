{
 "cells": [
  {
   "cell_type": "markdown",
   "metadata": {},
   "source": [
    "# To Run the following scripts, call:"
   ]
  },
  {
   "cell_type": "markdown",
   "metadata": {},
   "source": [
    "# addSrcs, bsub_addSrcs_2FGL, 2FHL_runAddSrcs "
   ]
  },
  {
   "cell_type": "markdown",
   "metadata": {},
   "source": [
    "python ~/python_files/pyJam/fermi/addSrcs/bsub_addSrcs_2FHL.py ES 5.e4 3.16227766e6 SNR347.3-00.5 SNR263.9-03.3 SNR189.1+03.0 >& BsubLog.dat &"
   ]
  },
  {
   "cell_type": "markdown",
   "metadata": {},
   "source": [
    "# getAstroData"
   ]
  },
  {
   "cell_type": "markdown",
   "metadata": {},
   "source": [
    "**for P8, all hires IRFs, 1 source**\n",
    "\n",
    "There's  chance this is wrong?\n",
    "Maybe it's ok to get the data like this?\n",
    "but then if I want to do analysis I don;t need all the separate dirs (is the data it's getting any different?) because I'd want to do a summed analysis?\n",
    "python ~/python_files/pyJam/fermi/SNR_MC/getAstroData_bsub.py --rad 5 --emin 1.e4 --emax 4e6 --tmin 239557418.608944 --tmax 433816083.0 --evpass P8_P301_BASE --snrs SNR078.2+02.1 --singleFT2 True --p8IRFS allHiRes > & bsubLog.txt &\n",
    "\n",
    "**For P7REP, 55 nby SNR-MC (includes ones from recent but not most up to date 3FGL)**\n",
    "python ~/python_files/pyJam/fermi/SNR_MC/getAstroData_bsub.py --rad 15 --emin 30. --emax 1.e6 --snrs SNR005.4-01.2 SNR006.4-00.1 SNR008.7-00.1 SNR009.7-00.0 SNR011.2-00.3 SNR012.8-00.0 SNR013.3-01.3 SNR015.4+00.1 SNR016.8-01.1 SNR018.1-00.1 SNR023.3-00.3 SNR027.8+00.6 SNR028.6-00.1 SNR028.8+01.5 SNR032.8-00.1 SNR034.7-00.4 SNR035.6-00.4 SNR049.2-00.7 SNR054.4-00.3 SNR069.0+02.7 SNR073.9+00.9 SNR074.0-08.5 SNR078.2+02.1 SNR089.0+04.7 SNR106.3+02.7 SNR114.3+00.3 SNR116.5+01.1 SNR116.9+00.2 SNR119.5+10.2 SNR127.1+00.5 SNR132.7+01.3 SNR160.9+02.6 SNR166.0+04.3 SNR179.0+02.6 SNR180.0-01.7 SNR189.1+03.0 SNR205.5+00.5 SNR260.4-03.4 SNR263.9-03.3 SNR266.2-01.2 SNR284.3-01.8 SNR290.1-00.8 SNR291.0-00.1 SNR296.5+10.0 SNR309.2-00.6 SNR315.1+02.7 SNR326.3-01.8 SNR332.4-00.4 SNR335.2+00.1 SNR338.3-00.0 SNR343.0-06.0 SNR347.3-00.5 SNR350.1-00.3 SNR353.6-00.7 SNR359.1-00.5 --tmin 239557417 --tmax  434554225 --singleFT2 True > & bsubLog.txt &\n",
    "\n",
    "\n"
   ]
  },
  {
   "cell_type": "markdown",
   "metadata": {},
   "source": [
    "## runPointlike, modRunPointlike_bsub"
   ]
  },
  {
   "cell_type": "markdown",
   "metadata": {},
   "source": [
    "Lots of different options (all for 2FHL right now):\n",
    "For P8 data\n",
    "\n",
    "**Single irfs multiple SNR (superfile)**\n",
    "* python ~/python_files/pyJam/fermi/SNR_MC/modRunPointlike.py --rad 4.8 --thresh 2 --energies 5.e4 3.2e6 --emin 1.e5 --emax 1.e7 --axis 1e4 1e7 1e-3 2e-8 --tmodels None --snrs SNR189.1+03.0 SNR078.2+02.1 SNR347.3-00.5 SNR263.9-03.3 --roiSub jam --addSrcs True --addRad 4.8 --zmax 105 --IRFS P8_SOURCE_V5 --bpd 4 --cat None --ft1 /u/gl/majello/ki06/P8_50GeV/Filtered/ft1-p8_rockCut.fits --ft2 /u/gl/majello/ki06/P8_100GeV/ft2_allsky.fits --ltcube /u/gl/majello/ki06/P8_50GeV/ltcube_68m_Source.fits --queue xxl --freezeGal freeze --ESorPS ES --mapsz 0 >& BsubLogSNRs.dat &\n",
    "\n",
    "**Single irfs read from file**\n",
    "* python ~/python_files/pyJam/fermi/SNR_MC/modRunPointlike.py --rad 5 --thresh 2 --energies 5.e4 3.2e6 --emin 1.e5 --emax 1.e7 --axis 1e4 1e7 1e-13 2e-8 --tmodels None --readCoords /afs/slac/g/glast/groups/pulsar/snrcat1/addSrcs/2FHL/5degRoI/2FHL_HESS.txt --roiSub jam --addSrcs True --addRad 4.8 --zmax 105 --IRFS P8_SOURCE_V5 --bpd 4 --cat None --ft1 /u/gl/majello/ki06/P8_50GeV/Filtered/ft1-p8_rockCut.fits --ft2 /u/gl/majello/ki06/P8_100GeV/ft2_allsky.fits --ltcube /u/gl/majello/ki06/P8_50GeV/ltcube_68m_Source.fits --queue xxl --freezeGal freeze --ESorPS ES --mapsz 0 >& BsubLogHESS.dat &\n",
    " \n",
    "**All hires irfs single SNR**\n",
    "* python ~/python_files/pyJam/fermi/SNR_MC/modRunPointlike.py --rad 5 --thresh 2 --energies 5.e4 3.2e6 --emin 1.e5 --emax 1.e7 --axis 1e4 1e7 1e-3 2e-8 --tmodels None --snrs SNR078.2+02.1 --roiSub jam --addSrcs True --addRad 4.8 --zmax 100 --IRFS allHiRes --bpd 4 --cat 3FGL --ft1 /u/gl/majello/ki06/P8_50GeV/Filtered/ft1-p8_rockCut.fits --ft2 /u/gl/majello/ki06/P8_100GeV/ft2_allsky.fits --ltcube /u/gl/majello/ki06/P8_50GeV/ltcube_68m_Source.fits --queue xxl --freezeGal freeze --ESorPS ES --mapsz 0 >& BsubLogSNRs.dat &\n",
    "\n",
    "#2FHL runs\n",
    "**P8 2FHL galPlane: 5deg**\n",
    "* python ~/python_files/pyJam/fermi/SNR_MC/modRunPointlike.py --rad 5 --thresh 2 --energies 5.e4 3.5e6 --emin 1.e2 --emax 1.e7 --axis 1e4 1e7 1e-13 2e-8 --tmodels None --readCoords /afs/slac/g/glast/groups/pulsar/snrcat1/addSrcs/2FHL/5degRoI/galPlane/galPlane2FHL.txt --roiSub jam --addSrcs True --addRad 4.8 --zmax 105 --IRFS P8_SOURCE_V5 --bpd 4 --cat None --ft1 /u/gl/majello/ki06/P8_10GeV/Filtered/ft1-50GeV_p8_NOrockCut.fits --ft2 /u/gl/majello/ki06/P8_10GeV/P8_Oct14_10GeV-ft2-30s.fits --ltcube /u/gl/majello/ki06/P8_10GeV/ltcube_74m_Source_noRock_cut.fits --queue xxl --freezeGal freeze --ESorPS ES --mapsz 0 > & BsubLogGalPlane.dat\n",
    "\n",
    "**P8 2FHL galPlane: 10 deg RoI, 9.5 deg source add**\n",
    "* python ~/python_files/pyJam/fermi/SNR_MC/modRunPointlike.py --rad 10 --thresh 2 --energies 5.e4 3.5e6 --emin 1.e2 --emax 1.e7 --axis 1e4 1e7 1e-13 2e-8 --tmodels None --readCoords /afs/slac/g/glast/groups/pulsar/snrcat1/addSrcs/2FHL/5degRoI/galPlane/galPlane2FHL.txt --roiSub jam --addSrcs True --addRad 9.5 --zmax 105 --IRFS P8_SOURCE_V5 --bpd 4 --cat None --ft1 /u/gl/majello/ki06/P8_10GeV/Filtered/ft1-50GeV_p8_NOrockCut.fits --ft2 /u/gl/majello/ki06/P8_10GeV/P8_Oct14_10GeV-ft2-30s.fits --ltcube /u/gl/majello/ki06/P8_10GeV/ltcube_74m_Source_noRock_cut.fits --queue xxl --ESorPS ES --mapsz 0 --freezeGalNorm True --freezeGalInd True --maxSigma 6 > & BsubLogGalPlane.dat\n",
    "\n",
    "**P8 2FHL galPlane: 10 deg RoI, 9.5 deg source add FREE GALACTIC NORM, added maxSigma**\n",
    "* python ~/python_files/pyJam/fermi/SNR_MC/modRunPointlike.py --rad 10 --thresh 2 --energies 5.e4 3.5e6 --emin 1.e2 --emax 1.e7 --axis 1e4 1e7 1e-13 2e-8 --tmodels None --readCoords /afs/slac/g/glast/groups/pulsar/snrcat1/addSrcs/2FHL/5degRoI/galPlane/galPlane2FHL.txt --roiSub jam --addSrcs True --addRad 9.5 --zmax 105 --IRFS P8_SOURCE_V5 --bpd 4 --cat None --ft1 /u/gl/majello/ki06/P8_10GeV/Filtered/ft1-50GeV_p8_NOrockCut.fits --ft2 /u/gl/majello/ki06/P8_10GeV/P8_Oct14_10GeV-ft2-30s.fits --ltcube /u/gl/majello/ki06/P8_10GeV/ltcube_74m_Source_noRock_cut.fits --queue xxl --ESorPS ES --mapsz 0 --freezeGalNorm False --freezeGalInd True --maxSigma 6 > & BsubLogGalPlane.dat\n",
    "\n",
    "**P8 2FHL IC443, fit gal first: 5 deg RoI, 4.8 deg source add**\n",
    "* python ~/python_files/pyJam/fermi/SNR_MC/modRunPointlike.py --rad 5 --thresh 2 --energies 5.e4 3.5e6 --emin 1.e2 --emax 1.e7 --axis 1e4 1e7 1e-13 2e-8 --tmodels None --snrs SNR189.1+03.0 --roiSub jam --addSrcs True --addRad 4.8 --zmax 105 --IRFS P8_SOURCE_V5 --bpd 4 --cat None --ft1 /u/gl/majello/ki06/P8_10GeV/Filtered/ft1-50GeV_p8_NOrockCut.fits --ft2 /u/gl/majello/ki06/P8_10GeV/P8_Oct14_10GeV-ft2-30s.fits --ltcube /u/gl/majello/ki06/P8_10GeV/ltcube_74m_Source_noRock_cut.fits --queue xxl --freezeGal freeze --ESorPS ES --mapsz 0 > & BsubLogGalPlane.dat\n",
    "\n",
    "**2FHL run same as P8 2FHL galPlane: 10 deg RoI, 9.5 deg source add FREE GALACTIC NORM, added maxSigma, but add fitMeth = minuit, fix added sources if they're outside 5 deg**\n",
    "* python ~/python_files/pyJam/fermi/SNR_MC/modRunPointlike.py --rad 10 --thresh 2 --energies 5.e4 3.5e6 --emin 1.e2 --emax 1.e7 --axis 1e4 1e7 1e-13 2e-8 --tmodels None --readCoords /afs/slac/g/glast/groups/pulsar/snrcat1/addSrcs/2FHL/5degRoI/galPlane/galPlane2FHL.txt --roiSub jam --addSrcs True --addRad 9.5 --zmax 105 --IRFS P8_SOURCE_V5 --bpd 4 --cat None --ft1 /u/gl/majello/ki06/P8_10GeV/Filtered/ft1-50GeV_p8_NOrockCut.fits --ft2 /u/gl/majello/ki06/P8_10GeV/P8_Oct14_10GeV-ft2-30s.fits --ltcube /u/gl/majello/ki06/P8_10GeV/ltcube_74m_Source_noRock_cut.fits --queue xxl --ESorPS ES --mapsz 0 --freezeGalNorm False --freezeGalInd True --maxSigma 6 --fitMeth simplex > & BsubLogGalPlane.dat &\n",
    "\n",
    "**2FHL run same as P8 2FHL galPlane: 10 deg RoI, 9.5 deg source add FREE GALACTIC NORM, added maxSigma, but add fitMeth = simplex, don't fix any sources THIS IS MY RUN THAT WORKS BEST AND GAVE ALB TEMPLATES FOR 2FHL**\n",
    "* python ~/python_files/pyJam/fermi/SNR_MC/modRunPointlike.py --rad 10 --thresh 2 --energies 5.e4 3.5e6 --emin 1.e2 --emax 1.e7 --axis 1e4 1e7 1e-13 2e-8 --tmodels None --readCoords /afs/slac/g/glast/groups/pulsar/snrcat1/addSrcs/2FHL/5degRoI/galPlane/galPlane2FHL.txt --roiSub jam --addSrcs True --addRad 9.5 --zmax 105 --IRFS P8_SOURCE_V5 --bpd 4 --cat None --ft1 /u/gl/majello/ki06/P8_10GeV/Filtered/ft1-50GeV_p8_NOrockCut.fits --ft2 /u/gl/majello/ki06/P8_10GeV/P8_Oct14_10GeV-ft2-30s.fits --ltcube /u/gl/majello/ki06/P8_10GeV/ltcube_74m_Source_noRock_cut.fits --queue xxl --ESorPS ES --mapsz 0 --freezeGalNorm False --freezeGalInd True --maxSigma 6 --fitMeth simplex --Rfree 0 > & BsubLogGalPlane.dat &\n",
    "\n",
    "**2FHL run same as P8 2FHL galPlane: 10 deg RoI, 9.5 deg source add FREE GALACTIC NORM, added maxSigma, but add fitMeth = simplex, don't fix any sources BUT only failed from txt file**\n",
    "* python ~/python_files/pyJam/fermi/SNR_MC/modRunPointlike.py --rad 10 --thresh 2 --energies 5.e4 3.5e6 --emin 1.e2 --emax 1.e7 --axis 1e4 1e7 1e-13 2e-8 --tmodels None --readCoords /afs/slac/g/glast/groups/pulsar/snrcat1/addSrcs/2FHL/10degRoI/galPlane_freeGalNorm_maxSig6_noGrad_allFree/galPlane2FHL_failed.txt --roiSub jam --addSrcs True --addRad 9.5 --zmax 105 --IRFS P8_SOURCE_V5 --bpd 4 --cat None --ft1 /u/gl/majello/ki06/P8_10GeV/Filtered/ft1-50GeV_p8_NOrockCut.fits --ft2 /u/gl/majello/ki06/P8_10GeV/P8_Oct14_10GeV-ft2-30s.fits --ltcube /u/gl/majello/ki06/P8_10GeV/ltcube_74m_Source_noRock_cut.fits --queue xxl --ESorPS ES --mapsz 0 --freezeGalNorm False --freezeGalInd True --maxSigma 6 --fitMeth simplex --Rfree 0 > & BsubLogGalPlane.dat &\n",
    "\n",
    "**maxNorm15: 2FHL run same as above (above failed txt) but with modified value for maxNorm for fitting dif**\n",
    "* python ~/python_files/pyJam/fermi/SNR_MC/modRunPointlike.py --rad 10 --thresh 2 --energies 5.e4 3.5e6 --emin 1.e2 --emax 1.e7 --axis 1e4 1e7 1e-13 2e-8 --tmodels None --readCoords /afs/slac/g/glast/groups/pulsar/snrcat1/addSrcs/2FHL/5degRoI/galPlane/galPlane2FHL.txt --roiSub jam --addSrcs True --addRad 9.5 --zmax 105 --IRFS P8_SOURCE_V5 --bpd 4 --cat None --ft1 /u/gl/majello/ki06/P8_10GeV/Filtered/ft1-50GeV_p8_NOrockCut.fits --ft2 /u/gl/majello/ki06/P8_10GeV/P8_Oct14_10GeV-ft2-30s.fits --ltcube /u/gl/majello/ki06/P8_10GeV/ltcube_74m_Source_noRock_cut.fits --queue xxl --ESorPS ES --mapsz 0 --freezeGalNorm False --freezeGalInd True --maxSigma 6 --fitMeth simplex --Rfree 0 --maxNorm 1.5 > & BsubLogGalPlane.dat &\n",
    "\n",
    "**maxNorm15 failed: 2FHL run same as above but using failed txt, maxNorm**\n",
    "* python ~/python_files/pyJam/fermi/SNR_MC/modRunPointlike.py --rad 10 --thresh 2 --energies 5.e4 3.5e6 --emin 1.e2 --emax 1.e7 --axis 1e4 1e7 1e-13 2e-8 --tmodels None --readCoords /afs/slac/g/glast/groups/pulsar/snrcat1/addSrcs/2FHL/10degRoI/galPlane_freeGalNorm_maxSig6_noGrad_allFree_maxNorm15/galPlane2FHL_failed.txt --roiSub jam --addSrcs True --addRad 9.5 --zmax 105 --IRFS P8_SOURCE_V5 --bpd 4 --cat None --ft1 /u/gl/majello/ki06/P8_10GeV/Filtered/ft1-50GeV_p8_NOrockCut.fits --ft2 /u/gl/majello/ki06/P8_10GeV/P8_Oct14_10GeV-ft2-30s.fits --ltcube /u/gl/majello/ki06/P8_10GeV/ltcube_74m_Source_noRock_cut.fits --queue xxl --ESorPS ES --mapsz 0 --freezeGalNorm False --freezeGalInd True --maxSigma 6 --fitMeth simplex --Rfree 0 --maxNorm 1.5 > & BsubLogGalPlane.dat &\n",
    "\n",
    "**freeGalInd failed: 2FHL run same as above but maxNorm is 3 (what it was initially) and try fitting galIndex as well**\n",
    "* python ~/python_files/pyJam/fermi/SNR_MC/modRunPointlike.py --rad 10 --thresh 2 --energies 5.e4 3.5e6 --emin 1.e2 --emax 1.e7 --axis 1e4 1e7 1e-13 2e-8 --tmodels None --readCoords /afs/slac/g/glast/groups/pulsar/snrcat1/addSrcs/2FHL/5degRoI/galPlane/galPlane2FHL.txt --roiSub jam --addSrcs True --addRad 9.5 --zmax 105 --IRFS P8_SOURCE_V5 --bpd 4 --cat None --ft1 /u/gl/majello/ki06/P8_10GeV/Filtered/ft1-50GeV_p8_NOrockCut.fits --ft2 /u/gl/majello/ki06/P8_10GeV/P8_Oct14_10GeV-ft2-30s.fits --ltcube /u/gl/majello/ki06/P8_10GeV/ltcube_74m_Source_noRock_cut.fits --queue xxl --ESorPS ES --mapsz 0 --freezeGalNorm False --freezeGalInd False --maxSigma 6 --fitMeth simplex --Rfree 0 > & BsubLogGalPlane.dat &\n",
    "\n",
    "**freeGalINd failed: 2FHL same as above, galIndex but with failed txt**\n",
    "* python ~/python_files/pyJam/fermi/SNR_MC/modRunPointlike.py --rad 10 --thresh 2 --energies 5.e4 3.5e6 --emin 1.e2 --emax 1.e7 --axis 1e4 1e7 1e-13 2e-8 --tmodels None --readCoords /afs/slac/g/glast/groups/pulsar/snrcat1/addSrcs/2FHL/10degRoI/galPlane_freeGalNorm_maxSig6_noGrad_allFree_freeGalInd/galPlane2FHL_failed.txt --roiSub jam --addSrcs True --addRad 9.5 --zmax 105 --IRFS P8_SOURCE_V5 --bpd 4 --cat None --ft1 /u/gl/majello/ki06/P8_10GeV/Filtered/ft1-50GeV_p8_NOrockCut.fits --ft2 /u/gl/majello/ki06/P8_10GeV/P8_Oct14_10GeV-ft2-30s.fits --ltcube /u/gl/majello/ki06/P8_10GeV/ltcube_74m_Source_noRock_cut.fits --queue xxl --ESorPS ES --mapsz 0 --freezeGalNorm False --freezeGalInd False --maxSigma 6 --fitMeth simplex --Rfree 0 > & BsubLogGalPlane.dat &\n",
    "\n",
    "# > 10 gev runs\n",
    "** > 10 gev run, 10 deg RoI, 9.5 deg source add free norm, added maxSigma, fitMeth = simplex, start with fixing 3FGL ID'd within 5 deg, then fix all, then fit within 5deg of center of new ES, read same coords for RoI centers across the planex, zmax = 105 freeNearES = 5 since I'm fixing params first then freeing near ES**\n",
    "* python ~/python_files/pyJam/fermi/SNR_MC/modRunPointlike.py --rad 10 --thresh 2 --energies 1.e4 1.e6 --emin 1.e2 --emax 1.e7 --axis 1e4 1e7 1e-13 2e-8 --tmodels None --readCoords /afs/slac/g/glast/groups/pulsar/snrcat1/addSrcs/2FHL/5degRoI/galPlane/galPlane2FHL.txt --roiSub jam --addSrcs True --addRad 9.5 --zmax 105 --IRFS P8_SOURCE_V5 --bpd 4 --cat 3FGL --ft1 /afs/slac/g/glast/users/lemoine/Extended/ft1_10gev_74m_noRockCut.fits --ft2 /afs/slac/g/glast/groups/catalog/P8_P302/ft2_6years_reduced.fits --ltcube /afs/slac/g/glast/groups/catalog/P8_P302/ltcube_6years_zmax105.fits --queue xxl --ESorPS ES --mapsz 0 --freezeGalNorm False --freezeGalInd True --maxSigma 6 --fitMeth simplex --Rfree 5 --removeFGL True --use2PC True --fixAll True --freeNearES 5 > & BsubLogGalPlane.dat & \n",
    "\n",
    "**Same as above but with the 18 that failed**\n",
    "* python ~/python_files/pyJam/fermi/SNR_MC/modRunPointlike.py --rad 10 --thresh 2 --energies 1.e4 1.e6 --emin 1.e2 --emax 1.e7 --axis 1e4 1e7 1e-13 2e-8 --tmodels None --readCoords /afs/slac/g/glast/users/jmcohen/10gev/galPlane2FHL_failed.txt --roiSub jam --addSrcs True --addRad 9.5 --zmax 105 --IRFS P8_SOURCE_V5 --bpd 4 --cat 3FGL --ft1 /afs/slac/g/glast/users/lemoine/Extended/ft1_10gev_74m_noRockCut.fits --ft2 /afs/slac/g/glast/groups/catalog/P8_P302/ft2_6years_reduced.fits --ltcube /afs/slac/g/glast/groups/catalog/P8_P302/ltcube_6years_zmax105.fits --queue xxl --ESorPS ES --mapsz 0 --freezeGalNorm False --freezeGalInd True --maxSigma 6 --fitMeth simplex --Rfree 5 --removeFGL True --use2PC True --fixAll True --freeNearES 5 > & BsubLogGalPlane.dat &\n",
    "\n",
    "**Same as above but with iso and gal ind free, changed ft1 to have _all.fits, also switched to ft2_7years_reduced.fits, this will stick with the same time range as the ft1 file, also changed queue to 7200**\n",
    "* python ~/python_files/pyJam/fermi/SNR_MC/modRunPointlike.py --rad 10 --thresh 2 --energies 1.e4 1.e6 --emin 1.e2 --emax 1.e7 --axis 1e4 1e7 1e-13 2e-8 --tmodels None --readCoords /afs/slac/g/glast/groups/pulsar/snrcat1/addSrcs/2FHL/5degRoI/galPlane/galPlane2FHL.txt --roiSub jam --addSrcs True --addRad 9.5 --zmax 105 --IRFS P8_SOURCE_V5 --bpd 4 --cat 3FGL --ft1 /afs/slac/g/glast/users/lemoine/Extended/ft1_10gev_74m_noRockCut_all.fits --ft2 /afs/slac/g/glast/groups/catalog/P8_P302/ft2_7years_reduced.fits --ltcube /afs/slac/g/glast/groups/catalog/P8_P302/ltcube_7years_zmax105.fits --queue 7200 --ESorPS ES --mapsz 0 --freezeGalNorm False --freezeGalInd False --freezeEg False --maxSigma 6 --fitMeth simplex --Rfree 5 --removeFGL True --use2PC True --fixAll True --freeNearES 5 > & BsubLogGalPlane.dat &\n",
    "\n",
    "**Same as above, but trying to rerun the failed (term_limit) sources, added --loadROI True and changed readCoord**\n",
    "* python ~/python_files/pyJam/fermi/SNR_MC/modRunPointlike.py --rad 10 --thresh 2 --energies 1.e4 1.e6 --emin 1.e2 --emax 1.e7 --axis 1e4 1e7 1e-13 2e-8 --tmodels None --readCoords testReload_l5_l100_l295.txt --roiSub jam --addSrcs True --addRad 9.5 --zmax 105 --IRFS P8_SOURCE_V5 --bpd 4 --cat 3FGL --ft1 /afs/slac/g/glast/users/lemoine/Extended/ft1_10gev_74m_noRockCut_all.fits --ft2 /afs/slac/g/glast/groups/catalog/P8_P302/ft2_7years_reduced.fits --ltcube /afs/slac/g/glast/groups/catalog/P8_P302/ltcube_7years_zmax105.fits --queue 7200 --ESorPS ES --mapsz 0 --freezeGalNorm False --freezeGalInd False --freezeEg False --maxSigma 6 --fitMeth simplex --Rfree 5 --removeFGL True --use2PC True --fixAll True --freeNearES 5 --loadROI True > & BsubLogGalPlane.dat &\n",
    "\n",
    "**Try P8 PSF3 for just RX J1713**\n",
    "* python ~/python_files/pyJam/fermi/SNR_MC/modRunPointlike.py --rad 10 --thresh 2 --energies 1.e4 1.e6 --emin 1.e2 --emax 1.e7 --axis 1e4 1e7 1e-13 2e-8 --tmodels None --readCoords /afs/slac/g/glast/users/jmcohen/10gev/rxjTest/galPlane2FHL_rxj_P8_PSF3_test.txt --roiSub jam --addSrcs True --addRad 9.5 --zmax 105 --IRFS P8_SOURCE_V5_PSF3 --bpd 4 --cat 3FGL --ft1 /afs/slac/g/glast/users/lemoine/Extended/ft1_10gev_74m_noRockCut_psf3.fits --ft2 /afs/slac/g/glast/groups/catalog/P8_P302/ft2_6years_reduced.fits --ltcube /afs/slac/g/glast/groups/catalog/P8_P302/ltcube_6years_zmax105.fits --queue xxl --ESorPS ES --mapsz 0 --freezeGalNorm False --freezeGalInd True --maxSigma 6 --fitMeth simplex --Rfree 5 --removeFGL True --use2PC True --fixAll True --freeNearES 5 > & BsubLogGalPlane_rxj.dat &\n",
    "\n",
    "\n",
    "\n",
    "# SNR-MC: 74M P7REP, PS: since I've made all these changes to fix sources, CHANGED idle to --queue 7200, --addSrcs from 3 to 50 to use 50pc rad. add RfreeMax so it's smaller than 5?\n",
    "\n",
    "* python ~/python_files/pyJam/fermi/SNR_MC/modRunPointlike.py --rad 10 --thresh 3 --energies 1.e3 3.16228e5 --emin 1.e2 --emax 1.e6 --tmodels SBPL --snrs SNR006.4-00.1 SNR009.7-00.0 SNR011.2-00.3 SNR012.8-00.0 SNR013.3-01.3 SNR015.4+00.1 SNR016.8-01.1 SNR018.1-00.1 SNR027.8+00.6 SNR028.6-00.1 SNR028.8+01.5 SNR032.8-00.1 SNR034.7-00.4 SNR035.6-00.4 SNR054.4-00.3 SNR069.0+02.7 SNR073.9+00.9 SNR074.0-08.5 SNR078.2+02.1 SNR089.0+04.7 SNR106.3+02.7 SNR114.3+00.3 SNR116.5+01.1 SNR116.9+00.2 SNR119.5+10.2 SNR127.1+00.5 SNR132.7+01.3 SNR160.9+02.6 SNR180.0-01.7 SNR189.1+03.0 SNR205.5+00.5 SNR260.4-03.4 SNR263.9-03.3 SNR266.2-01.2 SNR284.3-01.8  SNR296.5+10.0 SNR309.2-00.6 SNR315.1+02.7 SNR332.4-00.4 SNR335.2+00.1 SNR343.0-06.0 SNR347.3-00.5 SNR350.1-00.3 SNR359.1-00.5 SNR070.5+01.9 SNR107.5-01.5 SNR152.4-02.1 SNR190.9-02.2 SNR327.4+00.4 --roiSub jam --addSrcs True --addRad 50 --getAstro /afs/slac/g/glast/users/jmcohen/P7rep_091014/ --zmax 100 --IRFS P7REP_SOURCE_V15 --bpd 4 --cat 3FGL --queue 7200 --ESorPS PS --mapsz 0 --freezeGalNorm False --freezeGalInd False --maxSigma 6 --fitMeth simplex --Rfree 5 --removeFGL False --use2PC True --justAddSrcs False --fixAll False --freeNearES 5 > & BsubLog_SNRMC_P7REP74M_PS.dat & \n",
    "\n",
    "** TEST RUN: 1 SNR, 2 bpd, 1-10gev --rad 7 --thresh 2 --addRad 2 **\n",
    "\n",
    "* python ~/python_files/pyJam/fermi/SNR_MC/modRunPointlike.py --rad 7 --thresh 2 --energies 1.e3 3.16228e5 --emin 1.e2 --emax 1.e6 --tmodels SBPL --snrs SNR006.4-00.1 --roiSub jam --addSrcs True --addRad 2 --getAstro /afs/slac/g/glast/users/jmcohen/P7rep_091014/ --zmax 100 --IRFS P7REP_SOURCE_V15 --bpd 2 --cat 3FGL --queue idle --ESorPS PS --mapsz 0 --freezeGalNorm False --freezeGalInd False --maxSigma 6 --fitMeth simplex --Rfree 5 --removeFGL False --use2PC True --justAddSrcs False --fixAll False --freeNearES 5 > & BsubLog_SNRMC_P7REP74M_PS.dat & \n",
    "\n",
    "**Using Jean;s P8R2 74M data. using P8_SOURCE_V5 for now since I can't get pointlike to run for P8R2, not e zmax =105**\n",
    "**for all source events**\n",
    "\n",
    "* python ~/python_files/pyJam/fermi/SNR_MC/modRunPointlike.py --rad 10 --thresh 3 --energies 1.e3 3.16228e5 --emin 1.e2 --emax 1.e6 --tmodels SBPL --snrs SNR006.4-00.1 SNR009.7-00.0 SNR011.2-00.3 SNR012.8-00.0 SNR013.3-01.3 SNR015.4+00.1 SNR016.8-01.1 SNR018.1-00.1 SNR027.8+00.6 SNR028.6-00.1 SNR028.8+01.5 SNR032.8-00.1 SNR034.7-00.4 SNR035.6-00.4 SNR054.4-00.3 SNR069.0+02.7 SNR073.9+00.9 SNR074.0-08.5 SNR078.2+02.1 SNR089.0+04.7 SNR106.3+02.7 SNR114.3+00.3 SNR116.5+01.1 SNR116.9+00.2 SNR119.5+10.2 SNR127.1+00.5 SNR132.7+01.3 SNR160.9+02.6 SNR180.0-01.7 SNR189.1+03.0 SNR205.5+00.5 SNR260.4-03.4 SNR263.9-03.3 SNR266.2-01.2 SNR284.3-01.8  SNR296.5+10.0 SNR309.2-00.6 SNR315.1+02.7 SNR332.4-00.4 SNR335.2+00.1 SNR343.0-06.0 SNR347.3-00.5 SNR350.1-00.3 SNR359.1-00.5 SNR070.5+01.9 SNR107.5-01.5 SNR152.4-02.1 SNR190.9-02.2 SNR327.4+00.4 --roiSub jam --addSrcs True --addRad 3 --ft1 /afs/slac/g/glast/users/jmcohen/diffusionStudy/P8_74M/ft1_1gev_74m_noRockCut_all.fits --ft2 /afs/slac/g/glast/groups/catalog/P8_P302/ft2_6years_reduced.fits --ltcube /afs/slac/g/glast/groups/catalog/P8_P302/ltcube_6years_zmax105.fits --zmax 105 --IRFS P8_SOURCE_V5 --bpd 4 --cat 3FGL --queue idle --ESorPS PS --mapsz 0 --freezeGalNorm False --freezeGalInd False --maxSigma 6 --fitMeth simplex --Rfree 5 --removeFGL False --use2PC True --justAddSrcs False --fixAll False --freeNearES 5 > & BsubLog_SNRMC_P8_74M_PS.dat &\n",
    "\n",
    "**for PSF3**\n",
    "\n",
    "* python ~/python_files/pyJam/fermi/SNR_MC/modRunPointlike.py --rad 10 --thresh 3 --energies 0 --emin 1.e2 --emax 1.e6 --tmodels SBPL --snrs SNR006.4-00.1 SNR009.7-00.0 SNR011.2-00.3 SNR012.8-00.0 SNR013.3-01.3 SNR015.4+00.1 SNR016.8-01.1 SNR018.1-00.1 SNR027.8+00.6 SNR028.6-00.1 SNR028.8+01.5 SNR032.8-00.1 SNR034.7-00.4 SNR035.6-00.4 SNR054.4-00.3 SNR069.0+02.7 SNR073.9+00.9 SNR074.0-08.5 SNR078.2+02.1 SNR089.0+04.7 SNR106.3+02.7 SNR114.3+00.3 SNR116.5+01.1 SNR116.9+00.2 SNR119.5+10.2 SNR127.1+00.5 SNR132.7+01.3 SNR160.9+02.6 SNR180.0-01.7 SNR189.1+03.0 SNR205.5+00.5 SNR260.4-03.4 SNR263.9-03.3 SNR266.2-01.2 SNR284.3-01.8  SNR296.5+10.0 SNR309.2-00.6 SNR315.1+02.7 SNR332.4-00.4 SNR335.2+00.1 SNR343.0-06.0 SNR347.3-00.5 SNR350.1-00.3 SNR359.1-00.5 SNR070.5+01.9 SNR107.5-01.5 SNR152.4-02.1 SNR190.9-02.2 SNR327.4+00.4 --roiSub jam --addSrcs True --addRad 3 --ft1 /afs/slac/g/glast/users/jmcohen/diffusionStudy/P8_74M/ft1_1gev_74m_noRockCut_psf3.fits --ft2 /afs/slac/g/glast/groups/catalog/P8_P302/ft2_6years_reduced.fits --ltcube /afs/slac/g/glast/groups/catalog/P8_P302/ltcube_6years_zmax105.fits --zmax 105 --IRFS P8_SOURCE_V5_PSF3 --bpd 4 --cat 3FGL --queue idle --ESorPS PS --mapsz 0 --freezeGalNorm False --freezeGalInd False --maxSigma 6 --fitMeth simplex --Rfree 5 --removeFGL False --use2PC True --justAddSrcs False --fixAll False --freeNearES 5 > & BsubLog_SNRMC_P8_PSF3_74M_PS.dat &\n"
   ]
  }
 ],
 "metadata": {
  "kernelspec": {
   "display_name": "Python 2",
   "language": "python",
   "name": "python2"
  },
  "language_info": {
   "codemirror_mode": {
    "name": "ipython",
    "version": 2
   },
   "file_extension": ".py",
   "mimetype": "text/x-python",
   "name": "python",
   "nbconvert_exporter": "python",
   "pygments_lexer": "ipython2",
   "version": "2.7.10"
  }
 },
 "nbformat": 4,
 "nbformat_minor": 0
}
